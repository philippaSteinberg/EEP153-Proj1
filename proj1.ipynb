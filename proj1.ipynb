{
 "cells": [
  {
   "cell_type": "code",
   "execution_count": 24,
   "id": "9fb5122a",
   "metadata": {},
   "outputs": [
    {
     "name": "stdout",
     "output_type": "stream",
     "text": [
      "Requirement already satisfied: wbdata in /opt/conda/lib/python3.9/site-packages (0.3.0)\r\n",
      "Requirement already satisfied: appdirs<2.0,>=1.4 in /opt/conda/lib/python3.9/site-packages (from wbdata) (1.4.4)\r\n",
      "Requirement already satisfied: tabulate>=0.8.5 in /opt/conda/lib/python3.9/site-packages (from wbdata) (0.9.0)\r\n",
      "Requirement already satisfied: decorator>=4.0 in /opt/conda/lib/python3.9/site-packages (from wbdata) (5.0.9)\r\n",
      "Requirement already satisfied: requests>=2.0 in /opt/conda/lib/python3.9/site-packages (from wbdata) (2.26.0)\r\n",
      "Requirement already satisfied: certifi>=2017.4.17 in /opt/conda/lib/python3.9/site-packages (from requests>=2.0->wbdata) (2021.10.8)\r\n",
      "Requirement already satisfied: urllib3<1.27,>=1.21.1 in /opt/conda/lib/python3.9/site-packages (from requests>=2.0->wbdata) (1.26.7)\r\n",
      "Requirement already satisfied: idna<4,>=2.5 in /opt/conda/lib/python3.9/site-packages (from requests>=2.0->wbdata) (3.1)\r\n",
      "Requirement already satisfied: charset-normalizer~=2.0.0 in /opt/conda/lib/python3.9/site-packages (from requests>=2.0->wbdata) (2.0.0)\r\n"
     ]
    }
   ],
   "source": [
    "## If import fails with \"ModuleNotFoundError\"\n",
    "## uncomment below & try again\n",
    "!pip install wbdata"
   ]
  },
  {
   "cell_type": "code",
   "execution_count": 25,
   "id": "a5f36407",
   "metadata": {},
   "outputs": [],
   "source": [
    "# import packages\n",
    "import pandas as pd\n",
    "import numpy as np\n",
    "import wbdata"
   ]
  },
  {
   "cell_type": "code",
   "execution_count": 26,
   "id": "be98a118",
   "metadata": {},
   "outputs": [],
   "source": [
    "## Population stats\n",
    "\n",
    "def population(year,sex,age_range,place):\n",
    "    age_ranges = []\n",
    "    for i in range(0,80,5):\n",
    "        if i >= age_range[0] and i + 4 <= age_range[1]:\n",
    "            age_ranges.append(f\"{i:02d}\"+f\"{i+4:02d}\")\n",
    "        if (i <= age_range[0] <= i + 4) or (i <= age_range[1] <= i + 4):\n",
    "            age_ranges.append(f\"{i:02d}\"+f\"{i+4:02d}\")\n",
    "    if age_range[1] >= 80:\n",
    "        age_ranges.append(\"80UP\")\n",
    "    if sex == 'Male':\n",
    "        variables = {\"SP.POP.\"+age_range+\".MA\":\"Males \"+age_range for age_range in age_ranges}\n",
    "    if sex == 'Female':\n",
    "        variables = {\"SP.POP.\"+age_range+\".FE\":\"Females \"+age_range for age_range in age_ranges}\n",
    "    df = wbdata.get_dataframe(variables,country=\"WLD\")\n",
    "    population_sum = sum(df.filter(items = [str(year)], axis=0).iloc[0])\n",
    "    print('In',year,', there are',population_sum,sex,'aged',age_range[0],'to',age_range[1],'living in',place)\n",
    "    return population_sum"
   ]
  },
  {
   "cell_type": "code",
   "execution_count": 27,
   "id": "af029ce5",
   "metadata": {},
   "outputs": [],
   "source": [
    "## Population df\n",
    "\n",
    "def population_df(region):\n",
    "    \"\"\"Takes in 3 letter country code and returns a pandas DataFrame indexed by region and date, \n",
    "    with columns giving counts of people in different age-sex groups.\"\"\"\n",
    "    \n",
    "    # Get all the indicator labels by age-sex bin and store in variable_labels dict\n",
    "    variable_labels = {}\n",
    "    for i in range(0, 80, 5):\n",
    "        m_age = {\"SP.POP.\" + f\"{i:02d}\" + f\"{i+4:02d}\" + \".MA\": \"M:\" + f\"{i:02d}\" + \"-\" + f\"{i+4:02d}\"}\n",
    "        f_age = {\"SP.POP.\" + f\"{i:02d}\" + f\"{i+4:02d}\" + \".FE\": \"F:\" + f\"{i:02d}\" + \"-\" + f\"{i+4:02d}\"}\n",
    "        variable_labels.update(m_age)\n",
    "        variable_labels.update(f_age)\n",
    "    variable_labels.update({\"SP.POP.\" + \"80UP\" + \".MA\": \"M:\" + \"80-UP\"})\n",
    "    variable_labels.update({\"SP.POP.\" + \"80UP\" + \".FE\": \"F:\" + \"80-UP\"})\n",
    "    \n",
    "    # Get population data for region input\n",
    "    df = wbdata.get_dataframe(variable_labels, country = region)\n",
    "    \n",
    "    # Format DF and indices\n",
    "    df.reset_index(inplace = True)\n",
    "    df[\"Region\"] = region\n",
    "    df[\"date\"] = df[\"date\"]\n",
    "    df.set_index([\"Region\", \"date\"], inplace = True)\n",
    "    return df"
   ]
  },
  {
   "cell_type": "code",
   "execution_count": 28,
   "id": "8b4cd8b0",
   "metadata": {},
   "outputs": [
    {
     "data": {
      "text/html": [
       "<div>\n",
       "<style scoped>\n",
       "    .dataframe tbody tr th:only-of-type {\n",
       "        vertical-align: middle;\n",
       "    }\n",
       "\n",
       "    .dataframe tbody tr th {\n",
       "        vertical-align: top;\n",
       "    }\n",
       "\n",
       "    .dataframe thead th {\n",
       "        text-align: right;\n",
       "    }\n",
       "</style>\n",
       "<table border=\"1\" class=\"dataframe\">\n",
       "  <thead>\n",
       "    <tr style=\"text-align: right;\">\n",
       "      <th></th>\n",
       "      <th></th>\n",
       "      <th>M:00-04</th>\n",
       "      <th>F:00-04</th>\n",
       "      <th>M:05-09</th>\n",
       "      <th>F:05-09</th>\n",
       "      <th>M:10-14</th>\n",
       "      <th>F:10-14</th>\n",
       "      <th>M:15-19</th>\n",
       "      <th>F:15-19</th>\n",
       "      <th>M:20-24</th>\n",
       "      <th>F:20-24</th>\n",
       "      <th>...</th>\n",
       "      <th>M:60-64</th>\n",
       "      <th>F:60-64</th>\n",
       "      <th>M:65-69</th>\n",
       "      <th>F:65-69</th>\n",
       "      <th>M:70-74</th>\n",
       "      <th>F:70-74</th>\n",
       "      <th>M:75-79</th>\n",
       "      <th>F:75-79</th>\n",
       "      <th>M:80-UP</th>\n",
       "      <th>F:80-UP</th>\n",
       "    </tr>\n",
       "    <tr>\n",
       "      <th>Region</th>\n",
       "      <th>date</th>\n",
       "      <th></th>\n",
       "      <th></th>\n",
       "      <th></th>\n",
       "      <th></th>\n",
       "      <th></th>\n",
       "      <th></th>\n",
       "      <th></th>\n",
       "      <th></th>\n",
       "      <th></th>\n",
       "      <th></th>\n",
       "      <th></th>\n",
       "      <th></th>\n",
       "      <th></th>\n",
       "      <th></th>\n",
       "      <th></th>\n",
       "      <th></th>\n",
       "      <th></th>\n",
       "      <th></th>\n",
       "      <th></th>\n",
       "      <th></th>\n",
       "      <th></th>\n",
       "    </tr>\n",
       "  </thead>\n",
       "  <tbody>\n",
       "    <tr>\n",
       "      <th rowspan=\"11\" valign=\"top\">WLD</th>\n",
       "      <th>2021</th>\n",
       "      <td>344650023.0</td>\n",
       "      <td>325642464.0</td>\n",
       "      <td>351823148.0</td>\n",
       "      <td>330431921.0</td>\n",
       "      <td>340134768.0</td>\n",
       "      <td>318493196.0</td>\n",
       "      <td>321211465.0</td>\n",
       "      <td>301115793.0</td>\n",
       "      <td>309096185.0</td>\n",
       "      <td>290347797.0</td>\n",
       "      <td>...</td>\n",
       "      <td>154828871.0</td>\n",
       "      <td>165954976.0</td>\n",
       "      <td>129373392.0</td>\n",
       "      <td>145660097.0</td>\n",
       "      <td>91921639.0</td>\n",
       "      <td>109247654.0</td>\n",
       "      <td>56383161.0</td>\n",
       "      <td>71828549.0</td>\n",
       "      <td>58371269.0</td>\n",
       "      <td>95845624.0</td>\n",
       "    </tr>\n",
       "    <tr>\n",
       "      <th>2020</th>\n",
       "      <td>348843527.0</td>\n",
       "      <td>329071642.0</td>\n",
       "      <td>350861843.0</td>\n",
       "      <td>329225029.0</td>\n",
       "      <td>336694403.0</td>\n",
       "      <td>315221758.0</td>\n",
       "      <td>319186586.0</td>\n",
       "      <td>299112617.0</td>\n",
       "      <td>307711749.0</td>\n",
       "      <td>289115754.0</td>\n",
       "      <td>...</td>\n",
       "      <td>154455368.0</td>\n",
       "      <td>165545454.0</td>\n",
       "      <td>126216520.0</td>\n",
       "      <td>141973645.0</td>\n",
       "      <td>87919280.0</td>\n",
       "      <td>103935445.0</td>\n",
       "      <td>55253441.0</td>\n",
       "      <td>70462837.0</td>\n",
       "      <td>57363155.0</td>\n",
       "      <td>94014398.0</td>\n",
       "    </tr>\n",
       "    <tr>\n",
       "      <th>2019</th>\n",
       "      <td>351934193.0</td>\n",
       "      <td>331507104.0</td>\n",
       "      <td>349385852.0</td>\n",
       "      <td>327560200.0</td>\n",
       "      <td>332876020.0</td>\n",
       "      <td>311628516.0</td>\n",
       "      <td>317132294.0</td>\n",
       "      <td>297053915.0</td>\n",
       "      <td>306772989.0</td>\n",
       "      <td>288370783.0</td>\n",
       "      <td>...</td>\n",
       "      <td>153577832.0</td>\n",
       "      <td>164724422.0</td>\n",
       "      <td>122089581.0</td>\n",
       "      <td>137228598.0</td>\n",
       "      <td>83320876.0</td>\n",
       "      <td>98120908.0</td>\n",
       "      <td>54369418.0</td>\n",
       "      <td>69603886.0</td>\n",
       "      <td>55792406.0</td>\n",
       "      <td>91536492.0</td>\n",
       "    </tr>\n",
       "    <tr>\n",
       "      <th>2018</th>\n",
       "      <td>354088174.0</td>\n",
       "      <td>333098585.0</td>\n",
       "      <td>347389724.0</td>\n",
       "      <td>325470037.0</td>\n",
       "      <td>329029796.0</td>\n",
       "      <td>308035159.0</td>\n",
       "      <td>315050425.0</td>\n",
       "      <td>295004074.0</td>\n",
       "      <td>306524173.0</td>\n",
       "      <td>288393154.0</td>\n",
       "      <td>...</td>\n",
       "      <td>151598168.0</td>\n",
       "      <td>162791878.0</td>\n",
       "      <td>117713443.0</td>\n",
       "      <td>132182084.0</td>\n",
       "      <td>79116689.0</td>\n",
       "      <td>92955177.0</td>\n",
       "      <td>53385227.0</td>\n",
       "      <td>68827619.0</td>\n",
       "      <td>53954172.0</td>\n",
       "      <td>88876981.0</td>\n",
       "    </tr>\n",
       "    <tr>\n",
       "      <th>2017</th>\n",
       "      <td>355156429.0</td>\n",
       "      <td>333723909.0</td>\n",
       "      <td>344546700.0</td>\n",
       "      <td>322664475.0</td>\n",
       "      <td>325497715.0</td>\n",
       "      <td>304742832.0</td>\n",
       "      <td>313205095.0</td>\n",
       "      <td>293243362.0</td>\n",
       "      <td>306617594.0</td>\n",
       "      <td>288853402.0</td>\n",
       "      <td>...</td>\n",
       "      <td>148260664.0</td>\n",
       "      <td>159421927.0</td>\n",
       "      <td>113124371.0</td>\n",
       "      <td>126840509.0</td>\n",
       "      <td>75382806.0</td>\n",
       "      <td>88462740.0</td>\n",
       "      <td>52537112.0</td>\n",
       "      <td>68171738.0</td>\n",
       "      <td>52078457.0</td>\n",
       "      <td>86148342.0</td>\n",
       "    </tr>\n",
       "    <tr>\n",
       "      <th>...</th>\n",
       "      <td>...</td>\n",
       "      <td>...</td>\n",
       "      <td>...</td>\n",
       "      <td>...</td>\n",
       "      <td>...</td>\n",
       "      <td>...</td>\n",
       "      <td>...</td>\n",
       "      <td>...</td>\n",
       "      <td>...</td>\n",
       "      <td>...</td>\n",
       "      <td>...</td>\n",
       "      <td>...</td>\n",
       "      <td>...</td>\n",
       "      <td>...</td>\n",
       "      <td>...</td>\n",
       "      <td>...</td>\n",
       "      <td>...</td>\n",
       "      <td>...</td>\n",
       "      <td>...</td>\n",
       "      <td>...</td>\n",
       "      <td>...</td>\n",
       "    </tr>\n",
       "    <tr>\n",
       "      <th>1964</th>\n",
       "      <td>239069096.0</td>\n",
       "      <td>228738468.0</td>\n",
       "      <td>208246346.0</td>\n",
       "      <td>199318629.0</td>\n",
       "      <td>184392252.0</td>\n",
       "      <td>176757980.0</td>\n",
       "      <td>148807806.0</td>\n",
       "      <td>142871756.0</td>\n",
       "      <td>127455138.0</td>\n",
       "      <td>122964015.0</td>\n",
       "      <td>...</td>\n",
       "      <td>43478702.0</td>\n",
       "      <td>49896011.0</td>\n",
       "      <td>30943044.0</td>\n",
       "      <td>38267820.0</td>\n",
       "      <td>20060575.0</td>\n",
       "      <td>26880855.0</td>\n",
       "      <td>11898896.0</td>\n",
       "      <td>17371906.0</td>\n",
       "      <td>7760556.0</td>\n",
       "      <td>13009636.0</td>\n",
       "    </tr>\n",
       "    <tr>\n",
       "      <th>1963</th>\n",
       "      <td>230599710.0</td>\n",
       "      <td>220693247.0</td>\n",
       "      <td>206420446.0</td>\n",
       "      <td>197666059.0</td>\n",
       "      <td>178823880.0</td>\n",
       "      <td>171378294.0</td>\n",
       "      <td>142714269.0</td>\n",
       "      <td>136941008.0</td>\n",
       "      <td>127354732.0</td>\n",
       "      <td>122753547.0</td>\n",
       "      <td>...</td>\n",
       "      <td>42405818.0</td>\n",
       "      <td>48676464.0</td>\n",
       "      <td>30136635.0</td>\n",
       "      <td>37307082.0</td>\n",
       "      <td>19767119.0</td>\n",
       "      <td>26387818.0</td>\n",
       "      <td>11597444.0</td>\n",
       "      <td>16790332.0</td>\n",
       "      <td>7593928.0</td>\n",
       "      <td>12587661.0</td>\n",
       "    </tr>\n",
       "    <tr>\n",
       "      <th>1962</th>\n",
       "      <td>224041736.0</td>\n",
       "      <td>214454487.0</td>\n",
       "      <td>202783378.0</td>\n",
       "      <td>194296395.0</td>\n",
       "      <td>172741508.0</td>\n",
       "      <td>165520684.0</td>\n",
       "      <td>137464629.0</td>\n",
       "      <td>131785923.0</td>\n",
       "      <td>127460456.0</td>\n",
       "      <td>122722609.0</td>\n",
       "      <td>...</td>\n",
       "      <td>41315095.0</td>\n",
       "      <td>47453135.0</td>\n",
       "      <td>29309265.0</td>\n",
       "      <td>36251659.0</td>\n",
       "      <td>19564704.0</td>\n",
       "      <td>26019479.0</td>\n",
       "      <td>11276494.0</td>\n",
       "      <td>16202664.0</td>\n",
       "      <td>7473921.0</td>\n",
       "      <td>12237753.0</td>\n",
       "    </tr>\n",
       "    <tr>\n",
       "      <th>1961</th>\n",
       "      <td>222196886.0</td>\n",
       "      <td>212714001.0</td>\n",
       "      <td>198854626.0</td>\n",
       "      <td>190620416.0</td>\n",
       "      <td>166558402.0</td>\n",
       "      <td>159479034.0</td>\n",
       "      <td>133606813.0</td>\n",
       "      <td>128070910.0</td>\n",
       "      <td>127266768.0</td>\n",
       "      <td>122408085.0</td>\n",
       "      <td>...</td>\n",
       "      <td>40297521.0</td>\n",
       "      <td>46346218.0</td>\n",
       "      <td>28589999.0</td>\n",
       "      <td>35283959.0</td>\n",
       "      <td>19386067.0</td>\n",
       "      <td>25648744.0</td>\n",
       "      <td>11014794.0</td>\n",
       "      <td>15739382.0</td>\n",
       "      <td>7361753.0</td>\n",
       "      <td>11915207.0</td>\n",
       "    </tr>\n",
       "    <tr>\n",
       "      <th>1960</th>\n",
       "      <td>223557787.0</td>\n",
       "      <td>214075855.0</td>\n",
       "      <td>194920004.0</td>\n",
       "      <td>186934892.0</td>\n",
       "      <td>160122897.0</td>\n",
       "      <td>153151958.0</td>\n",
       "      <td>132065258.0</td>\n",
       "      <td>126520594.0</td>\n",
       "      <td>126570596.0</td>\n",
       "      <td>121770846.0</td>\n",
       "      <td>...</td>\n",
       "      <td>39473752.0</td>\n",
       "      <td>45368022.0</td>\n",
       "      <td>28068429.0</td>\n",
       "      <td>34507949.0</td>\n",
       "      <td>19260322.0</td>\n",
       "      <td>25342528.0</td>\n",
       "      <td>10847132.0</td>\n",
       "      <td>15396598.0</td>\n",
       "      <td>7271056.0</td>\n",
       "      <td>11637144.0</td>\n",
       "    </tr>\n",
       "  </tbody>\n",
       "</table>\n",
       "<p>62 rows × 34 columns</p>\n",
       "</div>"
      ],
      "text/plain": [
       "                 M:00-04      F:00-04      M:05-09      F:05-09      M:10-14  \\\n",
       "Region date                                                                    \n",
       "WLD    2021  344650023.0  325642464.0  351823148.0  330431921.0  340134768.0   \n",
       "       2020  348843527.0  329071642.0  350861843.0  329225029.0  336694403.0   \n",
       "       2019  351934193.0  331507104.0  349385852.0  327560200.0  332876020.0   \n",
       "       2018  354088174.0  333098585.0  347389724.0  325470037.0  329029796.0   \n",
       "       2017  355156429.0  333723909.0  344546700.0  322664475.0  325497715.0   \n",
       "...                  ...          ...          ...          ...          ...   \n",
       "       1964  239069096.0  228738468.0  208246346.0  199318629.0  184392252.0   \n",
       "       1963  230599710.0  220693247.0  206420446.0  197666059.0  178823880.0   \n",
       "       1962  224041736.0  214454487.0  202783378.0  194296395.0  172741508.0   \n",
       "       1961  222196886.0  212714001.0  198854626.0  190620416.0  166558402.0   \n",
       "       1960  223557787.0  214075855.0  194920004.0  186934892.0  160122897.0   \n",
       "\n",
       "                 F:10-14      M:15-19      F:15-19      M:20-24      F:20-24  \\\n",
       "Region date                                                                    \n",
       "WLD    2021  318493196.0  321211465.0  301115793.0  309096185.0  290347797.0   \n",
       "       2020  315221758.0  319186586.0  299112617.0  307711749.0  289115754.0   \n",
       "       2019  311628516.0  317132294.0  297053915.0  306772989.0  288370783.0   \n",
       "       2018  308035159.0  315050425.0  295004074.0  306524173.0  288393154.0   \n",
       "       2017  304742832.0  313205095.0  293243362.0  306617594.0  288853402.0   \n",
       "...                  ...          ...          ...          ...          ...   \n",
       "       1964  176757980.0  148807806.0  142871756.0  127455138.0  122964015.0   \n",
       "       1963  171378294.0  142714269.0  136941008.0  127354732.0  122753547.0   \n",
       "       1962  165520684.0  137464629.0  131785923.0  127460456.0  122722609.0   \n",
       "       1961  159479034.0  133606813.0  128070910.0  127266768.0  122408085.0   \n",
       "       1960  153151958.0  132065258.0  126520594.0  126570596.0  121770846.0   \n",
       "\n",
       "             ...      M:60-64      F:60-64      M:65-69      F:65-69  \\\n",
       "Region date  ...                                                       \n",
       "WLD    2021  ...  154828871.0  165954976.0  129373392.0  145660097.0   \n",
       "       2020  ...  154455368.0  165545454.0  126216520.0  141973645.0   \n",
       "       2019  ...  153577832.0  164724422.0  122089581.0  137228598.0   \n",
       "       2018  ...  151598168.0  162791878.0  117713443.0  132182084.0   \n",
       "       2017  ...  148260664.0  159421927.0  113124371.0  126840509.0   \n",
       "...          ...          ...          ...          ...          ...   \n",
       "       1964  ...   43478702.0   49896011.0   30943044.0   38267820.0   \n",
       "       1963  ...   42405818.0   48676464.0   30136635.0   37307082.0   \n",
       "       1962  ...   41315095.0   47453135.0   29309265.0   36251659.0   \n",
       "       1961  ...   40297521.0   46346218.0   28589999.0   35283959.0   \n",
       "       1960  ...   39473752.0   45368022.0   28068429.0   34507949.0   \n",
       "\n",
       "                M:70-74      F:70-74     M:75-79     F:75-79     M:80-UP  \\\n",
       "Region date                                                                \n",
       "WLD    2021  91921639.0  109247654.0  56383161.0  71828549.0  58371269.0   \n",
       "       2020  87919280.0  103935445.0  55253441.0  70462837.0  57363155.0   \n",
       "       2019  83320876.0   98120908.0  54369418.0  69603886.0  55792406.0   \n",
       "       2018  79116689.0   92955177.0  53385227.0  68827619.0  53954172.0   \n",
       "       2017  75382806.0   88462740.0  52537112.0  68171738.0  52078457.0   \n",
       "...                 ...          ...         ...         ...         ...   \n",
       "       1964  20060575.0   26880855.0  11898896.0  17371906.0   7760556.0   \n",
       "       1963  19767119.0   26387818.0  11597444.0  16790332.0   7593928.0   \n",
       "       1962  19564704.0   26019479.0  11276494.0  16202664.0   7473921.0   \n",
       "       1961  19386067.0   25648744.0  11014794.0  15739382.0   7361753.0   \n",
       "       1960  19260322.0   25342528.0  10847132.0  15396598.0   7271056.0   \n",
       "\n",
       "                F:80-UP  \n",
       "Region date              \n",
       "WLD    2021  95845624.0  \n",
       "       2020  94014398.0  \n",
       "       2019  91536492.0  \n",
       "       2018  88876981.0  \n",
       "       2017  86148342.0  \n",
       "...                 ...  \n",
       "       1964  13009636.0  \n",
       "       1963  12587661.0  \n",
       "       1962  12237753.0  \n",
       "       1961  11915207.0  \n",
       "       1960  11637144.0  \n",
       "\n",
       "[62 rows x 34 columns]"
      ]
     },
     "execution_count": 28,
     "metadata": {},
     "output_type": "execute_result"
    }
   ],
   "source": [
    "## Population df example\n",
    "df = population_df('WLD')\n",
    "df"
   ]
  },
  {
   "cell_type": "code",
   "execution_count": 29,
   "id": "5f02bb74",
   "metadata": {},
   "outputs": [],
   "source": [
    "## Population pyramid func \n",
    "\n",
    "def pop_pyramid(df, year):\n",
    "    df.reset_index(level='Region', drop=True, inplace=True)\n",
    "    \n",
    "    women_bins = -df.loc[str(year),:].filter(regex=\"F:\").values\n",
    "    men_bins = df.loc[str(year),:].filter(regex=\"M:\").values\n",
    "    y = list(range(0, 100, 10))\n",
    "\n",
    "    layout = go.Layout(yaxis=go.layout.YAxis(title='Age'),\n",
    "                   xaxis=go.layout.XAxis(\n",
    "                       title='Number'),\n",
    "                   barmode='overlay',\n",
    "                   bargap=0.1)\n",
    "\n",
    "    data = [go.Bar(y=y,\n",
    "               x=men_bins,\n",
    "               orientation='h',\n",
    "               name='Men',\n",
    "               hoverinfo='x',\n",
    "               marker=dict(color='powderblue')\n",
    "               ),\n",
    "        go.Bar(y=y,\n",
    "               x=women_bins,\n",
    "               orientation='h',\n",
    "               name='Women',\n",
    "               text=-1 * women_bins.astype('int'),\n",
    "               hoverinfo='text',\n",
    "               marker=dict(color='pink')\n",
    "               )]\n",
    "\n",
    "    return py.iplot(dict(data=data, layout=layout))  \n"
   ]
  },
  {
   "cell_type": "code",
   "execution_count": 30,
   "id": "5766bfef",
   "metadata": {},
   "outputs": [
    {
     "data": {
      "application/vnd.plotly.v1+json": {
       "config": {
        "linkText": "Export to plot.ly",
        "plotlyServerURL": "https://plot.ly",
        "showLink": false
       },
       "data": [
        {
         "hoverinfo": "x",
         "marker": {
          "color": "powderblue"
         },
         "name": "Men",
         "orientation": "h",
         "type": "bar",
         "x": [
          53461851,
          47709312,
          42575598,
          36563052,
          31250943,
          26824252,
          23186536,
          19161081,
          15076634,
          11954285,
          9627875,
          7279339,
          5359947,
          3937852,
          2665421,
          1511511,
          1077480
         ],
         "y": [
          0,
          10,
          20,
          30,
          40,
          50,
          60,
          70,
          80,
          90
         ]
        },
        {
         "hoverinfo": "text",
         "marker": {
          "color": "pink"
         },
         "name": "Women",
         "orientation": "h",
         "text": [
          52265991,
          46911818,
          42069398,
          36335804,
          31355868,
          27330572,
          23844536,
          19607075,
          15395913,
          12524773,
          10625703,
          8505650,
          6613487,
          5007885,
          3491072,
          2131769,
          1872417
         ],
         "type": "bar",
         "x": [
          -52265991,
          -46911818,
          -42069398,
          -36335804,
          -31355868,
          -27330572,
          -23844536,
          -19607075,
          -15395913,
          -12524773,
          -10625703,
          -8505650,
          -6613487,
          -5007885,
          -3491072,
          -2131769,
          -1872417
         ],
         "y": [
          0,
          10,
          20,
          30,
          40,
          50,
          60,
          70,
          80,
          90
         ]
        }
       ],
       "layout": {
        "bargap": 0.1,
        "barmode": "overlay",
        "template": {
         "data": {
          "bar": [
           {
            "error_x": {
             "color": "#2a3f5f"
            },
            "error_y": {
             "color": "#2a3f5f"
            },
            "marker": {
             "line": {
              "color": "#E5ECF6",
              "width": 0.5
             },
             "pattern": {
              "fillmode": "overlay",
              "size": 10,
              "solidity": 0.2
             }
            },
            "type": "bar"
           }
          ],
          "barpolar": [
           {
            "marker": {
             "line": {
              "color": "#E5ECF6",
              "width": 0.5
             },
             "pattern": {
              "fillmode": "overlay",
              "size": 10,
              "solidity": 0.2
             }
            },
            "type": "barpolar"
           }
          ],
          "carpet": [
           {
            "aaxis": {
             "endlinecolor": "#2a3f5f",
             "gridcolor": "white",
             "linecolor": "white",
             "minorgridcolor": "white",
             "startlinecolor": "#2a3f5f"
            },
            "baxis": {
             "endlinecolor": "#2a3f5f",
             "gridcolor": "white",
             "linecolor": "white",
             "minorgridcolor": "white",
             "startlinecolor": "#2a3f5f"
            },
            "type": "carpet"
           }
          ],
          "choropleth": [
           {
            "colorbar": {
             "outlinewidth": 0,
             "ticks": ""
            },
            "type": "choropleth"
           }
          ],
          "contour": [
           {
            "colorbar": {
             "outlinewidth": 0,
             "ticks": ""
            },
            "colorscale": [
             [
              0,
              "#0d0887"
             ],
             [
              0.1111111111111111,
              "#46039f"
             ],
             [
              0.2222222222222222,
              "#7201a8"
             ],
             [
              0.3333333333333333,
              "#9c179e"
             ],
             [
              0.4444444444444444,
              "#bd3786"
             ],
             [
              0.5555555555555556,
              "#d8576b"
             ],
             [
              0.6666666666666666,
              "#ed7953"
             ],
             [
              0.7777777777777778,
              "#fb9f3a"
             ],
             [
              0.8888888888888888,
              "#fdca26"
             ],
             [
              1,
              "#f0f921"
             ]
            ],
            "type": "contour"
           }
          ],
          "contourcarpet": [
           {
            "colorbar": {
             "outlinewidth": 0,
             "ticks": ""
            },
            "type": "contourcarpet"
           }
          ],
          "heatmap": [
           {
            "colorbar": {
             "outlinewidth": 0,
             "ticks": ""
            },
            "colorscale": [
             [
              0,
              "#0d0887"
             ],
             [
              0.1111111111111111,
              "#46039f"
             ],
             [
              0.2222222222222222,
              "#7201a8"
             ],
             [
              0.3333333333333333,
              "#9c179e"
             ],
             [
              0.4444444444444444,
              "#bd3786"
             ],
             [
              0.5555555555555556,
              "#d8576b"
             ],
             [
              0.6666666666666666,
              "#ed7953"
             ],
             [
              0.7777777777777778,
              "#fb9f3a"
             ],
             [
              0.8888888888888888,
              "#fdca26"
             ],
             [
              1,
              "#f0f921"
             ]
            ],
            "type": "heatmap"
           }
          ],
          "heatmapgl": [
           {
            "colorbar": {
             "outlinewidth": 0,
             "ticks": ""
            },
            "colorscale": [
             [
              0,
              "#0d0887"
             ],
             [
              0.1111111111111111,
              "#46039f"
             ],
             [
              0.2222222222222222,
              "#7201a8"
             ],
             [
              0.3333333333333333,
              "#9c179e"
             ],
             [
              0.4444444444444444,
              "#bd3786"
             ],
             [
              0.5555555555555556,
              "#d8576b"
             ],
             [
              0.6666666666666666,
              "#ed7953"
             ],
             [
              0.7777777777777778,
              "#fb9f3a"
             ],
             [
              0.8888888888888888,
              "#fdca26"
             ],
             [
              1,
              "#f0f921"
             ]
            ],
            "type": "heatmapgl"
           }
          ],
          "histogram": [
           {
            "marker": {
             "pattern": {
              "fillmode": "overlay",
              "size": 10,
              "solidity": 0.2
             }
            },
            "type": "histogram"
           }
          ],
          "histogram2d": [
           {
            "colorbar": {
             "outlinewidth": 0,
             "ticks": ""
            },
            "colorscale": [
             [
              0,
              "#0d0887"
             ],
             [
              0.1111111111111111,
              "#46039f"
             ],
             [
              0.2222222222222222,
              "#7201a8"
             ],
             [
              0.3333333333333333,
              "#9c179e"
             ],
             [
              0.4444444444444444,
              "#bd3786"
             ],
             [
              0.5555555555555556,
              "#d8576b"
             ],
             [
              0.6666666666666666,
              "#ed7953"
             ],
             [
              0.7777777777777778,
              "#fb9f3a"
             ],
             [
              0.8888888888888888,
              "#fdca26"
             ],
             [
              1,
              "#f0f921"
             ]
            ],
            "type": "histogram2d"
           }
          ],
          "histogram2dcontour": [
           {
            "colorbar": {
             "outlinewidth": 0,
             "ticks": ""
            },
            "colorscale": [
             [
              0,
              "#0d0887"
             ],
             [
              0.1111111111111111,
              "#46039f"
             ],
             [
              0.2222222222222222,
              "#7201a8"
             ],
             [
              0.3333333333333333,
              "#9c179e"
             ],
             [
              0.4444444444444444,
              "#bd3786"
             ],
             [
              0.5555555555555556,
              "#d8576b"
             ],
             [
              0.6666666666666666,
              "#ed7953"
             ],
             [
              0.7777777777777778,
              "#fb9f3a"
             ],
             [
              0.8888888888888888,
              "#fdca26"
             ],
             [
              1,
              "#f0f921"
             ]
            ],
            "type": "histogram2dcontour"
           }
          ],
          "mesh3d": [
           {
            "colorbar": {
             "outlinewidth": 0,
             "ticks": ""
            },
            "type": "mesh3d"
           }
          ],
          "parcoords": [
           {
            "line": {
             "colorbar": {
              "outlinewidth": 0,
              "ticks": ""
             }
            },
            "type": "parcoords"
           }
          ],
          "pie": [
           {
            "automargin": true,
            "type": "pie"
           }
          ],
          "scatter": [
           {
            "marker": {
             "colorbar": {
              "outlinewidth": 0,
              "ticks": ""
             }
            },
            "type": "scatter"
           }
          ],
          "scatter3d": [
           {
            "line": {
             "colorbar": {
              "outlinewidth": 0,
              "ticks": ""
             }
            },
            "marker": {
             "colorbar": {
              "outlinewidth": 0,
              "ticks": ""
             }
            },
            "type": "scatter3d"
           }
          ],
          "scattercarpet": [
           {
            "marker": {
             "colorbar": {
              "outlinewidth": 0,
              "ticks": ""
             }
            },
            "type": "scattercarpet"
           }
          ],
          "scattergeo": [
           {
            "marker": {
             "colorbar": {
              "outlinewidth": 0,
              "ticks": ""
             }
            },
            "type": "scattergeo"
           }
          ],
          "scattergl": [
           {
            "marker": {
             "colorbar": {
              "outlinewidth": 0,
              "ticks": ""
             }
            },
            "type": "scattergl"
           }
          ],
          "scattermapbox": [
           {
            "marker": {
             "colorbar": {
              "outlinewidth": 0,
              "ticks": ""
             }
            },
            "type": "scattermapbox"
           }
          ],
          "scatterpolar": [
           {
            "marker": {
             "colorbar": {
              "outlinewidth": 0,
              "ticks": ""
             }
            },
            "type": "scatterpolar"
           }
          ],
          "scatterpolargl": [
           {
            "marker": {
             "colorbar": {
              "outlinewidth": 0,
              "ticks": ""
             }
            },
            "type": "scatterpolargl"
           }
          ],
          "scatterternary": [
           {
            "marker": {
             "colorbar": {
              "outlinewidth": 0,
              "ticks": ""
             }
            },
            "type": "scatterternary"
           }
          ],
          "surface": [
           {
            "colorbar": {
             "outlinewidth": 0,
             "ticks": ""
            },
            "colorscale": [
             [
              0,
              "#0d0887"
             ],
             [
              0.1111111111111111,
              "#46039f"
             ],
             [
              0.2222222222222222,
              "#7201a8"
             ],
             [
              0.3333333333333333,
              "#9c179e"
             ],
             [
              0.4444444444444444,
              "#bd3786"
             ],
             [
              0.5555555555555556,
              "#d8576b"
             ],
             [
              0.6666666666666666,
              "#ed7953"
             ],
             [
              0.7777777777777778,
              "#fb9f3a"
             ],
             [
              0.8888888888888888,
              "#fdca26"
             ],
             [
              1,
              "#f0f921"
             ]
            ],
            "type": "surface"
           }
          ],
          "table": [
           {
            "cells": {
             "fill": {
              "color": "#EBF0F8"
             },
             "line": {
              "color": "white"
             }
            },
            "header": {
             "fill": {
              "color": "#C8D4E3"
             },
             "line": {
              "color": "white"
             }
            },
            "type": "table"
           }
          ]
         },
         "layout": {
          "annotationdefaults": {
           "arrowcolor": "#2a3f5f",
           "arrowhead": 0,
           "arrowwidth": 1
          },
          "autotypenumbers": "strict",
          "coloraxis": {
           "colorbar": {
            "outlinewidth": 0,
            "ticks": ""
           }
          },
          "colorscale": {
           "diverging": [
            [
             0,
             "#8e0152"
            ],
            [
             0.1,
             "#c51b7d"
            ],
            [
             0.2,
             "#de77ae"
            ],
            [
             0.3,
             "#f1b6da"
            ],
            [
             0.4,
             "#fde0ef"
            ],
            [
             0.5,
             "#f7f7f7"
            ],
            [
             0.6,
             "#e6f5d0"
            ],
            [
             0.7,
             "#b8e186"
            ],
            [
             0.8,
             "#7fbc41"
            ],
            [
             0.9,
             "#4d9221"
            ],
            [
             1,
             "#276419"
            ]
           ],
           "sequential": [
            [
             0,
             "#0d0887"
            ],
            [
             0.1111111111111111,
             "#46039f"
            ],
            [
             0.2222222222222222,
             "#7201a8"
            ],
            [
             0.3333333333333333,
             "#9c179e"
            ],
            [
             0.4444444444444444,
             "#bd3786"
            ],
            [
             0.5555555555555556,
             "#d8576b"
            ],
            [
             0.6666666666666666,
             "#ed7953"
            ],
            [
             0.7777777777777778,
             "#fb9f3a"
            ],
            [
             0.8888888888888888,
             "#fdca26"
            ],
            [
             1,
             "#f0f921"
            ]
           ],
           "sequentialminus": [
            [
             0,
             "#0d0887"
            ],
            [
             0.1111111111111111,
             "#46039f"
            ],
            [
             0.2222222222222222,
             "#7201a8"
            ],
            [
             0.3333333333333333,
             "#9c179e"
            ],
            [
             0.4444444444444444,
             "#bd3786"
            ],
            [
             0.5555555555555556,
             "#d8576b"
            ],
            [
             0.6666666666666666,
             "#ed7953"
            ],
            [
             0.7777777777777778,
             "#fb9f3a"
            ],
            [
             0.8888888888888888,
             "#fdca26"
            ],
            [
             1,
             "#f0f921"
            ]
           ]
          },
          "colorway": [
           "#636efa",
           "#EF553B",
           "#00cc96",
           "#ab63fa",
           "#FFA15A",
           "#19d3f3",
           "#FF6692",
           "#B6E880",
           "#FF97FF",
           "#FECB52"
          ],
          "font": {
           "color": "#2a3f5f"
          },
          "geo": {
           "bgcolor": "white",
           "lakecolor": "white",
           "landcolor": "#E5ECF6",
           "showlakes": true,
           "showland": true,
           "subunitcolor": "white"
          },
          "hoverlabel": {
           "align": "left"
          },
          "hovermode": "closest",
          "mapbox": {
           "style": "light"
          },
          "paper_bgcolor": "white",
          "plot_bgcolor": "#E5ECF6",
          "polar": {
           "angularaxis": {
            "gridcolor": "white",
            "linecolor": "white",
            "ticks": ""
           },
           "bgcolor": "#E5ECF6",
           "radialaxis": {
            "gridcolor": "white",
            "linecolor": "white",
            "ticks": ""
           }
          },
          "scene": {
           "xaxis": {
            "backgroundcolor": "#E5ECF6",
            "gridcolor": "white",
            "gridwidth": 2,
            "linecolor": "white",
            "showbackground": true,
            "ticks": "",
            "zerolinecolor": "white"
           },
           "yaxis": {
            "backgroundcolor": "#E5ECF6",
            "gridcolor": "white",
            "gridwidth": 2,
            "linecolor": "white",
            "showbackground": true,
            "ticks": "",
            "zerolinecolor": "white"
           },
           "zaxis": {
            "backgroundcolor": "#E5ECF6",
            "gridcolor": "white",
            "gridwidth": 2,
            "linecolor": "white",
            "showbackground": true,
            "ticks": "",
            "zerolinecolor": "white"
           }
          },
          "shapedefaults": {
           "line": {
            "color": "#2a3f5f"
           }
          },
          "ternary": {
           "aaxis": {
            "gridcolor": "white",
            "linecolor": "white",
            "ticks": ""
           },
           "baxis": {
            "gridcolor": "white",
            "linecolor": "white",
            "ticks": ""
           },
           "bgcolor": "#E5ECF6",
           "caxis": {
            "gridcolor": "white",
            "linecolor": "white",
            "ticks": ""
           }
          },
          "title": {
           "x": 0.05
          },
          "xaxis": {
           "automargin": true,
           "gridcolor": "white",
           "linecolor": "white",
           "ticks": "",
           "title": {
            "standoff": 15
           },
           "zerolinecolor": "white",
           "zerolinewidth": 2
          },
          "yaxis": {
           "automargin": true,
           "gridcolor": "white",
           "linecolor": "white",
           "ticks": "",
           "title": {
            "standoff": 15
           },
           "zerolinecolor": "white",
           "zerolinewidth": 2
          }
         }
        },
        "xaxis": {
         "title": {
          "text": "Number"
         }
        },
        "yaxis": {
         "title": {
          "text": "Age"
         }
        }
       }
      },
      "text/html": [
       "<div>                            <div id=\"5d745f1e-99e5-4caf-9468-46b97ea1bd89\" class=\"plotly-graph-div\" style=\"height:525px; width:100%;\"></div>            <script type=\"text/javascript\">                require([\"plotly\"], function(Plotly) {                    window.PLOTLYENV=window.PLOTLYENV || {};                                    if (document.getElementById(\"5d745f1e-99e5-4caf-9468-46b97ea1bd89\")) {                    Plotly.newPlot(                        \"5d745f1e-99e5-4caf-9468-46b97ea1bd89\",                        [{\"hoverinfo\":\"x\",\"marker\":{\"color\":\"powderblue\"},\"name\":\"Men\",\"orientation\":\"h\",\"type\":\"bar\",\"x\":[53461851.0,47709312.0,42575598.0,36563052.0,31250943.0,26824252.0,23186536.0,19161081.0,15076634.0,11954285.0,9627875.0,7279339.0,5359947.0,3937852.0,2665421.0,1511511.0,1077480.0],\"y\":[0,10,20,30,40,50,60,70,80,90]},{\"hoverinfo\":\"text\",\"marker\":{\"color\":\"pink\"},\"name\":\"Women\",\"orientation\":\"h\",\"text\":[52265991.0,46911818.0,42069398.0,36335804.0,31355868.0,27330572.0,23844536.0,19607075.0,15395913.0,12524773.0,10625703.0,8505650.0,6613487.0,5007885.0,3491072.0,2131769.0,1872417.0],\"type\":\"bar\",\"x\":[-52265991.0,-46911818.0,-42069398.0,-36335804.0,-31355868.0,-27330572.0,-23844536.0,-19607075.0,-15395913.0,-12524773.0,-10625703.0,-8505650.0,-6613487.0,-5007885.0,-3491072.0,-2131769.0,-1872417.0],\"y\":[0,10,20,30,40,50,60,70,80,90]}],                        {\"bargap\":0.1,\"barmode\":\"overlay\",\"template\":{\"data\":{\"bar\":[{\"error_x\":{\"color\":\"#2a3f5f\"},\"error_y\":{\"color\":\"#2a3f5f\"},\"marker\":{\"line\":{\"color\":\"#E5ECF6\",\"width\":0.5},\"pattern\":{\"fillmode\":\"overlay\",\"size\":10,\"solidity\":0.2}},\"type\":\"bar\"}],\"barpolar\":[{\"marker\":{\"line\":{\"color\":\"#E5ECF6\",\"width\":0.5},\"pattern\":{\"fillmode\":\"overlay\",\"size\":10,\"solidity\":0.2}},\"type\":\"barpolar\"}],\"carpet\":[{\"aaxis\":{\"endlinecolor\":\"#2a3f5f\",\"gridcolor\":\"white\",\"linecolor\":\"white\",\"minorgridcolor\":\"white\",\"startlinecolor\":\"#2a3f5f\"},\"baxis\":{\"endlinecolor\":\"#2a3f5f\",\"gridcolor\":\"white\",\"linecolor\":\"white\",\"minorgridcolor\":\"white\",\"startlinecolor\":\"#2a3f5f\"},\"type\":\"carpet\"}],\"choropleth\":[{\"colorbar\":{\"outlinewidth\":0,\"ticks\":\"\"},\"type\":\"choropleth\"}],\"contour\":[{\"colorbar\":{\"outlinewidth\":0,\"ticks\":\"\"},\"colorscale\":[[0.0,\"#0d0887\"],[0.1111111111111111,\"#46039f\"],[0.2222222222222222,\"#7201a8\"],[0.3333333333333333,\"#9c179e\"],[0.4444444444444444,\"#bd3786\"],[0.5555555555555556,\"#d8576b\"],[0.6666666666666666,\"#ed7953\"],[0.7777777777777778,\"#fb9f3a\"],[0.8888888888888888,\"#fdca26\"],[1.0,\"#f0f921\"]],\"type\":\"contour\"}],\"contourcarpet\":[{\"colorbar\":{\"outlinewidth\":0,\"ticks\":\"\"},\"type\":\"contourcarpet\"}],\"heatmap\":[{\"colorbar\":{\"outlinewidth\":0,\"ticks\":\"\"},\"colorscale\":[[0.0,\"#0d0887\"],[0.1111111111111111,\"#46039f\"],[0.2222222222222222,\"#7201a8\"],[0.3333333333333333,\"#9c179e\"],[0.4444444444444444,\"#bd3786\"],[0.5555555555555556,\"#d8576b\"],[0.6666666666666666,\"#ed7953\"],[0.7777777777777778,\"#fb9f3a\"],[0.8888888888888888,\"#fdca26\"],[1.0,\"#f0f921\"]],\"type\":\"heatmap\"}],\"heatmapgl\":[{\"colorbar\":{\"outlinewidth\":0,\"ticks\":\"\"},\"colorscale\":[[0.0,\"#0d0887\"],[0.1111111111111111,\"#46039f\"],[0.2222222222222222,\"#7201a8\"],[0.3333333333333333,\"#9c179e\"],[0.4444444444444444,\"#bd3786\"],[0.5555555555555556,\"#d8576b\"],[0.6666666666666666,\"#ed7953\"],[0.7777777777777778,\"#fb9f3a\"],[0.8888888888888888,\"#fdca26\"],[1.0,\"#f0f921\"]],\"type\":\"heatmapgl\"}],\"histogram\":[{\"marker\":{\"pattern\":{\"fillmode\":\"overlay\",\"size\":10,\"solidity\":0.2}},\"type\":\"histogram\"}],\"histogram2d\":[{\"colorbar\":{\"outlinewidth\":0,\"ticks\":\"\"},\"colorscale\":[[0.0,\"#0d0887\"],[0.1111111111111111,\"#46039f\"],[0.2222222222222222,\"#7201a8\"],[0.3333333333333333,\"#9c179e\"],[0.4444444444444444,\"#bd3786\"],[0.5555555555555556,\"#d8576b\"],[0.6666666666666666,\"#ed7953\"],[0.7777777777777778,\"#fb9f3a\"],[0.8888888888888888,\"#fdca26\"],[1.0,\"#f0f921\"]],\"type\":\"histogram2d\"}],\"histogram2dcontour\":[{\"colorbar\":{\"outlinewidth\":0,\"ticks\":\"\"},\"colorscale\":[[0.0,\"#0d0887\"],[0.1111111111111111,\"#46039f\"],[0.2222222222222222,\"#7201a8\"],[0.3333333333333333,\"#9c179e\"],[0.4444444444444444,\"#bd3786\"],[0.5555555555555556,\"#d8576b\"],[0.6666666666666666,\"#ed7953\"],[0.7777777777777778,\"#fb9f3a\"],[0.8888888888888888,\"#fdca26\"],[1.0,\"#f0f921\"]],\"type\":\"histogram2dcontour\"}],\"mesh3d\":[{\"colorbar\":{\"outlinewidth\":0,\"ticks\":\"\"},\"type\":\"mesh3d\"}],\"parcoords\":[{\"line\":{\"colorbar\":{\"outlinewidth\":0,\"ticks\":\"\"}},\"type\":\"parcoords\"}],\"pie\":[{\"automargin\":true,\"type\":\"pie\"}],\"scatter\":[{\"marker\":{\"colorbar\":{\"outlinewidth\":0,\"ticks\":\"\"}},\"type\":\"scatter\"}],\"scatter3d\":[{\"line\":{\"colorbar\":{\"outlinewidth\":0,\"ticks\":\"\"}},\"marker\":{\"colorbar\":{\"outlinewidth\":0,\"ticks\":\"\"}},\"type\":\"scatter3d\"}],\"scattercarpet\":[{\"marker\":{\"colorbar\":{\"outlinewidth\":0,\"ticks\":\"\"}},\"type\":\"scattercarpet\"}],\"scattergeo\":[{\"marker\":{\"colorbar\":{\"outlinewidth\":0,\"ticks\":\"\"}},\"type\":\"scattergeo\"}],\"scattergl\":[{\"marker\":{\"colorbar\":{\"outlinewidth\":0,\"ticks\":\"\"}},\"type\":\"scattergl\"}],\"scattermapbox\":[{\"marker\":{\"colorbar\":{\"outlinewidth\":0,\"ticks\":\"\"}},\"type\":\"scattermapbox\"}],\"scatterpolar\":[{\"marker\":{\"colorbar\":{\"outlinewidth\":0,\"ticks\":\"\"}},\"type\":\"scatterpolar\"}],\"scatterpolargl\":[{\"marker\":{\"colorbar\":{\"outlinewidth\":0,\"ticks\":\"\"}},\"type\":\"scatterpolargl\"}],\"scatterternary\":[{\"marker\":{\"colorbar\":{\"outlinewidth\":0,\"ticks\":\"\"}},\"type\":\"scatterternary\"}],\"surface\":[{\"colorbar\":{\"outlinewidth\":0,\"ticks\":\"\"},\"colorscale\":[[0.0,\"#0d0887\"],[0.1111111111111111,\"#46039f\"],[0.2222222222222222,\"#7201a8\"],[0.3333333333333333,\"#9c179e\"],[0.4444444444444444,\"#bd3786\"],[0.5555555555555556,\"#d8576b\"],[0.6666666666666666,\"#ed7953\"],[0.7777777777777778,\"#fb9f3a\"],[0.8888888888888888,\"#fdca26\"],[1.0,\"#f0f921\"]],\"type\":\"surface\"}],\"table\":[{\"cells\":{\"fill\":{\"color\":\"#EBF0F8\"},\"line\":{\"color\":\"white\"}},\"header\":{\"fill\":{\"color\":\"#C8D4E3\"},\"line\":{\"color\":\"white\"}},\"type\":\"table\"}]},\"layout\":{\"annotationdefaults\":{\"arrowcolor\":\"#2a3f5f\",\"arrowhead\":0,\"arrowwidth\":1},\"autotypenumbers\":\"strict\",\"coloraxis\":{\"colorbar\":{\"outlinewidth\":0,\"ticks\":\"\"}},\"colorscale\":{\"diverging\":[[0,\"#8e0152\"],[0.1,\"#c51b7d\"],[0.2,\"#de77ae\"],[0.3,\"#f1b6da\"],[0.4,\"#fde0ef\"],[0.5,\"#f7f7f7\"],[0.6,\"#e6f5d0\"],[0.7,\"#b8e186\"],[0.8,\"#7fbc41\"],[0.9,\"#4d9221\"],[1,\"#276419\"]],\"sequential\":[[0.0,\"#0d0887\"],[0.1111111111111111,\"#46039f\"],[0.2222222222222222,\"#7201a8\"],[0.3333333333333333,\"#9c179e\"],[0.4444444444444444,\"#bd3786\"],[0.5555555555555556,\"#d8576b\"],[0.6666666666666666,\"#ed7953\"],[0.7777777777777778,\"#fb9f3a\"],[0.8888888888888888,\"#fdca26\"],[1.0,\"#f0f921\"]],\"sequentialminus\":[[0.0,\"#0d0887\"],[0.1111111111111111,\"#46039f\"],[0.2222222222222222,\"#7201a8\"],[0.3333333333333333,\"#9c179e\"],[0.4444444444444444,\"#bd3786\"],[0.5555555555555556,\"#d8576b\"],[0.6666666666666666,\"#ed7953\"],[0.7777777777777778,\"#fb9f3a\"],[0.8888888888888888,\"#fdca26\"],[1.0,\"#f0f921\"]]},\"colorway\":[\"#636efa\",\"#EF553B\",\"#00cc96\",\"#ab63fa\",\"#FFA15A\",\"#19d3f3\",\"#FF6692\",\"#B6E880\",\"#FF97FF\",\"#FECB52\"],\"font\":{\"color\":\"#2a3f5f\"},\"geo\":{\"bgcolor\":\"white\",\"lakecolor\":\"white\",\"landcolor\":\"#E5ECF6\",\"showlakes\":true,\"showland\":true,\"subunitcolor\":\"white\"},\"hoverlabel\":{\"align\":\"left\"},\"hovermode\":\"closest\",\"mapbox\":{\"style\":\"light\"},\"paper_bgcolor\":\"white\",\"plot_bgcolor\":\"#E5ECF6\",\"polar\":{\"angularaxis\":{\"gridcolor\":\"white\",\"linecolor\":\"white\",\"ticks\":\"\"},\"bgcolor\":\"#E5ECF6\",\"radialaxis\":{\"gridcolor\":\"white\",\"linecolor\":\"white\",\"ticks\":\"\"}},\"scene\":{\"xaxis\":{\"backgroundcolor\":\"#E5ECF6\",\"gridcolor\":\"white\",\"gridwidth\":2,\"linecolor\":\"white\",\"showbackground\":true,\"ticks\":\"\",\"zerolinecolor\":\"white\"},\"yaxis\":{\"backgroundcolor\":\"#E5ECF6\",\"gridcolor\":\"white\",\"gridwidth\":2,\"linecolor\":\"white\",\"showbackground\":true,\"ticks\":\"\",\"zerolinecolor\":\"white\"},\"zaxis\":{\"backgroundcolor\":\"#E5ECF6\",\"gridcolor\":\"white\",\"gridwidth\":2,\"linecolor\":\"white\",\"showbackground\":true,\"ticks\":\"\",\"zerolinecolor\":\"white\"}},\"shapedefaults\":{\"line\":{\"color\":\"#2a3f5f\"}},\"ternary\":{\"aaxis\":{\"gridcolor\":\"white\",\"linecolor\":\"white\",\"ticks\":\"\"},\"baxis\":{\"gridcolor\":\"white\",\"linecolor\":\"white\",\"ticks\":\"\"},\"bgcolor\":\"#E5ECF6\",\"caxis\":{\"gridcolor\":\"white\",\"linecolor\":\"white\",\"ticks\":\"\"}},\"title\":{\"x\":0.05},\"xaxis\":{\"automargin\":true,\"gridcolor\":\"white\",\"linecolor\":\"white\",\"ticks\":\"\",\"title\":{\"standoff\":15},\"zerolinecolor\":\"white\",\"zerolinewidth\":2},\"yaxis\":{\"automargin\":true,\"gridcolor\":\"white\",\"linecolor\":\"white\",\"ticks\":\"\",\"title\":{\"standoff\":15},\"zerolinecolor\":\"white\",\"zerolinewidth\":2}}},\"xaxis\":{\"title\":{\"text\":\"Number\"}},\"yaxis\":{\"title\":{\"text\":\"Age\"}}},                        {\"responsive\": true}                    ).then(function(){\n",
       "                            \n",
       "var gd = document.getElementById('5d745f1e-99e5-4caf-9468-46b97ea1bd89');\n",
       "var x = new MutationObserver(function (mutations, observer) {{\n",
       "        var display = window.getComputedStyle(gd).display;\n",
       "        if (!display || display === 'none') {{\n",
       "            console.log([gd, 'removed!']);\n",
       "            Plotly.purge(gd);\n",
       "            observer.disconnect();\n",
       "        }}\n",
       "}});\n",
       "\n",
       "// Listen for the removal of the full notebook cells\n",
       "var notebookContainer = gd.closest('#notebook-container');\n",
       "if (notebookContainer) {{\n",
       "    x.observe(notebookContainer, {childList: true});\n",
       "}}\n",
       "\n",
       "// Listen for the clearing of the current output cell\n",
       "var outputEl = gd.closest('.output');\n",
       "if (outputEl) {{\n",
       "    x.observe(outputEl, {childList: true});\n",
       "}}\n",
       "\n",
       "                        })                };                });            </script>        </div>"
      ]
     },
     "metadata": {},
     "output_type": "display_data"
    }
   ],
   "source": [
    "## Population pyramid example\n",
    "df = population_df('AFE')\n",
    "pop_pyramid(df, 2020)"
   ]
  },
  {
   "cell_type": "code",
   "execution_count": 32,
   "id": "1ad61d06",
   "metadata": {},
   "outputs": [
    {
     "name": "stdout",
     "output_type": "stream",
     "text": [
      "['0004', '0509', '1014', '1519', '2024', '2529', '3034', '3539', '4044', '4549', '5054', '5559', '6064', '6569', '7074', '7579', '80UP']\n"
     ]
    }
   ],
   "source": [
    "### sliders \n",
    "\n",
    "# which take the form \"SP.POP.LLHH.MA\" for males\n",
    "# and \"SP.POP.LLHH.FE\" for females, where LL is the *low* end of\n",
    "# age range, like \"05\" for 5-yo, and HH is the *high* end.\n",
    "# We construct a list of age-ranges.\n",
    "# Start with an empty list of age-rages\n",
    "age_ranges = []\n",
    "\n",
    "# Ranges top out at 80, and go in five year increments\n",
    "for i in range(0,80,5):\n",
    "    age_ranges.append(f\"{i:02d}\"+f\"{i+4:02d}\")\n",
    "\n",
    "age_ranges.append(\"80UP\")\n",
    "\n",
    "print(age_ranges)\n"
   ]
  },
  {
   "cell_type": "code",
   "execution_count": 33,
   "id": "5456e808",
   "metadata": {},
   "outputs": [],
   "source": [
    "male_variables = {\"SP.POP.\"+age_range+\".MA\":\"Males \"+age_range for age_range in age_ranges}\n",
    "female_variables = {\"SP.POP.\"+age_range+\".FE\":\"Females \"+age_range for age_range in age_ranges}\n",
    "variables = male_variables\n",
    "variables.update(female_variables)"
   ]
  },
  {
   "cell_type": "code",
   "execution_count": 37,
   "id": "b30d84ea",
   "metadata": {},
   "outputs": [],
   "source": [
    "df = wbdata.get_dataframe(variables,country=\"WLD\", cache = False)"
   ]
  },
  {
   "cell_type": "code",
   "execution_count": 38,
   "id": "123c9ba3",
   "metadata": {},
   "outputs": [
    {
     "data": {
      "application/vnd.jupyter.widget-view+json": {
       "model_id": "1e43cb2c781b45b390f18b835f627281",
       "version_major": 2,
       "version_minor": 0
      },
      "text/plain": [
       "interactive(children=(IntSlider(value=1999, description='year', max=2018, min=1980), Output()), _dom_classes=(…"
      ]
     },
     "metadata": {},
     "output_type": "display_data"
    },
    {
     "data": {
      "text/plain": [
       "<function __main__.helper(year)>"
      ]
     },
     "execution_count": 38,
     "metadata": {},
     "output_type": "execute_result"
    }
   ],
   "source": [
    "import plotly.graph_objs as go\n",
    "import ipywidgets\n",
    "from ipywidgets import interactive, HBox, VBox\n",
    "\n",
    "def helper(year):\n",
    "    py.init_notebook_mode(connected=True)\n",
    "    layout = go.Layout(barmode='overlay',\n",
    "                   yaxis=go.layout.YAxis(range=[0, 90], title='Age'),\n",
    "                   xaxis=go.layout.XAxis(title='Number'))\n",
    "    bins = [go.Bar(x = df.loc[str(year),:].filter(regex=\"Male\").values,\n",
    "               y = [int(s[:2])+1 for s in age_ranges],\n",
    "               orientation='h',\n",
    "               name='Men',\n",
    "               marker=dict(color='green'),\n",
    "               hoverinfo='skip'\n",
    "               ),\n",
    "        go.Bar(x = -df.loc[str(year),:].filter(regex=\"Female\").values,\n",
    "               y=[int(s[:2])+1 for s in age_ranges],\n",
    "               orientation='h',\n",
    "               name='Women',\n",
    "               marker=dict(color='pink'),\n",
    "               hoverinfo='skip',\n",
    "               )\n",
    "        ]\n",
    "    py.iplot(dict(data=bins, layout=layout))\n",
    "ipywidgets.interact(helper, year=(1980, 2018, 1))"
   ]
  },
  {
   "cell_type": "code",
   "execution_count": 40,
   "id": "cdd4fa77",
   "metadata": {},
   "outputs": [
    {
     "data": {
      "application/vnd.plotly.v1+json": {
       "config": {
        "plotlyServerURL": "https://plot.ly"
       },
       "data": [
        {
         "hoverinfo": "skip",
         "marker": {
          "color": "green"
         },
         "name": "Men",
         "orientation": "h",
         "type": "bar",
         "x": [
          348843527,
          350861843,
          336694403,
          319186586,
          307711749,
          306243509,
          306298288,
          278670739,
          248265041,
          239380760,
          220302564,
          189880511,
          154455368,
          126216520,
          87919280,
          55253441,
          57363155
         ],
         "y": [
          1,
          6,
          11,
          16,
          21,
          26,
          31,
          36,
          41,
          46,
          51,
          56,
          61,
          66,
          71,
          76,
          81
         ]
        },
        {
         "hoverinfo": "skip",
         "marker": {
          "color": "pink"
         },
         "name": "Women",
         "orientation": "h",
         "type": "bar",
         "x": [
          -329071642,
          -329225029,
          -315221758,
          -299112617,
          -289115754,
          -290548637,
          -293679967,
          -269562260,
          -242158101,
          -236459269,
          -221445209,
          -195902317,
          -165545454,
          -141973645,
          -103935445,
          -70462837,
          -94014398
         ],
         "y": [
          1,
          6,
          11,
          16,
          21,
          26,
          31,
          36,
          41,
          46,
          51,
          56,
          61,
          66,
          71,
          76,
          81
         ]
        }
       ],
       "layout": {
        "template": {
         "data": {
          "bar": [
           {
            "error_x": {
             "color": "#2a3f5f"
            },
            "error_y": {
             "color": "#2a3f5f"
            },
            "marker": {
             "line": {
              "color": "#E5ECF6",
              "width": 0.5
             },
             "pattern": {
              "fillmode": "overlay",
              "size": 10,
              "solidity": 0.2
             }
            },
            "type": "bar"
           }
          ],
          "barpolar": [
           {
            "marker": {
             "line": {
              "color": "#E5ECF6",
              "width": 0.5
             },
             "pattern": {
              "fillmode": "overlay",
              "size": 10,
              "solidity": 0.2
             }
            },
            "type": "barpolar"
           }
          ],
          "carpet": [
           {
            "aaxis": {
             "endlinecolor": "#2a3f5f",
             "gridcolor": "white",
             "linecolor": "white",
             "minorgridcolor": "white",
             "startlinecolor": "#2a3f5f"
            },
            "baxis": {
             "endlinecolor": "#2a3f5f",
             "gridcolor": "white",
             "linecolor": "white",
             "minorgridcolor": "white",
             "startlinecolor": "#2a3f5f"
            },
            "type": "carpet"
           }
          ],
          "choropleth": [
           {
            "colorbar": {
             "outlinewidth": 0,
             "ticks": ""
            },
            "type": "choropleth"
           }
          ],
          "contour": [
           {
            "colorbar": {
             "outlinewidth": 0,
             "ticks": ""
            },
            "colorscale": [
             [
              0,
              "#0d0887"
             ],
             [
              0.1111111111111111,
              "#46039f"
             ],
             [
              0.2222222222222222,
              "#7201a8"
             ],
             [
              0.3333333333333333,
              "#9c179e"
             ],
             [
              0.4444444444444444,
              "#bd3786"
             ],
             [
              0.5555555555555556,
              "#d8576b"
             ],
             [
              0.6666666666666666,
              "#ed7953"
             ],
             [
              0.7777777777777778,
              "#fb9f3a"
             ],
             [
              0.8888888888888888,
              "#fdca26"
             ],
             [
              1,
              "#f0f921"
             ]
            ],
            "type": "contour"
           }
          ],
          "contourcarpet": [
           {
            "colorbar": {
             "outlinewidth": 0,
             "ticks": ""
            },
            "type": "contourcarpet"
           }
          ],
          "heatmap": [
           {
            "colorbar": {
             "outlinewidth": 0,
             "ticks": ""
            },
            "colorscale": [
             [
              0,
              "#0d0887"
             ],
             [
              0.1111111111111111,
              "#46039f"
             ],
             [
              0.2222222222222222,
              "#7201a8"
             ],
             [
              0.3333333333333333,
              "#9c179e"
             ],
             [
              0.4444444444444444,
              "#bd3786"
             ],
             [
              0.5555555555555556,
              "#d8576b"
             ],
             [
              0.6666666666666666,
              "#ed7953"
             ],
             [
              0.7777777777777778,
              "#fb9f3a"
             ],
             [
              0.8888888888888888,
              "#fdca26"
             ],
             [
              1,
              "#f0f921"
             ]
            ],
            "type": "heatmap"
           }
          ],
          "heatmapgl": [
           {
            "colorbar": {
             "outlinewidth": 0,
             "ticks": ""
            },
            "colorscale": [
             [
              0,
              "#0d0887"
             ],
             [
              0.1111111111111111,
              "#46039f"
             ],
             [
              0.2222222222222222,
              "#7201a8"
             ],
             [
              0.3333333333333333,
              "#9c179e"
             ],
             [
              0.4444444444444444,
              "#bd3786"
             ],
             [
              0.5555555555555556,
              "#d8576b"
             ],
             [
              0.6666666666666666,
              "#ed7953"
             ],
             [
              0.7777777777777778,
              "#fb9f3a"
             ],
             [
              0.8888888888888888,
              "#fdca26"
             ],
             [
              1,
              "#f0f921"
             ]
            ],
            "type": "heatmapgl"
           }
          ],
          "histogram": [
           {
            "marker": {
             "pattern": {
              "fillmode": "overlay",
              "size": 10,
              "solidity": 0.2
             }
            },
            "type": "histogram"
           }
          ],
          "histogram2d": [
           {
            "colorbar": {
             "outlinewidth": 0,
             "ticks": ""
            },
            "colorscale": [
             [
              0,
              "#0d0887"
             ],
             [
              0.1111111111111111,
              "#46039f"
             ],
             [
              0.2222222222222222,
              "#7201a8"
             ],
             [
              0.3333333333333333,
              "#9c179e"
             ],
             [
              0.4444444444444444,
              "#bd3786"
             ],
             [
              0.5555555555555556,
              "#d8576b"
             ],
             [
              0.6666666666666666,
              "#ed7953"
             ],
             [
              0.7777777777777778,
              "#fb9f3a"
             ],
             [
              0.8888888888888888,
              "#fdca26"
             ],
             [
              1,
              "#f0f921"
             ]
            ],
            "type": "histogram2d"
           }
          ],
          "histogram2dcontour": [
           {
            "colorbar": {
             "outlinewidth": 0,
             "ticks": ""
            },
            "colorscale": [
             [
              0,
              "#0d0887"
             ],
             [
              0.1111111111111111,
              "#46039f"
             ],
             [
              0.2222222222222222,
              "#7201a8"
             ],
             [
              0.3333333333333333,
              "#9c179e"
             ],
             [
              0.4444444444444444,
              "#bd3786"
             ],
             [
              0.5555555555555556,
              "#d8576b"
             ],
             [
              0.6666666666666666,
              "#ed7953"
             ],
             [
              0.7777777777777778,
              "#fb9f3a"
             ],
             [
              0.8888888888888888,
              "#fdca26"
             ],
             [
              1,
              "#f0f921"
             ]
            ],
            "type": "histogram2dcontour"
           }
          ],
          "mesh3d": [
           {
            "colorbar": {
             "outlinewidth": 0,
             "ticks": ""
            },
            "type": "mesh3d"
           }
          ],
          "parcoords": [
           {
            "line": {
             "colorbar": {
              "outlinewidth": 0,
              "ticks": ""
             }
            },
            "type": "parcoords"
           }
          ],
          "pie": [
           {
            "automargin": true,
            "type": "pie"
           }
          ],
          "scatter": [
           {
            "marker": {
             "colorbar": {
              "outlinewidth": 0,
              "ticks": ""
             }
            },
            "type": "scatter"
           }
          ],
          "scatter3d": [
           {
            "line": {
             "colorbar": {
              "outlinewidth": 0,
              "ticks": ""
             }
            },
            "marker": {
             "colorbar": {
              "outlinewidth": 0,
              "ticks": ""
             }
            },
            "type": "scatter3d"
           }
          ],
          "scattercarpet": [
           {
            "marker": {
             "colorbar": {
              "outlinewidth": 0,
              "ticks": ""
             }
            },
            "type": "scattercarpet"
           }
          ],
          "scattergeo": [
           {
            "marker": {
             "colorbar": {
              "outlinewidth": 0,
              "ticks": ""
             }
            },
            "type": "scattergeo"
           }
          ],
          "scattergl": [
           {
            "marker": {
             "colorbar": {
              "outlinewidth": 0,
              "ticks": ""
             }
            },
            "type": "scattergl"
           }
          ],
          "scattermapbox": [
           {
            "marker": {
             "colorbar": {
              "outlinewidth": 0,
              "ticks": ""
             }
            },
            "type": "scattermapbox"
           }
          ],
          "scatterpolar": [
           {
            "marker": {
             "colorbar": {
              "outlinewidth": 0,
              "ticks": ""
             }
            },
            "type": "scatterpolar"
           }
          ],
          "scatterpolargl": [
           {
            "marker": {
             "colorbar": {
              "outlinewidth": 0,
              "ticks": ""
             }
            },
            "type": "scatterpolargl"
           }
          ],
          "scatterternary": [
           {
            "marker": {
             "colorbar": {
              "outlinewidth": 0,
              "ticks": ""
             }
            },
            "type": "scatterternary"
           }
          ],
          "surface": [
           {
            "colorbar": {
             "outlinewidth": 0,
             "ticks": ""
            },
            "colorscale": [
             [
              0,
              "#0d0887"
             ],
             [
              0.1111111111111111,
              "#46039f"
             ],
             [
              0.2222222222222222,
              "#7201a8"
             ],
             [
              0.3333333333333333,
              "#9c179e"
             ],
             [
              0.4444444444444444,
              "#bd3786"
             ],
             [
              0.5555555555555556,
              "#d8576b"
             ],
             [
              0.6666666666666666,
              "#ed7953"
             ],
             [
              0.7777777777777778,
              "#fb9f3a"
             ],
             [
              0.8888888888888888,
              "#fdca26"
             ],
             [
              1,
              "#f0f921"
             ]
            ],
            "type": "surface"
           }
          ],
          "table": [
           {
            "cells": {
             "fill": {
              "color": "#EBF0F8"
             },
             "line": {
              "color": "white"
             }
            },
            "header": {
             "fill": {
              "color": "#C8D4E3"
             },
             "line": {
              "color": "white"
             }
            },
            "type": "table"
           }
          ]
         },
         "layout": {
          "annotationdefaults": {
           "arrowcolor": "#2a3f5f",
           "arrowhead": 0,
           "arrowwidth": 1
          },
          "autotypenumbers": "strict",
          "coloraxis": {
           "colorbar": {
            "outlinewidth": 0,
            "ticks": ""
           }
          },
          "colorscale": {
           "diverging": [
            [
             0,
             "#8e0152"
            ],
            [
             0.1,
             "#c51b7d"
            ],
            [
             0.2,
             "#de77ae"
            ],
            [
             0.3,
             "#f1b6da"
            ],
            [
             0.4,
             "#fde0ef"
            ],
            [
             0.5,
             "#f7f7f7"
            ],
            [
             0.6,
             "#e6f5d0"
            ],
            [
             0.7,
             "#b8e186"
            ],
            [
             0.8,
             "#7fbc41"
            ],
            [
             0.9,
             "#4d9221"
            ],
            [
             1,
             "#276419"
            ]
           ],
           "sequential": [
            [
             0,
             "#0d0887"
            ],
            [
             0.1111111111111111,
             "#46039f"
            ],
            [
             0.2222222222222222,
             "#7201a8"
            ],
            [
             0.3333333333333333,
             "#9c179e"
            ],
            [
             0.4444444444444444,
             "#bd3786"
            ],
            [
             0.5555555555555556,
             "#d8576b"
            ],
            [
             0.6666666666666666,
             "#ed7953"
            ],
            [
             0.7777777777777778,
             "#fb9f3a"
            ],
            [
             0.8888888888888888,
             "#fdca26"
            ],
            [
             1,
             "#f0f921"
            ]
           ],
           "sequentialminus": [
            [
             0,
             "#0d0887"
            ],
            [
             0.1111111111111111,
             "#46039f"
            ],
            [
             0.2222222222222222,
             "#7201a8"
            ],
            [
             0.3333333333333333,
             "#9c179e"
            ],
            [
             0.4444444444444444,
             "#bd3786"
            ],
            [
             0.5555555555555556,
             "#d8576b"
            ],
            [
             0.6666666666666666,
             "#ed7953"
            ],
            [
             0.7777777777777778,
             "#fb9f3a"
            ],
            [
             0.8888888888888888,
             "#fdca26"
            ],
            [
             1,
             "#f0f921"
            ]
           ]
          },
          "colorway": [
           "#636efa",
           "#EF553B",
           "#00cc96",
           "#ab63fa",
           "#FFA15A",
           "#19d3f3",
           "#FF6692",
           "#B6E880",
           "#FF97FF",
           "#FECB52"
          ],
          "font": {
           "color": "#2a3f5f"
          },
          "geo": {
           "bgcolor": "white",
           "lakecolor": "white",
           "landcolor": "#E5ECF6",
           "showlakes": true,
           "showland": true,
           "subunitcolor": "white"
          },
          "hoverlabel": {
           "align": "left"
          },
          "hovermode": "closest",
          "mapbox": {
           "style": "light"
          },
          "paper_bgcolor": "white",
          "plot_bgcolor": "#E5ECF6",
          "polar": {
           "angularaxis": {
            "gridcolor": "white",
            "linecolor": "white",
            "ticks": ""
           },
           "bgcolor": "#E5ECF6",
           "radialaxis": {
            "gridcolor": "white",
            "linecolor": "white",
            "ticks": ""
           }
          },
          "scene": {
           "xaxis": {
            "backgroundcolor": "#E5ECF6",
            "gridcolor": "white",
            "gridwidth": 2,
            "linecolor": "white",
            "showbackground": true,
            "ticks": "",
            "zerolinecolor": "white"
           },
           "yaxis": {
            "backgroundcolor": "#E5ECF6",
            "gridcolor": "white",
            "gridwidth": 2,
            "linecolor": "white",
            "showbackground": true,
            "ticks": "",
            "zerolinecolor": "white"
           },
           "zaxis": {
            "backgroundcolor": "#E5ECF6",
            "gridcolor": "white",
            "gridwidth": 2,
            "linecolor": "white",
            "showbackground": true,
            "ticks": "",
            "zerolinecolor": "white"
           }
          },
          "shapedefaults": {
           "line": {
            "color": "#2a3f5f"
           }
          },
          "ternary": {
           "aaxis": {
            "gridcolor": "white",
            "linecolor": "white",
            "ticks": ""
           },
           "baxis": {
            "gridcolor": "white",
            "linecolor": "white",
            "ticks": ""
           },
           "bgcolor": "#E5ECF6",
           "caxis": {
            "gridcolor": "white",
            "linecolor": "white",
            "ticks": ""
           }
          },
          "title": {
           "x": 0.05
          },
          "xaxis": {
           "automargin": true,
           "gridcolor": "white",
           "linecolor": "white",
           "ticks": "",
           "title": {
            "standoff": 15
           },
           "zerolinecolor": "white",
           "zerolinewidth": 2
          },
          "yaxis": {
           "automargin": true,
           "gridcolor": "white",
           "linecolor": "white",
           "ticks": "",
           "title": {
            "standoff": 15
           },
           "zerolinecolor": "white",
           "zerolinewidth": 2
          }
         }
        }
       }
      },
      "text/html": [
       "<div>                            <div id=\"086aa275-3f2d-4697-821c-638c52ec528e\" class=\"plotly-graph-div\" style=\"height:525px; width:100%;\"></div>            <script type=\"text/javascript\">                require([\"plotly\"], function(Plotly) {                    window.PLOTLYENV=window.PLOTLYENV || {};                                    if (document.getElementById(\"086aa275-3f2d-4697-821c-638c52ec528e\")) {                    Plotly.newPlot(                        \"086aa275-3f2d-4697-821c-638c52ec528e\",                        [{\"hoverinfo\":\"skip\",\"marker\":{\"color\":\"green\"},\"name\":\"Men\",\"orientation\":\"h\",\"type\":\"bar\",\"x\":[348843527.0,350861843.0,336694403.0,319186586.0,307711749.0,306243509.0,306298288.0,278670739.0,248265041.0,239380760.0,220302564.0,189880511.0,154455368.0,126216520.0,87919280.0,55253441.0,57363155.0],\"y\":[1,6,11,16,21,26,31,36,41,46,51,56,61,66,71,76,81]},{\"hoverinfo\":\"skip\",\"marker\":{\"color\":\"pink\"},\"name\":\"Women\",\"orientation\":\"h\",\"type\":\"bar\",\"x\":[-329071642.0,-329225029.0,-315221758.0,-299112617.0,-289115754.0,-290548637.0,-293679967.0,-269562260.0,-242158101.0,-236459269.0,-221445209.0,-195902317.0,-165545454.0,-141973645.0,-103935445.0,-70462837.0,-94014398.0],\"y\":[1,6,11,16,21,26,31,36,41,46,51,56,61,66,71,76,81]}],                        {\"template\":{\"data\":{\"bar\":[{\"error_x\":{\"color\":\"#2a3f5f\"},\"error_y\":{\"color\":\"#2a3f5f\"},\"marker\":{\"line\":{\"color\":\"#E5ECF6\",\"width\":0.5},\"pattern\":{\"fillmode\":\"overlay\",\"size\":10,\"solidity\":0.2}},\"type\":\"bar\"}],\"barpolar\":[{\"marker\":{\"line\":{\"color\":\"#E5ECF6\",\"width\":0.5},\"pattern\":{\"fillmode\":\"overlay\",\"size\":10,\"solidity\":0.2}},\"type\":\"barpolar\"}],\"carpet\":[{\"aaxis\":{\"endlinecolor\":\"#2a3f5f\",\"gridcolor\":\"white\",\"linecolor\":\"white\",\"minorgridcolor\":\"white\",\"startlinecolor\":\"#2a3f5f\"},\"baxis\":{\"endlinecolor\":\"#2a3f5f\",\"gridcolor\":\"white\",\"linecolor\":\"white\",\"minorgridcolor\":\"white\",\"startlinecolor\":\"#2a3f5f\"},\"type\":\"carpet\"}],\"choropleth\":[{\"colorbar\":{\"outlinewidth\":0,\"ticks\":\"\"},\"type\":\"choropleth\"}],\"contour\":[{\"colorbar\":{\"outlinewidth\":0,\"ticks\":\"\"},\"colorscale\":[[0.0,\"#0d0887\"],[0.1111111111111111,\"#46039f\"],[0.2222222222222222,\"#7201a8\"],[0.3333333333333333,\"#9c179e\"],[0.4444444444444444,\"#bd3786\"],[0.5555555555555556,\"#d8576b\"],[0.6666666666666666,\"#ed7953\"],[0.7777777777777778,\"#fb9f3a\"],[0.8888888888888888,\"#fdca26\"],[1.0,\"#f0f921\"]],\"type\":\"contour\"}],\"contourcarpet\":[{\"colorbar\":{\"outlinewidth\":0,\"ticks\":\"\"},\"type\":\"contourcarpet\"}],\"heatmap\":[{\"colorbar\":{\"outlinewidth\":0,\"ticks\":\"\"},\"colorscale\":[[0.0,\"#0d0887\"],[0.1111111111111111,\"#46039f\"],[0.2222222222222222,\"#7201a8\"],[0.3333333333333333,\"#9c179e\"],[0.4444444444444444,\"#bd3786\"],[0.5555555555555556,\"#d8576b\"],[0.6666666666666666,\"#ed7953\"],[0.7777777777777778,\"#fb9f3a\"],[0.8888888888888888,\"#fdca26\"],[1.0,\"#f0f921\"]],\"type\":\"heatmap\"}],\"heatmapgl\":[{\"colorbar\":{\"outlinewidth\":0,\"ticks\":\"\"},\"colorscale\":[[0.0,\"#0d0887\"],[0.1111111111111111,\"#46039f\"],[0.2222222222222222,\"#7201a8\"],[0.3333333333333333,\"#9c179e\"],[0.4444444444444444,\"#bd3786\"],[0.5555555555555556,\"#d8576b\"],[0.6666666666666666,\"#ed7953\"],[0.7777777777777778,\"#fb9f3a\"],[0.8888888888888888,\"#fdca26\"],[1.0,\"#f0f921\"]],\"type\":\"heatmapgl\"}],\"histogram\":[{\"marker\":{\"pattern\":{\"fillmode\":\"overlay\",\"size\":10,\"solidity\":0.2}},\"type\":\"histogram\"}],\"histogram2d\":[{\"colorbar\":{\"outlinewidth\":0,\"ticks\":\"\"},\"colorscale\":[[0.0,\"#0d0887\"],[0.1111111111111111,\"#46039f\"],[0.2222222222222222,\"#7201a8\"],[0.3333333333333333,\"#9c179e\"],[0.4444444444444444,\"#bd3786\"],[0.5555555555555556,\"#d8576b\"],[0.6666666666666666,\"#ed7953\"],[0.7777777777777778,\"#fb9f3a\"],[0.8888888888888888,\"#fdca26\"],[1.0,\"#f0f921\"]],\"type\":\"histogram2d\"}],\"histogram2dcontour\":[{\"colorbar\":{\"outlinewidth\":0,\"ticks\":\"\"},\"colorscale\":[[0.0,\"#0d0887\"],[0.1111111111111111,\"#46039f\"],[0.2222222222222222,\"#7201a8\"],[0.3333333333333333,\"#9c179e\"],[0.4444444444444444,\"#bd3786\"],[0.5555555555555556,\"#d8576b\"],[0.6666666666666666,\"#ed7953\"],[0.7777777777777778,\"#fb9f3a\"],[0.8888888888888888,\"#fdca26\"],[1.0,\"#f0f921\"]],\"type\":\"histogram2dcontour\"}],\"mesh3d\":[{\"colorbar\":{\"outlinewidth\":0,\"ticks\":\"\"},\"type\":\"mesh3d\"}],\"parcoords\":[{\"line\":{\"colorbar\":{\"outlinewidth\":0,\"ticks\":\"\"}},\"type\":\"parcoords\"}],\"pie\":[{\"automargin\":true,\"type\":\"pie\"}],\"scatter\":[{\"marker\":{\"colorbar\":{\"outlinewidth\":0,\"ticks\":\"\"}},\"type\":\"scatter\"}],\"scatter3d\":[{\"line\":{\"colorbar\":{\"outlinewidth\":0,\"ticks\":\"\"}},\"marker\":{\"colorbar\":{\"outlinewidth\":0,\"ticks\":\"\"}},\"type\":\"scatter3d\"}],\"scattercarpet\":[{\"marker\":{\"colorbar\":{\"outlinewidth\":0,\"ticks\":\"\"}},\"type\":\"scattercarpet\"}],\"scattergeo\":[{\"marker\":{\"colorbar\":{\"outlinewidth\":0,\"ticks\":\"\"}},\"type\":\"scattergeo\"}],\"scattergl\":[{\"marker\":{\"colorbar\":{\"outlinewidth\":0,\"ticks\":\"\"}},\"type\":\"scattergl\"}],\"scattermapbox\":[{\"marker\":{\"colorbar\":{\"outlinewidth\":0,\"ticks\":\"\"}},\"type\":\"scattermapbox\"}],\"scatterpolar\":[{\"marker\":{\"colorbar\":{\"outlinewidth\":0,\"ticks\":\"\"}},\"type\":\"scatterpolar\"}],\"scatterpolargl\":[{\"marker\":{\"colorbar\":{\"outlinewidth\":0,\"ticks\":\"\"}},\"type\":\"scatterpolargl\"}],\"scatterternary\":[{\"marker\":{\"colorbar\":{\"outlinewidth\":0,\"ticks\":\"\"}},\"type\":\"scatterternary\"}],\"surface\":[{\"colorbar\":{\"outlinewidth\":0,\"ticks\":\"\"},\"colorscale\":[[0.0,\"#0d0887\"],[0.1111111111111111,\"#46039f\"],[0.2222222222222222,\"#7201a8\"],[0.3333333333333333,\"#9c179e\"],[0.4444444444444444,\"#bd3786\"],[0.5555555555555556,\"#d8576b\"],[0.6666666666666666,\"#ed7953\"],[0.7777777777777778,\"#fb9f3a\"],[0.8888888888888888,\"#fdca26\"],[1.0,\"#f0f921\"]],\"type\":\"surface\"}],\"table\":[{\"cells\":{\"fill\":{\"color\":\"#EBF0F8\"},\"line\":{\"color\":\"white\"}},\"header\":{\"fill\":{\"color\":\"#C8D4E3\"},\"line\":{\"color\":\"white\"}},\"type\":\"table\"}]},\"layout\":{\"annotationdefaults\":{\"arrowcolor\":\"#2a3f5f\",\"arrowhead\":0,\"arrowwidth\":1},\"autotypenumbers\":\"strict\",\"coloraxis\":{\"colorbar\":{\"outlinewidth\":0,\"ticks\":\"\"}},\"colorscale\":{\"diverging\":[[0,\"#8e0152\"],[0.1,\"#c51b7d\"],[0.2,\"#de77ae\"],[0.3,\"#f1b6da\"],[0.4,\"#fde0ef\"],[0.5,\"#f7f7f7\"],[0.6,\"#e6f5d0\"],[0.7,\"#b8e186\"],[0.8,\"#7fbc41\"],[0.9,\"#4d9221\"],[1,\"#276419\"]],\"sequential\":[[0.0,\"#0d0887\"],[0.1111111111111111,\"#46039f\"],[0.2222222222222222,\"#7201a8\"],[0.3333333333333333,\"#9c179e\"],[0.4444444444444444,\"#bd3786\"],[0.5555555555555556,\"#d8576b\"],[0.6666666666666666,\"#ed7953\"],[0.7777777777777778,\"#fb9f3a\"],[0.8888888888888888,\"#fdca26\"],[1.0,\"#f0f921\"]],\"sequentialminus\":[[0.0,\"#0d0887\"],[0.1111111111111111,\"#46039f\"],[0.2222222222222222,\"#7201a8\"],[0.3333333333333333,\"#9c179e\"],[0.4444444444444444,\"#bd3786\"],[0.5555555555555556,\"#d8576b\"],[0.6666666666666666,\"#ed7953\"],[0.7777777777777778,\"#fb9f3a\"],[0.8888888888888888,\"#fdca26\"],[1.0,\"#f0f921\"]]},\"colorway\":[\"#636efa\",\"#EF553B\",\"#00cc96\",\"#ab63fa\",\"#FFA15A\",\"#19d3f3\",\"#FF6692\",\"#B6E880\",\"#FF97FF\",\"#FECB52\"],\"font\":{\"color\":\"#2a3f5f\"},\"geo\":{\"bgcolor\":\"white\",\"lakecolor\":\"white\",\"landcolor\":\"#E5ECF6\",\"showlakes\":true,\"showland\":true,\"subunitcolor\":\"white\"},\"hoverlabel\":{\"align\":\"left\"},\"hovermode\":\"closest\",\"mapbox\":{\"style\":\"light\"},\"paper_bgcolor\":\"white\",\"plot_bgcolor\":\"#E5ECF6\",\"polar\":{\"angularaxis\":{\"gridcolor\":\"white\",\"linecolor\":\"white\",\"ticks\":\"\"},\"bgcolor\":\"#E5ECF6\",\"radialaxis\":{\"gridcolor\":\"white\",\"linecolor\":\"white\",\"ticks\":\"\"}},\"scene\":{\"xaxis\":{\"backgroundcolor\":\"#E5ECF6\",\"gridcolor\":\"white\",\"gridwidth\":2,\"linecolor\":\"white\",\"showbackground\":true,\"ticks\":\"\",\"zerolinecolor\":\"white\"},\"yaxis\":{\"backgroundcolor\":\"#E5ECF6\",\"gridcolor\":\"white\",\"gridwidth\":2,\"linecolor\":\"white\",\"showbackground\":true,\"ticks\":\"\",\"zerolinecolor\":\"white\"},\"zaxis\":{\"backgroundcolor\":\"#E5ECF6\",\"gridcolor\":\"white\",\"gridwidth\":2,\"linecolor\":\"white\",\"showbackground\":true,\"ticks\":\"\",\"zerolinecolor\":\"white\"}},\"shapedefaults\":{\"line\":{\"color\":\"#2a3f5f\"}},\"ternary\":{\"aaxis\":{\"gridcolor\":\"white\",\"linecolor\":\"white\",\"ticks\":\"\"},\"baxis\":{\"gridcolor\":\"white\",\"linecolor\":\"white\",\"ticks\":\"\"},\"bgcolor\":\"#E5ECF6\",\"caxis\":{\"gridcolor\":\"white\",\"linecolor\":\"white\",\"ticks\":\"\"}},\"title\":{\"x\":0.05},\"xaxis\":{\"automargin\":true,\"gridcolor\":\"white\",\"linecolor\":\"white\",\"ticks\":\"\",\"title\":{\"standoff\":15},\"zerolinecolor\":\"white\",\"zerolinewidth\":2},\"yaxis\":{\"automargin\":true,\"gridcolor\":\"white\",\"linecolor\":\"white\",\"ticks\":\"\",\"title\":{\"standoff\":15},\"zerolinecolor\":\"white\",\"zerolinewidth\":2}}}},                        {\"responsive\": true}                    ).then(function(){\n",
       "                            \n",
       "var gd = document.getElementById('086aa275-3f2d-4697-821c-638c52ec528e');\n",
       "var x = new MutationObserver(function (mutations, observer) {{\n",
       "        var display = window.getComputedStyle(gd).display;\n",
       "        if (!display || display === 'none') {{\n",
       "            console.log([gd, 'removed!']);\n",
       "            Plotly.purge(gd);\n",
       "            observer.disconnect();\n",
       "        }}\n",
       "}});\n",
       "\n",
       "// Listen for the removal of the full notebook cells\n",
       "var notebookContainer = gd.closest('#notebook-container');\n",
       "if (notebookContainer) {{\n",
       "    x.observe(notebookContainer, {childList: true});\n",
       "}}\n",
       "\n",
       "// Listen for the clearing of the current output cell\n",
       "var outputEl = gd.closest('.output');\n",
       "if (outputEl) {{\n",
       "    x.observe(outputEl, {childList: true});\n",
       "}}\n",
       "\n",
       "                        })                };                });            </script>        </div>"
      ]
     },
     "metadata": {},
     "output_type": "display_data"
    }
   ],
   "source": [
    "### animated\n",
    "\n",
    "import plotly.graph_objects as go\n",
    "# create the scatter plot\n",
    "# points = go.Scatter(x=X.flatten(), y=y, mode='markers')\n",
    "# create initial pyramid\n",
    "year = 2020\n",
    "bins = [go.Bar(x = df.loc[str(year),:].filter(regex=\"Male\").values,\n",
    "           y = [int(s[:2])+1 for s in age_ranges],\n",
    "           orientation='h',\n",
    "           name='Men',\n",
    "           marker=dict(color='green'),\n",
    "           hoverinfo='skip'\n",
    "           ),\n",
    "    go.Bar(x = -df.loc[str(year),:].filter(regex=\"Female\").values,\n",
    "           y=[int(s[:2])+1 for s in age_ranges],\n",
    "           orientation='h',\n",
    "           name='Women',\n",
    "           marker=dict(color='pink'),\n",
    "           hoverinfo='skip',\n",
    "           )\n",
    "    ]\n",
    "# create a layout with out title (optional)\n",
    "\n",
    "layout = go.Layout(barmode='overlay',\n",
    "               yaxis=go.layout.YAxis(range=[0, 90], title='Age'),\n",
    "               xaxis=go.layout.XAxis(title='Number'))\n",
    "# combine the graph_objects into a figure\n",
    "fig = go.Figure(data=bins)\n",
    "\n",
    "                                 \n",
    "# to see what we have so far\n",
    "fig.show()"
   ]
  },
  {
   "cell_type": "code",
   "execution_count": 45,
   "id": "a4f28cee",
   "metadata": {},
   "outputs": [],
   "source": [
    "# create a list of frames\n",
    "frames = []\n",
    "# create a frame for every line y\n",
    "for year in df.index:\n",
    "    # update the pyramid\n",
    "    bins = [go.Bar(x = df.loc[str(year),:].filter(regex=\"Male\").values,\n",
    "               y = [int(s[:2])+1 for s in age_ranges],\n",
    "               orientation='h',\n",
    "               name='Men',\n",
    "               marker=dict(color='green'),\n",
    "               hoverinfo='skip'\n",
    "               ),\n",
    "        go.Bar(x = -df.loc[str(year),:].filter(regex=\"Female\").values,\n",
    "               y=[int(s[:2])+1 for s in age_ranges],\n",
    "               orientation='h',\n",
    "               name='Women',\n",
    "               marker=dict(color='pink'),\n",
    "               hoverinfo='skip',\n",
    "               )\n",
    "        ]\n",
    "    # create the button\n",
    "    button = {\n",
    "        \"type\": \"buttons\",\n",
    "        \"buttons\": [\n",
    "            {\n",
    "                \"label\": \"Play\",\n",
    "                \"method\": \"animate\",\n",
    "                \"args\": [None, {\"frame\": {\"duration\": 20}}],\n",
    "            }\n",
    "        ],\n",
    "    }\n",
    "    # add the button to the layout and update the \n",
    "    # title to show the gradient descent step\n",
    "    layout = go.Layout(updatemenus=[button], \n",
    "                       title_text=f\"Population Pyramid for {year}\")\n",
    "    # create a frame object\n",
    "    frame = go.Frame(\n",
    "        data= bins, \n",
    "        layout=go.Layout(title_text=f\"Population Pyramid for {year}\")\n",
    "    )\n",
    "# add the frame object to the frames list\n",
    "    frames.append(frame)"
   ]
  },
  {
   "cell_type": "code",
   "execution_count": 46,
   "id": "cf1d9cea",
   "metadata": {},
   "outputs": [
    {
     "data": {
      "application/vnd.plotly.v1+json": {
       "config": {
        "plotlyServerURL": "https://plot.ly"
       },
       "data": [
        {
         "hoverinfo": "skip",
         "marker": {
          "color": "green"
         },
         "name": "Men",
         "orientation": "h",
         "type": "bar",
         "x": [
          223557787,
          194920004,
          160122897,
          132065258,
          126570596,
          115125109,
          106059293,
          90503442,
          75194713,
          71443112,
          62634651,
          51789924,
          39473752,
          28068429,
          19260322,
          10847132,
          7271056
         ],
         "y": [
          1,
          6,
          11,
          16,
          21,
          26,
          31,
          36,
          41,
          46,
          51,
          56,
          61,
          66,
          71,
          76,
          81
         ]
        },
        {
         "hoverinfo": "skip",
         "marker": {
          "color": "pink"
         },
         "name": "Women",
         "orientation": "h",
         "type": "bar",
         "x": [
          -214075855,
          -186934892,
          -153151958,
          -126520594,
          -121770846,
          -111426085,
          -103783365,
          -92535492,
          -76922502,
          -74699893,
          -66247630,
          -56336109,
          -45368022,
          -34507949,
          -25342528,
          -15396598,
          -11637144
         ],
         "y": [
          1,
          6,
          11,
          16,
          21,
          26,
          31,
          36,
          41,
          46,
          51,
          56,
          61,
          66,
          71,
          76,
          81
         ]
        }
       ],
       "frames": [
        {
         "data": [
          {
           "hoverinfo": "skip",
           "marker": {
            "color": "green"
           },
           "name": "Men",
           "orientation": "h",
           "type": "bar",
           "x": [
            344650023,
            351823148,
            340134768,
            321211465,
            309096185,
            304184176,
            308770323,
            283342013,
            252677526,
            238749207,
            223947103,
            196668138,
            154828871,
            129373392,
            91921639,
            56383161,
            58371269
           ],
           "y": [
            1,
            6,
            11,
            16,
            21,
            26,
            31,
            36,
            41,
            46,
            51,
            56,
            61,
            66,
            71,
            76,
            81
           ]
          },
          {
           "hoverinfo": "skip",
           "marker": {
            "color": "pink"
           },
           "name": "Women",
           "orientation": "h",
           "type": "bar",
           "x": [
            -325642464,
            -330431921,
            -318493196,
            -301115793,
            -290347797,
            -288241480,
            -295707176,
            -274082515,
            -246330684,
            -235743243,
            -224896102,
            -202707064,
            -165954976,
            -145660097,
            -109247654,
            -71828549,
            -95845624
           ],
           "y": [
            1,
            6,
            11,
            16,
            21,
            26,
            31,
            36,
            41,
            46,
            51,
            56,
            61,
            66,
            71,
            76,
            81
           ]
          }
         ],
         "layout": {
          "title": {
           "text": "Population Pyramid for 2021"
          }
         }
        },
        {
         "data": [
          {
           "hoverinfo": "skip",
           "marker": {
            "color": "green"
           },
           "name": "Men",
           "orientation": "h",
           "type": "bar",
           "x": [
            348843527,
            350861843,
            336694403,
            319186586,
            307711749,
            306243509,
            306298288,
            278670739,
            248265041,
            239380760,
            220302564,
            189880511,
            154455368,
            126216520,
            87919280,
            55253441,
            57363155
           ],
           "y": [
            1,
            6,
            11,
            16,
            21,
            26,
            31,
            36,
            41,
            46,
            51,
            56,
            61,
            66,
            71,
            76,
            81
           ]
          },
          {
           "hoverinfo": "skip",
           "marker": {
            "color": "pink"
           },
           "name": "Women",
           "orientation": "h",
           "type": "bar",
           "x": [
            -329071642,
            -329225029,
            -315221758,
            -299112617,
            -289115754,
            -290548637,
            -293679967,
            -269562260,
            -242158101,
            -236459269,
            -221445209,
            -195902317,
            -165545454,
            -141973645,
            -103935445,
            -70462837,
            -94014398
           ],
           "y": [
            1,
            6,
            11,
            16,
            21,
            26,
            31,
            36,
            41,
            46,
            51,
            56,
            61,
            66,
            71,
            76,
            81
           ]
          }
         ],
         "layout": {
          "title": {
           "text": "Population Pyramid for 2020"
          }
         }
        },
        {
         "data": [
          {
           "hoverinfo": "skip",
           "marker": {
            "color": "green"
           },
           "name": "Men",
           "orientation": "h",
           "type": "bar",
           "x": [
            351934193,
            349385852,
            332876020,
            317132294,
            306772989,
            308834036,
            301641071,
            273910394,
            245159887,
            239140834,
            216758827,
            182501380,
            153577832,
            122089581,
            83320876,
            54369418,
            55792406
           ],
           "y": [
            1,
            6,
            11,
            16,
            21,
            26,
            31,
            36,
            41,
            46,
            51,
            56,
            61,
            66,
            71,
            76,
            81
           ]
          },
          {
           "hoverinfo": "skip",
           "marker": {
            "color": "pink"
           },
           "name": "Women",
           "orientation": "h",
           "type": "bar",
           "x": [
            -331507104,
            -327560200,
            -311628516,
            -297053915,
            -288370783,
            -293351115,
            -289549403,
            -264928936,
            -239265144,
            -236341845,
            -218144169,
            -188568634,
            -164724422,
            -137228598,
            -98120908,
            -69603886,
            -91536492
           ],
           "y": [
            1,
            6,
            11,
            16,
            21,
            26,
            31,
            36,
            41,
            46,
            51,
            56,
            61,
            66,
            71,
            76,
            81
           ]
          }
         ],
         "layout": {
          "title": {
           "text": "Population Pyramid for 2019"
          }
         }
        },
        {
         "data": [
          {
           "hoverinfo": "skip",
           "marker": {
            "color": "green"
           },
           "name": "Men",
           "orientation": "h",
           "type": "bar",
           "x": [
            354088174,
            347389724,
            329029796,
            315050425,
            306524173,
            310713277,
            296708276,
            268841828,
            244013351,
            237876277,
            214089804,
            174951704,
            151598168,
            117713443,
            79116689,
            53385227,
            53954172
           ],
           "y": [
            1,
            6,
            11,
            16,
            21,
            26,
            31,
            36,
            41,
            46,
            51,
            56,
            61,
            66,
            71,
            76,
            81
           ]
          },
          {
           "hoverinfo": "skip",
           "marker": {
            "color": "pink"
           },
           "name": "Women",
           "orientation": "h",
           "type": "bar",
           "x": [
            -333098585,
            -325470037,
            -308035159,
            -295004074,
            -288393154,
            -295497148,
            -285117787,
            -260070368,
            -238289828,
            -235273671,
            -215725423,
            -181123022,
            -162791878,
            -132182084,
            -92955177,
            -68827619,
            -88876981
           ],
           "y": [
            1,
            6,
            11,
            16,
            21,
            26,
            31,
            36,
            41,
            46,
            51,
            56,
            61,
            66,
            71,
            76,
            81
           ]
          }
         ],
         "layout": {
          "title": {
           "text": "Population Pyramid for 2018"
          }
         }
        },
        {
         "data": [
          {
           "hoverinfo": "skip",
           "marker": {
            "color": "green"
           },
           "name": "Men",
           "orientation": "h",
           "type": "bar",
           "x": [
            355156429,
            344546700,
            325497715,
            313205095,
            306617594,
            312088503,
            291846258,
            262872609,
            244088949,
            235227618,
            211566906,
            169244311,
            148260664,
            113124371,
            75382806,
            52537112,
            52078457
           ],
           "y": [
            1,
            6,
            11,
            16,
            21,
            26,
            31,
            36,
            41,
            46,
            51,
            56,
            61,
            66,
            71,
            76,
            81
           ]
          },
          {
           "hoverinfo": "skip",
           "marker": {
            "color": "pink"
           },
           "name": "Women",
           "orientation": "h",
           "type": "bar",
           "x": [
            -333723909,
            -322664475,
            -304742832,
            -293243362,
            -288853402,
            -297102799,
            -280700517,
            -254392892,
            -238513311,
            -232882421,
            -213417113,
            -175533333,
            -159421927,
            -126840509,
            -88462740,
            -68171738,
            -86148342
           ],
           "y": [
            1,
            6,
            11,
            16,
            21,
            26,
            31,
            36,
            41,
            46,
            51,
            56,
            61,
            66,
            71,
            76,
            81
           ]
          }
         ],
         "layout": {
          "title": {
           "text": "Population Pyramid for 2017"
          }
         }
        },
        {
         "data": [
          {
           "hoverinfo": "skip",
           "marker": {
            "color": "green"
           },
           "name": "Men",
           "orientation": "h",
           "type": "bar",
           "x": [
            354925199,
            341077870,
            322664018,
            311582983,
            307261358,
            312366246,
            287022050,
            257084678,
            244481823,
            231333964,
            206486106,
            166886077,
            144567239,
            108314142,
            72330535,
            51646624,
            50202849
           ],
           "y": [
            1,
            6,
            11,
            16,
            21,
            26,
            31,
            36,
            41,
            46,
            51,
            56,
            61,
            66,
            71,
            76,
            81
           ]
          },
          {
           "hoverinfo": "skip",
           "marker": {
            "color": "pink"
           },
           "name": "Women",
           "orientation": "h",
           "type": "bar",
           "x": [
            -333192412,
            -319335512,
            -302069182,
            -291779159,
            -289870080,
            -297659646,
            -276202711,
            -248884434,
            -239056837,
            -229287819,
            -208553884,
            -173285011,
            -155593176,
            -121201876,
            -85021023,
            -67272215,
            -83435502
           ],
           "y": [
            1,
            6,
            11,
            16,
            21,
            26,
            31,
            36,
            41,
            46,
            51,
            56,
            61,
            66,
            71,
            76,
            81
           ]
          }
         ],
         "layout": {
          "title": {
           "text": "Population Pyramid for 2016"
          }
         }
        },
        {
         "data": [
          {
           "hoverinfo": "skip",
           "marker": {
            "color": "green"
           },
           "name": "Men",
           "orientation": "h",
           "type": "bar",
           "x": [
            354008686,
            337480720,
            320564696,
            310192244,
            309371625,
            309807302,
            282246691,
            252584310,
            244891154,
            227336186,
            199053141,
            165962400,
            140507651,
            103035762,
            70534235,
            50526803,
            48371557
           ],
           "y": [
            1,
            6,
            11,
            16,
            21,
            26,
            31,
            36,
            41,
            46,
            51,
            56,
            61,
            66,
            71,
            76,
            81
           ]
          },
          {
           "hoverinfo": "skip",
           "marker": {
            "color": "pink"
           },
           "name": "Women",
           "orientation": "h",
           "type": "bar",
           "x": [
            -332039373,
            -315914905,
            -300028667,
            -290626949,
            -292284952,
            -295632822,
            -271677123,
            -244671007,
            -239679907,
            -225633035,
            -201397884,
            -172501455,
            -151302898,
            -115011737,
            -83176583,
            -66031401,
            -80825052
           ],
           "y": [
            1,
            6,
            11,
            16,
            21,
            26,
            31,
            36,
            41,
            46,
            51,
            56,
            61,
            66,
            71,
            76,
            81
           ]
          }
         ],
         "layout": {
          "title": {
           "text": "Population Pyramid for 2015"
          }
         }
        },
        {
         "data": [
          {
           "hoverinfo": "skip",
           "marker": {
            "color": "green"
           },
           "name": "Men",
           "orientation": "h",
           "type": "bar",
           "x": [
            352720785,
            333664467,
            318536555,
            309376399,
            312215492,
            305260771,
            277602471,
            249512551,
            244517782,
            223710649,
            191347708,
            164935401,
            135863502,
            97599373,
            69457489,
            49320860,
            46647369
           ],
           "y": [
            1,
            6,
            11,
            16,
            21,
            26,
            31,
            36,
            41,
            46,
            51,
            56,
            61,
            66,
            71,
            76,
            81
           ]
          },
          {
           "hoverinfo": "skip",
           "marker": {
            "color": "pink"
           },
           "name": "Women",
           "orientation": "h",
           "type": "bar",
           "x": [
            -330559770,
            -312312239,
            -298048677,
            -290109856,
            -295453698,
            -291776539,
            -267294340,
            -241907755,
            -239577427,
            -222355466,
            -193965005,
            -171628275,
            -146282985,
            -108686489,
            -82248805,
            -64646078,
            -78365700
           ],
           "y": [
            1,
            6,
            11,
            16,
            21,
            26,
            31,
            36,
            41,
            46,
            51,
            56,
            61,
            66,
            71,
            76,
            81
           ]
          }
         ],
         "layout": {
          "title": {
           "text": "Population Pyramid for 2014"
          }
         }
        },
        {
         "data": [
          {
           "hoverinfo": "skip",
           "marker": {
            "color": "green"
           },
           "name": "Men",
           "orientation": "h",
           "type": "bar",
           "x": [
            350790788,
            329803439,
            316427257,
            309262945,
            314237966,
            300426608,
            272602869,
            248280923,
            243087979,
            220989346,
            183513195,
            162838622,
            131052211,
            92832894,
            68451389,
            48116994,
            44927934
           ],
           "y": [
            1,
            6,
            11,
            16,
            21,
            26,
            31,
            36,
            41,
            46,
            51,
            56,
            61,
            66,
            71,
            76,
            81
           ]
          },
          {
           "hoverinfo": "skip",
           "marker": {
            "color": "pink"
           },
           "name": "Women",
           "orientation": "h",
           "type": "bar",
           "x": [
            -328525777,
            -308679621,
            -296015511,
            -290333926,
            -297825102,
            -287579023,
            -262573703,
            -240938534,
            -238425792,
            -219944167,
            -186360302,
            -169609388,
            -140964760,
            -103144453,
            -81491170,
            -63114840,
            -76015128
           ],
           "y": [
            1,
            6,
            11,
            16,
            21,
            26,
            31,
            36,
            41,
            46,
            51,
            56,
            61,
            66,
            71,
            76,
            81
           ]
          }
         ],
         "layout": {
          "title": {
           "text": "Population Pyramid for 2013"
          }
         }
        },
        {
         "data": [
          {
           "hoverinfo": "skip",
           "marker": {
            "color": "green"
           },
           "name": "Men",
           "orientation": "h",
           "type": "bar",
           "x": [
            347981553,
            326347465,
            314651683,
            309626789,
            315720418,
            295649736,
            266667176,
            248264407,
            240330888,
            218399734,
            177618386,
            159297220,
            126022479,
            88672191,
            67645375,
            46829772,
            43267681
           ],
           "y": [
            1,
            6,
            11,
            16,
            21,
            26,
            31,
            36,
            41,
            46,
            51,
            56,
            61,
            66,
            71,
            76,
            81
           ]
          },
          {
           "hoverinfo": "skip",
           "marker": {
            "color": "pink"
           },
           "name": "Women",
           "orientation": "h",
           "type": "bar",
           "x": [
            -325740997,
            -305430836,
            -294334623,
            -291080669,
            -299586547,
            -283381763,
            -256958190,
            -241165353,
            -235973114,
            -217650392,
            -180637429,
            -166086581,
            -135365699,
            -98359352,
            -80910909,
            -61488263,
            -73752045
           ],
           "y": [
            1,
            6,
            11,
            16,
            21,
            26,
            31,
            36,
            41,
            46,
            51,
            56,
            61,
            66,
            71,
            76,
            81
           ]
          }
         ],
         "layout": {
          "title": {
           "text": "Population Pyramid for 2012"
          }
         }
        },
        {
         "data": [
          {
           "hoverinfo": "skip",
           "marker": {
            "color": "green"
           },
           "name": "Men",
           "orientation": "h",
           "type": "bar",
           "x": [
            344647536,
            323691740,
            313155793,
            310566947,
            316122371,
            290863066,
            260909738,
            248564399,
            236406108,
            213182349,
            175217792,
            155370339,
            120767762,
            85345925,
            66780970,
            45532989,
            41632090
           ],
           "y": [
            1,
            6,
            11,
            16,
            21,
            26,
            31,
            36,
            41,
            46,
            51,
            56,
            61,
            66,
            71,
            76,
            81
           ]
          },
          {
           "hoverinfo": "skip",
           "marker": {
            "color": "pink"
           },
           "name": "Women",
           "orientation": "h",
           "type": "bar",
           "x": [
            -322524422,
            -302899937,
            -293007146,
            -292371094,
            -300317804,
            -279094240,
            -251515219,
            -241713143,
            -232382435,
            -212750175,
            -178337421,
            -162096734,
            -129496129,
            -94744001,
            -80084578,
            -59916070,
            -71524948
           ],
           "y": [
            1,
            6,
            11,
            16,
            21,
            26,
            31,
            36,
            41,
            46,
            51,
            56,
            61,
            66,
            71,
            76,
            81
           ]
          }
         ],
         "layout": {
          "title": {
           "text": "Population Pyramid for 2011"
          }
         }
        },
        {
         "data": [
          {
           "hoverinfo": "skip",
           "marker": {
            "color": "green"
           },
           "name": "Men",
           "orientation": "h",
           "type": "bar",
           "x": [
            341420927,
            321832537,
            311968873,
            312858647,
            313739845,
            286163539,
            256533463,
            249104416,
            232641646,
            205768083,
            174451179,
            151207220,
            115088686,
            83536878,
            65663028,
            44465258,
            39936926
           ],
           "y": [
            1,
            6,
            11,
            16,
            21,
            26,
            31,
            36,
            41,
            46,
            51,
            56,
            61,
            66,
            71,
            76,
            81
           ]
          },
          {
           "hoverinfo": "skip",
           "marker": {
            "color": "pink"
           },
           "name": "Women",
           "orientation": "h",
           "type": "bar",
           "x": [
            -319421700,
            -301066792,
            -292077731,
            -294920846,
            -298477455,
            -274701966,
            -247391388,
            -242454284,
            -228927609,
            -205619608,
            -177615755,
            -157768094,
            -123118540,
            -92914272,
            -78902781,
            -58610058,
            -69261881
           ],
           "y": [
            1,
            6,
            11,
            16,
            21,
            26,
            31,
            36,
            41,
            46,
            51,
            56,
            61,
            66,
            71,
            76,
            81
           ]
          }
         ],
         "layout": {
          "title": {
           "text": "Population Pyramid for 2010"
          }
         }
        },
        {
         "data": [
          {
           "hoverinfo": "skip",
           "marker": {
            "color": "green"
           },
           "name": "Men",
           "orientation": "h",
           "type": "bar",
           "x": [
            338060097,
            320006191,
            311454634,
            315798600,
            309267198,
            281470000,
            253498523,
            249014293,
            229324633,
            198150516,
            173594436,
            146454619,
            109200669,
            82541598,
            64366083,
            43605223,
            38160683
           ],
           "y": [
            1,
            6,
            11,
            16,
            21,
            26,
            31,
            36,
            41,
            46,
            51,
            56,
            61,
            66,
            71,
            76,
            81
           ]
          },
          {
           "hoverinfo": "skip",
           "marker": {
            "color": "pink"
           },
           "name": "Women",
           "orientation": "h",
           "type": "bar",
           "x": [
            -316219773,
            -299278741,
            -291798764,
            -298043908,
            -294685846,
            -270285530,
            -244648519,
            -242563026,
            -225885970,
            -198172309,
            -176762543,
            -152701031,
            -116537492,
            -92058434,
            -77474323,
            -57570588,
            -66836129
           ],
           "y": [
            1,
            6,
            11,
            16,
            21,
            26,
            31,
            36,
            41,
            46,
            51,
            56,
            61,
            66,
            71,
            76,
            81
           ]
          }
         ],
         "layout": {
          "title": {
           "text": "Population Pyramid for 2009"
          }
         }
        },
        {
         "data": [
          {
           "hoverinfo": "skip",
           "marker": {
            "color": "green"
           },
           "name": "Men",
           "orientation": "h",
           "type": "bar",
           "x": [
            334602318,
            318045950,
            311618980,
            317945069,
            304407580,
            276312029,
            252274714,
            247869348,
            226936149,
            190445973,
            171626082,
            141484060,
            104015780,
            81683203,
            63040653,
            42754618,
            36401730
           ],
           "y": [
            1,
            6,
            11,
            16,
            21,
            26,
            31,
            36,
            41,
            46,
            51,
            56,
            61,
            66,
            71,
            76,
            81
           ]
          },
          {
           "hoverinfo": "skip",
           "marker": {
            "color": "pink"
           },
           "name": "Women",
           "orientation": "h",
           "type": "bar",
           "x": [
            -312963803,
            -297400642,
            -292183697,
            -300408874,
            -290522951,
            -265561388,
            -243743796,
            -241651220,
            -223717542,
            -190559451,
            -174752542,
            -147319110,
            -110744466,
            -91448152,
            -75862043,
            -56688010,
            -64416434
           ],
           "y": [
            1,
            6,
            11,
            16,
            21,
            26,
            31,
            36,
            41,
            46,
            51,
            56,
            61,
            66,
            71,
            76,
            81
           ]
          }
         ],
         "layout": {
          "title": {
           "text": "Population Pyramid for 2008"
          }
         }
        },
        {
         "data": [
          {
           "hoverinfo": "skip",
           "marker": {
            "color": "green"
           },
           "name": "Men",
           "orientation": "h",
           "type": "bar",
           "x": [
            331497432,
            316377140,
            312086942,
            319450743,
            299484622,
            270146209,
            252300326,
            245307899,
            224624787,
            184700517,
            168120108,
            136199708,
            99506902,
            81041540,
            61582565,
            41862792,
            34697401
           ],
           "y": [
            1,
            6,
            11,
            16,
            21,
            26,
            31,
            36,
            41,
            46,
            51,
            56,
            61,
            66,
            71,
            76,
            81
           ]
          },
          {
           "hoverinfo": "skip",
           "marker": {
            "color": "pink"
           },
           "name": "Women",
           "orientation": "h",
           "type": "bar",
           "x": [
            -310048562,
            -295812482,
            -292953539,
            -302216772,
            -286306129,
            -259946540,
            -244074481,
            -239363548,
            -221581482,
            -184836338,
            -171210354,
            -141607951,
            -105743693,
            -91023356,
            -74128521,
            -55771504,
            -62028885
           ],
           "y": [
            1,
            6,
            11,
            16,
            21,
            26,
            31,
            36,
            41,
            46,
            51,
            56,
            61,
            66,
            71,
            76,
            81
           ]
          }
         ],
         "layout": {
          "title": {
           "text": "Population Pyramid for 2007"
          }
         }
        },
        {
         "data": [
          {
           "hoverinfo": "skip",
           "marker": {
            "color": "green"
           },
           "name": "Men",
           "orientation": "h",
           "type": "bar",
           "x": [
            329169980,
            314968917,
            313038488,
            319863134,
            294502239,
            264132086,
            252680077,
            241528495,
            219562694,
            182491778,
            164180041,
            130619997,
            95971457,
            80245982,
            60090925,
            40897294,
            33053228
           ],
           "y": [
            1,
            6,
            11,
            16,
            21,
            26,
            31,
            36,
            41,
            46,
            51,
            56,
            61,
            66,
            71,
            76,
            81
           ]
          },
          {
           "hoverinfo": "skip",
           "marker": {
            "color": "pink"
           },
           "name": "Women",
           "orientation": "h",
           "type": "bar",
           "x": [
            -307829814,
            -294530993,
            -294214391,
            -303040505,
            -281974627,
            -254445583,
            -244758746,
            -235901103,
            -216733879,
            -182581344,
            -167194343,
            -135584497,
            -102000733,
            -90268288,
            -72433200,
            -54801640,
            -59645234
           ],
           "y": [
            1,
            6,
            11,
            16,
            21,
            26,
            31,
            36,
            41,
            46,
            51,
            56,
            61,
            66,
            71,
            76,
            81
           ]
          }
         ],
         "layout": {
          "title": {
           "text": "Population Pyramid for 2006"
          }
         }
        },
        {
         "data": [
          {
           "hoverinfo": "skip",
           "marker": {
            "color": "green"
           },
           "name": "Men",
           "orientation": "h",
           "type": "bar",
           "x": [
            327512727,
            313751314,
            315304645,
            317368008,
            289536366,
            259516117,
            253229791,
            237758817,
            212063816,
            181784524,
            159820881,
            124455792,
            94090577,
            79026425,
            58843884,
            39699035,
            31509243
           ],
           "y": [
            1,
            6,
            11,
            16,
            21,
            26,
            31,
            36,
            41,
            46,
            51,
            56,
            61,
            66,
            71,
            76,
            81
           ]
          },
          {
           "hoverinfo": "skip",
           "marker": {
            "color": "pink"
           },
           "name": "Women",
           "orientation": "h",
           "type": "bar",
           "x": [
            -306199075,
            -293518656,
            -296665760,
            -301197439,
            -277530563,
            -250184870,
            -245556471,
            -232423353,
            -209476569,
            -181819129,
            -162703078,
            -128933825,
            -100101232,
            -89013596,
            -70985692,
            -53700799,
            -57289664
           ],
           "y": [
            1,
            6,
            11,
            16,
            21,
            26,
            31,
            36,
            41,
            46,
            51,
            56,
            61,
            66,
            71,
            76,
            81
           ]
          }
         ],
         "layout": {
          "title": {
           "text": "Population Pyramid for 2005"
          }
         }
        },
        {
         "data": [
          {
           "hoverinfo": "skip",
           "marker": {
            "color": "green"
           },
           "name": "Men",
           "orientation": "h",
           "type": "bar",
           "x": [
            325802566,
            313181216,
            318216162,
            312840672,
            284764588,
            256457528,
            253141544,
            234396199,
            204298731,
            180920232,
            154798788,
            118085761,
            93180577,
            77597520,
            57887968,
            38329743,
            30058185
           ],
           "y": [
            1,
            6,
            11,
            16,
            21,
            26,
            31,
            36,
            41,
            46,
            51,
            56,
            61,
            66,
            71,
            76,
            81
           ]
          },
          {
           "hoverinfo": "skip",
           "marker": {
            "color": "pink"
           },
           "name": "Women",
           "orientation": "h",
           "type": "bar",
           "x": [
            -304535525,
            -293158427,
            -299721221,
            -297393799,
            -273126739,
            -247379305,
            -245688500,
            -229328695,
            -201926430,
            -180926806,
            -157461824,
            -122102635,
            -99282783,
            -87507898,
            -69885938,
            -52454209,
            -54982429
           ],
           "y": [
            1,
            6,
            11,
            16,
            21,
            26,
            31,
            36,
            41,
            46,
            51,
            56,
            61,
            66,
            71,
            76,
            81
           ]
          }
         ],
         "layout": {
          "title": {
           "text": "Population Pyramid for 2004"
          }
         }
        },
        {
         "data": [
          {
           "hoverinfo": "skip",
           "marker": {
            "color": "green"
           },
           "name": "Men",
           "orientation": "h",
           "type": "bar",
           "x": [
            323883551,
            313285752,
            320268496,
            308064693,
            279719464,
            255317217,
            251950783,
            231933779,
            196385207,
            178833158,
            149551512,
            112532003,
            92460769,
            76097558,
            56942772,
            36952035,
            28656464
           ],
           "y": [
            1,
            6,
            11,
            16,
            21,
            26,
            31,
            36,
            41,
            46,
            51,
            56,
            61,
            66,
            71,
            76,
            81
           ]
          },
          {
           "hoverinfo": "skip",
           "marker": {
            "color": "pink"
           },
           "name": "Women",
           "orientation": "h",
           "type": "bar",
           "x": [
            -302719635,
            -293470776,
            -302010866,
            -293217033,
            -268359942,
            -246441700,
            -244726850,
            -227094078,
            -194194940,
            -178827894,
            -151929404,
            -116119405,
            -98734952,
            -85775294,
            -68960563,
            -51218580,
            -52746279
           ],
           "y": [
            1,
            6,
            11,
            16,
            21,
            26,
            31,
            36,
            41,
            46,
            51,
            56,
            61,
            66,
            71,
            76,
            81
           ]
          }
         ],
         "layout": {
          "title": {
           "text": "Population Pyramid for 2003"
          }
         }
        },
        {
         "data": [
          {
           "hoverinfo": "skip",
           "marker": {
            "color": "green"
           },
           "name": "Men",
           "orientation": "h",
           "type": "bar",
           "x": [
            322211897,
            313718001,
            321746842,
            303298287,
            273732904,
            255480171,
            249331620,
            229568790,
            190492724,
            175166625,
            143992311,
            107779373,
            91962539,
            74455271,
            55922934,
            35535212,
            27377845
           ],
           "y": [
            1,
            6,
            11,
            16,
            21,
            26,
            31,
            36,
            41,
            46,
            51,
            56,
            61,
            66,
            71,
            76,
            81
           ]
          },
          {
           "hoverinfo": "skip",
           "marker": {
            "color": "pink"
           },
           "name": "Women",
           "orientation": "h",
           "type": "bar",
           "x": [
            -301156189,
            -294158928,
            -303760348,
            -288986560,
            -262684798,
            -246790930,
            -242361165,
            -224912724,
            -188372334,
            -175190368,
            -146081280,
            -110982397,
            -98358459,
            -83928018,
            -67970961,
            -49899462,
            -50724565
           ],
           "y": [
            1,
            6,
            11,
            16,
            21,
            26,
            31,
            36,
            41,
            46,
            51,
            56,
            61,
            66,
            71,
            76,
            81
           ]
          }
         ],
         "layout": {
          "title": {
           "text": "Population Pyramid for 2002"
          }
         }
        },
        {
         "data": [
          {
           "hoverinfo": "skip",
           "marker": {
            "color": "green"
           },
           "name": "Men",
           "orientation": "h",
           "type": "bar",
           "x": [
            320885299,
            314695503,
            322215615,
            298401699,
            267804423,
            255953988,
            245470005,
            224380952,
            188199411,
            171049384,
            138139149,
            104133419,
            91245031,
            72799740,
            54773137,
            34125254,
            26186785
           ],
           "y": [
            1,
            6,
            11,
            16,
            21,
            26,
            31,
            36,
            41,
            46,
            51,
            56,
            61,
            66,
            71,
            76,
            81
           ]
          },
          {
           "hoverinfo": "skip",
           "marker": {
            "color": "pink"
           },
           "name": "Women",
           "orientation": "h",
           "type": "bar",
           "x": [
            -299947379,
            -295381963,
            -304590859,
            -284587670,
            -257065058,
            -247454093,
            -238769290,
            -219942722,
            -186022530,
            -171064850,
            -139918889,
            -107157528,
            -97619258,
            -82133022,
            -66901735,
            -48464158,
            -48859820
           ],
           "y": [
            1,
            6,
            11,
            16,
            21,
            26,
            31,
            36,
            41,
            46,
            51,
            56,
            61,
            66,
            71,
            76,
            81
           ]
          }
         ],
         "layout": {
          "title": {
           "text": "Population Pyramid for 2001"
          }
         }
        },
        {
         "data": [
          {
           "hoverinfo": "skip",
           "marker": {
            "color": "green"
           },
           "name": "Men",
           "orientation": "h",
           "type": "bar",
           "x": [
            319947509,
            317086009,
            319870484,
            293445594,
            263094651,
            256458232,
            241585086,
            216703711,
            187436141,
            166501105,
            131738582,
            102296166,
            90035309,
            71463017,
            53316061,
            32840351,
            25022717
           ],
           "y": [
            1,
            6,
            11,
            16,
            21,
            26,
            31,
            36,
            41,
            46,
            51,
            56,
            61,
            66,
            71,
            76,
            81
           ]
          },
          {
           "hoverinfo": "skip",
           "marker": {
            "color": "pink"
           },
           "name": "Women",
           "orientation": "h",
           "type": "bar",
           "x": [
            -299176237,
            -297917857,
            -302850511,
            -280015313,
            -252663016,
            -248149311,
            -235168201,
            -212545833,
            -185211019,
            -166483294,
            -133190917,
            -105259530,
            -96389790,
            -80630674,
            -65710622,
            -47015823,
            -47104099
           ],
           "y": [
            1,
            6,
            11,
            16,
            21,
            26,
            31,
            36,
            41,
            46,
            51,
            56,
            61,
            66,
            71,
            76,
            81
           ]
          }
         ],
         "layout": {
          "title": {
           "text": "Population Pyramid for 2000"
          }
         }
        },
        {
         "data": [
          {
           "hoverinfo": "skip",
           "marker": {
            "color": "green"
           },
           "name": "Men",
           "orientation": "h",
           "type": "bar",
           "x": [
            319634016,
            320053786,
            315360122,
            288502072,
            259880055,
            256281304,
            238108451,
            208758373,
            186482110,
            161260380,
            125109344,
            101473445,
            88523062,
            70468829,
            51608321,
            31535348,
            24052144
           ],
           "y": [
            1,
            6,
            11,
            16,
            21,
            26,
            31,
            36,
            41,
            46,
            51,
            56,
            61,
            66,
            71,
            76,
            81
           ]
          },
          {
           "hoverinfo": "skip",
           "marker": {
            "color": "pink"
           },
           "name": "Women",
           "orientation": "h",
           "type": "bar",
           "x": [
            -299032863,
            -301033581,
            -299058874,
            -275363722,
            -249756522,
            -248138478,
            -231959650,
            -204849924,
            -184253978,
            -161142262,
            -126277971,
            -104459708,
            -94867269,
            -79527800,
            -64357446,
            -45367898,
            -45742704
           ],
           "y": [
            1,
            6,
            11,
            16,
            21,
            26,
            31,
            36,
            41,
            46,
            51,
            56,
            61,
            66,
            71,
            76,
            81
           ]
          }
         ],
         "layout": {
          "title": {
           "text": "Population Pyramid for 1999"
          }
         }
        },
        {
         "data": [
          {
           "hoverinfo": "skip",
           "marker": {
            "color": "green"
           },
           "name": "Men",
           "orientation": "h",
           "type": "bar",
           "x": [
            319980373,
            322096923,
            310392563,
            283104158,
            258646273,
            255006798,
            235545480,
            200676953,
            184242867,
            155741456,
            119296146,
            100825967,
            86859783,
            69481932,
            49864688,
            30017654,
            23382512
           ],
           "y": [
            1,
            6,
            11,
            16,
            21,
            26,
            31,
            36,
            41,
            46,
            51,
            56,
            61,
            66,
            71,
            76,
            81
           ]
          },
          {
           "hoverinfo": "skip",
           "marker": {
            "color": "pink"
           },
           "name": "Women",
           "orientation": "h",
           "type": "bar",
           "x": [
            -299545382,
            -303333090,
            -294739438,
            -270291802,
            -248728236,
            -247003159,
            -229579591,
            -196960642,
            -182032580,
            -155459629,
            -120179044,
            -103923559,
            -93057172,
            -78611976,
            -62986870,
            -43274462,
            -44861331
           ],
           "y": [
            1,
            6,
            11,
            16,
            21,
            26,
            31,
            36,
            41,
            46,
            51,
            56,
            61,
            66,
            71,
            76,
            81
           ]
          }
         ],
         "layout": {
          "title": {
           "text": "Population Pyramid for 1998"
          }
         }
        },
        {
         "data": [
          {
           "hoverinfo": "skip",
           "marker": {
            "color": "green"
           },
           "name": "Men",
           "orientation": "h",
           "type": "bar",
           "x": [
            320606691,
            323540145,
            305340828,
            276718706,
            258715533,
            252268646,
            233038571,
            194622052,
            180376508,
            149879537,
            114311891,
            100375136,
            85024761,
            68385667,
            48071672,
            28484939,
            22899522
           ],
           "y": [
            1,
            6,
            11,
            16,
            21,
            26,
            31,
            36,
            41,
            46,
            51,
            56,
            61,
            66,
            71,
            76,
            81
           ]
          },
          {
           "hoverinfo": "skip",
           "marker": {
            "color": "pink"
           },
           "name": "Women",
           "orientation": "h",
           "type": "bar",
           "x": [
            -300409478,
            -305079188,
            -290284554,
            -264335995,
            -248917011,
            -244430346,
            -227205248,
            -190990823,
            -178249412,
            -149448810,
            -114923240,
            -103561191,
            -91128736,
            -77617280,
            -61500580,
            -41082665,
            -44252419
           ],
           "y": [
            1,
            6,
            11,
            16,
            21,
            26,
            31,
            36,
            41,
            46,
            51,
            56,
            61,
            66,
            71,
            76,
            81
           ]
          }
         ],
         "layout": {
          "title": {
           "text": "Population Pyramid for 1997"
          }
         }
        },
        {
         "data": [
          {
           "hoverinfo": "skip",
           "marker": {
            "color": "green"
           },
           "name": "Men",
           "orientation": "h",
           "type": "bar",
           "x": [
            321593065,
            323886601,
            300151623,
            270512287,
            259142131,
            248342911,
            227739580,
            192215340,
            176083947,
            143764982,
            110495983,
            99644523,
            83209936,
            67106462,
            46332927,
            27123277,
            22455283
           ],
           "y": [
            1,
            6,
            11,
            16,
            21,
            26,
            31,
            36,
            41,
            46,
            51,
            56,
            61,
            66,
            71,
            76,
            81
           ]
          },
          {
           "hoverinfo": "skip",
           "marker": {
            "color": "pink"
           },
           "name": "Women",
           "orientation": "h",
           "type": "bar",
           "x": [
            -301665685,
            -305818425,
            -285609542,
            -258539375,
            -249411255,
            -240692355,
            -222091186,
            -188535898,
            -173996087,
            -143145909,
            -110992778,
            -102811746,
            -89263902,
            -76517690,
            -59893602,
            -39154140,
            -43684652
           ],
           "y": [
            1,
            6,
            11,
            16,
            21,
            26,
            31,
            36,
            41,
            46,
            51,
            56,
            61,
            66,
            71,
            76,
            81
           ]
          }
         ],
         "layout": {
          "title": {
           "text": "Population Pyramid for 1996"
          }
         }
        },
        {
         "data": [
          {
           "hoverinfo": "skip",
           "marker": {
            "color": "green"
           },
           "name": "Men",
           "orientation": "h",
           "type": "bar",
           "x": [
            323900581,
            321368679,
            294927585,
            265807001,
            259665517,
            244447760,
            219975203,
            191370834,
            171370390,
            137117965,
            108588511,
            98386352,
            81805270,
            65467415,
            44791713,
            25925291,
            21965102
           ],
           "y": [
            1,
            6,
            11,
            16,
            21,
            26,
            31,
            36,
            41,
            46,
            51,
            56,
            61,
            66,
            71,
            76,
            81
           ]
          },
          {
           "hoverinfo": "skip",
           "marker": {
            "color": "pink"
           },
           "name": "Women",
           "orientation": "h",
           "type": "bar",
           "x": [
            -304148900,
            -303922732,
            -280776006,
            -254122885,
            -249974594,
            -236981487,
            -214571749,
            -187611728,
            -169272106,
            -136266072,
            -109015503,
            -101548454,
            -87713103,
            -75264702,
            -58258166,
            -37550284,
            -42922243
           ],
           "y": [
            1,
            6,
            11,
            16,
            21,
            26,
            31,
            36,
            41,
            46,
            51,
            56,
            61,
            66,
            71,
            76,
            81
           ]
          }
         ],
         "layout": {
          "title": {
           "text": "Population Pyramid for 1995"
          }
         }
        },
        {
         "data": [
          {
           "hoverinfo": "skip",
           "marker": {
            "color": "green"
           },
           "name": "Men",
           "orientation": "h",
           "type": "bar",
           "x": [
            326889713,
            316825788,
            289869715,
            262706933,
            259477197,
            240878961,
            211943683,
            190362001,
            166016534,
            130295405,
            107792344,
            96839870,
            80863472,
            63565857,
            43226238,
            25142653,
            21324885
           ],
           "y": [
            1,
            6,
            11,
            16,
            21,
            26,
            31,
            36,
            41,
            46,
            51,
            56,
            61,
            66,
            71,
            76,
            81
           ]
          },
          {
           "hoverinfo": "skip",
           "marker": {
            "color": "pink"
           },
           "name": "Women",
           "orientation": "h",
           "type": "bar",
           "x": [
            -307293740,
            -300124209,
            -276076976,
            -251279165,
            -249828742,
            -233621156,
            -206757514,
            -186541956,
            -163829273,
            -129243133,
            -108187334,
            -100012810,
            -86629285,
            -73850124,
            -56375977,
            -36669076,
            -41787187
           ],
           "y": [
            1,
            6,
            11,
            16,
            21,
            26,
            31,
            36,
            41,
            46,
            51,
            56,
            61,
            66,
            71,
            76,
            81
           ]
          }
         ],
         "layout": {
          "title": {
           "text": "Population Pyramid for 1994"
          }
         }
        },
        {
         "data": [
          {
           "hoverinfo": "skip",
           "marker": {
            "color": "green"
           },
           "name": "Men",
           "orientation": "h",
           "type": "bar",
           "x": [
            328959279,
            311825170,
            284456218,
            261569018,
            258266084,
            238224249,
            203830233,
            188096529,
            160434234,
            124370289,
            107218119,
            95129271,
            79954256,
            61603222,
            41361876,
            24893631,
            20582595
           ],
           "y": [
            1,
            6,
            11,
            16,
            21,
            26,
            31,
            36,
            41,
            46,
            51,
            56,
            61,
            66,
            71,
            76,
            81
           ]
          },
          {
           "hoverinfo": "skip",
           "marker": {
            "color": "pink"
           },
           "name": "Women",
           "orientation": "h",
           "type": "bar",
           "x": [
            -309632754,
            -295807152,
            -271051062,
            -250347998,
            -248668820,
            -231156368,
            -198831066,
            -184260802,
            -158111747,
            -123097695,
            -107660778,
            -98188105,
            -85745918,
            -72410969,
            -53952665,
            -36602793,
            -40421696
           ],
           "y": [
            1,
            6,
            11,
            16,
            21,
            26,
            31,
            36,
            41,
            46,
            51,
            56,
            61,
            66,
            71,
            76,
            81
           ]
          }
         ],
         "layout": {
          "title": {
           "text": "Population Pyramid for 1993"
          }
         }
        },
        {
         "data": [
          {
           "hoverinfo": "skip",
           "marker": {
            "color": "green"
           },
           "name": "Men",
           "orientation": "h",
           "type": "bar",
           "x": [
            330460216,
            306687231,
            278130348,
            261835804,
            255721518,
            235730561,
            197742897,
            184204393,
            154494286,
            119303395,
            106840772,
            93231161,
            78878341,
            59544597,
            39462914,
            24903406,
            19842751
           ],
           "y": [
            1,
            6,
            11,
            16,
            21,
            26,
            31,
            36,
            41,
            46,
            51,
            56,
            61,
            66,
            71,
            76,
            81
           ]
          },
          {
           "hoverinfo": "skip",
           "marker": {
            "color": "pink"
           },
           "name": "Women",
           "orientation": "h",
           "type": "bar",
           "x": [
            -311438265,
            -291270176,
            -265110342,
            -250689357,
            -246226116,
            -228826610,
            -192873965,
            -180479877,
            -152094139,
            -117826306,
            -107321529,
            -96234709,
            -84747636,
            -70809714,
            -51402780,
            -36914341,
            -38996550
           ],
           "y": [
            1,
            6,
            11,
            16,
            21,
            26,
            31,
            36,
            41,
            46,
            51,
            56,
            61,
            66,
            71,
            76,
            81
           ]
          }
         ],
         "layout": {
          "title": {
           "text": "Population Pyramid for 1992"
          }
         }
        },
        {
         "data": [
          {
           "hoverinfo": "skip",
           "marker": {
            "color": "green"
           },
           "name": "Men",
           "orientation": "h",
           "type": "bar",
           "x": [
            331128255,
            301588542,
            272178510,
            262496684,
            251895356,
            230342021,
            195142002,
            179791097,
            148217140,
            115389436,
            106117768,
            91357704,
            77533320,
            57532163,
            37793621,
            24873355,
            19130190
           ],
           "y": [
            1,
            6,
            11,
            16,
            21,
            26,
            31,
            36,
            41,
            46,
            51,
            56,
            61,
            66,
            71,
            76,
            81
           ]
          },
          {
           "hoverinfo": "skip",
           "marker": {
            "color": "pink"
           },
           "name": "Women",
           "orientation": "h",
           "type": "bar",
           "x": [
            -312488270,
            -286683655,
            -259483753,
            -251358904,
            -242577367,
            -223695503,
            -190343052,
            -176227695,
            -145768924,
            -113889864,
            -106599374,
            -94369918,
            -83640190,
            -69052854,
            -49197987,
            -37170744,
            -37600888
           ],
           "y": [
            1,
            6,
            11,
            16,
            21,
            26,
            31,
            36,
            41,
            46,
            51,
            56,
            61,
            66,
            71,
            76,
            81
           ]
          }
         ],
         "layout": {
          "title": {
           "text": "Population Pyramid for 1991"
          }
         }
        },
        {
         "data": [
          {
           "hoverinfo": "skip",
           "marker": {
            "color": "green"
           },
           "name": "Men",
           "orientation": "h",
           "type": "bar",
           "x": [
            329114889,
            296707991,
            267879229,
            263277701,
            248007375,
            222442076,
            194129732,
            174949453,
            141389749,
            113445788,
            104839624,
            89943280,
            75752820,
            55764110,
            36354163,
            24697214,
            18455142
           ],
           "y": [
            1,
            6,
            11,
            16,
            21,
            26,
            31,
            36,
            41,
            46,
            51,
            56,
            61,
            66,
            71,
            76,
            81
           ]
          },
          {
           "hoverinfo": "skip",
           "marker": {
            "color": "pink"
           },
           "name": "Women",
           "orientation": "h",
           "type": "bar",
           "x": [
            -311090236,
            -282204549,
            -255447235,
            -252106945,
            -238947615,
            -216124672,
            -189390220,
            -171533211,
            -138887896,
            -111932712,
            -105390773,
            -92860661,
            -82395962,
            -67270577,
            -47411772,
            -37114363,
            -36257463
           ],
           "y": [
            1,
            6,
            11,
            16,
            21,
            26,
            31,
            36,
            41,
            46,
            51,
            56,
            61,
            66,
            71,
            76,
            81
           ]
          }
         ],
         "layout": {
          "title": {
           "text": "Population Pyramid for 1990"
          }
         }
        },
        {
         "data": [
          {
           "hoverinfo": "skip",
           "marker": {
            "color": "green"
           },
           "name": "Men",
           "orientation": "h",
           "type": "bar",
           "x": [
            324786660,
            291885528,
            265055095,
            263248477,
            244409693,
            214353262,
            193142725,
            169488491,
            134414771,
            112667895,
            103264499,
            89019243,
            73666498,
            53977522,
            35480898,
            24286261,
            17782797
           ],
           "y": [
            1,
            6,
            11,
            16,
            21,
            26,
            31,
            36,
            41,
            46,
            51,
            56,
            61,
            66,
            71,
            76,
            81
           ]
          },
          {
           "hoverinfo": "skip",
           "marker": {
            "color": "pink"
           },
           "name": "Women",
           "orientation": "h",
           "type": "bar",
           "x": [
            -307497855,
            -277729200,
            -252852870,
            -252026360,
            -235701724,
            -208354570,
            -188471316,
            -166145470,
            -131901154,
            -111152769,
            -103916428,
            -91826950,
            -80981667,
            -65220067,
            -46501542,
            -36609293,
            -34879204
           ],
           "y": [
            1,
            6,
            11,
            16,
            21,
            26,
            31,
            36,
            41,
            46,
            51,
            56,
            61,
            66,
            71,
            76,
            81
           ]
          }
         ],
         "layout": {
          "title": {
           "text": "Population Pyramid for 1989"
          }
         }
        },
        {
         "data": [
          {
           "hoverinfo": "skip",
           "marker": {
            "color": "green"
           },
           "name": "Men",
           "orientation": "h",
           "type": "bar",
           "x": [
            320158638,
            286839699,
            264184783,
            262037600,
            241764837,
            206264447,
            190973194,
            163788711,
            128357202,
            112143793,
            101517802,
            88128377,
            71497362,
            51829859,
            35291400,
            23689696,
            17119466
           ],
           "y": [
            1,
            6,
            11,
            16,
            21,
            26,
            31,
            36,
            41,
            46,
            51,
            56,
            61,
            66,
            71,
            76,
            81
           ]
          },
          {
           "hoverinfo": "skip",
           "marker": {
            "color": "pink"
           },
           "name": "Women",
           "orientation": "h",
           "type": "bar",
           "x": [
            -303532867,
            -273007819,
            -252083719,
            -250841244,
            -233348199,
            -200569051,
            -186417416,
            -160491477,
            -125808572,
            -110733309,
            -102149496,
            -90993206,
            -79514382,
            -62578182,
            -46528113,
            -35801891,
            -33506444
           ],
           "y": [
            1,
            6,
            11,
            16,
            21,
            26,
            31,
            36,
            41,
            46,
            51,
            56,
            61,
            66,
            71,
            76,
            81
           ]
          }
         ],
         "layout": {
          "title": {
           "text": "Population Pyramid for 1988"
          }
         }
        },
        {
         "data": [
          {
           "hoverinfo": "skip",
           "marker": {
            "color": "green"
           },
           "name": "Men",
           "orientation": "h",
           "type": "bar",
           "x": [
            315482276,
            280914862,
            264629960,
            259323959,
            239293836,
            200189835,
            187160525,
            157732663,
            123213447,
            111857871,
            99627271,
            87078626,
            69248381,
            49665205,
            35426346,
            23063835,
            16466817
           ],
           "y": [
            1,
            6,
            11,
            16,
            21,
            26,
            31,
            36,
            41,
            46,
            51,
            56,
            61,
            66,
            71,
            76,
            81
           ]
          },
          {
           "hoverinfo": "skip",
           "marker": {
            "color": "pink"
           },
           "name": "Women",
           "orientation": "h",
           "type": "bar",
           "x": [
            -299437227,
            -267428055,
            -252522653,
            -248299402,
            -231064672,
            -194702762,
            -182799986,
            -154504416,
            -120593383,
            -110533336,
            -100273721,
            -90056147,
            -77881408,
            -59831742,
            -46997045,
            -34915867,
            -32168673
           ],
           "y": [
            1,
            6,
            11,
            16,
            21,
            26,
            31,
            36,
            41,
            46,
            51,
            56,
            61,
            66,
            71,
            76,
            81
           ]
          }
         ],
         "layout": {
          "title": {
           "text": "Population Pyramid for 1987"
          }
         }
        },
        {
         "data": [
          {
           "hoverinfo": "skip",
           "marker": {
            "color": "green"
           },
           "name": "Men",
           "orientation": "h",
           "type": "bar",
           "x": [
            310735227,
            275198120,
            265367294,
            255415735,
            233990184,
            197764118,
            182891176,
            151427388,
            119298864,
            111268526,
            97789349,
            85757673,
            67070670,
            47804510,
            35510153,
            22438600,
            15846213
           ],
           "y": [
            1,
            6,
            11,
            16,
            21,
            26,
            31,
            36,
            41,
            46,
            51,
            56,
            61,
            66,
            71,
            76,
            81
           ]
          },
          {
           "hoverinfo": "skip",
           "marker": {
            "color": "pink"
           },
           "name": "Women",
           "orientation": "h",
           "type": "bar",
           "x": [
            -295184978,
            -262060150,
            -253251248,
            -244689107,
            -226066824,
            -192366460,
            -178698310,
            -148232132,
            -116704371,
            -109960310,
            -98463762,
            -89011216,
            -76067453,
            -57481632,
            -47392211,
            -33995271,
            -30898220
           ],
           "y": [
            1,
            6,
            11,
            16,
            21,
            26,
            31,
            36,
            41,
            46,
            51,
            56,
            61,
            66,
            71,
            76,
            81
           ]
          }
         ],
         "layout": {
          "title": {
           "text": "Population Pyramid for 1986"
          }
         }
        },
        {
         "data": [
          {
           "hoverinfo": "skip",
           "marker": {
            "color": "green"
           },
           "name": "Men",
           "orientation": "h",
           "type": "bar",
           "x": [
            305956410,
            270961335,
            266068685,
            251500982,
            226109345,
            197056931,
            178172488,
            144610777,
            117385010,
            110114495,
            96439417,
            83944981,
            65165890,
            46221565,
            35395973,
            21830127,
            15275147
           ],
           "y": [
            1,
            6,
            11,
            16,
            21,
            26,
            31,
            36,
            41,
            46,
            51,
            56,
            61,
            66,
            71,
            76,
            81
           ]
          },
          {
           "hoverinfo": "skip",
           "marker": {
            "color": "pink"
           },
           "name": "Women",
           "orientation": "h",
           "type": "bar",
           "x": [
            -290817863,
            -258118951,
            -253930152,
            -241068613,
            -218585720,
            -191622948,
            -174049992,
            -141360464,
            -114754671,
            -108861927,
            -96978474,
            -87775938,
            -74206915,
            -55593745,
            -47405524,
            -33117332,
            -29702072
           ],
           "y": [
            1,
            6,
            11,
            16,
            21,
            26,
            31,
            36,
            41,
            46,
            51,
            56,
            61,
            66,
            71,
            76,
            81
           ]
          }
         ],
         "layout": {
          "title": {
           "text": "Population Pyramid for 1985"
          }
         }
        },
        {
         "data": [
          {
           "hoverinfo": "skip",
           "marker": {
            "color": "green"
           },
           "name": "Men",
           "orientation": "h",
           "type": "bar",
           "x": [
            301235697,
            268309427,
            265953545,
            247998828,
            217994655,
            196305142,
            172777379,
            137672977,
            116670983,
            108623575,
            95602423,
            81755635,
            63220562,
            45315083,
            34957666,
            21212997,
            14722006
           ],
           "y": [
            1,
            6,
            11,
            16,
            21,
            26,
            31,
            36,
            41,
            46,
            51,
            56,
            61,
            66,
            71,
            76,
            81
           ]
          },
          {
           "hoverinfo": "skip",
           "marker": {
            "color": "pink"
           },
           "name": "Women",
           "orientation": "h",
           "type": "bar",
           "x": [
            -286463437,
            -255688190,
            -253804358,
            -237821498,
            -210801535,
            -190828104,
            -168607825,
            -134359627,
            -113978105,
            -107430061,
            -95946075,
            -86310722,
            -72059012,
            -54678491,
            -46885981,
            -32190092,
            -28535145
           ],
           "y": [
            1,
            6,
            11,
            16,
            21,
            26,
            31,
            36,
            41,
            46,
            51,
            56,
            61,
            66,
            71,
            76,
            81
           ]
          }
         ],
         "layout": {
          "title": {
           "text": "Population Pyramid for 1984"
          }
         }
        },
        {
         "data": [
          {
           "hoverinfo": "skip",
           "marker": {
            "color": "green"
           },
           "name": "Men",
           "orientation": "h",
           "type": "bar",
           "x": [
            296232480,
            267578157,
            264676893,
            245459403,
            209788315,
            194189467,
            167105695,
            131668023,
            116254494,
            106918159,
            94774971,
            79484191,
            60882834,
            45218546,
            34270308,
            20590657,
            14191661
           ],
           "y": [
            1,
            6,
            11,
            16,
            21,
            26,
            31,
            36,
            41,
            46,
            51,
            56,
            61,
            66,
            71,
            76,
            81
           ]
          },
          {
           "hoverinfo": "skip",
           "marker": {
            "color": "pink"
           },
           "name": "Women",
           "orientation": "h",
           "type": "bar",
           "x": [
            -281817380,
            -255046614,
            -252600898,
            -235483925,
            -202887747,
            -188775272,
            -162867841,
            -128257312,
            -113565295,
            -105660747,
            -95102746,
            -84827511,
            -69311735,
            -54800585,
            -46009290,
            -31240052,
            -27402593
           ],
           "y": [
            1,
            6,
            11,
            16,
            21,
            26,
            31,
            36,
            41,
            46,
            51,
            56,
            61,
            66,
            71,
            76,
            81
           ]
          }
         ],
         "layout": {
          "title": {
           "text": "Population Pyramid for 1983"
          }
         }
        },
        {
         "data": [
          {
           "hoverinfo": "skip",
           "marker": {
            "color": "green"
           },
           "name": "Men",
           "orientation": "h",
           "type": "bar",
           "x": [
            290343409,
            268065719,
            261946429,
            243020000,
            203608861,
            190325172,
            161071717,
            126498127,
            116093619,
            105006400,
            93753442,
            77107207,
            58506273,
            45474533,
            33527363,
            20000925,
            13641566
           ],
           "y": [
            1,
            6,
            11,
            16,
            21,
            26,
            31,
            36,
            41,
            46,
            51,
            56,
            61,
            66,
            71,
            76,
            81
           ]
          },
          {
           "hoverinfo": "skip",
           "marker": {
            "color": "pink"
           },
           "name": "Women",
           "orientation": "h",
           "type": "bar",
           "x": [
            -276320069,
            -255542304,
            -250054653,
            -233220921,
            -196895633,
            -185048170,
            -156821932,
            -122966197,
            -113376635,
            -103734886,
            -94157689,
            -83185120,
            -66420793,
            -55391192,
            -45028620,
            -30366829,
            -26241436
           ],
           "y": [
            1,
            6,
            11,
            16,
            21,
            26,
            31,
            36,
            41,
            46,
            51,
            56,
            61,
            66,
            71,
            76,
            81
           ]
          }
         ],
         "layout": {
          "title": {
           "text": "Population Pyramid for 1982"
          }
         }
        },
        {
         "data": [
          {
           "hoverinfo": "skip",
           "marker": {
            "color": "green"
           },
           "name": "Men",
           "orientation": "h",
           "type": "bar",
           "x": [
            284739560,
            268788179,
            258069347,
            237624284,
            201059812,
            185926180,
            154721687,
            122544591,
            115576317,
            103116905,
            92421293,
            74793565,
            56451611,
            45646547,
            32759065,
            19432700,
            13102652
           ],
           "y": [
            1,
            6,
            11,
            16,
            21,
            26,
            31,
            36,
            41,
            46,
            51,
            56,
            61,
            66,
            71,
            76,
            81
           ]
          },
          {
           "hoverinfo": "skip",
           "marker": {
            "color": "pink"
           },
           "name": "Women",
           "orientation": "h",
           "type": "bar",
           "x": [
            -271091398,
            -256259143,
            -246429575,
            -228143236,
            -194413307,
            -180792296,
            -150489003,
            -119022105,
            -112805344,
            -101853019,
            -93098432,
            -81354568,
            -63939342,
            -55888014,
            -43989178,
            -29546758,
            -25102368
           ],
           "y": [
            1,
            6,
            11,
            16,
            21,
            26,
            31,
            36,
            41,
            46,
            51,
            56,
            61,
            66,
            71,
            76,
            81
           ]
          }
         ],
         "layout": {
          "title": {
           "text": "Population Pyramid for 1981"
          }
         }
        },
        {
         "data": [
          {
           "hoverinfo": "skip",
           "marker": {
            "color": "green"
           },
           "name": "Men",
           "orientation": "h",
           "type": "bar",
           "x": [
            280770217,
            269523081,
            254325953,
            229610870,
            200116644,
            180990037,
            147782293,
            120599075,
            114434462,
            101744232,
            90549013,
            72799014,
            54729466,
            45561218,
            31984638,
            18861242,
            12616943
           ],
           "y": [
            1,
            6,
            11,
            16,
            21,
            26,
            31,
            36,
            41,
            46,
            51,
            56,
            61,
            66,
            71,
            76,
            81
           ]
          },
          {
           "hoverinfo": "skip",
           "marker": {
            "color": "pink"
           },
           "name": "Women",
           "orientation": "h",
           "type": "bar",
           "x": [
            -267418606,
            -257003922,
            -243012954,
            -220583040,
            -193608450,
            -176043835,
            -143619435,
            -117066507,
            -111726947,
            -100336796,
            -91861700,
            -79515695,
            -61981051,
            -55945201,
            -42979609,
            -28700837,
            -24037658
           ],
           "y": [
            1,
            6,
            11,
            16,
            21,
            26,
            31,
            36,
            41,
            46,
            51,
            56,
            61,
            66,
            71,
            76,
            81
           ]
          }
         ],
         "layout": {
          "title": {
           "text": "Population Pyramid for 1980"
          }
         }
        },
        {
         "data": [
          {
           "hoverinfo": "skip",
           "marker": {
            "color": "green"
           },
           "name": "Men",
           "orientation": "h",
           "type": "bar",
           "x": [
            278303216,
            269365332,
            251059636,
            221462042,
            199108219,
            175343166,
            140718687,
            119821427,
            112912549,
            100893240,
            88229263,
            70728333,
            53750337,
            45067660,
            31152871,
            18250793,
            12146109
           ],
           "y": [
            1,
            6,
            11,
            16,
            21,
            26,
            31,
            36,
            41,
            46,
            51,
            56,
            61,
            66,
            71,
            76,
            81
           ]
          },
          {
           "hoverinfo": "skip",
           "marker": {
            "color": "pink"
           },
           "name": "Women",
           "orientation": "h",
           "type": "bar",
           "x": [
            -265175935,
            -256944249,
            -240036613,
            -212713489,
            -192753104,
            -170516282,
            -136670495,
            -116281328,
            -110315428,
            -99292214,
            -90378308,
            -77347649,
            -61032535,
            -55409856,
            -41869357,
            -27780338,
            -23020666
           ],
           "y": [
            1,
            6,
            11,
            16,
            21,
            26,
            31,
            36,
            41,
            46,
            51,
            56,
            61,
            66,
            71,
            76,
            81
           ]
          }
         ],
         "layout": {
          "title": {
           "text": "Population Pyramid for 1979"
          }
         }
        },
        {
         "data": [
          {
           "hoverinfo": "skip",
           "marker": {
            "color": "green"
           },
           "name": "Men",
           "orientation": "h",
           "type": "bar",
           "x": [
            277617075,
            267987092,
            248719941,
            213208141,
            196781608,
            169454501,
            134578942,
            119338980,
            111142565,
            99993369,
            85760616,
            68147430,
            53617678,
            44232568,
            30268583,
            17597277,
            11684220
           ],
           "y": [
            1,
            6,
            11,
            16,
            21,
            26,
            31,
            36,
            41,
            46,
            51,
            56,
            61,
            66,
            71,
            76,
            81
           ]
          },
          {
           "hoverinfo": "skip",
           "marker": {
            "color": "pink"
           },
           "name": "Women",
           "orientation": "h",
           "type": "bar",
           "x": [
            -264596198,
            -255741765,
            -237825434,
            -204645730,
            -190574693,
            -164676166,
            -130566213,
            -115853329,
            -108548513,
            -98404056,
            -88854081,
            -74460493,
            -61096001,
            -54446485,
            -40664735,
            -26776640,
            -22053678
           ],
           "y": [
            1,
            6,
            11,
            16,
            21,
            26,
            31,
            36,
            41,
            46,
            51,
            56,
            61,
            66,
            71,
            76,
            81
           ]
          }
         ],
         "layout": {
          "title": {
           "text": "Population Pyramid for 1978"
          }
         }
        },
        {
         "data": [
          {
           "hoverinfo": "skip",
           "marker": {
            "color": "green"
           },
           "name": "Men",
           "orientation": "h",
           "type": "bar",
           "x": [
            278169810,
            265241980,
            246473803,
            206914340,
            192797992,
            163276394,
            129266363,
            119160126,
            109186911,
            98874691,
            83210897,
            65491365,
            53880588,
            43337054,
            29425569,
            16909048,
            11236188
           ],
           "y": [
            1,
            6,
            11,
            16,
            21,
            26,
            31,
            36,
            41,
            46,
            51,
            56,
            61,
            66,
            71,
            76,
            81
           ]
          },
          {
           "hoverinfo": "skip",
           "marker": {
            "color": "pink"
           },
           "name": "Women",
           "orientation": "h",
           "type": "bar",
           "x": [
            -265188387,
            -253239204,
            -235653824,
            -198569348,
            -186815429,
            -158606832,
            -125268419,
            -115692350,
            -106649433,
            -97420827,
            -87209101,
            -71361343,
            -61657269,
            -53367787,
            -39540604,
            -25735020,
            -21112603
           ],
           "y": [
            1,
            6,
            11,
            16,
            21,
            26,
            31,
            36,
            41,
            46,
            51,
            56,
            61,
            66,
            71,
            76,
            81
           ]
          }
         ],
         "layout": {
          "title": {
           "text": "Population Pyramid for 1977"
          }
         }
        },
        {
         "data": [
          {
           "hoverinfo": "skip",
           "marker": {
            "color": "green"
           },
           "name": "Men",
           "orientation": "h",
           "type": "bar",
           "x": [
            278905464,
            261333627,
            241289990,
            204433778,
            188487365,
            156939340,
            125254133,
            118704191,
            107257830,
            97461424,
            80744120,
            63206993,
            54067313,
            42414187,
            28613218,
            16232664,
            10832515
           ],
           "y": [
            1,
            6,
            11,
            16,
            21,
            26,
            31,
            36,
            41,
            46,
            51,
            56,
            61,
            66,
            71,
            76,
            81
           ]
          },
          {
           "hoverinfo": "skip",
           "marker": {
            "color": "pink"
           },
           "name": "Women",
           "orientation": "h",
           "type": "bar",
           "x": [
            -265969819,
            -249635238,
            -230639541,
            -196182572,
            -182643168,
            -152365572,
            -121356526,
            -115210271,
            -104759985,
            -96356542,
            -85356117,
            -68692861,
            -62161516,
            -52217218,
            -38500938,
            -24728288,
            -20240374
           ],
           "y": [
            1,
            6,
            11,
            16,
            21,
            26,
            31,
            36,
            41,
            46,
            51,
            56,
            61,
            66,
            71,
            76,
            81
           ]
          }
         ],
         "layout": {
          "title": {
           "text": "Population Pyramid for 1976"
          }
         }
        },
        {
         "data": [
          {
           "hoverinfo": "skip",
           "marker": {
            "color": "green"
           },
           "name": "Men",
           "orientation": "h",
           "type": "bar",
           "x": [
            279605807,
            257496173,
            233389011,
            203690906,
            183727102,
            150063100,
            123329466,
            117586648,
            105825645,
            95469207,
            78555664,
            61292919,
            53940041,
            41462339,
            27793838,
            15608738,
            10473101
           ],
           "y": [
            1,
            6,
            11,
            16,
            21,
            26,
            31,
            36,
            41,
            46,
            51,
            56,
            61,
            66,
            71,
            76,
            81
           ]
          },
          {
           "hoverinfo": "skip",
           "marker": {
            "color": "pink"
           },
           "name": "Women",
           "orientation": "h",
           "type": "bar",
           "x": [
            -266726417,
            -246081872,
            -223053626,
            -195506465,
            -178008767,
            -145572832,
            -119437282,
            -114175163,
            -103203039,
            -95104529,
            -83413972,
            -66599082,
            -62181215,
            -51071793,
            -37454892,
            -23787873,
            -19425983
           ],
           "y": [
            1,
            6,
            11,
            16,
            21,
            26,
            31,
            36,
            41,
            46,
            51,
            56,
            61,
            66,
            71,
            76,
            81
           ]
          }
         ],
         "layout": {
          "title": {
           "text": "Population Pyramid for 1975"
          }
         }
        },
        {
         "data": [
          {
           "hoverinfo": "skip",
           "marker": {
            "color": "green"
           },
           "name": "Men",
           "orientation": "h",
           "type": "bar",
           "x": [
            279581042,
            254177648,
            225066659,
            202734271,
            178176408,
            142987758,
            122544681,
            116023879,
            104923069,
            92994506,
            76302422,
            60223004,
            53392586,
            40469556,
            26947509,
            15034695,
            10140783
           ],
           "y": [
            1,
            6,
            11,
            16,
            21,
            26,
            31,
            36,
            41,
            46,
            51,
            56,
            61,
            66,
            71,
            76,
            81
           ]
          },
          {
           "hoverinfo": "skip",
           "marker": {
            "color": "pink"
           },
           "name": "Women",
           "orientation": "h",
           "type": "bar",
           "x": [
            -266809117,
            -242979576,
            -215092048,
            -194744068,
            -172613847,
            -138674316,
            -118646174,
            -112773712,
            -102152553,
            -93601097,
            -81141572,
            -65609953,
            -61614442,
            -49843247,
            -36364899,
            -22933310,
            -18657684
           ],
           "y": [
            1,
            6,
            11,
            16,
            21,
            26,
            31,
            36,
            41,
            46,
            51,
            56,
            61,
            66,
            71,
            76,
            81
           ]
          }
         ],
         "layout": {
          "title": {
           "text": "Population Pyramid for 1974"
          }
         }
        },
        {
         "data": [
          {
           "hoverinfo": "skip",
           "marker": {
            "color": "green"
           },
           "name": "Men",
           "orientation": "h",
           "type": "bar",
           "x": [
            278421001,
            251839174,
            216517945,
            200412748,
            172280937,
            136831869,
            122047196,
            114221691,
            103970688,
            90423633,
            73573331,
            60149757,
            52530098,
            39456159,
            26095699,
            14506592,
            9854899
           ],
           "y": [
            1,
            6,
            11,
            16,
            21,
            26,
            31,
            36,
            41,
            46,
            51,
            56,
            61,
            66,
            71,
            76,
            81
           ]
          },
          {
           "hoverinfo": "skip",
           "marker": {
            "color": "pink"
           },
           "name": "Women",
           "orientation": "h",
           "type": "bar",
           "x": [
            -265808031,
            -240771458,
            -206913116,
            -192726992,
            -166929837,
            -132656458,
            -118207925,
            -111040688,
            -101269539,
            -92088243,
            -78183153,
            -65760320,
            -60657424,
            -48563641,
            -35257608,
            -22147618,
            -17984346
           ],
           "y": [
            1,
            6,
            11,
            16,
            21,
            26,
            31,
            36,
            41,
            46,
            51,
            56,
            61,
            66,
            71,
            76,
            81
           ]
          }
         ],
         "layout": {
          "title": {
           "text": "Population Pyramid for 1973"
          }
         }
        },
        {
         "data": [
          {
           "hoverinfo": "skip",
           "marker": {
            "color": "green"
           },
           "name": "Men",
           "orientation": "h",
           "type": "bar",
           "x": [
            275819404,
            249553390,
            210064733,
            196451996,
            165984801,
            131524199,
            121846620,
            112203032,
            102787965,
            87761875,
            70787711,
            60497563,
            51612881,
            38511379,
            25240476,
            14001370,
            9606034
           ],
           "y": [
            1,
            6,
            11,
            16,
            21,
            26,
            31,
            36,
            41,
            46,
            51,
            56,
            61,
            66,
            71,
            76,
            81
           ]
          },
          {
           "hoverinfo": "skip",
           "marker": {
            "color": "pink"
           },
           "name": "Women",
           "orientation": "h",
           "type": "bar",
           "x": [
            -263424586,
            -238600659,
            -200755161,
            -189099638,
            -160963293,
            -127425659,
            -118014297,
            -109142296,
            -100272485,
            -90420430,
            -75028740,
            -66398181,
            -59591546,
            -47391946,
            -34164554,
            -21352754,
            -17393704
           ],
           "y": [
            1,
            6,
            11,
            16,
            21,
            26,
            31,
            36,
            41,
            46,
            51,
            56,
            61,
            66,
            71,
            76,
            81
           ]
          }
         ],
         "layout": {
          "title": {
           "text": "Population Pyramid for 1972"
          }
         }
        },
        {
         "data": [
          {
           "hoverinfo": "skip",
           "marker": {
            "color": "green"
           },
           "name": "Men",
           "orientation": "h",
           "type": "bar",
           "x": [
            272171969,
            244152812,
            207459791,
            192073505,
            159479603,
            127533640,
            121363008,
            110214316,
            101327420,
            85187915,
            68448484,
            60789281,
            50700384,
            37621880,
            24419653,
            13546675,
            9379931
           ],
           "y": [
            1,
            6,
            11,
            16,
            21,
            26,
            31,
            36,
            41,
            46,
            51,
            56,
            61,
            66,
            71,
            76,
            81
           ]
          },
          {
           "hoverinfo": "skip",
           "marker": {
            "color": "pink"
           },
           "name": "Women",
           "orientation": "h",
           "type": "bar",
           "x": [
            -260039815,
            -233466272,
            -198289445,
            -184991770,
            -154760199,
            -123540470,
            -117483486,
            -107229858,
            -99193536,
            -88528344,
            -72356188,
            -66993455,
            -58453436,
            -46310289,
            -33104310,
            -20568945,
            -16843106
           ],
           "y": [
            1,
            6,
            11,
            16,
            21,
            26,
            31,
            36,
            41,
            46,
            51,
            56,
            61,
            66,
            71,
            76,
            81
           ]
          }
         ],
         "layout": {
          "title": {
           "text": "Population Pyramid for 1971"
          }
         }
        },
        {
         "data": [
          {
           "hoverinfo": "skip",
           "marker": {
            "color": "green"
           },
           "name": "Men",
           "orientation": "h",
           "type": "bar",
           "x": [
            268518924,
            235906872,
            206522979,
            187119117,
            152316799,
            125534901,
            120178834,
            108727365,
            99242728,
            82869358,
            66504488,
            60736930,
            49756078,
            36688534,
            23663247,
            13152393,
            9165988
           ],
           "y": [
            1,
            6,
            11,
            16,
            21,
            26,
            31,
            36,
            41,
            46,
            51,
            56,
            61,
            66,
            71,
            76,
            81
           ]
          },
          {
           "hoverinfo": "skip",
           "marker": {
            "color": "pink"
           },
           "name": "Women",
           "orientation": "h",
           "type": "bar",
           "x": [
            -256613422,
            -225606593,
            -197483887,
            -180229292,
            -147863767,
            -121538039,
            -116375045,
            -105623983,
            -97906275,
            -86396012,
            -70235394,
            -67077742,
            -57287436,
            -45205959,
            -32088375,
            -19864193,
            -16306012
           ],
           "y": [
            1,
            6,
            11,
            16,
            21,
            26,
            31,
            36,
            41,
            46,
            51,
            56,
            61,
            66,
            71,
            76,
            81
           ]
          }
         ],
         "layout": {
          "title": {
           "text": "Population Pyramid for 1970"
          }
         }
        },
        {
         "data": [
          {
           "hoverinfo": "skip",
           "marker": {
            "color": "green"
           },
           "name": "Men",
           "orientation": "h",
           "type": "bar",
           "x": [
            265299536,
            227438915,
            205504855,
            181503051,
            145027200,
            124778910,
            118628818,
            107857461,
            96773775,
            80532159,
            65507246,
            60262655,
            48753827,
            35715052,
            22992137,
            12853683,
            8941435
           ],
           "y": [
            1,
            6,
            11,
            16,
            21,
            26,
            31,
            36,
            41,
            46,
            51,
            56,
            61,
            66,
            71,
            76,
            81
           ]
          },
          {
           "hoverinfo": "skip",
           "marker": {
            "color": "pink"
           },
           "name": "Women",
           "orientation": "h",
           "type": "bar",
           "x": [
            -253559599,
            -217526157,
            -196656009,
            -174726034,
            -140888910,
            -120756573,
            -115000624,
            -104602085,
            -96440728,
            -83942667,
            -69316762,
            -66530804,
            -56037500,
            -44043049,
            -31200126,
            -19312202,
            -15758009
           ],
           "y": [
            1,
            6,
            11,
            16,
            21,
            26,
            31,
            36,
            41,
            46,
            51,
            56,
            61,
            66,
            71,
            76,
            81
           ]
          }
         ],
         "layout": {
          "title": {
           "text": "Population Pyramid for 1969"
          }
         }
        },
        {
         "data": [
          {
           "hoverinfo": "skip",
           "marker": {
            "color": "green"
           },
           "name": "Men",
           "orientation": "h",
           "type": "bar",
           "x": [
            263009314,
            218834660,
            203187969,
            175608423,
            138786059,
            124410587,
            116876901,
            106991850,
            94243166,
            77769477,
            65542486,
            59453137,
            47673305,
            34733693,
            22339313,
            12647356,
            8687075
           ],
           "y": [
            1,
            6,
            11,
            16,
            21,
            26,
            31,
            36,
            41,
            46,
            51,
            56,
            61,
            66,
            71,
            76,
            81
           ]
          },
          {
           "hoverinfo": "skip",
           "marker": {
            "color": "pink"
           },
           "name": "Women",
           "orientation": "h",
           "type": "bar",
           "x": [
            -251395438,
            -209353981,
            -194547805,
            -168967283,
            -134784478,
            -120364593,
            -113318554,
            -103787590,
            -94907297,
            -80974512,
            -69549042,
            -65570090,
            -54687433,
            -42840826,
            -30334736,
            -18908654,
            -15167710
           ],
           "y": [
            1,
            6,
            11,
            16,
            21,
            26,
            31,
            36,
            41,
            46,
            51,
            56,
            61,
            66,
            71,
            76,
            81
           ]
          }
         ],
         "layout": {
          "title": {
           "text": "Population Pyramid for 1968"
          }
         }
        },
        {
         "data": [
          {
           "hoverinfo": "skip",
           "marker": {
            "color": "green"
           },
           "name": "Men",
           "orientation": "h",
           "type": "bar",
           "x": [
            260809856,
            212384808,
            199211608,
            169336865,
            133605184,
            124362720,
            114943281,
            105915233,
            91583668,
            74997782,
            65977239,
            58577524,
            46651097,
            33732421,
            21668062,
            12486044,
            8420522
           ],
           "y": [
            1,
            6,
            11,
            16,
            21,
            26,
            31,
            36,
            41,
            46,
            51,
            56,
            61,
            66,
            71,
            76,
            81
           ]
          },
          {
           "hoverinfo": "skip",
           "marker": {
            "color": "pink"
           },
           "name": "Women",
           "orientation": "h",
           "type": "bar",
           "x": [
            -249327063,
            -203221473,
            -190839729,
            -162898594,
            -129511279,
            -120216762,
            -111489561,
            -102850062,
            -93182080,
            -77902109,
            -70219356,
            -64498286,
            -53452825,
            -41639089,
            -29402560,
            -18576144,
            -14566353
           ],
           "y": [
            1,
            6,
            11,
            16,
            21,
            26,
            31,
            36,
            41,
            46,
            51,
            56,
            61,
            66,
            71,
            76,
            81
           ]
          }
         ],
         "layout": {
          "title": {
           "text": "Population Pyramid for 1967"
          }
         }
        },
        {
         "data": [
          {
           "hoverinfo": "skip",
           "marker": {
            "color": "green"
           },
           "name": "Men",
           "orientation": "h",
           "type": "bar",
           "x": [
            255462052,
            209806261,
            194754764,
            162849353,
            129782961,
            123953410,
            113014948,
            104494464,
            88941441,
            72678022,
            66281432,
            57675739,
            45633390,
            32730081,
            21044424,
            12310490,
            8172205
           ],
           "y": [
            1,
            6,
            11,
            16,
            21,
            26,
            31,
            36,
            41,
            46,
            51,
            56,
            61,
            66,
            71,
            76,
            81
           ]
          },
          {
           "hoverinfo": "skip",
           "marker": {
            "color": "pink"
           },
           "name": "Women",
           "orientation": "h",
           "type": "bar",
           "x": [
            -244274235,
            -200744776,
            -186620110,
            -156575533,
            -125588862,
            -119710629,
            -109641457,
            -101781867,
            -91190482,
            -75311038,
            -70753138,
            -63358991,
            -52261631,
            -40470491,
            -28479270,
            -18213423,
            -13999977
           ],
           "y": [
            1,
            6,
            11,
            16,
            21,
            26,
            31,
            36,
            41,
            46,
            51,
            56,
            61,
            66,
            71,
            76,
            81
           ]
          }
         ],
         "layout": {
          "title": {
           "text": "Population Pyramid for 1966"
          }
         }
        },
        {
         "data": [
          {
           "hoverinfo": "skip",
           "marker": {
            "color": "green"
           },
           "name": "Men",
           "orientation": "h",
           "type": "bar",
           "x": [
            247311595,
            208973268,
            189840539,
            155866952,
            127993282,
            122858843,
            111628324,
            102463758,
            86641000,
            70799911,
            66250146,
            56715862,
            44573788,
            31792111,
            20501631,
            12120465,
            7961354
           ],
           "y": [
            1,
            6,
            11,
            16,
            21,
            26,
            31,
            36,
            41,
            46,
            51,
            56,
            61,
            66,
            71,
            76,
            81
           ]
          },
          {
           "hoverinfo": "skip",
           "marker": {
            "color": "pink"
           },
           "name": "Women",
           "orientation": "h",
           "type": "bar",
           "x": [
            -236561835,
            -199955345,
            -181967954,
            -149723504,
            -123646536,
            -118668363,
            -108128782,
            -100533945,
            -89156876,
            -73319815,
            -70823972,
            -62163159,
            -51097180,
            -39313148,
            -27620122,
            -17818749,
            -13492523
           ],
           "y": [
            1,
            6,
            11,
            16,
            21,
            26,
            31,
            36,
            41,
            46,
            51,
            56,
            61,
            66,
            71,
            76,
            81
           ]
          }
         ],
         "layout": {
          "title": {
           "text": "Population Pyramid for 1965"
          }
         }
        },
        {
         "data": [
          {
           "hoverinfo": "skip",
           "marker": {
            "color": "green"
           },
           "name": "Men",
           "orientation": "h",
           "type": "bar",
           "x": [
            239069096,
            208246346,
            184392252,
            148807806,
            127455138,
            121422713,
            110824195,
            100054082,
            84372619,
            69911656,
            65794097,
            55695258,
            43478702,
            30943044,
            20060575,
            11898896,
            7760556
           ],
           "y": [
            1,
            6,
            11,
            16,
            21,
            26,
            31,
            36,
            41,
            46,
            51,
            56,
            61,
            66,
            71,
            76,
            81
           ]
          },
          {
           "hoverinfo": "skip",
           "marker": {
            "color": "pink"
           },
           "name": "Women",
           "orientation": "h",
           "type": "bar",
           "x": [
            -228738468,
            -199318629,
            -176757980,
            -142871756,
            -122964015,
            -117404611,
            -107156543,
            -99124268,
            -86881882,
            -72524891,
            -70298450,
            -60863138,
            -49896011,
            -38267820,
            -26880855,
            -17371906,
            -13009636
           ],
           "y": [
            1,
            6,
            11,
            16,
            21,
            26,
            31,
            36,
            41,
            46,
            51,
            56,
            61,
            66,
            71,
            76,
            81
           ]
          }
         ],
         "layout": {
          "title": {
           "text": "Population Pyramid for 1964"
          }
         }
        },
        {
         "data": [
          {
           "hoverinfo": "skip",
           "marker": {
            "color": "green"
           },
           "name": "Men",
           "orientation": "h",
           "type": "bar",
           "x": [
            230599710,
            206420446,
            178823880,
            142714269,
            127354732,
            119803597,
            110055390,
            97620862,
            81693176,
            70103561,
            65018050,
            54638088,
            42405818,
            30136635,
            19767119,
            11597444,
            7593928
           ],
           "y": [
            1,
            6,
            11,
            16,
            21,
            26,
            31,
            36,
            41,
            46,
            51,
            56,
            61,
            66,
            71,
            76,
            81
           ]
          },
          {
           "hoverinfo": "skip",
           "marker": {
            "color": "pink"
           },
           "name": "Women",
           "orientation": "h",
           "type": "bar",
           "x": [
            -220693247,
            -197666059,
            -171378294,
            -136941008,
            -122753547,
            -115915113,
            -106456518,
            -97727674,
            -84048060,
            -72901051,
            -69368917,
            -59563389,
            -48676464,
            -37307082,
            -26387818,
            -16790332,
            -12587661
           ],
           "y": [
            1,
            6,
            11,
            16,
            21,
            26,
            31,
            36,
            41,
            46,
            51,
            56,
            61,
            66,
            71,
            76,
            81
           ]
          }
         ],
         "layout": {
          "title": {
           "text": "Population Pyramid for 1963"
          }
         }
        },
        {
         "data": [
          {
           "hoverinfo": "skip",
           "marker": {
            "color": "green"
           },
           "name": "Men",
           "orientation": "h",
           "type": "bar",
           "x": [
            224041736,
            202783378,
            172741508,
            137464629,
            127460456,
            117908655,
            109009916,
            94997885,
            78961209,
            70650140,
            64151640,
            53613153,
            41315095,
            29309265,
            19564704,
            11276494,
            7473921
           ],
           "y": [
            1,
            6,
            11,
            16,
            21,
            26,
            31,
            36,
            41,
            46,
            51,
            56,
            61,
            66,
            71,
            76,
            81
           ]
          },
          {
           "hoverinfo": "skip",
           "marker": {
            "color": "pink"
           },
           "name": "Women",
           "orientation": "h",
           "type": "bar",
           "x": [
            -214454487,
            -194296395,
            -165520684,
            -131785923,
            -122722609,
            -114205002,
            -105594791,
            -96087541,
            -81062908,
            -73668493,
            -68294348,
            -58353159,
            -47453135,
            -36251659,
            -26019479,
            -16202664,
            -12237753
           ],
           "y": [
            1,
            6,
            11,
            16,
            21,
            26,
            31,
            36,
            41,
            46,
            51,
            56,
            61,
            66,
            71,
            76,
            81
           ]
          }
         ],
         "layout": {
          "title": {
           "text": "Population Pyramid for 1962"
          }
         }
        },
        {
         "data": [
          {
           "hoverinfo": "skip",
           "marker": {
            "color": "green"
           },
           "name": "Men",
           "orientation": "h",
           "type": "bar",
           "x": [
            222196886,
            198854626,
            166558402,
            133606813,
            127266768,
            116117718,
            107726675,
            92485715,
            76773033,
            71125782,
            63341915,
            52651042,
            40297521,
            28589999,
            19386067,
            11014794,
            7361753
           ],
           "y": [
            1,
            6,
            11,
            16,
            21,
            26,
            31,
            36,
            41,
            46,
            51,
            56,
            61,
            66,
            71,
            76,
            81
           ]
          },
          {
           "hoverinfo": "skip",
           "marker": {
            "color": "pink"
           },
           "name": "Women",
           "orientation": "h",
           "type": "bar",
           "x": [
            -212714001,
            -190620416,
            -159479034,
            -128070910,
            -122408085,
            -112545439,
            -104694147,
            -94252522,
            -78630962,
            -74334706,
            -67232756,
            -57238666,
            -46346218,
            -35283959,
            -25648744,
            -15739382,
            -11915207
           ],
           "y": [
            1,
            6,
            11,
            16,
            21,
            26,
            31,
            36,
            41,
            46,
            51,
            56,
            61,
            66,
            71,
            76,
            81
           ]
          }
         ],
         "layout": {
          "title": {
           "text": "Population Pyramid for 1961"
          }
         }
        },
        {
         "data": [
          {
           "hoverinfo": "skip",
           "marker": {
            "color": "green"
           },
           "name": "Men",
           "orientation": "h",
           "type": "bar",
           "x": [
            223557787,
            194920004,
            160122897,
            132065258,
            126570596,
            115125109,
            106059293,
            90503442,
            75194713,
            71443112,
            62634651,
            51789924,
            39473752,
            28068429,
            19260322,
            10847132,
            7271056
           ],
           "y": [
            1,
            6,
            11,
            16,
            21,
            26,
            31,
            36,
            41,
            46,
            51,
            56,
            61,
            66,
            71,
            76,
            81
           ]
          },
          {
           "hoverinfo": "skip",
           "marker": {
            "color": "pink"
           },
           "name": "Women",
           "orientation": "h",
           "type": "bar",
           "x": [
            -214075855,
            -186934892,
            -153151958,
            -126520594,
            -121770846,
            -111426085,
            -103783365,
            -92535492,
            -76922502,
            -74699893,
            -66247630,
            -56336109,
            -45368022,
            -34507949,
            -25342528,
            -15396598,
            -11637144
           ],
           "y": [
            1,
            6,
            11,
            16,
            21,
            26,
            31,
            36,
            41,
            46,
            51,
            56,
            61,
            66,
            71,
            76,
            81
           ]
          }
         ],
         "layout": {
          "title": {
           "text": "Population Pyramid for 1960"
          }
         }
        }
       ],
       "layout": {
        "template": {
         "data": {
          "bar": [
           {
            "error_x": {
             "color": "#2a3f5f"
            },
            "error_y": {
             "color": "#2a3f5f"
            },
            "marker": {
             "line": {
              "color": "#E5ECF6",
              "width": 0.5
             },
             "pattern": {
              "fillmode": "overlay",
              "size": 10,
              "solidity": 0.2
             }
            },
            "type": "bar"
           }
          ],
          "barpolar": [
           {
            "marker": {
             "line": {
              "color": "#E5ECF6",
              "width": 0.5
             },
             "pattern": {
              "fillmode": "overlay",
              "size": 10,
              "solidity": 0.2
             }
            },
            "type": "barpolar"
           }
          ],
          "carpet": [
           {
            "aaxis": {
             "endlinecolor": "#2a3f5f",
             "gridcolor": "white",
             "linecolor": "white",
             "minorgridcolor": "white",
             "startlinecolor": "#2a3f5f"
            },
            "baxis": {
             "endlinecolor": "#2a3f5f",
             "gridcolor": "white",
             "linecolor": "white",
             "minorgridcolor": "white",
             "startlinecolor": "#2a3f5f"
            },
            "type": "carpet"
           }
          ],
          "choropleth": [
           {
            "colorbar": {
             "outlinewidth": 0,
             "ticks": ""
            },
            "type": "choropleth"
           }
          ],
          "contour": [
           {
            "colorbar": {
             "outlinewidth": 0,
             "ticks": ""
            },
            "colorscale": [
             [
              0,
              "#0d0887"
             ],
             [
              0.1111111111111111,
              "#46039f"
             ],
             [
              0.2222222222222222,
              "#7201a8"
             ],
             [
              0.3333333333333333,
              "#9c179e"
             ],
             [
              0.4444444444444444,
              "#bd3786"
             ],
             [
              0.5555555555555556,
              "#d8576b"
             ],
             [
              0.6666666666666666,
              "#ed7953"
             ],
             [
              0.7777777777777778,
              "#fb9f3a"
             ],
             [
              0.8888888888888888,
              "#fdca26"
             ],
             [
              1,
              "#f0f921"
             ]
            ],
            "type": "contour"
           }
          ],
          "contourcarpet": [
           {
            "colorbar": {
             "outlinewidth": 0,
             "ticks": ""
            },
            "type": "contourcarpet"
           }
          ],
          "heatmap": [
           {
            "colorbar": {
             "outlinewidth": 0,
             "ticks": ""
            },
            "colorscale": [
             [
              0,
              "#0d0887"
             ],
             [
              0.1111111111111111,
              "#46039f"
             ],
             [
              0.2222222222222222,
              "#7201a8"
             ],
             [
              0.3333333333333333,
              "#9c179e"
             ],
             [
              0.4444444444444444,
              "#bd3786"
             ],
             [
              0.5555555555555556,
              "#d8576b"
             ],
             [
              0.6666666666666666,
              "#ed7953"
             ],
             [
              0.7777777777777778,
              "#fb9f3a"
             ],
             [
              0.8888888888888888,
              "#fdca26"
             ],
             [
              1,
              "#f0f921"
             ]
            ],
            "type": "heatmap"
           }
          ],
          "heatmapgl": [
           {
            "colorbar": {
             "outlinewidth": 0,
             "ticks": ""
            },
            "colorscale": [
             [
              0,
              "#0d0887"
             ],
             [
              0.1111111111111111,
              "#46039f"
             ],
             [
              0.2222222222222222,
              "#7201a8"
             ],
             [
              0.3333333333333333,
              "#9c179e"
             ],
             [
              0.4444444444444444,
              "#bd3786"
             ],
             [
              0.5555555555555556,
              "#d8576b"
             ],
             [
              0.6666666666666666,
              "#ed7953"
             ],
             [
              0.7777777777777778,
              "#fb9f3a"
             ],
             [
              0.8888888888888888,
              "#fdca26"
             ],
             [
              1,
              "#f0f921"
             ]
            ],
            "type": "heatmapgl"
           }
          ],
          "histogram": [
           {
            "marker": {
             "pattern": {
              "fillmode": "overlay",
              "size": 10,
              "solidity": 0.2
             }
            },
            "type": "histogram"
           }
          ],
          "histogram2d": [
           {
            "colorbar": {
             "outlinewidth": 0,
             "ticks": ""
            },
            "colorscale": [
             [
              0,
              "#0d0887"
             ],
             [
              0.1111111111111111,
              "#46039f"
             ],
             [
              0.2222222222222222,
              "#7201a8"
             ],
             [
              0.3333333333333333,
              "#9c179e"
             ],
             [
              0.4444444444444444,
              "#bd3786"
             ],
             [
              0.5555555555555556,
              "#d8576b"
             ],
             [
              0.6666666666666666,
              "#ed7953"
             ],
             [
              0.7777777777777778,
              "#fb9f3a"
             ],
             [
              0.8888888888888888,
              "#fdca26"
             ],
             [
              1,
              "#f0f921"
             ]
            ],
            "type": "histogram2d"
           }
          ],
          "histogram2dcontour": [
           {
            "colorbar": {
             "outlinewidth": 0,
             "ticks": ""
            },
            "colorscale": [
             [
              0,
              "#0d0887"
             ],
             [
              0.1111111111111111,
              "#46039f"
             ],
             [
              0.2222222222222222,
              "#7201a8"
             ],
             [
              0.3333333333333333,
              "#9c179e"
             ],
             [
              0.4444444444444444,
              "#bd3786"
             ],
             [
              0.5555555555555556,
              "#d8576b"
             ],
             [
              0.6666666666666666,
              "#ed7953"
             ],
             [
              0.7777777777777778,
              "#fb9f3a"
             ],
             [
              0.8888888888888888,
              "#fdca26"
             ],
             [
              1,
              "#f0f921"
             ]
            ],
            "type": "histogram2dcontour"
           }
          ],
          "mesh3d": [
           {
            "colorbar": {
             "outlinewidth": 0,
             "ticks": ""
            },
            "type": "mesh3d"
           }
          ],
          "parcoords": [
           {
            "line": {
             "colorbar": {
              "outlinewidth": 0,
              "ticks": ""
             }
            },
            "type": "parcoords"
           }
          ],
          "pie": [
           {
            "automargin": true,
            "type": "pie"
           }
          ],
          "scatter": [
           {
            "marker": {
             "colorbar": {
              "outlinewidth": 0,
              "ticks": ""
             }
            },
            "type": "scatter"
           }
          ],
          "scatter3d": [
           {
            "line": {
             "colorbar": {
              "outlinewidth": 0,
              "ticks": ""
             }
            },
            "marker": {
             "colorbar": {
              "outlinewidth": 0,
              "ticks": ""
             }
            },
            "type": "scatter3d"
           }
          ],
          "scattercarpet": [
           {
            "marker": {
             "colorbar": {
              "outlinewidth": 0,
              "ticks": ""
             }
            },
            "type": "scattercarpet"
           }
          ],
          "scattergeo": [
           {
            "marker": {
             "colorbar": {
              "outlinewidth": 0,
              "ticks": ""
             }
            },
            "type": "scattergeo"
           }
          ],
          "scattergl": [
           {
            "marker": {
             "colorbar": {
              "outlinewidth": 0,
              "ticks": ""
             }
            },
            "type": "scattergl"
           }
          ],
          "scattermapbox": [
           {
            "marker": {
             "colorbar": {
              "outlinewidth": 0,
              "ticks": ""
             }
            },
            "type": "scattermapbox"
           }
          ],
          "scatterpolar": [
           {
            "marker": {
             "colorbar": {
              "outlinewidth": 0,
              "ticks": ""
             }
            },
            "type": "scatterpolar"
           }
          ],
          "scatterpolargl": [
           {
            "marker": {
             "colorbar": {
              "outlinewidth": 0,
              "ticks": ""
             }
            },
            "type": "scatterpolargl"
           }
          ],
          "scatterternary": [
           {
            "marker": {
             "colorbar": {
              "outlinewidth": 0,
              "ticks": ""
             }
            },
            "type": "scatterternary"
           }
          ],
          "surface": [
           {
            "colorbar": {
             "outlinewidth": 0,
             "ticks": ""
            },
            "colorscale": [
             [
              0,
              "#0d0887"
             ],
             [
              0.1111111111111111,
              "#46039f"
             ],
             [
              0.2222222222222222,
              "#7201a8"
             ],
             [
              0.3333333333333333,
              "#9c179e"
             ],
             [
              0.4444444444444444,
              "#bd3786"
             ],
             [
              0.5555555555555556,
              "#d8576b"
             ],
             [
              0.6666666666666666,
              "#ed7953"
             ],
             [
              0.7777777777777778,
              "#fb9f3a"
             ],
             [
              0.8888888888888888,
              "#fdca26"
             ],
             [
              1,
              "#f0f921"
             ]
            ],
            "type": "surface"
           }
          ],
          "table": [
           {
            "cells": {
             "fill": {
              "color": "#EBF0F8"
             },
             "line": {
              "color": "white"
             }
            },
            "header": {
             "fill": {
              "color": "#C8D4E3"
             },
             "line": {
              "color": "white"
             }
            },
            "type": "table"
           }
          ]
         },
         "layout": {
          "annotationdefaults": {
           "arrowcolor": "#2a3f5f",
           "arrowhead": 0,
           "arrowwidth": 1
          },
          "autotypenumbers": "strict",
          "coloraxis": {
           "colorbar": {
            "outlinewidth": 0,
            "ticks": ""
           }
          },
          "colorscale": {
           "diverging": [
            [
             0,
             "#8e0152"
            ],
            [
             0.1,
             "#c51b7d"
            ],
            [
             0.2,
             "#de77ae"
            ],
            [
             0.3,
             "#f1b6da"
            ],
            [
             0.4,
             "#fde0ef"
            ],
            [
             0.5,
             "#f7f7f7"
            ],
            [
             0.6,
             "#e6f5d0"
            ],
            [
             0.7,
             "#b8e186"
            ],
            [
             0.8,
             "#7fbc41"
            ],
            [
             0.9,
             "#4d9221"
            ],
            [
             1,
             "#276419"
            ]
           ],
           "sequential": [
            [
             0,
             "#0d0887"
            ],
            [
             0.1111111111111111,
             "#46039f"
            ],
            [
             0.2222222222222222,
             "#7201a8"
            ],
            [
             0.3333333333333333,
             "#9c179e"
            ],
            [
             0.4444444444444444,
             "#bd3786"
            ],
            [
             0.5555555555555556,
             "#d8576b"
            ],
            [
             0.6666666666666666,
             "#ed7953"
            ],
            [
             0.7777777777777778,
             "#fb9f3a"
            ],
            [
             0.8888888888888888,
             "#fdca26"
            ],
            [
             1,
             "#f0f921"
            ]
           ],
           "sequentialminus": [
            [
             0,
             "#0d0887"
            ],
            [
             0.1111111111111111,
             "#46039f"
            ],
            [
             0.2222222222222222,
             "#7201a8"
            ],
            [
             0.3333333333333333,
             "#9c179e"
            ],
            [
             0.4444444444444444,
             "#bd3786"
            ],
            [
             0.5555555555555556,
             "#d8576b"
            ],
            [
             0.6666666666666666,
             "#ed7953"
            ],
            [
             0.7777777777777778,
             "#fb9f3a"
            ],
            [
             0.8888888888888888,
             "#fdca26"
            ],
            [
             1,
             "#f0f921"
            ]
           ]
          },
          "colorway": [
           "#636efa",
           "#EF553B",
           "#00cc96",
           "#ab63fa",
           "#FFA15A",
           "#19d3f3",
           "#FF6692",
           "#B6E880",
           "#FF97FF",
           "#FECB52"
          ],
          "font": {
           "color": "#2a3f5f"
          },
          "geo": {
           "bgcolor": "white",
           "lakecolor": "white",
           "landcolor": "#E5ECF6",
           "showlakes": true,
           "showland": true,
           "subunitcolor": "white"
          },
          "hoverlabel": {
           "align": "left"
          },
          "hovermode": "closest",
          "mapbox": {
           "style": "light"
          },
          "paper_bgcolor": "white",
          "plot_bgcolor": "#E5ECF6",
          "polar": {
           "angularaxis": {
            "gridcolor": "white",
            "linecolor": "white",
            "ticks": ""
           },
           "bgcolor": "#E5ECF6",
           "radialaxis": {
            "gridcolor": "white",
            "linecolor": "white",
            "ticks": ""
           }
          },
          "scene": {
           "xaxis": {
            "backgroundcolor": "#E5ECF6",
            "gridcolor": "white",
            "gridwidth": 2,
            "linecolor": "white",
            "showbackground": true,
            "ticks": "",
            "zerolinecolor": "white"
           },
           "yaxis": {
            "backgroundcolor": "#E5ECF6",
            "gridcolor": "white",
            "gridwidth": 2,
            "linecolor": "white",
            "showbackground": true,
            "ticks": "",
            "zerolinecolor": "white"
           },
           "zaxis": {
            "backgroundcolor": "#E5ECF6",
            "gridcolor": "white",
            "gridwidth": 2,
            "linecolor": "white",
            "showbackground": true,
            "ticks": "",
            "zerolinecolor": "white"
           }
          },
          "shapedefaults": {
           "line": {
            "color": "#2a3f5f"
           }
          },
          "ternary": {
           "aaxis": {
            "gridcolor": "white",
            "linecolor": "white",
            "ticks": ""
           },
           "baxis": {
            "gridcolor": "white",
            "linecolor": "white",
            "ticks": ""
           },
           "bgcolor": "#E5ECF6",
           "caxis": {
            "gridcolor": "white",
            "linecolor": "white",
            "ticks": ""
           }
          },
          "title": {
           "x": 0.05
          },
          "xaxis": {
           "automargin": true,
           "gridcolor": "white",
           "linecolor": "white",
           "ticks": "",
           "title": {
            "standoff": 15
           },
           "zerolinecolor": "white",
           "zerolinewidth": 2
          },
          "yaxis": {
           "automargin": true,
           "gridcolor": "white",
           "linecolor": "white",
           "ticks": "",
           "title": {
            "standoff": 15
           },
           "zerolinecolor": "white",
           "zerolinewidth": 2
          }
         }
        },
        "title": {
         "text": "Population Pyramid for 1960"
        },
        "updatemenus": [
         {
          "buttons": [
           {
            "args": [
             null,
             {
              "frame": {
               "duration": 20
              }
             }
            ],
            "label": "Play",
            "method": "animate"
           }
          ],
          "type": "buttons"
         }
        ]
       }
      },
      "text/html": [
       "<div>                            <div id=\"3e86dd45-1995-4407-b50d-c80d213d8fde\" class=\"plotly-graph-div\" style=\"height:525px; width:100%;\"></div>            <script type=\"text/javascript\">                require([\"plotly\"], function(Plotly) {                    window.PLOTLYENV=window.PLOTLYENV || {};                                    if (document.getElementById(\"3e86dd45-1995-4407-b50d-c80d213d8fde\")) {                    Plotly.newPlot(                        \"3e86dd45-1995-4407-b50d-c80d213d8fde\",                        [{\"hoverinfo\":\"skip\",\"marker\":{\"color\":\"green\"},\"name\":\"Men\",\"orientation\":\"h\",\"type\":\"bar\",\"x\":[223557787.0,194920004.0,160122897.0,132065258.0,126570596.0,115125109.0,106059293.0,90503442.0,75194713.0,71443112.0,62634651.0,51789924.0,39473752.0,28068429.0,19260322.0,10847132.0,7271056.0],\"y\":[1,6,11,16,21,26,31,36,41,46,51,56,61,66,71,76,81]},{\"hoverinfo\":\"skip\",\"marker\":{\"color\":\"pink\"},\"name\":\"Women\",\"orientation\":\"h\",\"type\":\"bar\",\"x\":[-214075855.0,-186934892.0,-153151958.0,-126520594.0,-121770846.0,-111426085.0,-103783365.0,-92535492.0,-76922502.0,-74699893.0,-66247630.0,-56336109.0,-45368022.0,-34507949.0,-25342528.0,-15396598.0,-11637144.0],\"y\":[1,6,11,16,21,26,31,36,41,46,51,56,61,66,71,76,81]}],                        {\"template\":{\"data\":{\"bar\":[{\"error_x\":{\"color\":\"#2a3f5f\"},\"error_y\":{\"color\":\"#2a3f5f\"},\"marker\":{\"line\":{\"color\":\"#E5ECF6\",\"width\":0.5},\"pattern\":{\"fillmode\":\"overlay\",\"size\":10,\"solidity\":0.2}},\"type\":\"bar\"}],\"barpolar\":[{\"marker\":{\"line\":{\"color\":\"#E5ECF6\",\"width\":0.5},\"pattern\":{\"fillmode\":\"overlay\",\"size\":10,\"solidity\":0.2}},\"type\":\"barpolar\"}],\"carpet\":[{\"aaxis\":{\"endlinecolor\":\"#2a3f5f\",\"gridcolor\":\"white\",\"linecolor\":\"white\",\"minorgridcolor\":\"white\",\"startlinecolor\":\"#2a3f5f\"},\"baxis\":{\"endlinecolor\":\"#2a3f5f\",\"gridcolor\":\"white\",\"linecolor\":\"white\",\"minorgridcolor\":\"white\",\"startlinecolor\":\"#2a3f5f\"},\"type\":\"carpet\"}],\"choropleth\":[{\"colorbar\":{\"outlinewidth\":0,\"ticks\":\"\"},\"type\":\"choropleth\"}],\"contour\":[{\"colorbar\":{\"outlinewidth\":0,\"ticks\":\"\"},\"colorscale\":[[0.0,\"#0d0887\"],[0.1111111111111111,\"#46039f\"],[0.2222222222222222,\"#7201a8\"],[0.3333333333333333,\"#9c179e\"],[0.4444444444444444,\"#bd3786\"],[0.5555555555555556,\"#d8576b\"],[0.6666666666666666,\"#ed7953\"],[0.7777777777777778,\"#fb9f3a\"],[0.8888888888888888,\"#fdca26\"],[1.0,\"#f0f921\"]],\"type\":\"contour\"}],\"contourcarpet\":[{\"colorbar\":{\"outlinewidth\":0,\"ticks\":\"\"},\"type\":\"contourcarpet\"}],\"heatmap\":[{\"colorbar\":{\"outlinewidth\":0,\"ticks\":\"\"},\"colorscale\":[[0.0,\"#0d0887\"],[0.1111111111111111,\"#46039f\"],[0.2222222222222222,\"#7201a8\"],[0.3333333333333333,\"#9c179e\"],[0.4444444444444444,\"#bd3786\"],[0.5555555555555556,\"#d8576b\"],[0.6666666666666666,\"#ed7953\"],[0.7777777777777778,\"#fb9f3a\"],[0.8888888888888888,\"#fdca26\"],[1.0,\"#f0f921\"]],\"type\":\"heatmap\"}],\"heatmapgl\":[{\"colorbar\":{\"outlinewidth\":0,\"ticks\":\"\"},\"colorscale\":[[0.0,\"#0d0887\"],[0.1111111111111111,\"#46039f\"],[0.2222222222222222,\"#7201a8\"],[0.3333333333333333,\"#9c179e\"],[0.4444444444444444,\"#bd3786\"],[0.5555555555555556,\"#d8576b\"],[0.6666666666666666,\"#ed7953\"],[0.7777777777777778,\"#fb9f3a\"],[0.8888888888888888,\"#fdca26\"],[1.0,\"#f0f921\"]],\"type\":\"heatmapgl\"}],\"histogram\":[{\"marker\":{\"pattern\":{\"fillmode\":\"overlay\",\"size\":10,\"solidity\":0.2}},\"type\":\"histogram\"}],\"histogram2d\":[{\"colorbar\":{\"outlinewidth\":0,\"ticks\":\"\"},\"colorscale\":[[0.0,\"#0d0887\"],[0.1111111111111111,\"#46039f\"],[0.2222222222222222,\"#7201a8\"],[0.3333333333333333,\"#9c179e\"],[0.4444444444444444,\"#bd3786\"],[0.5555555555555556,\"#d8576b\"],[0.6666666666666666,\"#ed7953\"],[0.7777777777777778,\"#fb9f3a\"],[0.8888888888888888,\"#fdca26\"],[1.0,\"#f0f921\"]],\"type\":\"histogram2d\"}],\"histogram2dcontour\":[{\"colorbar\":{\"outlinewidth\":0,\"ticks\":\"\"},\"colorscale\":[[0.0,\"#0d0887\"],[0.1111111111111111,\"#46039f\"],[0.2222222222222222,\"#7201a8\"],[0.3333333333333333,\"#9c179e\"],[0.4444444444444444,\"#bd3786\"],[0.5555555555555556,\"#d8576b\"],[0.6666666666666666,\"#ed7953\"],[0.7777777777777778,\"#fb9f3a\"],[0.8888888888888888,\"#fdca26\"],[1.0,\"#f0f921\"]],\"type\":\"histogram2dcontour\"}],\"mesh3d\":[{\"colorbar\":{\"outlinewidth\":0,\"ticks\":\"\"},\"type\":\"mesh3d\"}],\"parcoords\":[{\"line\":{\"colorbar\":{\"outlinewidth\":0,\"ticks\":\"\"}},\"type\":\"parcoords\"}],\"pie\":[{\"automargin\":true,\"type\":\"pie\"}],\"scatter\":[{\"marker\":{\"colorbar\":{\"outlinewidth\":0,\"ticks\":\"\"}},\"type\":\"scatter\"}],\"scatter3d\":[{\"line\":{\"colorbar\":{\"outlinewidth\":0,\"ticks\":\"\"}},\"marker\":{\"colorbar\":{\"outlinewidth\":0,\"ticks\":\"\"}},\"type\":\"scatter3d\"}],\"scattercarpet\":[{\"marker\":{\"colorbar\":{\"outlinewidth\":0,\"ticks\":\"\"}},\"type\":\"scattercarpet\"}],\"scattergeo\":[{\"marker\":{\"colorbar\":{\"outlinewidth\":0,\"ticks\":\"\"}},\"type\":\"scattergeo\"}],\"scattergl\":[{\"marker\":{\"colorbar\":{\"outlinewidth\":0,\"ticks\":\"\"}},\"type\":\"scattergl\"}],\"scattermapbox\":[{\"marker\":{\"colorbar\":{\"outlinewidth\":0,\"ticks\":\"\"}},\"type\":\"scattermapbox\"}],\"scatterpolar\":[{\"marker\":{\"colorbar\":{\"outlinewidth\":0,\"ticks\":\"\"}},\"type\":\"scatterpolar\"}],\"scatterpolargl\":[{\"marker\":{\"colorbar\":{\"outlinewidth\":0,\"ticks\":\"\"}},\"type\":\"scatterpolargl\"}],\"scatterternary\":[{\"marker\":{\"colorbar\":{\"outlinewidth\":0,\"ticks\":\"\"}},\"type\":\"scatterternary\"}],\"surface\":[{\"colorbar\":{\"outlinewidth\":0,\"ticks\":\"\"},\"colorscale\":[[0.0,\"#0d0887\"],[0.1111111111111111,\"#46039f\"],[0.2222222222222222,\"#7201a8\"],[0.3333333333333333,\"#9c179e\"],[0.4444444444444444,\"#bd3786\"],[0.5555555555555556,\"#d8576b\"],[0.6666666666666666,\"#ed7953\"],[0.7777777777777778,\"#fb9f3a\"],[0.8888888888888888,\"#fdca26\"],[1.0,\"#f0f921\"]],\"type\":\"surface\"}],\"table\":[{\"cells\":{\"fill\":{\"color\":\"#EBF0F8\"},\"line\":{\"color\":\"white\"}},\"header\":{\"fill\":{\"color\":\"#C8D4E3\"},\"line\":{\"color\":\"white\"}},\"type\":\"table\"}]},\"layout\":{\"annotationdefaults\":{\"arrowcolor\":\"#2a3f5f\",\"arrowhead\":0,\"arrowwidth\":1},\"autotypenumbers\":\"strict\",\"coloraxis\":{\"colorbar\":{\"outlinewidth\":0,\"ticks\":\"\"}},\"colorscale\":{\"diverging\":[[0,\"#8e0152\"],[0.1,\"#c51b7d\"],[0.2,\"#de77ae\"],[0.3,\"#f1b6da\"],[0.4,\"#fde0ef\"],[0.5,\"#f7f7f7\"],[0.6,\"#e6f5d0\"],[0.7,\"#b8e186\"],[0.8,\"#7fbc41\"],[0.9,\"#4d9221\"],[1,\"#276419\"]],\"sequential\":[[0.0,\"#0d0887\"],[0.1111111111111111,\"#46039f\"],[0.2222222222222222,\"#7201a8\"],[0.3333333333333333,\"#9c179e\"],[0.4444444444444444,\"#bd3786\"],[0.5555555555555556,\"#d8576b\"],[0.6666666666666666,\"#ed7953\"],[0.7777777777777778,\"#fb9f3a\"],[0.8888888888888888,\"#fdca26\"],[1.0,\"#f0f921\"]],\"sequentialminus\":[[0.0,\"#0d0887\"],[0.1111111111111111,\"#46039f\"],[0.2222222222222222,\"#7201a8\"],[0.3333333333333333,\"#9c179e\"],[0.4444444444444444,\"#bd3786\"],[0.5555555555555556,\"#d8576b\"],[0.6666666666666666,\"#ed7953\"],[0.7777777777777778,\"#fb9f3a\"],[0.8888888888888888,\"#fdca26\"],[1.0,\"#f0f921\"]]},\"colorway\":[\"#636efa\",\"#EF553B\",\"#00cc96\",\"#ab63fa\",\"#FFA15A\",\"#19d3f3\",\"#FF6692\",\"#B6E880\",\"#FF97FF\",\"#FECB52\"],\"font\":{\"color\":\"#2a3f5f\"},\"geo\":{\"bgcolor\":\"white\",\"lakecolor\":\"white\",\"landcolor\":\"#E5ECF6\",\"showlakes\":true,\"showland\":true,\"subunitcolor\":\"white\"},\"hoverlabel\":{\"align\":\"left\"},\"hovermode\":\"closest\",\"mapbox\":{\"style\":\"light\"},\"paper_bgcolor\":\"white\",\"plot_bgcolor\":\"#E5ECF6\",\"polar\":{\"angularaxis\":{\"gridcolor\":\"white\",\"linecolor\":\"white\",\"ticks\":\"\"},\"bgcolor\":\"#E5ECF6\",\"radialaxis\":{\"gridcolor\":\"white\",\"linecolor\":\"white\",\"ticks\":\"\"}},\"scene\":{\"xaxis\":{\"backgroundcolor\":\"#E5ECF6\",\"gridcolor\":\"white\",\"gridwidth\":2,\"linecolor\":\"white\",\"showbackground\":true,\"ticks\":\"\",\"zerolinecolor\":\"white\"},\"yaxis\":{\"backgroundcolor\":\"#E5ECF6\",\"gridcolor\":\"white\",\"gridwidth\":2,\"linecolor\":\"white\",\"showbackground\":true,\"ticks\":\"\",\"zerolinecolor\":\"white\"},\"zaxis\":{\"backgroundcolor\":\"#E5ECF6\",\"gridcolor\":\"white\",\"gridwidth\":2,\"linecolor\":\"white\",\"showbackground\":true,\"ticks\":\"\",\"zerolinecolor\":\"white\"}},\"shapedefaults\":{\"line\":{\"color\":\"#2a3f5f\"}},\"ternary\":{\"aaxis\":{\"gridcolor\":\"white\",\"linecolor\":\"white\",\"ticks\":\"\"},\"baxis\":{\"gridcolor\":\"white\",\"linecolor\":\"white\",\"ticks\":\"\"},\"bgcolor\":\"#E5ECF6\",\"caxis\":{\"gridcolor\":\"white\",\"linecolor\":\"white\",\"ticks\":\"\"}},\"title\":{\"x\":0.05},\"xaxis\":{\"automargin\":true,\"gridcolor\":\"white\",\"linecolor\":\"white\",\"ticks\":\"\",\"title\":{\"standoff\":15},\"zerolinecolor\":\"white\",\"zerolinewidth\":2},\"yaxis\":{\"automargin\":true,\"gridcolor\":\"white\",\"linecolor\":\"white\",\"ticks\":\"\",\"title\":{\"standoff\":15},\"zerolinecolor\":\"white\",\"zerolinewidth\":2}}},\"title\":{\"text\":\"Population Pyramid for 1960\"},\"updatemenus\":[{\"buttons\":[{\"args\":[null,{\"frame\":{\"duration\":20}}],\"label\":\"Play\",\"method\":\"animate\"}],\"type\":\"buttons\"}]},                        {\"responsive\": true}                    ).then(function(){\n",
       "                            Plotly.addFrames('3e86dd45-1995-4407-b50d-c80d213d8fde', [{\"data\":[{\"hoverinfo\":\"skip\",\"marker\":{\"color\":\"green\"},\"name\":\"Men\",\"orientation\":\"h\",\"type\":\"bar\",\"x\":[344650023.0,351823148.0,340134768.0,321211465.0,309096185.0,304184176.0,308770323.0,283342013.0,252677526.0,238749207.0,223947103.0,196668138.0,154828871.0,129373392.0,91921639.0,56383161.0,58371269.0],\"y\":[1,6,11,16,21,26,31,36,41,46,51,56,61,66,71,76,81]},{\"hoverinfo\":\"skip\",\"marker\":{\"color\":\"pink\"},\"name\":\"Women\",\"orientation\":\"h\",\"type\":\"bar\",\"x\":[-325642464.0,-330431921.0,-318493196.0,-301115793.0,-290347797.0,-288241480.0,-295707176.0,-274082515.0,-246330684.0,-235743243.0,-224896102.0,-202707064.0,-165954976.0,-145660097.0,-109247654.0,-71828549.0,-95845624.0],\"y\":[1,6,11,16,21,26,31,36,41,46,51,56,61,66,71,76,81]}],\"layout\":{\"title\":{\"text\":\"Population Pyramid for 2021\"}}},{\"data\":[{\"hoverinfo\":\"skip\",\"marker\":{\"color\":\"green\"},\"name\":\"Men\",\"orientation\":\"h\",\"type\":\"bar\",\"x\":[348843527.0,350861843.0,336694403.0,319186586.0,307711749.0,306243509.0,306298288.0,278670739.0,248265041.0,239380760.0,220302564.0,189880511.0,154455368.0,126216520.0,87919280.0,55253441.0,57363155.0],\"y\":[1,6,11,16,21,26,31,36,41,46,51,56,61,66,71,76,81]},{\"hoverinfo\":\"skip\",\"marker\":{\"color\":\"pink\"},\"name\":\"Women\",\"orientation\":\"h\",\"type\":\"bar\",\"x\":[-329071642.0,-329225029.0,-315221758.0,-299112617.0,-289115754.0,-290548637.0,-293679967.0,-269562260.0,-242158101.0,-236459269.0,-221445209.0,-195902317.0,-165545454.0,-141973645.0,-103935445.0,-70462837.0,-94014398.0],\"y\":[1,6,11,16,21,26,31,36,41,46,51,56,61,66,71,76,81]}],\"layout\":{\"title\":{\"text\":\"Population Pyramid for 2020\"}}},{\"data\":[{\"hoverinfo\":\"skip\",\"marker\":{\"color\":\"green\"},\"name\":\"Men\",\"orientation\":\"h\",\"type\":\"bar\",\"x\":[351934193.0,349385852.0,332876020.0,317132294.0,306772989.0,308834036.0,301641071.0,273910394.0,245159887.0,239140834.0,216758827.0,182501380.0,153577832.0,122089581.0,83320876.0,54369418.0,55792406.0],\"y\":[1,6,11,16,21,26,31,36,41,46,51,56,61,66,71,76,81]},{\"hoverinfo\":\"skip\",\"marker\":{\"color\":\"pink\"},\"name\":\"Women\",\"orientation\":\"h\",\"type\":\"bar\",\"x\":[-331507104.0,-327560200.0,-311628516.0,-297053915.0,-288370783.0,-293351115.0,-289549403.0,-264928936.0,-239265144.0,-236341845.0,-218144169.0,-188568634.0,-164724422.0,-137228598.0,-98120908.0,-69603886.0,-91536492.0],\"y\":[1,6,11,16,21,26,31,36,41,46,51,56,61,66,71,76,81]}],\"layout\":{\"title\":{\"text\":\"Population Pyramid for 2019\"}}},{\"data\":[{\"hoverinfo\":\"skip\",\"marker\":{\"color\":\"green\"},\"name\":\"Men\",\"orientation\":\"h\",\"type\":\"bar\",\"x\":[354088174.0,347389724.0,329029796.0,315050425.0,306524173.0,310713277.0,296708276.0,268841828.0,244013351.0,237876277.0,214089804.0,174951704.0,151598168.0,117713443.0,79116689.0,53385227.0,53954172.0],\"y\":[1,6,11,16,21,26,31,36,41,46,51,56,61,66,71,76,81]},{\"hoverinfo\":\"skip\",\"marker\":{\"color\":\"pink\"},\"name\":\"Women\",\"orientation\":\"h\",\"type\":\"bar\",\"x\":[-333098585.0,-325470037.0,-308035159.0,-295004074.0,-288393154.0,-295497148.0,-285117787.0,-260070368.0,-238289828.0,-235273671.0,-215725423.0,-181123022.0,-162791878.0,-132182084.0,-92955177.0,-68827619.0,-88876981.0],\"y\":[1,6,11,16,21,26,31,36,41,46,51,56,61,66,71,76,81]}],\"layout\":{\"title\":{\"text\":\"Population Pyramid for 2018\"}}},{\"data\":[{\"hoverinfo\":\"skip\",\"marker\":{\"color\":\"green\"},\"name\":\"Men\",\"orientation\":\"h\",\"type\":\"bar\",\"x\":[355156429.0,344546700.0,325497715.0,313205095.0,306617594.0,312088503.0,291846258.0,262872609.0,244088949.0,235227618.0,211566906.0,169244311.0,148260664.0,113124371.0,75382806.0,52537112.0,52078457.0],\"y\":[1,6,11,16,21,26,31,36,41,46,51,56,61,66,71,76,81]},{\"hoverinfo\":\"skip\",\"marker\":{\"color\":\"pink\"},\"name\":\"Women\",\"orientation\":\"h\",\"type\":\"bar\",\"x\":[-333723909.0,-322664475.0,-304742832.0,-293243362.0,-288853402.0,-297102799.0,-280700517.0,-254392892.0,-238513311.0,-232882421.0,-213417113.0,-175533333.0,-159421927.0,-126840509.0,-88462740.0,-68171738.0,-86148342.0],\"y\":[1,6,11,16,21,26,31,36,41,46,51,56,61,66,71,76,81]}],\"layout\":{\"title\":{\"text\":\"Population Pyramid for 2017\"}}},{\"data\":[{\"hoverinfo\":\"skip\",\"marker\":{\"color\":\"green\"},\"name\":\"Men\",\"orientation\":\"h\",\"type\":\"bar\",\"x\":[354925199.0,341077870.0,322664018.0,311582983.0,307261358.0,312366246.0,287022050.0,257084678.0,244481823.0,231333964.0,206486106.0,166886077.0,144567239.0,108314142.0,72330535.0,51646624.0,50202849.0],\"y\":[1,6,11,16,21,26,31,36,41,46,51,56,61,66,71,76,81]},{\"hoverinfo\":\"skip\",\"marker\":{\"color\":\"pink\"},\"name\":\"Women\",\"orientation\":\"h\",\"type\":\"bar\",\"x\":[-333192412.0,-319335512.0,-302069182.0,-291779159.0,-289870080.0,-297659646.0,-276202711.0,-248884434.0,-239056837.0,-229287819.0,-208553884.0,-173285011.0,-155593176.0,-121201876.0,-85021023.0,-67272215.0,-83435502.0],\"y\":[1,6,11,16,21,26,31,36,41,46,51,56,61,66,71,76,81]}],\"layout\":{\"title\":{\"text\":\"Population Pyramid for 2016\"}}},{\"data\":[{\"hoverinfo\":\"skip\",\"marker\":{\"color\":\"green\"},\"name\":\"Men\",\"orientation\":\"h\",\"type\":\"bar\",\"x\":[354008686.0,337480720.0,320564696.0,310192244.0,309371625.0,309807302.0,282246691.0,252584310.0,244891154.0,227336186.0,199053141.0,165962400.0,140507651.0,103035762.0,70534235.0,50526803.0,48371557.0],\"y\":[1,6,11,16,21,26,31,36,41,46,51,56,61,66,71,76,81]},{\"hoverinfo\":\"skip\",\"marker\":{\"color\":\"pink\"},\"name\":\"Women\",\"orientation\":\"h\",\"type\":\"bar\",\"x\":[-332039373.0,-315914905.0,-300028667.0,-290626949.0,-292284952.0,-295632822.0,-271677123.0,-244671007.0,-239679907.0,-225633035.0,-201397884.0,-172501455.0,-151302898.0,-115011737.0,-83176583.0,-66031401.0,-80825052.0],\"y\":[1,6,11,16,21,26,31,36,41,46,51,56,61,66,71,76,81]}],\"layout\":{\"title\":{\"text\":\"Population Pyramid for 2015\"}}},{\"data\":[{\"hoverinfo\":\"skip\",\"marker\":{\"color\":\"green\"},\"name\":\"Men\",\"orientation\":\"h\",\"type\":\"bar\",\"x\":[352720785.0,333664467.0,318536555.0,309376399.0,312215492.0,305260771.0,277602471.0,249512551.0,244517782.0,223710649.0,191347708.0,164935401.0,135863502.0,97599373.0,69457489.0,49320860.0,46647369.0],\"y\":[1,6,11,16,21,26,31,36,41,46,51,56,61,66,71,76,81]},{\"hoverinfo\":\"skip\",\"marker\":{\"color\":\"pink\"},\"name\":\"Women\",\"orientation\":\"h\",\"type\":\"bar\",\"x\":[-330559770.0,-312312239.0,-298048677.0,-290109856.0,-295453698.0,-291776539.0,-267294340.0,-241907755.0,-239577427.0,-222355466.0,-193965005.0,-171628275.0,-146282985.0,-108686489.0,-82248805.0,-64646078.0,-78365700.0],\"y\":[1,6,11,16,21,26,31,36,41,46,51,56,61,66,71,76,81]}],\"layout\":{\"title\":{\"text\":\"Population Pyramid for 2014\"}}},{\"data\":[{\"hoverinfo\":\"skip\",\"marker\":{\"color\":\"green\"},\"name\":\"Men\",\"orientation\":\"h\",\"type\":\"bar\",\"x\":[350790788.0,329803439.0,316427257.0,309262945.0,314237966.0,300426608.0,272602869.0,248280923.0,243087979.0,220989346.0,183513195.0,162838622.0,131052211.0,92832894.0,68451389.0,48116994.0,44927934.0],\"y\":[1,6,11,16,21,26,31,36,41,46,51,56,61,66,71,76,81]},{\"hoverinfo\":\"skip\",\"marker\":{\"color\":\"pink\"},\"name\":\"Women\",\"orientation\":\"h\",\"type\":\"bar\",\"x\":[-328525777.0,-308679621.0,-296015511.0,-290333926.0,-297825102.0,-287579023.0,-262573703.0,-240938534.0,-238425792.0,-219944167.0,-186360302.0,-169609388.0,-140964760.0,-103144453.0,-81491170.0,-63114840.0,-76015128.0],\"y\":[1,6,11,16,21,26,31,36,41,46,51,56,61,66,71,76,81]}],\"layout\":{\"title\":{\"text\":\"Population Pyramid for 2013\"}}},{\"data\":[{\"hoverinfo\":\"skip\",\"marker\":{\"color\":\"green\"},\"name\":\"Men\",\"orientation\":\"h\",\"type\":\"bar\",\"x\":[347981553.0,326347465.0,314651683.0,309626789.0,315720418.0,295649736.0,266667176.0,248264407.0,240330888.0,218399734.0,177618386.0,159297220.0,126022479.0,88672191.0,67645375.0,46829772.0,43267681.0],\"y\":[1,6,11,16,21,26,31,36,41,46,51,56,61,66,71,76,81]},{\"hoverinfo\":\"skip\",\"marker\":{\"color\":\"pink\"},\"name\":\"Women\",\"orientation\":\"h\",\"type\":\"bar\",\"x\":[-325740997.0,-305430836.0,-294334623.0,-291080669.0,-299586547.0,-283381763.0,-256958190.0,-241165353.0,-235973114.0,-217650392.0,-180637429.0,-166086581.0,-135365699.0,-98359352.0,-80910909.0,-61488263.0,-73752045.0],\"y\":[1,6,11,16,21,26,31,36,41,46,51,56,61,66,71,76,81]}],\"layout\":{\"title\":{\"text\":\"Population Pyramid for 2012\"}}},{\"data\":[{\"hoverinfo\":\"skip\",\"marker\":{\"color\":\"green\"},\"name\":\"Men\",\"orientation\":\"h\",\"type\":\"bar\",\"x\":[344647536.0,323691740.0,313155793.0,310566947.0,316122371.0,290863066.0,260909738.0,248564399.0,236406108.0,213182349.0,175217792.0,155370339.0,120767762.0,85345925.0,66780970.0,45532989.0,41632090.0],\"y\":[1,6,11,16,21,26,31,36,41,46,51,56,61,66,71,76,81]},{\"hoverinfo\":\"skip\",\"marker\":{\"color\":\"pink\"},\"name\":\"Women\",\"orientation\":\"h\",\"type\":\"bar\",\"x\":[-322524422.0,-302899937.0,-293007146.0,-292371094.0,-300317804.0,-279094240.0,-251515219.0,-241713143.0,-232382435.0,-212750175.0,-178337421.0,-162096734.0,-129496129.0,-94744001.0,-80084578.0,-59916070.0,-71524948.0],\"y\":[1,6,11,16,21,26,31,36,41,46,51,56,61,66,71,76,81]}],\"layout\":{\"title\":{\"text\":\"Population Pyramid for 2011\"}}},{\"data\":[{\"hoverinfo\":\"skip\",\"marker\":{\"color\":\"green\"},\"name\":\"Men\",\"orientation\":\"h\",\"type\":\"bar\",\"x\":[341420927.0,321832537.0,311968873.0,312858647.0,313739845.0,286163539.0,256533463.0,249104416.0,232641646.0,205768083.0,174451179.0,151207220.0,115088686.0,83536878.0,65663028.0,44465258.0,39936926.0],\"y\":[1,6,11,16,21,26,31,36,41,46,51,56,61,66,71,76,81]},{\"hoverinfo\":\"skip\",\"marker\":{\"color\":\"pink\"},\"name\":\"Women\",\"orientation\":\"h\",\"type\":\"bar\",\"x\":[-319421700.0,-301066792.0,-292077731.0,-294920846.0,-298477455.0,-274701966.0,-247391388.0,-242454284.0,-228927609.0,-205619608.0,-177615755.0,-157768094.0,-123118540.0,-92914272.0,-78902781.0,-58610058.0,-69261881.0],\"y\":[1,6,11,16,21,26,31,36,41,46,51,56,61,66,71,76,81]}],\"layout\":{\"title\":{\"text\":\"Population Pyramid for 2010\"}}},{\"data\":[{\"hoverinfo\":\"skip\",\"marker\":{\"color\":\"green\"},\"name\":\"Men\",\"orientation\":\"h\",\"type\":\"bar\",\"x\":[338060097.0,320006191.0,311454634.0,315798600.0,309267198.0,281470000.0,253498523.0,249014293.0,229324633.0,198150516.0,173594436.0,146454619.0,109200669.0,82541598.0,64366083.0,43605223.0,38160683.0],\"y\":[1,6,11,16,21,26,31,36,41,46,51,56,61,66,71,76,81]},{\"hoverinfo\":\"skip\",\"marker\":{\"color\":\"pink\"},\"name\":\"Women\",\"orientation\":\"h\",\"type\":\"bar\",\"x\":[-316219773.0,-299278741.0,-291798764.0,-298043908.0,-294685846.0,-270285530.0,-244648519.0,-242563026.0,-225885970.0,-198172309.0,-176762543.0,-152701031.0,-116537492.0,-92058434.0,-77474323.0,-57570588.0,-66836129.0],\"y\":[1,6,11,16,21,26,31,36,41,46,51,56,61,66,71,76,81]}],\"layout\":{\"title\":{\"text\":\"Population Pyramid for 2009\"}}},{\"data\":[{\"hoverinfo\":\"skip\",\"marker\":{\"color\":\"green\"},\"name\":\"Men\",\"orientation\":\"h\",\"type\":\"bar\",\"x\":[334602318.0,318045950.0,311618980.0,317945069.0,304407580.0,276312029.0,252274714.0,247869348.0,226936149.0,190445973.0,171626082.0,141484060.0,104015780.0,81683203.0,63040653.0,42754618.0,36401730.0],\"y\":[1,6,11,16,21,26,31,36,41,46,51,56,61,66,71,76,81]},{\"hoverinfo\":\"skip\",\"marker\":{\"color\":\"pink\"},\"name\":\"Women\",\"orientation\":\"h\",\"type\":\"bar\",\"x\":[-312963803.0,-297400642.0,-292183697.0,-300408874.0,-290522951.0,-265561388.0,-243743796.0,-241651220.0,-223717542.0,-190559451.0,-174752542.0,-147319110.0,-110744466.0,-91448152.0,-75862043.0,-56688010.0,-64416434.0],\"y\":[1,6,11,16,21,26,31,36,41,46,51,56,61,66,71,76,81]}],\"layout\":{\"title\":{\"text\":\"Population Pyramid for 2008\"}}},{\"data\":[{\"hoverinfo\":\"skip\",\"marker\":{\"color\":\"green\"},\"name\":\"Men\",\"orientation\":\"h\",\"type\":\"bar\",\"x\":[331497432.0,316377140.0,312086942.0,319450743.0,299484622.0,270146209.0,252300326.0,245307899.0,224624787.0,184700517.0,168120108.0,136199708.0,99506902.0,81041540.0,61582565.0,41862792.0,34697401.0],\"y\":[1,6,11,16,21,26,31,36,41,46,51,56,61,66,71,76,81]},{\"hoverinfo\":\"skip\",\"marker\":{\"color\":\"pink\"},\"name\":\"Women\",\"orientation\":\"h\",\"type\":\"bar\",\"x\":[-310048562.0,-295812482.0,-292953539.0,-302216772.0,-286306129.0,-259946540.0,-244074481.0,-239363548.0,-221581482.0,-184836338.0,-171210354.0,-141607951.0,-105743693.0,-91023356.0,-74128521.0,-55771504.0,-62028885.0],\"y\":[1,6,11,16,21,26,31,36,41,46,51,56,61,66,71,76,81]}],\"layout\":{\"title\":{\"text\":\"Population Pyramid for 2007\"}}},{\"data\":[{\"hoverinfo\":\"skip\",\"marker\":{\"color\":\"green\"},\"name\":\"Men\",\"orientation\":\"h\",\"type\":\"bar\",\"x\":[329169980.0,314968917.0,313038488.0,319863134.0,294502239.0,264132086.0,252680077.0,241528495.0,219562694.0,182491778.0,164180041.0,130619997.0,95971457.0,80245982.0,60090925.0,40897294.0,33053228.0],\"y\":[1,6,11,16,21,26,31,36,41,46,51,56,61,66,71,76,81]},{\"hoverinfo\":\"skip\",\"marker\":{\"color\":\"pink\"},\"name\":\"Women\",\"orientation\":\"h\",\"type\":\"bar\",\"x\":[-307829814.0,-294530993.0,-294214391.0,-303040505.0,-281974627.0,-254445583.0,-244758746.0,-235901103.0,-216733879.0,-182581344.0,-167194343.0,-135584497.0,-102000733.0,-90268288.0,-72433200.0,-54801640.0,-59645234.0],\"y\":[1,6,11,16,21,26,31,36,41,46,51,56,61,66,71,76,81]}],\"layout\":{\"title\":{\"text\":\"Population Pyramid for 2006\"}}},{\"data\":[{\"hoverinfo\":\"skip\",\"marker\":{\"color\":\"green\"},\"name\":\"Men\",\"orientation\":\"h\",\"type\":\"bar\",\"x\":[327512727.0,313751314.0,315304645.0,317368008.0,289536366.0,259516117.0,253229791.0,237758817.0,212063816.0,181784524.0,159820881.0,124455792.0,94090577.0,79026425.0,58843884.0,39699035.0,31509243.0],\"y\":[1,6,11,16,21,26,31,36,41,46,51,56,61,66,71,76,81]},{\"hoverinfo\":\"skip\",\"marker\":{\"color\":\"pink\"},\"name\":\"Women\",\"orientation\":\"h\",\"type\":\"bar\",\"x\":[-306199075.0,-293518656.0,-296665760.0,-301197439.0,-277530563.0,-250184870.0,-245556471.0,-232423353.0,-209476569.0,-181819129.0,-162703078.0,-128933825.0,-100101232.0,-89013596.0,-70985692.0,-53700799.0,-57289664.0],\"y\":[1,6,11,16,21,26,31,36,41,46,51,56,61,66,71,76,81]}],\"layout\":{\"title\":{\"text\":\"Population Pyramid for 2005\"}}},{\"data\":[{\"hoverinfo\":\"skip\",\"marker\":{\"color\":\"green\"},\"name\":\"Men\",\"orientation\":\"h\",\"type\":\"bar\",\"x\":[325802566.0,313181216.0,318216162.0,312840672.0,284764588.0,256457528.0,253141544.0,234396199.0,204298731.0,180920232.0,154798788.0,118085761.0,93180577.0,77597520.0,57887968.0,38329743.0,30058185.0],\"y\":[1,6,11,16,21,26,31,36,41,46,51,56,61,66,71,76,81]},{\"hoverinfo\":\"skip\",\"marker\":{\"color\":\"pink\"},\"name\":\"Women\",\"orientation\":\"h\",\"type\":\"bar\",\"x\":[-304535525.0,-293158427.0,-299721221.0,-297393799.0,-273126739.0,-247379305.0,-245688500.0,-229328695.0,-201926430.0,-180926806.0,-157461824.0,-122102635.0,-99282783.0,-87507898.0,-69885938.0,-52454209.0,-54982429.0],\"y\":[1,6,11,16,21,26,31,36,41,46,51,56,61,66,71,76,81]}],\"layout\":{\"title\":{\"text\":\"Population Pyramid for 2004\"}}},{\"data\":[{\"hoverinfo\":\"skip\",\"marker\":{\"color\":\"green\"},\"name\":\"Men\",\"orientation\":\"h\",\"type\":\"bar\",\"x\":[323883551.0,313285752.0,320268496.0,308064693.0,279719464.0,255317217.0,251950783.0,231933779.0,196385207.0,178833158.0,149551512.0,112532003.0,92460769.0,76097558.0,56942772.0,36952035.0,28656464.0],\"y\":[1,6,11,16,21,26,31,36,41,46,51,56,61,66,71,76,81]},{\"hoverinfo\":\"skip\",\"marker\":{\"color\":\"pink\"},\"name\":\"Women\",\"orientation\":\"h\",\"type\":\"bar\",\"x\":[-302719635.0,-293470776.0,-302010866.0,-293217033.0,-268359942.0,-246441700.0,-244726850.0,-227094078.0,-194194940.0,-178827894.0,-151929404.0,-116119405.0,-98734952.0,-85775294.0,-68960563.0,-51218580.0,-52746279.0],\"y\":[1,6,11,16,21,26,31,36,41,46,51,56,61,66,71,76,81]}],\"layout\":{\"title\":{\"text\":\"Population Pyramid for 2003\"}}},{\"data\":[{\"hoverinfo\":\"skip\",\"marker\":{\"color\":\"green\"},\"name\":\"Men\",\"orientation\":\"h\",\"type\":\"bar\",\"x\":[322211897.0,313718001.0,321746842.0,303298287.0,273732904.0,255480171.0,249331620.0,229568790.0,190492724.0,175166625.0,143992311.0,107779373.0,91962539.0,74455271.0,55922934.0,35535212.0,27377845.0],\"y\":[1,6,11,16,21,26,31,36,41,46,51,56,61,66,71,76,81]},{\"hoverinfo\":\"skip\",\"marker\":{\"color\":\"pink\"},\"name\":\"Women\",\"orientation\":\"h\",\"type\":\"bar\",\"x\":[-301156189.0,-294158928.0,-303760348.0,-288986560.0,-262684798.0,-246790930.0,-242361165.0,-224912724.0,-188372334.0,-175190368.0,-146081280.0,-110982397.0,-98358459.0,-83928018.0,-67970961.0,-49899462.0,-50724565.0],\"y\":[1,6,11,16,21,26,31,36,41,46,51,56,61,66,71,76,81]}],\"layout\":{\"title\":{\"text\":\"Population Pyramid for 2002\"}}},{\"data\":[{\"hoverinfo\":\"skip\",\"marker\":{\"color\":\"green\"},\"name\":\"Men\",\"orientation\":\"h\",\"type\":\"bar\",\"x\":[320885299.0,314695503.0,322215615.0,298401699.0,267804423.0,255953988.0,245470005.0,224380952.0,188199411.0,171049384.0,138139149.0,104133419.0,91245031.0,72799740.0,54773137.0,34125254.0,26186785.0],\"y\":[1,6,11,16,21,26,31,36,41,46,51,56,61,66,71,76,81]},{\"hoverinfo\":\"skip\",\"marker\":{\"color\":\"pink\"},\"name\":\"Women\",\"orientation\":\"h\",\"type\":\"bar\",\"x\":[-299947379.0,-295381963.0,-304590859.0,-284587670.0,-257065058.0,-247454093.0,-238769290.0,-219942722.0,-186022530.0,-171064850.0,-139918889.0,-107157528.0,-97619258.0,-82133022.0,-66901735.0,-48464158.0,-48859820.0],\"y\":[1,6,11,16,21,26,31,36,41,46,51,56,61,66,71,76,81]}],\"layout\":{\"title\":{\"text\":\"Population Pyramid for 2001\"}}},{\"data\":[{\"hoverinfo\":\"skip\",\"marker\":{\"color\":\"green\"},\"name\":\"Men\",\"orientation\":\"h\",\"type\":\"bar\",\"x\":[319947509.0,317086009.0,319870484.0,293445594.0,263094651.0,256458232.0,241585086.0,216703711.0,187436141.0,166501105.0,131738582.0,102296166.0,90035309.0,71463017.0,53316061.0,32840351.0,25022717.0],\"y\":[1,6,11,16,21,26,31,36,41,46,51,56,61,66,71,76,81]},{\"hoverinfo\":\"skip\",\"marker\":{\"color\":\"pink\"},\"name\":\"Women\",\"orientation\":\"h\",\"type\":\"bar\",\"x\":[-299176237.0,-297917857.0,-302850511.0,-280015313.0,-252663016.0,-248149311.0,-235168201.0,-212545833.0,-185211019.0,-166483294.0,-133190917.0,-105259530.0,-96389790.0,-80630674.0,-65710622.0,-47015823.0,-47104099.0],\"y\":[1,6,11,16,21,26,31,36,41,46,51,56,61,66,71,76,81]}],\"layout\":{\"title\":{\"text\":\"Population Pyramid for 2000\"}}},{\"data\":[{\"hoverinfo\":\"skip\",\"marker\":{\"color\":\"green\"},\"name\":\"Men\",\"orientation\":\"h\",\"type\":\"bar\",\"x\":[319634016.0,320053786.0,315360122.0,288502072.0,259880055.0,256281304.0,238108451.0,208758373.0,186482110.0,161260380.0,125109344.0,101473445.0,88523062.0,70468829.0,51608321.0,31535348.0,24052144.0],\"y\":[1,6,11,16,21,26,31,36,41,46,51,56,61,66,71,76,81]},{\"hoverinfo\":\"skip\",\"marker\":{\"color\":\"pink\"},\"name\":\"Women\",\"orientation\":\"h\",\"type\":\"bar\",\"x\":[-299032863.0,-301033581.0,-299058874.0,-275363722.0,-249756522.0,-248138478.0,-231959650.0,-204849924.0,-184253978.0,-161142262.0,-126277971.0,-104459708.0,-94867269.0,-79527800.0,-64357446.0,-45367898.0,-45742704.0],\"y\":[1,6,11,16,21,26,31,36,41,46,51,56,61,66,71,76,81]}],\"layout\":{\"title\":{\"text\":\"Population Pyramid for 1999\"}}},{\"data\":[{\"hoverinfo\":\"skip\",\"marker\":{\"color\":\"green\"},\"name\":\"Men\",\"orientation\":\"h\",\"type\":\"bar\",\"x\":[319980373.0,322096923.0,310392563.0,283104158.0,258646273.0,255006798.0,235545480.0,200676953.0,184242867.0,155741456.0,119296146.0,100825967.0,86859783.0,69481932.0,49864688.0,30017654.0,23382512.0],\"y\":[1,6,11,16,21,26,31,36,41,46,51,56,61,66,71,76,81]},{\"hoverinfo\":\"skip\",\"marker\":{\"color\":\"pink\"},\"name\":\"Women\",\"orientation\":\"h\",\"type\":\"bar\",\"x\":[-299545382.0,-303333090.0,-294739438.0,-270291802.0,-248728236.0,-247003159.0,-229579591.0,-196960642.0,-182032580.0,-155459629.0,-120179044.0,-103923559.0,-93057172.0,-78611976.0,-62986870.0,-43274462.0,-44861331.0],\"y\":[1,6,11,16,21,26,31,36,41,46,51,56,61,66,71,76,81]}],\"layout\":{\"title\":{\"text\":\"Population Pyramid for 1998\"}}},{\"data\":[{\"hoverinfo\":\"skip\",\"marker\":{\"color\":\"green\"},\"name\":\"Men\",\"orientation\":\"h\",\"type\":\"bar\",\"x\":[320606691.0,323540145.0,305340828.0,276718706.0,258715533.0,252268646.0,233038571.0,194622052.0,180376508.0,149879537.0,114311891.0,100375136.0,85024761.0,68385667.0,48071672.0,28484939.0,22899522.0],\"y\":[1,6,11,16,21,26,31,36,41,46,51,56,61,66,71,76,81]},{\"hoverinfo\":\"skip\",\"marker\":{\"color\":\"pink\"},\"name\":\"Women\",\"orientation\":\"h\",\"type\":\"bar\",\"x\":[-300409478.0,-305079188.0,-290284554.0,-264335995.0,-248917011.0,-244430346.0,-227205248.0,-190990823.0,-178249412.0,-149448810.0,-114923240.0,-103561191.0,-91128736.0,-77617280.0,-61500580.0,-41082665.0,-44252419.0],\"y\":[1,6,11,16,21,26,31,36,41,46,51,56,61,66,71,76,81]}],\"layout\":{\"title\":{\"text\":\"Population Pyramid for 1997\"}}},{\"data\":[{\"hoverinfo\":\"skip\",\"marker\":{\"color\":\"green\"},\"name\":\"Men\",\"orientation\":\"h\",\"type\":\"bar\",\"x\":[321593065.0,323886601.0,300151623.0,270512287.0,259142131.0,248342911.0,227739580.0,192215340.0,176083947.0,143764982.0,110495983.0,99644523.0,83209936.0,67106462.0,46332927.0,27123277.0,22455283.0],\"y\":[1,6,11,16,21,26,31,36,41,46,51,56,61,66,71,76,81]},{\"hoverinfo\":\"skip\",\"marker\":{\"color\":\"pink\"},\"name\":\"Women\",\"orientation\":\"h\",\"type\":\"bar\",\"x\":[-301665685.0,-305818425.0,-285609542.0,-258539375.0,-249411255.0,-240692355.0,-222091186.0,-188535898.0,-173996087.0,-143145909.0,-110992778.0,-102811746.0,-89263902.0,-76517690.0,-59893602.0,-39154140.0,-43684652.0],\"y\":[1,6,11,16,21,26,31,36,41,46,51,56,61,66,71,76,81]}],\"layout\":{\"title\":{\"text\":\"Population Pyramid for 1996\"}}},{\"data\":[{\"hoverinfo\":\"skip\",\"marker\":{\"color\":\"green\"},\"name\":\"Men\",\"orientation\":\"h\",\"type\":\"bar\",\"x\":[323900581.0,321368679.0,294927585.0,265807001.0,259665517.0,244447760.0,219975203.0,191370834.0,171370390.0,137117965.0,108588511.0,98386352.0,81805270.0,65467415.0,44791713.0,25925291.0,21965102.0],\"y\":[1,6,11,16,21,26,31,36,41,46,51,56,61,66,71,76,81]},{\"hoverinfo\":\"skip\",\"marker\":{\"color\":\"pink\"},\"name\":\"Women\",\"orientation\":\"h\",\"type\":\"bar\",\"x\":[-304148900.0,-303922732.0,-280776006.0,-254122885.0,-249974594.0,-236981487.0,-214571749.0,-187611728.0,-169272106.0,-136266072.0,-109015503.0,-101548454.0,-87713103.0,-75264702.0,-58258166.0,-37550284.0,-42922243.0],\"y\":[1,6,11,16,21,26,31,36,41,46,51,56,61,66,71,76,81]}],\"layout\":{\"title\":{\"text\":\"Population Pyramid for 1995\"}}},{\"data\":[{\"hoverinfo\":\"skip\",\"marker\":{\"color\":\"green\"},\"name\":\"Men\",\"orientation\":\"h\",\"type\":\"bar\",\"x\":[326889713.0,316825788.0,289869715.0,262706933.0,259477197.0,240878961.0,211943683.0,190362001.0,166016534.0,130295405.0,107792344.0,96839870.0,80863472.0,63565857.0,43226238.0,25142653.0,21324885.0],\"y\":[1,6,11,16,21,26,31,36,41,46,51,56,61,66,71,76,81]},{\"hoverinfo\":\"skip\",\"marker\":{\"color\":\"pink\"},\"name\":\"Women\",\"orientation\":\"h\",\"type\":\"bar\",\"x\":[-307293740.0,-300124209.0,-276076976.0,-251279165.0,-249828742.0,-233621156.0,-206757514.0,-186541956.0,-163829273.0,-129243133.0,-108187334.0,-100012810.0,-86629285.0,-73850124.0,-56375977.0,-36669076.0,-41787187.0],\"y\":[1,6,11,16,21,26,31,36,41,46,51,56,61,66,71,76,81]}],\"layout\":{\"title\":{\"text\":\"Population Pyramid for 1994\"}}},{\"data\":[{\"hoverinfo\":\"skip\",\"marker\":{\"color\":\"green\"},\"name\":\"Men\",\"orientation\":\"h\",\"type\":\"bar\",\"x\":[328959279.0,311825170.0,284456218.0,261569018.0,258266084.0,238224249.0,203830233.0,188096529.0,160434234.0,124370289.0,107218119.0,95129271.0,79954256.0,61603222.0,41361876.0,24893631.0,20582595.0],\"y\":[1,6,11,16,21,26,31,36,41,46,51,56,61,66,71,76,81]},{\"hoverinfo\":\"skip\",\"marker\":{\"color\":\"pink\"},\"name\":\"Women\",\"orientation\":\"h\",\"type\":\"bar\",\"x\":[-309632754.0,-295807152.0,-271051062.0,-250347998.0,-248668820.0,-231156368.0,-198831066.0,-184260802.0,-158111747.0,-123097695.0,-107660778.0,-98188105.0,-85745918.0,-72410969.0,-53952665.0,-36602793.0,-40421696.0],\"y\":[1,6,11,16,21,26,31,36,41,46,51,56,61,66,71,76,81]}],\"layout\":{\"title\":{\"text\":\"Population Pyramid for 1993\"}}},{\"data\":[{\"hoverinfo\":\"skip\",\"marker\":{\"color\":\"green\"},\"name\":\"Men\",\"orientation\":\"h\",\"type\":\"bar\",\"x\":[330460216.0,306687231.0,278130348.0,261835804.0,255721518.0,235730561.0,197742897.0,184204393.0,154494286.0,119303395.0,106840772.0,93231161.0,78878341.0,59544597.0,39462914.0,24903406.0,19842751.0],\"y\":[1,6,11,16,21,26,31,36,41,46,51,56,61,66,71,76,81]},{\"hoverinfo\":\"skip\",\"marker\":{\"color\":\"pink\"},\"name\":\"Women\",\"orientation\":\"h\",\"type\":\"bar\",\"x\":[-311438265.0,-291270176.0,-265110342.0,-250689357.0,-246226116.0,-228826610.0,-192873965.0,-180479877.0,-152094139.0,-117826306.0,-107321529.0,-96234709.0,-84747636.0,-70809714.0,-51402780.0,-36914341.0,-38996550.0],\"y\":[1,6,11,16,21,26,31,36,41,46,51,56,61,66,71,76,81]}],\"layout\":{\"title\":{\"text\":\"Population Pyramid for 1992\"}}},{\"data\":[{\"hoverinfo\":\"skip\",\"marker\":{\"color\":\"green\"},\"name\":\"Men\",\"orientation\":\"h\",\"type\":\"bar\",\"x\":[331128255.0,301588542.0,272178510.0,262496684.0,251895356.0,230342021.0,195142002.0,179791097.0,148217140.0,115389436.0,106117768.0,91357704.0,77533320.0,57532163.0,37793621.0,24873355.0,19130190.0],\"y\":[1,6,11,16,21,26,31,36,41,46,51,56,61,66,71,76,81]},{\"hoverinfo\":\"skip\",\"marker\":{\"color\":\"pink\"},\"name\":\"Women\",\"orientation\":\"h\",\"type\":\"bar\",\"x\":[-312488270.0,-286683655.0,-259483753.0,-251358904.0,-242577367.0,-223695503.0,-190343052.0,-176227695.0,-145768924.0,-113889864.0,-106599374.0,-94369918.0,-83640190.0,-69052854.0,-49197987.0,-37170744.0,-37600888.0],\"y\":[1,6,11,16,21,26,31,36,41,46,51,56,61,66,71,76,81]}],\"layout\":{\"title\":{\"text\":\"Population Pyramid for 1991\"}}},{\"data\":[{\"hoverinfo\":\"skip\",\"marker\":{\"color\":\"green\"},\"name\":\"Men\",\"orientation\":\"h\",\"type\":\"bar\",\"x\":[329114889.0,296707991.0,267879229.0,263277701.0,248007375.0,222442076.0,194129732.0,174949453.0,141389749.0,113445788.0,104839624.0,89943280.0,75752820.0,55764110.0,36354163.0,24697214.0,18455142.0],\"y\":[1,6,11,16,21,26,31,36,41,46,51,56,61,66,71,76,81]},{\"hoverinfo\":\"skip\",\"marker\":{\"color\":\"pink\"},\"name\":\"Women\",\"orientation\":\"h\",\"type\":\"bar\",\"x\":[-311090236.0,-282204549.0,-255447235.0,-252106945.0,-238947615.0,-216124672.0,-189390220.0,-171533211.0,-138887896.0,-111932712.0,-105390773.0,-92860661.0,-82395962.0,-67270577.0,-47411772.0,-37114363.0,-36257463.0],\"y\":[1,6,11,16,21,26,31,36,41,46,51,56,61,66,71,76,81]}],\"layout\":{\"title\":{\"text\":\"Population Pyramid for 1990\"}}},{\"data\":[{\"hoverinfo\":\"skip\",\"marker\":{\"color\":\"green\"},\"name\":\"Men\",\"orientation\":\"h\",\"type\":\"bar\",\"x\":[324786660.0,291885528.0,265055095.0,263248477.0,244409693.0,214353262.0,193142725.0,169488491.0,134414771.0,112667895.0,103264499.0,89019243.0,73666498.0,53977522.0,35480898.0,24286261.0,17782797.0],\"y\":[1,6,11,16,21,26,31,36,41,46,51,56,61,66,71,76,81]},{\"hoverinfo\":\"skip\",\"marker\":{\"color\":\"pink\"},\"name\":\"Women\",\"orientation\":\"h\",\"type\":\"bar\",\"x\":[-307497855.0,-277729200.0,-252852870.0,-252026360.0,-235701724.0,-208354570.0,-188471316.0,-166145470.0,-131901154.0,-111152769.0,-103916428.0,-91826950.0,-80981667.0,-65220067.0,-46501542.0,-36609293.0,-34879204.0],\"y\":[1,6,11,16,21,26,31,36,41,46,51,56,61,66,71,76,81]}],\"layout\":{\"title\":{\"text\":\"Population Pyramid for 1989\"}}},{\"data\":[{\"hoverinfo\":\"skip\",\"marker\":{\"color\":\"green\"},\"name\":\"Men\",\"orientation\":\"h\",\"type\":\"bar\",\"x\":[320158638.0,286839699.0,264184783.0,262037600.0,241764837.0,206264447.0,190973194.0,163788711.0,128357202.0,112143793.0,101517802.0,88128377.0,71497362.0,51829859.0,35291400.0,23689696.0,17119466.0],\"y\":[1,6,11,16,21,26,31,36,41,46,51,56,61,66,71,76,81]},{\"hoverinfo\":\"skip\",\"marker\":{\"color\":\"pink\"},\"name\":\"Women\",\"orientation\":\"h\",\"type\":\"bar\",\"x\":[-303532867.0,-273007819.0,-252083719.0,-250841244.0,-233348199.0,-200569051.0,-186417416.0,-160491477.0,-125808572.0,-110733309.0,-102149496.0,-90993206.0,-79514382.0,-62578182.0,-46528113.0,-35801891.0,-33506444.0],\"y\":[1,6,11,16,21,26,31,36,41,46,51,56,61,66,71,76,81]}],\"layout\":{\"title\":{\"text\":\"Population Pyramid for 1988\"}}},{\"data\":[{\"hoverinfo\":\"skip\",\"marker\":{\"color\":\"green\"},\"name\":\"Men\",\"orientation\":\"h\",\"type\":\"bar\",\"x\":[315482276.0,280914862.0,264629960.0,259323959.0,239293836.0,200189835.0,187160525.0,157732663.0,123213447.0,111857871.0,99627271.0,87078626.0,69248381.0,49665205.0,35426346.0,23063835.0,16466817.0],\"y\":[1,6,11,16,21,26,31,36,41,46,51,56,61,66,71,76,81]},{\"hoverinfo\":\"skip\",\"marker\":{\"color\":\"pink\"},\"name\":\"Women\",\"orientation\":\"h\",\"type\":\"bar\",\"x\":[-299437227.0,-267428055.0,-252522653.0,-248299402.0,-231064672.0,-194702762.0,-182799986.0,-154504416.0,-120593383.0,-110533336.0,-100273721.0,-90056147.0,-77881408.0,-59831742.0,-46997045.0,-34915867.0,-32168673.0],\"y\":[1,6,11,16,21,26,31,36,41,46,51,56,61,66,71,76,81]}],\"layout\":{\"title\":{\"text\":\"Population Pyramid for 1987\"}}},{\"data\":[{\"hoverinfo\":\"skip\",\"marker\":{\"color\":\"green\"},\"name\":\"Men\",\"orientation\":\"h\",\"type\":\"bar\",\"x\":[310735227.0,275198120.0,265367294.0,255415735.0,233990184.0,197764118.0,182891176.0,151427388.0,119298864.0,111268526.0,97789349.0,85757673.0,67070670.0,47804510.0,35510153.0,22438600.0,15846213.0],\"y\":[1,6,11,16,21,26,31,36,41,46,51,56,61,66,71,76,81]},{\"hoverinfo\":\"skip\",\"marker\":{\"color\":\"pink\"},\"name\":\"Women\",\"orientation\":\"h\",\"type\":\"bar\",\"x\":[-295184978.0,-262060150.0,-253251248.0,-244689107.0,-226066824.0,-192366460.0,-178698310.0,-148232132.0,-116704371.0,-109960310.0,-98463762.0,-89011216.0,-76067453.0,-57481632.0,-47392211.0,-33995271.0,-30898220.0],\"y\":[1,6,11,16,21,26,31,36,41,46,51,56,61,66,71,76,81]}],\"layout\":{\"title\":{\"text\":\"Population Pyramid for 1986\"}}},{\"data\":[{\"hoverinfo\":\"skip\",\"marker\":{\"color\":\"green\"},\"name\":\"Men\",\"orientation\":\"h\",\"type\":\"bar\",\"x\":[305956410.0,270961335.0,266068685.0,251500982.0,226109345.0,197056931.0,178172488.0,144610777.0,117385010.0,110114495.0,96439417.0,83944981.0,65165890.0,46221565.0,35395973.0,21830127.0,15275147.0],\"y\":[1,6,11,16,21,26,31,36,41,46,51,56,61,66,71,76,81]},{\"hoverinfo\":\"skip\",\"marker\":{\"color\":\"pink\"},\"name\":\"Women\",\"orientation\":\"h\",\"type\":\"bar\",\"x\":[-290817863.0,-258118951.0,-253930152.0,-241068613.0,-218585720.0,-191622948.0,-174049992.0,-141360464.0,-114754671.0,-108861927.0,-96978474.0,-87775938.0,-74206915.0,-55593745.0,-47405524.0,-33117332.0,-29702072.0],\"y\":[1,6,11,16,21,26,31,36,41,46,51,56,61,66,71,76,81]}],\"layout\":{\"title\":{\"text\":\"Population Pyramid for 1985\"}}},{\"data\":[{\"hoverinfo\":\"skip\",\"marker\":{\"color\":\"green\"},\"name\":\"Men\",\"orientation\":\"h\",\"type\":\"bar\",\"x\":[301235697.0,268309427.0,265953545.0,247998828.0,217994655.0,196305142.0,172777379.0,137672977.0,116670983.0,108623575.0,95602423.0,81755635.0,63220562.0,45315083.0,34957666.0,21212997.0,14722006.0],\"y\":[1,6,11,16,21,26,31,36,41,46,51,56,61,66,71,76,81]},{\"hoverinfo\":\"skip\",\"marker\":{\"color\":\"pink\"},\"name\":\"Women\",\"orientation\":\"h\",\"type\":\"bar\",\"x\":[-286463437.0,-255688190.0,-253804358.0,-237821498.0,-210801535.0,-190828104.0,-168607825.0,-134359627.0,-113978105.0,-107430061.0,-95946075.0,-86310722.0,-72059012.0,-54678491.0,-46885981.0,-32190092.0,-28535145.0],\"y\":[1,6,11,16,21,26,31,36,41,46,51,56,61,66,71,76,81]}],\"layout\":{\"title\":{\"text\":\"Population Pyramid for 1984\"}}},{\"data\":[{\"hoverinfo\":\"skip\",\"marker\":{\"color\":\"green\"},\"name\":\"Men\",\"orientation\":\"h\",\"type\":\"bar\",\"x\":[296232480.0,267578157.0,264676893.0,245459403.0,209788315.0,194189467.0,167105695.0,131668023.0,116254494.0,106918159.0,94774971.0,79484191.0,60882834.0,45218546.0,34270308.0,20590657.0,14191661.0],\"y\":[1,6,11,16,21,26,31,36,41,46,51,56,61,66,71,76,81]},{\"hoverinfo\":\"skip\",\"marker\":{\"color\":\"pink\"},\"name\":\"Women\",\"orientation\":\"h\",\"type\":\"bar\",\"x\":[-281817380.0,-255046614.0,-252600898.0,-235483925.0,-202887747.0,-188775272.0,-162867841.0,-128257312.0,-113565295.0,-105660747.0,-95102746.0,-84827511.0,-69311735.0,-54800585.0,-46009290.0,-31240052.0,-27402593.0],\"y\":[1,6,11,16,21,26,31,36,41,46,51,56,61,66,71,76,81]}],\"layout\":{\"title\":{\"text\":\"Population Pyramid for 1983\"}}},{\"data\":[{\"hoverinfo\":\"skip\",\"marker\":{\"color\":\"green\"},\"name\":\"Men\",\"orientation\":\"h\",\"type\":\"bar\",\"x\":[290343409.0,268065719.0,261946429.0,243020000.0,203608861.0,190325172.0,161071717.0,126498127.0,116093619.0,105006400.0,93753442.0,77107207.0,58506273.0,45474533.0,33527363.0,20000925.0,13641566.0],\"y\":[1,6,11,16,21,26,31,36,41,46,51,56,61,66,71,76,81]},{\"hoverinfo\":\"skip\",\"marker\":{\"color\":\"pink\"},\"name\":\"Women\",\"orientation\":\"h\",\"type\":\"bar\",\"x\":[-276320069.0,-255542304.0,-250054653.0,-233220921.0,-196895633.0,-185048170.0,-156821932.0,-122966197.0,-113376635.0,-103734886.0,-94157689.0,-83185120.0,-66420793.0,-55391192.0,-45028620.0,-30366829.0,-26241436.0],\"y\":[1,6,11,16,21,26,31,36,41,46,51,56,61,66,71,76,81]}],\"layout\":{\"title\":{\"text\":\"Population Pyramid for 1982\"}}},{\"data\":[{\"hoverinfo\":\"skip\",\"marker\":{\"color\":\"green\"},\"name\":\"Men\",\"orientation\":\"h\",\"type\":\"bar\",\"x\":[284739560.0,268788179.0,258069347.0,237624284.0,201059812.0,185926180.0,154721687.0,122544591.0,115576317.0,103116905.0,92421293.0,74793565.0,56451611.0,45646547.0,32759065.0,19432700.0,13102652.0],\"y\":[1,6,11,16,21,26,31,36,41,46,51,56,61,66,71,76,81]},{\"hoverinfo\":\"skip\",\"marker\":{\"color\":\"pink\"},\"name\":\"Women\",\"orientation\":\"h\",\"type\":\"bar\",\"x\":[-271091398.0,-256259143.0,-246429575.0,-228143236.0,-194413307.0,-180792296.0,-150489003.0,-119022105.0,-112805344.0,-101853019.0,-93098432.0,-81354568.0,-63939342.0,-55888014.0,-43989178.0,-29546758.0,-25102368.0],\"y\":[1,6,11,16,21,26,31,36,41,46,51,56,61,66,71,76,81]}],\"layout\":{\"title\":{\"text\":\"Population Pyramid for 1981\"}}},{\"data\":[{\"hoverinfo\":\"skip\",\"marker\":{\"color\":\"green\"},\"name\":\"Men\",\"orientation\":\"h\",\"type\":\"bar\",\"x\":[280770217.0,269523081.0,254325953.0,229610870.0,200116644.0,180990037.0,147782293.0,120599075.0,114434462.0,101744232.0,90549013.0,72799014.0,54729466.0,45561218.0,31984638.0,18861242.0,12616943.0],\"y\":[1,6,11,16,21,26,31,36,41,46,51,56,61,66,71,76,81]},{\"hoverinfo\":\"skip\",\"marker\":{\"color\":\"pink\"},\"name\":\"Women\",\"orientation\":\"h\",\"type\":\"bar\",\"x\":[-267418606.0,-257003922.0,-243012954.0,-220583040.0,-193608450.0,-176043835.0,-143619435.0,-117066507.0,-111726947.0,-100336796.0,-91861700.0,-79515695.0,-61981051.0,-55945201.0,-42979609.0,-28700837.0,-24037658.0],\"y\":[1,6,11,16,21,26,31,36,41,46,51,56,61,66,71,76,81]}],\"layout\":{\"title\":{\"text\":\"Population Pyramid for 1980\"}}},{\"data\":[{\"hoverinfo\":\"skip\",\"marker\":{\"color\":\"green\"},\"name\":\"Men\",\"orientation\":\"h\",\"type\":\"bar\",\"x\":[278303216.0,269365332.0,251059636.0,221462042.0,199108219.0,175343166.0,140718687.0,119821427.0,112912549.0,100893240.0,88229263.0,70728333.0,53750337.0,45067660.0,31152871.0,18250793.0,12146109.0],\"y\":[1,6,11,16,21,26,31,36,41,46,51,56,61,66,71,76,81]},{\"hoverinfo\":\"skip\",\"marker\":{\"color\":\"pink\"},\"name\":\"Women\",\"orientation\":\"h\",\"type\":\"bar\",\"x\":[-265175935.0,-256944249.0,-240036613.0,-212713489.0,-192753104.0,-170516282.0,-136670495.0,-116281328.0,-110315428.0,-99292214.0,-90378308.0,-77347649.0,-61032535.0,-55409856.0,-41869357.0,-27780338.0,-23020666.0],\"y\":[1,6,11,16,21,26,31,36,41,46,51,56,61,66,71,76,81]}],\"layout\":{\"title\":{\"text\":\"Population Pyramid for 1979\"}}},{\"data\":[{\"hoverinfo\":\"skip\",\"marker\":{\"color\":\"green\"},\"name\":\"Men\",\"orientation\":\"h\",\"type\":\"bar\",\"x\":[277617075.0,267987092.0,248719941.0,213208141.0,196781608.0,169454501.0,134578942.0,119338980.0,111142565.0,99993369.0,85760616.0,68147430.0,53617678.0,44232568.0,30268583.0,17597277.0,11684220.0],\"y\":[1,6,11,16,21,26,31,36,41,46,51,56,61,66,71,76,81]},{\"hoverinfo\":\"skip\",\"marker\":{\"color\":\"pink\"},\"name\":\"Women\",\"orientation\":\"h\",\"type\":\"bar\",\"x\":[-264596198.0,-255741765.0,-237825434.0,-204645730.0,-190574693.0,-164676166.0,-130566213.0,-115853329.0,-108548513.0,-98404056.0,-88854081.0,-74460493.0,-61096001.0,-54446485.0,-40664735.0,-26776640.0,-22053678.0],\"y\":[1,6,11,16,21,26,31,36,41,46,51,56,61,66,71,76,81]}],\"layout\":{\"title\":{\"text\":\"Population Pyramid for 1978\"}}},{\"data\":[{\"hoverinfo\":\"skip\",\"marker\":{\"color\":\"green\"},\"name\":\"Men\",\"orientation\":\"h\",\"type\":\"bar\",\"x\":[278169810.0,265241980.0,246473803.0,206914340.0,192797992.0,163276394.0,129266363.0,119160126.0,109186911.0,98874691.0,83210897.0,65491365.0,53880588.0,43337054.0,29425569.0,16909048.0,11236188.0],\"y\":[1,6,11,16,21,26,31,36,41,46,51,56,61,66,71,76,81]},{\"hoverinfo\":\"skip\",\"marker\":{\"color\":\"pink\"},\"name\":\"Women\",\"orientation\":\"h\",\"type\":\"bar\",\"x\":[-265188387.0,-253239204.0,-235653824.0,-198569348.0,-186815429.0,-158606832.0,-125268419.0,-115692350.0,-106649433.0,-97420827.0,-87209101.0,-71361343.0,-61657269.0,-53367787.0,-39540604.0,-25735020.0,-21112603.0],\"y\":[1,6,11,16,21,26,31,36,41,46,51,56,61,66,71,76,81]}],\"layout\":{\"title\":{\"text\":\"Population Pyramid for 1977\"}}},{\"data\":[{\"hoverinfo\":\"skip\",\"marker\":{\"color\":\"green\"},\"name\":\"Men\",\"orientation\":\"h\",\"type\":\"bar\",\"x\":[278905464.0,261333627.0,241289990.0,204433778.0,188487365.0,156939340.0,125254133.0,118704191.0,107257830.0,97461424.0,80744120.0,63206993.0,54067313.0,42414187.0,28613218.0,16232664.0,10832515.0],\"y\":[1,6,11,16,21,26,31,36,41,46,51,56,61,66,71,76,81]},{\"hoverinfo\":\"skip\",\"marker\":{\"color\":\"pink\"},\"name\":\"Women\",\"orientation\":\"h\",\"type\":\"bar\",\"x\":[-265969819.0,-249635238.0,-230639541.0,-196182572.0,-182643168.0,-152365572.0,-121356526.0,-115210271.0,-104759985.0,-96356542.0,-85356117.0,-68692861.0,-62161516.0,-52217218.0,-38500938.0,-24728288.0,-20240374.0],\"y\":[1,6,11,16,21,26,31,36,41,46,51,56,61,66,71,76,81]}],\"layout\":{\"title\":{\"text\":\"Population Pyramid for 1976\"}}},{\"data\":[{\"hoverinfo\":\"skip\",\"marker\":{\"color\":\"green\"},\"name\":\"Men\",\"orientation\":\"h\",\"type\":\"bar\",\"x\":[279605807.0,257496173.0,233389011.0,203690906.0,183727102.0,150063100.0,123329466.0,117586648.0,105825645.0,95469207.0,78555664.0,61292919.0,53940041.0,41462339.0,27793838.0,15608738.0,10473101.0],\"y\":[1,6,11,16,21,26,31,36,41,46,51,56,61,66,71,76,81]},{\"hoverinfo\":\"skip\",\"marker\":{\"color\":\"pink\"},\"name\":\"Women\",\"orientation\":\"h\",\"type\":\"bar\",\"x\":[-266726417.0,-246081872.0,-223053626.0,-195506465.0,-178008767.0,-145572832.0,-119437282.0,-114175163.0,-103203039.0,-95104529.0,-83413972.0,-66599082.0,-62181215.0,-51071793.0,-37454892.0,-23787873.0,-19425983.0],\"y\":[1,6,11,16,21,26,31,36,41,46,51,56,61,66,71,76,81]}],\"layout\":{\"title\":{\"text\":\"Population Pyramid for 1975\"}}},{\"data\":[{\"hoverinfo\":\"skip\",\"marker\":{\"color\":\"green\"},\"name\":\"Men\",\"orientation\":\"h\",\"type\":\"bar\",\"x\":[279581042.0,254177648.0,225066659.0,202734271.0,178176408.0,142987758.0,122544681.0,116023879.0,104923069.0,92994506.0,76302422.0,60223004.0,53392586.0,40469556.0,26947509.0,15034695.0,10140783.0],\"y\":[1,6,11,16,21,26,31,36,41,46,51,56,61,66,71,76,81]},{\"hoverinfo\":\"skip\",\"marker\":{\"color\":\"pink\"},\"name\":\"Women\",\"orientation\":\"h\",\"type\":\"bar\",\"x\":[-266809117.0,-242979576.0,-215092048.0,-194744068.0,-172613847.0,-138674316.0,-118646174.0,-112773712.0,-102152553.0,-93601097.0,-81141572.0,-65609953.0,-61614442.0,-49843247.0,-36364899.0,-22933310.0,-18657684.0],\"y\":[1,6,11,16,21,26,31,36,41,46,51,56,61,66,71,76,81]}],\"layout\":{\"title\":{\"text\":\"Population Pyramid for 1974\"}}},{\"data\":[{\"hoverinfo\":\"skip\",\"marker\":{\"color\":\"green\"},\"name\":\"Men\",\"orientation\":\"h\",\"type\":\"bar\",\"x\":[278421001.0,251839174.0,216517945.0,200412748.0,172280937.0,136831869.0,122047196.0,114221691.0,103970688.0,90423633.0,73573331.0,60149757.0,52530098.0,39456159.0,26095699.0,14506592.0,9854899.0],\"y\":[1,6,11,16,21,26,31,36,41,46,51,56,61,66,71,76,81]},{\"hoverinfo\":\"skip\",\"marker\":{\"color\":\"pink\"},\"name\":\"Women\",\"orientation\":\"h\",\"type\":\"bar\",\"x\":[-265808031.0,-240771458.0,-206913116.0,-192726992.0,-166929837.0,-132656458.0,-118207925.0,-111040688.0,-101269539.0,-92088243.0,-78183153.0,-65760320.0,-60657424.0,-48563641.0,-35257608.0,-22147618.0,-17984346.0],\"y\":[1,6,11,16,21,26,31,36,41,46,51,56,61,66,71,76,81]}],\"layout\":{\"title\":{\"text\":\"Population Pyramid for 1973\"}}},{\"data\":[{\"hoverinfo\":\"skip\",\"marker\":{\"color\":\"green\"},\"name\":\"Men\",\"orientation\":\"h\",\"type\":\"bar\",\"x\":[275819404.0,249553390.0,210064733.0,196451996.0,165984801.0,131524199.0,121846620.0,112203032.0,102787965.0,87761875.0,70787711.0,60497563.0,51612881.0,38511379.0,25240476.0,14001370.0,9606034.0],\"y\":[1,6,11,16,21,26,31,36,41,46,51,56,61,66,71,76,81]},{\"hoverinfo\":\"skip\",\"marker\":{\"color\":\"pink\"},\"name\":\"Women\",\"orientation\":\"h\",\"type\":\"bar\",\"x\":[-263424586.0,-238600659.0,-200755161.0,-189099638.0,-160963293.0,-127425659.0,-118014297.0,-109142296.0,-100272485.0,-90420430.0,-75028740.0,-66398181.0,-59591546.0,-47391946.0,-34164554.0,-21352754.0,-17393704.0],\"y\":[1,6,11,16,21,26,31,36,41,46,51,56,61,66,71,76,81]}],\"layout\":{\"title\":{\"text\":\"Population Pyramid for 1972\"}}},{\"data\":[{\"hoverinfo\":\"skip\",\"marker\":{\"color\":\"green\"},\"name\":\"Men\",\"orientation\":\"h\",\"type\":\"bar\",\"x\":[272171969.0,244152812.0,207459791.0,192073505.0,159479603.0,127533640.0,121363008.0,110214316.0,101327420.0,85187915.0,68448484.0,60789281.0,50700384.0,37621880.0,24419653.0,13546675.0,9379931.0],\"y\":[1,6,11,16,21,26,31,36,41,46,51,56,61,66,71,76,81]},{\"hoverinfo\":\"skip\",\"marker\":{\"color\":\"pink\"},\"name\":\"Women\",\"orientation\":\"h\",\"type\":\"bar\",\"x\":[-260039815.0,-233466272.0,-198289445.0,-184991770.0,-154760199.0,-123540470.0,-117483486.0,-107229858.0,-99193536.0,-88528344.0,-72356188.0,-66993455.0,-58453436.0,-46310289.0,-33104310.0,-20568945.0,-16843106.0],\"y\":[1,6,11,16,21,26,31,36,41,46,51,56,61,66,71,76,81]}],\"layout\":{\"title\":{\"text\":\"Population Pyramid for 1971\"}}},{\"data\":[{\"hoverinfo\":\"skip\",\"marker\":{\"color\":\"green\"},\"name\":\"Men\",\"orientation\":\"h\",\"type\":\"bar\",\"x\":[268518924.0,235906872.0,206522979.0,187119117.0,152316799.0,125534901.0,120178834.0,108727365.0,99242728.0,82869358.0,66504488.0,60736930.0,49756078.0,36688534.0,23663247.0,13152393.0,9165988.0],\"y\":[1,6,11,16,21,26,31,36,41,46,51,56,61,66,71,76,81]},{\"hoverinfo\":\"skip\",\"marker\":{\"color\":\"pink\"},\"name\":\"Women\",\"orientation\":\"h\",\"type\":\"bar\",\"x\":[-256613422.0,-225606593.0,-197483887.0,-180229292.0,-147863767.0,-121538039.0,-116375045.0,-105623983.0,-97906275.0,-86396012.0,-70235394.0,-67077742.0,-57287436.0,-45205959.0,-32088375.0,-19864193.0,-16306012.0],\"y\":[1,6,11,16,21,26,31,36,41,46,51,56,61,66,71,76,81]}],\"layout\":{\"title\":{\"text\":\"Population Pyramid for 1970\"}}},{\"data\":[{\"hoverinfo\":\"skip\",\"marker\":{\"color\":\"green\"},\"name\":\"Men\",\"orientation\":\"h\",\"type\":\"bar\",\"x\":[265299536.0,227438915.0,205504855.0,181503051.0,145027200.0,124778910.0,118628818.0,107857461.0,96773775.0,80532159.0,65507246.0,60262655.0,48753827.0,35715052.0,22992137.0,12853683.0,8941435.0],\"y\":[1,6,11,16,21,26,31,36,41,46,51,56,61,66,71,76,81]},{\"hoverinfo\":\"skip\",\"marker\":{\"color\":\"pink\"},\"name\":\"Women\",\"orientation\":\"h\",\"type\":\"bar\",\"x\":[-253559599.0,-217526157.0,-196656009.0,-174726034.0,-140888910.0,-120756573.0,-115000624.0,-104602085.0,-96440728.0,-83942667.0,-69316762.0,-66530804.0,-56037500.0,-44043049.0,-31200126.0,-19312202.0,-15758009.0],\"y\":[1,6,11,16,21,26,31,36,41,46,51,56,61,66,71,76,81]}],\"layout\":{\"title\":{\"text\":\"Population Pyramid for 1969\"}}},{\"data\":[{\"hoverinfo\":\"skip\",\"marker\":{\"color\":\"green\"},\"name\":\"Men\",\"orientation\":\"h\",\"type\":\"bar\",\"x\":[263009314.0,218834660.0,203187969.0,175608423.0,138786059.0,124410587.0,116876901.0,106991850.0,94243166.0,77769477.0,65542486.0,59453137.0,47673305.0,34733693.0,22339313.0,12647356.0,8687075.0],\"y\":[1,6,11,16,21,26,31,36,41,46,51,56,61,66,71,76,81]},{\"hoverinfo\":\"skip\",\"marker\":{\"color\":\"pink\"},\"name\":\"Women\",\"orientation\":\"h\",\"type\":\"bar\",\"x\":[-251395438.0,-209353981.0,-194547805.0,-168967283.0,-134784478.0,-120364593.0,-113318554.0,-103787590.0,-94907297.0,-80974512.0,-69549042.0,-65570090.0,-54687433.0,-42840826.0,-30334736.0,-18908654.0,-15167710.0],\"y\":[1,6,11,16,21,26,31,36,41,46,51,56,61,66,71,76,81]}],\"layout\":{\"title\":{\"text\":\"Population Pyramid for 1968\"}}},{\"data\":[{\"hoverinfo\":\"skip\",\"marker\":{\"color\":\"green\"},\"name\":\"Men\",\"orientation\":\"h\",\"type\":\"bar\",\"x\":[260809856.0,212384808.0,199211608.0,169336865.0,133605184.0,124362720.0,114943281.0,105915233.0,91583668.0,74997782.0,65977239.0,58577524.0,46651097.0,33732421.0,21668062.0,12486044.0,8420522.0],\"y\":[1,6,11,16,21,26,31,36,41,46,51,56,61,66,71,76,81]},{\"hoverinfo\":\"skip\",\"marker\":{\"color\":\"pink\"},\"name\":\"Women\",\"orientation\":\"h\",\"type\":\"bar\",\"x\":[-249327063.0,-203221473.0,-190839729.0,-162898594.0,-129511279.0,-120216762.0,-111489561.0,-102850062.0,-93182080.0,-77902109.0,-70219356.0,-64498286.0,-53452825.0,-41639089.0,-29402560.0,-18576144.0,-14566353.0],\"y\":[1,6,11,16,21,26,31,36,41,46,51,56,61,66,71,76,81]}],\"layout\":{\"title\":{\"text\":\"Population Pyramid for 1967\"}}},{\"data\":[{\"hoverinfo\":\"skip\",\"marker\":{\"color\":\"green\"},\"name\":\"Men\",\"orientation\":\"h\",\"type\":\"bar\",\"x\":[255462052.0,209806261.0,194754764.0,162849353.0,129782961.0,123953410.0,113014948.0,104494464.0,88941441.0,72678022.0,66281432.0,57675739.0,45633390.0,32730081.0,21044424.0,12310490.0,8172205.0],\"y\":[1,6,11,16,21,26,31,36,41,46,51,56,61,66,71,76,81]},{\"hoverinfo\":\"skip\",\"marker\":{\"color\":\"pink\"},\"name\":\"Women\",\"orientation\":\"h\",\"type\":\"bar\",\"x\":[-244274235.0,-200744776.0,-186620110.0,-156575533.0,-125588862.0,-119710629.0,-109641457.0,-101781867.0,-91190482.0,-75311038.0,-70753138.0,-63358991.0,-52261631.0,-40470491.0,-28479270.0,-18213423.0,-13999977.0],\"y\":[1,6,11,16,21,26,31,36,41,46,51,56,61,66,71,76,81]}],\"layout\":{\"title\":{\"text\":\"Population Pyramid for 1966\"}}},{\"data\":[{\"hoverinfo\":\"skip\",\"marker\":{\"color\":\"green\"},\"name\":\"Men\",\"orientation\":\"h\",\"type\":\"bar\",\"x\":[247311595.0,208973268.0,189840539.0,155866952.0,127993282.0,122858843.0,111628324.0,102463758.0,86641000.0,70799911.0,66250146.0,56715862.0,44573788.0,31792111.0,20501631.0,12120465.0,7961354.0],\"y\":[1,6,11,16,21,26,31,36,41,46,51,56,61,66,71,76,81]},{\"hoverinfo\":\"skip\",\"marker\":{\"color\":\"pink\"},\"name\":\"Women\",\"orientation\":\"h\",\"type\":\"bar\",\"x\":[-236561835.0,-199955345.0,-181967954.0,-149723504.0,-123646536.0,-118668363.0,-108128782.0,-100533945.0,-89156876.0,-73319815.0,-70823972.0,-62163159.0,-51097180.0,-39313148.0,-27620122.0,-17818749.0,-13492523.0],\"y\":[1,6,11,16,21,26,31,36,41,46,51,56,61,66,71,76,81]}],\"layout\":{\"title\":{\"text\":\"Population Pyramid for 1965\"}}},{\"data\":[{\"hoverinfo\":\"skip\",\"marker\":{\"color\":\"green\"},\"name\":\"Men\",\"orientation\":\"h\",\"type\":\"bar\",\"x\":[239069096.0,208246346.0,184392252.0,148807806.0,127455138.0,121422713.0,110824195.0,100054082.0,84372619.0,69911656.0,65794097.0,55695258.0,43478702.0,30943044.0,20060575.0,11898896.0,7760556.0],\"y\":[1,6,11,16,21,26,31,36,41,46,51,56,61,66,71,76,81]},{\"hoverinfo\":\"skip\",\"marker\":{\"color\":\"pink\"},\"name\":\"Women\",\"orientation\":\"h\",\"type\":\"bar\",\"x\":[-228738468.0,-199318629.0,-176757980.0,-142871756.0,-122964015.0,-117404611.0,-107156543.0,-99124268.0,-86881882.0,-72524891.0,-70298450.0,-60863138.0,-49896011.0,-38267820.0,-26880855.0,-17371906.0,-13009636.0],\"y\":[1,6,11,16,21,26,31,36,41,46,51,56,61,66,71,76,81]}],\"layout\":{\"title\":{\"text\":\"Population Pyramid for 1964\"}}},{\"data\":[{\"hoverinfo\":\"skip\",\"marker\":{\"color\":\"green\"},\"name\":\"Men\",\"orientation\":\"h\",\"type\":\"bar\",\"x\":[230599710.0,206420446.0,178823880.0,142714269.0,127354732.0,119803597.0,110055390.0,97620862.0,81693176.0,70103561.0,65018050.0,54638088.0,42405818.0,30136635.0,19767119.0,11597444.0,7593928.0],\"y\":[1,6,11,16,21,26,31,36,41,46,51,56,61,66,71,76,81]},{\"hoverinfo\":\"skip\",\"marker\":{\"color\":\"pink\"},\"name\":\"Women\",\"orientation\":\"h\",\"type\":\"bar\",\"x\":[-220693247.0,-197666059.0,-171378294.0,-136941008.0,-122753547.0,-115915113.0,-106456518.0,-97727674.0,-84048060.0,-72901051.0,-69368917.0,-59563389.0,-48676464.0,-37307082.0,-26387818.0,-16790332.0,-12587661.0],\"y\":[1,6,11,16,21,26,31,36,41,46,51,56,61,66,71,76,81]}],\"layout\":{\"title\":{\"text\":\"Population Pyramid for 1963\"}}},{\"data\":[{\"hoverinfo\":\"skip\",\"marker\":{\"color\":\"green\"},\"name\":\"Men\",\"orientation\":\"h\",\"type\":\"bar\",\"x\":[224041736.0,202783378.0,172741508.0,137464629.0,127460456.0,117908655.0,109009916.0,94997885.0,78961209.0,70650140.0,64151640.0,53613153.0,41315095.0,29309265.0,19564704.0,11276494.0,7473921.0],\"y\":[1,6,11,16,21,26,31,36,41,46,51,56,61,66,71,76,81]},{\"hoverinfo\":\"skip\",\"marker\":{\"color\":\"pink\"},\"name\":\"Women\",\"orientation\":\"h\",\"type\":\"bar\",\"x\":[-214454487.0,-194296395.0,-165520684.0,-131785923.0,-122722609.0,-114205002.0,-105594791.0,-96087541.0,-81062908.0,-73668493.0,-68294348.0,-58353159.0,-47453135.0,-36251659.0,-26019479.0,-16202664.0,-12237753.0],\"y\":[1,6,11,16,21,26,31,36,41,46,51,56,61,66,71,76,81]}],\"layout\":{\"title\":{\"text\":\"Population Pyramid for 1962\"}}},{\"data\":[{\"hoverinfo\":\"skip\",\"marker\":{\"color\":\"green\"},\"name\":\"Men\",\"orientation\":\"h\",\"type\":\"bar\",\"x\":[222196886.0,198854626.0,166558402.0,133606813.0,127266768.0,116117718.0,107726675.0,92485715.0,76773033.0,71125782.0,63341915.0,52651042.0,40297521.0,28589999.0,19386067.0,11014794.0,7361753.0],\"y\":[1,6,11,16,21,26,31,36,41,46,51,56,61,66,71,76,81]},{\"hoverinfo\":\"skip\",\"marker\":{\"color\":\"pink\"},\"name\":\"Women\",\"orientation\":\"h\",\"type\":\"bar\",\"x\":[-212714001.0,-190620416.0,-159479034.0,-128070910.0,-122408085.0,-112545439.0,-104694147.0,-94252522.0,-78630962.0,-74334706.0,-67232756.0,-57238666.0,-46346218.0,-35283959.0,-25648744.0,-15739382.0,-11915207.0],\"y\":[1,6,11,16,21,26,31,36,41,46,51,56,61,66,71,76,81]}],\"layout\":{\"title\":{\"text\":\"Population Pyramid for 1961\"}}},{\"data\":[{\"hoverinfo\":\"skip\",\"marker\":{\"color\":\"green\"},\"name\":\"Men\",\"orientation\":\"h\",\"type\":\"bar\",\"x\":[223557787.0,194920004.0,160122897.0,132065258.0,126570596.0,115125109.0,106059293.0,90503442.0,75194713.0,71443112.0,62634651.0,51789924.0,39473752.0,28068429.0,19260322.0,10847132.0,7271056.0],\"y\":[1,6,11,16,21,26,31,36,41,46,51,56,61,66,71,76,81]},{\"hoverinfo\":\"skip\",\"marker\":{\"color\":\"pink\"},\"name\":\"Women\",\"orientation\":\"h\",\"type\":\"bar\",\"x\":[-214075855.0,-186934892.0,-153151958.0,-126520594.0,-121770846.0,-111426085.0,-103783365.0,-92535492.0,-76922502.0,-74699893.0,-66247630.0,-56336109.0,-45368022.0,-34507949.0,-25342528.0,-15396598.0,-11637144.0],\"y\":[1,6,11,16,21,26,31,36,41,46,51,56,61,66,71,76,81]}],\"layout\":{\"title\":{\"text\":\"Population Pyramid for 1960\"}}}]);\n",
       "                        }).then(function(){\n",
       "                            \n",
       "var gd = document.getElementById('3e86dd45-1995-4407-b50d-c80d213d8fde');\n",
       "var x = new MutationObserver(function (mutations, observer) {{\n",
       "        var display = window.getComputedStyle(gd).display;\n",
       "        if (!display || display === 'none') {{\n",
       "            console.log([gd, 'removed!']);\n",
       "            Plotly.purge(gd);\n",
       "            observer.disconnect();\n",
       "        }}\n",
       "}});\n",
       "\n",
       "// Listen for the removal of the full notebook cells\n",
       "var notebookContainer = gd.closest('#notebook-container');\n",
       "if (notebookContainer) {{\n",
       "    x.observe(notebookContainer, {childList: true});\n",
       "}}\n",
       "\n",
       "// Listen for the clearing of the current output cell\n",
       "var outputEl = gd.closest('.output');\n",
       "if (outputEl) {{\n",
       "    x.observe(outputEl, {childList: true});\n",
       "}}\n",
       "\n",
       "                        })                };                });            </script>        </div>"
      ]
     },
     "metadata": {},
     "output_type": "display_data"
    }
   ],
   "source": [
    "# combine the graph_objects into a figure\n",
    "fig = go.Figure(data=bins,\n",
    "                frames=frames,\n",
    "                layout = layout)\n",
    "                                 \n",
    "# show our animation!\n",
    "fig.show()"
   ]
  },
  {
   "cell_type": "code",
   "execution_count": null,
   "id": "cee64ad1",
   "metadata": {},
   "outputs": [],
   "source": []
  }
 ],
 "metadata": {
  "kernelspec": {
   "display_name": "Python 3 (ipykernel)",
   "language": "python",
   "name": "python3"
  },
  "language_info": {
   "codemirror_mode": {
    "name": "ipython",
    "version": 3
   },
   "file_extension": ".py",
   "mimetype": "text/x-python",
   "name": "python",
   "nbconvert_exporter": "python",
   "pygments_lexer": "ipython3",
   "version": "3.9.15"
  }
 },
 "nbformat": 4,
 "nbformat_minor": 5
}
