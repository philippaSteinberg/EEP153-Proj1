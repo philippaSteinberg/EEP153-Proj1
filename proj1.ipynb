{
 "cells": [
  {
   "cell_type": "code",
   "execution_count": 8,
   "id": "9fb5122a",
   "metadata": {},
   "outputs": [
    {
     "name": "stdout",
     "output_type": "stream",
     "text": [
      "Collecting wbdata\n",
      "  Using cached wbdata-0.3.0-py3-none-any.whl (14 kB)\n",
      "Requirement already satisfied: appdirs<2.0,>=1.4 in /opt/conda/lib/python3.9/site-packages (from wbdata) (1.4.4)\n",
      "Requirement already satisfied: tabulate>=0.8.5 in /opt/conda/lib/python3.9/site-packages (from wbdata) (0.9.0)\n",
      "Requirement already satisfied: requests>=2.0 in /opt/conda/lib/python3.9/site-packages (from wbdata) (2.26.0)\n",
      "Requirement already satisfied: decorator>=4.0 in /opt/conda/lib/python3.9/site-packages (from wbdata) (5.0.9)\n",
      "Requirement already satisfied: charset-normalizer~=2.0.0 in /opt/conda/lib/python3.9/site-packages (from requests>=2.0->wbdata) (2.0.0)\n",
      "Requirement already satisfied: idna<4,>=2.5 in /opt/conda/lib/python3.9/site-packages (from requests>=2.0->wbdata) (3.1)\n",
      "Requirement already satisfied: urllib3<1.27,>=1.21.1 in /opt/conda/lib/python3.9/site-packages (from requests>=2.0->wbdata) (1.26.7)\n",
      "Requirement already satisfied: certifi>=2017.4.17 in /opt/conda/lib/python3.9/site-packages (from requests>=2.0->wbdata) (2021.10.8)\n",
      "Installing collected packages: wbdata\n",
      "Successfully installed wbdata-0.3.0\n"
     ]
    }
   ],
   "source": [
    "## If import fails with \"ModuleNotFoundError\"\n",
    "## uncomment below & try again\n",
    "!pip install wbdata"
   ]
  },
  {
   "cell_type": "code",
   "execution_count": 9,
   "id": "a5f36407",
   "metadata": {},
   "outputs": [],
   "source": [
    "# import packages\n",
    "import pandas as pd\n",
    "import numpy as np\n",
    "import wbdata"
   ]
  },
  {
   "cell_type": "code",
   "execution_count": 10,
   "id": "be98a118",
   "metadata": {},
   "outputs": [],
   "source": [
    "## Population stats\n",
    "def population(year,sex,age_range,place):\n",
    "    age_ranges = []\n",
    "    for i in range(0,80,5):\n",
    "        if i >= age_range[0] and i + 4 <= age_range[1]:\n",
    "            age_ranges.append(f\"{i:02d}\"+f\"{i+4:02d}\")\n",
    "        if (i <= age_range[0] <= i + 4) or (i <= age_range[1] <= i + 4):\n",
    "            age_ranges.append(f\"{i:02d}\"+f\"{i+4:02d}\")\n",
    "    if age_range[1] >= 80:\n",
    "        age_ranges.append(\"80UP\")\n",
    "    if sex == 'Male':\n",
    "        variables = {\"SP.POP.\"+age_range+\".MA\":\"Males \"+age_range for age_range in age_ranges}\n",
    "    if sex == 'Female':\n",
    "        variables = {\"SP.POP.\"+age_range+\".FE\":\"Females \"+age_range for age_range in age_ranges}\n",
    "    df = wbdata.get_dataframe(variables,country=\"WLD\")\n",
    "    population_sum = sum(df.filter(items = [str(year)], axis=0).iloc[0])\n",
    "    print('In',year,', there are',population_sum,sex,'aged',age_range[0],'to',age_range[1],'living in',place)\n",
    "    return population_sum"
   ]
  },
  {
   "cell_type": "code",
   "execution_count": 39,
   "id": "af029ce5",
   "metadata": {},
   "outputs": [],
   "source": [
    "## Population df\n",
    "def population_df(region):\n",
    "    \"\"\"Takes in 3 letter country code and returns a pandas DataFrame indexed by region and date, \n",
    "    with columns giving counts of people in different age-sex groups.\"\"\"\n",
    "    \n",
    "    # Get all the indicator labels by age-sex bin and store in variable_labels dict\n",
    "    variable_labels = {}\n",
    "    for i in range(0, 80, 5):\n",
    "        m_age = {\"SP.POP.\" + f\"{i:02d}\" + f\"{i+4:02d}\" + \".MA\": \"M:\" + f\"{i:02d}\" + \"-\" + f\"{i+4:02d}\"}\n",
    "        f_age = {\"SP.POP.\" + f\"{i:02d}\" + f\"{i+4:02d}\" + \".FE\": \"F:\" + f\"{i:02d}\" + \"-\" + f\"{i+4:02d}\"}\n",
    "        variable_labels.update(m_age)\n",
    "        variable_labels.update(f_age)\n",
    "    variable_labels.update({\"SP.POP.\" + \"80UP\" + \".MA\": \"M:\" + \"80-UP\"})\n",
    "    variable_labels.update({\"SP.POP.\" + \"80UP\" + \".FE\": \"F:\" + \"80-UP\"})\n",
    "    \n",
    "    # Get population data for region input\n",
    "    df = wbdata.get_dataframe(variable_labels, country = region)\n",
    "    \n",
    "    # Format DF and indices\n",
    "    df.reset_index(inplace = True)\n",
    "    df[\"Region\"] = region\n",
    "    df[\"date\"] = df[\"date\"]\n",
    "    df.set_index([\"Region\", \"date\"], inplace = True)\n",
    "    return df"
   ]
  },
  {
   "cell_type": "code",
   "execution_count": 46,
   "id": "c12aabd3",
   "metadata": {},
   "outputs": [
    {
     "data": {
      "text/html": [
       "<div>\n",
       "<style scoped>\n",
       "    .dataframe tbody tr th:only-of-type {\n",
       "        vertical-align: middle;\n",
       "    }\n",
       "\n",
       "    .dataframe tbody tr th {\n",
       "        vertical-align: top;\n",
       "    }\n",
       "\n",
       "    .dataframe thead th {\n",
       "        text-align: right;\n",
       "    }\n",
       "</style>\n",
       "<table border=\"1\" class=\"dataframe\">\n",
       "  <thead>\n",
       "    <tr style=\"text-align: right;\">\n",
       "      <th></th>\n",
       "      <th>M:00-04</th>\n",
       "      <th>F:00-04</th>\n",
       "      <th>M:05-09</th>\n",
       "      <th>F:05-09</th>\n",
       "      <th>M:10-14</th>\n",
       "      <th>F:10-14</th>\n",
       "      <th>M:15-19</th>\n",
       "      <th>F:15-19</th>\n",
       "      <th>M:20-24</th>\n",
       "      <th>F:20-24</th>\n",
       "      <th>...</th>\n",
       "      <th>M:60-64</th>\n",
       "      <th>F:60-64</th>\n",
       "      <th>M:65-69</th>\n",
       "      <th>F:65-69</th>\n",
       "      <th>M:70-74</th>\n",
       "      <th>F:70-74</th>\n",
       "      <th>M:75-79</th>\n",
       "      <th>F:75-79</th>\n",
       "      <th>M:80-UP</th>\n",
       "      <th>F:80-UP</th>\n",
       "    </tr>\n",
       "    <tr>\n",
       "      <th>date</th>\n",
       "      <th></th>\n",
       "      <th></th>\n",
       "      <th></th>\n",
       "      <th></th>\n",
       "      <th></th>\n",
       "      <th></th>\n",
       "      <th></th>\n",
       "      <th></th>\n",
       "      <th></th>\n",
       "      <th></th>\n",
       "      <th></th>\n",
       "      <th></th>\n",
       "      <th></th>\n",
       "      <th></th>\n",
       "      <th></th>\n",
       "      <th></th>\n",
       "      <th></th>\n",
       "      <th></th>\n",
       "      <th></th>\n",
       "      <th></th>\n",
       "      <th></th>\n",
       "    </tr>\n",
       "  </thead>\n",
       "  <tbody>\n",
       "    <tr>\n",
       "      <th>2021</th>\n",
       "      <td>54474934.0</td>\n",
       "      <td>53234090.0</td>\n",
       "      <td>48590005.0</td>\n",
       "      <td>47750830.0</td>\n",
       "      <td>43631748.0</td>\n",
       "      <td>43088865.0</td>\n",
       "      <td>37645093.0</td>\n",
       "      <td>37392619.0</td>\n",
       "      <td>32077598.0</td>\n",
       "      <td>32150758.0</td>\n",
       "      <td>...</td>\n",
       "      <td>5530561.0</td>\n",
       "      <td>6828373.0</td>\n",
       "      <td>4019492.0</td>\n",
       "      <td>5147052.0</td>\n",
       "      <td>2724146.0</td>\n",
       "      <td>3599557.0</td>\n",
       "      <td>1559724.0</td>\n",
       "      <td>2207210.0</td>\n",
       "      <td>1085329.0</td>\n",
       "      <td>1909063.0</td>\n",
       "    </tr>\n",
       "    <tr>\n",
       "      <th>2020</th>\n",
       "      <td>53461851.0</td>\n",
       "      <td>52265991.0</td>\n",
       "      <td>47709312.0</td>\n",
       "      <td>46911818.0</td>\n",
       "      <td>42575598.0</td>\n",
       "      <td>42069398.0</td>\n",
       "      <td>36563052.0</td>\n",
       "      <td>36335804.0</td>\n",
       "      <td>31250943.0</td>\n",
       "      <td>31355868.0</td>\n",
       "      <td>...</td>\n",
       "      <td>5359947.0</td>\n",
       "      <td>6613487.0</td>\n",
       "      <td>3937852.0</td>\n",
       "      <td>5007885.0</td>\n",
       "      <td>2665421.0</td>\n",
       "      <td>3491072.0</td>\n",
       "      <td>1511511.0</td>\n",
       "      <td>2131769.0</td>\n",
       "      <td>1077480.0</td>\n",
       "      <td>1872417.0</td>\n",
       "    </tr>\n",
       "    <tr>\n",
       "      <th>2019</th>\n",
       "      <td>52445829.0</td>\n",
       "      <td>51296626.0</td>\n",
       "      <td>46830488.0</td>\n",
       "      <td>46072800.0</td>\n",
       "      <td>41476275.0</td>\n",
       "      <td>40999618.0</td>\n",
       "      <td>35526881.0</td>\n",
       "      <td>35311876.0</td>\n",
       "      <td>30439607.0</td>\n",
       "      <td>30578412.0</td>\n",
       "      <td>...</td>\n",
       "      <td>5191655.0</td>\n",
       "      <td>6396462.0</td>\n",
       "      <td>3835788.0</td>\n",
       "      <td>4848496.0</td>\n",
       "      <td>2579929.0</td>\n",
       "      <td>3362927.0</td>\n",
       "      <td>1452252.0</td>\n",
       "      <td>2048886.0</td>\n",
       "      <td>1050938.0</td>\n",
       "      <td>1814665.0</td>\n",
       "    </tr>\n",
       "    <tr>\n",
       "      <th>2018</th>\n",
       "      <td>51462324.0</td>\n",
       "      <td>50354295.0</td>\n",
       "      <td>45959995.0</td>\n",
       "      <td>45238285.0</td>\n",
       "      <td>40339961.0</td>\n",
       "      <td>39886015.0</td>\n",
       "      <td>34553287.0</td>\n",
       "      <td>34334491.0</td>\n",
       "      <td>29672727.0</td>\n",
       "      <td>29841888.0</td>\n",
       "      <td>...</td>\n",
       "      <td>5031828.0</td>\n",
       "      <td>6185332.0</td>\n",
       "      <td>3722030.0</td>\n",
       "      <td>4677211.0</td>\n",
       "      <td>2477747.0</td>\n",
       "      <td>3224304.0</td>\n",
       "      <td>1392035.0</td>\n",
       "      <td>1967877.0</td>\n",
       "      <td>1014714.0</td>\n",
       "      <td>1750682.0</td>\n",
       "    </tr>\n",
       "    <tr>\n",
       "      <th>2017</th>\n",
       "      <td>50527950.0</td>\n",
       "      <td>49459497.0</td>\n",
       "      <td>45048010.0</td>\n",
       "      <td>44365105.0</td>\n",
       "      <td>39194652.0</td>\n",
       "      <td>38773390.0</td>\n",
       "      <td>33610378.0</td>\n",
       "      <td>33410378.0</td>\n",
       "      <td>28956812.0</td>\n",
       "      <td>29177045.0</td>\n",
       "      <td>...</td>\n",
       "      <td>4892796.0</td>\n",
       "      <td>5991427.0</td>\n",
       "      <td>3609954.0</td>\n",
       "      <td>4509749.0</td>\n",
       "      <td>2373716.0</td>\n",
       "      <td>3086225.0</td>\n",
       "      <td>1338098.0</td>\n",
       "      <td>1894203.0</td>\n",
       "      <td>980011.0</td>\n",
       "      <td>1688213.0</td>\n",
       "    </tr>\n",
       "    <tr>\n",
       "      <th>...</th>\n",
       "      <td>...</td>\n",
       "      <td>...</td>\n",
       "      <td>...</td>\n",
       "      <td>...</td>\n",
       "      <td>...</td>\n",
       "      <td>...</td>\n",
       "      <td>...</td>\n",
       "      <td>...</td>\n",
       "      <td>...</td>\n",
       "      <td>...</td>\n",
       "      <td>...</td>\n",
       "      <td>...</td>\n",
       "      <td>...</td>\n",
       "      <td>...</td>\n",
       "      <td>...</td>\n",
       "      <td>...</td>\n",
       "      <td>...</td>\n",
       "      <td>...</td>\n",
       "      <td>...</td>\n",
       "      <td>...</td>\n",
       "      <td>...</td>\n",
       "    </tr>\n",
       "    <tr>\n",
       "      <th>1964</th>\n",
       "      <td>13473056.0</td>\n",
       "      <td>13316059.0</td>\n",
       "      <td>10457881.0</td>\n",
       "      <td>10371024.0</td>\n",
       "      <td>8700624.0</td>\n",
       "      <td>8635913.0</td>\n",
       "      <td>7371925.0</td>\n",
       "      <td>7348233.0</td>\n",
       "      <td>6056915.0</td>\n",
       "      <td>6192034.0</td>\n",
       "      <td>...</td>\n",
       "      <td>1257129.0</td>\n",
       "      <td>1387855.0</td>\n",
       "      <td>850939.0</td>\n",
       "      <td>1007921.0</td>\n",
       "      <td>541871.0</td>\n",
       "      <td>672056.0</td>\n",
       "      <td>302911.0</td>\n",
       "      <td>388984.0</td>\n",
       "      <td>196377.0</td>\n",
       "      <td>268313.0</td>\n",
       "    </tr>\n",
       "    <tr>\n",
       "      <th>1963</th>\n",
       "      <td>13062183.0</td>\n",
       "      <td>12915169.0</td>\n",
       "      <td>10138780.0</td>\n",
       "      <td>10058500.0</td>\n",
       "      <td>8455835.0</td>\n",
       "      <td>8388190.0</td>\n",
       "      <td>7145770.0</td>\n",
       "      <td>7137094.0</td>\n",
       "      <td>5879098.0</td>\n",
       "      <td>6019568.0</td>\n",
       "      <td>...</td>\n",
       "      <td>1213489.0</td>\n",
       "      <td>1349018.0</td>\n",
       "      <td>826719.0</td>\n",
       "      <td>983494.0</td>\n",
       "      <td>530004.0</td>\n",
       "      <td>655650.0</td>\n",
       "      <td>298421.0</td>\n",
       "      <td>382154.0</td>\n",
       "      <td>193690.0</td>\n",
       "      <td>263206.0</td>\n",
       "    </tr>\n",
       "    <tr>\n",
       "      <th>1962</th>\n",
       "      <td>12661185.0</td>\n",
       "      <td>12522816.0</td>\n",
       "      <td>9837633.0</td>\n",
       "      <td>9765428.0</td>\n",
       "      <td>8228078.0</td>\n",
       "      <td>8159040.0</td>\n",
       "      <td>6916635.0</td>\n",
       "      <td>6922855.0</td>\n",
       "      <td>5725665.0</td>\n",
       "      <td>5869666.0</td>\n",
       "      <td>...</td>\n",
       "      <td>1169274.0</td>\n",
       "      <td>1311157.0</td>\n",
       "      <td>805802.0</td>\n",
       "      <td>960546.0</td>\n",
       "      <td>519280.0</td>\n",
       "      <td>640343.0</td>\n",
       "      <td>294329.0</td>\n",
       "      <td>375946.0</td>\n",
       "      <td>191294.0</td>\n",
       "      <td>258394.0</td>\n",
       "    </tr>\n",
       "    <tr>\n",
       "      <th>1961</th>\n",
       "      <td>12271309.0</td>\n",
       "      <td>12140807.0</td>\n",
       "      <td>9547953.0</td>\n",
       "      <td>9486214.0</td>\n",
       "      <td>8020790.0</td>\n",
       "      <td>7950546.0</td>\n",
       "      <td>6684830.0</td>\n",
       "      <td>6705676.0</td>\n",
       "      <td>5586353.0</td>\n",
       "      <td>5730412.0</td>\n",
       "      <td>...</td>\n",
       "      <td>1126932.0</td>\n",
       "      <td>1275145.0</td>\n",
       "      <td>786369.0</td>\n",
       "      <td>938330.0</td>\n",
       "      <td>509464.0</td>\n",
       "      <td>626362.0</td>\n",
       "      <td>290320.0</td>\n",
       "      <td>369833.0</td>\n",
       "      <td>188995.0</td>\n",
       "      <td>253612.0</td>\n",
       "    </tr>\n",
       "    <tr>\n",
       "      <th>1960</th>\n",
       "      <td>11903046.0</td>\n",
       "      <td>11781303.0</td>\n",
       "      <td>9269956.0</td>\n",
       "      <td>9224178.0</td>\n",
       "      <td>7827606.0</td>\n",
       "      <td>7760047.0</td>\n",
       "      <td>6464521.0</td>\n",
       "      <td>6498502.0</td>\n",
       "      <td>5452406.0</td>\n",
       "      <td>5594132.0</td>\n",
       "      <td>...</td>\n",
       "      <td>1089990.0</td>\n",
       "      <td>1242066.0</td>\n",
       "      <td>767560.0</td>\n",
       "      <td>916159.0</td>\n",
       "      <td>500885.0</td>\n",
       "      <td>614569.0</td>\n",
       "      <td>286341.0</td>\n",
       "      <td>363808.0</td>\n",
       "      <td>186622.0</td>\n",
       "      <td>248982.0</td>\n",
       "    </tr>\n",
       "  </tbody>\n",
       "</table>\n",
       "<p>62 rows × 34 columns</p>\n",
       "</div>"
      ],
      "text/plain": [
       "         M:00-04     F:00-04     M:05-09     F:05-09     M:10-14     F:10-14  \\\n",
       "date                                                                           \n",
       "2021  54474934.0  53234090.0  48590005.0  47750830.0  43631748.0  43088865.0   \n",
       "2020  53461851.0  52265991.0  47709312.0  46911818.0  42575598.0  42069398.0   \n",
       "2019  52445829.0  51296626.0  46830488.0  46072800.0  41476275.0  40999618.0   \n",
       "2018  51462324.0  50354295.0  45959995.0  45238285.0  40339961.0  39886015.0   \n",
       "2017  50527950.0  49459497.0  45048010.0  44365105.0  39194652.0  38773390.0   \n",
       "...          ...         ...         ...         ...         ...         ...   \n",
       "1964  13473056.0  13316059.0  10457881.0  10371024.0   8700624.0   8635913.0   \n",
       "1963  13062183.0  12915169.0  10138780.0  10058500.0   8455835.0   8388190.0   \n",
       "1962  12661185.0  12522816.0   9837633.0   9765428.0   8228078.0   8159040.0   \n",
       "1961  12271309.0  12140807.0   9547953.0   9486214.0   8020790.0   7950546.0   \n",
       "1960  11903046.0  11781303.0   9269956.0   9224178.0   7827606.0   7760047.0   \n",
       "\n",
       "         M:15-19     F:15-19     M:20-24     F:20-24  ...    M:60-64  \\\n",
       "date                                                  ...              \n",
       "2021  37645093.0  37392619.0  32077598.0  32150758.0  ...  5530561.0   \n",
       "2020  36563052.0  36335804.0  31250943.0  31355868.0  ...  5359947.0   \n",
       "2019  35526881.0  35311876.0  30439607.0  30578412.0  ...  5191655.0   \n",
       "2018  34553287.0  34334491.0  29672727.0  29841888.0  ...  5031828.0   \n",
       "2017  33610378.0  33410378.0  28956812.0  29177045.0  ...  4892796.0   \n",
       "...          ...         ...         ...         ...  ...        ...   \n",
       "1964   7371925.0   7348233.0   6056915.0   6192034.0  ...  1257129.0   \n",
       "1963   7145770.0   7137094.0   5879098.0   6019568.0  ...  1213489.0   \n",
       "1962   6916635.0   6922855.0   5725665.0   5869666.0  ...  1169274.0   \n",
       "1961   6684830.0   6705676.0   5586353.0   5730412.0  ...  1126932.0   \n",
       "1960   6464521.0   6498502.0   5452406.0   5594132.0  ...  1089990.0   \n",
       "\n",
       "        F:60-64    M:65-69    F:65-69    M:70-74    F:70-74    M:75-79  \\\n",
       "date                                                                     \n",
       "2021  6828373.0  4019492.0  5147052.0  2724146.0  3599557.0  1559724.0   \n",
       "2020  6613487.0  3937852.0  5007885.0  2665421.0  3491072.0  1511511.0   \n",
       "2019  6396462.0  3835788.0  4848496.0  2579929.0  3362927.0  1452252.0   \n",
       "2018  6185332.0  3722030.0  4677211.0  2477747.0  3224304.0  1392035.0   \n",
       "2017  5991427.0  3609954.0  4509749.0  2373716.0  3086225.0  1338098.0   \n",
       "...         ...        ...        ...        ...        ...        ...   \n",
       "1964  1387855.0   850939.0  1007921.0   541871.0   672056.0   302911.0   \n",
       "1963  1349018.0   826719.0   983494.0   530004.0   655650.0   298421.0   \n",
       "1962  1311157.0   805802.0   960546.0   519280.0   640343.0   294329.0   \n",
       "1961  1275145.0   786369.0   938330.0   509464.0   626362.0   290320.0   \n",
       "1960  1242066.0   767560.0   916159.0   500885.0   614569.0   286341.0   \n",
       "\n",
       "        F:75-79    M:80-UP    F:80-UP  \n",
       "date                                   \n",
       "2021  2207210.0  1085329.0  1909063.0  \n",
       "2020  2131769.0  1077480.0  1872417.0  \n",
       "2019  2048886.0  1050938.0  1814665.0  \n",
       "2018  1967877.0  1014714.0  1750682.0  \n",
       "2017  1894203.0   980011.0  1688213.0  \n",
       "...         ...        ...        ...  \n",
       "1964   388984.0   196377.0   268313.0  \n",
       "1963   382154.0   193690.0   263206.0  \n",
       "1962   375946.0   191294.0   258394.0  \n",
       "1961   369833.0   188995.0   253612.0  \n",
       "1960   363808.0   186622.0   248982.0  \n",
       "\n",
       "[62 rows x 34 columns]"
      ]
     },
     "execution_count": 46,
     "metadata": {},
     "output_type": "execute_result"
    }
   ],
   "source": [
    "df = population_df(\"AFE\")\n",
    "df.reset_index(level='Region', drop=True, inplace=True)\n",
    "df"
   ]
  },
  {
   "cell_type": "code",
   "execution_count": 48,
   "id": "d77ac07f",
   "metadata": {},
   "outputs": [
    {
     "data": {
      "application/vnd.plotly.v1+json": {
       "config": {
        "linkText": "Export to plot.ly",
        "plotlyServerURL": "https://plot.ly",
        "showLink": false
       },
       "data": [
        {
         "hoverinfo": "x",
         "marker": {
          "color": "powderblue"
         },
         "name": "Men",
         "orientation": "h",
         "type": "bar",
         "x": [
          53461851,
          47709312,
          42575598,
          36563052,
          31250943,
          26824252,
          23186536,
          19161081,
          15076634,
          11954285,
          9627875,
          7279339,
          5359947,
          3937852,
          2665421,
          1511511,
          1077480
         ],
         "y": [
          0,
          10,
          20,
          30,
          40,
          50,
          60,
          70,
          80,
          90
         ]
        },
        {
         "hoverinfo": "text",
         "marker": {
          "color": "seagreen"
         },
         "name": "Women",
         "orientation": "h",
         "text": [
          52265991,
          46911818,
          42069398,
          36335804,
          31355868,
          27330572,
          23844536,
          19607075,
          15395913,
          12524773,
          10625703,
          8505650,
          6613487,
          5007885,
          3491072,
          2131769,
          1872417
         ],
         "type": "bar",
         "x": [
          -52265991,
          -46911818,
          -42069398,
          -36335804,
          -31355868,
          -27330572,
          -23844536,
          -19607075,
          -15395913,
          -12524773,
          -10625703,
          -8505650,
          -6613487,
          -5007885,
          -3491072,
          -2131769,
          -1872417
         ],
         "y": [
          0,
          10,
          20,
          30,
          40,
          50,
          60,
          70,
          80,
          90
         ]
        }
       ],
       "layout": {
        "bargap": 0.1,
        "barmode": "overlay",
        "template": {
         "data": {
          "bar": [
           {
            "error_x": {
             "color": "#2a3f5f"
            },
            "error_y": {
             "color": "#2a3f5f"
            },
            "marker": {
             "line": {
              "color": "#E5ECF6",
              "width": 0.5
             },
             "pattern": {
              "fillmode": "overlay",
              "size": 10,
              "solidity": 0.2
             }
            },
            "type": "bar"
           }
          ],
          "barpolar": [
           {
            "marker": {
             "line": {
              "color": "#E5ECF6",
              "width": 0.5
             },
             "pattern": {
              "fillmode": "overlay",
              "size": 10,
              "solidity": 0.2
             }
            },
            "type": "barpolar"
           }
          ],
          "carpet": [
           {
            "aaxis": {
             "endlinecolor": "#2a3f5f",
             "gridcolor": "white",
             "linecolor": "white",
             "minorgridcolor": "white",
             "startlinecolor": "#2a3f5f"
            },
            "baxis": {
             "endlinecolor": "#2a3f5f",
             "gridcolor": "white",
             "linecolor": "white",
             "minorgridcolor": "white",
             "startlinecolor": "#2a3f5f"
            },
            "type": "carpet"
           }
          ],
          "choropleth": [
           {
            "colorbar": {
             "outlinewidth": 0,
             "ticks": ""
            },
            "type": "choropleth"
           }
          ],
          "contour": [
           {
            "colorbar": {
             "outlinewidth": 0,
             "ticks": ""
            },
            "colorscale": [
             [
              0,
              "#0d0887"
             ],
             [
              0.1111111111111111,
              "#46039f"
             ],
             [
              0.2222222222222222,
              "#7201a8"
             ],
             [
              0.3333333333333333,
              "#9c179e"
             ],
             [
              0.4444444444444444,
              "#bd3786"
             ],
             [
              0.5555555555555556,
              "#d8576b"
             ],
             [
              0.6666666666666666,
              "#ed7953"
             ],
             [
              0.7777777777777778,
              "#fb9f3a"
             ],
             [
              0.8888888888888888,
              "#fdca26"
             ],
             [
              1,
              "#f0f921"
             ]
            ],
            "type": "contour"
           }
          ],
          "contourcarpet": [
           {
            "colorbar": {
             "outlinewidth": 0,
             "ticks": ""
            },
            "type": "contourcarpet"
           }
          ],
          "heatmap": [
           {
            "colorbar": {
             "outlinewidth": 0,
             "ticks": ""
            },
            "colorscale": [
             [
              0,
              "#0d0887"
             ],
             [
              0.1111111111111111,
              "#46039f"
             ],
             [
              0.2222222222222222,
              "#7201a8"
             ],
             [
              0.3333333333333333,
              "#9c179e"
             ],
             [
              0.4444444444444444,
              "#bd3786"
             ],
             [
              0.5555555555555556,
              "#d8576b"
             ],
             [
              0.6666666666666666,
              "#ed7953"
             ],
             [
              0.7777777777777778,
              "#fb9f3a"
             ],
             [
              0.8888888888888888,
              "#fdca26"
             ],
             [
              1,
              "#f0f921"
             ]
            ],
            "type": "heatmap"
           }
          ],
          "heatmapgl": [
           {
            "colorbar": {
             "outlinewidth": 0,
             "ticks": ""
            },
            "colorscale": [
             [
              0,
              "#0d0887"
             ],
             [
              0.1111111111111111,
              "#46039f"
             ],
             [
              0.2222222222222222,
              "#7201a8"
             ],
             [
              0.3333333333333333,
              "#9c179e"
             ],
             [
              0.4444444444444444,
              "#bd3786"
             ],
             [
              0.5555555555555556,
              "#d8576b"
             ],
             [
              0.6666666666666666,
              "#ed7953"
             ],
             [
              0.7777777777777778,
              "#fb9f3a"
             ],
             [
              0.8888888888888888,
              "#fdca26"
             ],
             [
              1,
              "#f0f921"
             ]
            ],
            "type": "heatmapgl"
           }
          ],
          "histogram": [
           {
            "marker": {
             "pattern": {
              "fillmode": "overlay",
              "size": 10,
              "solidity": 0.2
             }
            },
            "type": "histogram"
           }
          ],
          "histogram2d": [
           {
            "colorbar": {
             "outlinewidth": 0,
             "ticks": ""
            },
            "colorscale": [
             [
              0,
              "#0d0887"
             ],
             [
              0.1111111111111111,
              "#46039f"
             ],
             [
              0.2222222222222222,
              "#7201a8"
             ],
             [
              0.3333333333333333,
              "#9c179e"
             ],
             [
              0.4444444444444444,
              "#bd3786"
             ],
             [
              0.5555555555555556,
              "#d8576b"
             ],
             [
              0.6666666666666666,
              "#ed7953"
             ],
             [
              0.7777777777777778,
              "#fb9f3a"
             ],
             [
              0.8888888888888888,
              "#fdca26"
             ],
             [
              1,
              "#f0f921"
             ]
            ],
            "type": "histogram2d"
           }
          ],
          "histogram2dcontour": [
           {
            "colorbar": {
             "outlinewidth": 0,
             "ticks": ""
            },
            "colorscale": [
             [
              0,
              "#0d0887"
             ],
             [
              0.1111111111111111,
              "#46039f"
             ],
             [
              0.2222222222222222,
              "#7201a8"
             ],
             [
              0.3333333333333333,
              "#9c179e"
             ],
             [
              0.4444444444444444,
              "#bd3786"
             ],
             [
              0.5555555555555556,
              "#d8576b"
             ],
             [
              0.6666666666666666,
              "#ed7953"
             ],
             [
              0.7777777777777778,
              "#fb9f3a"
             ],
             [
              0.8888888888888888,
              "#fdca26"
             ],
             [
              1,
              "#f0f921"
             ]
            ],
            "type": "histogram2dcontour"
           }
          ],
          "mesh3d": [
           {
            "colorbar": {
             "outlinewidth": 0,
             "ticks": ""
            },
            "type": "mesh3d"
           }
          ],
          "parcoords": [
           {
            "line": {
             "colorbar": {
              "outlinewidth": 0,
              "ticks": ""
             }
            },
            "type": "parcoords"
           }
          ],
          "pie": [
           {
            "automargin": true,
            "type": "pie"
           }
          ],
          "scatter": [
           {
            "marker": {
             "colorbar": {
              "outlinewidth": 0,
              "ticks": ""
             }
            },
            "type": "scatter"
           }
          ],
          "scatter3d": [
           {
            "line": {
             "colorbar": {
              "outlinewidth": 0,
              "ticks": ""
             }
            },
            "marker": {
             "colorbar": {
              "outlinewidth": 0,
              "ticks": ""
             }
            },
            "type": "scatter3d"
           }
          ],
          "scattercarpet": [
           {
            "marker": {
             "colorbar": {
              "outlinewidth": 0,
              "ticks": ""
             }
            },
            "type": "scattercarpet"
           }
          ],
          "scattergeo": [
           {
            "marker": {
             "colorbar": {
              "outlinewidth": 0,
              "ticks": ""
             }
            },
            "type": "scattergeo"
           }
          ],
          "scattergl": [
           {
            "marker": {
             "colorbar": {
              "outlinewidth": 0,
              "ticks": ""
             }
            },
            "type": "scattergl"
           }
          ],
          "scattermapbox": [
           {
            "marker": {
             "colorbar": {
              "outlinewidth": 0,
              "ticks": ""
             }
            },
            "type": "scattermapbox"
           }
          ],
          "scatterpolar": [
           {
            "marker": {
             "colorbar": {
              "outlinewidth": 0,
              "ticks": ""
             }
            },
            "type": "scatterpolar"
           }
          ],
          "scatterpolargl": [
           {
            "marker": {
             "colorbar": {
              "outlinewidth": 0,
              "ticks": ""
             }
            },
            "type": "scatterpolargl"
           }
          ],
          "scatterternary": [
           {
            "marker": {
             "colorbar": {
              "outlinewidth": 0,
              "ticks": ""
             }
            },
            "type": "scatterternary"
           }
          ],
          "surface": [
           {
            "colorbar": {
             "outlinewidth": 0,
             "ticks": ""
            },
            "colorscale": [
             [
              0,
              "#0d0887"
             ],
             [
              0.1111111111111111,
              "#46039f"
             ],
             [
              0.2222222222222222,
              "#7201a8"
             ],
             [
              0.3333333333333333,
              "#9c179e"
             ],
             [
              0.4444444444444444,
              "#bd3786"
             ],
             [
              0.5555555555555556,
              "#d8576b"
             ],
             [
              0.6666666666666666,
              "#ed7953"
             ],
             [
              0.7777777777777778,
              "#fb9f3a"
             ],
             [
              0.8888888888888888,
              "#fdca26"
             ],
             [
              1,
              "#f0f921"
             ]
            ],
            "type": "surface"
           }
          ],
          "table": [
           {
            "cells": {
             "fill": {
              "color": "#EBF0F8"
             },
             "line": {
              "color": "white"
             }
            },
            "header": {
             "fill": {
              "color": "#C8D4E3"
             },
             "line": {
              "color": "white"
             }
            },
            "type": "table"
           }
          ]
         },
         "layout": {
          "annotationdefaults": {
           "arrowcolor": "#2a3f5f",
           "arrowhead": 0,
           "arrowwidth": 1
          },
          "autotypenumbers": "strict",
          "coloraxis": {
           "colorbar": {
            "outlinewidth": 0,
            "ticks": ""
           }
          },
          "colorscale": {
           "diverging": [
            [
             0,
             "#8e0152"
            ],
            [
             0.1,
             "#c51b7d"
            ],
            [
             0.2,
             "#de77ae"
            ],
            [
             0.3,
             "#f1b6da"
            ],
            [
             0.4,
             "#fde0ef"
            ],
            [
             0.5,
             "#f7f7f7"
            ],
            [
             0.6,
             "#e6f5d0"
            ],
            [
             0.7,
             "#b8e186"
            ],
            [
             0.8,
             "#7fbc41"
            ],
            [
             0.9,
             "#4d9221"
            ],
            [
             1,
             "#276419"
            ]
           ],
           "sequential": [
            [
             0,
             "#0d0887"
            ],
            [
             0.1111111111111111,
             "#46039f"
            ],
            [
             0.2222222222222222,
             "#7201a8"
            ],
            [
             0.3333333333333333,
             "#9c179e"
            ],
            [
             0.4444444444444444,
             "#bd3786"
            ],
            [
             0.5555555555555556,
             "#d8576b"
            ],
            [
             0.6666666666666666,
             "#ed7953"
            ],
            [
             0.7777777777777778,
             "#fb9f3a"
            ],
            [
             0.8888888888888888,
             "#fdca26"
            ],
            [
             1,
             "#f0f921"
            ]
           ],
           "sequentialminus": [
            [
             0,
             "#0d0887"
            ],
            [
             0.1111111111111111,
             "#46039f"
            ],
            [
             0.2222222222222222,
             "#7201a8"
            ],
            [
             0.3333333333333333,
             "#9c179e"
            ],
            [
             0.4444444444444444,
             "#bd3786"
            ],
            [
             0.5555555555555556,
             "#d8576b"
            ],
            [
             0.6666666666666666,
             "#ed7953"
            ],
            [
             0.7777777777777778,
             "#fb9f3a"
            ],
            [
             0.8888888888888888,
             "#fdca26"
            ],
            [
             1,
             "#f0f921"
            ]
           ]
          },
          "colorway": [
           "#636efa",
           "#EF553B",
           "#00cc96",
           "#ab63fa",
           "#FFA15A",
           "#19d3f3",
           "#FF6692",
           "#B6E880",
           "#FF97FF",
           "#FECB52"
          ],
          "font": {
           "color": "#2a3f5f"
          },
          "geo": {
           "bgcolor": "white",
           "lakecolor": "white",
           "landcolor": "#E5ECF6",
           "showlakes": true,
           "showland": true,
           "subunitcolor": "white"
          },
          "hoverlabel": {
           "align": "left"
          },
          "hovermode": "closest",
          "mapbox": {
           "style": "light"
          },
          "paper_bgcolor": "white",
          "plot_bgcolor": "#E5ECF6",
          "polar": {
           "angularaxis": {
            "gridcolor": "white",
            "linecolor": "white",
            "ticks": ""
           },
           "bgcolor": "#E5ECF6",
           "radialaxis": {
            "gridcolor": "white",
            "linecolor": "white",
            "ticks": ""
           }
          },
          "scene": {
           "xaxis": {
            "backgroundcolor": "#E5ECF6",
            "gridcolor": "white",
            "gridwidth": 2,
            "linecolor": "white",
            "showbackground": true,
            "ticks": "",
            "zerolinecolor": "white"
           },
           "yaxis": {
            "backgroundcolor": "#E5ECF6",
            "gridcolor": "white",
            "gridwidth": 2,
            "linecolor": "white",
            "showbackground": true,
            "ticks": "",
            "zerolinecolor": "white"
           },
           "zaxis": {
            "backgroundcolor": "#E5ECF6",
            "gridcolor": "white",
            "gridwidth": 2,
            "linecolor": "white",
            "showbackground": true,
            "ticks": "",
            "zerolinecolor": "white"
           }
          },
          "shapedefaults": {
           "line": {
            "color": "#2a3f5f"
           }
          },
          "ternary": {
           "aaxis": {
            "gridcolor": "white",
            "linecolor": "white",
            "ticks": ""
           },
           "baxis": {
            "gridcolor": "white",
            "linecolor": "white",
            "ticks": ""
           },
           "bgcolor": "#E5ECF6",
           "caxis": {
            "gridcolor": "white",
            "linecolor": "white",
            "ticks": ""
           }
          },
          "title": {
           "x": 0.05
          },
          "xaxis": {
           "automargin": true,
           "gridcolor": "white",
           "linecolor": "white",
           "ticks": "",
           "title": {
            "standoff": 15
           },
           "zerolinecolor": "white",
           "zerolinewidth": 2
          },
          "yaxis": {
           "automargin": true,
           "gridcolor": "white",
           "linecolor": "white",
           "ticks": "",
           "title": {
            "standoff": 15
           },
           "zerolinecolor": "white",
           "zerolinewidth": 2
          }
         }
        },
        "xaxis": {
         "range": [
          -60000000,
          60000000
         ],
         "ticktext": [
          60000000,
          30000000,
          15000000,
          0,
          15000000,
          30000000,
          60000000
         ],
         "tickvals": [
          -60000000,
          -30000000,
          -15000000,
          0,
          15000000,
          30000000,
          60000000
         ],
         "title": {
          "text": "Number"
         }
        },
        "yaxis": {
         "title": {
          "text": "Age"
         }
        }
       }
      },
      "text/html": [
       "<div>                            <div id=\"5969b6bc-6d77-457a-acbd-f84784d47f66\" class=\"plotly-graph-div\" style=\"height:525px; width:100%;\"></div>            <script type=\"text/javascript\">                require([\"plotly\"], function(Plotly) {                    window.PLOTLYENV=window.PLOTLYENV || {};                                    if (document.getElementById(\"5969b6bc-6d77-457a-acbd-f84784d47f66\")) {                    Plotly.newPlot(                        \"5969b6bc-6d77-457a-acbd-f84784d47f66\",                        [{\"hoverinfo\":\"x\",\"marker\":{\"color\":\"powderblue\"},\"name\":\"Men\",\"orientation\":\"h\",\"type\":\"bar\",\"x\":[53461851.0,47709312.0,42575598.0,36563052.0,31250943.0,26824252.0,23186536.0,19161081.0,15076634.0,11954285.0,9627875.0,7279339.0,5359947.0,3937852.0,2665421.0,1511511.0,1077480.0],\"y\":[0,10,20,30,40,50,60,70,80,90]},{\"hoverinfo\":\"text\",\"marker\":{\"color\":\"seagreen\"},\"name\":\"Women\",\"orientation\":\"h\",\"text\":[52265991.0,46911818.0,42069398.0,36335804.0,31355868.0,27330572.0,23844536.0,19607075.0,15395913.0,12524773.0,10625703.0,8505650.0,6613487.0,5007885.0,3491072.0,2131769.0,1872417.0],\"type\":\"bar\",\"x\":[-52265991.0,-46911818.0,-42069398.0,-36335804.0,-31355868.0,-27330572.0,-23844536.0,-19607075.0,-15395913.0,-12524773.0,-10625703.0,-8505650.0,-6613487.0,-5007885.0,-3491072.0,-2131769.0,-1872417.0],\"y\":[0,10,20,30,40,50,60,70,80,90]}],                        {\"bargap\":0.1,\"barmode\":\"overlay\",\"template\":{\"data\":{\"bar\":[{\"error_x\":{\"color\":\"#2a3f5f\"},\"error_y\":{\"color\":\"#2a3f5f\"},\"marker\":{\"line\":{\"color\":\"#E5ECF6\",\"width\":0.5},\"pattern\":{\"fillmode\":\"overlay\",\"size\":10,\"solidity\":0.2}},\"type\":\"bar\"}],\"barpolar\":[{\"marker\":{\"line\":{\"color\":\"#E5ECF6\",\"width\":0.5},\"pattern\":{\"fillmode\":\"overlay\",\"size\":10,\"solidity\":0.2}},\"type\":\"barpolar\"}],\"carpet\":[{\"aaxis\":{\"endlinecolor\":\"#2a3f5f\",\"gridcolor\":\"white\",\"linecolor\":\"white\",\"minorgridcolor\":\"white\",\"startlinecolor\":\"#2a3f5f\"},\"baxis\":{\"endlinecolor\":\"#2a3f5f\",\"gridcolor\":\"white\",\"linecolor\":\"white\",\"minorgridcolor\":\"white\",\"startlinecolor\":\"#2a3f5f\"},\"type\":\"carpet\"}],\"choropleth\":[{\"colorbar\":{\"outlinewidth\":0,\"ticks\":\"\"},\"type\":\"choropleth\"}],\"contour\":[{\"colorbar\":{\"outlinewidth\":0,\"ticks\":\"\"},\"colorscale\":[[0.0,\"#0d0887\"],[0.1111111111111111,\"#46039f\"],[0.2222222222222222,\"#7201a8\"],[0.3333333333333333,\"#9c179e\"],[0.4444444444444444,\"#bd3786\"],[0.5555555555555556,\"#d8576b\"],[0.6666666666666666,\"#ed7953\"],[0.7777777777777778,\"#fb9f3a\"],[0.8888888888888888,\"#fdca26\"],[1.0,\"#f0f921\"]],\"type\":\"contour\"}],\"contourcarpet\":[{\"colorbar\":{\"outlinewidth\":0,\"ticks\":\"\"},\"type\":\"contourcarpet\"}],\"heatmap\":[{\"colorbar\":{\"outlinewidth\":0,\"ticks\":\"\"},\"colorscale\":[[0.0,\"#0d0887\"],[0.1111111111111111,\"#46039f\"],[0.2222222222222222,\"#7201a8\"],[0.3333333333333333,\"#9c179e\"],[0.4444444444444444,\"#bd3786\"],[0.5555555555555556,\"#d8576b\"],[0.6666666666666666,\"#ed7953\"],[0.7777777777777778,\"#fb9f3a\"],[0.8888888888888888,\"#fdca26\"],[1.0,\"#f0f921\"]],\"type\":\"heatmap\"}],\"heatmapgl\":[{\"colorbar\":{\"outlinewidth\":0,\"ticks\":\"\"},\"colorscale\":[[0.0,\"#0d0887\"],[0.1111111111111111,\"#46039f\"],[0.2222222222222222,\"#7201a8\"],[0.3333333333333333,\"#9c179e\"],[0.4444444444444444,\"#bd3786\"],[0.5555555555555556,\"#d8576b\"],[0.6666666666666666,\"#ed7953\"],[0.7777777777777778,\"#fb9f3a\"],[0.8888888888888888,\"#fdca26\"],[1.0,\"#f0f921\"]],\"type\":\"heatmapgl\"}],\"histogram\":[{\"marker\":{\"pattern\":{\"fillmode\":\"overlay\",\"size\":10,\"solidity\":0.2}},\"type\":\"histogram\"}],\"histogram2d\":[{\"colorbar\":{\"outlinewidth\":0,\"ticks\":\"\"},\"colorscale\":[[0.0,\"#0d0887\"],[0.1111111111111111,\"#46039f\"],[0.2222222222222222,\"#7201a8\"],[0.3333333333333333,\"#9c179e\"],[0.4444444444444444,\"#bd3786\"],[0.5555555555555556,\"#d8576b\"],[0.6666666666666666,\"#ed7953\"],[0.7777777777777778,\"#fb9f3a\"],[0.8888888888888888,\"#fdca26\"],[1.0,\"#f0f921\"]],\"type\":\"histogram2d\"}],\"histogram2dcontour\":[{\"colorbar\":{\"outlinewidth\":0,\"ticks\":\"\"},\"colorscale\":[[0.0,\"#0d0887\"],[0.1111111111111111,\"#46039f\"],[0.2222222222222222,\"#7201a8\"],[0.3333333333333333,\"#9c179e\"],[0.4444444444444444,\"#bd3786\"],[0.5555555555555556,\"#d8576b\"],[0.6666666666666666,\"#ed7953\"],[0.7777777777777778,\"#fb9f3a\"],[0.8888888888888888,\"#fdca26\"],[1.0,\"#f0f921\"]],\"type\":\"histogram2dcontour\"}],\"mesh3d\":[{\"colorbar\":{\"outlinewidth\":0,\"ticks\":\"\"},\"type\":\"mesh3d\"}],\"parcoords\":[{\"line\":{\"colorbar\":{\"outlinewidth\":0,\"ticks\":\"\"}},\"type\":\"parcoords\"}],\"pie\":[{\"automargin\":true,\"type\":\"pie\"}],\"scatter\":[{\"marker\":{\"colorbar\":{\"outlinewidth\":0,\"ticks\":\"\"}},\"type\":\"scatter\"}],\"scatter3d\":[{\"line\":{\"colorbar\":{\"outlinewidth\":0,\"ticks\":\"\"}},\"marker\":{\"colorbar\":{\"outlinewidth\":0,\"ticks\":\"\"}},\"type\":\"scatter3d\"}],\"scattercarpet\":[{\"marker\":{\"colorbar\":{\"outlinewidth\":0,\"ticks\":\"\"}},\"type\":\"scattercarpet\"}],\"scattergeo\":[{\"marker\":{\"colorbar\":{\"outlinewidth\":0,\"ticks\":\"\"}},\"type\":\"scattergeo\"}],\"scattergl\":[{\"marker\":{\"colorbar\":{\"outlinewidth\":0,\"ticks\":\"\"}},\"type\":\"scattergl\"}],\"scattermapbox\":[{\"marker\":{\"colorbar\":{\"outlinewidth\":0,\"ticks\":\"\"}},\"type\":\"scattermapbox\"}],\"scatterpolar\":[{\"marker\":{\"colorbar\":{\"outlinewidth\":0,\"ticks\":\"\"}},\"type\":\"scatterpolar\"}],\"scatterpolargl\":[{\"marker\":{\"colorbar\":{\"outlinewidth\":0,\"ticks\":\"\"}},\"type\":\"scatterpolargl\"}],\"scatterternary\":[{\"marker\":{\"colorbar\":{\"outlinewidth\":0,\"ticks\":\"\"}},\"type\":\"scatterternary\"}],\"surface\":[{\"colorbar\":{\"outlinewidth\":0,\"ticks\":\"\"},\"colorscale\":[[0.0,\"#0d0887\"],[0.1111111111111111,\"#46039f\"],[0.2222222222222222,\"#7201a8\"],[0.3333333333333333,\"#9c179e\"],[0.4444444444444444,\"#bd3786\"],[0.5555555555555556,\"#d8576b\"],[0.6666666666666666,\"#ed7953\"],[0.7777777777777778,\"#fb9f3a\"],[0.8888888888888888,\"#fdca26\"],[1.0,\"#f0f921\"]],\"type\":\"surface\"}],\"table\":[{\"cells\":{\"fill\":{\"color\":\"#EBF0F8\"},\"line\":{\"color\":\"white\"}},\"header\":{\"fill\":{\"color\":\"#C8D4E3\"},\"line\":{\"color\":\"white\"}},\"type\":\"table\"}]},\"layout\":{\"annotationdefaults\":{\"arrowcolor\":\"#2a3f5f\",\"arrowhead\":0,\"arrowwidth\":1},\"autotypenumbers\":\"strict\",\"coloraxis\":{\"colorbar\":{\"outlinewidth\":0,\"ticks\":\"\"}},\"colorscale\":{\"diverging\":[[0,\"#8e0152\"],[0.1,\"#c51b7d\"],[0.2,\"#de77ae\"],[0.3,\"#f1b6da\"],[0.4,\"#fde0ef\"],[0.5,\"#f7f7f7\"],[0.6,\"#e6f5d0\"],[0.7,\"#b8e186\"],[0.8,\"#7fbc41\"],[0.9,\"#4d9221\"],[1,\"#276419\"]],\"sequential\":[[0.0,\"#0d0887\"],[0.1111111111111111,\"#46039f\"],[0.2222222222222222,\"#7201a8\"],[0.3333333333333333,\"#9c179e\"],[0.4444444444444444,\"#bd3786\"],[0.5555555555555556,\"#d8576b\"],[0.6666666666666666,\"#ed7953\"],[0.7777777777777778,\"#fb9f3a\"],[0.8888888888888888,\"#fdca26\"],[1.0,\"#f0f921\"]],\"sequentialminus\":[[0.0,\"#0d0887\"],[0.1111111111111111,\"#46039f\"],[0.2222222222222222,\"#7201a8\"],[0.3333333333333333,\"#9c179e\"],[0.4444444444444444,\"#bd3786\"],[0.5555555555555556,\"#d8576b\"],[0.6666666666666666,\"#ed7953\"],[0.7777777777777778,\"#fb9f3a\"],[0.8888888888888888,\"#fdca26\"],[1.0,\"#f0f921\"]]},\"colorway\":[\"#636efa\",\"#EF553B\",\"#00cc96\",\"#ab63fa\",\"#FFA15A\",\"#19d3f3\",\"#FF6692\",\"#B6E880\",\"#FF97FF\",\"#FECB52\"],\"font\":{\"color\":\"#2a3f5f\"},\"geo\":{\"bgcolor\":\"white\",\"lakecolor\":\"white\",\"landcolor\":\"#E5ECF6\",\"showlakes\":true,\"showland\":true,\"subunitcolor\":\"white\"},\"hoverlabel\":{\"align\":\"left\"},\"hovermode\":\"closest\",\"mapbox\":{\"style\":\"light\"},\"paper_bgcolor\":\"white\",\"plot_bgcolor\":\"#E5ECF6\",\"polar\":{\"angularaxis\":{\"gridcolor\":\"white\",\"linecolor\":\"white\",\"ticks\":\"\"},\"bgcolor\":\"#E5ECF6\",\"radialaxis\":{\"gridcolor\":\"white\",\"linecolor\":\"white\",\"ticks\":\"\"}},\"scene\":{\"xaxis\":{\"backgroundcolor\":\"#E5ECF6\",\"gridcolor\":\"white\",\"gridwidth\":2,\"linecolor\":\"white\",\"showbackground\":true,\"ticks\":\"\",\"zerolinecolor\":\"white\"},\"yaxis\":{\"backgroundcolor\":\"#E5ECF6\",\"gridcolor\":\"white\",\"gridwidth\":2,\"linecolor\":\"white\",\"showbackground\":true,\"ticks\":\"\",\"zerolinecolor\":\"white\"},\"zaxis\":{\"backgroundcolor\":\"#E5ECF6\",\"gridcolor\":\"white\",\"gridwidth\":2,\"linecolor\":\"white\",\"showbackground\":true,\"ticks\":\"\",\"zerolinecolor\":\"white\"}},\"shapedefaults\":{\"line\":{\"color\":\"#2a3f5f\"}},\"ternary\":{\"aaxis\":{\"gridcolor\":\"white\",\"linecolor\":\"white\",\"ticks\":\"\"},\"baxis\":{\"gridcolor\":\"white\",\"linecolor\":\"white\",\"ticks\":\"\"},\"bgcolor\":\"#E5ECF6\",\"caxis\":{\"gridcolor\":\"white\",\"linecolor\":\"white\",\"ticks\":\"\"}},\"title\":{\"x\":0.05},\"xaxis\":{\"automargin\":true,\"gridcolor\":\"white\",\"linecolor\":\"white\",\"ticks\":\"\",\"title\":{\"standoff\":15},\"zerolinecolor\":\"white\",\"zerolinewidth\":2},\"yaxis\":{\"automargin\":true,\"gridcolor\":\"white\",\"linecolor\":\"white\",\"ticks\":\"\",\"title\":{\"standoff\":15},\"zerolinecolor\":\"white\",\"zerolinewidth\":2}}},\"xaxis\":{\"range\":[-60000000,60000000],\"ticktext\":[60000000,30000000,15000000,0,15000000,30000000,60000000],\"tickvals\":[-60000000,-30000000,-15000000,0,15000000,30000000,60000000],\"title\":{\"text\":\"Number\"}},\"yaxis\":{\"title\":{\"text\":\"Age\"}}},                        {\"responsive\": true}                    ).then(function(){\n",
       "                            \n",
       "var gd = document.getElementById('5969b6bc-6d77-457a-acbd-f84784d47f66');\n",
       "var x = new MutationObserver(function (mutations, observer) {{\n",
       "        var display = window.getComputedStyle(gd).display;\n",
       "        if (!display || display === 'none') {{\n",
       "            console.log([gd, 'removed!']);\n",
       "            Plotly.purge(gd);\n",
       "            observer.disconnect();\n",
       "        }}\n",
       "}});\n",
       "\n",
       "// Listen for the removal of the full notebook cells\n",
       "var notebookContainer = gd.closest('#notebook-container');\n",
       "if (notebookContainer) {{\n",
       "    x.observe(notebookContainer, {childList: true});\n",
       "}}\n",
       "\n",
       "// Listen for the clearing of the current output cell\n",
       "var outputEl = gd.closest('.output');\n",
       "if (outputEl) {{\n",
       "    x.observe(outputEl, {childList: true});\n",
       "}}\n",
       "\n",
       "                        })                };                });            </script>        </div>"
      ]
     },
     "metadata": {},
     "output_type": "display_data"
    }
   ],
   "source": [
    "## Population pyramid loose work \n",
    "import plotly.offline as py\n",
    "import plotly.graph_objs as go\n",
    "\n",
    "import numpy as np\n",
    "\n",
    "year = 2020\n",
    "\n",
    "women_bins = -df.loc[str(year),:].filter(regex=\"F:\").values\n",
    "men_bins = df.loc[str(year),:].filter(regex=\"M:\").values\n",
    "y = list(range(0, 100, 10))\n",
    "\n",
    "layout = go.Layout(yaxis=go.layout.YAxis(title='Age'),\n",
    "                   xaxis=go.layout.XAxis(\n",
    "                       range=[-60000000, 60000000],\n",
    "                       tickvals=[-60000000, -30000000, -15000000, 0, 15000000, 30000000, 60000000],\n",
    "                       ticktext=[60000000, 30000000, 15000000, 0, 15000000, 30000000, 60000000],\n",
    "                       title='Number'),\n",
    "                   barmode='overlay',\n",
    "                   bargap=0.1)\n",
    "\n",
    "data = [go.Bar(y=y,\n",
    "               x=men_bins,\n",
    "               orientation='h',\n",
    "               name='Men',\n",
    "               hoverinfo='x',\n",
    "               marker=dict(color='powderblue')\n",
    "               ),\n",
    "        go.Bar(y=y,\n",
    "               x=women_bins,\n",
    "               orientation='h',\n",
    "               name='Women',\n",
    "               text=-1 * women_bins.astype('int'),\n",
    "               hoverinfo='text',\n",
    "               marker=dict(color='seagreen')\n",
    "               )]\n",
    "\n",
    "py.iplot(dict(data=data, layout=layout))    \n"
   ]
  },
  {
   "cell_type": "code",
   "execution_count": null,
   "id": "5f02bb74",
   "metadata": {},
   "outputs": [],
   "source": [
    "## Population pyramid final func \n",
    "def pop_pyramid(df, year):"
   ]
  }
 ],
 "metadata": {
  "kernelspec": {
   "display_name": "Python 3 (ipykernel)",
   "language": "python",
   "name": "python3"
  },
  "language_info": {
   "codemirror_mode": {
    "name": "ipython",
    "version": 3
   },
   "file_extension": ".py",
   "mimetype": "text/x-python",
   "name": "python",
   "nbconvert_exporter": "python",
   "pygments_lexer": "ipython3",
   "version": "3.9.15"
  }
 },
 "nbformat": 4,
 "nbformat_minor": 5
}
