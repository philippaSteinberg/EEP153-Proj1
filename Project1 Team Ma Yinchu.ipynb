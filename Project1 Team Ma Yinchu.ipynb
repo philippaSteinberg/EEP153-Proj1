{
 "cells": [
  {
   "cell_type": "markdown",
   "id": "ba6d6860",
   "metadata": {},
   "source": [
    "# EEP153 Project1 Team Ma Yinchu"
   ]
  },
  {
   "cell_type": "markdown",
   "id": "b5785045",
   "metadata": {},
   "source": [
    "[description of topic and goals]"
   ]
  },
  {
   "cell_type": "code",
   "execution_count": 1,
   "id": "994e3cb5",
   "metadata": {},
   "outputs": [
    {
     "name": "stdout",
     "output_type": "stream",
     "text": [
      "Requirement already satisfied: wbdata in /Users/eddieguo/opt/anaconda3/lib/python3.9/site-packages (0.3.0)\n",
      "Requirement already satisfied: tabulate>=0.8.5 in /Users/eddieguo/opt/anaconda3/lib/python3.9/site-packages (from wbdata) (0.8.10)\n",
      "Requirement already satisfied: requests>=2.0 in /Users/eddieguo/opt/anaconda3/lib/python3.9/site-packages (from wbdata) (2.28.1)\n",
      "Requirement already satisfied: appdirs<2.0,>=1.4 in /Users/eddieguo/opt/anaconda3/lib/python3.9/site-packages (from wbdata) (1.4.4)\n",
      "Requirement already satisfied: decorator>=4.0 in /Users/eddieguo/opt/anaconda3/lib/python3.9/site-packages (from wbdata) (5.1.1)\n",
      "Requirement already satisfied: charset-normalizer<3,>=2 in /Users/eddieguo/opt/anaconda3/lib/python3.9/site-packages (from requests>=2.0->wbdata) (2.0.4)\n",
      "Requirement already satisfied: urllib3<1.27,>=1.21.1 in /Users/eddieguo/opt/anaconda3/lib/python3.9/site-packages (from requests>=2.0->wbdata) (1.26.14)\n",
      "Requirement already satisfied: idna<4,>=2.5 in /Users/eddieguo/opt/anaconda3/lib/python3.9/site-packages (from requests>=2.0->wbdata) (3.4)\n",
      "Requirement already satisfied: certifi>=2017.4.17 in /Users/eddieguo/opt/anaconda3/lib/python3.9/site-packages (from requests>=2.0->wbdata) (2022.12.7)\n"
     ]
    }
   ],
   "source": [
    "## Imports used so far \n",
    "!pip install wbdata\n",
    "import wbdata\n",
    "import numpy as np\n",
    "import pandas as pd\n",
    "import plotly.offline as py\n",
    "import plotly.graph_objects as go\n",
    "import wbdata"
   ]
  },
  {
   "cell_type": "code",
   "execution_count": 2,
   "id": "f4f3c407",
   "metadata": {},
   "outputs": [],
   "source": [
    "## Imports for plots\n",
    "# !pip install cufflinks\n",
    "# import cufflinks as cf\n",
    "# cf.go_offline()"
   ]
  },
  {
   "cell_type": "markdown",
   "id": "f08694e2",
   "metadata": {},
   "source": [
    "## Project Deliverables "
   ]
  },
  {
   "cell_type": "markdown",
   "id": "8ba8a2c3",
   "metadata": {},
   "source": [
    "### [#A] Population Statistics\n",
    "A `python` function named population\n",
    "that will deliver information to\n",
    "answer the queries of the following\n",
    "form:\n",
    "> In [year] how many\n",
    "[people/males/females] aged [low] to\n",
    "[high] were living in [the\n",
    "world/region/country]?"
   ]
  },
  {
   "cell_type": "code",
   "execution_count": 3,
   "id": "8c1c89e6",
   "metadata": {},
   "outputs": [],
   "source": [
    "def population_helper(sex, age_range):\n",
    "    \"\"\"Takes\n",
    "    - sex: a string, can be Male, Female or People\n",
    "    - age_range: a tuple\n",
    "    Return a dictionary of indicators with labels\n",
    "    \"\"\"\n",
    "    \n",
    "    # construct a list of age-ranges\n",
    "    age_ranges = []\n",
    "    for i in range(0,80,5):\n",
    "        if i >= age_range[0] and i + 4 <= age_range[1]:\n",
    "            age_ranges.append(f\"{i:02d}\"+f\"{i+4:02d}\")\n",
    "        if (i <= age_range[0] <= i + 4) or (i <= age_range[1] <= i + 4):\n",
    "            age_ranges.append(f\"{i:02d}\"+f\"{i+4:02d}\")\n",
    "    if age_range[1] >= 80:\n",
    "        age_ranges.append(\"80UP\")\n",
    "    \n",
    "    # construct a dictionary of indicators, with labels, that we want to grab\n",
    "    male = {\"SP.POP.\"+age_range+\".MA\":\"M:\"+age_range[:2]+'-'+age_range[2:] for age_range in age_ranges}\n",
    "    female = {\"SP.POP.\"+age_range+\".FE\":\"F:\"+age_range[:2]+'-'+age_range[2:] for age_range in age_ranges}\n",
    "    combined = {**male, **female}\n",
    "    sex_dict = {'Male':male,'Female':female,'People':combined}\n",
    "    return sex_dict[sex]"
   ]
  },
  {
   "cell_type": "code",
   "execution_count": 4,
   "id": "f485280d",
   "metadata": {},
   "outputs": [],
   "source": [
    "def population(year, sex, age_range, place):\n",
    "    \"\"\" Takes\n",
    "    - year: int\n",
    "    - sex: str, Male/Female/People\n",
    "    - age_range: tuple\n",
    "    - place: str, a three letter code\n",
    "    Return population given conditions above\n",
    "    \"\"\"\n",
    "\n",
    "    # construct a dataframe, indexed by date, with population counts for each indicator, filtered by `place`\n",
    "    variables = population_helper(sex, age_range)\n",
    "    df = wbdata.get_dataframe(variables, country=place)\n",
    "    \n",
    "    # sum all the desired population counts\n",
    "    population_sum = sum(df.filter(items = [str(year)], axis=0).iloc[0])\n",
    "    \n",
    "    print(f\"In {year} there were {population_sum} {sex}s aged {age_range[0]} to {age_range[1]} that were living in {place}.\")\n",
    "    \n",
    "    return population_sum"
   ]
  },
  {
   "cell_type": "markdown",
   "id": "737e9e98",
   "metadata": {},
   "source": [
    "Ex. In 2020, how many females aged 16 to 49 were living in Africa?"
   ]
  },
  {
   "cell_type": "code",
   "execution_count": 5,
   "id": "5ac8c368",
   "metadata": {},
   "outputs": [
    {
     "name": "stdout",
     "output_type": "stream",
     "text": [
      "In 2020 there were 166394541.0 Females aged 16 to 49 that were living in AFE.\n"
     ]
    }
   ],
   "source": [
    "answer = population(2020, 'Female', (16, 49), 'AFE')"
   ]
  },
  {
   "cell_type": "markdown",
   "id": "5a3adcca",
   "metadata": {},
   "source": [
    "### [#A] Population DataFrames"
   ]
  },
  {
   "cell_type": "markdown",
   "id": "bccfd5da",
   "metadata": {},
   "source": [
    "A function that returns a `pandas` DataFrame\n",
    "indexed by Region or Country and Year, with\n",
    "columns giving counts of people in different\n",
    "age-sex groups."
   ]
  },
  {
   "cell_type": "code",
   "execution_count": 6,
   "id": "808c2c7f",
   "metadata": {},
   "outputs": [],
   "source": [
    "def population_df(region):\n",
    "    \"\"\"Takes in 3 letter country code and returns a pandas DataFrame indexed by region and date, \n",
    "    with columns giving counts of people in different age-sex groups.\"\"\"\n",
    "    \n",
    "    # Get population data for region input\n",
    "    variable_labels = population_helper(sex='People',age_range=(0,100))\n",
    "    df = wbdata.get_dataframe(variable_labels, country = region)\n",
    "    \n",
    "    # Format DF and indices\n",
    "    df.reset_index(inplace = True)\n",
    "    df[\"Region\"] = region\n",
    "    df[\"date\"] = df[\"date\"].astype(int)\n",
    "    df.set_index([\"Region\", \"date\"], inplace = True)\n",
    "    return df"
   ]
  },
  {
   "cell_type": "code",
   "execution_count": 7,
   "id": "efecada1",
   "metadata": {},
   "outputs": [
    {
     "data": {
      "text/html": [
       "<div>\n",
       "<style scoped>\n",
       "    .dataframe tbody tr th:only-of-type {\n",
       "        vertical-align: middle;\n",
       "    }\n",
       "\n",
       "    .dataframe tbody tr th {\n",
       "        vertical-align: top;\n",
       "    }\n",
       "\n",
       "    .dataframe thead th {\n",
       "        text-align: right;\n",
       "    }\n",
       "</style>\n",
       "<table border=\"1\" class=\"dataframe\">\n",
       "  <thead>\n",
       "    <tr style=\"text-align: right;\">\n",
       "      <th></th>\n",
       "      <th></th>\n",
       "      <th>M:00-04</th>\n",
       "      <th>M:05-09</th>\n",
       "      <th>M:10-14</th>\n",
       "      <th>M:15-19</th>\n",
       "      <th>M:20-24</th>\n",
       "      <th>M:25-29</th>\n",
       "      <th>M:30-34</th>\n",
       "      <th>M:35-39</th>\n",
       "      <th>M:40-44</th>\n",
       "      <th>M:45-49</th>\n",
       "      <th>...</th>\n",
       "      <th>F:35-39</th>\n",
       "      <th>F:40-44</th>\n",
       "      <th>F:45-49</th>\n",
       "      <th>F:50-54</th>\n",
       "      <th>F:55-59</th>\n",
       "      <th>F:60-64</th>\n",
       "      <th>F:65-69</th>\n",
       "      <th>F:70-74</th>\n",
       "      <th>F:75-79</th>\n",
       "      <th>F:80-UP</th>\n",
       "    </tr>\n",
       "    <tr>\n",
       "      <th>Region</th>\n",
       "      <th>date</th>\n",
       "      <th></th>\n",
       "      <th></th>\n",
       "      <th></th>\n",
       "      <th></th>\n",
       "      <th></th>\n",
       "      <th></th>\n",
       "      <th></th>\n",
       "      <th></th>\n",
       "      <th></th>\n",
       "      <th></th>\n",
       "      <th></th>\n",
       "      <th></th>\n",
       "      <th></th>\n",
       "      <th></th>\n",
       "      <th></th>\n",
       "      <th></th>\n",
       "      <th></th>\n",
       "      <th></th>\n",
       "      <th></th>\n",
       "      <th></th>\n",
       "      <th></th>\n",
       "    </tr>\n",
       "  </thead>\n",
       "  <tbody>\n",
       "    <tr>\n",
       "      <th rowspan=\"11\" valign=\"top\">AFE</th>\n",
       "      <th>2021</th>\n",
       "      <td>54474934.0</td>\n",
       "      <td>48590005.0</td>\n",
       "      <td>43631748.0</td>\n",
       "      <td>37645093.0</td>\n",
       "      <td>32077598.0</td>\n",
       "      <td>27554198.0</td>\n",
       "      <td>23787250.0</td>\n",
       "      <td>19836395.0</td>\n",
       "      <td>15770587.0</td>\n",
       "      <td>12307798.0</td>\n",
       "      <td>...</td>\n",
       "      <td>20373836.0</td>\n",
       "      <td>16114329.0</td>\n",
       "      <td>12840580.0</td>\n",
       "      <td>10928926.0</td>\n",
       "      <td>8791191.0</td>\n",
       "      <td>6828373.0</td>\n",
       "      <td>5147052.0</td>\n",
       "      <td>3599557.0</td>\n",
       "      <td>2207210.0</td>\n",
       "      <td>1909063.0</td>\n",
       "    </tr>\n",
       "    <tr>\n",
       "      <th>2020</th>\n",
       "      <td>53461851.0</td>\n",
       "      <td>47709312.0</td>\n",
       "      <td>42575598.0</td>\n",
       "      <td>36563052.0</td>\n",
       "      <td>31250943.0</td>\n",
       "      <td>26824252.0</td>\n",
       "      <td>23186536.0</td>\n",
       "      <td>19161081.0</td>\n",
       "      <td>15076634.0</td>\n",
       "      <td>11954285.0</td>\n",
       "      <td>...</td>\n",
       "      <td>19607075.0</td>\n",
       "      <td>15395913.0</td>\n",
       "      <td>12524773.0</td>\n",
       "      <td>10625703.0</td>\n",
       "      <td>8505650.0</td>\n",
       "      <td>6613487.0</td>\n",
       "      <td>5007885.0</td>\n",
       "      <td>3491072.0</td>\n",
       "      <td>2131769.0</td>\n",
       "      <td>1872417.0</td>\n",
       "    </tr>\n",
       "    <tr>\n",
       "      <th>2019</th>\n",
       "      <td>52445829.0</td>\n",
       "      <td>46830488.0</td>\n",
       "      <td>41476275.0</td>\n",
       "      <td>35526881.0</td>\n",
       "      <td>30439607.0</td>\n",
       "      <td>26157013.0</td>\n",
       "      <td>22540445.0</td>\n",
       "      <td>18485600.0</td>\n",
       "      <td>14415738.0</td>\n",
       "      <td>11620415.0</td>\n",
       "      <td>...</td>\n",
       "      <td>18847517.0</td>\n",
       "      <td>14730960.0</td>\n",
       "      <td>12243730.0</td>\n",
       "      <td>10298215.0</td>\n",
       "      <td>8217134.0</td>\n",
       "      <td>6396462.0</td>\n",
       "      <td>4848496.0</td>\n",
       "      <td>3362927.0</td>\n",
       "      <td>2048886.0</td>\n",
       "      <td>1814665.0</td>\n",
       "    </tr>\n",
       "    <tr>\n",
       "      <th>2018</th>\n",
       "      <td>51462324.0</td>\n",
       "      <td>45959995.0</td>\n",
       "      <td>40339961.0</td>\n",
       "      <td>34553287.0</td>\n",
       "      <td>29672727.0</td>\n",
       "      <td>25565705.0</td>\n",
       "      <td>21859093.0</td>\n",
       "      <td>17803395.0</td>\n",
       "      <td>13828439.0</td>\n",
       "      <td>11294381.0</td>\n",
       "      <td>...</td>\n",
       "      <td>18101141.0</td>\n",
       "      <td>14153659.0</td>\n",
       "      <td>11978368.0</td>\n",
       "      <td>9960406.0</td>\n",
       "      <td>7931174.0</td>\n",
       "      <td>6185332.0</td>\n",
       "      <td>4677211.0</td>\n",
       "      <td>3224304.0</td>\n",
       "      <td>1967877.0</td>\n",
       "      <td>1750682.0</td>\n",
       "    </tr>\n",
       "    <tr>\n",
       "      <th>2017</th>\n",
       "      <td>50527950.0</td>\n",
       "      <td>45048010.0</td>\n",
       "      <td>39194652.0</td>\n",
       "      <td>33610378.0</td>\n",
       "      <td>28956812.0</td>\n",
       "      <td>25005637.0</td>\n",
       "      <td>21167835.0</td>\n",
       "      <td>17103010.0</td>\n",
       "      <td>13331062.0</td>\n",
       "      <td>10961721.0</td>\n",
       "      <td>...</td>\n",
       "      <td>17350716.0</td>\n",
       "      <td>13678514.0</td>\n",
       "      <td>11705198.0</td>\n",
       "      <td>9626161.0</td>\n",
       "      <td>7652897.0</td>\n",
       "      <td>5991427.0</td>\n",
       "      <td>4509749.0</td>\n",
       "      <td>3086225.0</td>\n",
       "      <td>1894203.0</td>\n",
       "      <td>1688213.0</td>\n",
       "    </tr>\n",
       "    <tr>\n",
       "      <th>...</th>\n",
       "      <td>...</td>\n",
       "      <td>...</td>\n",
       "      <td>...</td>\n",
       "      <td>...</td>\n",
       "      <td>...</td>\n",
       "      <td>...</td>\n",
       "      <td>...</td>\n",
       "      <td>...</td>\n",
       "      <td>...</td>\n",
       "      <td>...</td>\n",
       "      <td>...</td>\n",
       "      <td>...</td>\n",
       "      <td>...</td>\n",
       "      <td>...</td>\n",
       "      <td>...</td>\n",
       "      <td>...</td>\n",
       "      <td>...</td>\n",
       "      <td>...</td>\n",
       "      <td>...</td>\n",
       "      <td>...</td>\n",
       "      <td>...</td>\n",
       "    </tr>\n",
       "    <tr>\n",
       "      <th>1964</th>\n",
       "      <td>13473056.0</td>\n",
       "      <td>10457881.0</td>\n",
       "      <td>8700624.0</td>\n",
       "      <td>7371925.0</td>\n",
       "      <td>6056915.0</td>\n",
       "      <td>5140702.0</td>\n",
       "      <td>4429617.0</td>\n",
       "      <td>3793506.0</td>\n",
       "      <td>3196747.0</td>\n",
       "      <td>2634712.0</td>\n",
       "      <td>...</td>\n",
       "      <td>3908192.0</td>\n",
       "      <td>3255916.0</td>\n",
       "      <td>2680389.0</td>\n",
       "      <td>2196325.0</td>\n",
       "      <td>1777026.0</td>\n",
       "      <td>1387855.0</td>\n",
       "      <td>1007921.0</td>\n",
       "      <td>672056.0</td>\n",
       "      <td>388984.0</td>\n",
       "      <td>268313.0</td>\n",
       "    </tr>\n",
       "    <tr>\n",
       "      <th>1963</th>\n",
       "      <td>13062183.0</td>\n",
       "      <td>10138780.0</td>\n",
       "      <td>8455835.0</td>\n",
       "      <td>7145770.0</td>\n",
       "      <td>5879098.0</td>\n",
       "      <td>5026028.0</td>\n",
       "      <td>4340514.0</td>\n",
       "      <td>3713247.0</td>\n",
       "      <td>3127933.0</td>\n",
       "      <td>2575964.0</td>\n",
       "      <td>...</td>\n",
       "      <td>3808828.0</td>\n",
       "      <td>3174922.0</td>\n",
       "      <td>2612835.0</td>\n",
       "      <td>2143589.0</td>\n",
       "      <td>1734161.0</td>\n",
       "      <td>1349018.0</td>\n",
       "      <td>983494.0</td>\n",
       "      <td>655650.0</td>\n",
       "      <td>382154.0</td>\n",
       "      <td>263206.0</td>\n",
       "    </tr>\n",
       "    <tr>\n",
       "      <th>1962</th>\n",
       "      <td>12661185.0</td>\n",
       "      <td>9837633.0</td>\n",
       "      <td>8228078.0</td>\n",
       "      <td>6916635.0</td>\n",
       "      <td>5725665.0</td>\n",
       "      <td>4918510.0</td>\n",
       "      <td>4253645.0</td>\n",
       "      <td>3635546.0</td>\n",
       "      <td>3060163.0</td>\n",
       "      <td>2520717.0</td>\n",
       "      <td>...</td>\n",
       "      <td>3714069.0</td>\n",
       "      <td>3095416.0</td>\n",
       "      <td>2550083.0</td>\n",
       "      <td>2092686.0</td>\n",
       "      <td>1693058.0</td>\n",
       "      <td>1311157.0</td>\n",
       "      <td>960546.0</td>\n",
       "      <td>640343.0</td>\n",
       "      <td>375946.0</td>\n",
       "      <td>258394.0</td>\n",
       "    </tr>\n",
       "    <tr>\n",
       "      <th>1961</th>\n",
       "      <td>12271309.0</td>\n",
       "      <td>9547953.0</td>\n",
       "      <td>8020790.0</td>\n",
       "      <td>6684830.0</td>\n",
       "      <td>5586353.0</td>\n",
       "      <td>4814153.0</td>\n",
       "      <td>4166589.0</td>\n",
       "      <td>3558274.0</td>\n",
       "      <td>2992955.0</td>\n",
       "      <td>2465607.0</td>\n",
       "      <td>...</td>\n",
       "      <td>3622726.0</td>\n",
       "      <td>3017904.0</td>\n",
       "      <td>2489122.0</td>\n",
       "      <td>2043161.0</td>\n",
       "      <td>1652159.0</td>\n",
       "      <td>1275145.0</td>\n",
       "      <td>938330.0</td>\n",
       "      <td>626362.0</td>\n",
       "      <td>369833.0</td>\n",
       "      <td>253612.0</td>\n",
       "    </tr>\n",
       "    <tr>\n",
       "      <th>1960</th>\n",
       "      <td>11903046.0</td>\n",
       "      <td>9269956.0</td>\n",
       "      <td>7827606.0</td>\n",
       "      <td>6464521.0</td>\n",
       "      <td>5452406.0</td>\n",
       "      <td>4713060.0</td>\n",
       "      <td>4079665.0</td>\n",
       "      <td>3483816.0</td>\n",
       "      <td>2929035.0</td>\n",
       "      <td>2416431.0</td>\n",
       "      <td>...</td>\n",
       "      <td>3535856.0</td>\n",
       "      <td>2944196.0</td>\n",
       "      <td>2433461.0</td>\n",
       "      <td>1997927.0</td>\n",
       "      <td>1611564.0</td>\n",
       "      <td>1242066.0</td>\n",
       "      <td>916159.0</td>\n",
       "      <td>614569.0</td>\n",
       "      <td>363808.0</td>\n",
       "      <td>248982.0</td>\n",
       "    </tr>\n",
       "  </tbody>\n",
       "</table>\n",
       "<p>62 rows × 34 columns</p>\n",
       "</div>"
      ],
      "text/plain": [
       "                M:00-04     M:05-09     M:10-14     M:15-19     M:20-24  \\\n",
       "Region date                                                               \n",
       "AFE    2021  54474934.0  48590005.0  43631748.0  37645093.0  32077598.0   \n",
       "       2020  53461851.0  47709312.0  42575598.0  36563052.0  31250943.0   \n",
       "       2019  52445829.0  46830488.0  41476275.0  35526881.0  30439607.0   \n",
       "       2018  51462324.0  45959995.0  40339961.0  34553287.0  29672727.0   \n",
       "       2017  50527950.0  45048010.0  39194652.0  33610378.0  28956812.0   \n",
       "...                 ...         ...         ...         ...         ...   \n",
       "       1964  13473056.0  10457881.0   8700624.0   7371925.0   6056915.0   \n",
       "       1963  13062183.0  10138780.0   8455835.0   7145770.0   5879098.0   \n",
       "       1962  12661185.0   9837633.0   8228078.0   6916635.0   5725665.0   \n",
       "       1961  12271309.0   9547953.0   8020790.0   6684830.0   5586353.0   \n",
       "       1960  11903046.0   9269956.0   7827606.0   6464521.0   5452406.0   \n",
       "\n",
       "                M:25-29     M:30-34     M:35-39     M:40-44     M:45-49  ...  \\\n",
       "Region date                                                              ...   \n",
       "AFE    2021  27554198.0  23787250.0  19836395.0  15770587.0  12307798.0  ...   \n",
       "       2020  26824252.0  23186536.0  19161081.0  15076634.0  11954285.0  ...   \n",
       "       2019  26157013.0  22540445.0  18485600.0  14415738.0  11620415.0  ...   \n",
       "       2018  25565705.0  21859093.0  17803395.0  13828439.0  11294381.0  ...   \n",
       "       2017  25005637.0  21167835.0  17103010.0  13331062.0  10961721.0  ...   \n",
       "...                 ...         ...         ...         ...         ...  ...   \n",
       "       1964   5140702.0   4429617.0   3793506.0   3196747.0   2634712.0  ...   \n",
       "       1963   5026028.0   4340514.0   3713247.0   3127933.0   2575964.0  ...   \n",
       "       1962   4918510.0   4253645.0   3635546.0   3060163.0   2520717.0  ...   \n",
       "       1961   4814153.0   4166589.0   3558274.0   2992955.0   2465607.0  ...   \n",
       "       1960   4713060.0   4079665.0   3483816.0   2929035.0   2416431.0  ...   \n",
       "\n",
       "                F:35-39     F:40-44     F:45-49     F:50-54    F:55-59  \\\n",
       "Region date                                                              \n",
       "AFE    2021  20373836.0  16114329.0  12840580.0  10928926.0  8791191.0   \n",
       "       2020  19607075.0  15395913.0  12524773.0  10625703.0  8505650.0   \n",
       "       2019  18847517.0  14730960.0  12243730.0  10298215.0  8217134.0   \n",
       "       2018  18101141.0  14153659.0  11978368.0   9960406.0  7931174.0   \n",
       "       2017  17350716.0  13678514.0  11705198.0   9626161.0  7652897.0   \n",
       "...                 ...         ...         ...         ...        ...   \n",
       "       1964   3908192.0   3255916.0   2680389.0   2196325.0  1777026.0   \n",
       "       1963   3808828.0   3174922.0   2612835.0   2143589.0  1734161.0   \n",
       "       1962   3714069.0   3095416.0   2550083.0   2092686.0  1693058.0   \n",
       "       1961   3622726.0   3017904.0   2489122.0   2043161.0  1652159.0   \n",
       "       1960   3535856.0   2944196.0   2433461.0   1997927.0  1611564.0   \n",
       "\n",
       "               F:60-64    F:65-69    F:70-74    F:75-79    F:80-UP  \n",
       "Region date                                                         \n",
       "AFE    2021  6828373.0  5147052.0  3599557.0  2207210.0  1909063.0  \n",
       "       2020  6613487.0  5007885.0  3491072.0  2131769.0  1872417.0  \n",
       "       2019  6396462.0  4848496.0  3362927.0  2048886.0  1814665.0  \n",
       "       2018  6185332.0  4677211.0  3224304.0  1967877.0  1750682.0  \n",
       "       2017  5991427.0  4509749.0  3086225.0  1894203.0  1688213.0  \n",
       "...                ...        ...        ...        ...        ...  \n",
       "       1964  1387855.0  1007921.0   672056.0   388984.0   268313.0  \n",
       "       1963  1349018.0   983494.0   655650.0   382154.0   263206.0  \n",
       "       1962  1311157.0   960546.0   640343.0   375946.0   258394.0  \n",
       "       1961  1275145.0   938330.0   626362.0   369833.0   253612.0  \n",
       "       1960  1242066.0   916159.0   614569.0   363808.0   248982.0  \n",
       "\n",
       "[62 rows x 34 columns]"
      ]
     },
     "execution_count": 7,
     "metadata": {},
     "output_type": "execute_result"
    }
   ],
   "source": [
    "## Ex. Population dataframe for Africa\n",
    "pop_df_afe = population_df(\"AFE\")\n",
    "pop_df_afe"
   ]
  },
  {
   "cell_type": "markdown",
   "id": "b81832d9",
   "metadata": {},
   "source": [
    "### [#B] Population Pyramids"
   ]
  },
  {
   "cell_type": "markdown",
   "id": "24555c8c",
   "metadata": {},
   "source": [
    "A `python` function that takes as\n",
    "input a `pandas` DataFrame with\n",
    "columns providing counts of people by\n",
    "age-sex groups, and constructs a\n",
    "“population pyramid” graph for\n",
    "visualizing the data."
   ]
  },
  {
   "cell_type": "code",
   "execution_count": 8,
   "id": "e9ae7fc6",
   "metadata": {},
   "outputs": [],
   "source": [
    "def population_pyramid(df, year):\n",
    "    \"\"\" Takes\n",
    "    `df` a dataframe indexed by region and year, with columns''\n",
    "    `year` an int\n",
    "    \"\"\"\n",
    "    \n",
    "    py.init_notebook_mode(connected=True)\n",
    "    \n",
    "    # reset dataframe index to date/year\n",
    "    df2 = df.reset_index(level='Region', drop=True)\n",
    "    \n",
    "    age_ranges = []\n",
    "    for i in range(0,80,5):\n",
    "        age_ranges.append(f\"{i:02d}\"+f\"{i+4:02d}\")\n",
    "\n",
    "    age_ranges.append(\"80UP\")\n",
    "\n",
    "\n",
    "    layout = go.Layout(yaxis=go.layout.YAxis(range=[0, 90], title='Age'),\n",
    "                   xaxis=go.layout.XAxis(\n",
    "                       title='Number'),\n",
    "                   barmode='overlay',\n",
    "                   bargap=0.0)\n",
    "\n",
    "    data = [go.Bar(y=[int(s[:2])+1 for s in age_ranges],\n",
    "               x=df2.loc[year,:].filter(regex=\"M\").values,\n",
    "               orientation='h',\n",
    "               name='Male',\n",
    "               hoverinfo='x',\n",
    "               marker=dict(color='powderblue')\n",
    "               ),\n",
    "        go.Bar(y=[int(s[:2])+1 for s in age_ranges],\n",
    "               x=-df2.loc[year,:].filter(regex=\"F\").values,\n",
    "               orientation='h',\n",
    "               name='Female',\n",
    "               hoverinfo='x',\n",
    "               marker=dict(color='mediumpurple')\n",
    "               )]\n",
    "    \n",
    "    py.iplot(dict(data=data, layout=layout))\n",
    "    \n",
    "    return data\n"
   ]
  },
  {
   "cell_type": "code",
   "execution_count": 9,
   "id": "1f4787d0",
   "metadata": {},
   "outputs": [
    {
     "data": {
      "text/html": [
       "        <script type=\"text/javascript\">\n",
       "        window.PlotlyConfig = {MathJaxConfig: 'local'};\n",
       "        if (window.MathJax && window.MathJax.Hub && window.MathJax.Hub.Config) {window.MathJax.Hub.Config({SVG: {font: \"STIX-Web\"}});}\n",
       "        if (typeof require !== 'undefined') {\n",
       "        require.undef(\"plotly\");\n",
       "        requirejs.config({\n",
       "            paths: {\n",
       "                'plotly': ['https://cdn.plot.ly/plotly-2.12.1.min']\n",
       "            }\n",
       "        });\n",
       "        require(['plotly'], function(Plotly) {\n",
       "            window._Plotly = Plotly;\n",
       "        });\n",
       "        }\n",
       "        </script>\n",
       "        "
      ]
     },
     "metadata": {},
     "output_type": "display_data"
    },
    {
     "data": {
      "application/vnd.plotly.v1+json": {
       "config": {
        "linkText": "Export to plot.ly",
        "plotlyServerURL": "https://plot.ly",
        "showLink": false
       },
       "data": [
        {
         "hoverinfo": "x",
         "marker": {
          "color": "powderblue"
         },
         "name": "Male",
         "orientation": "h",
         "type": "bar",
         "x": [
          53461851,
          47709312,
          42575598,
          36563052,
          31250943,
          26824252,
          23186536,
          19161081,
          15076634,
          11954285,
          9627875,
          7279339,
          5359947,
          3937852,
          2665421,
          1511511,
          1077480
         ],
         "y": [
          1,
          6,
          11,
          16,
          21,
          26,
          31,
          36,
          41,
          46,
          51,
          56,
          61,
          66,
          71,
          76,
          81
         ]
        },
        {
         "hoverinfo": "x",
         "marker": {
          "color": "mediumpurple"
         },
         "name": "Female",
         "orientation": "h",
         "type": "bar",
         "x": [
          -52265991,
          -46911818,
          -42069398,
          -36335804,
          -31355868,
          -27330572,
          -23844536,
          -19607075,
          -15395913,
          -12524773,
          -10625703,
          -8505650,
          -6613487,
          -5007885,
          -3491072,
          -2131769,
          -1872417
         ],
         "y": [
          1,
          6,
          11,
          16,
          21,
          26,
          31,
          36,
          41,
          46,
          51,
          56,
          61,
          66,
          71,
          76,
          81
         ]
        }
       ],
       "layout": {
        "bargap": 0,
        "barmode": "overlay",
        "template": {
         "data": {
          "bar": [
           {
            "error_x": {
             "color": "#2a3f5f"
            },
            "error_y": {
             "color": "#2a3f5f"
            },
            "marker": {
             "line": {
              "color": "#E5ECF6",
              "width": 0.5
             },
             "pattern": {
              "fillmode": "overlay",
              "size": 10,
              "solidity": 0.2
             }
            },
            "type": "bar"
           }
          ],
          "barpolar": [
           {
            "marker": {
             "line": {
              "color": "#E5ECF6",
              "width": 0.5
             },
             "pattern": {
              "fillmode": "overlay",
              "size": 10,
              "solidity": 0.2
             }
            },
            "type": "barpolar"
           }
          ],
          "carpet": [
           {
            "aaxis": {
             "endlinecolor": "#2a3f5f",
             "gridcolor": "white",
             "linecolor": "white",
             "minorgridcolor": "white",
             "startlinecolor": "#2a3f5f"
            },
            "baxis": {
             "endlinecolor": "#2a3f5f",
             "gridcolor": "white",
             "linecolor": "white",
             "minorgridcolor": "white",
             "startlinecolor": "#2a3f5f"
            },
            "type": "carpet"
           }
          ],
          "choropleth": [
           {
            "colorbar": {
             "outlinewidth": 0,
             "ticks": ""
            },
            "type": "choropleth"
           }
          ],
          "contour": [
           {
            "colorbar": {
             "outlinewidth": 0,
             "ticks": ""
            },
            "colorscale": [
             [
              0,
              "#0d0887"
             ],
             [
              0.1111111111111111,
              "#46039f"
             ],
             [
              0.2222222222222222,
              "#7201a8"
             ],
             [
              0.3333333333333333,
              "#9c179e"
             ],
             [
              0.4444444444444444,
              "#bd3786"
             ],
             [
              0.5555555555555556,
              "#d8576b"
             ],
             [
              0.6666666666666666,
              "#ed7953"
             ],
             [
              0.7777777777777778,
              "#fb9f3a"
             ],
             [
              0.8888888888888888,
              "#fdca26"
             ],
             [
              1,
              "#f0f921"
             ]
            ],
            "type": "contour"
           }
          ],
          "contourcarpet": [
           {
            "colorbar": {
             "outlinewidth": 0,
             "ticks": ""
            },
            "type": "contourcarpet"
           }
          ],
          "heatmap": [
           {
            "colorbar": {
             "outlinewidth": 0,
             "ticks": ""
            },
            "colorscale": [
             [
              0,
              "#0d0887"
             ],
             [
              0.1111111111111111,
              "#46039f"
             ],
             [
              0.2222222222222222,
              "#7201a8"
             ],
             [
              0.3333333333333333,
              "#9c179e"
             ],
             [
              0.4444444444444444,
              "#bd3786"
             ],
             [
              0.5555555555555556,
              "#d8576b"
             ],
             [
              0.6666666666666666,
              "#ed7953"
             ],
             [
              0.7777777777777778,
              "#fb9f3a"
             ],
             [
              0.8888888888888888,
              "#fdca26"
             ],
             [
              1,
              "#f0f921"
             ]
            ],
            "type": "heatmap"
           }
          ],
          "heatmapgl": [
           {
            "colorbar": {
             "outlinewidth": 0,
             "ticks": ""
            },
            "colorscale": [
             [
              0,
              "#0d0887"
             ],
             [
              0.1111111111111111,
              "#46039f"
             ],
             [
              0.2222222222222222,
              "#7201a8"
             ],
             [
              0.3333333333333333,
              "#9c179e"
             ],
             [
              0.4444444444444444,
              "#bd3786"
             ],
             [
              0.5555555555555556,
              "#d8576b"
             ],
             [
              0.6666666666666666,
              "#ed7953"
             ],
             [
              0.7777777777777778,
              "#fb9f3a"
             ],
             [
              0.8888888888888888,
              "#fdca26"
             ],
             [
              1,
              "#f0f921"
             ]
            ],
            "type": "heatmapgl"
           }
          ],
          "histogram": [
           {
            "marker": {
             "pattern": {
              "fillmode": "overlay",
              "size": 10,
              "solidity": 0.2
             }
            },
            "type": "histogram"
           }
          ],
          "histogram2d": [
           {
            "colorbar": {
             "outlinewidth": 0,
             "ticks": ""
            },
            "colorscale": [
             [
              0,
              "#0d0887"
             ],
             [
              0.1111111111111111,
              "#46039f"
             ],
             [
              0.2222222222222222,
              "#7201a8"
             ],
             [
              0.3333333333333333,
              "#9c179e"
             ],
             [
              0.4444444444444444,
              "#bd3786"
             ],
             [
              0.5555555555555556,
              "#d8576b"
             ],
             [
              0.6666666666666666,
              "#ed7953"
             ],
             [
              0.7777777777777778,
              "#fb9f3a"
             ],
             [
              0.8888888888888888,
              "#fdca26"
             ],
             [
              1,
              "#f0f921"
             ]
            ],
            "type": "histogram2d"
           }
          ],
          "histogram2dcontour": [
           {
            "colorbar": {
             "outlinewidth": 0,
             "ticks": ""
            },
            "colorscale": [
             [
              0,
              "#0d0887"
             ],
             [
              0.1111111111111111,
              "#46039f"
             ],
             [
              0.2222222222222222,
              "#7201a8"
             ],
             [
              0.3333333333333333,
              "#9c179e"
             ],
             [
              0.4444444444444444,
              "#bd3786"
             ],
             [
              0.5555555555555556,
              "#d8576b"
             ],
             [
              0.6666666666666666,
              "#ed7953"
             ],
             [
              0.7777777777777778,
              "#fb9f3a"
             ],
             [
              0.8888888888888888,
              "#fdca26"
             ],
             [
              1,
              "#f0f921"
             ]
            ],
            "type": "histogram2dcontour"
           }
          ],
          "mesh3d": [
           {
            "colorbar": {
             "outlinewidth": 0,
             "ticks": ""
            },
            "type": "mesh3d"
           }
          ],
          "parcoords": [
           {
            "line": {
             "colorbar": {
              "outlinewidth": 0,
              "ticks": ""
             }
            },
            "type": "parcoords"
           }
          ],
          "pie": [
           {
            "automargin": true,
            "type": "pie"
           }
          ],
          "scatter": [
           {
            "fillpattern": {
             "fillmode": "overlay",
             "size": 10,
             "solidity": 0.2
            },
            "type": "scatter"
           }
          ],
          "scatter3d": [
           {
            "line": {
             "colorbar": {
              "outlinewidth": 0,
              "ticks": ""
             }
            },
            "marker": {
             "colorbar": {
              "outlinewidth": 0,
              "ticks": ""
             }
            },
            "type": "scatter3d"
           }
          ],
          "scattercarpet": [
           {
            "marker": {
             "colorbar": {
              "outlinewidth": 0,
              "ticks": ""
             }
            },
            "type": "scattercarpet"
           }
          ],
          "scattergeo": [
           {
            "marker": {
             "colorbar": {
              "outlinewidth": 0,
              "ticks": ""
             }
            },
            "type": "scattergeo"
           }
          ],
          "scattergl": [
           {
            "marker": {
             "colorbar": {
              "outlinewidth": 0,
              "ticks": ""
             }
            },
            "type": "scattergl"
           }
          ],
          "scattermapbox": [
           {
            "marker": {
             "colorbar": {
              "outlinewidth": 0,
              "ticks": ""
             }
            },
            "type": "scattermapbox"
           }
          ],
          "scatterpolar": [
           {
            "marker": {
             "colorbar": {
              "outlinewidth": 0,
              "ticks": ""
             }
            },
            "type": "scatterpolar"
           }
          ],
          "scatterpolargl": [
           {
            "marker": {
             "colorbar": {
              "outlinewidth": 0,
              "ticks": ""
             }
            },
            "type": "scatterpolargl"
           }
          ],
          "scatterternary": [
           {
            "marker": {
             "colorbar": {
              "outlinewidth": 0,
              "ticks": ""
             }
            },
            "type": "scatterternary"
           }
          ],
          "surface": [
           {
            "colorbar": {
             "outlinewidth": 0,
             "ticks": ""
            },
            "colorscale": [
             [
              0,
              "#0d0887"
             ],
             [
              0.1111111111111111,
              "#46039f"
             ],
             [
              0.2222222222222222,
              "#7201a8"
             ],
             [
              0.3333333333333333,
              "#9c179e"
             ],
             [
              0.4444444444444444,
              "#bd3786"
             ],
             [
              0.5555555555555556,
              "#d8576b"
             ],
             [
              0.6666666666666666,
              "#ed7953"
             ],
             [
              0.7777777777777778,
              "#fb9f3a"
             ],
             [
              0.8888888888888888,
              "#fdca26"
             ],
             [
              1,
              "#f0f921"
             ]
            ],
            "type": "surface"
           }
          ],
          "table": [
           {
            "cells": {
             "fill": {
              "color": "#EBF0F8"
             },
             "line": {
              "color": "white"
             }
            },
            "header": {
             "fill": {
              "color": "#C8D4E3"
             },
             "line": {
              "color": "white"
             }
            },
            "type": "table"
           }
          ]
         },
         "layout": {
          "annotationdefaults": {
           "arrowcolor": "#2a3f5f",
           "arrowhead": 0,
           "arrowwidth": 1
          },
          "autotypenumbers": "strict",
          "coloraxis": {
           "colorbar": {
            "outlinewidth": 0,
            "ticks": ""
           }
          },
          "colorscale": {
           "diverging": [
            [
             0,
             "#8e0152"
            ],
            [
             0.1,
             "#c51b7d"
            ],
            [
             0.2,
             "#de77ae"
            ],
            [
             0.3,
             "#f1b6da"
            ],
            [
             0.4,
             "#fde0ef"
            ],
            [
             0.5,
             "#f7f7f7"
            ],
            [
             0.6,
             "#e6f5d0"
            ],
            [
             0.7,
             "#b8e186"
            ],
            [
             0.8,
             "#7fbc41"
            ],
            [
             0.9,
             "#4d9221"
            ],
            [
             1,
             "#276419"
            ]
           ],
           "sequential": [
            [
             0,
             "#0d0887"
            ],
            [
             0.1111111111111111,
             "#46039f"
            ],
            [
             0.2222222222222222,
             "#7201a8"
            ],
            [
             0.3333333333333333,
             "#9c179e"
            ],
            [
             0.4444444444444444,
             "#bd3786"
            ],
            [
             0.5555555555555556,
             "#d8576b"
            ],
            [
             0.6666666666666666,
             "#ed7953"
            ],
            [
             0.7777777777777778,
             "#fb9f3a"
            ],
            [
             0.8888888888888888,
             "#fdca26"
            ],
            [
             1,
             "#f0f921"
            ]
           ],
           "sequentialminus": [
            [
             0,
             "#0d0887"
            ],
            [
             0.1111111111111111,
             "#46039f"
            ],
            [
             0.2222222222222222,
             "#7201a8"
            ],
            [
             0.3333333333333333,
             "#9c179e"
            ],
            [
             0.4444444444444444,
             "#bd3786"
            ],
            [
             0.5555555555555556,
             "#d8576b"
            ],
            [
             0.6666666666666666,
             "#ed7953"
            ],
            [
             0.7777777777777778,
             "#fb9f3a"
            ],
            [
             0.8888888888888888,
             "#fdca26"
            ],
            [
             1,
             "#f0f921"
            ]
           ]
          },
          "colorway": [
           "#636efa",
           "#EF553B",
           "#00cc96",
           "#ab63fa",
           "#FFA15A",
           "#19d3f3",
           "#FF6692",
           "#B6E880",
           "#FF97FF",
           "#FECB52"
          ],
          "font": {
           "color": "#2a3f5f"
          },
          "geo": {
           "bgcolor": "white",
           "lakecolor": "white",
           "landcolor": "#E5ECF6",
           "showlakes": true,
           "showland": true,
           "subunitcolor": "white"
          },
          "hoverlabel": {
           "align": "left"
          },
          "hovermode": "closest",
          "mapbox": {
           "style": "light"
          },
          "paper_bgcolor": "white",
          "plot_bgcolor": "#E5ECF6",
          "polar": {
           "angularaxis": {
            "gridcolor": "white",
            "linecolor": "white",
            "ticks": ""
           },
           "bgcolor": "#E5ECF6",
           "radialaxis": {
            "gridcolor": "white",
            "linecolor": "white",
            "ticks": ""
           }
          },
          "scene": {
           "xaxis": {
            "backgroundcolor": "#E5ECF6",
            "gridcolor": "white",
            "gridwidth": 2,
            "linecolor": "white",
            "showbackground": true,
            "ticks": "",
            "zerolinecolor": "white"
           },
           "yaxis": {
            "backgroundcolor": "#E5ECF6",
            "gridcolor": "white",
            "gridwidth": 2,
            "linecolor": "white",
            "showbackground": true,
            "ticks": "",
            "zerolinecolor": "white"
           },
           "zaxis": {
            "backgroundcolor": "#E5ECF6",
            "gridcolor": "white",
            "gridwidth": 2,
            "linecolor": "white",
            "showbackground": true,
            "ticks": "",
            "zerolinecolor": "white"
           }
          },
          "shapedefaults": {
           "line": {
            "color": "#2a3f5f"
           }
          },
          "ternary": {
           "aaxis": {
            "gridcolor": "white",
            "linecolor": "white",
            "ticks": ""
           },
           "baxis": {
            "gridcolor": "white",
            "linecolor": "white",
            "ticks": ""
           },
           "bgcolor": "#E5ECF6",
           "caxis": {
            "gridcolor": "white",
            "linecolor": "white",
            "ticks": ""
           }
          },
          "title": {
           "x": 0.05
          },
          "xaxis": {
           "automargin": true,
           "gridcolor": "white",
           "linecolor": "white",
           "ticks": "",
           "title": {
            "standoff": 15
           },
           "zerolinecolor": "white",
           "zerolinewidth": 2
          },
          "yaxis": {
           "automargin": true,
           "gridcolor": "white",
           "linecolor": "white",
           "ticks": "",
           "title": {
            "standoff": 15
           },
           "zerolinecolor": "white",
           "zerolinewidth": 2
          }
         }
        },
        "xaxis": {
         "title": {
          "text": "Number"
         }
        },
        "yaxis": {
         "range": [
          0,
          90
         ],
         "title": {
          "text": "Age"
         }
        }
       }
      },
      "text/html": [
       "<div>                            <div id=\"cf23395c-0e6e-4c80-8e11-c2b222af3694\" class=\"plotly-graph-div\" style=\"height:525px; width:100%;\"></div>            <script type=\"text/javascript\">                require([\"plotly\"], function(Plotly) {                    window.PLOTLYENV=window.PLOTLYENV || {};                                    if (document.getElementById(\"cf23395c-0e6e-4c80-8e11-c2b222af3694\")) {                    Plotly.newPlot(                        \"cf23395c-0e6e-4c80-8e11-c2b222af3694\",                        [{\"hoverinfo\":\"x\",\"marker\":{\"color\":\"powderblue\"},\"name\":\"Male\",\"orientation\":\"h\",\"x\":[53461851.0,47709312.0,42575598.0,36563052.0,31250943.0,26824252.0,23186536.0,19161081.0,15076634.0,11954285.0,9627875.0,7279339.0,5359947.0,3937852.0,2665421.0,1511511.0,1077480.0],\"y\":[1,6,11,16,21,26,31,36,41,46,51,56,61,66,71,76,81],\"type\":\"bar\"},{\"hoverinfo\":\"x\",\"marker\":{\"color\":\"mediumpurple\"},\"name\":\"Female\",\"orientation\":\"h\",\"x\":[-52265991.0,-46911818.0,-42069398.0,-36335804.0,-31355868.0,-27330572.0,-23844536.0,-19607075.0,-15395913.0,-12524773.0,-10625703.0,-8505650.0,-6613487.0,-5007885.0,-3491072.0,-2131769.0,-1872417.0],\"y\":[1,6,11,16,21,26,31,36,41,46,51,56,61,66,71,76,81],\"type\":\"bar\"}],                        {\"bargap\":0.0,\"barmode\":\"overlay\",\"template\":{\"data\":{\"barpolar\":[{\"marker\":{\"line\":{\"color\":\"#E5ECF6\",\"width\":0.5},\"pattern\":{\"fillmode\":\"overlay\",\"size\":10,\"solidity\":0.2}},\"type\":\"barpolar\"}],\"bar\":[{\"error_x\":{\"color\":\"#2a3f5f\"},\"error_y\":{\"color\":\"#2a3f5f\"},\"marker\":{\"line\":{\"color\":\"#E5ECF6\",\"width\":0.5},\"pattern\":{\"fillmode\":\"overlay\",\"size\":10,\"solidity\":0.2}},\"type\":\"bar\"}],\"carpet\":[{\"aaxis\":{\"endlinecolor\":\"#2a3f5f\",\"gridcolor\":\"white\",\"linecolor\":\"white\",\"minorgridcolor\":\"white\",\"startlinecolor\":\"#2a3f5f\"},\"baxis\":{\"endlinecolor\":\"#2a3f5f\",\"gridcolor\":\"white\",\"linecolor\":\"white\",\"minorgridcolor\":\"white\",\"startlinecolor\":\"#2a3f5f\"},\"type\":\"carpet\"}],\"choropleth\":[{\"colorbar\":{\"outlinewidth\":0,\"ticks\":\"\"},\"type\":\"choropleth\"}],\"contourcarpet\":[{\"colorbar\":{\"outlinewidth\":0,\"ticks\":\"\"},\"type\":\"contourcarpet\"}],\"contour\":[{\"colorbar\":{\"outlinewidth\":0,\"ticks\":\"\"},\"colorscale\":[[0.0,\"#0d0887\"],[0.1111111111111111,\"#46039f\"],[0.2222222222222222,\"#7201a8\"],[0.3333333333333333,\"#9c179e\"],[0.4444444444444444,\"#bd3786\"],[0.5555555555555556,\"#d8576b\"],[0.6666666666666666,\"#ed7953\"],[0.7777777777777778,\"#fb9f3a\"],[0.8888888888888888,\"#fdca26\"],[1.0,\"#f0f921\"]],\"type\":\"contour\"}],\"heatmapgl\":[{\"colorbar\":{\"outlinewidth\":0,\"ticks\":\"\"},\"colorscale\":[[0.0,\"#0d0887\"],[0.1111111111111111,\"#46039f\"],[0.2222222222222222,\"#7201a8\"],[0.3333333333333333,\"#9c179e\"],[0.4444444444444444,\"#bd3786\"],[0.5555555555555556,\"#d8576b\"],[0.6666666666666666,\"#ed7953\"],[0.7777777777777778,\"#fb9f3a\"],[0.8888888888888888,\"#fdca26\"],[1.0,\"#f0f921\"]],\"type\":\"heatmapgl\"}],\"heatmap\":[{\"colorbar\":{\"outlinewidth\":0,\"ticks\":\"\"},\"colorscale\":[[0.0,\"#0d0887\"],[0.1111111111111111,\"#46039f\"],[0.2222222222222222,\"#7201a8\"],[0.3333333333333333,\"#9c179e\"],[0.4444444444444444,\"#bd3786\"],[0.5555555555555556,\"#d8576b\"],[0.6666666666666666,\"#ed7953\"],[0.7777777777777778,\"#fb9f3a\"],[0.8888888888888888,\"#fdca26\"],[1.0,\"#f0f921\"]],\"type\":\"heatmap\"}],\"histogram2dcontour\":[{\"colorbar\":{\"outlinewidth\":0,\"ticks\":\"\"},\"colorscale\":[[0.0,\"#0d0887\"],[0.1111111111111111,\"#46039f\"],[0.2222222222222222,\"#7201a8\"],[0.3333333333333333,\"#9c179e\"],[0.4444444444444444,\"#bd3786\"],[0.5555555555555556,\"#d8576b\"],[0.6666666666666666,\"#ed7953\"],[0.7777777777777778,\"#fb9f3a\"],[0.8888888888888888,\"#fdca26\"],[1.0,\"#f0f921\"]],\"type\":\"histogram2dcontour\"}],\"histogram2d\":[{\"colorbar\":{\"outlinewidth\":0,\"ticks\":\"\"},\"colorscale\":[[0.0,\"#0d0887\"],[0.1111111111111111,\"#46039f\"],[0.2222222222222222,\"#7201a8\"],[0.3333333333333333,\"#9c179e\"],[0.4444444444444444,\"#bd3786\"],[0.5555555555555556,\"#d8576b\"],[0.6666666666666666,\"#ed7953\"],[0.7777777777777778,\"#fb9f3a\"],[0.8888888888888888,\"#fdca26\"],[1.0,\"#f0f921\"]],\"type\":\"histogram2d\"}],\"histogram\":[{\"marker\":{\"pattern\":{\"fillmode\":\"overlay\",\"size\":10,\"solidity\":0.2}},\"type\":\"histogram\"}],\"mesh3d\":[{\"colorbar\":{\"outlinewidth\":0,\"ticks\":\"\"},\"type\":\"mesh3d\"}],\"parcoords\":[{\"line\":{\"colorbar\":{\"outlinewidth\":0,\"ticks\":\"\"}},\"type\":\"parcoords\"}],\"pie\":[{\"automargin\":true,\"type\":\"pie\"}],\"scatter3d\":[{\"line\":{\"colorbar\":{\"outlinewidth\":0,\"ticks\":\"\"}},\"marker\":{\"colorbar\":{\"outlinewidth\":0,\"ticks\":\"\"}},\"type\":\"scatter3d\"}],\"scattercarpet\":[{\"marker\":{\"colorbar\":{\"outlinewidth\":0,\"ticks\":\"\"}},\"type\":\"scattercarpet\"}],\"scattergeo\":[{\"marker\":{\"colorbar\":{\"outlinewidth\":0,\"ticks\":\"\"}},\"type\":\"scattergeo\"}],\"scattergl\":[{\"marker\":{\"colorbar\":{\"outlinewidth\":0,\"ticks\":\"\"}},\"type\":\"scattergl\"}],\"scattermapbox\":[{\"marker\":{\"colorbar\":{\"outlinewidth\":0,\"ticks\":\"\"}},\"type\":\"scattermapbox\"}],\"scatterpolargl\":[{\"marker\":{\"colorbar\":{\"outlinewidth\":0,\"ticks\":\"\"}},\"type\":\"scatterpolargl\"}],\"scatterpolar\":[{\"marker\":{\"colorbar\":{\"outlinewidth\":0,\"ticks\":\"\"}},\"type\":\"scatterpolar\"}],\"scatter\":[{\"fillpattern\":{\"fillmode\":\"overlay\",\"size\":10,\"solidity\":0.2},\"type\":\"scatter\"}],\"scatterternary\":[{\"marker\":{\"colorbar\":{\"outlinewidth\":0,\"ticks\":\"\"}},\"type\":\"scatterternary\"}],\"surface\":[{\"colorbar\":{\"outlinewidth\":0,\"ticks\":\"\"},\"colorscale\":[[0.0,\"#0d0887\"],[0.1111111111111111,\"#46039f\"],[0.2222222222222222,\"#7201a8\"],[0.3333333333333333,\"#9c179e\"],[0.4444444444444444,\"#bd3786\"],[0.5555555555555556,\"#d8576b\"],[0.6666666666666666,\"#ed7953\"],[0.7777777777777778,\"#fb9f3a\"],[0.8888888888888888,\"#fdca26\"],[1.0,\"#f0f921\"]],\"type\":\"surface\"}],\"table\":[{\"cells\":{\"fill\":{\"color\":\"#EBF0F8\"},\"line\":{\"color\":\"white\"}},\"header\":{\"fill\":{\"color\":\"#C8D4E3\"},\"line\":{\"color\":\"white\"}},\"type\":\"table\"}]},\"layout\":{\"annotationdefaults\":{\"arrowcolor\":\"#2a3f5f\",\"arrowhead\":0,\"arrowwidth\":1},\"autotypenumbers\":\"strict\",\"coloraxis\":{\"colorbar\":{\"outlinewidth\":0,\"ticks\":\"\"}},\"colorscale\":{\"diverging\":[[0,\"#8e0152\"],[0.1,\"#c51b7d\"],[0.2,\"#de77ae\"],[0.3,\"#f1b6da\"],[0.4,\"#fde0ef\"],[0.5,\"#f7f7f7\"],[0.6,\"#e6f5d0\"],[0.7,\"#b8e186\"],[0.8,\"#7fbc41\"],[0.9,\"#4d9221\"],[1,\"#276419\"]],\"sequential\":[[0.0,\"#0d0887\"],[0.1111111111111111,\"#46039f\"],[0.2222222222222222,\"#7201a8\"],[0.3333333333333333,\"#9c179e\"],[0.4444444444444444,\"#bd3786\"],[0.5555555555555556,\"#d8576b\"],[0.6666666666666666,\"#ed7953\"],[0.7777777777777778,\"#fb9f3a\"],[0.8888888888888888,\"#fdca26\"],[1.0,\"#f0f921\"]],\"sequentialminus\":[[0.0,\"#0d0887\"],[0.1111111111111111,\"#46039f\"],[0.2222222222222222,\"#7201a8\"],[0.3333333333333333,\"#9c179e\"],[0.4444444444444444,\"#bd3786\"],[0.5555555555555556,\"#d8576b\"],[0.6666666666666666,\"#ed7953\"],[0.7777777777777778,\"#fb9f3a\"],[0.8888888888888888,\"#fdca26\"],[1.0,\"#f0f921\"]]},\"colorway\":[\"#636efa\",\"#EF553B\",\"#00cc96\",\"#ab63fa\",\"#FFA15A\",\"#19d3f3\",\"#FF6692\",\"#B6E880\",\"#FF97FF\",\"#FECB52\"],\"font\":{\"color\":\"#2a3f5f\"},\"geo\":{\"bgcolor\":\"white\",\"lakecolor\":\"white\",\"landcolor\":\"#E5ECF6\",\"showlakes\":true,\"showland\":true,\"subunitcolor\":\"white\"},\"hoverlabel\":{\"align\":\"left\"},\"hovermode\":\"closest\",\"mapbox\":{\"style\":\"light\"},\"paper_bgcolor\":\"white\",\"plot_bgcolor\":\"#E5ECF6\",\"polar\":{\"angularaxis\":{\"gridcolor\":\"white\",\"linecolor\":\"white\",\"ticks\":\"\"},\"bgcolor\":\"#E5ECF6\",\"radialaxis\":{\"gridcolor\":\"white\",\"linecolor\":\"white\",\"ticks\":\"\"}},\"scene\":{\"xaxis\":{\"backgroundcolor\":\"#E5ECF6\",\"gridcolor\":\"white\",\"gridwidth\":2,\"linecolor\":\"white\",\"showbackground\":true,\"ticks\":\"\",\"zerolinecolor\":\"white\"},\"yaxis\":{\"backgroundcolor\":\"#E5ECF6\",\"gridcolor\":\"white\",\"gridwidth\":2,\"linecolor\":\"white\",\"showbackground\":true,\"ticks\":\"\",\"zerolinecolor\":\"white\"},\"zaxis\":{\"backgroundcolor\":\"#E5ECF6\",\"gridcolor\":\"white\",\"gridwidth\":2,\"linecolor\":\"white\",\"showbackground\":true,\"ticks\":\"\",\"zerolinecolor\":\"white\"}},\"shapedefaults\":{\"line\":{\"color\":\"#2a3f5f\"}},\"ternary\":{\"aaxis\":{\"gridcolor\":\"white\",\"linecolor\":\"white\",\"ticks\":\"\"},\"baxis\":{\"gridcolor\":\"white\",\"linecolor\":\"white\",\"ticks\":\"\"},\"bgcolor\":\"#E5ECF6\",\"caxis\":{\"gridcolor\":\"white\",\"linecolor\":\"white\",\"ticks\":\"\"}},\"title\":{\"x\":0.05},\"xaxis\":{\"automargin\":true,\"gridcolor\":\"white\",\"linecolor\":\"white\",\"ticks\":\"\",\"title\":{\"standoff\":15},\"zerolinecolor\":\"white\",\"zerolinewidth\":2},\"yaxis\":{\"automargin\":true,\"gridcolor\":\"white\",\"linecolor\":\"white\",\"ticks\":\"\",\"title\":{\"standoff\":15},\"zerolinecolor\":\"white\",\"zerolinewidth\":2}}},\"xaxis\":{\"title\":{\"text\":\"Number\"}},\"yaxis\":{\"range\":[0,90],\"title\":{\"text\":\"Age\"}}},                        {\"responsive\": true}                    ).then(function(){\n",
       "                            \n",
       "var gd = document.getElementById('cf23395c-0e6e-4c80-8e11-c2b222af3694');\n",
       "var x = new MutationObserver(function (mutations, observer) {{\n",
       "        var display = window.getComputedStyle(gd).display;\n",
       "        if (!display || display === 'none') {{\n",
       "            console.log([gd, 'removed!']);\n",
       "            Plotly.purge(gd);\n",
       "            observer.disconnect();\n",
       "        }}\n",
       "}});\n",
       "\n",
       "// Listen for the removal of the full notebook cells\n",
       "var notebookContainer = gd.closest('#notebook-container');\n",
       "if (notebookContainer) {{\n",
       "    x.observe(notebookContainer, {childList: true});\n",
       "}}\n",
       "\n",
       "// Listen for the clearing of the current output cell\n",
       "var outputEl = gd.closest('.output');\n",
       "if (outputEl) {{\n",
       "    x.observe(outputEl, {childList: true});\n",
       "}}\n",
       "\n",
       "                        })                };                });            </script>        </div>"
      ]
     },
     "metadata": {},
     "output_type": "display_data"
    }
   ],
   "source": [
    "## Ex. Population pyramid for Africa in 2020\n",
    "pop_pyramid_afe_data = population_pyramid(pop_df_afe, 2020)"
   ]
  },
  {
   "cell_type": "markdown",
   "id": "4580c455",
   "metadata": {},
   "source": [
    "### [#C] Animated Population Pyramids "
   ]
  },
  {
   "cell_type": "markdown",
   "id": "c88a7422",
   "metadata": {},
   "source": [
    "Expected: A `python` function that takes as\n",
    "input a `pandas` DataFrame with\n",
    "columns providing counts of people by\n",
    "age-sex groups, with rows\n",
    "corresponding to different years, and\n",
    "constructs an animated “population\n",
    "pyramid” graph for visualizing how the\n",
    "population changes over time.\n",
    "\n",
    "Actual: A demo of an animated population pyramid"
   ]
  },
  {
   "cell_type": "code",
   "execution_count": 10,
   "id": "9a216feb",
   "metadata": {},
   "outputs": [],
   "source": [
    "# construct list of age-ranges\n",
    "age_ranges = []\n",
    "\n",
    "for i in range(0,80,5):\n",
    "    age_ranges.append(f\"{i:02d}\"+f\"{i+4:02d}\")\n",
    "\n",
    "age_ranges.append(\"80UP\")"
   ]
  },
  {
   "cell_type": "code",
   "execution_count": 11,
   "id": "c44f5eff",
   "metadata": {},
   "outputs": [],
   "source": [
    "# create a dictionary of indicators\n",
    "male_variables = {\"SP.POP.\"+age_range+\".MA\":\"Males \"+age_range for age_range in age_ranges}\n",
    "female_variables = {\"SP.POP.\"+age_range+\".FE\":\"Females \"+age_range for age_range in age_ranges}\n",
    "variables = male_variables\n",
    "variables.update(female_variables)"
   ]
  },
  {
   "cell_type": "code",
   "execution_count": 12,
   "id": "2b7c55d9",
   "metadata": {},
   "outputs": [
    {
     "data": {
      "text/html": [
       "<div>\n",
       "<style scoped>\n",
       "    .dataframe tbody tr th:only-of-type {\n",
       "        vertical-align: middle;\n",
       "    }\n",
       "\n",
       "    .dataframe tbody tr th {\n",
       "        vertical-align: top;\n",
       "    }\n",
       "\n",
       "    .dataframe thead th {\n",
       "        text-align: right;\n",
       "    }\n",
       "</style>\n",
       "<table border=\"1\" class=\"dataframe\">\n",
       "  <thead>\n",
       "    <tr style=\"text-align: right;\">\n",
       "      <th></th>\n",
       "      <th>Males 0004</th>\n",
       "      <th>Males 0509</th>\n",
       "      <th>Males 1014</th>\n",
       "      <th>Males 1519</th>\n",
       "      <th>Males 2024</th>\n",
       "      <th>Males 2529</th>\n",
       "      <th>Males 3034</th>\n",
       "      <th>Males 3539</th>\n",
       "      <th>Males 4044</th>\n",
       "      <th>Males 4549</th>\n",
       "      <th>...</th>\n",
       "      <th>Females 3539</th>\n",
       "      <th>Females 4044</th>\n",
       "      <th>Females 4549</th>\n",
       "      <th>Females 5054</th>\n",
       "      <th>Females 5559</th>\n",
       "      <th>Females 6064</th>\n",
       "      <th>Females 6569</th>\n",
       "      <th>Females 7074</th>\n",
       "      <th>Females 7579</th>\n",
       "      <th>Females 80UP</th>\n",
       "    </tr>\n",
       "    <tr>\n",
       "      <th>date</th>\n",
       "      <th></th>\n",
       "      <th></th>\n",
       "      <th></th>\n",
       "      <th></th>\n",
       "      <th></th>\n",
       "      <th></th>\n",
       "      <th></th>\n",
       "      <th></th>\n",
       "      <th></th>\n",
       "      <th></th>\n",
       "      <th></th>\n",
       "      <th></th>\n",
       "      <th></th>\n",
       "      <th></th>\n",
       "      <th></th>\n",
       "      <th></th>\n",
       "      <th></th>\n",
       "      <th></th>\n",
       "      <th></th>\n",
       "      <th></th>\n",
       "      <th></th>\n",
       "    </tr>\n",
       "  </thead>\n",
       "  <tbody>\n",
       "    <tr>\n",
       "      <th>2021</th>\n",
       "      <td>54474934.0</td>\n",
       "      <td>48590005.0</td>\n",
       "      <td>43631748.0</td>\n",
       "      <td>37645093.0</td>\n",
       "      <td>32077598.0</td>\n",
       "      <td>27554198.0</td>\n",
       "      <td>23787250.0</td>\n",
       "      <td>19836395.0</td>\n",
       "      <td>15770587.0</td>\n",
       "      <td>12307798.0</td>\n",
       "      <td>...</td>\n",
       "      <td>20373836.0</td>\n",
       "      <td>16114329.0</td>\n",
       "      <td>12840580.0</td>\n",
       "      <td>10928926.0</td>\n",
       "      <td>8791191.0</td>\n",
       "      <td>6828373.0</td>\n",
       "      <td>5147052.0</td>\n",
       "      <td>3599557.0</td>\n",
       "      <td>2207210.0</td>\n",
       "      <td>1909063.0</td>\n",
       "    </tr>\n",
       "    <tr>\n",
       "      <th>2020</th>\n",
       "      <td>53461851.0</td>\n",
       "      <td>47709312.0</td>\n",
       "      <td>42575598.0</td>\n",
       "      <td>36563052.0</td>\n",
       "      <td>31250943.0</td>\n",
       "      <td>26824252.0</td>\n",
       "      <td>23186536.0</td>\n",
       "      <td>19161081.0</td>\n",
       "      <td>15076634.0</td>\n",
       "      <td>11954285.0</td>\n",
       "      <td>...</td>\n",
       "      <td>19607075.0</td>\n",
       "      <td>15395913.0</td>\n",
       "      <td>12524773.0</td>\n",
       "      <td>10625703.0</td>\n",
       "      <td>8505650.0</td>\n",
       "      <td>6613487.0</td>\n",
       "      <td>5007885.0</td>\n",
       "      <td>3491072.0</td>\n",
       "      <td>2131769.0</td>\n",
       "      <td>1872417.0</td>\n",
       "    </tr>\n",
       "    <tr>\n",
       "      <th>2019</th>\n",
       "      <td>52445829.0</td>\n",
       "      <td>46830488.0</td>\n",
       "      <td>41476275.0</td>\n",
       "      <td>35526881.0</td>\n",
       "      <td>30439607.0</td>\n",
       "      <td>26157013.0</td>\n",
       "      <td>22540445.0</td>\n",
       "      <td>18485600.0</td>\n",
       "      <td>14415738.0</td>\n",
       "      <td>11620415.0</td>\n",
       "      <td>...</td>\n",
       "      <td>18847517.0</td>\n",
       "      <td>14730960.0</td>\n",
       "      <td>12243730.0</td>\n",
       "      <td>10298215.0</td>\n",
       "      <td>8217134.0</td>\n",
       "      <td>6396462.0</td>\n",
       "      <td>4848496.0</td>\n",
       "      <td>3362927.0</td>\n",
       "      <td>2048886.0</td>\n",
       "      <td>1814665.0</td>\n",
       "    </tr>\n",
       "    <tr>\n",
       "      <th>2018</th>\n",
       "      <td>51462324.0</td>\n",
       "      <td>45959995.0</td>\n",
       "      <td>40339961.0</td>\n",
       "      <td>34553287.0</td>\n",
       "      <td>29672727.0</td>\n",
       "      <td>25565705.0</td>\n",
       "      <td>21859093.0</td>\n",
       "      <td>17803395.0</td>\n",
       "      <td>13828439.0</td>\n",
       "      <td>11294381.0</td>\n",
       "      <td>...</td>\n",
       "      <td>18101141.0</td>\n",
       "      <td>14153659.0</td>\n",
       "      <td>11978368.0</td>\n",
       "      <td>9960406.0</td>\n",
       "      <td>7931174.0</td>\n",
       "      <td>6185332.0</td>\n",
       "      <td>4677211.0</td>\n",
       "      <td>3224304.0</td>\n",
       "      <td>1967877.0</td>\n",
       "      <td>1750682.0</td>\n",
       "    </tr>\n",
       "    <tr>\n",
       "      <th>2017</th>\n",
       "      <td>50527950.0</td>\n",
       "      <td>45048010.0</td>\n",
       "      <td>39194652.0</td>\n",
       "      <td>33610378.0</td>\n",
       "      <td>28956812.0</td>\n",
       "      <td>25005637.0</td>\n",
       "      <td>21167835.0</td>\n",
       "      <td>17103010.0</td>\n",
       "      <td>13331062.0</td>\n",
       "      <td>10961721.0</td>\n",
       "      <td>...</td>\n",
       "      <td>17350716.0</td>\n",
       "      <td>13678514.0</td>\n",
       "      <td>11705198.0</td>\n",
       "      <td>9626161.0</td>\n",
       "      <td>7652897.0</td>\n",
       "      <td>5991427.0</td>\n",
       "      <td>4509749.0</td>\n",
       "      <td>3086225.0</td>\n",
       "      <td>1894203.0</td>\n",
       "      <td>1688213.0</td>\n",
       "    </tr>\n",
       "    <tr>\n",
       "      <th>...</th>\n",
       "      <td>...</td>\n",
       "      <td>...</td>\n",
       "      <td>...</td>\n",
       "      <td>...</td>\n",
       "      <td>...</td>\n",
       "      <td>...</td>\n",
       "      <td>...</td>\n",
       "      <td>...</td>\n",
       "      <td>...</td>\n",
       "      <td>...</td>\n",
       "      <td>...</td>\n",
       "      <td>...</td>\n",
       "      <td>...</td>\n",
       "      <td>...</td>\n",
       "      <td>...</td>\n",
       "      <td>...</td>\n",
       "      <td>...</td>\n",
       "      <td>...</td>\n",
       "      <td>...</td>\n",
       "      <td>...</td>\n",
       "      <td>...</td>\n",
       "    </tr>\n",
       "    <tr>\n",
       "      <th>1964</th>\n",
       "      <td>13473056.0</td>\n",
       "      <td>10457881.0</td>\n",
       "      <td>8700624.0</td>\n",
       "      <td>7371925.0</td>\n",
       "      <td>6056915.0</td>\n",
       "      <td>5140702.0</td>\n",
       "      <td>4429617.0</td>\n",
       "      <td>3793506.0</td>\n",
       "      <td>3196747.0</td>\n",
       "      <td>2634712.0</td>\n",
       "      <td>...</td>\n",
       "      <td>3908192.0</td>\n",
       "      <td>3255916.0</td>\n",
       "      <td>2680389.0</td>\n",
       "      <td>2196325.0</td>\n",
       "      <td>1777026.0</td>\n",
       "      <td>1387855.0</td>\n",
       "      <td>1007921.0</td>\n",
       "      <td>672056.0</td>\n",
       "      <td>388984.0</td>\n",
       "      <td>268313.0</td>\n",
       "    </tr>\n",
       "    <tr>\n",
       "      <th>1963</th>\n",
       "      <td>13062183.0</td>\n",
       "      <td>10138780.0</td>\n",
       "      <td>8455835.0</td>\n",
       "      <td>7145770.0</td>\n",
       "      <td>5879098.0</td>\n",
       "      <td>5026028.0</td>\n",
       "      <td>4340514.0</td>\n",
       "      <td>3713247.0</td>\n",
       "      <td>3127933.0</td>\n",
       "      <td>2575964.0</td>\n",
       "      <td>...</td>\n",
       "      <td>3808828.0</td>\n",
       "      <td>3174922.0</td>\n",
       "      <td>2612835.0</td>\n",
       "      <td>2143589.0</td>\n",
       "      <td>1734161.0</td>\n",
       "      <td>1349018.0</td>\n",
       "      <td>983494.0</td>\n",
       "      <td>655650.0</td>\n",
       "      <td>382154.0</td>\n",
       "      <td>263206.0</td>\n",
       "    </tr>\n",
       "    <tr>\n",
       "      <th>1962</th>\n",
       "      <td>12661185.0</td>\n",
       "      <td>9837633.0</td>\n",
       "      <td>8228078.0</td>\n",
       "      <td>6916635.0</td>\n",
       "      <td>5725665.0</td>\n",
       "      <td>4918510.0</td>\n",
       "      <td>4253645.0</td>\n",
       "      <td>3635546.0</td>\n",
       "      <td>3060163.0</td>\n",
       "      <td>2520717.0</td>\n",
       "      <td>...</td>\n",
       "      <td>3714069.0</td>\n",
       "      <td>3095416.0</td>\n",
       "      <td>2550083.0</td>\n",
       "      <td>2092686.0</td>\n",
       "      <td>1693058.0</td>\n",
       "      <td>1311157.0</td>\n",
       "      <td>960546.0</td>\n",
       "      <td>640343.0</td>\n",
       "      <td>375946.0</td>\n",
       "      <td>258394.0</td>\n",
       "    </tr>\n",
       "    <tr>\n",
       "      <th>1961</th>\n",
       "      <td>12271309.0</td>\n",
       "      <td>9547953.0</td>\n",
       "      <td>8020790.0</td>\n",
       "      <td>6684830.0</td>\n",
       "      <td>5586353.0</td>\n",
       "      <td>4814153.0</td>\n",
       "      <td>4166589.0</td>\n",
       "      <td>3558274.0</td>\n",
       "      <td>2992955.0</td>\n",
       "      <td>2465607.0</td>\n",
       "      <td>...</td>\n",
       "      <td>3622726.0</td>\n",
       "      <td>3017904.0</td>\n",
       "      <td>2489122.0</td>\n",
       "      <td>2043161.0</td>\n",
       "      <td>1652159.0</td>\n",
       "      <td>1275145.0</td>\n",
       "      <td>938330.0</td>\n",
       "      <td>626362.0</td>\n",
       "      <td>369833.0</td>\n",
       "      <td>253612.0</td>\n",
       "    </tr>\n",
       "    <tr>\n",
       "      <th>1960</th>\n",
       "      <td>11903046.0</td>\n",
       "      <td>9269956.0</td>\n",
       "      <td>7827606.0</td>\n",
       "      <td>6464521.0</td>\n",
       "      <td>5452406.0</td>\n",
       "      <td>4713060.0</td>\n",
       "      <td>4079665.0</td>\n",
       "      <td>3483816.0</td>\n",
       "      <td>2929035.0</td>\n",
       "      <td>2416431.0</td>\n",
       "      <td>...</td>\n",
       "      <td>3535856.0</td>\n",
       "      <td>2944196.0</td>\n",
       "      <td>2433461.0</td>\n",
       "      <td>1997927.0</td>\n",
       "      <td>1611564.0</td>\n",
       "      <td>1242066.0</td>\n",
       "      <td>916159.0</td>\n",
       "      <td>614569.0</td>\n",
       "      <td>363808.0</td>\n",
       "      <td>248982.0</td>\n",
       "    </tr>\n",
       "  </tbody>\n",
       "</table>\n",
       "<p>62 rows × 34 columns</p>\n",
       "</div>"
      ],
      "text/plain": [
       "      Males 0004  Males 0509  Males 1014  Males 1519  Males 2024  Males 2529  \\\n",
       "date                                                                           \n",
       "2021  54474934.0  48590005.0  43631748.0  37645093.0  32077598.0  27554198.0   \n",
       "2020  53461851.0  47709312.0  42575598.0  36563052.0  31250943.0  26824252.0   \n",
       "2019  52445829.0  46830488.0  41476275.0  35526881.0  30439607.0  26157013.0   \n",
       "2018  51462324.0  45959995.0  40339961.0  34553287.0  29672727.0  25565705.0   \n",
       "2017  50527950.0  45048010.0  39194652.0  33610378.0  28956812.0  25005637.0   \n",
       "...          ...         ...         ...         ...         ...         ...   \n",
       "1964  13473056.0  10457881.0   8700624.0   7371925.0   6056915.0   5140702.0   \n",
       "1963  13062183.0  10138780.0   8455835.0   7145770.0   5879098.0   5026028.0   \n",
       "1962  12661185.0   9837633.0   8228078.0   6916635.0   5725665.0   4918510.0   \n",
       "1961  12271309.0   9547953.0   8020790.0   6684830.0   5586353.0   4814153.0   \n",
       "1960  11903046.0   9269956.0   7827606.0   6464521.0   5452406.0   4713060.0   \n",
       "\n",
       "      Males 3034  Males 3539  Males 4044  Males 4549  ...  Females 3539  \\\n",
       "date                                                  ...                 \n",
       "2021  23787250.0  19836395.0  15770587.0  12307798.0  ...    20373836.0   \n",
       "2020  23186536.0  19161081.0  15076634.0  11954285.0  ...    19607075.0   \n",
       "2019  22540445.0  18485600.0  14415738.0  11620415.0  ...    18847517.0   \n",
       "2018  21859093.0  17803395.0  13828439.0  11294381.0  ...    18101141.0   \n",
       "2017  21167835.0  17103010.0  13331062.0  10961721.0  ...    17350716.0   \n",
       "...          ...         ...         ...         ...  ...           ...   \n",
       "1964   4429617.0   3793506.0   3196747.0   2634712.0  ...     3908192.0   \n",
       "1963   4340514.0   3713247.0   3127933.0   2575964.0  ...     3808828.0   \n",
       "1962   4253645.0   3635546.0   3060163.0   2520717.0  ...     3714069.0   \n",
       "1961   4166589.0   3558274.0   2992955.0   2465607.0  ...     3622726.0   \n",
       "1960   4079665.0   3483816.0   2929035.0   2416431.0  ...     3535856.0   \n",
       "\n",
       "      Females 4044  Females 4549  Females 5054  Females 5559  Females 6064  \\\n",
       "date                                                                         \n",
       "2021    16114329.0    12840580.0    10928926.0     8791191.0     6828373.0   \n",
       "2020    15395913.0    12524773.0    10625703.0     8505650.0     6613487.0   \n",
       "2019    14730960.0    12243730.0    10298215.0     8217134.0     6396462.0   \n",
       "2018    14153659.0    11978368.0     9960406.0     7931174.0     6185332.0   \n",
       "2017    13678514.0    11705198.0     9626161.0     7652897.0     5991427.0   \n",
       "...            ...           ...           ...           ...           ...   \n",
       "1964     3255916.0     2680389.0     2196325.0     1777026.0     1387855.0   \n",
       "1963     3174922.0     2612835.0     2143589.0     1734161.0     1349018.0   \n",
       "1962     3095416.0     2550083.0     2092686.0     1693058.0     1311157.0   \n",
       "1961     3017904.0     2489122.0     2043161.0     1652159.0     1275145.0   \n",
       "1960     2944196.0     2433461.0     1997927.0     1611564.0     1242066.0   \n",
       "\n",
       "      Females 6569  Females 7074  Females 7579  Females 80UP  \n",
       "date                                                          \n",
       "2021     5147052.0     3599557.0     2207210.0     1909063.0  \n",
       "2020     5007885.0     3491072.0     2131769.0     1872417.0  \n",
       "2019     4848496.0     3362927.0     2048886.0     1814665.0  \n",
       "2018     4677211.0     3224304.0     1967877.0     1750682.0  \n",
       "2017     4509749.0     3086225.0     1894203.0     1688213.0  \n",
       "...            ...           ...           ...           ...  \n",
       "1964     1007921.0      672056.0      388984.0      268313.0  \n",
       "1963      983494.0      655650.0      382154.0      263206.0  \n",
       "1962      960546.0      640343.0      375946.0      258394.0  \n",
       "1961      938330.0      626362.0      369833.0      253612.0  \n",
       "1960      916159.0      614569.0      363808.0      248982.0  \n",
       "\n",
       "[62 rows x 34 columns]"
      ]
     },
     "execution_count": 12,
     "metadata": {},
     "output_type": "execute_result"
    }
   ],
   "source": [
    "df = wbdata.get_dataframe(variables, country=\"AFE\", cache = False)\n",
    "df"
   ]
  },
  {
   "cell_type": "code",
   "execution_count": 13,
   "id": "d5d5068c",
   "metadata": {},
   "outputs": [],
   "source": [
    "# create initial pyramid\n",
    "year = 1960\n",
    "data = [go.Bar(x = df.loc[str(year),:].filter(regex=\"Male\").values,\n",
    "           y = [int(s[:2])+1 for s in age_ranges],\n",
    "           orientation='h',\n",
    "           name='Men',\n",
    "           marker=dict(color='green'),\n",
    "           hoverinfo='skip'\n",
    "           ),\n",
    "    go.Bar(x = -df.loc[str(year),:].filter(regex=\"Female\").values,\n",
    "           y=[int(s[:2])+1 for s in age_ranges],\n",
    "           orientation='h',\n",
    "           name='Women',\n",
    "           marker=dict(color='pink'),\n",
    "           hoverinfo='skip',\n",
    "           )\n",
    "    ]\n"
   ]
  },
  {
   "cell_type": "code",
   "execution_count": 14,
   "id": "134d3c36",
   "metadata": {},
   "outputs": [],
   "source": [
    "# create a layout with our title \n",
    "layout = go.Layout(barmode='overlay',\n",
    "               yaxis=go.layout.YAxis(range=[0, 90], title='Age'),\n",
    "               xaxis=go.layout.XAxis(title='Number'))\n"
   ]
  },
  {
   "cell_type": "code",
   "execution_count": 15,
   "id": "349498c4",
   "metadata": {},
   "outputs": [],
   "source": [
    "# combine the graph_objects into a figure\n",
    "fig = go.Figure(data=data)"
   ]
  },
  {
   "cell_type": "code",
   "execution_count": 16,
   "id": "48b5f505",
   "metadata": {},
   "outputs": [
    {
     "data": {
      "application/vnd.plotly.v1+json": {
       "config": {
        "plotlyServerURL": "https://plot.ly"
       },
       "data": [
        {
         "hoverinfo": "skip",
         "marker": {
          "color": "green"
         },
         "name": "Men",
         "orientation": "h",
         "type": "bar",
         "x": [
          11903046,
          9269956,
          7827606,
          6464521,
          5452406,
          4713060,
          4079665,
          3483816,
          2929035,
          2416431,
          1953244,
          1515164,
          1089990,
          767560,
          500885,
          286341,
          186622
         ],
         "y": [
          1,
          6,
          11,
          16,
          21,
          26,
          31,
          36,
          41,
          46,
          51,
          56,
          61,
          66,
          71,
          76,
          81
         ]
        },
        {
         "hoverinfo": "skip",
         "marker": {
          "color": "pink"
         },
         "name": "Women",
         "orientation": "h",
         "type": "bar",
         "x": [
          -11781303,
          -9224178,
          -7760047,
          -6498502,
          -5594132,
          -4886704,
          -4199780,
          -3535856,
          -2944196,
          -2433461,
          -1997927,
          -1611564,
          -1242066,
          -916159,
          -614569,
          -363808,
          -248982
         ],
         "y": [
          1,
          6,
          11,
          16,
          21,
          26,
          31,
          36,
          41,
          46,
          51,
          56,
          61,
          66,
          71,
          76,
          81
         ]
        }
       ],
       "layout": {
        "template": {
         "data": {
          "bar": [
           {
            "error_x": {
             "color": "#2a3f5f"
            },
            "error_y": {
             "color": "#2a3f5f"
            },
            "marker": {
             "line": {
              "color": "#E5ECF6",
              "width": 0.5
             },
             "pattern": {
              "fillmode": "overlay",
              "size": 10,
              "solidity": 0.2
             }
            },
            "type": "bar"
           }
          ],
          "barpolar": [
           {
            "marker": {
             "line": {
              "color": "#E5ECF6",
              "width": 0.5
             },
             "pattern": {
              "fillmode": "overlay",
              "size": 10,
              "solidity": 0.2
             }
            },
            "type": "barpolar"
           }
          ],
          "carpet": [
           {
            "aaxis": {
             "endlinecolor": "#2a3f5f",
             "gridcolor": "white",
             "linecolor": "white",
             "minorgridcolor": "white",
             "startlinecolor": "#2a3f5f"
            },
            "baxis": {
             "endlinecolor": "#2a3f5f",
             "gridcolor": "white",
             "linecolor": "white",
             "minorgridcolor": "white",
             "startlinecolor": "#2a3f5f"
            },
            "type": "carpet"
           }
          ],
          "choropleth": [
           {
            "colorbar": {
             "outlinewidth": 0,
             "ticks": ""
            },
            "type": "choropleth"
           }
          ],
          "contour": [
           {
            "colorbar": {
             "outlinewidth": 0,
             "ticks": ""
            },
            "colorscale": [
             [
              0,
              "#0d0887"
             ],
             [
              0.1111111111111111,
              "#46039f"
             ],
             [
              0.2222222222222222,
              "#7201a8"
             ],
             [
              0.3333333333333333,
              "#9c179e"
             ],
             [
              0.4444444444444444,
              "#bd3786"
             ],
             [
              0.5555555555555556,
              "#d8576b"
             ],
             [
              0.6666666666666666,
              "#ed7953"
             ],
             [
              0.7777777777777778,
              "#fb9f3a"
             ],
             [
              0.8888888888888888,
              "#fdca26"
             ],
             [
              1,
              "#f0f921"
             ]
            ],
            "type": "contour"
           }
          ],
          "contourcarpet": [
           {
            "colorbar": {
             "outlinewidth": 0,
             "ticks": ""
            },
            "type": "contourcarpet"
           }
          ],
          "heatmap": [
           {
            "colorbar": {
             "outlinewidth": 0,
             "ticks": ""
            },
            "colorscale": [
             [
              0,
              "#0d0887"
             ],
             [
              0.1111111111111111,
              "#46039f"
             ],
             [
              0.2222222222222222,
              "#7201a8"
             ],
             [
              0.3333333333333333,
              "#9c179e"
             ],
             [
              0.4444444444444444,
              "#bd3786"
             ],
             [
              0.5555555555555556,
              "#d8576b"
             ],
             [
              0.6666666666666666,
              "#ed7953"
             ],
             [
              0.7777777777777778,
              "#fb9f3a"
             ],
             [
              0.8888888888888888,
              "#fdca26"
             ],
             [
              1,
              "#f0f921"
             ]
            ],
            "type": "heatmap"
           }
          ],
          "heatmapgl": [
           {
            "colorbar": {
             "outlinewidth": 0,
             "ticks": ""
            },
            "colorscale": [
             [
              0,
              "#0d0887"
             ],
             [
              0.1111111111111111,
              "#46039f"
             ],
             [
              0.2222222222222222,
              "#7201a8"
             ],
             [
              0.3333333333333333,
              "#9c179e"
             ],
             [
              0.4444444444444444,
              "#bd3786"
             ],
             [
              0.5555555555555556,
              "#d8576b"
             ],
             [
              0.6666666666666666,
              "#ed7953"
             ],
             [
              0.7777777777777778,
              "#fb9f3a"
             ],
             [
              0.8888888888888888,
              "#fdca26"
             ],
             [
              1,
              "#f0f921"
             ]
            ],
            "type": "heatmapgl"
           }
          ],
          "histogram": [
           {
            "marker": {
             "pattern": {
              "fillmode": "overlay",
              "size": 10,
              "solidity": 0.2
             }
            },
            "type": "histogram"
           }
          ],
          "histogram2d": [
           {
            "colorbar": {
             "outlinewidth": 0,
             "ticks": ""
            },
            "colorscale": [
             [
              0,
              "#0d0887"
             ],
             [
              0.1111111111111111,
              "#46039f"
             ],
             [
              0.2222222222222222,
              "#7201a8"
             ],
             [
              0.3333333333333333,
              "#9c179e"
             ],
             [
              0.4444444444444444,
              "#bd3786"
             ],
             [
              0.5555555555555556,
              "#d8576b"
             ],
             [
              0.6666666666666666,
              "#ed7953"
             ],
             [
              0.7777777777777778,
              "#fb9f3a"
             ],
             [
              0.8888888888888888,
              "#fdca26"
             ],
             [
              1,
              "#f0f921"
             ]
            ],
            "type": "histogram2d"
           }
          ],
          "histogram2dcontour": [
           {
            "colorbar": {
             "outlinewidth": 0,
             "ticks": ""
            },
            "colorscale": [
             [
              0,
              "#0d0887"
             ],
             [
              0.1111111111111111,
              "#46039f"
             ],
             [
              0.2222222222222222,
              "#7201a8"
             ],
             [
              0.3333333333333333,
              "#9c179e"
             ],
             [
              0.4444444444444444,
              "#bd3786"
             ],
             [
              0.5555555555555556,
              "#d8576b"
             ],
             [
              0.6666666666666666,
              "#ed7953"
             ],
             [
              0.7777777777777778,
              "#fb9f3a"
             ],
             [
              0.8888888888888888,
              "#fdca26"
             ],
             [
              1,
              "#f0f921"
             ]
            ],
            "type": "histogram2dcontour"
           }
          ],
          "mesh3d": [
           {
            "colorbar": {
             "outlinewidth": 0,
             "ticks": ""
            },
            "type": "mesh3d"
           }
          ],
          "parcoords": [
           {
            "line": {
             "colorbar": {
              "outlinewidth": 0,
              "ticks": ""
             }
            },
            "type": "parcoords"
           }
          ],
          "pie": [
           {
            "automargin": true,
            "type": "pie"
           }
          ],
          "scatter": [
           {
            "fillpattern": {
             "fillmode": "overlay",
             "size": 10,
             "solidity": 0.2
            },
            "type": "scatter"
           }
          ],
          "scatter3d": [
           {
            "line": {
             "colorbar": {
              "outlinewidth": 0,
              "ticks": ""
             }
            },
            "marker": {
             "colorbar": {
              "outlinewidth": 0,
              "ticks": ""
             }
            },
            "type": "scatter3d"
           }
          ],
          "scattercarpet": [
           {
            "marker": {
             "colorbar": {
              "outlinewidth": 0,
              "ticks": ""
             }
            },
            "type": "scattercarpet"
           }
          ],
          "scattergeo": [
           {
            "marker": {
             "colorbar": {
              "outlinewidth": 0,
              "ticks": ""
             }
            },
            "type": "scattergeo"
           }
          ],
          "scattergl": [
           {
            "marker": {
             "colorbar": {
              "outlinewidth": 0,
              "ticks": ""
             }
            },
            "type": "scattergl"
           }
          ],
          "scattermapbox": [
           {
            "marker": {
             "colorbar": {
              "outlinewidth": 0,
              "ticks": ""
             }
            },
            "type": "scattermapbox"
           }
          ],
          "scatterpolar": [
           {
            "marker": {
             "colorbar": {
              "outlinewidth": 0,
              "ticks": ""
             }
            },
            "type": "scatterpolar"
           }
          ],
          "scatterpolargl": [
           {
            "marker": {
             "colorbar": {
              "outlinewidth": 0,
              "ticks": ""
             }
            },
            "type": "scatterpolargl"
           }
          ],
          "scatterternary": [
           {
            "marker": {
             "colorbar": {
              "outlinewidth": 0,
              "ticks": ""
             }
            },
            "type": "scatterternary"
           }
          ],
          "surface": [
           {
            "colorbar": {
             "outlinewidth": 0,
             "ticks": ""
            },
            "colorscale": [
             [
              0,
              "#0d0887"
             ],
             [
              0.1111111111111111,
              "#46039f"
             ],
             [
              0.2222222222222222,
              "#7201a8"
             ],
             [
              0.3333333333333333,
              "#9c179e"
             ],
             [
              0.4444444444444444,
              "#bd3786"
             ],
             [
              0.5555555555555556,
              "#d8576b"
             ],
             [
              0.6666666666666666,
              "#ed7953"
             ],
             [
              0.7777777777777778,
              "#fb9f3a"
             ],
             [
              0.8888888888888888,
              "#fdca26"
             ],
             [
              1,
              "#f0f921"
             ]
            ],
            "type": "surface"
           }
          ],
          "table": [
           {
            "cells": {
             "fill": {
              "color": "#EBF0F8"
             },
             "line": {
              "color": "white"
             }
            },
            "header": {
             "fill": {
              "color": "#C8D4E3"
             },
             "line": {
              "color": "white"
             }
            },
            "type": "table"
           }
          ]
         },
         "layout": {
          "annotationdefaults": {
           "arrowcolor": "#2a3f5f",
           "arrowhead": 0,
           "arrowwidth": 1
          },
          "autotypenumbers": "strict",
          "coloraxis": {
           "colorbar": {
            "outlinewidth": 0,
            "ticks": ""
           }
          },
          "colorscale": {
           "diverging": [
            [
             0,
             "#8e0152"
            ],
            [
             0.1,
             "#c51b7d"
            ],
            [
             0.2,
             "#de77ae"
            ],
            [
             0.3,
             "#f1b6da"
            ],
            [
             0.4,
             "#fde0ef"
            ],
            [
             0.5,
             "#f7f7f7"
            ],
            [
             0.6,
             "#e6f5d0"
            ],
            [
             0.7,
             "#b8e186"
            ],
            [
             0.8,
             "#7fbc41"
            ],
            [
             0.9,
             "#4d9221"
            ],
            [
             1,
             "#276419"
            ]
           ],
           "sequential": [
            [
             0,
             "#0d0887"
            ],
            [
             0.1111111111111111,
             "#46039f"
            ],
            [
             0.2222222222222222,
             "#7201a8"
            ],
            [
             0.3333333333333333,
             "#9c179e"
            ],
            [
             0.4444444444444444,
             "#bd3786"
            ],
            [
             0.5555555555555556,
             "#d8576b"
            ],
            [
             0.6666666666666666,
             "#ed7953"
            ],
            [
             0.7777777777777778,
             "#fb9f3a"
            ],
            [
             0.8888888888888888,
             "#fdca26"
            ],
            [
             1,
             "#f0f921"
            ]
           ],
           "sequentialminus": [
            [
             0,
             "#0d0887"
            ],
            [
             0.1111111111111111,
             "#46039f"
            ],
            [
             0.2222222222222222,
             "#7201a8"
            ],
            [
             0.3333333333333333,
             "#9c179e"
            ],
            [
             0.4444444444444444,
             "#bd3786"
            ],
            [
             0.5555555555555556,
             "#d8576b"
            ],
            [
             0.6666666666666666,
             "#ed7953"
            ],
            [
             0.7777777777777778,
             "#fb9f3a"
            ],
            [
             0.8888888888888888,
             "#fdca26"
            ],
            [
             1,
             "#f0f921"
            ]
           ]
          },
          "colorway": [
           "#636efa",
           "#EF553B",
           "#00cc96",
           "#ab63fa",
           "#FFA15A",
           "#19d3f3",
           "#FF6692",
           "#B6E880",
           "#FF97FF",
           "#FECB52"
          ],
          "font": {
           "color": "#2a3f5f"
          },
          "geo": {
           "bgcolor": "white",
           "lakecolor": "white",
           "landcolor": "#E5ECF6",
           "showlakes": true,
           "showland": true,
           "subunitcolor": "white"
          },
          "hoverlabel": {
           "align": "left"
          },
          "hovermode": "closest",
          "mapbox": {
           "style": "light"
          },
          "paper_bgcolor": "white",
          "plot_bgcolor": "#E5ECF6",
          "polar": {
           "angularaxis": {
            "gridcolor": "white",
            "linecolor": "white",
            "ticks": ""
           },
           "bgcolor": "#E5ECF6",
           "radialaxis": {
            "gridcolor": "white",
            "linecolor": "white",
            "ticks": ""
           }
          },
          "scene": {
           "xaxis": {
            "backgroundcolor": "#E5ECF6",
            "gridcolor": "white",
            "gridwidth": 2,
            "linecolor": "white",
            "showbackground": true,
            "ticks": "",
            "zerolinecolor": "white"
           },
           "yaxis": {
            "backgroundcolor": "#E5ECF6",
            "gridcolor": "white",
            "gridwidth": 2,
            "linecolor": "white",
            "showbackground": true,
            "ticks": "",
            "zerolinecolor": "white"
           },
           "zaxis": {
            "backgroundcolor": "#E5ECF6",
            "gridcolor": "white",
            "gridwidth": 2,
            "linecolor": "white",
            "showbackground": true,
            "ticks": "",
            "zerolinecolor": "white"
           }
          },
          "shapedefaults": {
           "line": {
            "color": "#2a3f5f"
           }
          },
          "ternary": {
           "aaxis": {
            "gridcolor": "white",
            "linecolor": "white",
            "ticks": ""
           },
           "baxis": {
            "gridcolor": "white",
            "linecolor": "white",
            "ticks": ""
           },
           "bgcolor": "#E5ECF6",
           "caxis": {
            "gridcolor": "white",
            "linecolor": "white",
            "ticks": ""
           }
          },
          "title": {
           "x": 0.05
          },
          "xaxis": {
           "automargin": true,
           "gridcolor": "white",
           "linecolor": "white",
           "ticks": "",
           "title": {
            "standoff": 15
           },
           "zerolinecolor": "white",
           "zerolinewidth": 2
          },
          "yaxis": {
           "automargin": true,
           "gridcolor": "white",
           "linecolor": "white",
           "ticks": "",
           "title": {
            "standoff": 15
           },
           "zerolinecolor": "white",
           "zerolinewidth": 2
          }
         }
        }
       }
      },
      "text/html": [
       "<div>                            <div id=\"83925956-bec5-4af4-ad0f-48f2585a795e\" class=\"plotly-graph-div\" style=\"height:525px; width:100%;\"></div>            <script type=\"text/javascript\">                require([\"plotly\"], function(Plotly) {                    window.PLOTLYENV=window.PLOTLYENV || {};                                    if (document.getElementById(\"83925956-bec5-4af4-ad0f-48f2585a795e\")) {                    Plotly.newPlot(                        \"83925956-bec5-4af4-ad0f-48f2585a795e\",                        [{\"hoverinfo\":\"skip\",\"marker\":{\"color\":\"green\"},\"name\":\"Men\",\"orientation\":\"h\",\"x\":[11903046.0,9269956.0,7827606.0,6464521.0,5452406.0,4713060.0,4079665.0,3483816.0,2929035.0,2416431.0,1953244.0,1515164.0,1089990.0,767560.0,500885.0,286341.0,186622.0],\"y\":[1,6,11,16,21,26,31,36,41,46,51,56,61,66,71,76,81],\"type\":\"bar\"},{\"hoverinfo\":\"skip\",\"marker\":{\"color\":\"pink\"},\"name\":\"Women\",\"orientation\":\"h\",\"x\":[-11781303.0,-9224178.0,-7760047.0,-6498502.0,-5594132.0,-4886704.0,-4199780.0,-3535856.0,-2944196.0,-2433461.0,-1997927.0,-1611564.0,-1242066.0,-916159.0,-614569.0,-363808.0,-248982.0],\"y\":[1,6,11,16,21,26,31,36,41,46,51,56,61,66,71,76,81],\"type\":\"bar\"}],                        {\"template\":{\"data\":{\"histogram2dcontour\":[{\"type\":\"histogram2dcontour\",\"colorbar\":{\"outlinewidth\":0,\"ticks\":\"\"},\"colorscale\":[[0.0,\"#0d0887\"],[0.1111111111111111,\"#46039f\"],[0.2222222222222222,\"#7201a8\"],[0.3333333333333333,\"#9c179e\"],[0.4444444444444444,\"#bd3786\"],[0.5555555555555556,\"#d8576b\"],[0.6666666666666666,\"#ed7953\"],[0.7777777777777778,\"#fb9f3a\"],[0.8888888888888888,\"#fdca26\"],[1.0,\"#f0f921\"]]}],\"choropleth\":[{\"type\":\"choropleth\",\"colorbar\":{\"outlinewidth\":0,\"ticks\":\"\"}}],\"histogram2d\":[{\"type\":\"histogram2d\",\"colorbar\":{\"outlinewidth\":0,\"ticks\":\"\"},\"colorscale\":[[0.0,\"#0d0887\"],[0.1111111111111111,\"#46039f\"],[0.2222222222222222,\"#7201a8\"],[0.3333333333333333,\"#9c179e\"],[0.4444444444444444,\"#bd3786\"],[0.5555555555555556,\"#d8576b\"],[0.6666666666666666,\"#ed7953\"],[0.7777777777777778,\"#fb9f3a\"],[0.8888888888888888,\"#fdca26\"],[1.0,\"#f0f921\"]]}],\"heatmap\":[{\"type\":\"heatmap\",\"colorbar\":{\"outlinewidth\":0,\"ticks\":\"\"},\"colorscale\":[[0.0,\"#0d0887\"],[0.1111111111111111,\"#46039f\"],[0.2222222222222222,\"#7201a8\"],[0.3333333333333333,\"#9c179e\"],[0.4444444444444444,\"#bd3786\"],[0.5555555555555556,\"#d8576b\"],[0.6666666666666666,\"#ed7953\"],[0.7777777777777778,\"#fb9f3a\"],[0.8888888888888888,\"#fdca26\"],[1.0,\"#f0f921\"]]}],\"heatmapgl\":[{\"type\":\"heatmapgl\",\"colorbar\":{\"outlinewidth\":0,\"ticks\":\"\"},\"colorscale\":[[0.0,\"#0d0887\"],[0.1111111111111111,\"#46039f\"],[0.2222222222222222,\"#7201a8\"],[0.3333333333333333,\"#9c179e\"],[0.4444444444444444,\"#bd3786\"],[0.5555555555555556,\"#d8576b\"],[0.6666666666666666,\"#ed7953\"],[0.7777777777777778,\"#fb9f3a\"],[0.8888888888888888,\"#fdca26\"],[1.0,\"#f0f921\"]]}],\"contourcarpet\":[{\"type\":\"contourcarpet\",\"colorbar\":{\"outlinewidth\":0,\"ticks\":\"\"}}],\"contour\":[{\"type\":\"contour\",\"colorbar\":{\"outlinewidth\":0,\"ticks\":\"\"},\"colorscale\":[[0.0,\"#0d0887\"],[0.1111111111111111,\"#46039f\"],[0.2222222222222222,\"#7201a8\"],[0.3333333333333333,\"#9c179e\"],[0.4444444444444444,\"#bd3786\"],[0.5555555555555556,\"#d8576b\"],[0.6666666666666666,\"#ed7953\"],[0.7777777777777778,\"#fb9f3a\"],[0.8888888888888888,\"#fdca26\"],[1.0,\"#f0f921\"]]}],\"surface\":[{\"type\":\"surface\",\"colorbar\":{\"outlinewidth\":0,\"ticks\":\"\"},\"colorscale\":[[0.0,\"#0d0887\"],[0.1111111111111111,\"#46039f\"],[0.2222222222222222,\"#7201a8\"],[0.3333333333333333,\"#9c179e\"],[0.4444444444444444,\"#bd3786\"],[0.5555555555555556,\"#d8576b\"],[0.6666666666666666,\"#ed7953\"],[0.7777777777777778,\"#fb9f3a\"],[0.8888888888888888,\"#fdca26\"],[1.0,\"#f0f921\"]]}],\"mesh3d\":[{\"type\":\"mesh3d\",\"colorbar\":{\"outlinewidth\":0,\"ticks\":\"\"}}],\"scatter\":[{\"fillpattern\":{\"fillmode\":\"overlay\",\"size\":10,\"solidity\":0.2},\"type\":\"scatter\"}],\"parcoords\":[{\"type\":\"parcoords\",\"line\":{\"colorbar\":{\"outlinewidth\":0,\"ticks\":\"\"}}}],\"scatterpolargl\":[{\"type\":\"scatterpolargl\",\"marker\":{\"colorbar\":{\"outlinewidth\":0,\"ticks\":\"\"}}}],\"bar\":[{\"error_x\":{\"color\":\"#2a3f5f\"},\"error_y\":{\"color\":\"#2a3f5f\"},\"marker\":{\"line\":{\"color\":\"#E5ECF6\",\"width\":0.5},\"pattern\":{\"fillmode\":\"overlay\",\"size\":10,\"solidity\":0.2}},\"type\":\"bar\"}],\"scattergeo\":[{\"type\":\"scattergeo\",\"marker\":{\"colorbar\":{\"outlinewidth\":0,\"ticks\":\"\"}}}],\"scatterpolar\":[{\"type\":\"scatterpolar\",\"marker\":{\"colorbar\":{\"outlinewidth\":0,\"ticks\":\"\"}}}],\"histogram\":[{\"marker\":{\"pattern\":{\"fillmode\":\"overlay\",\"size\":10,\"solidity\":0.2}},\"type\":\"histogram\"}],\"scattergl\":[{\"type\":\"scattergl\",\"marker\":{\"colorbar\":{\"outlinewidth\":0,\"ticks\":\"\"}}}],\"scatter3d\":[{\"type\":\"scatter3d\",\"line\":{\"colorbar\":{\"outlinewidth\":0,\"ticks\":\"\"}},\"marker\":{\"colorbar\":{\"outlinewidth\":0,\"ticks\":\"\"}}}],\"scattermapbox\":[{\"type\":\"scattermapbox\",\"marker\":{\"colorbar\":{\"outlinewidth\":0,\"ticks\":\"\"}}}],\"scatterternary\":[{\"type\":\"scatterternary\",\"marker\":{\"colorbar\":{\"outlinewidth\":0,\"ticks\":\"\"}}}],\"scattercarpet\":[{\"type\":\"scattercarpet\",\"marker\":{\"colorbar\":{\"outlinewidth\":0,\"ticks\":\"\"}}}],\"carpet\":[{\"aaxis\":{\"endlinecolor\":\"#2a3f5f\",\"gridcolor\":\"white\",\"linecolor\":\"white\",\"minorgridcolor\":\"white\",\"startlinecolor\":\"#2a3f5f\"},\"baxis\":{\"endlinecolor\":\"#2a3f5f\",\"gridcolor\":\"white\",\"linecolor\":\"white\",\"minorgridcolor\":\"white\",\"startlinecolor\":\"#2a3f5f\"},\"type\":\"carpet\"}],\"table\":[{\"cells\":{\"fill\":{\"color\":\"#EBF0F8\"},\"line\":{\"color\":\"white\"}},\"header\":{\"fill\":{\"color\":\"#C8D4E3\"},\"line\":{\"color\":\"white\"}},\"type\":\"table\"}],\"barpolar\":[{\"marker\":{\"line\":{\"color\":\"#E5ECF6\",\"width\":0.5},\"pattern\":{\"fillmode\":\"overlay\",\"size\":10,\"solidity\":0.2}},\"type\":\"barpolar\"}],\"pie\":[{\"automargin\":true,\"type\":\"pie\"}]},\"layout\":{\"autotypenumbers\":\"strict\",\"colorway\":[\"#636efa\",\"#EF553B\",\"#00cc96\",\"#ab63fa\",\"#FFA15A\",\"#19d3f3\",\"#FF6692\",\"#B6E880\",\"#FF97FF\",\"#FECB52\"],\"font\":{\"color\":\"#2a3f5f\"},\"hovermode\":\"closest\",\"hoverlabel\":{\"align\":\"left\"},\"paper_bgcolor\":\"white\",\"plot_bgcolor\":\"#E5ECF6\",\"polar\":{\"bgcolor\":\"#E5ECF6\",\"angularaxis\":{\"gridcolor\":\"white\",\"linecolor\":\"white\",\"ticks\":\"\"},\"radialaxis\":{\"gridcolor\":\"white\",\"linecolor\":\"white\",\"ticks\":\"\"}},\"ternary\":{\"bgcolor\":\"#E5ECF6\",\"aaxis\":{\"gridcolor\":\"white\",\"linecolor\":\"white\",\"ticks\":\"\"},\"baxis\":{\"gridcolor\":\"white\",\"linecolor\":\"white\",\"ticks\":\"\"},\"caxis\":{\"gridcolor\":\"white\",\"linecolor\":\"white\",\"ticks\":\"\"}},\"coloraxis\":{\"colorbar\":{\"outlinewidth\":0,\"ticks\":\"\"}},\"colorscale\":{\"sequential\":[[0.0,\"#0d0887\"],[0.1111111111111111,\"#46039f\"],[0.2222222222222222,\"#7201a8\"],[0.3333333333333333,\"#9c179e\"],[0.4444444444444444,\"#bd3786\"],[0.5555555555555556,\"#d8576b\"],[0.6666666666666666,\"#ed7953\"],[0.7777777777777778,\"#fb9f3a\"],[0.8888888888888888,\"#fdca26\"],[1.0,\"#f0f921\"]],\"sequentialminus\":[[0.0,\"#0d0887\"],[0.1111111111111111,\"#46039f\"],[0.2222222222222222,\"#7201a8\"],[0.3333333333333333,\"#9c179e\"],[0.4444444444444444,\"#bd3786\"],[0.5555555555555556,\"#d8576b\"],[0.6666666666666666,\"#ed7953\"],[0.7777777777777778,\"#fb9f3a\"],[0.8888888888888888,\"#fdca26\"],[1.0,\"#f0f921\"]],\"diverging\":[[0,\"#8e0152\"],[0.1,\"#c51b7d\"],[0.2,\"#de77ae\"],[0.3,\"#f1b6da\"],[0.4,\"#fde0ef\"],[0.5,\"#f7f7f7\"],[0.6,\"#e6f5d0\"],[0.7,\"#b8e186\"],[0.8,\"#7fbc41\"],[0.9,\"#4d9221\"],[1,\"#276419\"]]},\"xaxis\":{\"gridcolor\":\"white\",\"linecolor\":\"white\",\"ticks\":\"\",\"title\":{\"standoff\":15},\"zerolinecolor\":\"white\",\"automargin\":true,\"zerolinewidth\":2},\"yaxis\":{\"gridcolor\":\"white\",\"linecolor\":\"white\",\"ticks\":\"\",\"title\":{\"standoff\":15},\"zerolinecolor\":\"white\",\"automargin\":true,\"zerolinewidth\":2},\"scene\":{\"xaxis\":{\"backgroundcolor\":\"#E5ECF6\",\"gridcolor\":\"white\",\"linecolor\":\"white\",\"showbackground\":true,\"ticks\":\"\",\"zerolinecolor\":\"white\",\"gridwidth\":2},\"yaxis\":{\"backgroundcolor\":\"#E5ECF6\",\"gridcolor\":\"white\",\"linecolor\":\"white\",\"showbackground\":true,\"ticks\":\"\",\"zerolinecolor\":\"white\",\"gridwidth\":2},\"zaxis\":{\"backgroundcolor\":\"#E5ECF6\",\"gridcolor\":\"white\",\"linecolor\":\"white\",\"showbackground\":true,\"ticks\":\"\",\"zerolinecolor\":\"white\",\"gridwidth\":2}},\"shapedefaults\":{\"line\":{\"color\":\"#2a3f5f\"}},\"annotationdefaults\":{\"arrowcolor\":\"#2a3f5f\",\"arrowhead\":0,\"arrowwidth\":1},\"geo\":{\"bgcolor\":\"white\",\"landcolor\":\"#E5ECF6\",\"subunitcolor\":\"white\",\"showland\":true,\"showlakes\":true,\"lakecolor\":\"white\"},\"title\":{\"x\":0.05},\"mapbox\":{\"style\":\"light\"}}}},                        {\"responsive\": true}                    ).then(function(){\n",
       "                            \n",
       "var gd = document.getElementById('83925956-bec5-4af4-ad0f-48f2585a795e');\n",
       "var x = new MutationObserver(function (mutations, observer) {{\n",
       "        var display = window.getComputedStyle(gd).display;\n",
       "        if (!display || display === 'none') {{\n",
       "            console.log([gd, 'removed!']);\n",
       "            Plotly.purge(gd);\n",
       "            observer.disconnect();\n",
       "        }}\n",
       "}});\n",
       "\n",
       "// Listen for the removal of the full notebook cells\n",
       "var notebookContainer = gd.closest('#notebook-container');\n",
       "if (notebookContainer) {{\n",
       "    x.observe(notebookContainer, {childList: true});\n",
       "}}\n",
       "\n",
       "// Listen for the clearing of the current output cell\n",
       "var outputEl = gd.closest('.output');\n",
       "if (outputEl) {{\n",
       "    x.observe(outputEl, {childList: true});\n",
       "}}\n",
       "\n",
       "                        })                };                });            </script>        </div>"
      ]
     },
     "metadata": {},
     "output_type": "display_data"
    }
   ],
   "source": [
    "# to see what we have so far\n",
    "fig.show()"
   ]
  },
  {
   "cell_type": "code",
   "execution_count": 17,
   "id": "75332280",
   "metadata": {},
   "outputs": [],
   "source": [
    "# create a list of frames\n",
    "frames = []\n",
    "\n",
    "# create a frame for every line y\n",
    "for year in df.index.sort_values():\n",
    "    bins = [go.Bar(x = df.loc[str(year),:].filter(regex=\"Male\").values,\n",
    "               y = [int(s[:2])+1 for s in age_ranges],\n",
    "               orientation='h',\n",
    "               name='Men',\n",
    "               marker=dict(color='green'),\n",
    "               hoverinfo='skip'\n",
    "               ),\n",
    "        go.Bar(x = -df.loc[str(year),:].filter(regex=\"Female\").values,\n",
    "               y=[int(s[:2])+1 for s in age_ranges],\n",
    "               orientation='h',\n",
    "               name='Women',\n",
    "               marker=dict(color='pink'),\n",
    "               hoverinfo='skip',\n",
    "               )\n",
    "        ]\n",
    "    \n",
    "    # create the button\n",
    "    button = {\n",
    "        \"type\": \"buttons\",\n",
    "        \"buttons\": [\n",
    "            {\n",
    "                \"label\": \"Play\",\n",
    "                \"method\": \"animate\",\n",
    "                \"args\": [None, {\"frame\": {\"duration\": 20}}],\n",
    "            }\n",
    "        ],\n",
    "    }\n",
    "    \n",
    "    # add the button to the layout and update the \n",
    "    # title to show the gradient descent step\n",
    "    layout = go.Layout(updatemenus=[button], \n",
    "                       title_text=f\"Population Pyramid for {year}\")\n",
    "    \n",
    "    # create a frame object\n",
    "    frame = go.Frame(\n",
    "        data= bins, \n",
    "        layout=go.Layout(title_text=f\"Population Pyramid for {year}\")\n",
    "    )\n",
    "    \n",
    "    # add the frame object to the frames list\n",
    "    frames.append(frame)"
   ]
  },
  {
   "cell_type": "code",
   "execution_count": 18,
   "id": "49f3f1ee",
   "metadata": {},
   "outputs": [
    {
     "data": {
      "application/vnd.plotly.v1+json": {
       "config": {
        "plotlyServerURL": "https://plot.ly"
       },
       "data": [
        {
         "hoverinfo": "skip",
         "marker": {
          "color": "green"
         },
         "name": "Men",
         "orientation": "h",
         "type": "bar",
         "x": [
          11903046,
          9269956,
          7827606,
          6464521,
          5452406,
          4713060,
          4079665,
          3483816,
          2929035,
          2416431,
          1953244,
          1515164,
          1089990,
          767560,
          500885,
          286341,
          186622
         ],
         "y": [
          1,
          6,
          11,
          16,
          21,
          26,
          31,
          36,
          41,
          46,
          51,
          56,
          61,
          66,
          71,
          76,
          81
         ]
        },
        {
         "hoverinfo": "skip",
         "marker": {
          "color": "pink"
         },
         "name": "Women",
         "orientation": "h",
         "type": "bar",
         "x": [
          -11781303,
          -9224178,
          -7760047,
          -6498502,
          -5594132,
          -4886704,
          -4199780,
          -3535856,
          -2944196,
          -2433461,
          -1997927,
          -1611564,
          -1242066,
          -916159,
          -614569,
          -363808,
          -248982
         ],
         "y": [
          1,
          6,
          11,
          16,
          21,
          26,
          31,
          36,
          41,
          46,
          51,
          56,
          61,
          66,
          71,
          76,
          81
         ]
        }
       ],
       "frames": [
        {
         "data": [
          {
           "hoverinfo": "skip",
           "marker": {
            "color": "green"
           },
           "name": "Men",
           "orientation": "h",
           "type": "bar",
           "x": [
            11903046,
            9269956,
            7827606,
            6464521,
            5452406,
            4713060,
            4079665,
            3483816,
            2929035,
            2416431,
            1953244,
            1515164,
            1089990,
            767560,
            500885,
            286341,
            186622
           ],
           "y": [
            1,
            6,
            11,
            16,
            21,
            26,
            31,
            36,
            41,
            46,
            51,
            56,
            61,
            66,
            71,
            76,
            81
           ]
          },
          {
           "hoverinfo": "skip",
           "marker": {
            "color": "pink"
           },
           "name": "Women",
           "orientation": "h",
           "type": "bar",
           "x": [
            -11781303,
            -9224178,
            -7760047,
            -6498502,
            -5594132,
            -4886704,
            -4199780,
            -3535856,
            -2944196,
            -2433461,
            -1997927,
            -1611564,
            -1242066,
            -916159,
            -614569,
            -363808,
            -248982
           ],
           "y": [
            1,
            6,
            11,
            16,
            21,
            26,
            31,
            36,
            41,
            46,
            51,
            56,
            61,
            66,
            71,
            76,
            81
           ]
          }
         ],
         "layout": {
          "title": {
           "text": "Population Pyramid for 1960"
          }
         }
        },
        {
         "data": [
          {
           "hoverinfo": "skip",
           "marker": {
            "color": "green"
           },
           "name": "Men",
           "orientation": "h",
           "type": "bar",
           "x": [
            12271309,
            9547953,
            8020790,
            6684830,
            5586353,
            4814153,
            4166589,
            3558274,
            2992955,
            2465607,
            1994162,
            1557922,
            1126932,
            786369,
            509464,
            290320,
            188995
           ],
           "y": [
            1,
            6,
            11,
            16,
            21,
            26,
            31,
            36,
            41,
            46,
            51,
            56,
            61,
            66,
            71,
            76,
            81
           ]
          },
          {
           "hoverinfo": "skip",
           "marker": {
            "color": "pink"
           },
           "name": "Women",
           "orientation": "h",
           "type": "bar",
           "x": [
            -12140807,
            -9486214,
            -7950546,
            -6705676,
            -5730412,
            -4998558,
            -4305734,
            -3622726,
            -3017904,
            -2489122,
            -2043161,
            -1652159,
            -1275145,
            -938330,
            -626362,
            -369833,
            -253612
           ],
           "y": [
            1,
            6,
            11,
            16,
            21,
            26,
            31,
            36,
            41,
            46,
            51,
            56,
            61,
            66,
            71,
            76,
            81
           ]
          }
         ],
         "layout": {
          "title": {
           "text": "Population Pyramid for 1961"
          }
         }
        },
        {
         "data": [
          {
           "hoverinfo": "skip",
           "marker": {
            "color": "green"
           },
           "name": "Men",
           "orientation": "h",
           "type": "bar",
           "x": [
            12661185,
            9837633,
            8228078,
            6916635,
            5725665,
            4918510,
            4253645,
            3635546,
            3060163,
            2520717,
            2039603,
            1601129,
            1169274,
            805802,
            519280,
            294329,
            191294
           ],
           "y": [
            1,
            6,
            11,
            16,
            21,
            26,
            31,
            36,
            41,
            46,
            51,
            56,
            61,
            66,
            71,
            76,
            81
           ]
          },
          {
           "hoverinfo": "skip",
           "marker": {
            "color": "pink"
           },
           "name": "Women",
           "orientation": "h",
           "type": "bar",
           "x": [
            -12522816,
            -9765428,
            -8159040,
            -6922855,
            -5869666,
            -5114309,
            -4411294,
            -3714069,
            -3095416,
            -2550083,
            -2092686,
            -1693058,
            -1311157,
            -960546,
            -640343,
            -375946,
            -258394
           ],
           "y": [
            1,
            6,
            11,
            16,
            21,
            26,
            31,
            36,
            41,
            46,
            51,
            56,
            61,
            66,
            71,
            76,
            81
           ]
          }
         ],
         "layout": {
          "title": {
           "text": "Population Pyramid for 1962"
          }
         }
        },
        {
         "data": [
          {
           "hoverinfo": "skip",
           "marker": {
            "color": "green"
           },
           "name": "Men",
           "orientation": "h",
           "type": "bar",
           "x": [
            13062183,
            10138780,
            8455835,
            7145770,
            5879098,
            5026028,
            4340514,
            3713247,
            3127933,
            2575964,
            2084916,
            1642315,
            1213489,
            826719,
            530004,
            298421,
            193690
           ],
           "y": [
            1,
            6,
            11,
            16,
            21,
            26,
            31,
            36,
            41,
            46,
            51,
            56,
            61,
            66,
            71,
            76,
            81
           ]
          },
          {
           "hoverinfo": "skip",
           "marker": {
            "color": "pink"
           },
           "name": "Women",
           "orientation": "h",
           "type": "bar",
           "x": [
            -12915169,
            -10058500,
            -8388190,
            -7137094,
            -6019568,
            -5233076,
            -4516205,
            -3808828,
            -3174922,
            -2612835,
            -2143589,
            -1734161,
            -1349018,
            -983494,
            -655650,
            -382154,
            -263206
           ],
           "y": [
            1,
            6,
            11,
            16,
            21,
            26,
            31,
            36,
            41,
            46,
            51,
            56,
            61,
            66,
            71,
            76,
            81
           ]
          }
         ],
         "layout": {
          "title": {
           "text": "Population Pyramid for 1963"
          }
         }
        },
        {
         "data": [
          {
           "hoverinfo": "skip",
           "marker": {
            "color": "green"
           },
           "name": "Men",
           "orientation": "h",
           "type": "bar",
           "x": [
            13473056,
            10457881,
            8700624,
            7371925,
            6056915,
            5140702,
            4429617,
            3793506,
            3196747,
            2634712,
            2131312,
            1683595,
            1257129,
            850939,
            541871,
            302911,
            196377
           ],
           "y": [
            1,
            6,
            11,
            16,
            21,
            26,
            31,
            36,
            41,
            46,
            51,
            56,
            61,
            66,
            71,
            76,
            81
           ]
          },
          {
           "hoverinfo": "skip",
           "marker": {
            "color": "pink"
           },
           "name": "Women",
           "orientation": "h",
           "type": "bar",
           "x": [
            -13316059,
            -10371024,
            -8635913,
            -7348233,
            -6192034,
            -5357871,
            -4622048,
            -3908192,
            -3255916,
            -2680389,
            -2196325,
            -1777026,
            -1387855,
            -1007921,
            -672056,
            -388984,
            -268313
           ],
           "y": [
            1,
            6,
            11,
            16,
            21,
            26,
            31,
            36,
            41,
            46,
            51,
            56,
            61,
            66,
            71,
            76,
            81
           ]
          }
         ],
         "layout": {
          "title": {
           "text": "Population Pyramid for 1964"
          }
         }
        },
        {
         "data": [
          {
           "hoverinfo": "skip",
           "marker": {
            "color": "green"
           },
           "name": "Men",
           "orientation": "h",
           "type": "bar",
           "x": [
            13898075,
            10793159,
            8962290,
            7587183,
            6258724,
            5262204,
            4520492,
            3875344,
            3266289,
            2696627,
            2178834,
            1725079,
            1298725,
            878569,
            555159,
            307882,
            199315
           ],
           "y": [
            1,
            6,
            11,
            16,
            21,
            26,
            31,
            36,
            41,
            46,
            51,
            56,
            61,
            66,
            71,
            76,
            81
           ]
          },
          {
           "hoverinfo": "skip",
           "marker": {
            "color": "pink"
           },
           "name": "Women",
           "orientation": "h",
           "type": "bar",
           "x": [
            -13730021,
            -10700238,
            -8894261,
            -7555821,
            -6386909,
            -5488052,
            -4728753,
            -4010761,
            -3338297,
            -2752411,
            -2251010,
            -1821756,
            -1426725,
            -1034001,
            -689231,
            -396530,
            -273622
           ],
           "y": [
            1,
            6,
            11,
            16,
            21,
            26,
            31,
            36,
            41,
            46,
            51,
            56,
            61,
            66,
            71,
            76,
            81
           ]
          }
         ],
         "layout": {
          "title": {
           "text": "Population Pyramid for 1965"
          }
         }
        },
        {
         "data": [
          {
           "hoverinfo": "skip",
           "marker": {
            "color": "green"
           },
           "name": "Men",
           "orientation": "h",
           "type": "bar",
           "x": [
            14326816,
            11142390,
            9238488,
            7786522,
            6474928,
            5387898,
            4614276,
            3956461,
            3336555,
            2757750,
            2226709,
            1765280,
            1337732,
            909200,
            568933,
            313197,
            202311
           ],
           "y": [
            1,
            6,
            11,
            16,
            21,
            26,
            31,
            36,
            41,
            46,
            51,
            56,
            61,
            66,
            71,
            76,
            81
           ]
          },
          {
           "hoverinfo": "skip",
           "marker": {
            "color": "pink"
           },
           "name": "Women",
           "orientation": "h",
           "type": "bar",
           "x": [
            -14146704,
            -11042410,
            -9159572,
            -7757342,
            -6595202,
            -5621063,
            -4837703,
            -4113073,
            -3422627,
            -2824834,
            -2306583,
            -1866776,
            -1464407,
            -1062054,
            -706226,
            -404655,
            -278857
           ],
           "y": [
            1,
            6,
            11,
            16,
            21,
            26,
            31,
            36,
            41,
            46,
            51,
            56,
            61,
            66,
            71,
            76,
            81
           ]
          }
         ],
         "layout": {
          "title": {
           "text": "Population Pyramid for 1966"
          }
         }
        },
        {
         "data": [
          {
           "hoverinfo": "skip",
           "marker": {
            "color": "green"
           },
           "name": "Men",
           "orientation": "h",
           "type": "bar",
           "x": [
            14765714,
            11509317,
            9519037,
            7990619,
            6703572,
            5524373,
            4715214,
            4039217,
            3408361,
            2818978,
            2275895,
            1805403,
            1374899,
            943496,
            583240,
            319361,
            205577
           ],
           "y": [
            1,
            6,
            11,
            16,
            21,
            26,
            31,
            36,
            41,
            46,
            51,
            56,
            61,
            66,
            71,
            76,
            81
           ]
          },
          {
           "hoverinfo": "skip",
           "marker": {
            "color": "pink"
           },
           "name": "Women",
           "orientation": "h",
           "type": "bar",
           "x": [
            -14574156,
            -11400505,
            -9430325,
            -7964305,
            -6813298,
            -5760745,
            -4951913,
            -4215299,
            -3509651,
            -2898084,
            -2363750,
            -1912817,
            -1501542,
            -1092896,
            -723320,
            -413990,
            -284368
           ],
           "y": [
            1,
            6,
            11,
            16,
            21,
            26,
            31,
            36,
            41,
            46,
            51,
            56,
            61,
            66,
            71,
            76,
            81
           ]
          }
         ],
         "layout": {
          "title": {
           "text": "Population Pyramid for 1967"
          }
         }
        },
        {
         "data": [
          {
           "hoverinfo": "skip",
           "marker": {
            "color": "green"
           },
           "name": "Men",
           "orientation": "h",
           "type": "bar",
           "x": [
            15224683,
            11887870,
            9810109,
            8213692,
            6932004,
            5679552,
            4823140,
            4124445,
            3482772,
            2882767,
            2327460,
            1847461,
            1412564,
            980384,
            599279,
            326518,
            209177
           ],
           "y": [
            1,
            6,
            11,
            16,
            21,
            26,
            31,
            36,
            41,
            46,
            51,
            56,
            61,
            66,
            71,
            76,
            81
           ]
          },
          {
           "hoverinfo": "skip",
           "marker": {
            "color": "pink"
           },
           "name": "Women",
           "orientation": "h",
           "type": "bar",
           "x": [
            -15023463,
            -11769370,
            -9714999,
            -8192875,
            -7030931,
            -5912573,
            -5068657,
            -4316534,
            -3600292,
            -2973864,
            -2423549,
            -1961136,
            -1540242,
            -1126154,
            -741616,
            -424647,
            -290381
           ],
           "y": [
            1,
            6,
            11,
            16,
            21,
            26,
            31,
            36,
            41,
            46,
            51,
            56,
            61,
            66,
            71,
            76,
            81
           ]
          }
         ],
         "layout": {
          "title": {
           "text": "Population Pyramid for 1968"
          }
         }
        },
        {
         "data": [
          {
           "hoverinfo": "skip",
           "marker": {
            "color": "green"
           },
           "name": "Men",
           "orientation": "h",
           "type": "bar",
           "x": [
            15698711,
            12272458,
            10116149,
            8449176,
            7152404,
            5854270,
            4934940,
            4209587,
            3559036,
            2948211,
            2383073,
            1891124,
            1451206,
            1017091,
            617798,
            334442,
            212876
           ],
           "y": [
            1,
            6,
            11,
            16,
            21,
            26,
            31,
            36,
            41,
            46,
            51,
            56,
            61,
            66,
            71,
            76,
            81
           ]
          },
          {
           "hoverinfo": "skip",
           "marker": {
            "color": "pink"
           },
           "name": "Women",
           "orientation": "h",
           "type": "bar",
           "x": [
            -15489482,
            -12145143,
            -10018168,
            -8438662,
            -7241195,
            -6079989,
            -5185400,
            -4415040,
            -3694302,
            -3051077,
            -2487920,
            -2011258,
            -1581237,
            -1160608,
            -761264,
            -436112,
            -296747
           ],
           "y": [
            1,
            6,
            11,
            16,
            21,
            26,
            31,
            36,
            41,
            46,
            51,
            56,
            61,
            66,
            71,
            76,
            81
           ]
          }
         ],
         "layout": {
          "title": {
           "text": "Population Pyramid for 1969"
          }
         }
        },
        {
         "data": [
          {
           "hoverinfo": "skip",
           "marker": {
            "color": "green"
           },
           "name": "Men",
           "orientation": "h",
           "type": "bar",
           "x": [
            16185300,
            12668683,
            10439730,
            8696827,
            7351825,
            6042725,
            5048651,
            4295048,
            3638028,
            3017399,
            2444272,
            1937102,
            1490368,
            1052596,
            638824,
            343209,
            216455
           ],
           "y": [
            1,
            6,
            11,
            16,
            21,
            26,
            31,
            36,
            41,
            46,
            51,
            56,
            61,
            66,
            71,
            76,
            81
           ]
          },
          {
           "hoverinfo": "skip",
           "marker": {
            "color": "pink"
           },
           "name": "Women",
           "orientation": "h",
           "type": "bar",
           "x": [
            -15972553,
            -12539283,
            -10343679,
            -8692708,
            -7439082,
            -6260926,
            -5303604,
            -4513885,
            -3792985,
            -3132071,
            -2558399,
            -2064323,
            -1624705,
            -1196039,
            -782696,
            -448310,
            -303464
           ],
           "y": [
            1,
            6,
            11,
            16,
            21,
            26,
            31,
            36,
            41,
            46,
            51,
            56,
            61,
            66,
            71,
            76,
            81
           ]
          }
         ],
         "layout": {
          "title": {
           "text": "Population Pyramid for 1970"
          }
         }
        },
        {
         "data": [
          {
           "hoverinfo": "skip",
           "marker": {
            "color": "green"
           },
           "name": "Men",
           "orientation": "h",
           "type": "bar",
           "x": [
            16683260,
            13071929,
            10780612,
            8963706,
            7535254,
            6244221,
            5168612,
            4386866,
            3720962,
            3092712,
            2509551,
            1986956,
            1530781,
            1087545,
            662482,
            352658,
            220276
           ],
           "y": [
            1,
            6,
            11,
            16,
            21,
            26,
            31,
            36,
            41,
            46,
            51,
            56,
            61,
            66,
            71,
            76,
            81
           ]
          },
          {
           "hoverinfo": "skip",
           "marker": {
            "color": "pink"
           },
           "name": "Women",
           "orientation": "h",
           "type": "bar",
           "x": [
            -16468273,
            -12945861,
            -10687232,
            -8954181,
            -7623354,
            -6446681,
            -5420546,
            -4614022,
            -3892943,
            -3217747,
            -2632072,
            -2120537,
            -1670579,
            -1232049,
            -806627,
            -461161,
            -310930
           ],
           "y": [
            1,
            6,
            11,
            16,
            21,
            26,
            31,
            36,
            41,
            46,
            51,
            56,
            61,
            66,
            71,
            76,
            81
           ]
          }
         ],
         "layout": {
          "title": {
           "text": "Population Pyramid for 1971"
          }
         }
        },
        {
         "data": [
          {
           "hoverinfo": "skip",
           "marker": {
            "color": "green"
           },
           "name": "Men",
           "orientation": "h",
           "type": "bar",
           "x": [
            17183525,
            13478956,
            11133297,
            9236303,
            7722910,
            6455015,
            5297071,
            4483924,
            3804349,
            3169399,
            2575681,
            2039208,
            1571909,
            1121451,
            688165,
            362225,
            224266
           ],
           "y": [
            1,
            6,
            11,
            16,
            21,
            26,
            31,
            36,
            41,
            46,
            51,
            56,
            61,
            66,
            71,
            76,
            81
           ]
          },
          {
           "hoverinfo": "skip",
           "marker": {
            "color": "pink"
           },
           "name": "Women",
           "orientation": "h",
           "type": "bar",
           "x": [
            -16962747,
            -13355827,
            -11040527,
            -9220579,
            -7808254,
            -6632205,
            -5534376,
            -4711563,
            -3987779,
            -3303529,
            -2705696,
            -2178160,
            -1717250,
            -1267705,
            -832289,
            -474063,
            -318875
           ],
           "y": [
            1,
            6,
            11,
            16,
            21,
            26,
            31,
            36,
            41,
            46,
            51,
            56,
            61,
            66,
            71,
            76,
            81
           ]
          }
         ],
         "layout": {
          "title": {
           "text": "Population Pyramid for 1972"
          }
         }
        },
        {
         "data": [
          {
           "hoverinfo": "skip",
           "marker": {
            "color": "green"
           },
           "name": "Men",
           "orientation": "h",
           "type": "bar",
           "x": [
            17686049,
            13901101,
            11493218,
            9523347,
            7937065,
            6669416,
            5445004,
            4588736,
            3890536,
            3248308,
            2644138,
            2093789,
            1614166,
            1155458,
            715455,
            372848,
            228849
           ],
           "y": [
            1,
            6,
            11,
            16,
            21,
            26,
            31,
            36,
            41,
            46,
            51,
            56,
            61,
            66,
            71,
            76,
            81
           ]
          },
          {
           "hoverinfo": "skip",
           "marker": {
            "color": "pink"
           },
           "name": "Women",
           "orientation": "h",
           "type": "bar",
           "x": [
            -17456733,
            -13779661,
            -11400572,
            -9506320,
            -8022380,
            -6820373,
            -5660892,
            -4811756,
            -4080806,
            -3391627,
            -2781083,
            -2238024,
            -1764901,
            -1304361,
            -859463,
            -487767,
            -327487
           ],
           "y": [
            1,
            6,
            11,
            16,
            21,
            26,
            31,
            36,
            41,
            46,
            51,
            56,
            61,
            66,
            71,
            76,
            81
           ]
          }
         ],
         "layout": {
          "title": {
           "text": "Population Pyramid for 1973"
          }
         }
        },
        {
         "data": [
          {
           "hoverinfo": "skip",
           "marker": {
            "color": "green"
           },
           "name": "Men",
           "orientation": "h",
           "type": "bar",
           "x": [
            18189895,
            14350209,
            11863998,
            9834340,
            8181513,
            6893479,
            5624456,
            4706065,
            3981138,
            3330016,
            2714260,
            2152638,
            1659054,
            1190603,
            742862,
            385365,
            234388
           ],
           "y": [
            1,
            6,
            11,
            16,
            21,
            26,
            31,
            36,
            41,
            46,
            51,
            56,
            61,
            66,
            71,
            76,
            81
           ]
          },
          {
           "hoverinfo": "skip",
           "marker": {
            "color": "pink"
           },
           "name": "Women",
           "orientation": "h",
           "type": "bar",
           "x": [
            -17947689,
            -14224554,
            -11766634,
            -9819265,
            -8273344,
            -7019389,
            -5813750,
            -4917832,
            -4172670,
            -3481849,
            -2856373,
            -2301481,
            -1813972,
            -1342797,
            -887494,
            -502571,
            -337021
           ],
           "y": [
            1,
            6,
            11,
            16,
            21,
            26,
            31,
            36,
            41,
            46,
            51,
            56,
            61,
            66,
            71,
            76,
            81
           ]
          }
         ],
         "layout": {
          "title": {
           "text": "Population Pyramid for 1974"
          }
         }
        },
        {
         "data": [
          {
           "hoverinfo": "skip",
           "marker": {
            "color": "green"
           },
           "name": "Men",
           "orientation": "h",
           "type": "bar",
           "x": [
            18693996,
            14822065,
            12245583,
            10155110,
            8440920,
            7107113,
            5825669,
            4829877,
            4072373,
            3411398,
            2784359,
            2214514,
            1706572,
            1226312,
            769049,
            399205,
            240306
           ],
           "y": [
            1,
            6,
            11,
            16,
            21,
            26,
            31,
            36,
            41,
            46,
            51,
            56,
            61,
            66,
            71,
            76,
            81
           ]
          },
          {
           "hoverinfo": "skip",
           "marker": {
            "color": "pink"
           },
           "name": "Women",
           "orientation": "h",
           "type": "bar",
           "x": [
            -18437088,
            -14686470,
            -12141377,
            -10147848,
            -8542192,
            -7220318,
            -5986098,
            -5024588,
            -4260013,
            -3570327,
            -2929807,
            -2367073,
            -1864297,
            -1382126,
            -915312,
            -518033,
            -346910
           ],
           "y": [
            1,
            6,
            11,
            16,
            21,
            26,
            31,
            36,
            41,
            46,
            51,
            56,
            61,
            66,
            71,
            76,
            81
           ]
          }
         ],
         "layout": {
          "title": {
           "text": "Population Pyramid for 1975"
          }
         }
        },
        {
         "data": [
          {
           "hoverinfo": "skip",
           "marker": {
            "color": "green"
           },
           "name": "Men",
           "orientation": "h",
           "type": "bar",
           "x": [
            19215805,
            15312942,
            12638896,
            10480836,
            8705977,
            7299173,
            6035167,
            4956042,
            4166160,
            3492690,
            2856439,
            2277055,
            1756652,
            1263163,
            795180,
            414705,
            246784
           ],
           "y": [
            1,
            6,
            11,
            16,
            21,
            26,
            31,
            36,
            41,
            46,
            51,
            56,
            61,
            66,
            71,
            76,
            81
           ]
          },
          {
           "hoverinfo": "skip",
           "marker": {
            "color": "pink"
           },
           "name": "Women",
           "orientation": "h",
           "type": "bar",
           "x": [
            -18947151,
            -15165924,
            -12529912,
            -10485591,
            -8817877,
            -7417565,
            -6170627,
            -5132793,
            -4348187,
            -3658045,
            -3005363,
            -2433491,
            -1916866,
            -1422995,
            -943843,
            -535193,
            -357564
           ],
           "y": [
            1,
            6,
            11,
            16,
            21,
            26,
            31,
            36,
            41,
            46,
            51,
            56,
            61,
            66,
            71,
            76,
            81
           ]
          }
         ],
         "layout": {
          "title": {
           "text": "Population Pyramid for 1976"
          }
         }
        },
        {
         "data": [
          {
           "hoverinfo": "skip",
           "marker": {
            "color": "green"
           },
           "name": "Men",
           "orientation": "h",
           "type": "bar",
           "x": [
            19740107,
            15791685,
            13025539,
            10809131,
            8968623,
            7490854,
            6249815,
            5088483,
            4263972,
            3573021,
            2928497,
            2340223,
            1807952,
            1299920,
            820478,
            431381,
            253640
           ],
           "y": [
            1,
            6,
            11,
            16,
            21,
            26,
            31,
            36,
            41,
            46,
            51,
            56,
            61,
            66,
            71,
            76,
            81
           ]
          },
          {
           "hoverinfo": "skip",
           "marker": {
            "color": "pink"
           },
           "name": "Women",
           "orientation": "h",
           "type": "bar",
           "x": [
            -19461423,
            -15631055,
            -12915052,
            -10829571,
            -9098753,
            -7620745,
            -6360041,
            -5240577,
            -4433664,
            -3738942,
            -3079639,
            -2499741,
            -1970039,
            -1463825,
            -972187,
            -553533,
            -368795
           ],
           "y": [
            1,
            6,
            11,
            16,
            21,
            26,
            31,
            36,
            41,
            46,
            51,
            56,
            61,
            66,
            71,
            76,
            81
           ]
          }
         ],
         "layout": {
          "title": {
           "text": "Population Pyramid for 1977"
          }
         }
        },
        {
         "data": [
          {
           "hoverinfo": "skip",
           "marker": {
            "color": "green"
           },
           "name": "Men",
           "orientation": "h",
           "type": "bar",
           "x": [
            20305392,
            16272244,
            13422042,
            11149135,
            9255925,
            7715802,
            6473308,
            5246902,
            4377318,
            3662824,
            3008448,
            2411653,
            1865300,
            1339998,
            846756,
            449485,
            262929
           ],
           "y": [
            1,
            6,
            11,
            16,
            21,
            26,
            31,
            36,
            41,
            46,
            51,
            56,
            61,
            66,
            71,
            76,
            81
           ]
          },
          {
           "hoverinfo": "skip",
           "marker": {
            "color": "pink"
           },
           "name": "Women",
           "orientation": "h",
           "type": "bar",
           "x": [
            -20017651,
            -16097970,
            -13318646,
            -11197419,
            -9418643,
            -7866942,
            -6561909,
            -5367364,
            -4524914,
            -3819418,
            -3158357,
            -2571966,
            -2028709,
            -1507740,
            -1002307,
            -573508,
            -382525
           ],
           "y": [
            1,
            6,
            11,
            16,
            21,
            26,
            31,
            36,
            41,
            46,
            51,
            56,
            61,
            66,
            71,
            76,
            81
           ]
          }
         ],
         "layout": {
          "title": {
           "text": "Population Pyramid for 1978"
          }
         }
        },
        {
         "data": [
          {
           "hoverinfo": "skip",
           "marker": {
            "color": "green"
           },
           "name": "Men",
           "orientation": "h",
           "type": "bar",
           "x": [
            20922104,
            16772679,
            13860237,
            11507640,
            9567695,
            7965806,
            6699729,
            5430140,
            4499752,
            3755760,
            3090379,
            2483379,
            1924717,
            1383637,
            875069,
            468337,
            274890
           ],
           "y": [
            1,
            6,
            11,
            16,
            21,
            26,
            31,
            36,
            41,
            46,
            51,
            56,
            61,
            66,
            71,
            76,
            81
           ]
          },
          {
           "hoverinfo": "skip",
           "marker": {
            "color": "pink"
           },
           "name": "Women",
           "orientation": "h",
           "type": "bar",
           "x": [
            -20624675,
            -16582399,
            -13755008,
            -11574043,
            -9763955,
            -8147516,
            -6774834,
            -5522605,
            -4625774,
            -3901997,
            -3241053,
            -2645047,
            -2091206,
            -1555124,
            -1035114,
            -594858,
            -398791
           ],
           "y": [
            1,
            6,
            11,
            16,
            21,
            26,
            31,
            36,
            41,
            46,
            51,
            56,
            61,
            66,
            71,
            76,
            81
           ]
          }
         ],
         "layout": {
          "title": {
           "text": "Population Pyramid for 1979"
          }
         }
        },
        {
         "data": [
          {
           "hoverinfo": "skip",
           "marker": {
            "color": "green"
           },
           "name": "Men",
           "orientation": "h",
           "type": "bar",
           "x": [
            21492697,
            17252388,
            14353838,
            11922646,
            9918685,
            8251840,
            6928680,
            5627706,
            4607895,
            3823683,
            3144514,
            2526943,
            1960259,
            1421002,
            901949,
            485593,
            286979
           ],
           "y": [
            1,
            6,
            11,
            16,
            21,
            26,
            31,
            36,
            41,
            46,
            51,
            56,
            61,
            66,
            71,
            76,
            81
           ]
          },
          {
           "hoverinfo": "skip",
           "marker": {
            "color": "pink"
           },
           "name": "Women",
           "orientation": "h",
           "type": "bar",
           "x": [
            -21180529,
            -17030380,
            -14182851,
            -11918303,
            -10084673,
            -8426316,
            -6986641,
            -5698085,
            -4729198,
            -3979224,
            -3313887,
            -2701134,
            -2136865,
            -1596543,
            -1066326,
            -614866,
            -414758
           ],
           "y": [
            1,
            6,
            11,
            16,
            21,
            26,
            31,
            36,
            41,
            46,
            51,
            56,
            61,
            66,
            71,
            76,
            81
           ]
          }
         ],
         "layout": {
          "title": {
           "text": "Population Pyramid for 1980"
          }
         }
        },
        {
         "data": [
          {
           "hoverinfo": "skip",
           "marker": {
            "color": "green"
           },
           "name": "Men",
           "orientation": "h",
           "type": "bar",
           "x": [
            22104054,
            17738665,
            14879132,
            12375192,
            10268871,
            8526391,
            7136729,
            5832718,
            4716691,
            3891164,
            3193514,
            2566371,
            1994275,
            1455961,
            929724,
            502801,
            299449
           ],
           "y": [
            1,
            6,
            11,
            16,
            21,
            26,
            31,
            36,
            41,
            46,
            51,
            56,
            61,
            66,
            71,
            76,
            81
           ]
          },
          {
           "hoverinfo": "skip",
           "marker": {
            "color": "pink"
           },
           "name": "Women",
           "orientation": "h",
           "type": "bar",
           "x": [
            -21777517,
            -17495239,
            -14648853,
            -12306081,
            -10415977,
            -8711533,
            -7210953,
            -5902424,
            -4847710,
            -4066919,
            -3390939,
            -2763423,
            -2184015,
            -1637435,
            -1099242,
            -635614,
            -431904
           ],
           "y": [
            1,
            6,
            11,
            16,
            21,
            26,
            31,
            36,
            41,
            46,
            51,
            56,
            61,
            66,
            71,
            76,
            81
           ]
          }
         ],
         "layout": {
          "title": {
           "text": "Population Pyramid for 1981"
          }
         }
        },
        {
         "data": [
          {
           "hoverinfo": "skip",
           "marker": {
            "color": "green"
           },
           "name": "Men",
           "orientation": "h",
           "type": "bar",
           "x": [
            22810275,
            18241902,
            15382222,
            12830415,
            10594937,
            8746870,
            7315752,
            6035204,
            4838022,
            3975389,
            3255787,
            2619274,
            2043933,
            1492595,
            960143,
            520989,
            313002
           ],
           "y": [
            1,
            6,
            11,
            16,
            21,
            26,
            31,
            36,
            41,
            46,
            51,
            56,
            61,
            66,
            71,
            76,
            81
           ]
          },
          {
           "hoverinfo": "skip",
           "marker": {
            "color": "pink"
           },
           "name": "Women",
           "orientation": "h",
           "type": "bar",
           "x": [
            -22473702,
            -18000846,
            -15146804,
            -12769283,
            -10782522,
            -9003952,
            -7454167,
            -6131200,
            -4983940,
            -4168814,
            -3477871,
            -2843750,
            -2246756,
            -1681985,
            -1135509,
            -658103,
            -450850
           ],
           "y": [
            1,
            6,
            11,
            16,
            21,
            26,
            31,
            36,
            41,
            46,
            51,
            56,
            61,
            66,
            71,
            76,
            81
           ]
          }
         ],
         "layout": {
          "title": {
           "text": "Population Pyramid for 1982"
          }
         }
        },
        {
         "data": [
          {
           "hoverinfo": "skip",
           "marker": {
            "color": "green"
           },
           "name": "Men",
           "orientation": "h",
           "type": "bar",
           "x": [
            23490290,
            18741341,
            15851675,
            13317970,
            10925332,
            8941702,
            7485012,
            6222268,
            4966410,
            4059511,
            3313287,
            2666232,
            2087580,
            1523815,
            989828,
            537767,
            326384
           ],
           "y": [
            1,
            6,
            11,
            16,
            21,
            26,
            31,
            36,
            41,
            46,
            51,
            56,
            61,
            66,
            71,
            76,
            81
           ]
          },
          {
           "hoverinfo": "skip",
           "marker": {
            "color": "pink"
           },
           "name": "Women",
           "orientation": "h",
           "type": "bar",
           "x": [
            -23150813,
            -18511872,
            -15613875,
            -13262527,
            -11147372,
            -9290928,
            -7718488,
            -6371189,
            -5140432,
            -4279377,
            -3565677,
            -2928443,
            -2310125,
            -1723219,
            -1170583,
            -679203,
            -469181
           ],
           "y": [
            1,
            6,
            11,
            16,
            21,
            26,
            31,
            36,
            41,
            46,
            51,
            56,
            61,
            66,
            71,
            76,
            81
           ]
          }
         ],
         "layout": {
          "title": {
           "text": "Population Pyramid for 1983"
          }
         }
        },
        {
         "data": [
          {
           "hoverinfo": "skip",
           "marker": {
            "color": "green"
           },
           "name": "Men",
           "orientation": "h",
           "type": "bar",
           "x": [
            24158992,
            19265452,
            16276164,
            13824715,
            11264541,
            9125885,
            7644846,
            6393354,
            5103130,
            4139904,
            3363321,
            2709023,
            2130449,
            1553086,
            1018723,
            553557,
            339448
           ],
           "y": [
            1,
            6,
            11,
            16,
            21,
            26,
            31,
            36,
            41,
            46,
            51,
            56,
            61,
            66,
            71,
            76,
            81
           ]
          },
          {
           "hoverinfo": "skip",
           "marker": {
            "color": "pink"
           },
           "name": "Women",
           "orientation": "h",
           "type": "bar",
           "x": [
            -23812771,
            -19041593,
            -16044949,
            -13794487,
            -11535428,
            -9588576,
            -7998200,
            -6613997,
            -5316188,
            -4392313,
            -3650215,
            -3016942,
            -2380294,
            -1766910,
            -1205254,
            -699563,
            -486919
           ],
           "y": [
            1,
            6,
            11,
            16,
            21,
            26,
            31,
            36,
            41,
            46,
            51,
            56,
            61,
            66,
            71,
            76,
            81
           ]
          }
         ],
         "layout": {
          "title": {
           "text": "Population Pyramid for 1984"
          }
         }
        },
        {
         "data": [
          {
           "hoverinfo": "skip",
           "marker": {
            "color": "green"
           },
           "name": "Men",
           "orientation": "h",
           "type": "bar",
           "x": [
            24889248,
            19831893,
            16680066,
            14361225,
            11630585,
            9300921,
            7796186,
            6543549,
            5246839,
            4214523,
            3403705,
            2746408,
            2173769,
            1586427,
            1046027,
            570437,
            353112
           ],
           "y": [
            1,
            6,
            11,
            16,
            21,
            26,
            31,
            36,
            41,
            46,
            51,
            56,
            61,
            66,
            71,
            76,
            81
           ]
          },
          {
           "hoverinfo": "skip",
           "marker": {
            "color": "pink"
           },
           "name": "Women",
           "orientation": "h",
           "type": "bar",
           "x": [
            -24524327,
            -19589540,
            -16449686,
            -14362871,
            -11966459,
            -9903986,
            -8292253,
            -6864638,
            -5513058,
            -4506551,
            -3730700,
            -3108062,
            -2463434,
            -1821570,
            -1239943,
            -720935,
            -505207
           ],
           "y": [
            1,
            6,
            11,
            16,
            21,
            26,
            31,
            36,
            41,
            46,
            51,
            56,
            61,
            66,
            71,
            76,
            81
           ]
          }
         ],
         "layout": {
          "title": {
           "text": "Population Pyramid for 1985"
          }
         }
        },
        {
         "data": [
          {
           "hoverinfo": "skip",
           "marker": {
            "color": "green"
           },
           "name": "Men",
           "orientation": "h",
           "type": "bar",
           "x": [
            25659302,
            20483027,
            17074031,
            14864092,
            12063481,
            9555134,
            7971969,
            6702558,
            5417021,
            4309017,
            3461245,
            2791193,
            2216340,
            1623400,
            1072089,
            588660,
            367358
           ],
           "y": [
            1,
            6,
            11,
            16,
            21,
            26,
            31,
            36,
            41,
            46,
            51,
            56,
            61,
            66,
            71,
            76,
            81
           ]
          },
          {
           "hoverinfo": "skip",
           "marker": {
            "color": "pink"
           },
           "name": "Women",
           "orientation": "h",
           "type": "bar",
           "x": [
            -25269776,
            -20219620,
            -16832281,
            -14857676,
            -12406705,
            -10230064,
            -8567388,
            -7106449,
            -5722441,
            -4629139,
            -3816049,
            -3191023,
            -2547561,
            -1877671,
            -1274427,
            -743496,
            -524251
           ],
           "y": [
            1,
            6,
            11,
            16,
            21,
            26,
            31,
            36,
            41,
            46,
            51,
            56,
            61,
            66,
            71,
            76,
            81
           ]
          }
         ],
         "layout": {
          "title": {
           "text": "Population Pyramid for 1986"
          }
         }
        },
        {
         "data": [
          {
           "hoverinfo": "skip",
           "marker": {
            "color": "green"
           },
           "name": "Men",
           "orientation": "h",
           "type": "bar",
           "x": [
            26468049,
            21205863,
            17479172,
            15272932,
            12546277,
            9922743,
            8176646,
            6890781,
            5616968,
            4430109,
            3543438,
            2849896,
            2261305,
            1662998,
            1099147,
            609235,
            387943
           ],
           "y": [
            1,
            6,
            11,
            16,
            21,
            26,
            31,
            36,
            41,
            46,
            51,
            56,
            61,
            66,
            71,
            76,
            81
           ]
          },
          {
           "hoverinfo": "skip",
           "marker": {
            "color": "pink"
           },
           "name": "Women",
           "orientation": "h",
           "type": "bar",
           "x": [
            -26055656,
            -20930414,
            -17233999,
            -15245050,
            -12850250,
            -10567585,
            -8805389,
            -7330644,
            -5933316,
            -4757635,
            -3908322,
            -3263436,
            -2627041,
            -1931388,
            -1309492,
            -767890,
            -549399
           ],
           "y": [
            1,
            6,
            11,
            16,
            21,
            26,
            31,
            36,
            41,
            46,
            51,
            56,
            61,
            66,
            71,
            76,
            81
           ]
          }
         ],
         "layout": {
          "title": {
           "text": "Population Pyramid for 1987"
          }
         }
        },
        {
         "data": [
          {
           "hoverinfo": "skip",
           "marker": {
            "color": "green"
           },
           "name": "Men",
           "orientation": "h",
           "type": "bar",
           "x": [
            27244000,
            21905707,
            17939780,
            15602172,
            13001337,
            10305807,
            8379508,
            7073443,
            5806700,
            4554329,
            3626294,
            2907251,
            2303733,
            1700140,
            1121454,
            629327,
            405879
           ],
           "y": [
            1,
            6,
            11,
            16,
            21,
            26,
            31,
            36,
            41,
            46,
            51,
            56,
            61,
            66,
            71,
            76,
            81
           ]
          },
          {
           "hoverinfo": "skip",
           "marker": {
            "color": "pink"
           },
           "name": "Women",
           "orientation": "h",
           "type": "bar",
           "x": [
            -26815263,
            -21624936,
            -17712602,
            -15586244,
            -13303304,
            -10910089,
            -9034519,
            -7549411,
            -6136236,
            -4887775,
            -4002833,
            -3332030,
            -2702870,
            -1985718,
            -1340897,
            -791376,
            -572214
           ],
           "y": [
            1,
            6,
            11,
            16,
            21,
            26,
            31,
            36,
            41,
            46,
            51,
            56,
            61,
            66,
            71,
            76,
            81
           ]
          }
         ],
         "layout": {
          "title": {
           "text": "Population Pyramid for 1988"
          }
         }
        },
        {
         "data": [
          {
           "hoverinfo": "skip",
           "marker": {
            "color": "green"
           },
           "name": "Men",
           "orientation": "h",
           "type": "bar",
           "x": [
            27978244,
            22576098,
            18483808,
            15895648,
            13451460,
            10714557,
            8607787,
            7251899,
            5988345,
            4689994,
            3713645,
            2963741,
            2344984,
            1735966,
            1141919,
            648470,
            415962
           ],
           "y": [
            1,
            6,
            11,
            16,
            21,
            26,
            31,
            36,
            41,
            46,
            51,
            56,
            61,
            66,
            71,
            76,
            81
           ]
          },
          {
           "hoverinfo": "skip",
           "marker": {
            "color": "pink"
           },
           "name": "Women",
           "orientation": "h",
           "type": "bar",
           "x": [
            -27527748,
            -22292120,
            -18270233,
            -15886377,
            -13762029,
            -11277670,
            -9281030,
            -7767249,
            -6334894,
            -5030995,
            -4103076,
            -3398590,
            -2772642,
            -2042289,
            -1372354,
            -814788,
            -588276
           ],
           "y": [
            1,
            6,
            11,
            16,
            21,
            26,
            31,
            36,
            41,
            46,
            51,
            56,
            61,
            66,
            71,
            76,
            81
           ]
          }
         ],
         "layout": {
          "title": {
           "text": "Population Pyramid for 1989"
          }
         }
        },
        {
         "data": [
          {
           "hoverinfo": "skip",
           "marker": {
            "color": "green"
           },
           "name": "Men",
           "orientation": "h",
           "type": "bar",
           "x": [
            28707512,
            23259215,
            19119223,
            16204838,
            13901986,
            11156453,
            8881736,
            7439644,
            6168367,
            4847232,
            3811356,
            3024722,
            2389698,
            1774349,
            1167310,
            667270,
            427533
           ],
           "y": [
            1,
            6,
            11,
            16,
            21,
            26,
            31,
            36,
            41,
            46,
            51,
            56,
            61,
            66,
            71,
            76,
            81
           ]
          },
          {
           "hoverinfo": "skip",
           "marker": {
            "color": "pink"
           },
           "name": "Women",
           "orientation": "h",
           "type": "bar",
           "x": [
            -28228946,
            -22971404,
            -18900622,
            -16183066,
            -14209839,
            -11680543,
            -9561941,
            -7990076,
            -6539476,
            -5197211,
            -4212311,
            -3467895,
            -2839749,
            -2105047,
            -1408503,
            -839479,
            -606122
           ],
           "y": [
            1,
            6,
            11,
            16,
            21,
            26,
            31,
            36,
            41,
            46,
            51,
            56,
            61,
            66,
            71,
            76,
            81
           ]
          }
         ],
         "layout": {
          "title": {
           "text": "Population Pyramid for 1990"
          }
         }
        },
        {
         "data": [
          {
           "hoverinfo": "skip",
           "marker": {
            "color": "green"
           },
           "name": "Men",
           "orientation": "h",
           "type": "bar",
           "x": [
            29347152,
            23975869,
            19793162,
            16506174,
            14300351,
            11596414,
            9189754,
            7623661,
            6332306,
            5011904,
            3909745,
            3086880,
            2436139,
            1812530,
            1195328,
            685841,
            442766
           ],
           "y": [
            1,
            6,
            11,
            16,
            21,
            26,
            31,
            36,
            41,
            46,
            51,
            56,
            61,
            66,
            71,
            76,
            81
           ]
          },
          {
           "hoverinfo": "skip",
           "marker": {
            "color": "pink"
           },
           "name": "Women",
           "orientation": "h",
           "type": "bar",
           "x": [
            -28836219,
            -23672682,
            -19570013,
            -16488047,
            -14618271,
            -12102091,
            -9862671,
            -8198487,
            -6731763,
            -5368470,
            -4316158,
            -3532159,
            -2898131,
            -2168609,
            -1444685,
            -863347,
            -626263
           ],
           "y": [
            1,
            6,
            11,
            16,
            21,
            26,
            31,
            36,
            41,
            46,
            51,
            56,
            61,
            66,
            71,
            76,
            81
           ]
          }
         ],
         "layout": {
          "title": {
           "text": "Population Pyramid for 1991"
          }
         }
        },
        {
         "data": [
          {
           "hoverinfo": "skip",
           "marker": {
            "color": "green"
           },
           "name": "Men",
           "orientation": "h",
           "type": "bar",
           "x": [
            29894583,
            24712529,
            20478161,
            16834366,
            14619197,
            11999567,
            9503988,
            7780671,
            6475906,
            5170806,
            4000647,
            3145243,
            2478438,
            1847998,
            1221826,
            702492,
            457553
           ],
           "y": [
            1,
            6,
            11,
            16,
            21,
            26,
            31,
            36,
            41,
            46,
            51,
            56,
            61,
            66,
            71,
            76,
            81
           ]
          },
          {
           "hoverinfo": "skip",
           "marker": {
            "color": "pink"
           },
           "name": "Women",
           "orientation": "h",
           "type": "bar",
           "x": [
            -29368540,
            -24390944,
            -20261533,
            -16846702,
            -14969987,
            -12522890,
            -10175477,
            -8393716,
            -6914975,
            -5541970,
            -4414867,
            -3599326,
            -2958059,
            -2236208,
            -1482028,
            -885847,
            -646482
           ],
           "y": [
            1,
            6,
            11,
            16,
            21,
            26,
            31,
            36,
            41,
            46,
            51,
            56,
            61,
            66,
            71,
            76,
            81
           ]
          }
         ],
         "layout": {
          "title": {
           "text": "Population Pyramid for 1992"
          }
         }
        },
        {
         "data": [
          {
           "hoverinfo": "skip",
           "marker": {
            "color": "green"
           },
           "name": "Men",
           "orientation": "h",
           "type": "bar",
           "x": [
            30453751,
            25475724,
            21206240,
            17295666,
            14894684,
            12369383,
            9806475,
            7923296,
            6608335,
            5318929,
            4089783,
            3197257,
            2505636,
            1879465,
            1247440,
            715530,
            469652
           ],
           "y": [
            1,
            6,
            11,
            16,
            21,
            26,
            31,
            36,
            41,
            46,
            51,
            56,
            61,
            66,
            71,
            76,
            81
           ]
          },
          {
           "hoverinfo": "skip",
           "marker": {
            "color": "pink"
           },
           "name": "Women",
           "orientation": "h",
           "type": "bar",
           "x": [
            -29931629,
            -25143386,
            -20980419,
            -17311202,
            -15262992,
            -12941185,
            -10511397,
            -8616282,
            -7119625,
            -5727331,
            -4524162,
            -3675391,
            -3016073,
            -2308096,
            -1525122,
            -907603,
            -666043
           ],
           "y": [
            1,
            6,
            11,
            16,
            21,
            26,
            31,
            36,
            41,
            46,
            51,
            56,
            61,
            66,
            71,
            76,
            81
           ]
          }
         ],
         "layout": {
          "title": {
           "text": "Population Pyramid for 1993"
          }
         }
        },
        {
         "data": [
          {
           "hoverinfo": "skip",
           "marker": {
            "color": "green"
           },
           "name": "Men",
           "orientation": "h",
           "type": "bar",
           "x": [
            30982395,
            26162812,
            21894255,
            17886051,
            15200899,
            12772502,
            10137618,
            8088172,
            6735514,
            5463716,
            4187695,
            3244375,
            2512920,
            1900415,
            1271997,
            728982,
            485316
           ],
           "y": [
            1,
            6,
            11,
            16,
            21,
            26,
            31,
            36,
            41,
            46,
            51,
            56,
            61,
            66,
            71,
            76,
            81
           ]
          },
          {
           "hoverinfo": "skip",
           "marker": {
            "color": "pink"
           },
           "name": "Women",
           "orientation": "h",
           "type": "bar",
           "x": [
            -30459684,
            -25813683,
            -21633560,
            -17858155,
            -15555013,
            -13402449,
            -10897029,
            -8882529,
            -7338814,
            -5918075,
            -4646688,
            -3747600,
            -3052648,
            -2368564,
            -1570464,
            -929603,
            -688205
           ],
           "y": [
            1,
            6,
            11,
            16,
            21,
            26,
            31,
            36,
            41,
            46,
            51,
            56,
            61,
            66,
            71,
            76,
            81
           ]
          }
         ],
         "layout": {
          "title": {
           "text": "Population Pyramid for 1994"
          }
         }
        },
        {
         "data": [
          {
           "hoverinfo": "skip",
           "marker": {
            "color": "green"
           },
           "name": "Men",
           "orientation": "h",
           "type": "bar",
           "x": [
            31562210,
            26772696,
            22559057,
            18552680,
            15518633,
            13173104,
            10493936,
            8284333,
            6860429,
            5601793,
            4306021,
            3305439,
            2530373,
            1919223,
            1296866,
            744348,
            499116
           ],
           "y": [
            1,
            6,
            11,
            16,
            21,
            26,
            31,
            36,
            41,
            46,
            51,
            56,
            61,
            66,
            71,
            76,
            81
           ]
          },
          {
           "hoverinfo": "skip",
           "marker": {
            "color": "pink"
           },
           "name": "Women",
           "orientation": "h",
           "type": "bar",
           "x": [
            -31039100,
            -26419817,
            -22293639,
            -18494355,
            -15855106,
            -13843105,
            -11291082,
            -9161158,
            -7552084,
            -6109752,
            -4790726,
            -3832209,
            -3095015,
            -2423776,
            -1620994,
            -953655,
            -710811
           ],
           "y": [
            1,
            6,
            11,
            16,
            21,
            26,
            31,
            36,
            41,
            46,
            51,
            56,
            61,
            66,
            71,
            76,
            81
           ]
          }
         ],
         "layout": {
          "title": {
           "text": "Population Pyramid for 1995"
          }
         }
        },
        {
         "data": [
          {
           "hoverinfo": "skip",
           "marker": {
            "color": "green"
           },
           "name": "Men",
           "orientation": "h",
           "type": "bar",
           "x": [
            32277389,
            27400324,
            23290245,
            19253620,
            15804576,
            13494455,
            10832577,
            8500149,
            6980938,
            5728089,
            4445526,
            3388224,
            2577749,
            1946277,
            1325199,
            761606,
            510355
           ],
           "y": [
            1,
            6,
            11,
            16,
            21,
            26,
            31,
            36,
            41,
            46,
            51,
            56,
            61,
            66,
            71,
            76,
            81
           ]
          },
          {
           "hoverinfo": "skip",
           "marker": {
            "color": "pink"
           },
           "name": "Women",
           "orientation": "h",
           "type": "bar",
           "x": [
            -31753691,
            -27068416,
            -23065963,
            -19214264,
            -16140534,
            -14175305,
            -11639002,
            -9424026,
            -7751460,
            -6300354,
            -4957766,
            -3936605,
            -3162723,
            -2482934,
            -1680939,
            -980839,
            -733711
           ],
           "y": [
            1,
            6,
            11,
            16,
            21,
            26,
            31,
            36,
            41,
            46,
            51,
            56,
            61,
            66,
            71,
            76,
            81
           ]
          }
         ],
         "layout": {
          "title": {
           "text": "Population Pyramid for 1996"
          }
         }
        },
        {
         "data": [
          {
           "hoverinfo": "skip",
           "marker": {
            "color": "green"
           },
           "name": "Men",
           "orientation": "h",
           "type": "bar",
           "x": [
            32957971,
            27982611,
            24037724,
            19953480,
            16128955,
            13776356,
            11179236,
            8756004,
            7102688,
            5854963,
            4598039,
            3478406,
            2633863,
            1971414,
            1353509,
            780311,
            526691
           ],
           "y": [
            1,
            6,
            11,
            16,
            21,
            26,
            31,
            36,
            41,
            46,
            51,
            56,
            61,
            66,
            71,
            76,
            81
           ]
          },
          {
           "hoverinfo": "skip",
           "marker": {
            "color": "pink"
           },
           "name": "Women",
           "orientation": "h",
           "type": "bar",
           "x": [
            -32425685,
            -27669660,
            -23836447,
            -19925836,
            -16451663,
            -14435788,
            -11976127,
            -9690095,
            -7938245,
            -6487061,
            -5134447,
            -4037919,
            -3227995,
            -2530046,
            -1742388,
            -1010581,
            -760023
           ],
           "y": [
            1,
            6,
            11,
            16,
            21,
            26,
            31,
            36,
            41,
            46,
            51,
            56,
            61,
            66,
            71,
            76,
            81
           ]
          }
         ],
         "layout": {
          "title": {
           "text": "Population Pyramid for 1997"
          }
         }
        },
        {
         "data": [
          {
           "hoverinfo": "skip",
           "marker": {
            "color": "green"
           },
           "name": "Men",
           "orientation": "h",
           "type": "bar",
           "x": [
            33571837,
            28505787,
            24763691,
            20643080,
            16562406,
            14053772,
            11556290,
            9061935,
            7250266,
            5991585,
            4753572,
            3576923,
            2694535,
            1994770,
            1378918,
            800801,
            546343
           ],
           "y": [
            1,
            6,
            11,
            16,
            21,
            26,
            31,
            36,
            41,
            46,
            51,
            56,
            61,
            66,
            71,
            76,
            81
           ]
          },
          {
           "hoverinfo": "skip",
           "marker": {
            "color": "pink"
           },
           "name": "Women",
           "orientation": "h",
           "type": "bar",
           "x": [
            -33028475,
            -28202108,
            -24562697,
            -20604554,
            -16856087,
            -14671838,
            -12337732,
            -9981559,
            -8137390,
            -6680537,
            -5314835,
            -4141873,
            -3289970,
            -2565492,
            -1799843,
            -1044576,
            -789504
           ],
           "y": [
            1,
            6,
            11,
            16,
            21,
            26,
            31,
            36,
            41,
            46,
            51,
            56,
            61,
            66,
            71,
            76,
            81
           ]
          }
         ],
         "layout": {
          "title": {
           "text": "Population Pyramid for 1998"
          }
         }
        },
        {
         "data": [
          {
           "hoverinfo": "skip",
           "marker": {
            "color": "green"
           },
           "name": "Men",
           "orientation": "h",
           "type": "bar",
           "x": [
            34220341,
            29013736,
            25454809,
            21323304,
            17113723,
            14328546,
            11941859,
            9396226,
            7426175,
            6129441,
            4907588,
            3689192,
            2764580,
            2023405,
            1401721,
            823506,
            568433
           ],
           "y": [
            1,
            6,
            11,
            16,
            21,
            26,
            31,
            36,
            41,
            46,
            51,
            56,
            61,
            66,
            71,
            76,
            81
           ]
          },
          {
           "hoverinfo": "skip",
           "marker": {
            "color": "pink"
           },
           "name": "Women",
           "orientation": "h",
           "type": "bar",
           "x": [
            -33669847,
            -28717923,
            -25258215,
            -21290785,
            -17387536,
            -14900105,
            -12706829,
            -10293352,
            -8358160,
            -6880699,
            -5499694,
            -4265188,
            -3365190,
            -2602629,
            -1853769,
            -1084959,
            -824810
           ],
           "y": [
            1,
            6,
            11,
            16,
            21,
            26,
            31,
            36,
            41,
            46,
            51,
            56,
            61,
            66,
            71,
            76,
            81
           ]
          }
         ],
         "layout": {
          "title": {
           "text": "Population Pyramid for 1999"
          }
         }
        },
        {
         "data": [
          {
           "hoverinfo": "skip",
           "marker": {
            "color": "green"
           },
           "name": "Men",
           "orientation": "h",
           "type": "bar",
           "x": [
            34907848,
            29588870,
            26089381,
            22001967,
            17752453,
            14609951,
            12313276,
            9749551,
            7633655,
            6267757,
            5052459,
            3814716,
            2841970,
            2058915,
            1425094,
            848614,
            595482
           ],
           "y": [
            1,
            6,
            11,
            16,
            21,
            26,
            31,
            36,
            41,
            46,
            51,
            56,
            61,
            66,
            71,
            76,
            81
           ]
          },
          {
           "hoverinfo": "skip",
           "marker": {
            "color": "pink"
           },
           "name": "Women",
           "orientation": "h",
           "type": "bar",
           "x": [
            -34347069,
            -29295840,
            -25891956,
            -21979525,
            -17995370,
            -15122561,
            -13048241,
            -10616194,
            -8594559,
            -7075985,
            -5682533,
            -4405187,
            -3449341,
            -2642774,
            -1903924,
            -1131468,
            -866089
           ],
           "y": [
            1,
            6,
            11,
            16,
            21,
            26,
            31,
            36,
            41,
            46,
            51,
            56,
            61,
            66,
            71,
            76,
            81
           ]
          }
         ],
         "layout": {
          "title": {
           "text": "Population Pyramid for 2000"
          }
         }
        },
        {
         "data": [
          {
           "hoverinfo": "skip",
           "marker": {
            "color": "green"
           },
           "name": "Men",
           "orientation": "h",
           "type": "bar",
           "x": [
            35604125,
            30239811,
            26656896,
            22685674,
            18442321,
            14926864,
            12667761,
            10116194,
            7877640,
            6409264,
            5187418,
            3952584,
            2926937,
            2101897,
            1450133,
            874159,
            624558
           ],
           "y": [
            1,
            6,
            11,
            16,
            21,
            26,
            31,
            36,
            41,
            46,
            51,
            56,
            61,
            66,
            71,
            76,
            81
           ]
          },
          {
           "hoverinfo": "skip",
           "marker": {
            "color": "pink"
           },
           "name": "Women",
           "orientation": "h",
           "type": "bar",
           "x": [
            -35030081,
            -29946085,
            -26466027,
            -22679746,
            -18660063,
            -15378465,
            -13352360,
            -10945770,
            -8846826,
            -7264879,
            -5861864,
            -4558663,
            -3540312,
            -2687634,
            -1948945,
            -1181490,
            -908475
           ],
           "y": [
            1,
            6,
            11,
            16,
            21,
            26,
            31,
            36,
            41,
            46,
            51,
            56,
            61,
            66,
            71,
            76,
            81
           ]
          }
         ],
         "layout": {
          "title": {
           "text": "Population Pyramid for 2001"
          }
         }
        },
        {
         "data": [
          {
           "hoverinfo": "skip",
           "marker": {
            "color": "green"
           },
           "name": "Men",
           "orientation": "h",
           "type": "bar",
           "x": [
            36378931,
            30909064,
            27187949,
            23389561,
            19150354,
            15300571,
            12992595,
            10481456,
            8152295,
            6547824,
            5321045,
            4099488,
            3016149,
            2153329,
            1475250,
            898148,
            651433
           ],
           "y": [
            1,
            6,
            11,
            16,
            21,
            26,
            31,
            36,
            41,
            46,
            51,
            56,
            61,
            66,
            71,
            76,
            81
           ]
          },
          {
           "hoverinfo": "skip",
           "marker": {
            "color": "pink"
           },
           "name": "Women",
           "orientation": "h",
           "type": "bar",
           "x": [
            -35793713,
            -30607277,
            -27008484,
            -23397627,
            -19355820,
            -15700205,
            -13615082,
            -11277411,
            -9115154,
            -7449470,
            -6043369,
            -4723422,
            -3635711,
            -2741516,
            -1988630,
            -1232073,
            -950699
           ],
           "y": [
            1,
            6,
            11,
            16,
            21,
            26,
            31,
            36,
            41,
            46,
            51,
            56,
            61,
            66,
            71,
            76,
            81
           ]
          }
         ],
         "layout": {
          "title": {
           "text": "Population Pyramid for 2002"
          }
         }
        },
        {
         "data": [
          {
           "hoverinfo": "skip",
           "marker": {
            "color": "green"
           },
           "name": "Men",
           "orientation": "h",
           "type": "bar",
           "x": [
            37231060,
            31589378,
            27720901,
            24096953,
            19848251,
            15760294,
            13284486,
            10841676,
            8445913,
            6695507,
            5458010,
            4248266,
            3110360,
            2212656,
            1500776,
            919728,
            675470
           ],
           "y": [
            1,
            6,
            11,
            16,
            21,
            26,
            31,
            36,
            41,
            46,
            51,
            56,
            61,
            66,
            71,
            76,
            81
           ]
          },
          {
           "hoverinfo": "skip",
           "marker": {
            "color": "pink"
           },
           "name": "Women",
           "orientation": "h",
           "type": "bar",
           "x": [
            -36632195,
            -31274652,
            -27546814,
            -24120508,
            -20051525,
            -16112976,
            -13835181,
            -11605105,
            -9390845,
            -7639904,
            -6230259,
            -4891659,
            -3735286,
            -2804510,
            -2023740,
            -1279707,
            -992954
           ],
           "y": [
            1,
            6,
            11,
            16,
            21,
            26,
            31,
            36,
            41,
            46,
            51,
            56,
            61,
            66,
            71,
            76,
            81
           ]
          }
         ],
         "layout": {
          "title": {
           "text": "Population Pyramid for 2003"
          }
         }
        },
        {
         "data": [
          {
           "hoverinfo": "skip",
           "marker": {
            "color": "green"
           },
           "name": "Men",
           "orientation": "h",
           "type": "bar",
           "x": [
            38124818,
            32313845,
            28272449,
            24777008,
            20529313,
            16324753,
            13563785,
            11201052,
            8755329,
            6866059,
            5595956,
            4397510,
            3214993,
            2278790,
            1529372,
            938957,
            699127
           ],
           "y": [
            1,
            6,
            11,
            16,
            21,
            26,
            31,
            36,
            41,
            46,
            51,
            56,
            61,
            66,
            71,
            76,
            81
           ]
          },
          {
           "hoverinfo": "skip",
           "marker": {
            "color": "pink"
           },
           "name": "Women",
           "orientation": "h",
           "type": "bar",
           "x": [
            -37508354,
            -31986476,
            -28098918,
            -24821016,
            -20747463,
            -16633896,
            -14035278,
            -11926998,
            -9672920,
            -7846078,
            -6419328,
            -5061372,
            -3845258,
            -2875993,
            -2057882,
            -1323149,
            -1038066
           ],
           "y": [
            1,
            6,
            11,
            16,
            21,
            26,
            31,
            36,
            41,
            46,
            51,
            56,
            61,
            66,
            71,
            76,
            81
           ]
          }
         ],
         "layout": {
          "title": {
           "text": "Population Pyramid for 2004"
          }
         }
        },
        {
         "data": [
          {
           "hoverinfo": "skip",
           "marker": {
            "color": "green"
           },
           "name": "Men",
           "orientation": "h",
           "type": "bar",
           "x": [
            39060625,
            33055217,
            28885239,
            25396070,
            21197391,
            16973677,
            13855810,
            11554987,
            9081277,
            7064462,
            5733461,
            4539535,
            3331888,
            2350924,
            1561819,
            957501,
            723716
           ],
           "y": [
            1,
            6,
            11,
            16,
            21,
            26,
            31,
            36,
            41,
            46,
            51,
            56,
            61,
            66,
            71,
            76,
            81
           ]
          },
          {
           "hoverinfo": "skip",
           "marker": {
            "color": "pink"
           },
           "name": "Women",
           "orientation": "h",
           "type": "bar",
           "x": [
            -38422746,
            -32713560,
            -28711450,
            -25459544,
            -21448490,
            -17246742,
            -14250597,
            -12235647,
            -9966345,
            -8069988,
            -6604260,
            -5231894,
            -3970197,
            -2955348,
            -2093717,
            -1362585,
            -1087148
           ],
           "y": [
            1,
            6,
            11,
            16,
            21,
            26,
            31,
            36,
            41,
            46,
            51,
            56,
            61,
            66,
            71,
            76,
            81
           ]
          }
         ],
         "layout": {
          "title": {
           "text": "Population Pyramid for 2005"
          }
         }
        },
        {
         "data": [
          {
           "hoverinfo": "skip",
           "marker": {
            "color": "green"
           },
           "name": "Men",
           "orientation": "h",
           "type": "bar",
           "x": [
            40045542,
            33807970,
            29568034,
            25970528,
            21881903,
            17678102,
            14188785,
            11901267,
            9421483,
            7294681,
            5871393,
            4671941,
            3459015,
            2426608,
            1599228,
            976760,
            747392
           ],
           "y": [
            1,
            6,
            11,
            16,
            21,
            26,
            31,
            36,
            41,
            46,
            51,
            56,
            61,
            66,
            71,
            76,
            81
           ]
          },
          {
           "hoverinfo": "skip",
           "marker": {
            "color": "pink"
           },
           "name": "Women",
           "orientation": "h",
           "type": "bar",
           "x": [
            -39379077,
            -33451866,
            -29390265,
            -26047818,
            -22165626,
            -17928165,
            -14517054,
            -12526858,
            -10273737,
            -8312633,
            -6784328,
            -5401728,
            -4108588,
            -3039421,
            -2134257,
            -1398364,
            -1138085
           ],
           "y": [
            1,
            6,
            11,
            16,
            21,
            26,
            31,
            36,
            41,
            46,
            51,
            56,
            61,
            66,
            71,
            76,
            81
           ]
          }
         ],
         "layout": {
          "title": {
           "text": "Population Pyramid for 2006"
          }
         }
        },
        {
         "data": [
          {
           "hoverinfo": "skip",
           "marker": {
            "color": "green"
           },
           "name": "Men",
           "orientation": "h",
           "type": "bar",
           "x": [
            41072675,
            34640791,
            30260742,
            26524356,
            22593229,
            18403400,
            14586405,
            12234148,
            9773532,
            7558824,
            6010086,
            4804087,
            3595782,
            2505244,
            1642965,
            996080,
            768789
           ],
           "y": [
            1,
            6,
            11,
            16,
            21,
            26,
            31,
            36,
            41,
            46,
            51,
            56,
            61,
            66,
            71,
            76,
            81
           ]
          },
          {
           "hoverinfo": "skip",
           "marker": {
            "color": "pink"
           },
           "name": "Women",
           "orientation": "h",
           "type": "bar",
           "x": [
            -40373410,
            -34273592,
            -30072411,
            -26611604,
            -22900317,
            -18644459,
            -14859639,
            -12796166,
            -10595373,
            -8576233,
            -6965694,
            -5575547,
            -4260946,
            -3127004,
            -2182770,
            -1430556,
            -1189586
           ],
           "y": [
            1,
            6,
            11,
            16,
            21,
            26,
            31,
            36,
            41,
            46,
            51,
            56,
            61,
            66,
            71,
            76,
            81
           ]
          }
         ],
         "layout": {
          "title": {
           "text": "Population Pyramid for 2007"
          }
         }
        },
        {
         "data": [
          {
           "hoverinfo": "skip",
           "marker": {
            "color": "green"
           },
           "name": "Men",
           "orientation": "h",
           "type": "bar",
           "x": [
            42153366,
            35543761,
            30947246,
            27068905,
            23300419,
            19113103,
            15069475,
            12546303,
            10133466,
            7847762,
            6161712,
            4940159,
            3735726,
            2588725,
            1691861,
            1014964,
            786337
           ],
           "y": [
            1,
            6,
            11,
            16,
            21,
            26,
            31,
            36,
            41,
            46,
            51,
            56,
            61,
            66,
            71,
            76,
            81
           ]
          },
          {
           "hoverinfo": "skip",
           "marker": {
            "color": "pink"
           },
           "name": "Women",
           "orientation": "h",
           "type": "bar",
           "x": [
            -41417931,
            -35166994,
            -30749326,
            -27165199,
            -23635751,
            -19361289,
            -15298195,
            -13039048,
            -10926390,
            -8854142,
            -7157947,
            -5756401,
            -4420394,
            -3219652,
            -2239088,
            -1459356,
            -1238525
           ],
           "y": [
            1,
            6,
            11,
            16,
            21,
            26,
            31,
            36,
            41,
            46,
            51,
            56,
            61,
            66,
            71,
            76,
            81
           ]
          }
         ],
         "layout": {
          "title": {
           "text": "Population Pyramid for 2008"
          }
         }
        },
        {
         "data": [
          {
           "hoverinfo": "skip",
           "marker": {
            "color": "green"
           },
           "name": "Men",
           "orientation": "h",
           "type": "bar",
           "x": [
            43238789,
            36478873,
            31655856,
            27607373,
            23971952,
            19800311,
            15647769,
            12845780,
            10496948,
            8154302,
            6336687,
            5078543,
            3877339,
            2681186,
            1745162,
            1035298,
            801861
           ],
           "y": [
            1,
            6,
            11,
            16,
            21,
            26,
            31,
            36,
            41,
            46,
            51,
            56,
            61,
            66,
            71,
            76,
            81
           ]
          },
          {
           "hoverinfo": "skip",
           "marker": {
            "color": "pink"
           },
           "name": "Women",
           "orientation": "h",
           "type": "bar",
           "x": [
            -42464806,
            -36092207,
            -31462174,
            -27727105,
            -24350082,
            -20072498,
            -15835572,
            -13264734,
            -11258766,
            -9141718,
            -7366198,
            -5940020,
            -4582795,
            -3322433,
            -2302677,
            -1487204,
            -1285457
           ],
           "y": [
            1,
            6,
            11,
            16,
            21,
            26,
            31,
            36,
            41,
            46,
            51,
            56,
            61,
            66,
            71,
            76,
            81
           ]
          }
         ],
         "layout": {
          "title": {
           "text": "Population Pyramid for 2009"
          }
         }
        },
        {
         "data": [
          {
           "hoverinfo": "skip",
           "marker": {
            "color": "green"
           },
           "name": "Men",
           "orientation": "h",
           "type": "bar",
           "x": [
            44281328,
            37466367,
            32395304,
            28211924,
            24590030,
            20473997,
            16306897,
            13158924,
            10859337,
            8477428,
            6538127,
            5217887,
            4013256,
            2786050,
            1803838,
            1058670,
            819329
           ],
           "y": [
            1,
            6,
            11,
            16,
            21,
            26,
            31,
            36,
            41,
            46,
            51,
            56,
            61,
            66,
            71,
            76,
            81
           ]
          },
          {
           "hoverinfo": "skip",
           "marker": {
            "color": "pink"
           },
           "name": "Women",
           "orientation": "h",
           "type": "bar",
           "x": [
            -43470277,
            -37062339,
            -32198382,
            -28343895,
            -25002891,
            -20788690,
            -16463081,
            -13507938,
            -11583442,
            -9442837,
            -7595527,
            -6124129,
            -4749018,
            -3441258,
            -2374564,
            -1517486,
            -1335224
           ],
           "y": [
            1,
            6,
            11,
            16,
            21,
            26,
            31,
            36,
            41,
            46,
            51,
            56,
            61,
            66,
            71,
            76,
            81
           ]
          }
         ],
         "layout": {
          "title": {
           "text": "Population Pyramid for 2010"
          }
         }
        },
        {
         "data": [
          {
           "hoverinfo": "skip",
           "marker": {
            "color": "green"
           },
           "name": "Men",
           "orientation": "h",
           "type": "bar",
           "x": [
            45267347,
            38501830,
            33163330,
            28895166,
            25158368,
            21142083,
            17006266,
            13506089,
            11213784,
            8811260,
            6764841,
            5355631,
            4138850,
            2901676,
            1866356,
            1086306,
            839064
           ],
           "y": [
            1,
            6,
            11,
            16,
            21,
            26,
            31,
            36,
            41,
            46,
            51,
            56,
            61,
            66,
            71,
            76,
            81
           ]
          },
          {
           "hoverinfo": "skip",
           "marker": {
            "color": "pink"
           },
           "name": "Women",
           "orientation": "h",
           "type": "bar",
           "x": [
            -44419782,
            -38069847,
            -32946172,
            -29007846,
            -25587492,
            -21509936,
            -17153760,
            -13797765,
            -11890181,
            -9755095,
            -7844824,
            -6307396,
            -4916609,
            -3575548,
            -2452393,
            -1552612,
            -1387449
           ],
           "y": [
            1,
            6,
            11,
            16,
            21,
            26,
            31,
            36,
            41,
            46,
            51,
            56,
            61,
            66,
            71,
            76,
            81
           ]
          }
         ],
         "layout": {
          "title": {
           "text": "Population Pyramid for 2011"
          }
         }
        },
        {
         "data": [
          {
           "hoverinfo": "skip",
           "marker": {
            "color": "green"
           },
           "name": "Men",
           "orientation": "h",
           "type": "bar",
           "x": [
            46198332,
            39576618,
            34014733,
            29593594,
            25708737,
            21829606,
            17720403,
            13914010,
            11557216,
            9158008,
            7020652,
            5492730,
            4263499,
            3026120,
            1932547,
            1118925,
            858333
           ],
           "y": [
            1,
            6,
            11,
            16,
            21,
            26,
            31,
            36,
            41,
            46,
            51,
            56,
            61,
            66,
            71,
            76,
            81
           ]
          },
          {
           "hoverinfo": "skip",
           "marker": {
            "color": "pink"
           },
           "name": "Women",
           "orientation": "h",
           "type": "bar",
           "x": [
            -45314314,
            -39109515,
            -33776468,
            -29672258,
            -26145574,
            -22249636,
            -17880921,
            -14160990,
            -12176035,
            -10079885,
            -8112188,
            -6492286,
            -5087645,
            -3723081,
            -2534415,
            -1594063,
            -1437311
           ],
           "y": [
            1,
            6,
            11,
            16,
            21,
            26,
            31,
            36,
            41,
            46,
            51,
            56,
            61,
            66,
            71,
            76,
            81
           ]
          }
         ],
         "layout": {
          "title": {
           "text": "Population Pyramid for 2012"
          }
         }
        },
        {
         "data": [
          {
           "hoverinfo": "skip",
           "marker": {
            "color": "green"
           },
           "name": "Men",
           "orientation": "h",
           "type": "bar",
           "x": [
            47078289,
            40719474,
            34956931,
            30318242,
            26282417,
            22537496,
            18431881,
            14413233,
            11888209,
            9518153,
            7300104,
            5640681,
            4391128,
            3152429,
            2004605,
            1156234,
            877613
           ],
           "y": [
            1,
            6,
            11,
            16,
            21,
            26,
            31,
            36,
            41,
            46,
            51,
            56,
            61,
            66,
            71,
            76,
            81
           ]
          },
          {
           "hoverinfo": "skip",
           "marker": {
            "color": "pink"
           },
           "name": "Women",
           "orientation": "h",
           "type": "bar",
           "x": [
            -46158242,
            -40210166,
            -34693873,
            -30350532,
            -26708837,
            -23010609,
            -18628128,
            -14629347,
            -12443161,
            -10416459,
            -8392894,
            -6689108,
            -5266249,
            -3877218,
            -2622742,
            -1642924,
            -1484270
           ],
           "y": [
            1,
            6,
            11,
            16,
            21,
            26,
            31,
            36,
            41,
            46,
            51,
            56,
            61,
            66,
            71,
            76,
            81
           ]
          }
         ],
         "layout": {
          "title": {
           "text": "Population Pyramid for 2013"
          }
         }
        },
        {
         "data": [
          {
           "hoverinfo": "skip",
           "marker": {
            "color": "green"
           },
           "name": "Men",
           "orientation": "h",
           "type": "bar",
           "x": [
            47924020,
            41868441,
            35940084,
            31090661,
            26880011,
            23235905,
            19129292,
            15009401,
            12213518,
            9887621,
            7597037,
            5808960,
            4519878,
            3276639,
            2084817,
            1197197,
            898334
           ],
           "y": [
            1,
            6,
            11,
            16,
            21,
            26,
            31,
            36,
            41,
            46,
            51,
            56,
            61,
            66,
            71,
            76,
            81
           ]
          },
          {
           "hoverinfo": "skip",
           "marker": {
            "color": "pink"
           },
           "name": "Women",
           "orientation": "h",
           "type": "bar",
           "x": [
            -46969032,
            -41317284,
            -35651456,
            -31075901,
            -27274718,
            -23746437,
            -19374608,
            -15202095,
            -12700216,
            -10756947,
            -8682787,
            -6903370,
            -5450078,
            -4033548,
            -2720900,
            -1698738,
            -1530870
           ],
           "y": [
            1,
            6,
            11,
            16,
            21,
            26,
            31,
            36,
            41,
            46,
            51,
            56,
            61,
            66,
            71,
            76,
            81
           ]
          }
         ],
         "layout": {
          "title": {
           "text": "Population Pyramid for 2014"
          }
         }
        },
        {
         "data": [
          {
           "hoverinfo": "skip",
           "marker": {
            "color": "green"
           },
           "name": "Men",
           "orientation": "h",
           "type": "bar",
           "x": [
            48779218,
            42978196,
            36983588,
            31918660,
            27575344,
            23915913,
            19839412,
            15700546,
            12562558,
            10264392,
            7912854,
            6001017,
            4647945,
            3395482,
            2174125,
            1241619,
            921499
           ],
           "y": [
            1,
            6,
            11,
            16,
            21,
            26,
            31,
            36,
            41,
            46,
            51,
            56,
            61,
            66,
            71,
            76,
            81
           ]
          },
          {
           "hoverinfo": "skip",
           "marker": {
            "color": "pink"
           },
           "name": "Women",
           "orientation": "h",
           "type": "bar",
           "x": [
            -47789665,
            -42384176,
            -36653658,
            -31827428,
            -27897498,
            -24435429,
            -20144063,
            -15874276,
            -12979382,
            -11093406,
            -8987141,
            -7137137,
            -5632117,
            -4191405,
            -2831054,
            -1760059,
            -1577875
           ],
           "y": [
            1,
            6,
            11,
            16,
            21,
            26,
            31,
            36,
            41,
            46,
            51,
            56,
            61,
            66,
            71,
            76,
            81
           ]
          }
         ],
         "layout": {
          "title": {
           "text": "Population Pyramid for 2015"
          }
         }
        },
        {
         "data": [
          {
           "hoverinfo": "skip",
           "marker": {
            "color": "green"
           },
           "name": "Men",
           "orientation": "h",
           "type": "bar",
           "x": [
            49641282,
            44047780,
            38079859,
            32743324,
            28285156,
            24494035,
            20512775,
            16408054,
            12926652,
            10623309,
            8233346,
            6211231,
            4770798,
            3504129,
            2270930,
            1288647,
            948781
           ],
           "y": [
            1,
            6,
            11,
            16,
            21,
            26,
            31,
            36,
            41,
            46,
            51,
            56,
            61,
            66,
            71,
            76,
            81
           ]
          },
          {
           "hoverinfo": "skip",
           "marker": {
            "color": "pink"
           },
           "name": "Women",
           "orientation": "h",
           "type": "bar",
           "x": [
            -48614067,
            -43408412,
            -37700546,
            -32581986,
            -28547884,
            -25046269,
            -20915316,
            -16603516,
            -13298383,
            -11411889,
            -9302333,
            -7387561,
            -5810939,
            -4349533,
            -2953290,
            -1825525,
            -1629818
           ],
           "y": [
            1,
            6,
            11,
            16,
            21,
            26,
            31,
            36,
            41,
            46,
            51,
            56,
            61,
            66,
            71,
            76,
            81
           ]
          }
         ],
         "layout": {
          "title": {
           "text": "Population Pyramid for 2016"
          }
         }
        },
        {
         "data": [
          {
           "hoverinfo": "skip",
           "marker": {
            "color": "green"
           },
           "name": "Men",
           "orientation": "h",
           "type": "bar",
           "x": [
            50527950,
            45048010,
            39194652,
            33610378,
            28956812,
            25005637,
            21167835,
            17103010,
            13331062,
            10961721,
            8561827,
            6445607,
            4892796,
            3609954,
            2373716,
            1338098,
            980011
           ],
           "y": [
            1,
            6,
            11,
            16,
            21,
            26,
            31,
            36,
            41,
            46,
            51,
            56,
            61,
            66,
            71,
            76,
            81
           ]
          },
          {
           "hoverinfo": "skip",
           "marker": {
            "color": "pink"
           },
           "name": "Women",
           "orientation": "h",
           "type": "bar",
           "x": [
            -49459497,
            -44365105,
            -38773390,
            -33410378,
            -29177045,
            -25594212,
            -21674320,
            -17350716,
            -13678514,
            -11705198,
            -9626161,
            -7652897,
            -5991427,
            -4509749,
            -3086225,
            -1894203,
            -1688213
           ],
           "y": [
            1,
            6,
            11,
            16,
            21,
            26,
            31,
            36,
            41,
            46,
            51,
            56,
            61,
            66,
            71,
            76,
            81
           ]
          }
         ],
         "layout": {
          "title": {
           "text": "Population Pyramid for 2017"
          }
         }
        },
        {
         "data": [
          {
           "hoverinfo": "skip",
           "marker": {
            "color": "green"
           },
           "name": "Men",
           "orientation": "h",
           "type": "bar",
           "x": [
            51462324,
            45959995,
            40339961,
            34553287,
            29672727,
            25565705,
            21859093,
            17803395,
            13828439,
            11294381,
            8911271,
            6708990,
            5031828,
            3722030,
            2477747,
            1392035,
            1014714
           ],
           "y": [
            1,
            6,
            11,
            16,
            21,
            26,
            31,
            36,
            41,
            46,
            51,
            56,
            61,
            66,
            71,
            76,
            81
           ]
          },
          {
           "hoverinfo": "skip",
           "marker": {
            "color": "pink"
           },
           "name": "Women",
           "orientation": "h",
           "type": "bar",
           "x": [
            -50354295,
            -45238285,
            -39886015,
            -34334491,
            -29841888,
            -26141601,
            -22432247,
            -18101141,
            -14153659,
            -11978368,
            -9960406,
            -7931174,
            -6185332,
            -4677211,
            -3224304,
            -1967877,
            -1750682
           ],
           "y": [
            1,
            6,
            11,
            16,
            21,
            26,
            31,
            36,
            41,
            46,
            51,
            56,
            61,
            66,
            71,
            76,
            81
           ]
          }
         ],
         "layout": {
          "title": {
           "text": "Population Pyramid for 2018"
          }
         }
        },
        {
         "data": [
          {
           "hoverinfo": "skip",
           "marker": {
            "color": "green"
           },
           "name": "Men",
           "orientation": "h",
           "type": "bar",
           "x": [
            52445829,
            46830488,
            41476275,
            35526881,
            30439607,
            26157013,
            22540445,
            18485600,
            14415738,
            11620415,
            9271944,
            6991100,
            5191655,
            3835788,
            2579929,
            1452252,
            1050938
           ],
           "y": [
            1,
            6,
            11,
            16,
            21,
            26,
            31,
            36,
            41,
            46,
            51,
            56,
            61,
            66,
            71,
            76,
            81
           ]
          },
          {
           "hoverinfo": "skip",
           "marker": {
            "color": "pink"
           },
           "name": "Women",
           "orientation": "h",
           "type": "bar",
           "x": [
            -51296626,
            -46072800,
            -40999618,
            -35311876,
            -30578412,
            -26700947,
            -23161560,
            -18847517,
            -14730960,
            -12243730,
            -10298215,
            -8217134,
            -6396462,
            -4848496,
            -3362927,
            -2048886,
            -1814665
           ],
           "y": [
            1,
            6,
            11,
            16,
            21,
            26,
            31,
            36,
            41,
            46,
            51,
            56,
            61,
            66,
            71,
            76,
            81
           ]
          }
         ],
         "layout": {
          "title": {
           "text": "Population Pyramid for 2019"
          }
         }
        },
        {
         "data": [
          {
           "hoverinfo": "skip",
           "marker": {
            "color": "green"
           },
           "name": "Men",
           "orientation": "h",
           "type": "bar",
           "x": [
            53461851,
            47709312,
            42575598,
            36563052,
            31250943,
            26824252,
            23186536,
            19161081,
            15076634,
            11954285,
            9627875,
            7279339,
            5359947,
            3937852,
            2665421,
            1511511,
            1077480
           ],
           "y": [
            1,
            6,
            11,
            16,
            21,
            26,
            31,
            36,
            41,
            46,
            51,
            56,
            61,
            66,
            71,
            76,
            81
           ]
          },
          {
           "hoverinfo": "skip",
           "marker": {
            "color": "pink"
           },
           "name": "Women",
           "orientation": "h",
           "type": "bar",
           "x": [
            -52265991,
            -46911818,
            -42069398,
            -36335804,
            -31355868,
            -27330572,
            -23844536,
            -19607075,
            -15395913,
            -12524773,
            -10625703,
            -8505650,
            -6613487,
            -5007885,
            -3491072,
            -2131769,
            -1872417
           ],
           "y": [
            1,
            6,
            11,
            16,
            21,
            26,
            31,
            36,
            41,
            46,
            51,
            56,
            61,
            66,
            71,
            76,
            81
           ]
          }
         ],
         "layout": {
          "title": {
           "text": "Population Pyramid for 2020"
          }
         }
        },
        {
         "data": [
          {
           "hoverinfo": "skip",
           "marker": {
            "color": "green"
           },
           "name": "Men",
           "orientation": "h",
           "type": "bar",
           "x": [
            54474934,
            48590005,
            43631748,
            37645093,
            32077598,
            27554198,
            23787250,
            19836395,
            15770587,
            12307798,
            9963920,
            7562962,
            5530561,
            4019492,
            2724146,
            1559724,
            1085329
           ],
           "y": [
            1,
            6,
            11,
            16,
            21,
            26,
            31,
            36,
            41,
            46,
            51,
            56,
            61,
            66,
            71,
            76,
            81
           ]
          },
          {
           "hoverinfo": "skip",
           "marker": {
            "color": "pink"
           },
           "name": "Women",
           "orientation": "h",
           "type": "bar",
           "x": [
            -53234090,
            -47750830,
            -43088865,
            -37392619,
            -32150758,
            -28023647,
            -24474164,
            -20373836,
            -16114329,
            -12840580,
            -10928926,
            -8791191,
            -6828373,
            -5147052,
            -3599557,
            -2207210,
            -1909063
           ],
           "y": [
            1,
            6,
            11,
            16,
            21,
            26,
            31,
            36,
            41,
            46,
            51,
            56,
            61,
            66,
            71,
            76,
            81
           ]
          }
         ],
         "layout": {
          "title": {
           "text": "Population Pyramid for 2021"
          }
         }
        }
       ],
       "layout": {
        "template": {
         "data": {
          "bar": [
           {
            "error_x": {
             "color": "#2a3f5f"
            },
            "error_y": {
             "color": "#2a3f5f"
            },
            "marker": {
             "line": {
              "color": "#E5ECF6",
              "width": 0.5
             },
             "pattern": {
              "fillmode": "overlay",
              "size": 10,
              "solidity": 0.2
             }
            },
            "type": "bar"
           }
          ],
          "barpolar": [
           {
            "marker": {
             "line": {
              "color": "#E5ECF6",
              "width": 0.5
             },
             "pattern": {
              "fillmode": "overlay",
              "size": 10,
              "solidity": 0.2
             }
            },
            "type": "barpolar"
           }
          ],
          "carpet": [
           {
            "aaxis": {
             "endlinecolor": "#2a3f5f",
             "gridcolor": "white",
             "linecolor": "white",
             "minorgridcolor": "white",
             "startlinecolor": "#2a3f5f"
            },
            "baxis": {
             "endlinecolor": "#2a3f5f",
             "gridcolor": "white",
             "linecolor": "white",
             "minorgridcolor": "white",
             "startlinecolor": "#2a3f5f"
            },
            "type": "carpet"
           }
          ],
          "choropleth": [
           {
            "colorbar": {
             "outlinewidth": 0,
             "ticks": ""
            },
            "type": "choropleth"
           }
          ],
          "contour": [
           {
            "colorbar": {
             "outlinewidth": 0,
             "ticks": ""
            },
            "colorscale": [
             [
              0,
              "#0d0887"
             ],
             [
              0.1111111111111111,
              "#46039f"
             ],
             [
              0.2222222222222222,
              "#7201a8"
             ],
             [
              0.3333333333333333,
              "#9c179e"
             ],
             [
              0.4444444444444444,
              "#bd3786"
             ],
             [
              0.5555555555555556,
              "#d8576b"
             ],
             [
              0.6666666666666666,
              "#ed7953"
             ],
             [
              0.7777777777777778,
              "#fb9f3a"
             ],
             [
              0.8888888888888888,
              "#fdca26"
             ],
             [
              1,
              "#f0f921"
             ]
            ],
            "type": "contour"
           }
          ],
          "contourcarpet": [
           {
            "colorbar": {
             "outlinewidth": 0,
             "ticks": ""
            },
            "type": "contourcarpet"
           }
          ],
          "heatmap": [
           {
            "colorbar": {
             "outlinewidth": 0,
             "ticks": ""
            },
            "colorscale": [
             [
              0,
              "#0d0887"
             ],
             [
              0.1111111111111111,
              "#46039f"
             ],
             [
              0.2222222222222222,
              "#7201a8"
             ],
             [
              0.3333333333333333,
              "#9c179e"
             ],
             [
              0.4444444444444444,
              "#bd3786"
             ],
             [
              0.5555555555555556,
              "#d8576b"
             ],
             [
              0.6666666666666666,
              "#ed7953"
             ],
             [
              0.7777777777777778,
              "#fb9f3a"
             ],
             [
              0.8888888888888888,
              "#fdca26"
             ],
             [
              1,
              "#f0f921"
             ]
            ],
            "type": "heatmap"
           }
          ],
          "heatmapgl": [
           {
            "colorbar": {
             "outlinewidth": 0,
             "ticks": ""
            },
            "colorscale": [
             [
              0,
              "#0d0887"
             ],
             [
              0.1111111111111111,
              "#46039f"
             ],
             [
              0.2222222222222222,
              "#7201a8"
             ],
             [
              0.3333333333333333,
              "#9c179e"
             ],
             [
              0.4444444444444444,
              "#bd3786"
             ],
             [
              0.5555555555555556,
              "#d8576b"
             ],
             [
              0.6666666666666666,
              "#ed7953"
             ],
             [
              0.7777777777777778,
              "#fb9f3a"
             ],
             [
              0.8888888888888888,
              "#fdca26"
             ],
             [
              1,
              "#f0f921"
             ]
            ],
            "type": "heatmapgl"
           }
          ],
          "histogram": [
           {
            "marker": {
             "pattern": {
              "fillmode": "overlay",
              "size": 10,
              "solidity": 0.2
             }
            },
            "type": "histogram"
           }
          ],
          "histogram2d": [
           {
            "colorbar": {
             "outlinewidth": 0,
             "ticks": ""
            },
            "colorscale": [
             [
              0,
              "#0d0887"
             ],
             [
              0.1111111111111111,
              "#46039f"
             ],
             [
              0.2222222222222222,
              "#7201a8"
             ],
             [
              0.3333333333333333,
              "#9c179e"
             ],
             [
              0.4444444444444444,
              "#bd3786"
             ],
             [
              0.5555555555555556,
              "#d8576b"
             ],
             [
              0.6666666666666666,
              "#ed7953"
             ],
             [
              0.7777777777777778,
              "#fb9f3a"
             ],
             [
              0.8888888888888888,
              "#fdca26"
             ],
             [
              1,
              "#f0f921"
             ]
            ],
            "type": "histogram2d"
           }
          ],
          "histogram2dcontour": [
           {
            "colorbar": {
             "outlinewidth": 0,
             "ticks": ""
            },
            "colorscale": [
             [
              0,
              "#0d0887"
             ],
             [
              0.1111111111111111,
              "#46039f"
             ],
             [
              0.2222222222222222,
              "#7201a8"
             ],
             [
              0.3333333333333333,
              "#9c179e"
             ],
             [
              0.4444444444444444,
              "#bd3786"
             ],
             [
              0.5555555555555556,
              "#d8576b"
             ],
             [
              0.6666666666666666,
              "#ed7953"
             ],
             [
              0.7777777777777778,
              "#fb9f3a"
             ],
             [
              0.8888888888888888,
              "#fdca26"
             ],
             [
              1,
              "#f0f921"
             ]
            ],
            "type": "histogram2dcontour"
           }
          ],
          "mesh3d": [
           {
            "colorbar": {
             "outlinewidth": 0,
             "ticks": ""
            },
            "type": "mesh3d"
           }
          ],
          "parcoords": [
           {
            "line": {
             "colorbar": {
              "outlinewidth": 0,
              "ticks": ""
             }
            },
            "type": "parcoords"
           }
          ],
          "pie": [
           {
            "automargin": true,
            "type": "pie"
           }
          ],
          "scatter": [
           {
            "fillpattern": {
             "fillmode": "overlay",
             "size": 10,
             "solidity": 0.2
            },
            "type": "scatter"
           }
          ],
          "scatter3d": [
           {
            "line": {
             "colorbar": {
              "outlinewidth": 0,
              "ticks": ""
             }
            },
            "marker": {
             "colorbar": {
              "outlinewidth": 0,
              "ticks": ""
             }
            },
            "type": "scatter3d"
           }
          ],
          "scattercarpet": [
           {
            "marker": {
             "colorbar": {
              "outlinewidth": 0,
              "ticks": ""
             }
            },
            "type": "scattercarpet"
           }
          ],
          "scattergeo": [
           {
            "marker": {
             "colorbar": {
              "outlinewidth": 0,
              "ticks": ""
             }
            },
            "type": "scattergeo"
           }
          ],
          "scattergl": [
           {
            "marker": {
             "colorbar": {
              "outlinewidth": 0,
              "ticks": ""
             }
            },
            "type": "scattergl"
           }
          ],
          "scattermapbox": [
           {
            "marker": {
             "colorbar": {
              "outlinewidth": 0,
              "ticks": ""
             }
            },
            "type": "scattermapbox"
           }
          ],
          "scatterpolar": [
           {
            "marker": {
             "colorbar": {
              "outlinewidth": 0,
              "ticks": ""
             }
            },
            "type": "scatterpolar"
           }
          ],
          "scatterpolargl": [
           {
            "marker": {
             "colorbar": {
              "outlinewidth": 0,
              "ticks": ""
             }
            },
            "type": "scatterpolargl"
           }
          ],
          "scatterternary": [
           {
            "marker": {
             "colorbar": {
              "outlinewidth": 0,
              "ticks": ""
             }
            },
            "type": "scatterternary"
           }
          ],
          "surface": [
           {
            "colorbar": {
             "outlinewidth": 0,
             "ticks": ""
            },
            "colorscale": [
             [
              0,
              "#0d0887"
             ],
             [
              0.1111111111111111,
              "#46039f"
             ],
             [
              0.2222222222222222,
              "#7201a8"
             ],
             [
              0.3333333333333333,
              "#9c179e"
             ],
             [
              0.4444444444444444,
              "#bd3786"
             ],
             [
              0.5555555555555556,
              "#d8576b"
             ],
             [
              0.6666666666666666,
              "#ed7953"
             ],
             [
              0.7777777777777778,
              "#fb9f3a"
             ],
             [
              0.8888888888888888,
              "#fdca26"
             ],
             [
              1,
              "#f0f921"
             ]
            ],
            "type": "surface"
           }
          ],
          "table": [
           {
            "cells": {
             "fill": {
              "color": "#EBF0F8"
             },
             "line": {
              "color": "white"
             }
            },
            "header": {
             "fill": {
              "color": "#C8D4E3"
             },
             "line": {
              "color": "white"
             }
            },
            "type": "table"
           }
          ]
         },
         "layout": {
          "annotationdefaults": {
           "arrowcolor": "#2a3f5f",
           "arrowhead": 0,
           "arrowwidth": 1
          },
          "autotypenumbers": "strict",
          "coloraxis": {
           "colorbar": {
            "outlinewidth": 0,
            "ticks": ""
           }
          },
          "colorscale": {
           "diverging": [
            [
             0,
             "#8e0152"
            ],
            [
             0.1,
             "#c51b7d"
            ],
            [
             0.2,
             "#de77ae"
            ],
            [
             0.3,
             "#f1b6da"
            ],
            [
             0.4,
             "#fde0ef"
            ],
            [
             0.5,
             "#f7f7f7"
            ],
            [
             0.6,
             "#e6f5d0"
            ],
            [
             0.7,
             "#b8e186"
            ],
            [
             0.8,
             "#7fbc41"
            ],
            [
             0.9,
             "#4d9221"
            ],
            [
             1,
             "#276419"
            ]
           ],
           "sequential": [
            [
             0,
             "#0d0887"
            ],
            [
             0.1111111111111111,
             "#46039f"
            ],
            [
             0.2222222222222222,
             "#7201a8"
            ],
            [
             0.3333333333333333,
             "#9c179e"
            ],
            [
             0.4444444444444444,
             "#bd3786"
            ],
            [
             0.5555555555555556,
             "#d8576b"
            ],
            [
             0.6666666666666666,
             "#ed7953"
            ],
            [
             0.7777777777777778,
             "#fb9f3a"
            ],
            [
             0.8888888888888888,
             "#fdca26"
            ],
            [
             1,
             "#f0f921"
            ]
           ],
           "sequentialminus": [
            [
             0,
             "#0d0887"
            ],
            [
             0.1111111111111111,
             "#46039f"
            ],
            [
             0.2222222222222222,
             "#7201a8"
            ],
            [
             0.3333333333333333,
             "#9c179e"
            ],
            [
             0.4444444444444444,
             "#bd3786"
            ],
            [
             0.5555555555555556,
             "#d8576b"
            ],
            [
             0.6666666666666666,
             "#ed7953"
            ],
            [
             0.7777777777777778,
             "#fb9f3a"
            ],
            [
             0.8888888888888888,
             "#fdca26"
            ],
            [
             1,
             "#f0f921"
            ]
           ]
          },
          "colorway": [
           "#636efa",
           "#EF553B",
           "#00cc96",
           "#ab63fa",
           "#FFA15A",
           "#19d3f3",
           "#FF6692",
           "#B6E880",
           "#FF97FF",
           "#FECB52"
          ],
          "font": {
           "color": "#2a3f5f"
          },
          "geo": {
           "bgcolor": "white",
           "lakecolor": "white",
           "landcolor": "#E5ECF6",
           "showlakes": true,
           "showland": true,
           "subunitcolor": "white"
          },
          "hoverlabel": {
           "align": "left"
          },
          "hovermode": "closest",
          "mapbox": {
           "style": "light"
          },
          "paper_bgcolor": "white",
          "plot_bgcolor": "#E5ECF6",
          "polar": {
           "angularaxis": {
            "gridcolor": "white",
            "linecolor": "white",
            "ticks": ""
           },
           "bgcolor": "#E5ECF6",
           "radialaxis": {
            "gridcolor": "white",
            "linecolor": "white",
            "ticks": ""
           }
          },
          "scene": {
           "xaxis": {
            "backgroundcolor": "#E5ECF6",
            "gridcolor": "white",
            "gridwidth": 2,
            "linecolor": "white",
            "showbackground": true,
            "ticks": "",
            "zerolinecolor": "white"
           },
           "yaxis": {
            "backgroundcolor": "#E5ECF6",
            "gridcolor": "white",
            "gridwidth": 2,
            "linecolor": "white",
            "showbackground": true,
            "ticks": "",
            "zerolinecolor": "white"
           },
           "zaxis": {
            "backgroundcolor": "#E5ECF6",
            "gridcolor": "white",
            "gridwidth": 2,
            "linecolor": "white",
            "showbackground": true,
            "ticks": "",
            "zerolinecolor": "white"
           }
          },
          "shapedefaults": {
           "line": {
            "color": "#2a3f5f"
           }
          },
          "ternary": {
           "aaxis": {
            "gridcolor": "white",
            "linecolor": "white",
            "ticks": ""
           },
           "baxis": {
            "gridcolor": "white",
            "linecolor": "white",
            "ticks": ""
           },
           "bgcolor": "#E5ECF6",
           "caxis": {
            "gridcolor": "white",
            "linecolor": "white",
            "ticks": ""
           }
          },
          "title": {
           "x": 0.05
          },
          "xaxis": {
           "automargin": true,
           "gridcolor": "white",
           "linecolor": "white",
           "ticks": "",
           "title": {
            "standoff": 15
           },
           "zerolinecolor": "white",
           "zerolinewidth": 2
          },
          "yaxis": {
           "automargin": true,
           "gridcolor": "white",
           "linecolor": "white",
           "ticks": "",
           "title": {
            "standoff": 15
           },
           "zerolinecolor": "white",
           "zerolinewidth": 2
          }
         }
        },
        "title": {
         "text": "Population Pyramid for 2021"
        },
        "updatemenus": [
         {
          "buttons": [
           {
            "args": [
             null,
             {
              "frame": {
               "duration": 20
              }
             }
            ],
            "label": "Play",
            "method": "animate"
           }
          ],
          "type": "buttons"
         }
        ]
       }
      },
      "text/html": [
       "<div>                            <div id=\"f813dafc-6e3f-4506-b889-d35fefe78166\" class=\"plotly-graph-div\" style=\"height:525px; width:100%;\"></div>            <script type=\"text/javascript\">                require([\"plotly\"], function(Plotly) {                    window.PLOTLYENV=window.PLOTLYENV || {};                                    if (document.getElementById(\"f813dafc-6e3f-4506-b889-d35fefe78166\")) {                    Plotly.newPlot(                        \"f813dafc-6e3f-4506-b889-d35fefe78166\",                        [{\"hoverinfo\":\"skip\",\"marker\":{\"color\":\"green\"},\"name\":\"Men\",\"orientation\":\"h\",\"x\":[11903046.0,9269956.0,7827606.0,6464521.0,5452406.0,4713060.0,4079665.0,3483816.0,2929035.0,2416431.0,1953244.0,1515164.0,1089990.0,767560.0,500885.0,286341.0,186622.0],\"y\":[1,6,11,16,21,26,31,36,41,46,51,56,61,66,71,76,81],\"type\":\"bar\"},{\"hoverinfo\":\"skip\",\"marker\":{\"color\":\"pink\"},\"name\":\"Women\",\"orientation\":\"h\",\"x\":[-11781303.0,-9224178.0,-7760047.0,-6498502.0,-5594132.0,-4886704.0,-4199780.0,-3535856.0,-2944196.0,-2433461.0,-1997927.0,-1611564.0,-1242066.0,-916159.0,-614569.0,-363808.0,-248982.0],\"y\":[1,6,11,16,21,26,31,36,41,46,51,56,61,66,71,76,81],\"type\":\"bar\"}],                        {\"title\":{\"text\":\"Population Pyramid for 2021\"},\"updatemenus\":[{\"buttons\":[{\"args\":[null,{\"frame\":{\"duration\":20}}],\"label\":\"Play\",\"method\":\"animate\"}],\"type\":\"buttons\"}],\"template\":{\"data\":{\"histogram2dcontour\":[{\"type\":\"histogram2dcontour\",\"colorbar\":{\"outlinewidth\":0,\"ticks\":\"\"},\"colorscale\":[[0.0,\"#0d0887\"],[0.1111111111111111,\"#46039f\"],[0.2222222222222222,\"#7201a8\"],[0.3333333333333333,\"#9c179e\"],[0.4444444444444444,\"#bd3786\"],[0.5555555555555556,\"#d8576b\"],[0.6666666666666666,\"#ed7953\"],[0.7777777777777778,\"#fb9f3a\"],[0.8888888888888888,\"#fdca26\"],[1.0,\"#f0f921\"]]}],\"choropleth\":[{\"type\":\"choropleth\",\"colorbar\":{\"outlinewidth\":0,\"ticks\":\"\"}}],\"histogram2d\":[{\"type\":\"histogram2d\",\"colorbar\":{\"outlinewidth\":0,\"ticks\":\"\"},\"colorscale\":[[0.0,\"#0d0887\"],[0.1111111111111111,\"#46039f\"],[0.2222222222222222,\"#7201a8\"],[0.3333333333333333,\"#9c179e\"],[0.4444444444444444,\"#bd3786\"],[0.5555555555555556,\"#d8576b\"],[0.6666666666666666,\"#ed7953\"],[0.7777777777777778,\"#fb9f3a\"],[0.8888888888888888,\"#fdca26\"],[1.0,\"#f0f921\"]]}],\"heatmap\":[{\"type\":\"heatmap\",\"colorbar\":{\"outlinewidth\":0,\"ticks\":\"\"},\"colorscale\":[[0.0,\"#0d0887\"],[0.1111111111111111,\"#46039f\"],[0.2222222222222222,\"#7201a8\"],[0.3333333333333333,\"#9c179e\"],[0.4444444444444444,\"#bd3786\"],[0.5555555555555556,\"#d8576b\"],[0.6666666666666666,\"#ed7953\"],[0.7777777777777778,\"#fb9f3a\"],[0.8888888888888888,\"#fdca26\"],[1.0,\"#f0f921\"]]}],\"heatmapgl\":[{\"type\":\"heatmapgl\",\"colorbar\":{\"outlinewidth\":0,\"ticks\":\"\"},\"colorscale\":[[0.0,\"#0d0887\"],[0.1111111111111111,\"#46039f\"],[0.2222222222222222,\"#7201a8\"],[0.3333333333333333,\"#9c179e\"],[0.4444444444444444,\"#bd3786\"],[0.5555555555555556,\"#d8576b\"],[0.6666666666666666,\"#ed7953\"],[0.7777777777777778,\"#fb9f3a\"],[0.8888888888888888,\"#fdca26\"],[1.0,\"#f0f921\"]]}],\"contourcarpet\":[{\"type\":\"contourcarpet\",\"colorbar\":{\"outlinewidth\":0,\"ticks\":\"\"}}],\"contour\":[{\"type\":\"contour\",\"colorbar\":{\"outlinewidth\":0,\"ticks\":\"\"},\"colorscale\":[[0.0,\"#0d0887\"],[0.1111111111111111,\"#46039f\"],[0.2222222222222222,\"#7201a8\"],[0.3333333333333333,\"#9c179e\"],[0.4444444444444444,\"#bd3786\"],[0.5555555555555556,\"#d8576b\"],[0.6666666666666666,\"#ed7953\"],[0.7777777777777778,\"#fb9f3a\"],[0.8888888888888888,\"#fdca26\"],[1.0,\"#f0f921\"]]}],\"surface\":[{\"type\":\"surface\",\"colorbar\":{\"outlinewidth\":0,\"ticks\":\"\"},\"colorscale\":[[0.0,\"#0d0887\"],[0.1111111111111111,\"#46039f\"],[0.2222222222222222,\"#7201a8\"],[0.3333333333333333,\"#9c179e\"],[0.4444444444444444,\"#bd3786\"],[0.5555555555555556,\"#d8576b\"],[0.6666666666666666,\"#ed7953\"],[0.7777777777777778,\"#fb9f3a\"],[0.8888888888888888,\"#fdca26\"],[1.0,\"#f0f921\"]]}],\"mesh3d\":[{\"type\":\"mesh3d\",\"colorbar\":{\"outlinewidth\":0,\"ticks\":\"\"}}],\"scatter\":[{\"fillpattern\":{\"fillmode\":\"overlay\",\"size\":10,\"solidity\":0.2},\"type\":\"scatter\"}],\"parcoords\":[{\"type\":\"parcoords\",\"line\":{\"colorbar\":{\"outlinewidth\":0,\"ticks\":\"\"}}}],\"scatterpolargl\":[{\"type\":\"scatterpolargl\",\"marker\":{\"colorbar\":{\"outlinewidth\":0,\"ticks\":\"\"}}}],\"bar\":[{\"error_x\":{\"color\":\"#2a3f5f\"},\"error_y\":{\"color\":\"#2a3f5f\"},\"marker\":{\"line\":{\"color\":\"#E5ECF6\",\"width\":0.5},\"pattern\":{\"fillmode\":\"overlay\",\"size\":10,\"solidity\":0.2}},\"type\":\"bar\"}],\"scattergeo\":[{\"type\":\"scattergeo\",\"marker\":{\"colorbar\":{\"outlinewidth\":0,\"ticks\":\"\"}}}],\"scatterpolar\":[{\"type\":\"scatterpolar\",\"marker\":{\"colorbar\":{\"outlinewidth\":0,\"ticks\":\"\"}}}],\"histogram\":[{\"marker\":{\"pattern\":{\"fillmode\":\"overlay\",\"size\":10,\"solidity\":0.2}},\"type\":\"histogram\"}],\"scattergl\":[{\"type\":\"scattergl\",\"marker\":{\"colorbar\":{\"outlinewidth\":0,\"ticks\":\"\"}}}],\"scatter3d\":[{\"type\":\"scatter3d\",\"line\":{\"colorbar\":{\"outlinewidth\":0,\"ticks\":\"\"}},\"marker\":{\"colorbar\":{\"outlinewidth\":0,\"ticks\":\"\"}}}],\"scattermapbox\":[{\"type\":\"scattermapbox\",\"marker\":{\"colorbar\":{\"outlinewidth\":0,\"ticks\":\"\"}}}],\"scatterternary\":[{\"type\":\"scatterternary\",\"marker\":{\"colorbar\":{\"outlinewidth\":0,\"ticks\":\"\"}}}],\"scattercarpet\":[{\"type\":\"scattercarpet\",\"marker\":{\"colorbar\":{\"outlinewidth\":0,\"ticks\":\"\"}}}],\"carpet\":[{\"aaxis\":{\"endlinecolor\":\"#2a3f5f\",\"gridcolor\":\"white\",\"linecolor\":\"white\",\"minorgridcolor\":\"white\",\"startlinecolor\":\"#2a3f5f\"},\"baxis\":{\"endlinecolor\":\"#2a3f5f\",\"gridcolor\":\"white\",\"linecolor\":\"white\",\"minorgridcolor\":\"white\",\"startlinecolor\":\"#2a3f5f\"},\"type\":\"carpet\"}],\"table\":[{\"cells\":{\"fill\":{\"color\":\"#EBF0F8\"},\"line\":{\"color\":\"white\"}},\"header\":{\"fill\":{\"color\":\"#C8D4E3\"},\"line\":{\"color\":\"white\"}},\"type\":\"table\"}],\"barpolar\":[{\"marker\":{\"line\":{\"color\":\"#E5ECF6\",\"width\":0.5},\"pattern\":{\"fillmode\":\"overlay\",\"size\":10,\"solidity\":0.2}},\"type\":\"barpolar\"}],\"pie\":[{\"automargin\":true,\"type\":\"pie\"}]},\"layout\":{\"autotypenumbers\":\"strict\",\"colorway\":[\"#636efa\",\"#EF553B\",\"#00cc96\",\"#ab63fa\",\"#FFA15A\",\"#19d3f3\",\"#FF6692\",\"#B6E880\",\"#FF97FF\",\"#FECB52\"],\"font\":{\"color\":\"#2a3f5f\"},\"hovermode\":\"closest\",\"hoverlabel\":{\"align\":\"left\"},\"paper_bgcolor\":\"white\",\"plot_bgcolor\":\"#E5ECF6\",\"polar\":{\"bgcolor\":\"#E5ECF6\",\"angularaxis\":{\"gridcolor\":\"white\",\"linecolor\":\"white\",\"ticks\":\"\"},\"radialaxis\":{\"gridcolor\":\"white\",\"linecolor\":\"white\",\"ticks\":\"\"}},\"ternary\":{\"bgcolor\":\"#E5ECF6\",\"aaxis\":{\"gridcolor\":\"white\",\"linecolor\":\"white\",\"ticks\":\"\"},\"baxis\":{\"gridcolor\":\"white\",\"linecolor\":\"white\",\"ticks\":\"\"},\"caxis\":{\"gridcolor\":\"white\",\"linecolor\":\"white\",\"ticks\":\"\"}},\"coloraxis\":{\"colorbar\":{\"outlinewidth\":0,\"ticks\":\"\"}},\"colorscale\":{\"sequential\":[[0.0,\"#0d0887\"],[0.1111111111111111,\"#46039f\"],[0.2222222222222222,\"#7201a8\"],[0.3333333333333333,\"#9c179e\"],[0.4444444444444444,\"#bd3786\"],[0.5555555555555556,\"#d8576b\"],[0.6666666666666666,\"#ed7953\"],[0.7777777777777778,\"#fb9f3a\"],[0.8888888888888888,\"#fdca26\"],[1.0,\"#f0f921\"]],\"sequentialminus\":[[0.0,\"#0d0887\"],[0.1111111111111111,\"#46039f\"],[0.2222222222222222,\"#7201a8\"],[0.3333333333333333,\"#9c179e\"],[0.4444444444444444,\"#bd3786\"],[0.5555555555555556,\"#d8576b\"],[0.6666666666666666,\"#ed7953\"],[0.7777777777777778,\"#fb9f3a\"],[0.8888888888888888,\"#fdca26\"],[1.0,\"#f0f921\"]],\"diverging\":[[0,\"#8e0152\"],[0.1,\"#c51b7d\"],[0.2,\"#de77ae\"],[0.3,\"#f1b6da\"],[0.4,\"#fde0ef\"],[0.5,\"#f7f7f7\"],[0.6,\"#e6f5d0\"],[0.7,\"#b8e186\"],[0.8,\"#7fbc41\"],[0.9,\"#4d9221\"],[1,\"#276419\"]]},\"xaxis\":{\"gridcolor\":\"white\",\"linecolor\":\"white\",\"ticks\":\"\",\"title\":{\"standoff\":15},\"zerolinecolor\":\"white\",\"automargin\":true,\"zerolinewidth\":2},\"yaxis\":{\"gridcolor\":\"white\",\"linecolor\":\"white\",\"ticks\":\"\",\"title\":{\"standoff\":15},\"zerolinecolor\":\"white\",\"automargin\":true,\"zerolinewidth\":2},\"scene\":{\"xaxis\":{\"backgroundcolor\":\"#E5ECF6\",\"gridcolor\":\"white\",\"linecolor\":\"white\",\"showbackground\":true,\"ticks\":\"\",\"zerolinecolor\":\"white\",\"gridwidth\":2},\"yaxis\":{\"backgroundcolor\":\"#E5ECF6\",\"gridcolor\":\"white\",\"linecolor\":\"white\",\"showbackground\":true,\"ticks\":\"\",\"zerolinecolor\":\"white\",\"gridwidth\":2},\"zaxis\":{\"backgroundcolor\":\"#E5ECF6\",\"gridcolor\":\"white\",\"linecolor\":\"white\",\"showbackground\":true,\"ticks\":\"\",\"zerolinecolor\":\"white\",\"gridwidth\":2}},\"shapedefaults\":{\"line\":{\"color\":\"#2a3f5f\"}},\"annotationdefaults\":{\"arrowcolor\":\"#2a3f5f\",\"arrowhead\":0,\"arrowwidth\":1},\"geo\":{\"bgcolor\":\"white\",\"landcolor\":\"#E5ECF6\",\"subunitcolor\":\"white\",\"showland\":true,\"showlakes\":true,\"lakecolor\":\"white\"},\"title\":{\"x\":0.05},\"mapbox\":{\"style\":\"light\"}}}},                        {\"responsive\": true}                    ).then(function(){\n",
       "                            Plotly.addFrames('f813dafc-6e3f-4506-b889-d35fefe78166', [{\"data\":[{\"hoverinfo\":\"skip\",\"marker\":{\"color\":\"green\"},\"name\":\"Men\",\"orientation\":\"h\",\"x\":[11903046.0,9269956.0,7827606.0,6464521.0,5452406.0,4713060.0,4079665.0,3483816.0,2929035.0,2416431.0,1953244.0,1515164.0,1089990.0,767560.0,500885.0,286341.0,186622.0],\"y\":[1,6,11,16,21,26,31,36,41,46,51,56,61,66,71,76,81],\"type\":\"bar\"},{\"hoverinfo\":\"skip\",\"marker\":{\"color\":\"pink\"},\"name\":\"Women\",\"orientation\":\"h\",\"x\":[-11781303.0,-9224178.0,-7760047.0,-6498502.0,-5594132.0,-4886704.0,-4199780.0,-3535856.0,-2944196.0,-2433461.0,-1997927.0,-1611564.0,-1242066.0,-916159.0,-614569.0,-363808.0,-248982.0],\"y\":[1,6,11,16,21,26,31,36,41,46,51,56,61,66,71,76,81],\"type\":\"bar\"}],\"layout\":{\"title\":{\"text\":\"Population Pyramid for 1960\"}}},{\"data\":[{\"hoverinfo\":\"skip\",\"marker\":{\"color\":\"green\"},\"name\":\"Men\",\"orientation\":\"h\",\"x\":[12271309.0,9547953.0,8020790.0,6684830.0,5586353.0,4814153.0,4166589.0,3558274.0,2992955.0,2465607.0,1994162.0,1557922.0,1126932.0,786369.0,509464.0,290320.0,188995.0],\"y\":[1,6,11,16,21,26,31,36,41,46,51,56,61,66,71,76,81],\"type\":\"bar\"},{\"hoverinfo\":\"skip\",\"marker\":{\"color\":\"pink\"},\"name\":\"Women\",\"orientation\":\"h\",\"x\":[-12140807.0,-9486214.0,-7950546.0,-6705676.0,-5730412.0,-4998558.0,-4305734.0,-3622726.0,-3017904.0,-2489122.0,-2043161.0,-1652159.0,-1275145.0,-938330.0,-626362.0,-369833.0,-253612.0],\"y\":[1,6,11,16,21,26,31,36,41,46,51,56,61,66,71,76,81],\"type\":\"bar\"}],\"layout\":{\"title\":{\"text\":\"Population Pyramid for 1961\"}}},{\"data\":[{\"hoverinfo\":\"skip\",\"marker\":{\"color\":\"green\"},\"name\":\"Men\",\"orientation\":\"h\",\"x\":[12661185.0,9837633.0,8228078.0,6916635.0,5725665.0,4918510.0,4253645.0,3635546.0,3060163.0,2520717.0,2039603.0,1601129.0,1169274.0,805802.0,519280.0,294329.0,191294.0],\"y\":[1,6,11,16,21,26,31,36,41,46,51,56,61,66,71,76,81],\"type\":\"bar\"},{\"hoverinfo\":\"skip\",\"marker\":{\"color\":\"pink\"},\"name\":\"Women\",\"orientation\":\"h\",\"x\":[-12522816.0,-9765428.0,-8159040.0,-6922855.0,-5869666.0,-5114309.0,-4411294.0,-3714069.0,-3095416.0,-2550083.0,-2092686.0,-1693058.0,-1311157.0,-960546.0,-640343.0,-375946.0,-258394.0],\"y\":[1,6,11,16,21,26,31,36,41,46,51,56,61,66,71,76,81],\"type\":\"bar\"}],\"layout\":{\"title\":{\"text\":\"Population Pyramid for 1962\"}}},{\"data\":[{\"hoverinfo\":\"skip\",\"marker\":{\"color\":\"green\"},\"name\":\"Men\",\"orientation\":\"h\",\"x\":[13062183.0,10138780.0,8455835.0,7145770.0,5879098.0,5026028.0,4340514.0,3713247.0,3127933.0,2575964.0,2084916.0,1642315.0,1213489.0,826719.0,530004.0,298421.0,193690.0],\"y\":[1,6,11,16,21,26,31,36,41,46,51,56,61,66,71,76,81],\"type\":\"bar\"},{\"hoverinfo\":\"skip\",\"marker\":{\"color\":\"pink\"},\"name\":\"Women\",\"orientation\":\"h\",\"x\":[-12915169.0,-10058500.0,-8388190.0,-7137094.0,-6019568.0,-5233076.0,-4516205.0,-3808828.0,-3174922.0,-2612835.0,-2143589.0,-1734161.0,-1349018.0,-983494.0,-655650.0,-382154.0,-263206.0],\"y\":[1,6,11,16,21,26,31,36,41,46,51,56,61,66,71,76,81],\"type\":\"bar\"}],\"layout\":{\"title\":{\"text\":\"Population Pyramid for 1963\"}}},{\"data\":[{\"hoverinfo\":\"skip\",\"marker\":{\"color\":\"green\"},\"name\":\"Men\",\"orientation\":\"h\",\"x\":[13473056.0,10457881.0,8700624.0,7371925.0,6056915.0,5140702.0,4429617.0,3793506.0,3196747.0,2634712.0,2131312.0,1683595.0,1257129.0,850939.0,541871.0,302911.0,196377.0],\"y\":[1,6,11,16,21,26,31,36,41,46,51,56,61,66,71,76,81],\"type\":\"bar\"},{\"hoverinfo\":\"skip\",\"marker\":{\"color\":\"pink\"},\"name\":\"Women\",\"orientation\":\"h\",\"x\":[-13316059.0,-10371024.0,-8635913.0,-7348233.0,-6192034.0,-5357871.0,-4622048.0,-3908192.0,-3255916.0,-2680389.0,-2196325.0,-1777026.0,-1387855.0,-1007921.0,-672056.0,-388984.0,-268313.0],\"y\":[1,6,11,16,21,26,31,36,41,46,51,56,61,66,71,76,81],\"type\":\"bar\"}],\"layout\":{\"title\":{\"text\":\"Population Pyramid for 1964\"}}},{\"data\":[{\"hoverinfo\":\"skip\",\"marker\":{\"color\":\"green\"},\"name\":\"Men\",\"orientation\":\"h\",\"x\":[13898075.0,10793159.0,8962290.0,7587183.0,6258724.0,5262204.0,4520492.0,3875344.0,3266289.0,2696627.0,2178834.0,1725079.0,1298725.0,878569.0,555159.0,307882.0,199315.0],\"y\":[1,6,11,16,21,26,31,36,41,46,51,56,61,66,71,76,81],\"type\":\"bar\"},{\"hoverinfo\":\"skip\",\"marker\":{\"color\":\"pink\"},\"name\":\"Women\",\"orientation\":\"h\",\"x\":[-13730021.0,-10700238.0,-8894261.0,-7555821.0,-6386909.0,-5488052.0,-4728753.0,-4010761.0,-3338297.0,-2752411.0,-2251010.0,-1821756.0,-1426725.0,-1034001.0,-689231.0,-396530.0,-273622.0],\"y\":[1,6,11,16,21,26,31,36,41,46,51,56,61,66,71,76,81],\"type\":\"bar\"}],\"layout\":{\"title\":{\"text\":\"Population Pyramid for 1965\"}}},{\"data\":[{\"hoverinfo\":\"skip\",\"marker\":{\"color\":\"green\"},\"name\":\"Men\",\"orientation\":\"h\",\"x\":[14326816.0,11142390.0,9238488.0,7786522.0,6474928.0,5387898.0,4614276.0,3956461.0,3336555.0,2757750.0,2226709.0,1765280.0,1337732.0,909200.0,568933.0,313197.0,202311.0],\"y\":[1,6,11,16,21,26,31,36,41,46,51,56,61,66,71,76,81],\"type\":\"bar\"},{\"hoverinfo\":\"skip\",\"marker\":{\"color\":\"pink\"},\"name\":\"Women\",\"orientation\":\"h\",\"x\":[-14146704.0,-11042410.0,-9159572.0,-7757342.0,-6595202.0,-5621063.0,-4837703.0,-4113073.0,-3422627.0,-2824834.0,-2306583.0,-1866776.0,-1464407.0,-1062054.0,-706226.0,-404655.0,-278857.0],\"y\":[1,6,11,16,21,26,31,36,41,46,51,56,61,66,71,76,81],\"type\":\"bar\"}],\"layout\":{\"title\":{\"text\":\"Population Pyramid for 1966\"}}},{\"data\":[{\"hoverinfo\":\"skip\",\"marker\":{\"color\":\"green\"},\"name\":\"Men\",\"orientation\":\"h\",\"x\":[14765714.0,11509317.0,9519037.0,7990619.0,6703572.0,5524373.0,4715214.0,4039217.0,3408361.0,2818978.0,2275895.0,1805403.0,1374899.0,943496.0,583240.0,319361.0,205577.0],\"y\":[1,6,11,16,21,26,31,36,41,46,51,56,61,66,71,76,81],\"type\":\"bar\"},{\"hoverinfo\":\"skip\",\"marker\":{\"color\":\"pink\"},\"name\":\"Women\",\"orientation\":\"h\",\"x\":[-14574156.0,-11400505.0,-9430325.0,-7964305.0,-6813298.0,-5760745.0,-4951913.0,-4215299.0,-3509651.0,-2898084.0,-2363750.0,-1912817.0,-1501542.0,-1092896.0,-723320.0,-413990.0,-284368.0],\"y\":[1,6,11,16,21,26,31,36,41,46,51,56,61,66,71,76,81],\"type\":\"bar\"}],\"layout\":{\"title\":{\"text\":\"Population Pyramid for 1967\"}}},{\"data\":[{\"hoverinfo\":\"skip\",\"marker\":{\"color\":\"green\"},\"name\":\"Men\",\"orientation\":\"h\",\"x\":[15224683.0,11887870.0,9810109.0,8213692.0,6932004.0,5679552.0,4823140.0,4124445.0,3482772.0,2882767.0,2327460.0,1847461.0,1412564.0,980384.0,599279.0,326518.0,209177.0],\"y\":[1,6,11,16,21,26,31,36,41,46,51,56,61,66,71,76,81],\"type\":\"bar\"},{\"hoverinfo\":\"skip\",\"marker\":{\"color\":\"pink\"},\"name\":\"Women\",\"orientation\":\"h\",\"x\":[-15023463.0,-11769370.0,-9714999.0,-8192875.0,-7030931.0,-5912573.0,-5068657.0,-4316534.0,-3600292.0,-2973864.0,-2423549.0,-1961136.0,-1540242.0,-1126154.0,-741616.0,-424647.0,-290381.0],\"y\":[1,6,11,16,21,26,31,36,41,46,51,56,61,66,71,76,81],\"type\":\"bar\"}],\"layout\":{\"title\":{\"text\":\"Population Pyramid for 1968\"}}},{\"data\":[{\"hoverinfo\":\"skip\",\"marker\":{\"color\":\"green\"},\"name\":\"Men\",\"orientation\":\"h\",\"x\":[15698711.0,12272458.0,10116149.0,8449176.0,7152404.0,5854270.0,4934940.0,4209587.0,3559036.0,2948211.0,2383073.0,1891124.0,1451206.0,1017091.0,617798.0,334442.0,212876.0],\"y\":[1,6,11,16,21,26,31,36,41,46,51,56,61,66,71,76,81],\"type\":\"bar\"},{\"hoverinfo\":\"skip\",\"marker\":{\"color\":\"pink\"},\"name\":\"Women\",\"orientation\":\"h\",\"x\":[-15489482.0,-12145143.0,-10018168.0,-8438662.0,-7241195.0,-6079989.0,-5185400.0,-4415040.0,-3694302.0,-3051077.0,-2487920.0,-2011258.0,-1581237.0,-1160608.0,-761264.0,-436112.0,-296747.0],\"y\":[1,6,11,16,21,26,31,36,41,46,51,56,61,66,71,76,81],\"type\":\"bar\"}],\"layout\":{\"title\":{\"text\":\"Population Pyramid for 1969\"}}},{\"data\":[{\"hoverinfo\":\"skip\",\"marker\":{\"color\":\"green\"},\"name\":\"Men\",\"orientation\":\"h\",\"x\":[16185300.0,12668683.0,10439730.0,8696827.0,7351825.0,6042725.0,5048651.0,4295048.0,3638028.0,3017399.0,2444272.0,1937102.0,1490368.0,1052596.0,638824.0,343209.0,216455.0],\"y\":[1,6,11,16,21,26,31,36,41,46,51,56,61,66,71,76,81],\"type\":\"bar\"},{\"hoverinfo\":\"skip\",\"marker\":{\"color\":\"pink\"},\"name\":\"Women\",\"orientation\":\"h\",\"x\":[-15972553.0,-12539283.0,-10343679.0,-8692708.0,-7439082.0,-6260926.0,-5303604.0,-4513885.0,-3792985.0,-3132071.0,-2558399.0,-2064323.0,-1624705.0,-1196039.0,-782696.0,-448310.0,-303464.0],\"y\":[1,6,11,16,21,26,31,36,41,46,51,56,61,66,71,76,81],\"type\":\"bar\"}],\"layout\":{\"title\":{\"text\":\"Population Pyramid for 1970\"}}},{\"data\":[{\"hoverinfo\":\"skip\",\"marker\":{\"color\":\"green\"},\"name\":\"Men\",\"orientation\":\"h\",\"x\":[16683260.0,13071929.0,10780612.0,8963706.0,7535254.0,6244221.0,5168612.0,4386866.0,3720962.0,3092712.0,2509551.0,1986956.0,1530781.0,1087545.0,662482.0,352658.0,220276.0],\"y\":[1,6,11,16,21,26,31,36,41,46,51,56,61,66,71,76,81],\"type\":\"bar\"},{\"hoverinfo\":\"skip\",\"marker\":{\"color\":\"pink\"},\"name\":\"Women\",\"orientation\":\"h\",\"x\":[-16468273.0,-12945861.0,-10687232.0,-8954181.0,-7623354.0,-6446681.0,-5420546.0,-4614022.0,-3892943.0,-3217747.0,-2632072.0,-2120537.0,-1670579.0,-1232049.0,-806627.0,-461161.0,-310930.0],\"y\":[1,6,11,16,21,26,31,36,41,46,51,56,61,66,71,76,81],\"type\":\"bar\"}],\"layout\":{\"title\":{\"text\":\"Population Pyramid for 1971\"}}},{\"data\":[{\"hoverinfo\":\"skip\",\"marker\":{\"color\":\"green\"},\"name\":\"Men\",\"orientation\":\"h\",\"x\":[17183525.0,13478956.0,11133297.0,9236303.0,7722910.0,6455015.0,5297071.0,4483924.0,3804349.0,3169399.0,2575681.0,2039208.0,1571909.0,1121451.0,688165.0,362225.0,224266.0],\"y\":[1,6,11,16,21,26,31,36,41,46,51,56,61,66,71,76,81],\"type\":\"bar\"},{\"hoverinfo\":\"skip\",\"marker\":{\"color\":\"pink\"},\"name\":\"Women\",\"orientation\":\"h\",\"x\":[-16962747.0,-13355827.0,-11040527.0,-9220579.0,-7808254.0,-6632205.0,-5534376.0,-4711563.0,-3987779.0,-3303529.0,-2705696.0,-2178160.0,-1717250.0,-1267705.0,-832289.0,-474063.0,-318875.0],\"y\":[1,6,11,16,21,26,31,36,41,46,51,56,61,66,71,76,81],\"type\":\"bar\"}],\"layout\":{\"title\":{\"text\":\"Population Pyramid for 1972\"}}},{\"data\":[{\"hoverinfo\":\"skip\",\"marker\":{\"color\":\"green\"},\"name\":\"Men\",\"orientation\":\"h\",\"x\":[17686049.0,13901101.0,11493218.0,9523347.0,7937065.0,6669416.0,5445004.0,4588736.0,3890536.0,3248308.0,2644138.0,2093789.0,1614166.0,1155458.0,715455.0,372848.0,228849.0],\"y\":[1,6,11,16,21,26,31,36,41,46,51,56,61,66,71,76,81],\"type\":\"bar\"},{\"hoverinfo\":\"skip\",\"marker\":{\"color\":\"pink\"},\"name\":\"Women\",\"orientation\":\"h\",\"x\":[-17456733.0,-13779661.0,-11400572.0,-9506320.0,-8022380.0,-6820373.0,-5660892.0,-4811756.0,-4080806.0,-3391627.0,-2781083.0,-2238024.0,-1764901.0,-1304361.0,-859463.0,-487767.0,-327487.0],\"y\":[1,6,11,16,21,26,31,36,41,46,51,56,61,66,71,76,81],\"type\":\"bar\"}],\"layout\":{\"title\":{\"text\":\"Population Pyramid for 1973\"}}},{\"data\":[{\"hoverinfo\":\"skip\",\"marker\":{\"color\":\"green\"},\"name\":\"Men\",\"orientation\":\"h\",\"x\":[18189895.0,14350209.0,11863998.0,9834340.0,8181513.0,6893479.0,5624456.0,4706065.0,3981138.0,3330016.0,2714260.0,2152638.0,1659054.0,1190603.0,742862.0,385365.0,234388.0],\"y\":[1,6,11,16,21,26,31,36,41,46,51,56,61,66,71,76,81],\"type\":\"bar\"},{\"hoverinfo\":\"skip\",\"marker\":{\"color\":\"pink\"},\"name\":\"Women\",\"orientation\":\"h\",\"x\":[-17947689.0,-14224554.0,-11766634.0,-9819265.0,-8273344.0,-7019389.0,-5813750.0,-4917832.0,-4172670.0,-3481849.0,-2856373.0,-2301481.0,-1813972.0,-1342797.0,-887494.0,-502571.0,-337021.0],\"y\":[1,6,11,16,21,26,31,36,41,46,51,56,61,66,71,76,81],\"type\":\"bar\"}],\"layout\":{\"title\":{\"text\":\"Population Pyramid for 1974\"}}},{\"data\":[{\"hoverinfo\":\"skip\",\"marker\":{\"color\":\"green\"},\"name\":\"Men\",\"orientation\":\"h\",\"x\":[18693996.0,14822065.0,12245583.0,10155110.0,8440920.0,7107113.0,5825669.0,4829877.0,4072373.0,3411398.0,2784359.0,2214514.0,1706572.0,1226312.0,769049.0,399205.0,240306.0],\"y\":[1,6,11,16,21,26,31,36,41,46,51,56,61,66,71,76,81],\"type\":\"bar\"},{\"hoverinfo\":\"skip\",\"marker\":{\"color\":\"pink\"},\"name\":\"Women\",\"orientation\":\"h\",\"x\":[-18437088.0,-14686470.0,-12141377.0,-10147848.0,-8542192.0,-7220318.0,-5986098.0,-5024588.0,-4260013.0,-3570327.0,-2929807.0,-2367073.0,-1864297.0,-1382126.0,-915312.0,-518033.0,-346910.0],\"y\":[1,6,11,16,21,26,31,36,41,46,51,56,61,66,71,76,81],\"type\":\"bar\"}],\"layout\":{\"title\":{\"text\":\"Population Pyramid for 1975\"}}},{\"data\":[{\"hoverinfo\":\"skip\",\"marker\":{\"color\":\"green\"},\"name\":\"Men\",\"orientation\":\"h\",\"x\":[19215805.0,15312942.0,12638896.0,10480836.0,8705977.0,7299173.0,6035167.0,4956042.0,4166160.0,3492690.0,2856439.0,2277055.0,1756652.0,1263163.0,795180.0,414705.0,246784.0],\"y\":[1,6,11,16,21,26,31,36,41,46,51,56,61,66,71,76,81],\"type\":\"bar\"},{\"hoverinfo\":\"skip\",\"marker\":{\"color\":\"pink\"},\"name\":\"Women\",\"orientation\":\"h\",\"x\":[-18947151.0,-15165924.0,-12529912.0,-10485591.0,-8817877.0,-7417565.0,-6170627.0,-5132793.0,-4348187.0,-3658045.0,-3005363.0,-2433491.0,-1916866.0,-1422995.0,-943843.0,-535193.0,-357564.0],\"y\":[1,6,11,16,21,26,31,36,41,46,51,56,61,66,71,76,81],\"type\":\"bar\"}],\"layout\":{\"title\":{\"text\":\"Population Pyramid for 1976\"}}},{\"data\":[{\"hoverinfo\":\"skip\",\"marker\":{\"color\":\"green\"},\"name\":\"Men\",\"orientation\":\"h\",\"x\":[19740107.0,15791685.0,13025539.0,10809131.0,8968623.0,7490854.0,6249815.0,5088483.0,4263972.0,3573021.0,2928497.0,2340223.0,1807952.0,1299920.0,820478.0,431381.0,253640.0],\"y\":[1,6,11,16,21,26,31,36,41,46,51,56,61,66,71,76,81],\"type\":\"bar\"},{\"hoverinfo\":\"skip\",\"marker\":{\"color\":\"pink\"},\"name\":\"Women\",\"orientation\":\"h\",\"x\":[-19461423.0,-15631055.0,-12915052.0,-10829571.0,-9098753.0,-7620745.0,-6360041.0,-5240577.0,-4433664.0,-3738942.0,-3079639.0,-2499741.0,-1970039.0,-1463825.0,-972187.0,-553533.0,-368795.0],\"y\":[1,6,11,16,21,26,31,36,41,46,51,56,61,66,71,76,81],\"type\":\"bar\"}],\"layout\":{\"title\":{\"text\":\"Population Pyramid for 1977\"}}},{\"data\":[{\"hoverinfo\":\"skip\",\"marker\":{\"color\":\"green\"},\"name\":\"Men\",\"orientation\":\"h\",\"x\":[20305392.0,16272244.0,13422042.0,11149135.0,9255925.0,7715802.0,6473308.0,5246902.0,4377318.0,3662824.0,3008448.0,2411653.0,1865300.0,1339998.0,846756.0,449485.0,262929.0],\"y\":[1,6,11,16,21,26,31,36,41,46,51,56,61,66,71,76,81],\"type\":\"bar\"},{\"hoverinfo\":\"skip\",\"marker\":{\"color\":\"pink\"},\"name\":\"Women\",\"orientation\":\"h\",\"x\":[-20017651.0,-16097970.0,-13318646.0,-11197419.0,-9418643.0,-7866942.0,-6561909.0,-5367364.0,-4524914.0,-3819418.0,-3158357.0,-2571966.0,-2028709.0,-1507740.0,-1002307.0,-573508.0,-382525.0],\"y\":[1,6,11,16,21,26,31,36,41,46,51,56,61,66,71,76,81],\"type\":\"bar\"}],\"layout\":{\"title\":{\"text\":\"Population Pyramid for 1978\"}}},{\"data\":[{\"hoverinfo\":\"skip\",\"marker\":{\"color\":\"green\"},\"name\":\"Men\",\"orientation\":\"h\",\"x\":[20922104.0,16772679.0,13860237.0,11507640.0,9567695.0,7965806.0,6699729.0,5430140.0,4499752.0,3755760.0,3090379.0,2483379.0,1924717.0,1383637.0,875069.0,468337.0,274890.0],\"y\":[1,6,11,16,21,26,31,36,41,46,51,56,61,66,71,76,81],\"type\":\"bar\"},{\"hoverinfo\":\"skip\",\"marker\":{\"color\":\"pink\"},\"name\":\"Women\",\"orientation\":\"h\",\"x\":[-20624675.0,-16582399.0,-13755008.0,-11574043.0,-9763955.0,-8147516.0,-6774834.0,-5522605.0,-4625774.0,-3901997.0,-3241053.0,-2645047.0,-2091206.0,-1555124.0,-1035114.0,-594858.0,-398791.0],\"y\":[1,6,11,16,21,26,31,36,41,46,51,56,61,66,71,76,81],\"type\":\"bar\"}],\"layout\":{\"title\":{\"text\":\"Population Pyramid for 1979\"}}},{\"data\":[{\"hoverinfo\":\"skip\",\"marker\":{\"color\":\"green\"},\"name\":\"Men\",\"orientation\":\"h\",\"x\":[21492697.0,17252388.0,14353838.0,11922646.0,9918685.0,8251840.0,6928680.0,5627706.0,4607895.0,3823683.0,3144514.0,2526943.0,1960259.0,1421002.0,901949.0,485593.0,286979.0],\"y\":[1,6,11,16,21,26,31,36,41,46,51,56,61,66,71,76,81],\"type\":\"bar\"},{\"hoverinfo\":\"skip\",\"marker\":{\"color\":\"pink\"},\"name\":\"Women\",\"orientation\":\"h\",\"x\":[-21180529.0,-17030380.0,-14182851.0,-11918303.0,-10084673.0,-8426316.0,-6986641.0,-5698085.0,-4729198.0,-3979224.0,-3313887.0,-2701134.0,-2136865.0,-1596543.0,-1066326.0,-614866.0,-414758.0],\"y\":[1,6,11,16,21,26,31,36,41,46,51,56,61,66,71,76,81],\"type\":\"bar\"}],\"layout\":{\"title\":{\"text\":\"Population Pyramid for 1980\"}}},{\"data\":[{\"hoverinfo\":\"skip\",\"marker\":{\"color\":\"green\"},\"name\":\"Men\",\"orientation\":\"h\",\"x\":[22104054.0,17738665.0,14879132.0,12375192.0,10268871.0,8526391.0,7136729.0,5832718.0,4716691.0,3891164.0,3193514.0,2566371.0,1994275.0,1455961.0,929724.0,502801.0,299449.0],\"y\":[1,6,11,16,21,26,31,36,41,46,51,56,61,66,71,76,81],\"type\":\"bar\"},{\"hoverinfo\":\"skip\",\"marker\":{\"color\":\"pink\"},\"name\":\"Women\",\"orientation\":\"h\",\"x\":[-21777517.0,-17495239.0,-14648853.0,-12306081.0,-10415977.0,-8711533.0,-7210953.0,-5902424.0,-4847710.0,-4066919.0,-3390939.0,-2763423.0,-2184015.0,-1637435.0,-1099242.0,-635614.0,-431904.0],\"y\":[1,6,11,16,21,26,31,36,41,46,51,56,61,66,71,76,81],\"type\":\"bar\"}],\"layout\":{\"title\":{\"text\":\"Population Pyramid for 1981\"}}},{\"data\":[{\"hoverinfo\":\"skip\",\"marker\":{\"color\":\"green\"},\"name\":\"Men\",\"orientation\":\"h\",\"x\":[22810275.0,18241902.0,15382222.0,12830415.0,10594937.0,8746870.0,7315752.0,6035204.0,4838022.0,3975389.0,3255787.0,2619274.0,2043933.0,1492595.0,960143.0,520989.0,313002.0],\"y\":[1,6,11,16,21,26,31,36,41,46,51,56,61,66,71,76,81],\"type\":\"bar\"},{\"hoverinfo\":\"skip\",\"marker\":{\"color\":\"pink\"},\"name\":\"Women\",\"orientation\":\"h\",\"x\":[-22473702.0,-18000846.0,-15146804.0,-12769283.0,-10782522.0,-9003952.0,-7454167.0,-6131200.0,-4983940.0,-4168814.0,-3477871.0,-2843750.0,-2246756.0,-1681985.0,-1135509.0,-658103.0,-450850.0],\"y\":[1,6,11,16,21,26,31,36,41,46,51,56,61,66,71,76,81],\"type\":\"bar\"}],\"layout\":{\"title\":{\"text\":\"Population Pyramid for 1982\"}}},{\"data\":[{\"hoverinfo\":\"skip\",\"marker\":{\"color\":\"green\"},\"name\":\"Men\",\"orientation\":\"h\",\"x\":[23490290.0,18741341.0,15851675.0,13317970.0,10925332.0,8941702.0,7485012.0,6222268.0,4966410.0,4059511.0,3313287.0,2666232.0,2087580.0,1523815.0,989828.0,537767.0,326384.0],\"y\":[1,6,11,16,21,26,31,36,41,46,51,56,61,66,71,76,81],\"type\":\"bar\"},{\"hoverinfo\":\"skip\",\"marker\":{\"color\":\"pink\"},\"name\":\"Women\",\"orientation\":\"h\",\"x\":[-23150813.0,-18511872.0,-15613875.0,-13262527.0,-11147372.0,-9290928.0,-7718488.0,-6371189.0,-5140432.0,-4279377.0,-3565677.0,-2928443.0,-2310125.0,-1723219.0,-1170583.0,-679203.0,-469181.0],\"y\":[1,6,11,16,21,26,31,36,41,46,51,56,61,66,71,76,81],\"type\":\"bar\"}],\"layout\":{\"title\":{\"text\":\"Population Pyramid for 1983\"}}},{\"data\":[{\"hoverinfo\":\"skip\",\"marker\":{\"color\":\"green\"},\"name\":\"Men\",\"orientation\":\"h\",\"x\":[24158992.0,19265452.0,16276164.0,13824715.0,11264541.0,9125885.0,7644846.0,6393354.0,5103130.0,4139904.0,3363321.0,2709023.0,2130449.0,1553086.0,1018723.0,553557.0,339448.0],\"y\":[1,6,11,16,21,26,31,36,41,46,51,56,61,66,71,76,81],\"type\":\"bar\"},{\"hoverinfo\":\"skip\",\"marker\":{\"color\":\"pink\"},\"name\":\"Women\",\"orientation\":\"h\",\"x\":[-23812771.0,-19041593.0,-16044949.0,-13794487.0,-11535428.0,-9588576.0,-7998200.0,-6613997.0,-5316188.0,-4392313.0,-3650215.0,-3016942.0,-2380294.0,-1766910.0,-1205254.0,-699563.0,-486919.0],\"y\":[1,6,11,16,21,26,31,36,41,46,51,56,61,66,71,76,81],\"type\":\"bar\"}],\"layout\":{\"title\":{\"text\":\"Population Pyramid for 1984\"}}},{\"data\":[{\"hoverinfo\":\"skip\",\"marker\":{\"color\":\"green\"},\"name\":\"Men\",\"orientation\":\"h\",\"x\":[24889248.0,19831893.0,16680066.0,14361225.0,11630585.0,9300921.0,7796186.0,6543549.0,5246839.0,4214523.0,3403705.0,2746408.0,2173769.0,1586427.0,1046027.0,570437.0,353112.0],\"y\":[1,6,11,16,21,26,31,36,41,46,51,56,61,66,71,76,81],\"type\":\"bar\"},{\"hoverinfo\":\"skip\",\"marker\":{\"color\":\"pink\"},\"name\":\"Women\",\"orientation\":\"h\",\"x\":[-24524327.0,-19589540.0,-16449686.0,-14362871.0,-11966459.0,-9903986.0,-8292253.0,-6864638.0,-5513058.0,-4506551.0,-3730700.0,-3108062.0,-2463434.0,-1821570.0,-1239943.0,-720935.0,-505207.0],\"y\":[1,6,11,16,21,26,31,36,41,46,51,56,61,66,71,76,81],\"type\":\"bar\"}],\"layout\":{\"title\":{\"text\":\"Population Pyramid for 1985\"}}},{\"data\":[{\"hoverinfo\":\"skip\",\"marker\":{\"color\":\"green\"},\"name\":\"Men\",\"orientation\":\"h\",\"x\":[25659302.0,20483027.0,17074031.0,14864092.0,12063481.0,9555134.0,7971969.0,6702558.0,5417021.0,4309017.0,3461245.0,2791193.0,2216340.0,1623400.0,1072089.0,588660.0,367358.0],\"y\":[1,6,11,16,21,26,31,36,41,46,51,56,61,66,71,76,81],\"type\":\"bar\"},{\"hoverinfo\":\"skip\",\"marker\":{\"color\":\"pink\"},\"name\":\"Women\",\"orientation\":\"h\",\"x\":[-25269776.0,-20219620.0,-16832281.0,-14857676.0,-12406705.0,-10230064.0,-8567388.0,-7106449.0,-5722441.0,-4629139.0,-3816049.0,-3191023.0,-2547561.0,-1877671.0,-1274427.0,-743496.0,-524251.0],\"y\":[1,6,11,16,21,26,31,36,41,46,51,56,61,66,71,76,81],\"type\":\"bar\"}],\"layout\":{\"title\":{\"text\":\"Population Pyramid for 1986\"}}},{\"data\":[{\"hoverinfo\":\"skip\",\"marker\":{\"color\":\"green\"},\"name\":\"Men\",\"orientation\":\"h\",\"x\":[26468049.0,21205863.0,17479172.0,15272932.0,12546277.0,9922743.0,8176646.0,6890781.0,5616968.0,4430109.0,3543438.0,2849896.0,2261305.0,1662998.0,1099147.0,609235.0,387943.0],\"y\":[1,6,11,16,21,26,31,36,41,46,51,56,61,66,71,76,81],\"type\":\"bar\"},{\"hoverinfo\":\"skip\",\"marker\":{\"color\":\"pink\"},\"name\":\"Women\",\"orientation\":\"h\",\"x\":[-26055656.0,-20930414.0,-17233999.0,-15245050.0,-12850250.0,-10567585.0,-8805389.0,-7330644.0,-5933316.0,-4757635.0,-3908322.0,-3263436.0,-2627041.0,-1931388.0,-1309492.0,-767890.0,-549399.0],\"y\":[1,6,11,16,21,26,31,36,41,46,51,56,61,66,71,76,81],\"type\":\"bar\"}],\"layout\":{\"title\":{\"text\":\"Population Pyramid for 1987\"}}},{\"data\":[{\"hoverinfo\":\"skip\",\"marker\":{\"color\":\"green\"},\"name\":\"Men\",\"orientation\":\"h\",\"x\":[27244000.0,21905707.0,17939780.0,15602172.0,13001337.0,10305807.0,8379508.0,7073443.0,5806700.0,4554329.0,3626294.0,2907251.0,2303733.0,1700140.0,1121454.0,629327.0,405879.0],\"y\":[1,6,11,16,21,26,31,36,41,46,51,56,61,66,71,76,81],\"type\":\"bar\"},{\"hoverinfo\":\"skip\",\"marker\":{\"color\":\"pink\"},\"name\":\"Women\",\"orientation\":\"h\",\"x\":[-26815263.0,-21624936.0,-17712602.0,-15586244.0,-13303304.0,-10910089.0,-9034519.0,-7549411.0,-6136236.0,-4887775.0,-4002833.0,-3332030.0,-2702870.0,-1985718.0,-1340897.0,-791376.0,-572214.0],\"y\":[1,6,11,16,21,26,31,36,41,46,51,56,61,66,71,76,81],\"type\":\"bar\"}],\"layout\":{\"title\":{\"text\":\"Population Pyramid for 1988\"}}},{\"data\":[{\"hoverinfo\":\"skip\",\"marker\":{\"color\":\"green\"},\"name\":\"Men\",\"orientation\":\"h\",\"x\":[27978244.0,22576098.0,18483808.0,15895648.0,13451460.0,10714557.0,8607787.0,7251899.0,5988345.0,4689994.0,3713645.0,2963741.0,2344984.0,1735966.0,1141919.0,648470.0,415962.0],\"y\":[1,6,11,16,21,26,31,36,41,46,51,56,61,66,71,76,81],\"type\":\"bar\"},{\"hoverinfo\":\"skip\",\"marker\":{\"color\":\"pink\"},\"name\":\"Women\",\"orientation\":\"h\",\"x\":[-27527748.0,-22292120.0,-18270233.0,-15886377.0,-13762029.0,-11277670.0,-9281030.0,-7767249.0,-6334894.0,-5030995.0,-4103076.0,-3398590.0,-2772642.0,-2042289.0,-1372354.0,-814788.0,-588276.0],\"y\":[1,6,11,16,21,26,31,36,41,46,51,56,61,66,71,76,81],\"type\":\"bar\"}],\"layout\":{\"title\":{\"text\":\"Population Pyramid for 1989\"}}},{\"data\":[{\"hoverinfo\":\"skip\",\"marker\":{\"color\":\"green\"},\"name\":\"Men\",\"orientation\":\"h\",\"x\":[28707512.0,23259215.0,19119223.0,16204838.0,13901986.0,11156453.0,8881736.0,7439644.0,6168367.0,4847232.0,3811356.0,3024722.0,2389698.0,1774349.0,1167310.0,667270.0,427533.0],\"y\":[1,6,11,16,21,26,31,36,41,46,51,56,61,66,71,76,81],\"type\":\"bar\"},{\"hoverinfo\":\"skip\",\"marker\":{\"color\":\"pink\"},\"name\":\"Women\",\"orientation\":\"h\",\"x\":[-28228946.0,-22971404.0,-18900622.0,-16183066.0,-14209839.0,-11680543.0,-9561941.0,-7990076.0,-6539476.0,-5197211.0,-4212311.0,-3467895.0,-2839749.0,-2105047.0,-1408503.0,-839479.0,-606122.0],\"y\":[1,6,11,16,21,26,31,36,41,46,51,56,61,66,71,76,81],\"type\":\"bar\"}],\"layout\":{\"title\":{\"text\":\"Population Pyramid for 1990\"}}},{\"data\":[{\"hoverinfo\":\"skip\",\"marker\":{\"color\":\"green\"},\"name\":\"Men\",\"orientation\":\"h\",\"x\":[29347152.0,23975869.0,19793162.0,16506174.0,14300351.0,11596414.0,9189754.0,7623661.0,6332306.0,5011904.0,3909745.0,3086880.0,2436139.0,1812530.0,1195328.0,685841.0,442766.0],\"y\":[1,6,11,16,21,26,31,36,41,46,51,56,61,66,71,76,81],\"type\":\"bar\"},{\"hoverinfo\":\"skip\",\"marker\":{\"color\":\"pink\"},\"name\":\"Women\",\"orientation\":\"h\",\"x\":[-28836219.0,-23672682.0,-19570013.0,-16488047.0,-14618271.0,-12102091.0,-9862671.0,-8198487.0,-6731763.0,-5368470.0,-4316158.0,-3532159.0,-2898131.0,-2168609.0,-1444685.0,-863347.0,-626263.0],\"y\":[1,6,11,16,21,26,31,36,41,46,51,56,61,66,71,76,81],\"type\":\"bar\"}],\"layout\":{\"title\":{\"text\":\"Population Pyramid for 1991\"}}},{\"data\":[{\"hoverinfo\":\"skip\",\"marker\":{\"color\":\"green\"},\"name\":\"Men\",\"orientation\":\"h\",\"x\":[29894583.0,24712529.0,20478161.0,16834366.0,14619197.0,11999567.0,9503988.0,7780671.0,6475906.0,5170806.0,4000647.0,3145243.0,2478438.0,1847998.0,1221826.0,702492.0,457553.0],\"y\":[1,6,11,16,21,26,31,36,41,46,51,56,61,66,71,76,81],\"type\":\"bar\"},{\"hoverinfo\":\"skip\",\"marker\":{\"color\":\"pink\"},\"name\":\"Women\",\"orientation\":\"h\",\"x\":[-29368540.0,-24390944.0,-20261533.0,-16846702.0,-14969987.0,-12522890.0,-10175477.0,-8393716.0,-6914975.0,-5541970.0,-4414867.0,-3599326.0,-2958059.0,-2236208.0,-1482028.0,-885847.0,-646482.0],\"y\":[1,6,11,16,21,26,31,36,41,46,51,56,61,66,71,76,81],\"type\":\"bar\"}],\"layout\":{\"title\":{\"text\":\"Population Pyramid for 1992\"}}},{\"data\":[{\"hoverinfo\":\"skip\",\"marker\":{\"color\":\"green\"},\"name\":\"Men\",\"orientation\":\"h\",\"x\":[30453751.0,25475724.0,21206240.0,17295666.0,14894684.0,12369383.0,9806475.0,7923296.0,6608335.0,5318929.0,4089783.0,3197257.0,2505636.0,1879465.0,1247440.0,715530.0,469652.0],\"y\":[1,6,11,16,21,26,31,36,41,46,51,56,61,66,71,76,81],\"type\":\"bar\"},{\"hoverinfo\":\"skip\",\"marker\":{\"color\":\"pink\"},\"name\":\"Women\",\"orientation\":\"h\",\"x\":[-29931629.0,-25143386.0,-20980419.0,-17311202.0,-15262992.0,-12941185.0,-10511397.0,-8616282.0,-7119625.0,-5727331.0,-4524162.0,-3675391.0,-3016073.0,-2308096.0,-1525122.0,-907603.0,-666043.0],\"y\":[1,6,11,16,21,26,31,36,41,46,51,56,61,66,71,76,81],\"type\":\"bar\"}],\"layout\":{\"title\":{\"text\":\"Population Pyramid for 1993\"}}},{\"data\":[{\"hoverinfo\":\"skip\",\"marker\":{\"color\":\"green\"},\"name\":\"Men\",\"orientation\":\"h\",\"x\":[30982395.0,26162812.0,21894255.0,17886051.0,15200899.0,12772502.0,10137618.0,8088172.0,6735514.0,5463716.0,4187695.0,3244375.0,2512920.0,1900415.0,1271997.0,728982.0,485316.0],\"y\":[1,6,11,16,21,26,31,36,41,46,51,56,61,66,71,76,81],\"type\":\"bar\"},{\"hoverinfo\":\"skip\",\"marker\":{\"color\":\"pink\"},\"name\":\"Women\",\"orientation\":\"h\",\"x\":[-30459684.0,-25813683.0,-21633560.0,-17858155.0,-15555013.0,-13402449.0,-10897029.0,-8882529.0,-7338814.0,-5918075.0,-4646688.0,-3747600.0,-3052648.0,-2368564.0,-1570464.0,-929603.0,-688205.0],\"y\":[1,6,11,16,21,26,31,36,41,46,51,56,61,66,71,76,81],\"type\":\"bar\"}],\"layout\":{\"title\":{\"text\":\"Population Pyramid for 1994\"}}},{\"data\":[{\"hoverinfo\":\"skip\",\"marker\":{\"color\":\"green\"},\"name\":\"Men\",\"orientation\":\"h\",\"x\":[31562210.0,26772696.0,22559057.0,18552680.0,15518633.0,13173104.0,10493936.0,8284333.0,6860429.0,5601793.0,4306021.0,3305439.0,2530373.0,1919223.0,1296866.0,744348.0,499116.0],\"y\":[1,6,11,16,21,26,31,36,41,46,51,56,61,66,71,76,81],\"type\":\"bar\"},{\"hoverinfo\":\"skip\",\"marker\":{\"color\":\"pink\"},\"name\":\"Women\",\"orientation\":\"h\",\"x\":[-31039100.0,-26419817.0,-22293639.0,-18494355.0,-15855106.0,-13843105.0,-11291082.0,-9161158.0,-7552084.0,-6109752.0,-4790726.0,-3832209.0,-3095015.0,-2423776.0,-1620994.0,-953655.0,-710811.0],\"y\":[1,6,11,16,21,26,31,36,41,46,51,56,61,66,71,76,81],\"type\":\"bar\"}],\"layout\":{\"title\":{\"text\":\"Population Pyramid for 1995\"}}},{\"data\":[{\"hoverinfo\":\"skip\",\"marker\":{\"color\":\"green\"},\"name\":\"Men\",\"orientation\":\"h\",\"x\":[32277389.0,27400324.0,23290245.0,19253620.0,15804576.0,13494455.0,10832577.0,8500149.0,6980938.0,5728089.0,4445526.0,3388224.0,2577749.0,1946277.0,1325199.0,761606.0,510355.0],\"y\":[1,6,11,16,21,26,31,36,41,46,51,56,61,66,71,76,81],\"type\":\"bar\"},{\"hoverinfo\":\"skip\",\"marker\":{\"color\":\"pink\"},\"name\":\"Women\",\"orientation\":\"h\",\"x\":[-31753691.0,-27068416.0,-23065963.0,-19214264.0,-16140534.0,-14175305.0,-11639002.0,-9424026.0,-7751460.0,-6300354.0,-4957766.0,-3936605.0,-3162723.0,-2482934.0,-1680939.0,-980839.0,-733711.0],\"y\":[1,6,11,16,21,26,31,36,41,46,51,56,61,66,71,76,81],\"type\":\"bar\"}],\"layout\":{\"title\":{\"text\":\"Population Pyramid for 1996\"}}},{\"data\":[{\"hoverinfo\":\"skip\",\"marker\":{\"color\":\"green\"},\"name\":\"Men\",\"orientation\":\"h\",\"x\":[32957971.0,27982611.0,24037724.0,19953480.0,16128955.0,13776356.0,11179236.0,8756004.0,7102688.0,5854963.0,4598039.0,3478406.0,2633863.0,1971414.0,1353509.0,780311.0,526691.0],\"y\":[1,6,11,16,21,26,31,36,41,46,51,56,61,66,71,76,81],\"type\":\"bar\"},{\"hoverinfo\":\"skip\",\"marker\":{\"color\":\"pink\"},\"name\":\"Women\",\"orientation\":\"h\",\"x\":[-32425685.0,-27669660.0,-23836447.0,-19925836.0,-16451663.0,-14435788.0,-11976127.0,-9690095.0,-7938245.0,-6487061.0,-5134447.0,-4037919.0,-3227995.0,-2530046.0,-1742388.0,-1010581.0,-760023.0],\"y\":[1,6,11,16,21,26,31,36,41,46,51,56,61,66,71,76,81],\"type\":\"bar\"}],\"layout\":{\"title\":{\"text\":\"Population Pyramid for 1997\"}}},{\"data\":[{\"hoverinfo\":\"skip\",\"marker\":{\"color\":\"green\"},\"name\":\"Men\",\"orientation\":\"h\",\"x\":[33571837.0,28505787.0,24763691.0,20643080.0,16562406.0,14053772.0,11556290.0,9061935.0,7250266.0,5991585.0,4753572.0,3576923.0,2694535.0,1994770.0,1378918.0,800801.0,546343.0],\"y\":[1,6,11,16,21,26,31,36,41,46,51,56,61,66,71,76,81],\"type\":\"bar\"},{\"hoverinfo\":\"skip\",\"marker\":{\"color\":\"pink\"},\"name\":\"Women\",\"orientation\":\"h\",\"x\":[-33028475.0,-28202108.0,-24562697.0,-20604554.0,-16856087.0,-14671838.0,-12337732.0,-9981559.0,-8137390.0,-6680537.0,-5314835.0,-4141873.0,-3289970.0,-2565492.0,-1799843.0,-1044576.0,-789504.0],\"y\":[1,6,11,16,21,26,31,36,41,46,51,56,61,66,71,76,81],\"type\":\"bar\"}],\"layout\":{\"title\":{\"text\":\"Population Pyramid for 1998\"}}},{\"data\":[{\"hoverinfo\":\"skip\",\"marker\":{\"color\":\"green\"},\"name\":\"Men\",\"orientation\":\"h\",\"x\":[34220341.0,29013736.0,25454809.0,21323304.0,17113723.0,14328546.0,11941859.0,9396226.0,7426175.0,6129441.0,4907588.0,3689192.0,2764580.0,2023405.0,1401721.0,823506.0,568433.0],\"y\":[1,6,11,16,21,26,31,36,41,46,51,56,61,66,71,76,81],\"type\":\"bar\"},{\"hoverinfo\":\"skip\",\"marker\":{\"color\":\"pink\"},\"name\":\"Women\",\"orientation\":\"h\",\"x\":[-33669847.0,-28717923.0,-25258215.0,-21290785.0,-17387536.0,-14900105.0,-12706829.0,-10293352.0,-8358160.0,-6880699.0,-5499694.0,-4265188.0,-3365190.0,-2602629.0,-1853769.0,-1084959.0,-824810.0],\"y\":[1,6,11,16,21,26,31,36,41,46,51,56,61,66,71,76,81],\"type\":\"bar\"}],\"layout\":{\"title\":{\"text\":\"Population Pyramid for 1999\"}}},{\"data\":[{\"hoverinfo\":\"skip\",\"marker\":{\"color\":\"green\"},\"name\":\"Men\",\"orientation\":\"h\",\"x\":[34907848.0,29588870.0,26089381.0,22001967.0,17752453.0,14609951.0,12313276.0,9749551.0,7633655.0,6267757.0,5052459.0,3814716.0,2841970.0,2058915.0,1425094.0,848614.0,595482.0],\"y\":[1,6,11,16,21,26,31,36,41,46,51,56,61,66,71,76,81],\"type\":\"bar\"},{\"hoverinfo\":\"skip\",\"marker\":{\"color\":\"pink\"},\"name\":\"Women\",\"orientation\":\"h\",\"x\":[-34347069.0,-29295840.0,-25891956.0,-21979525.0,-17995370.0,-15122561.0,-13048241.0,-10616194.0,-8594559.0,-7075985.0,-5682533.0,-4405187.0,-3449341.0,-2642774.0,-1903924.0,-1131468.0,-866089.0],\"y\":[1,6,11,16,21,26,31,36,41,46,51,56,61,66,71,76,81],\"type\":\"bar\"}],\"layout\":{\"title\":{\"text\":\"Population Pyramid for 2000\"}}},{\"data\":[{\"hoverinfo\":\"skip\",\"marker\":{\"color\":\"green\"},\"name\":\"Men\",\"orientation\":\"h\",\"x\":[35604125.0,30239811.0,26656896.0,22685674.0,18442321.0,14926864.0,12667761.0,10116194.0,7877640.0,6409264.0,5187418.0,3952584.0,2926937.0,2101897.0,1450133.0,874159.0,624558.0],\"y\":[1,6,11,16,21,26,31,36,41,46,51,56,61,66,71,76,81],\"type\":\"bar\"},{\"hoverinfo\":\"skip\",\"marker\":{\"color\":\"pink\"},\"name\":\"Women\",\"orientation\":\"h\",\"x\":[-35030081.0,-29946085.0,-26466027.0,-22679746.0,-18660063.0,-15378465.0,-13352360.0,-10945770.0,-8846826.0,-7264879.0,-5861864.0,-4558663.0,-3540312.0,-2687634.0,-1948945.0,-1181490.0,-908475.0],\"y\":[1,6,11,16,21,26,31,36,41,46,51,56,61,66,71,76,81],\"type\":\"bar\"}],\"layout\":{\"title\":{\"text\":\"Population Pyramid for 2001\"}}},{\"data\":[{\"hoverinfo\":\"skip\",\"marker\":{\"color\":\"green\"},\"name\":\"Men\",\"orientation\":\"h\",\"x\":[36378931.0,30909064.0,27187949.0,23389561.0,19150354.0,15300571.0,12992595.0,10481456.0,8152295.0,6547824.0,5321045.0,4099488.0,3016149.0,2153329.0,1475250.0,898148.0,651433.0],\"y\":[1,6,11,16,21,26,31,36,41,46,51,56,61,66,71,76,81],\"type\":\"bar\"},{\"hoverinfo\":\"skip\",\"marker\":{\"color\":\"pink\"},\"name\":\"Women\",\"orientation\":\"h\",\"x\":[-35793713.0,-30607277.0,-27008484.0,-23397627.0,-19355820.0,-15700205.0,-13615082.0,-11277411.0,-9115154.0,-7449470.0,-6043369.0,-4723422.0,-3635711.0,-2741516.0,-1988630.0,-1232073.0,-950699.0],\"y\":[1,6,11,16,21,26,31,36,41,46,51,56,61,66,71,76,81],\"type\":\"bar\"}],\"layout\":{\"title\":{\"text\":\"Population Pyramid for 2002\"}}},{\"data\":[{\"hoverinfo\":\"skip\",\"marker\":{\"color\":\"green\"},\"name\":\"Men\",\"orientation\":\"h\",\"x\":[37231060.0,31589378.0,27720901.0,24096953.0,19848251.0,15760294.0,13284486.0,10841676.0,8445913.0,6695507.0,5458010.0,4248266.0,3110360.0,2212656.0,1500776.0,919728.0,675470.0],\"y\":[1,6,11,16,21,26,31,36,41,46,51,56,61,66,71,76,81],\"type\":\"bar\"},{\"hoverinfo\":\"skip\",\"marker\":{\"color\":\"pink\"},\"name\":\"Women\",\"orientation\":\"h\",\"x\":[-36632195.0,-31274652.0,-27546814.0,-24120508.0,-20051525.0,-16112976.0,-13835181.0,-11605105.0,-9390845.0,-7639904.0,-6230259.0,-4891659.0,-3735286.0,-2804510.0,-2023740.0,-1279707.0,-992954.0],\"y\":[1,6,11,16,21,26,31,36,41,46,51,56,61,66,71,76,81],\"type\":\"bar\"}],\"layout\":{\"title\":{\"text\":\"Population Pyramid for 2003\"}}},{\"data\":[{\"hoverinfo\":\"skip\",\"marker\":{\"color\":\"green\"},\"name\":\"Men\",\"orientation\":\"h\",\"x\":[38124818.0,32313845.0,28272449.0,24777008.0,20529313.0,16324753.0,13563785.0,11201052.0,8755329.0,6866059.0,5595956.0,4397510.0,3214993.0,2278790.0,1529372.0,938957.0,699127.0],\"y\":[1,6,11,16,21,26,31,36,41,46,51,56,61,66,71,76,81],\"type\":\"bar\"},{\"hoverinfo\":\"skip\",\"marker\":{\"color\":\"pink\"},\"name\":\"Women\",\"orientation\":\"h\",\"x\":[-37508354.0,-31986476.0,-28098918.0,-24821016.0,-20747463.0,-16633896.0,-14035278.0,-11926998.0,-9672920.0,-7846078.0,-6419328.0,-5061372.0,-3845258.0,-2875993.0,-2057882.0,-1323149.0,-1038066.0],\"y\":[1,6,11,16,21,26,31,36,41,46,51,56,61,66,71,76,81],\"type\":\"bar\"}],\"layout\":{\"title\":{\"text\":\"Population Pyramid for 2004\"}}},{\"data\":[{\"hoverinfo\":\"skip\",\"marker\":{\"color\":\"green\"},\"name\":\"Men\",\"orientation\":\"h\",\"x\":[39060625.0,33055217.0,28885239.0,25396070.0,21197391.0,16973677.0,13855810.0,11554987.0,9081277.0,7064462.0,5733461.0,4539535.0,3331888.0,2350924.0,1561819.0,957501.0,723716.0],\"y\":[1,6,11,16,21,26,31,36,41,46,51,56,61,66,71,76,81],\"type\":\"bar\"},{\"hoverinfo\":\"skip\",\"marker\":{\"color\":\"pink\"},\"name\":\"Women\",\"orientation\":\"h\",\"x\":[-38422746.0,-32713560.0,-28711450.0,-25459544.0,-21448490.0,-17246742.0,-14250597.0,-12235647.0,-9966345.0,-8069988.0,-6604260.0,-5231894.0,-3970197.0,-2955348.0,-2093717.0,-1362585.0,-1087148.0],\"y\":[1,6,11,16,21,26,31,36,41,46,51,56,61,66,71,76,81],\"type\":\"bar\"}],\"layout\":{\"title\":{\"text\":\"Population Pyramid for 2005\"}}},{\"data\":[{\"hoverinfo\":\"skip\",\"marker\":{\"color\":\"green\"},\"name\":\"Men\",\"orientation\":\"h\",\"x\":[40045542.0,33807970.0,29568034.0,25970528.0,21881903.0,17678102.0,14188785.0,11901267.0,9421483.0,7294681.0,5871393.0,4671941.0,3459015.0,2426608.0,1599228.0,976760.0,747392.0],\"y\":[1,6,11,16,21,26,31,36,41,46,51,56,61,66,71,76,81],\"type\":\"bar\"},{\"hoverinfo\":\"skip\",\"marker\":{\"color\":\"pink\"},\"name\":\"Women\",\"orientation\":\"h\",\"x\":[-39379077.0,-33451866.0,-29390265.0,-26047818.0,-22165626.0,-17928165.0,-14517054.0,-12526858.0,-10273737.0,-8312633.0,-6784328.0,-5401728.0,-4108588.0,-3039421.0,-2134257.0,-1398364.0,-1138085.0],\"y\":[1,6,11,16,21,26,31,36,41,46,51,56,61,66,71,76,81],\"type\":\"bar\"}],\"layout\":{\"title\":{\"text\":\"Population Pyramid for 2006\"}}},{\"data\":[{\"hoverinfo\":\"skip\",\"marker\":{\"color\":\"green\"},\"name\":\"Men\",\"orientation\":\"h\",\"x\":[41072675.0,34640791.0,30260742.0,26524356.0,22593229.0,18403400.0,14586405.0,12234148.0,9773532.0,7558824.0,6010086.0,4804087.0,3595782.0,2505244.0,1642965.0,996080.0,768789.0],\"y\":[1,6,11,16,21,26,31,36,41,46,51,56,61,66,71,76,81],\"type\":\"bar\"},{\"hoverinfo\":\"skip\",\"marker\":{\"color\":\"pink\"},\"name\":\"Women\",\"orientation\":\"h\",\"x\":[-40373410.0,-34273592.0,-30072411.0,-26611604.0,-22900317.0,-18644459.0,-14859639.0,-12796166.0,-10595373.0,-8576233.0,-6965694.0,-5575547.0,-4260946.0,-3127004.0,-2182770.0,-1430556.0,-1189586.0],\"y\":[1,6,11,16,21,26,31,36,41,46,51,56,61,66,71,76,81],\"type\":\"bar\"}],\"layout\":{\"title\":{\"text\":\"Population Pyramid for 2007\"}}},{\"data\":[{\"hoverinfo\":\"skip\",\"marker\":{\"color\":\"green\"},\"name\":\"Men\",\"orientation\":\"h\",\"x\":[42153366.0,35543761.0,30947246.0,27068905.0,23300419.0,19113103.0,15069475.0,12546303.0,10133466.0,7847762.0,6161712.0,4940159.0,3735726.0,2588725.0,1691861.0,1014964.0,786337.0],\"y\":[1,6,11,16,21,26,31,36,41,46,51,56,61,66,71,76,81],\"type\":\"bar\"},{\"hoverinfo\":\"skip\",\"marker\":{\"color\":\"pink\"},\"name\":\"Women\",\"orientation\":\"h\",\"x\":[-41417931.0,-35166994.0,-30749326.0,-27165199.0,-23635751.0,-19361289.0,-15298195.0,-13039048.0,-10926390.0,-8854142.0,-7157947.0,-5756401.0,-4420394.0,-3219652.0,-2239088.0,-1459356.0,-1238525.0],\"y\":[1,6,11,16,21,26,31,36,41,46,51,56,61,66,71,76,81],\"type\":\"bar\"}],\"layout\":{\"title\":{\"text\":\"Population Pyramid for 2008\"}}},{\"data\":[{\"hoverinfo\":\"skip\",\"marker\":{\"color\":\"green\"},\"name\":\"Men\",\"orientation\":\"h\",\"x\":[43238789.0,36478873.0,31655856.0,27607373.0,23971952.0,19800311.0,15647769.0,12845780.0,10496948.0,8154302.0,6336687.0,5078543.0,3877339.0,2681186.0,1745162.0,1035298.0,801861.0],\"y\":[1,6,11,16,21,26,31,36,41,46,51,56,61,66,71,76,81],\"type\":\"bar\"},{\"hoverinfo\":\"skip\",\"marker\":{\"color\":\"pink\"},\"name\":\"Women\",\"orientation\":\"h\",\"x\":[-42464806.0,-36092207.0,-31462174.0,-27727105.0,-24350082.0,-20072498.0,-15835572.0,-13264734.0,-11258766.0,-9141718.0,-7366198.0,-5940020.0,-4582795.0,-3322433.0,-2302677.0,-1487204.0,-1285457.0],\"y\":[1,6,11,16,21,26,31,36,41,46,51,56,61,66,71,76,81],\"type\":\"bar\"}],\"layout\":{\"title\":{\"text\":\"Population Pyramid for 2009\"}}},{\"data\":[{\"hoverinfo\":\"skip\",\"marker\":{\"color\":\"green\"},\"name\":\"Men\",\"orientation\":\"h\",\"x\":[44281328.0,37466367.0,32395304.0,28211924.0,24590030.0,20473997.0,16306897.0,13158924.0,10859337.0,8477428.0,6538127.0,5217887.0,4013256.0,2786050.0,1803838.0,1058670.0,819329.0],\"y\":[1,6,11,16,21,26,31,36,41,46,51,56,61,66,71,76,81],\"type\":\"bar\"},{\"hoverinfo\":\"skip\",\"marker\":{\"color\":\"pink\"},\"name\":\"Women\",\"orientation\":\"h\",\"x\":[-43470277.0,-37062339.0,-32198382.0,-28343895.0,-25002891.0,-20788690.0,-16463081.0,-13507938.0,-11583442.0,-9442837.0,-7595527.0,-6124129.0,-4749018.0,-3441258.0,-2374564.0,-1517486.0,-1335224.0],\"y\":[1,6,11,16,21,26,31,36,41,46,51,56,61,66,71,76,81],\"type\":\"bar\"}],\"layout\":{\"title\":{\"text\":\"Population Pyramid for 2010\"}}},{\"data\":[{\"hoverinfo\":\"skip\",\"marker\":{\"color\":\"green\"},\"name\":\"Men\",\"orientation\":\"h\",\"x\":[45267347.0,38501830.0,33163330.0,28895166.0,25158368.0,21142083.0,17006266.0,13506089.0,11213784.0,8811260.0,6764841.0,5355631.0,4138850.0,2901676.0,1866356.0,1086306.0,839064.0],\"y\":[1,6,11,16,21,26,31,36,41,46,51,56,61,66,71,76,81],\"type\":\"bar\"},{\"hoverinfo\":\"skip\",\"marker\":{\"color\":\"pink\"},\"name\":\"Women\",\"orientation\":\"h\",\"x\":[-44419782.0,-38069847.0,-32946172.0,-29007846.0,-25587492.0,-21509936.0,-17153760.0,-13797765.0,-11890181.0,-9755095.0,-7844824.0,-6307396.0,-4916609.0,-3575548.0,-2452393.0,-1552612.0,-1387449.0],\"y\":[1,6,11,16,21,26,31,36,41,46,51,56,61,66,71,76,81],\"type\":\"bar\"}],\"layout\":{\"title\":{\"text\":\"Population Pyramid for 2011\"}}},{\"data\":[{\"hoverinfo\":\"skip\",\"marker\":{\"color\":\"green\"},\"name\":\"Men\",\"orientation\":\"h\",\"x\":[46198332.0,39576618.0,34014733.0,29593594.0,25708737.0,21829606.0,17720403.0,13914010.0,11557216.0,9158008.0,7020652.0,5492730.0,4263499.0,3026120.0,1932547.0,1118925.0,858333.0],\"y\":[1,6,11,16,21,26,31,36,41,46,51,56,61,66,71,76,81],\"type\":\"bar\"},{\"hoverinfo\":\"skip\",\"marker\":{\"color\":\"pink\"},\"name\":\"Women\",\"orientation\":\"h\",\"x\":[-45314314.0,-39109515.0,-33776468.0,-29672258.0,-26145574.0,-22249636.0,-17880921.0,-14160990.0,-12176035.0,-10079885.0,-8112188.0,-6492286.0,-5087645.0,-3723081.0,-2534415.0,-1594063.0,-1437311.0],\"y\":[1,6,11,16,21,26,31,36,41,46,51,56,61,66,71,76,81],\"type\":\"bar\"}],\"layout\":{\"title\":{\"text\":\"Population Pyramid for 2012\"}}},{\"data\":[{\"hoverinfo\":\"skip\",\"marker\":{\"color\":\"green\"},\"name\":\"Men\",\"orientation\":\"h\",\"x\":[47078289.0,40719474.0,34956931.0,30318242.0,26282417.0,22537496.0,18431881.0,14413233.0,11888209.0,9518153.0,7300104.0,5640681.0,4391128.0,3152429.0,2004605.0,1156234.0,877613.0],\"y\":[1,6,11,16,21,26,31,36,41,46,51,56,61,66,71,76,81],\"type\":\"bar\"},{\"hoverinfo\":\"skip\",\"marker\":{\"color\":\"pink\"},\"name\":\"Women\",\"orientation\":\"h\",\"x\":[-46158242.0,-40210166.0,-34693873.0,-30350532.0,-26708837.0,-23010609.0,-18628128.0,-14629347.0,-12443161.0,-10416459.0,-8392894.0,-6689108.0,-5266249.0,-3877218.0,-2622742.0,-1642924.0,-1484270.0],\"y\":[1,6,11,16,21,26,31,36,41,46,51,56,61,66,71,76,81],\"type\":\"bar\"}],\"layout\":{\"title\":{\"text\":\"Population Pyramid for 2013\"}}},{\"data\":[{\"hoverinfo\":\"skip\",\"marker\":{\"color\":\"green\"},\"name\":\"Men\",\"orientation\":\"h\",\"x\":[47924020.0,41868441.0,35940084.0,31090661.0,26880011.0,23235905.0,19129292.0,15009401.0,12213518.0,9887621.0,7597037.0,5808960.0,4519878.0,3276639.0,2084817.0,1197197.0,898334.0],\"y\":[1,6,11,16,21,26,31,36,41,46,51,56,61,66,71,76,81],\"type\":\"bar\"},{\"hoverinfo\":\"skip\",\"marker\":{\"color\":\"pink\"},\"name\":\"Women\",\"orientation\":\"h\",\"x\":[-46969032.0,-41317284.0,-35651456.0,-31075901.0,-27274718.0,-23746437.0,-19374608.0,-15202095.0,-12700216.0,-10756947.0,-8682787.0,-6903370.0,-5450078.0,-4033548.0,-2720900.0,-1698738.0,-1530870.0],\"y\":[1,6,11,16,21,26,31,36,41,46,51,56,61,66,71,76,81],\"type\":\"bar\"}],\"layout\":{\"title\":{\"text\":\"Population Pyramid for 2014\"}}},{\"data\":[{\"hoverinfo\":\"skip\",\"marker\":{\"color\":\"green\"},\"name\":\"Men\",\"orientation\":\"h\",\"x\":[48779218.0,42978196.0,36983588.0,31918660.0,27575344.0,23915913.0,19839412.0,15700546.0,12562558.0,10264392.0,7912854.0,6001017.0,4647945.0,3395482.0,2174125.0,1241619.0,921499.0],\"y\":[1,6,11,16,21,26,31,36,41,46,51,56,61,66,71,76,81],\"type\":\"bar\"},{\"hoverinfo\":\"skip\",\"marker\":{\"color\":\"pink\"},\"name\":\"Women\",\"orientation\":\"h\",\"x\":[-47789665.0,-42384176.0,-36653658.0,-31827428.0,-27897498.0,-24435429.0,-20144063.0,-15874276.0,-12979382.0,-11093406.0,-8987141.0,-7137137.0,-5632117.0,-4191405.0,-2831054.0,-1760059.0,-1577875.0],\"y\":[1,6,11,16,21,26,31,36,41,46,51,56,61,66,71,76,81],\"type\":\"bar\"}],\"layout\":{\"title\":{\"text\":\"Population Pyramid for 2015\"}}},{\"data\":[{\"hoverinfo\":\"skip\",\"marker\":{\"color\":\"green\"},\"name\":\"Men\",\"orientation\":\"h\",\"x\":[49641282.0,44047780.0,38079859.0,32743324.0,28285156.0,24494035.0,20512775.0,16408054.0,12926652.0,10623309.0,8233346.0,6211231.0,4770798.0,3504129.0,2270930.0,1288647.0,948781.0],\"y\":[1,6,11,16,21,26,31,36,41,46,51,56,61,66,71,76,81],\"type\":\"bar\"},{\"hoverinfo\":\"skip\",\"marker\":{\"color\":\"pink\"},\"name\":\"Women\",\"orientation\":\"h\",\"x\":[-48614067.0,-43408412.0,-37700546.0,-32581986.0,-28547884.0,-25046269.0,-20915316.0,-16603516.0,-13298383.0,-11411889.0,-9302333.0,-7387561.0,-5810939.0,-4349533.0,-2953290.0,-1825525.0,-1629818.0],\"y\":[1,6,11,16,21,26,31,36,41,46,51,56,61,66,71,76,81],\"type\":\"bar\"}],\"layout\":{\"title\":{\"text\":\"Population Pyramid for 2016\"}}},{\"data\":[{\"hoverinfo\":\"skip\",\"marker\":{\"color\":\"green\"},\"name\":\"Men\",\"orientation\":\"h\",\"x\":[50527950.0,45048010.0,39194652.0,33610378.0,28956812.0,25005637.0,21167835.0,17103010.0,13331062.0,10961721.0,8561827.0,6445607.0,4892796.0,3609954.0,2373716.0,1338098.0,980011.0],\"y\":[1,6,11,16,21,26,31,36,41,46,51,56,61,66,71,76,81],\"type\":\"bar\"},{\"hoverinfo\":\"skip\",\"marker\":{\"color\":\"pink\"},\"name\":\"Women\",\"orientation\":\"h\",\"x\":[-49459497.0,-44365105.0,-38773390.0,-33410378.0,-29177045.0,-25594212.0,-21674320.0,-17350716.0,-13678514.0,-11705198.0,-9626161.0,-7652897.0,-5991427.0,-4509749.0,-3086225.0,-1894203.0,-1688213.0],\"y\":[1,6,11,16,21,26,31,36,41,46,51,56,61,66,71,76,81],\"type\":\"bar\"}],\"layout\":{\"title\":{\"text\":\"Population Pyramid for 2017\"}}},{\"data\":[{\"hoverinfo\":\"skip\",\"marker\":{\"color\":\"green\"},\"name\":\"Men\",\"orientation\":\"h\",\"x\":[51462324.0,45959995.0,40339961.0,34553287.0,29672727.0,25565705.0,21859093.0,17803395.0,13828439.0,11294381.0,8911271.0,6708990.0,5031828.0,3722030.0,2477747.0,1392035.0,1014714.0],\"y\":[1,6,11,16,21,26,31,36,41,46,51,56,61,66,71,76,81],\"type\":\"bar\"},{\"hoverinfo\":\"skip\",\"marker\":{\"color\":\"pink\"},\"name\":\"Women\",\"orientation\":\"h\",\"x\":[-50354295.0,-45238285.0,-39886015.0,-34334491.0,-29841888.0,-26141601.0,-22432247.0,-18101141.0,-14153659.0,-11978368.0,-9960406.0,-7931174.0,-6185332.0,-4677211.0,-3224304.0,-1967877.0,-1750682.0],\"y\":[1,6,11,16,21,26,31,36,41,46,51,56,61,66,71,76,81],\"type\":\"bar\"}],\"layout\":{\"title\":{\"text\":\"Population Pyramid for 2018\"}}},{\"data\":[{\"hoverinfo\":\"skip\",\"marker\":{\"color\":\"green\"},\"name\":\"Men\",\"orientation\":\"h\",\"x\":[52445829.0,46830488.0,41476275.0,35526881.0,30439607.0,26157013.0,22540445.0,18485600.0,14415738.0,11620415.0,9271944.0,6991100.0,5191655.0,3835788.0,2579929.0,1452252.0,1050938.0],\"y\":[1,6,11,16,21,26,31,36,41,46,51,56,61,66,71,76,81],\"type\":\"bar\"},{\"hoverinfo\":\"skip\",\"marker\":{\"color\":\"pink\"},\"name\":\"Women\",\"orientation\":\"h\",\"x\":[-51296626.0,-46072800.0,-40999618.0,-35311876.0,-30578412.0,-26700947.0,-23161560.0,-18847517.0,-14730960.0,-12243730.0,-10298215.0,-8217134.0,-6396462.0,-4848496.0,-3362927.0,-2048886.0,-1814665.0],\"y\":[1,6,11,16,21,26,31,36,41,46,51,56,61,66,71,76,81],\"type\":\"bar\"}],\"layout\":{\"title\":{\"text\":\"Population Pyramid for 2019\"}}},{\"data\":[{\"hoverinfo\":\"skip\",\"marker\":{\"color\":\"green\"},\"name\":\"Men\",\"orientation\":\"h\",\"x\":[53461851.0,47709312.0,42575598.0,36563052.0,31250943.0,26824252.0,23186536.0,19161081.0,15076634.0,11954285.0,9627875.0,7279339.0,5359947.0,3937852.0,2665421.0,1511511.0,1077480.0],\"y\":[1,6,11,16,21,26,31,36,41,46,51,56,61,66,71,76,81],\"type\":\"bar\"},{\"hoverinfo\":\"skip\",\"marker\":{\"color\":\"pink\"},\"name\":\"Women\",\"orientation\":\"h\",\"x\":[-52265991.0,-46911818.0,-42069398.0,-36335804.0,-31355868.0,-27330572.0,-23844536.0,-19607075.0,-15395913.0,-12524773.0,-10625703.0,-8505650.0,-6613487.0,-5007885.0,-3491072.0,-2131769.0,-1872417.0],\"y\":[1,6,11,16,21,26,31,36,41,46,51,56,61,66,71,76,81],\"type\":\"bar\"}],\"layout\":{\"title\":{\"text\":\"Population Pyramid for 2020\"}}},{\"data\":[{\"hoverinfo\":\"skip\",\"marker\":{\"color\":\"green\"},\"name\":\"Men\",\"orientation\":\"h\",\"x\":[54474934.0,48590005.0,43631748.0,37645093.0,32077598.0,27554198.0,23787250.0,19836395.0,15770587.0,12307798.0,9963920.0,7562962.0,5530561.0,4019492.0,2724146.0,1559724.0,1085329.0],\"y\":[1,6,11,16,21,26,31,36,41,46,51,56,61,66,71,76,81],\"type\":\"bar\"},{\"hoverinfo\":\"skip\",\"marker\":{\"color\":\"pink\"},\"name\":\"Women\",\"orientation\":\"h\",\"x\":[-53234090.0,-47750830.0,-43088865.0,-37392619.0,-32150758.0,-28023647.0,-24474164.0,-20373836.0,-16114329.0,-12840580.0,-10928926.0,-8791191.0,-6828373.0,-5147052.0,-3599557.0,-2207210.0,-1909063.0],\"y\":[1,6,11,16,21,26,31,36,41,46,51,56,61,66,71,76,81],\"type\":\"bar\"}],\"layout\":{\"title\":{\"text\":\"Population Pyramid for 2021\"}}}]);\n",
       "                        }).then(function(){\n",
       "                            \n",
       "var gd = document.getElementById('f813dafc-6e3f-4506-b889-d35fefe78166');\n",
       "var x = new MutationObserver(function (mutations, observer) {{\n",
       "        var display = window.getComputedStyle(gd).display;\n",
       "        if (!display || display === 'none') {{\n",
       "            console.log([gd, 'removed!']);\n",
       "            Plotly.purge(gd);\n",
       "            observer.disconnect();\n",
       "        }}\n",
       "}});\n",
       "\n",
       "// Listen for the removal of the full notebook cells\n",
       "var notebookContainer = gd.closest('#notebook-container');\n",
       "if (notebookContainer) {{\n",
       "    x.observe(notebookContainer, {childList: true});\n",
       "}}\n",
       "\n",
       "// Listen for the clearing of the current output cell\n",
       "var outputEl = gd.closest('.output');\n",
       "if (outputEl) {{\n",
       "    x.observe(outputEl, {childList: true});\n",
       "}}\n",
       "\n",
       "                        })                };                });            </script>        </div>"
      ]
     },
     "metadata": {},
     "output_type": "display_data"
    }
   ],
   "source": [
    "# combine the graph_objects into a figure\n",
    "fig = go.Figure(data=data,\n",
    "                frames=frames,\n",
    "                layout = layout)\n",
    "                                 \n",
    "# show our animation!\n",
    "fig.show()"
   ]
  },
  {
   "cell_type": "markdown",
   "id": "140c7260",
   "metadata": {},
   "source": [
    "### [#C] Population Maps\n",
    "\n",
    "A Jupyter notebook which queries a population database and provides visualizations in the form of maps. An example of a library that may be useful is [geopandas](https://geopandas.org/en/stable/)."
   ]
  },
  {
   "cell_type": "code",
   "execution_count": 19,
   "id": "16f77d30",
   "metadata": {},
   "outputs": [],
   "source": [
    "#!pip install geopandas\n",
    "import geopandas as gpd\n",
    "import matplotlib.pyplot as plt"
   ]
  },
  {
   "cell_type": "code",
   "execution_count": 20,
   "id": "04af9329",
   "metadata": {},
   "outputs": [
    {
     "data": {
      "image/png": "[encoded data removed]",
      "text/plain": [
       "<Figure size 3000x5000 with 1 Axes>"
      ]
     },
     "metadata": {},
     "output_type": "display_data"
    }
   ],
   "source": [
    "fp = \"Africa_Boundaries/Africa_Boundaries.shp\"\n",
    "map_df = gpd.read_file(fp)\n",
    "plt.rcParams['figure.figsize'] = [30, 50] \n",
    "map_df.plot();"
   ]
  },
  {
   "cell_type": "code",
   "execution_count": 21,
   "id": "e67ea42a",
   "metadata": {},
   "outputs": [
    {
     "data": {
      "text/html": [
       "<div>\n",
       "<style scoped>\n",
       "    .dataframe tbody tr th:only-of-type {\n",
       "        vertical-align: middle;\n",
       "    }\n",
       "\n",
       "    .dataframe tbody tr th {\n",
       "        vertical-align: top;\n",
       "    }\n",
       "\n",
       "    .dataframe thead th {\n",
       "        text-align: right;\n",
       "    }\n",
       "</style>\n",
       "<table border=\"1\" class=\"dataframe\">\n",
       "  <thead>\n",
       "    <tr style=\"text-align: right;\">\n",
       "      <th>country</th>\n",
       "      <th>Algeria</th>\n",
       "      <th>Angola</th>\n",
       "      <th>Benin</th>\n",
       "      <th>Botswana</th>\n",
       "      <th>Burkina Faso</th>\n",
       "      <th>Burundi</th>\n",
       "      <th>Cabo Verde</th>\n",
       "      <th>Cameroon</th>\n",
       "      <th>Central African Republic</th>\n",
       "      <th>Chad</th>\n",
       "      <th>...</th>\n",
       "      <th>Somalia</th>\n",
       "      <th>South Africa</th>\n",
       "      <th>South Sudan</th>\n",
       "      <th>Sudan</th>\n",
       "      <th>Tanzania</th>\n",
       "      <th>Togo</th>\n",
       "      <th>Tunisia</th>\n",
       "      <th>Uganda</th>\n",
       "      <th>Zambia</th>\n",
       "      <th>Zimbabwe</th>\n",
       "    </tr>\n",
       "    <tr>\n",
       "      <th>date</th>\n",
       "      <th></th>\n",
       "      <th></th>\n",
       "      <th></th>\n",
       "      <th></th>\n",
       "      <th></th>\n",
       "      <th></th>\n",
       "      <th></th>\n",
       "      <th></th>\n",
       "      <th></th>\n",
       "      <th></th>\n",
       "      <th></th>\n",
       "      <th></th>\n",
       "      <th></th>\n",
       "      <th></th>\n",
       "      <th></th>\n",
       "      <th></th>\n",
       "      <th></th>\n",
       "      <th></th>\n",
       "      <th></th>\n",
       "      <th></th>\n",
       "      <th></th>\n",
       "    </tr>\n",
       "  </thead>\n",
       "  <tbody>\n",
       "    <tr>\n",
       "      <th>1960</th>\n",
       "      <td>11394307.0</td>\n",
       "      <td>5357195.0</td>\n",
       "      <td>2512284.0</td>\n",
       "      <td>512865.0</td>\n",
       "      <td>4783259.0</td>\n",
       "      <td>2746628.0</td>\n",
       "      <td>209849.0</td>\n",
       "      <td>5117608.0</td>\n",
       "      <td>1679728.0</td>\n",
       "      <td>3028688.0</td>\n",
       "      <td>...</td>\n",
       "      <td>2870732.0</td>\n",
       "      <td>16520441.0</td>\n",
       "      <td>2907724.0</td>\n",
       "      <td>8326462.0</td>\n",
       "      <td>10042458.0</td>\n",
       "      <td>1651367.0</td>\n",
       "      <td>4195467.0</td>\n",
       "      <td>7617746.0</td>\n",
       "      <td>3119430.0</td>\n",
       "      <td>3806310.0</td>\n",
       "    </tr>\n",
       "    <tr>\n",
       "      <th>1961</th>\n",
       "      <td>11598608.0</td>\n",
       "      <td>5441333.0</td>\n",
       "      <td>2551216.0</td>\n",
       "      <td>524403.0</td>\n",
       "      <td>4852833.0</td>\n",
       "      <td>2815972.0</td>\n",
       "      <td>214788.0</td>\n",
       "      <td>5200355.0</td>\n",
       "      <td>1710364.0</td>\n",
       "      <td>3087657.0</td>\n",
       "      <td>...</td>\n",
       "      <td>2945662.0</td>\n",
       "      <td>16989464.0</td>\n",
       "      <td>2948953.0</td>\n",
       "      <td>8577490.0</td>\n",
       "      <td>10337891.0</td>\n",
       "      <td>1678788.0</td>\n",
       "      <td>4236386.0</td>\n",
       "      <td>7838440.0</td>\n",
       "      <td>3219451.0</td>\n",
       "      <td>3925952.0</td>\n",
       "    </tr>\n",
       "    <tr>\n",
       "      <th>1962</th>\n",
       "      <td>11778260.0</td>\n",
       "      <td>5521400.0</td>\n",
       "      <td>2593302.0</td>\n",
       "      <td>536428.0</td>\n",
       "      <td>4924497.0</td>\n",
       "      <td>2887398.0</td>\n",
       "      <td>221484.0</td>\n",
       "      <td>5303841.0</td>\n",
       "      <td>1742502.0</td>\n",
       "      <td>3148242.0</td>\n",
       "      <td>...</td>\n",
       "      <td>3022827.0</td>\n",
       "      <td>17503133.0</td>\n",
       "      <td>2992270.0</td>\n",
       "      <td>8841338.0</td>\n",
       "      <td>10644622.0</td>\n",
       "      <td>1706841.0</td>\n",
       "      <td>4281744.0</td>\n",
       "      <td>8068828.0</td>\n",
       "      <td>3323427.0</td>\n",
       "      <td>4049778.0</td>\n",
       "    </tr>\n",
       "    <tr>\n",
       "      <th>1963</th>\n",
       "      <td>11969451.0</td>\n",
       "      <td>5599827.0</td>\n",
       "      <td>2638082.0</td>\n",
       "      <td>549041.0</td>\n",
       "      <td>4998671.0</td>\n",
       "      <td>2948133.0</td>\n",
       "      <td>228814.0</td>\n",
       "      <td>5427511.0</td>\n",
       "      <td>1776214.0</td>\n",
       "      <td>3210296.0</td>\n",
       "      <td>...</td>\n",
       "      <td>3102170.0</td>\n",
       "      <td>18042215.0</td>\n",
       "      <td>3036238.0</td>\n",
       "      <td>9115091.0</td>\n",
       "      <td>10960161.0</td>\n",
       "      <td>1736697.0</td>\n",
       "      <td>4332926.0</td>\n",
       "      <td>8311013.0</td>\n",
       "      <td>3431381.0</td>\n",
       "      <td>4177931.0</td>\n",
       "    </tr>\n",
       "    <tr>\n",
       "      <th>1964</th>\n",
       "      <td>12179099.0</td>\n",
       "      <td>5673199.0</td>\n",
       "      <td>2685619.0</td>\n",
       "      <td>562274.0</td>\n",
       "      <td>5076111.0</td>\n",
       "      <td>3033221.0</td>\n",
       "      <td>236362.0</td>\n",
       "      <td>5556209.0</td>\n",
       "      <td>1811694.0</td>\n",
       "      <td>3273419.0</td>\n",
       "      <td>...</td>\n",
       "      <td>3183590.0</td>\n",
       "      <td>18603097.0</td>\n",
       "      <td>3088701.0</td>\n",
       "      <td>9406702.0</td>\n",
       "      <td>11289556.0</td>\n",
       "      <td>1772652.0</td>\n",
       "      <td>4389417.0</td>\n",
       "      <td>8564755.0</td>\n",
       "      <td>3542764.0</td>\n",
       "      <td>4310332.0</td>\n",
       "    </tr>\n",
       "    <tr>\n",
       "      <th>...</th>\n",
       "      <td>...</td>\n",
       "      <td>...</td>\n",
       "      <td>...</td>\n",
       "      <td>...</td>\n",
       "      <td>...</td>\n",
       "      <td>...</td>\n",
       "      <td>...</td>\n",
       "      <td>...</td>\n",
       "      <td>...</td>\n",
       "      <td>...</td>\n",
       "      <td>...</td>\n",
       "      <td>...</td>\n",
       "      <td>...</td>\n",
       "      <td>...</td>\n",
       "      <td>...</td>\n",
       "      <td>...</td>\n",
       "      <td>...</td>\n",
       "      <td>...</td>\n",
       "      <td>...</td>\n",
       "      <td>...</td>\n",
       "      <td>...</td>\n",
       "    </tr>\n",
       "    <tr>\n",
       "      <th>2017</th>\n",
       "      <td>41136546.0</td>\n",
       "      <td>30208628.0</td>\n",
       "      <td>11596779.0</td>\n",
       "      <td>2401840.0</td>\n",
       "      <td>19835858.0</td>\n",
       "      <td>11155593.0</td>\n",
       "      <td>564954.0</td>\n",
       "      <td>24393181.0</td>\n",
       "      <td>4996741.0</td>\n",
       "      <td>15085884.0</td>\n",
       "      <td>...</td>\n",
       "      <td>14864221.0</td>\n",
       "      <td>56641209.0</td>\n",
       "      <td>10658226.0</td>\n",
       "      <td>40679828.0</td>\n",
       "      <td>56267032.0</td>\n",
       "      <td>7852795.0</td>\n",
       "      <td>11811443.0</td>\n",
       "      <td>40127085.0</td>\n",
       "      <td>17298054.0</td>\n",
       "      <td>14751101.0</td>\n",
       "    </tr>\n",
       "    <tr>\n",
       "      <th>2018</th>\n",
       "      <td>41927007.0</td>\n",
       "      <td>31273533.0</td>\n",
       "      <td>11940683.0</td>\n",
       "      <td>2451409.0</td>\n",
       "      <td>20392723.0</td>\n",
       "      <td>11493472.0</td>\n",
       "      <td>571202.0</td>\n",
       "      <td>25076747.0</td>\n",
       "      <td>5094780.0</td>\n",
       "      <td>15604210.0</td>\n",
       "      <td>...</td>\n",
       "      <td>15411094.0</td>\n",
       "      <td>57339635.0</td>\n",
       "      <td>10395329.0</td>\n",
       "      <td>41999059.0</td>\n",
       "      <td>58090443.0</td>\n",
       "      <td>8046679.0</td>\n",
       "      <td>11933041.0</td>\n",
       "      <td>41515395.0</td>\n",
       "      <td>17835893.0</td>\n",
       "      <td>15052184.0</td>\n",
       "    </tr>\n",
       "    <tr>\n",
       "      <th>2019</th>\n",
       "      <td>42705368.0</td>\n",
       "      <td>32353588.0</td>\n",
       "      <td>12290444.0</td>\n",
       "      <td>2499702.0</td>\n",
       "      <td>20951639.0</td>\n",
       "      <td>11874838.0</td>\n",
       "      <td>577030.0</td>\n",
       "      <td>25782341.0</td>\n",
       "      <td>5209324.0</td>\n",
       "      <td>16126866.0</td>\n",
       "      <td>...</td>\n",
       "      <td>15981300.0</td>\n",
       "      <td>58087055.0</td>\n",
       "      <td>10447666.0</td>\n",
       "      <td>43232093.0</td>\n",
       "      <td>59872579.0</td>\n",
       "      <td>8243094.0</td>\n",
       "      <td>12049314.0</td>\n",
       "      <td>42949080.0</td>\n",
       "      <td>18380477.0</td>\n",
       "      <td>15354608.0</td>\n",
       "    </tr>\n",
       "    <tr>\n",
       "      <th>2020</th>\n",
       "      <td>43451666.0</td>\n",
       "      <td>33428486.0</td>\n",
       "      <td>12643123.0</td>\n",
       "      <td>2546402.0</td>\n",
       "      <td>21522626.0</td>\n",
       "      <td>12220227.0</td>\n",
       "      <td>582640.0</td>\n",
       "      <td>26491087.0</td>\n",
       "      <td>5343020.0</td>\n",
       "      <td>16644701.0</td>\n",
       "      <td>...</td>\n",
       "      <td>16537016.0</td>\n",
       "      <td>58801927.0</td>\n",
       "      <td>10606227.0</td>\n",
       "      <td>44440486.0</td>\n",
       "      <td>61704518.0</td>\n",
       "      <td>8442580.0</td>\n",
       "      <td>12161723.0</td>\n",
       "      <td>44404611.0</td>\n",
       "      <td>18927715.0</td>\n",
       "      <td>15669666.0</td>\n",
       "    </tr>\n",
       "    <tr>\n",
       "      <th>2021</th>\n",
       "      <td>44177969.0</td>\n",
       "      <td>34503774.0</td>\n",
       "      <td>12996895.0</td>\n",
       "      <td>2588423.0</td>\n",
       "      <td>22100683.0</td>\n",
       "      <td>12551213.0</td>\n",
       "      <td>587925.0</td>\n",
       "      <td>27198628.0</td>\n",
       "      <td>5457154.0</td>\n",
       "      <td>17179740.0</td>\n",
       "      <td>...</td>\n",
       "      <td>17065581.0</td>\n",
       "      <td>59392255.0</td>\n",
       "      <td>10748272.0</td>\n",
       "      <td>45657202.0</td>\n",
       "      <td>63588334.0</td>\n",
       "      <td>8644829.0</td>\n",
       "      <td>12262946.0</td>\n",
       "      <td>45853778.0</td>\n",
       "      <td>19473125.0</td>\n",
       "      <td>15993524.0</td>\n",
       "    </tr>\n",
       "  </tbody>\n",
       "</table>\n",
       "<p>62 rows × 53 columns</p>\n",
       "</div>"
      ],
      "text/plain": [
       "country     Algeria      Angola       Benin   Botswana  Burkina Faso  \\\n",
       "date                                                                   \n",
       "1960     11394307.0   5357195.0   2512284.0   512865.0     4783259.0   \n",
       "1961     11598608.0   5441333.0   2551216.0   524403.0     4852833.0   \n",
       "1962     11778260.0   5521400.0   2593302.0   536428.0     4924497.0   \n",
       "1963     11969451.0   5599827.0   2638082.0   549041.0     4998671.0   \n",
       "1964     12179099.0   5673199.0   2685619.0   562274.0     5076111.0   \n",
       "...             ...         ...         ...        ...           ...   \n",
       "2017     41136546.0  30208628.0  11596779.0  2401840.0    19835858.0   \n",
       "2018     41927007.0  31273533.0  11940683.0  2451409.0    20392723.0   \n",
       "2019     42705368.0  32353588.0  12290444.0  2499702.0    20951639.0   \n",
       "2020     43451666.0  33428486.0  12643123.0  2546402.0    21522626.0   \n",
       "2021     44177969.0  34503774.0  12996895.0  2588423.0    22100683.0   \n",
       "\n",
       "country     Burundi  Cabo Verde    Cameroon  Central African Republic  \\\n",
       "date                                                                    \n",
       "1960      2746628.0    209849.0   5117608.0                 1679728.0   \n",
       "1961      2815972.0    214788.0   5200355.0                 1710364.0   \n",
       "1962      2887398.0    221484.0   5303841.0                 1742502.0   \n",
       "1963      2948133.0    228814.0   5427511.0                 1776214.0   \n",
       "1964      3033221.0    236362.0   5556209.0                 1811694.0   \n",
       "...             ...         ...         ...                       ...   \n",
       "2017     11155593.0    564954.0  24393181.0                 4996741.0   \n",
       "2018     11493472.0    571202.0  25076747.0                 5094780.0   \n",
       "2019     11874838.0    577030.0  25782341.0                 5209324.0   \n",
       "2020     12220227.0    582640.0  26491087.0                 5343020.0   \n",
       "2021     12551213.0    587925.0  27198628.0                 5457154.0   \n",
       "\n",
       "country        Chad  ...     Somalia  South Africa  South Sudan       Sudan  \\\n",
       "date                 ...                                                      \n",
       "1960      3028688.0  ...   2870732.0    16520441.0    2907724.0   8326462.0   \n",
       "1961      3087657.0  ...   2945662.0    16989464.0    2948953.0   8577490.0   \n",
       "1962      3148242.0  ...   3022827.0    17503133.0    2992270.0   8841338.0   \n",
       "1963      3210296.0  ...   3102170.0    18042215.0    3036238.0   9115091.0   \n",
       "1964      3273419.0  ...   3183590.0    18603097.0    3088701.0   9406702.0   \n",
       "...             ...  ...         ...           ...          ...         ...   \n",
       "2017     15085884.0  ...  14864221.0    56641209.0   10658226.0  40679828.0   \n",
       "2018     15604210.0  ...  15411094.0    57339635.0   10395329.0  41999059.0   \n",
       "2019     16126866.0  ...  15981300.0    58087055.0   10447666.0  43232093.0   \n",
       "2020     16644701.0  ...  16537016.0    58801927.0   10606227.0  44440486.0   \n",
       "2021     17179740.0  ...  17065581.0    59392255.0   10748272.0  45657202.0   \n",
       "\n",
       "country    Tanzania       Togo     Tunisia      Uganda      Zambia    Zimbabwe  \n",
       "date                                                                            \n",
       "1960     10042458.0  1651367.0   4195467.0   7617746.0   3119430.0   3806310.0  \n",
       "1961     10337891.0  1678788.0   4236386.0   7838440.0   3219451.0   3925952.0  \n",
       "1962     10644622.0  1706841.0   4281744.0   8068828.0   3323427.0   4049778.0  \n",
       "1963     10960161.0  1736697.0   4332926.0   8311013.0   3431381.0   4177931.0  \n",
       "1964     11289556.0  1772652.0   4389417.0   8564755.0   3542764.0   4310332.0  \n",
       "...             ...        ...         ...         ...         ...         ...  \n",
       "2017     56267032.0  7852795.0  11811443.0  40127085.0  17298054.0  14751101.0  \n",
       "2018     58090443.0  8046679.0  11933041.0  41515395.0  17835893.0  15052184.0  \n",
       "2019     59872579.0  8243094.0  12049314.0  42949080.0  18380477.0  15354608.0  \n",
       "2020     61704518.0  8442580.0  12161723.0  44404611.0  18927715.0  15669666.0  \n",
       "2021     63588334.0  8644829.0  12262946.0  45853778.0  19473125.0  15993524.0  \n",
       "\n",
       "[62 rows x 53 columns]"
      ]
     },
     "execution_count": 21,
     "metadata": {},
     "output_type": "execute_result"
    }
   ],
   "source": [
    "# African Population by country\n",
    "variable_labels = {\"SP.POP.TOTL\":\"Population\"}\n",
    "african_countries = map_df[['ISO','NAME_0']].to_dict('records')\n",
    "african_countries = {item['ISO']:item['NAME_0'] for item in african_countries}\n",
    "all_countries = list(pd.DataFrame(wbdata.get_country())['id'])\n",
    "intersection = list(set(all_countries) & set(list(african_countries.keys())))\n",
    "african_countries = {key:african_countries[key] for key in intersection}\n",
    "df = wbdata.get_dataframe(variable_labels, country = african_countries).squeeze()\n",
    "df = df.unstack('country')\n",
    "df.index = df.index.astype(int)\n",
    "df"
   ]
  },
  {
   "cell_type": "code",
   "execution_count": 22,
   "id": "884f53af",
   "metadata": {},
   "outputs": [
    {
     "name": "stderr",
     "output_type": "stream",
     "text": [
      "/var/folders/gh/rk3t_9fx5rv7y72f7k32rj7r0000gn/T/ipykernel_51629/3619972604.py:10: MatplotlibDeprecationWarning:\n",
      "\n",
      "Unable to determine Axes to steal space for Colorbar. Using gca(), but will raise in the future. Either provide the *cax* argument to use as the Axes for the Colorbar, provide the *ax* argument to steal space from it, or add *mappable* to an Axes.\n",
      "\n"
     ]
    },
    {
     "data": {
      "image/png": "[encoded data removed]",
      "text/plain": [
       "<Figure size 3000x1000 with 2 Axes>"
      ]
     },
     "metadata": {},
     "output_type": "display_data"
    }
   ],
   "source": [
    "df = df.loc[[2021]].T.reset_index()\n",
    "merged = map_df.merge(df,how='left',left_on='NAME_0',right_on='country')\n",
    "#merged.dropna(subset=[2021],inplace=True)\n",
    "vmin, vmax = 0, 60\n",
    "fig, ax = plt.subplots(1, figsize=(30, 10))\n",
    "ax.axis('off')\n",
    "ax.set_title('Population Density Map', fontdict={'fontsize': '25', 'fontweight' : '3'})\n",
    "sm = plt.cm.ScalarMappable(cmap='Reds', norm=plt.Normalize(vmin=vmin, vmax=vmax))\n",
    "sm.set_array([]) \n",
    "fig.colorbar(sm)\n",
    "merged.plot(column=2021, cmap='Reds', linewidth=0.8, ax=ax, edgecolor='0.8')\n",
    "merged['coords'] = merged['geometry'].apply(lambda x: x.representative_point().coords[:])\n",
    "merged['coords'] = [coords[0] for coords in merged['coords']]\n",
    "for idx, row in merged.iterrows():\n",
    "    plt.annotate(text=row['country'], xy=row['coords'],horizontalalignment='center')"
   ]
  },
  {
   "cell_type": "markdown",
   "id": "cb506058",
   "metadata": {},
   "source": [
    "### [#C] Agricultural Supply"
   ]
  },
  {
   "cell_type": "code",
   "execution_count": 23,
   "id": "0f8b65f3",
   "metadata": {},
   "outputs": [
    {
     "data": {
      "application/vnd.plotly.v1+json": {
       "config": {
        "plotlyServerURL": "https://plot.ly"
       },
       "data": [
        {
         "hovertemplate": "country=Africa Eastern and Southern<br>date=%{x}<br>Population=%{y}<extra></extra>",
         "legendgroup": "Africa Eastern and Southern",
         "line": {
          "color": "#636efa",
          "dash": "solid"
         },
         "marker": {
          "symbol": "circle"
         },
         "mode": "lines",
         "name": "Africa Eastern and Southern",
         "orientation": "v",
         "showlegend": true,
         "type": "scatter",
         "x": [
          2021,
          2020,
          2019,
          2018,
          2017,
          2016,
          2015,
          2014,
          2013,
          2012,
          2011,
          2010,
          2009,
          2008,
          2007,
          2006,
          2005,
          2004,
          2003,
          2002,
          2001,
          2000,
          1999,
          1998,
          1997,
          1996,
          1995,
          1994,
          1993,
          1992,
          1991,
          1990,
          1989,
          1988,
          1987,
          1986,
          1985,
          1984,
          1983,
          1982,
          1981,
          1980,
          1979,
          1978,
          1977,
          1976,
          1975,
          1974,
          1973,
          1972,
          1971,
          1970,
          1969,
          1968,
          1967,
          1966,
          1965,
          1964,
          1963,
          1962,
          1961,
          1960
         ],
         "xaxis": "x",
         "y": [
          702976832,
          685112705,
          667242712,
          649756874,
          632746296,
          616377331,
          600008150,
          583650827,
          567891875,
          552530654,
          537792950,
          523459657,
          509410477,
          495748900,
          482406426,
          469508516,
          457153837,
          445281555,
          433807484,
          422741118,
          412001885,
          401600588,
          391486231,
          381715600,
          372352230,
          362985802,
          353466601,
          344418362,
          335625136,
          326933522,
          318544083,
          309890664,
          301124880,
          292795186,
          284490394,
          276035920,
          267938123,
          260209149,
          252779730,
          245386717,
          237937461,
          230967858,
          224315978,
          217481420,
          211120911,
          205202669,
          199284304,
          193512956,
          187901657,
          182599092,
          177503186,
          172475766,
          167596160,
          162875171,
          158313235,
          153955516,
          149742351,
          145605995,
          141630546,
          137835590,
          134169237,
          130692579
         ],
         "yaxis": "y"
        },
        {
         "hovertemplate": "country=Africa Western and Central<br>date=%{x}<br>Population=%{y}<extra></extra>",
         "legendgroup": "Africa Western and Central",
         "line": {
          "color": "#EF553B",
          "dash": "solid"
         },
         "marker": {
          "symbol": "circle"
         },
         "mode": "lines",
         "name": "Africa Western and Central",
         "orientation": "v",
         "showlegend": true,
         "type": "scatter",
         "x": [
          2021,
          2020,
          2019,
          2018,
          2017,
          2016,
          2015,
          2014,
          2013,
          2012,
          2011,
          2010,
          2009,
          2008,
          2007,
          2006,
          2005,
          2004,
          2003,
          2002,
          2001,
          2000,
          1999,
          1998,
          1997,
          1996,
          1995,
          1994,
          1993,
          1992,
          1991,
          1990,
          1989,
          1988,
          1987,
          1986,
          1985,
          1984,
          1983,
          1982,
          1981,
          1980,
          1979,
          1978,
          1977,
          1976,
          1975,
          1974,
          1973,
          1972,
          1971,
          1970,
          1969,
          1968,
          1967,
          1966,
          1965,
          1964,
          1963,
          1962,
          1961,
          1960
         ],
         "xaxis": "x",
         "y": [
          478185907,
          466189102,
          454306063,
          442646825,
          431138704,
          419778384,
          408690375,
          397855507,
          387204553,
          376797999,
          366489204,
          356337762,
          346475221,
          336893835,
          327612838,
          318601484,
          309824829,
          301265247,
          292977949,
          284952322,
          277160097,
          269611898,
          262397030,
          255482918,
          248713095,
          242200260,
          235861484,
          229675775,
          223788766,
          217966101,
          212172888,
          206739024,
          201392200,
          195969722,
          190759952,
          185720244,
          180817312,
          176054495,
          171566640,
          167023385,
          162323313,
          157825609,
          153459665,
          149206663,
          145122851,
          141258400,
          137548613,
          133953892,
          130563107,
          127364044,
          124336039,
          121424797,
          118615741,
          115921723,
          113319950,
          110798486,
          108336203,
          105959979,
          103667517,
          101445032,
          99314028,
          97256290
         ],
         "yaxis": "y"
        }
       ],
       "layout": {
        "legend": {
         "title": {
          "text": "country"
         },
         "tracegroupgap": 0
        },
        "template": {
         "data": {
          "bar": [
           {
            "error_x": {
             "color": "#2a3f5f"
            },
            "error_y": {
             "color": "#2a3f5f"
            },
            "marker": {
             "line": {
              "color": "#E5ECF6",
              "width": 0.5
             },
             "pattern": {
              "fillmode": "overlay",
              "size": 10,
              "solidity": 0.2
             }
            },
            "type": "bar"
           }
          ],
          "barpolar": [
           {
            "marker": {
             "line": {
              "color": "#E5ECF6",
              "width": 0.5
             },
             "pattern": {
              "fillmode": "overlay",
              "size": 10,
              "solidity": 0.2
             }
            },
            "type": "barpolar"
           }
          ],
          "carpet": [
           {
            "aaxis": {
             "endlinecolor": "#2a3f5f",
             "gridcolor": "white",
             "linecolor": "white",
             "minorgridcolor": "white",
             "startlinecolor": "#2a3f5f"
            },
            "baxis": {
             "endlinecolor": "#2a3f5f",
             "gridcolor": "white",
             "linecolor": "white",
             "minorgridcolor": "white",
             "startlinecolor": "#2a3f5f"
            },
            "type": "carpet"
           }
          ],
          "choropleth": [
           {
            "colorbar": {
             "outlinewidth": 0,
             "ticks": ""
            },
            "type": "choropleth"
           }
          ],
          "contour": [
           {
            "colorbar": {
             "outlinewidth": 0,
             "ticks": ""
            },
            "colorscale": [
             [
              0,
              "#0d0887"
             ],
             [
              0.1111111111111111,
              "#46039f"
             ],
             [
              0.2222222222222222,
              "#7201a8"
             ],
             [
              0.3333333333333333,
              "#9c179e"
             ],
             [
              0.4444444444444444,
              "#bd3786"
             ],
             [
              0.5555555555555556,
              "#d8576b"
             ],
             [
              0.6666666666666666,
              "#ed7953"
             ],
             [
              0.7777777777777778,
              "#fb9f3a"
             ],
             [
              0.8888888888888888,
              "#fdca26"
             ],
             [
              1,
              "#f0f921"
             ]
            ],
            "type": "contour"
           }
          ],
          "contourcarpet": [
           {
            "colorbar": {
             "outlinewidth": 0,
             "ticks": ""
            },
            "type": "contourcarpet"
           }
          ],
          "heatmap": [
           {
            "colorbar": {
             "outlinewidth": 0,
             "ticks": ""
            },
            "colorscale": [
             [
              0,
              "#0d0887"
             ],
             [
              0.1111111111111111,
              "#46039f"
             ],
             [
              0.2222222222222222,
              "#7201a8"
             ],
             [
              0.3333333333333333,
              "#9c179e"
             ],
             [
              0.4444444444444444,
              "#bd3786"
             ],
             [
              0.5555555555555556,
              "#d8576b"
             ],
             [
              0.6666666666666666,
              "#ed7953"
             ],
             [
              0.7777777777777778,
              "#fb9f3a"
             ],
             [
              0.8888888888888888,
              "#fdca26"
             ],
             [
              1,
              "#f0f921"
             ]
            ],
            "type": "heatmap"
           }
          ],
          "heatmapgl": [
           {
            "colorbar": {
             "outlinewidth": 0,
             "ticks": ""
            },
            "colorscale": [
             [
              0,
              "#0d0887"
             ],
             [
              0.1111111111111111,
              "#46039f"
             ],
             [
              0.2222222222222222,
              "#7201a8"
             ],
             [
              0.3333333333333333,
              "#9c179e"
             ],
             [
              0.4444444444444444,
              "#bd3786"
             ],
             [
              0.5555555555555556,
              "#d8576b"
             ],
             [
              0.6666666666666666,
              "#ed7953"
             ],
             [
              0.7777777777777778,
              "#fb9f3a"
             ],
             [
              0.8888888888888888,
              "#fdca26"
             ],
             [
              1,
              "#f0f921"
             ]
            ],
            "type": "heatmapgl"
           }
          ],
          "histogram": [
           {
            "marker": {
             "pattern": {
              "fillmode": "overlay",
              "size": 10,
              "solidity": 0.2
             }
            },
            "type": "histogram"
           }
          ],
          "histogram2d": [
           {
            "colorbar": {
             "outlinewidth": 0,
             "ticks": ""
            },
            "colorscale": [
             [
              0,
              "#0d0887"
             ],
             [
              0.1111111111111111,
              "#46039f"
             ],
             [
              0.2222222222222222,
              "#7201a8"
             ],
             [
              0.3333333333333333,
              "#9c179e"
             ],
             [
              0.4444444444444444,
              "#bd3786"
             ],
             [
              0.5555555555555556,
              "#d8576b"
             ],
             [
              0.6666666666666666,
              "#ed7953"
             ],
             [
              0.7777777777777778,
              "#fb9f3a"
             ],
             [
              0.8888888888888888,
              "#fdca26"
             ],
             [
              1,
              "#f0f921"
             ]
            ],
            "type": "histogram2d"
           }
          ],
          "histogram2dcontour": [
           {
            "colorbar": {
             "outlinewidth": 0,
             "ticks": ""
            },
            "colorscale": [
             [
              0,
              "#0d0887"
             ],
             [
              0.1111111111111111,
              "#46039f"
             ],
             [
              0.2222222222222222,
              "#7201a8"
             ],
             [
              0.3333333333333333,
              "#9c179e"
             ],
             [
              0.4444444444444444,
              "#bd3786"
             ],
             [
              0.5555555555555556,
              "#d8576b"
             ],
             [
              0.6666666666666666,
              "#ed7953"
             ],
             [
              0.7777777777777778,
              "#fb9f3a"
             ],
             [
              0.8888888888888888,
              "#fdca26"
             ],
             [
              1,
              "#f0f921"
             ]
            ],
            "type": "histogram2dcontour"
           }
          ],
          "mesh3d": [
           {
            "colorbar": {
             "outlinewidth": 0,
             "ticks": ""
            },
            "type": "mesh3d"
           }
          ],
          "parcoords": [
           {
            "line": {
             "colorbar": {
              "outlinewidth": 0,
              "ticks": ""
             }
            },
            "type": "parcoords"
           }
          ],
          "pie": [
           {
            "automargin": true,
            "type": "pie"
           }
          ],
          "scatter": [
           {
            "fillpattern": {
             "fillmode": "overlay",
             "size": 10,
             "solidity": 0.2
            },
            "type": "scatter"
           }
          ],
          "scatter3d": [
           {
            "line": {
             "colorbar": {
              "outlinewidth": 0,
              "ticks": ""
             }
            },
            "marker": {
             "colorbar": {
              "outlinewidth": 0,
              "ticks": ""
             }
            },
            "type": "scatter3d"
           }
          ],
          "scattercarpet": [
           {
            "marker": {
             "colorbar": {
              "outlinewidth": 0,
              "ticks": ""
             }
            },
            "type": "scattercarpet"
           }
          ],
          "scattergeo": [
           {
            "marker": {
             "colorbar": {
              "outlinewidth": 0,
              "ticks": ""
             }
            },
            "type": "scattergeo"
           }
          ],
          "scattergl": [
           {
            "marker": {
             "colorbar": {
              "outlinewidth": 0,
              "ticks": ""
             }
            },
            "type": "scattergl"
           }
          ],
          "scattermapbox": [
           {
            "marker": {
             "colorbar": {
              "outlinewidth": 0,
              "ticks": ""
             }
            },
            "type": "scattermapbox"
           }
          ],
          "scatterpolar": [
           {
            "marker": {
             "colorbar": {
              "outlinewidth": 0,
              "ticks": ""
             }
            },
            "type": "scatterpolar"
           }
          ],
          "scatterpolargl": [
           {
            "marker": {
             "colorbar": {
              "outlinewidth": 0,
              "ticks": ""
             }
            },
            "type": "scatterpolargl"
           }
          ],
          "scatterternary": [
           {
            "marker": {
             "colorbar": {
              "outlinewidth": 0,
              "ticks": ""
             }
            },
            "type": "scatterternary"
           }
          ],
          "surface": [
           {
            "colorbar": {
             "outlinewidth": 0,
             "ticks": ""
            },
            "colorscale": [
             [
              0,
              "#0d0887"
             ],
             [
              0.1111111111111111,
              "#46039f"
             ],
             [
              0.2222222222222222,
              "#7201a8"
             ],
             [
              0.3333333333333333,
              "#9c179e"
             ],
             [
              0.4444444444444444,
              "#bd3786"
             ],
             [
              0.5555555555555556,
              "#d8576b"
             ],
             [
              0.6666666666666666,
              "#ed7953"
             ],
             [
              0.7777777777777778,
              "#fb9f3a"
             ],
             [
              0.8888888888888888,
              "#fdca26"
             ],
             [
              1,
              "#f0f921"
             ]
            ],
            "type": "surface"
           }
          ],
          "table": [
           {
            "cells": {
             "fill": {
              "color": "#EBF0F8"
             },
             "line": {
              "color": "white"
             }
            },
            "header": {
             "fill": {
              "color": "#C8D4E3"
             },
             "line": {
              "color": "white"
             }
            },
            "type": "table"
           }
          ]
         },
         "layout": {
          "annotationdefaults": {
           "arrowcolor": "#2a3f5f",
           "arrowhead": 0,
           "arrowwidth": 1
          },
          "autotypenumbers": "strict",
          "coloraxis": {
           "colorbar": {
            "outlinewidth": 0,
            "ticks": ""
           }
          },
          "colorscale": {
           "diverging": [
            [
             0,
             "#8e0152"
            ],
            [
             0.1,
             "#c51b7d"
            ],
            [
             0.2,
             "#de77ae"
            ],
            [
             0.3,
             "#f1b6da"
            ],
            [
             0.4,
             "#fde0ef"
            ],
            [
             0.5,
             "#f7f7f7"
            ],
            [
             0.6,
             "#e6f5d0"
            ],
            [
             0.7,
             "#b8e186"
            ],
            [
             0.8,
             "#7fbc41"
            ],
            [
             0.9,
             "#4d9221"
            ],
            [
             1,
             "#276419"
            ]
           ],
           "sequential": [
            [
             0,
             "#0d0887"
            ],
            [
             0.1111111111111111,
             "#46039f"
            ],
            [
             0.2222222222222222,
             "#7201a8"
            ],
            [
             0.3333333333333333,
             "#9c179e"
            ],
            [
             0.4444444444444444,
             "#bd3786"
            ],
            [
             0.5555555555555556,
             "#d8576b"
            ],
            [
             0.6666666666666666,
             "#ed7953"
            ],
            [
             0.7777777777777778,
             "#fb9f3a"
            ],
            [
             0.8888888888888888,
             "#fdca26"
            ],
            [
             1,
             "#f0f921"
            ]
           ],
           "sequentialminus": [
            [
             0,
             "#0d0887"
            ],
            [
             0.1111111111111111,
             "#46039f"
            ],
            [
             0.2222222222222222,
             "#7201a8"
            ],
            [
             0.3333333333333333,
             "#9c179e"
            ],
            [
             0.4444444444444444,
             "#bd3786"
            ],
            [
             0.5555555555555556,
             "#d8576b"
            ],
            [
             0.6666666666666666,
             "#ed7953"
            ],
            [
             0.7777777777777778,
             "#fb9f3a"
            ],
            [
             0.8888888888888888,
             "#fdca26"
            ],
            [
             1,
             "#f0f921"
            ]
           ]
          },
          "colorway": [
           "#636efa",
           "#EF553B",
           "#00cc96",
           "#ab63fa",
           "#FFA15A",
           "#19d3f3",
           "#FF6692",
           "#B6E880",
           "#FF97FF",
           "#FECB52"
          ],
          "font": {
           "color": "#2a3f5f"
          },
          "geo": {
           "bgcolor": "white",
           "lakecolor": "white",
           "landcolor": "#E5ECF6",
           "showlakes": true,
           "showland": true,
           "subunitcolor": "white"
          },
          "hoverlabel": {
           "align": "left"
          },
          "hovermode": "closest",
          "mapbox": {
           "style": "light"
          },
          "paper_bgcolor": "white",
          "plot_bgcolor": "#E5ECF6",
          "polar": {
           "angularaxis": {
            "gridcolor": "white",
            "linecolor": "white",
            "ticks": ""
           },
           "bgcolor": "#E5ECF6",
           "radialaxis": {
            "gridcolor": "white",
            "linecolor": "white",
            "ticks": ""
           }
          },
          "scene": {
           "xaxis": {
            "backgroundcolor": "#E5ECF6",
            "gridcolor": "white",
            "gridwidth": 2,
            "linecolor": "white",
            "showbackground": true,
            "ticks": "",
            "zerolinecolor": "white"
           },
           "yaxis": {
            "backgroundcolor": "#E5ECF6",
            "gridcolor": "white",
            "gridwidth": 2,
            "linecolor": "white",
            "showbackground": true,
            "ticks": "",
            "zerolinecolor": "white"
           },
           "zaxis": {
            "backgroundcolor": "#E5ECF6",
            "gridcolor": "white",
            "gridwidth": 2,
            "linecolor": "white",
            "showbackground": true,
            "ticks": "",
            "zerolinecolor": "white"
           }
          },
          "shapedefaults": {
           "line": {
            "color": "#2a3f5f"
           }
          },
          "ternary": {
           "aaxis": {
            "gridcolor": "white",
            "linecolor": "white",
            "ticks": ""
           },
           "baxis": {
            "gridcolor": "white",
            "linecolor": "white",
            "ticks": ""
           },
           "bgcolor": "#E5ECF6",
           "caxis": {
            "gridcolor": "white",
            "linecolor": "white",
            "ticks": ""
           }
          },
          "title": {
           "x": 0.05
          },
          "xaxis": {
           "automargin": true,
           "gridcolor": "white",
           "linecolor": "white",
           "ticks": "",
           "title": {
            "standoff": 15
           },
           "zerolinecolor": "white",
           "zerolinewidth": 2
          },
          "yaxis": {
           "automargin": true,
           "gridcolor": "white",
           "linecolor": "white",
           "ticks": "",
           "title": {
            "standoff": 15
           },
           "zerolinecolor": "white",
           "zerolinewidth": 2
          }
         }
        },
        "title": {
         "text": "Population"
        },
        "xaxis": {
         "anchor": "y",
         "domain": [
          0,
          1
         ],
         "title": {
          "text": "date"
         }
        },
        "yaxis": {
         "anchor": "x",
         "domain": [
          0,
          1
         ],
         "title": {
          "text": "Population"
         }
        }
       }
      },
      "text/html": [
       "<div>                            <div id=\"cfc5c7b9-a9d3-4360-98fd-641e0c5d0472\" class=\"plotly-graph-div\" style=\"height:525px; width:100%;\"></div>            <script type=\"text/javascript\">                require([\"plotly\"], function(Plotly) {                    window.PLOTLYENV=window.PLOTLYENV || {};                                    if (document.getElementById(\"cfc5c7b9-a9d3-4360-98fd-641e0c5d0472\")) {                    Plotly.newPlot(                        \"cfc5c7b9-a9d3-4360-98fd-641e0c5d0472\",                        [{\"hovertemplate\":\"country=Africa Eastern and Southern<br>date=%{x}<br>Population=%{y}<extra></extra>\",\"legendgroup\":\"Africa Eastern and Southern\",\"line\":{\"color\":\"#636efa\",\"dash\":\"solid\"},\"marker\":{\"symbol\":\"circle\"},\"mode\":\"lines\",\"name\":\"Africa Eastern and Southern\",\"orientation\":\"v\",\"showlegend\":true,\"x\":[2021,2020,2019,2018,2017,2016,2015,2014,2013,2012,2011,2010,2009,2008,2007,2006,2005,2004,2003,2002,2001,2000,1999,1998,1997,1996,1995,1994,1993,1992,1991,1990,1989,1988,1987,1986,1985,1984,1983,1982,1981,1980,1979,1978,1977,1976,1975,1974,1973,1972,1971,1970,1969,1968,1967,1966,1965,1964,1963,1962,1961,1960],\"xaxis\":\"x\",\"y\":[702976832.0,685112705.0,667242712.0,649756874.0,632746296.0,616377331.0,600008150.0,583650827.0,567891875.0,552530654.0,537792950.0,523459657.0,509410477.0,495748900.0,482406426.0,469508516.0,457153837.0,445281555.0,433807484.0,422741118.0,412001885.0,401600588.0,391486231.0,381715600.0,372352230.0,362985802.0,353466601.0,344418362.0,335625136.0,326933522.0,318544083.0,309890664.0,301124880.0,292795186.0,284490394.0,276035920.0,267938123.0,260209149.0,252779730.0,245386717.0,237937461.0,230967858.0,224315978.0,217481420.0,211120911.0,205202669.0,199284304.0,193512956.0,187901657.0,182599092.0,177503186.0,172475766.0,167596160.0,162875171.0,158313235.0,153955516.0,149742351.0,145605995.0,141630546.0,137835590.0,134169237.0,130692579.0],\"yaxis\":\"y\",\"type\":\"scatter\"},{\"hovertemplate\":\"country=Africa Western and Central<br>date=%{x}<br>Population=%{y}<extra></extra>\",\"legendgroup\":\"Africa Western and Central\",\"line\":{\"color\":\"#EF553B\",\"dash\":\"solid\"},\"marker\":{\"symbol\":\"circle\"},\"mode\":\"lines\",\"name\":\"Africa Western and Central\",\"orientation\":\"v\",\"showlegend\":true,\"x\":[2021,2020,2019,2018,2017,2016,2015,2014,2013,2012,2011,2010,2009,2008,2007,2006,2005,2004,2003,2002,2001,2000,1999,1998,1997,1996,1995,1994,1993,1992,1991,1990,1989,1988,1987,1986,1985,1984,1983,1982,1981,1980,1979,1978,1977,1976,1975,1974,1973,1972,1971,1970,1969,1968,1967,1966,1965,1964,1963,1962,1961,1960],\"xaxis\":\"x\",\"y\":[478185907.0,466189102.0,454306063.0,442646825.0,431138704.0,419778384.0,408690375.0,397855507.0,387204553.0,376797999.0,366489204.0,356337762.0,346475221.0,336893835.0,327612838.0,318601484.0,309824829.0,301265247.0,292977949.0,284952322.0,277160097.0,269611898.0,262397030.0,255482918.0,248713095.0,242200260.0,235861484.0,229675775.0,223788766.0,217966101.0,212172888.0,206739024.0,201392200.0,195969722.0,190759952.0,185720244.0,180817312.0,176054495.0,171566640.0,167023385.0,162323313.0,157825609.0,153459665.0,149206663.0,145122851.0,141258400.0,137548613.0,133953892.0,130563107.0,127364044.0,124336039.0,121424797.0,118615741.0,115921723.0,113319950.0,110798486.0,108336203.0,105959979.0,103667517.0,101445032.0,99314028.0,97256290.0],\"yaxis\":\"y\",\"type\":\"scatter\"}],                        {\"template\":{\"data\":{\"histogram2dcontour\":[{\"type\":\"histogram2dcontour\",\"colorbar\":{\"outlinewidth\":0,\"ticks\":\"\"},\"colorscale\":[[0.0,\"#0d0887\"],[0.1111111111111111,\"#46039f\"],[0.2222222222222222,\"#7201a8\"],[0.3333333333333333,\"#9c179e\"],[0.4444444444444444,\"#bd3786\"],[0.5555555555555556,\"#d8576b\"],[0.6666666666666666,\"#ed7953\"],[0.7777777777777778,\"#fb9f3a\"],[0.8888888888888888,\"#fdca26\"],[1.0,\"#f0f921\"]]}],\"choropleth\":[{\"type\":\"choropleth\",\"colorbar\":{\"outlinewidth\":0,\"ticks\":\"\"}}],\"histogram2d\":[{\"type\":\"histogram2d\",\"colorbar\":{\"outlinewidth\":0,\"ticks\":\"\"},\"colorscale\":[[0.0,\"#0d0887\"],[0.1111111111111111,\"#46039f\"],[0.2222222222222222,\"#7201a8\"],[0.3333333333333333,\"#9c179e\"],[0.4444444444444444,\"#bd3786\"],[0.5555555555555556,\"#d8576b\"],[0.6666666666666666,\"#ed7953\"],[0.7777777777777778,\"#fb9f3a\"],[0.8888888888888888,\"#fdca26\"],[1.0,\"#f0f921\"]]}],\"heatmap\":[{\"type\":\"heatmap\",\"colorbar\":{\"outlinewidth\":0,\"ticks\":\"\"},\"colorscale\":[[0.0,\"#0d0887\"],[0.1111111111111111,\"#46039f\"],[0.2222222222222222,\"#7201a8\"],[0.3333333333333333,\"#9c179e\"],[0.4444444444444444,\"#bd3786\"],[0.5555555555555556,\"#d8576b\"],[0.6666666666666666,\"#ed7953\"],[0.7777777777777778,\"#fb9f3a\"],[0.8888888888888888,\"#fdca26\"],[1.0,\"#f0f921\"]]}],\"heatmapgl\":[{\"type\":\"heatmapgl\",\"colorbar\":{\"outlinewidth\":0,\"ticks\":\"\"},\"colorscale\":[[0.0,\"#0d0887\"],[0.1111111111111111,\"#46039f\"],[0.2222222222222222,\"#7201a8\"],[0.3333333333333333,\"#9c179e\"],[0.4444444444444444,\"#bd3786\"],[0.5555555555555556,\"#d8576b\"],[0.6666666666666666,\"#ed7953\"],[0.7777777777777778,\"#fb9f3a\"],[0.8888888888888888,\"#fdca26\"],[1.0,\"#f0f921\"]]}],\"contourcarpet\":[{\"type\":\"contourcarpet\",\"colorbar\":{\"outlinewidth\":0,\"ticks\":\"\"}}],\"contour\":[{\"type\":\"contour\",\"colorbar\":{\"outlinewidth\":0,\"ticks\":\"\"},\"colorscale\":[[0.0,\"#0d0887\"],[0.1111111111111111,\"#46039f\"],[0.2222222222222222,\"#7201a8\"],[0.3333333333333333,\"#9c179e\"],[0.4444444444444444,\"#bd3786\"],[0.5555555555555556,\"#d8576b\"],[0.6666666666666666,\"#ed7953\"],[0.7777777777777778,\"#fb9f3a\"],[0.8888888888888888,\"#fdca26\"],[1.0,\"#f0f921\"]]}],\"surface\":[{\"type\":\"surface\",\"colorbar\":{\"outlinewidth\":0,\"ticks\":\"\"},\"colorscale\":[[0.0,\"#0d0887\"],[0.1111111111111111,\"#46039f\"],[0.2222222222222222,\"#7201a8\"],[0.3333333333333333,\"#9c179e\"],[0.4444444444444444,\"#bd3786\"],[0.5555555555555556,\"#d8576b\"],[0.6666666666666666,\"#ed7953\"],[0.7777777777777778,\"#fb9f3a\"],[0.8888888888888888,\"#fdca26\"],[1.0,\"#f0f921\"]]}],\"mesh3d\":[{\"type\":\"mesh3d\",\"colorbar\":{\"outlinewidth\":0,\"ticks\":\"\"}}],\"scatter\":[{\"fillpattern\":{\"fillmode\":\"overlay\",\"size\":10,\"solidity\":0.2},\"type\":\"scatter\"}],\"parcoords\":[{\"type\":\"parcoords\",\"line\":{\"colorbar\":{\"outlinewidth\":0,\"ticks\":\"\"}}}],\"scatterpolargl\":[{\"type\":\"scatterpolargl\",\"marker\":{\"colorbar\":{\"outlinewidth\":0,\"ticks\":\"\"}}}],\"bar\":[{\"error_x\":{\"color\":\"#2a3f5f\"},\"error_y\":{\"color\":\"#2a3f5f\"},\"marker\":{\"line\":{\"color\":\"#E5ECF6\",\"width\":0.5},\"pattern\":{\"fillmode\":\"overlay\",\"size\":10,\"solidity\":0.2}},\"type\":\"bar\"}],\"scattergeo\":[{\"type\":\"scattergeo\",\"marker\":{\"colorbar\":{\"outlinewidth\":0,\"ticks\":\"\"}}}],\"scatterpolar\":[{\"type\":\"scatterpolar\",\"marker\":{\"colorbar\":{\"outlinewidth\":0,\"ticks\":\"\"}}}],\"histogram\":[{\"marker\":{\"pattern\":{\"fillmode\":\"overlay\",\"size\":10,\"solidity\":0.2}},\"type\":\"histogram\"}],\"scattergl\":[{\"type\":\"scattergl\",\"marker\":{\"colorbar\":{\"outlinewidth\":0,\"ticks\":\"\"}}}],\"scatter3d\":[{\"type\":\"scatter3d\",\"line\":{\"colorbar\":{\"outlinewidth\":0,\"ticks\":\"\"}},\"marker\":{\"colorbar\":{\"outlinewidth\":0,\"ticks\":\"\"}}}],\"scattermapbox\":[{\"type\":\"scattermapbox\",\"marker\":{\"colorbar\":{\"outlinewidth\":0,\"ticks\":\"\"}}}],\"scatterternary\":[{\"type\":\"scatterternary\",\"marker\":{\"colorbar\":{\"outlinewidth\":0,\"ticks\":\"\"}}}],\"scattercarpet\":[{\"type\":\"scattercarpet\",\"marker\":{\"colorbar\":{\"outlinewidth\":0,\"ticks\":\"\"}}}],\"carpet\":[{\"aaxis\":{\"endlinecolor\":\"#2a3f5f\",\"gridcolor\":\"white\",\"linecolor\":\"white\",\"minorgridcolor\":\"white\",\"startlinecolor\":\"#2a3f5f\"},\"baxis\":{\"endlinecolor\":\"#2a3f5f\",\"gridcolor\":\"white\",\"linecolor\":\"white\",\"minorgridcolor\":\"white\",\"startlinecolor\":\"#2a3f5f\"},\"type\":\"carpet\"}],\"table\":[{\"cells\":{\"fill\":{\"color\":\"#EBF0F8\"},\"line\":{\"color\":\"white\"}},\"header\":{\"fill\":{\"color\":\"#C8D4E3\"},\"line\":{\"color\":\"white\"}},\"type\":\"table\"}],\"barpolar\":[{\"marker\":{\"line\":{\"color\":\"#E5ECF6\",\"width\":0.5},\"pattern\":{\"fillmode\":\"overlay\",\"size\":10,\"solidity\":0.2}},\"type\":\"barpolar\"}],\"pie\":[{\"automargin\":true,\"type\":\"pie\"}]},\"layout\":{\"autotypenumbers\":\"strict\",\"colorway\":[\"#636efa\",\"#EF553B\",\"#00cc96\",\"#ab63fa\",\"#FFA15A\",\"#19d3f3\",\"#FF6692\",\"#B6E880\",\"#FF97FF\",\"#FECB52\"],\"font\":{\"color\":\"#2a3f5f\"},\"hovermode\":\"closest\",\"hoverlabel\":{\"align\":\"left\"},\"paper_bgcolor\":\"white\",\"plot_bgcolor\":\"#E5ECF6\",\"polar\":{\"bgcolor\":\"#E5ECF6\",\"angularaxis\":{\"gridcolor\":\"white\",\"linecolor\":\"white\",\"ticks\":\"\"},\"radialaxis\":{\"gridcolor\":\"white\",\"linecolor\":\"white\",\"ticks\":\"\"}},\"ternary\":{\"bgcolor\":\"#E5ECF6\",\"aaxis\":{\"gridcolor\":\"white\",\"linecolor\":\"white\",\"ticks\":\"\"},\"baxis\":{\"gridcolor\":\"white\",\"linecolor\":\"white\",\"ticks\":\"\"},\"caxis\":{\"gridcolor\":\"white\",\"linecolor\":\"white\",\"ticks\":\"\"}},\"coloraxis\":{\"colorbar\":{\"outlinewidth\":0,\"ticks\":\"\"}},\"colorscale\":{\"sequential\":[[0.0,\"#0d0887\"],[0.1111111111111111,\"#46039f\"],[0.2222222222222222,\"#7201a8\"],[0.3333333333333333,\"#9c179e\"],[0.4444444444444444,\"#bd3786\"],[0.5555555555555556,\"#d8576b\"],[0.6666666666666666,\"#ed7953\"],[0.7777777777777778,\"#fb9f3a\"],[0.8888888888888888,\"#fdca26\"],[1.0,\"#f0f921\"]],\"sequentialminus\":[[0.0,\"#0d0887\"],[0.1111111111111111,\"#46039f\"],[0.2222222222222222,\"#7201a8\"],[0.3333333333333333,\"#9c179e\"],[0.4444444444444444,\"#bd3786\"],[0.5555555555555556,\"#d8576b\"],[0.6666666666666666,\"#ed7953\"],[0.7777777777777778,\"#fb9f3a\"],[0.8888888888888888,\"#fdca26\"],[1.0,\"#f0f921\"]],\"diverging\":[[0,\"#8e0152\"],[0.1,\"#c51b7d\"],[0.2,\"#de77ae\"],[0.3,\"#f1b6da\"],[0.4,\"#fde0ef\"],[0.5,\"#f7f7f7\"],[0.6,\"#e6f5d0\"],[0.7,\"#b8e186\"],[0.8,\"#7fbc41\"],[0.9,\"#4d9221\"],[1,\"#276419\"]]},\"xaxis\":{\"gridcolor\":\"white\",\"linecolor\":\"white\",\"ticks\":\"\",\"title\":{\"standoff\":15},\"zerolinecolor\":\"white\",\"automargin\":true,\"zerolinewidth\":2},\"yaxis\":{\"gridcolor\":\"white\",\"linecolor\":\"white\",\"ticks\":\"\",\"title\":{\"standoff\":15},\"zerolinecolor\":\"white\",\"automargin\":true,\"zerolinewidth\":2},\"scene\":{\"xaxis\":{\"backgroundcolor\":\"#E5ECF6\",\"gridcolor\":\"white\",\"linecolor\":\"white\",\"showbackground\":true,\"ticks\":\"\",\"zerolinecolor\":\"white\",\"gridwidth\":2},\"yaxis\":{\"backgroundcolor\":\"#E5ECF6\",\"gridcolor\":\"white\",\"linecolor\":\"white\",\"showbackground\":true,\"ticks\":\"\",\"zerolinecolor\":\"white\",\"gridwidth\":2},\"zaxis\":{\"backgroundcolor\":\"#E5ECF6\",\"gridcolor\":\"white\",\"linecolor\":\"white\",\"showbackground\":true,\"ticks\":\"\",\"zerolinecolor\":\"white\",\"gridwidth\":2}},\"shapedefaults\":{\"line\":{\"color\":\"#2a3f5f\"}},\"annotationdefaults\":{\"arrowcolor\":\"#2a3f5f\",\"arrowhead\":0,\"arrowwidth\":1},\"geo\":{\"bgcolor\":\"white\",\"landcolor\":\"#E5ECF6\",\"subunitcolor\":\"white\",\"showland\":true,\"showlakes\":true,\"lakecolor\":\"white\"},\"title\":{\"x\":0.05},\"mapbox\":{\"style\":\"light\"}}},\"xaxis\":{\"anchor\":\"y\",\"domain\":[0.0,1.0],\"title\":{\"text\":\"date\"}},\"yaxis\":{\"anchor\":\"x\",\"domain\":[0.0,1.0],\"title\":{\"text\":\"Population\"}},\"legend\":{\"title\":{\"text\":\"country\"},\"tracegroupgap\":0},\"title\":{\"text\":\"Population\"}},                        {\"responsive\": true}                    ).then(function(){\n",
       "                            \n",
       "var gd = document.getElementById('cfc5c7b9-a9d3-4360-98fd-641e0c5d0472');\n",
       "var x = new MutationObserver(function (mutations, observer) {{\n",
       "        var display = window.getComputedStyle(gd).display;\n",
       "        if (!display || display === 'none') {{\n",
       "            console.log([gd, 'removed!']);\n",
       "            Plotly.purge(gd);\n",
       "            observer.disconnect();\n",
       "        }}\n",
       "}});\n",
       "\n",
       "// Listen for the removal of the full notebook cells\n",
       "var notebookContainer = gd.closest('#notebook-container');\n",
       "if (notebookContainer) {{\n",
       "    x.observe(notebookContainer, {childList: true});\n",
       "}}\n",
       "\n",
       "// Listen for the clearing of the current output cell\n",
       "var outputEl = gd.closest('.output');\n",
       "if (outputEl) {{\n",
       "    x.observe(outputEl, {childList: true});\n",
       "}}\n",
       "\n",
       "                        })                };                });            </script>        </div>"
      ]
     },
     "metadata": {},
     "output_type": "display_data"
    }
   ],
   "source": [
    "pd.options.plotting.backend = \"plotly\"\n",
    "\n",
    "def pop_plt(indicators, countries):\n",
    "    \"\"\" Function that takes in a list of countries/regions,\n",
    "    a population indicator, and outputs a line plot of population growth. \"\"\"\n",
    "    \n",
    "    # Get indicators and country data of interest\n",
    "    data = wbdata.get_dataframe(indicators, country = countries)\n",
    "    \n",
    "    # Format df\n",
    "    data.reset_index(inplace=True)\n",
    "    data['date'] = data['date'].astype(int)\n",
    "    data.set_index(['country'],inplace=True)\n",
    "    \n",
    "    # Make scatterplot\n",
    "    plot = data.plot.line(\n",
    "        x= \"date\",\n",
    "        y= \"Population\",\n",
    "        color = data.index,\n",
    "        title = \"Population\")\n",
    "    return plot\n",
    "\n",
    "population_var = {\"SP.POP.TOTL\":\"Population\"}\n",
    "regions = [\"AFW\", \"AFE\"]\n",
    "\n",
    "pop_plt(population_var,regions)"
   ]
  },
  {
   "cell_type": "code",
   "execution_count": 24,
   "id": "779ea5a2",
   "metadata": {},
   "outputs": [],
   "source": [
    "import_export_var = {\n",
    "    \"TM.VAL.AGRI.ZS.UN\":\"Agricultural imports\",\n",
    "    \"TX.VAL.AGRI.ZS.UN\":\"Agricultural exports\"\n",
    "    }"
   ]
  },
  {
   "cell_type": "code",
   "execution_count": 25,
   "id": "13c7d0b3",
   "metadata": {},
   "outputs": [
    {
     "data": {
      "application/vnd.plotly.v1+json": {
       "config": {
        "plotlyServerURL": "https://plot.ly"
       },
       "data": [
        {
         "hovertemplate": "country=Africa Eastern and Southern<br>date=%{x}<br>Agricultural imports=%{y}<extra></extra>",
         "legendgroup": "Africa Eastern and Southern",
         "line": {
          "color": "#636efa",
          "dash": "solid"
         },
         "marker": {
          "symbol": "circle"
         },
         "mode": "lines",
         "name": "Africa Eastern and Southern",
         "orientation": "v",
         "showlegend": true,
         "type": "scatter",
         "x": [
          2021,
          2020,
          2019,
          2018,
          2017,
          2016,
          2015,
          2014,
          2013,
          2012,
          2011,
          2010,
          2009,
          2008,
          2007,
          2006,
          2005,
          2004,
          2003,
          2002,
          2001,
          2000,
          1999,
          1998,
          1997,
          1996,
          1995,
          1994,
          1993,
          1992,
          1991,
          1990,
          1989,
          1988,
          1987,
          1986,
          1985,
          1984,
          1983,
          1982,
          1981,
          1980,
          1979,
          1978,
          1977,
          1976,
          1975,
          1974,
          1973,
          1972,
          1971,
          1970,
          1969,
          1968,
          1967,
          1966,
          1965,
          1964,
          1963,
          1962,
          1961,
          1960
         ],
         "xaxis": "x",
         "y": [
          1.09466706579862,
          1.13603351252793,
          1.10318117082861,
          1.10701434565109,
          1.10100841648755,
          1.07516335587974,
          1.00137373628642,
          0.932059019958612,
          0.903474341193543,
          0.880163553255381,
          0.913636325602022,
          0.945633992338125,
          0.908917117321241,
          0.931069982641957,
          1.045742005553,
          1.27119979730973,
          1.12649003259504,
          1.30456406379042,
          1.36505168511791,
          1.48525252351727,
          1.44457089416779,
          1.61250442769621,
          1.69894840492623,
          1.78165779179889,
          1.90876502641579,
          2.09264150756236,
          2.17527405583949,
          null,
          null,
          null,
          null,
          null,
          null,
          null,
          null,
          null,
          1.94616785568784,
          null,
          null,
          null,
          null,
          null,
          null,
          2.73081690992049,
          3.10534052937743,
          2.87581617341102,
          null,
          null,
          null,
          null,
          null,
          null,
          null,
          null,
          null,
          null,
          null,
          null,
          null,
          null,
          null,
          null
         ],
         "yaxis": "y"
        },
        {
         "hovertemplate": "country=Africa Western and Central<br>date=%{x}<br>Agricultural imports=%{y}<extra></extra>",
         "legendgroup": "Africa Western and Central",
         "line": {
          "color": "#EF553B",
          "dash": "solid"
         },
         "marker": {
          "symbol": "circle"
         },
         "mode": "lines",
         "name": "Africa Western and Central",
         "orientation": "v",
         "showlegend": true,
         "type": "scatter",
         "x": [
          2021,
          2020,
          2019,
          2018,
          2017,
          2016,
          2015,
          2014,
          2013,
          2012,
          2011,
          2010,
          2009,
          2008,
          2007,
          2006,
          2005,
          2004,
          2003,
          2002,
          2001,
          2000,
          1999,
          1998,
          1997,
          1996,
          1995,
          1994,
          1993,
          1992,
          1991,
          1990,
          1989,
          1988,
          1987,
          1986,
          1985,
          1984,
          1983,
          1982,
          1981,
          1980,
          1979,
          1978,
          1977,
          1976,
          1975,
          1974,
          1973,
          1972,
          1971,
          1970,
          1969,
          1968,
          1967,
          1966,
          1965,
          1964,
          1963,
          1962,
          1961,
          1960
         ],
         "xaxis": "x",
         "y": [
          null,
          0.904978270068497,
          1.21311321800456,
          0.893177295276317,
          0.893771913079152,
          0.903036068673006,
          0.829700527415076,
          0.731031833001823,
          1.68331342890376,
          0.905448855201728,
          2.34574069078208,
          0.940862782069255,
          1.12524314282861,
          1.13632771967379,
          1.01930163957023,
          1.15619084151264,
          null,
          null,
          1.06411515153454,
          1.38948310152628,
          1.9897157967539,
          1.41908321639005,
          1.74645510714699,
          1.64226892270917,
          1.24057553537511,
          1.26643079370214,
          null,
          null,
          null,
          null,
          null,
          null,
          null,
          null,
          null,
          null,
          null,
          null,
          1.10827569636323,
          null,
          0.754137165314466,
          null,
          0.648761613770436,
          0.688139514124562,
          0.754680593213153,
          0.770369672116926,
          1.29208526542796,
          1.69852565003473,
          1.26496683532162,
          1.30248359423725,
          1.29232821364805,
          1.30446178556703,
          1.25175275268581,
          1.39617946899534,
          1.2142334065988,
          1.25467891211067,
          1.24961597638073,
          1.08786321494003,
          1.18646775895826,
          1.04283616685332,
          null,
          null
         ],
         "yaxis": "y"
        }
       ],
       "layout": {
        "legend": {
         "title": {
          "text": "country"
         },
         "tracegroupgap": 0
        },
        "template": {
         "data": {
          "bar": [
           {
            "error_x": {
             "color": "#2a3f5f"
            },
            "error_y": {
             "color": "#2a3f5f"
            },
            "marker": {
             "line": {
              "color": "#E5ECF6",
              "width": 0.5
             },
             "pattern": {
              "fillmode": "overlay",
              "size": 10,
              "solidity": 0.2
             }
            },
            "type": "bar"
           }
          ],
          "barpolar": [
           {
            "marker": {
             "line": {
              "color": "#E5ECF6",
              "width": 0.5
             },
             "pattern": {
              "fillmode": "overlay",
              "size": 10,
              "solidity": 0.2
             }
            },
            "type": "barpolar"
           }
          ],
          "carpet": [
           {
            "aaxis": {
             "endlinecolor": "#2a3f5f",
             "gridcolor": "white",
             "linecolor": "white",
             "minorgridcolor": "white",
             "startlinecolor": "#2a3f5f"
            },
            "baxis": {
             "endlinecolor": "#2a3f5f",
             "gridcolor": "white",
             "linecolor": "white",
             "minorgridcolor": "white",
             "startlinecolor": "#2a3f5f"
            },
            "type": "carpet"
           }
          ],
          "choropleth": [
           {
            "colorbar": {
             "outlinewidth": 0,
             "ticks": ""
            },
            "type": "choropleth"
           }
          ],
          "contour": [
           {
            "colorbar": {
             "outlinewidth": 0,
             "ticks": ""
            },
            "colorscale": [
             [
              0,
              "#0d0887"
             ],
             [
              0.1111111111111111,
              "#46039f"
             ],
             [
              0.2222222222222222,
              "#7201a8"
             ],
             [
              0.3333333333333333,
              "#9c179e"
             ],
             [
              0.4444444444444444,
              "#bd3786"
             ],
             [
              0.5555555555555556,
              "#d8576b"
             ],
             [
              0.6666666666666666,
              "#ed7953"
             ],
             [
              0.7777777777777778,
              "#fb9f3a"
             ],
             [
              0.8888888888888888,
              "#fdca26"
             ],
             [
              1,
              "#f0f921"
             ]
            ],
            "type": "contour"
           }
          ],
          "contourcarpet": [
           {
            "colorbar": {
             "outlinewidth": 0,
             "ticks": ""
            },
            "type": "contourcarpet"
           }
          ],
          "heatmap": [
           {
            "colorbar": {
             "outlinewidth": 0,
             "ticks": ""
            },
            "colorscale": [
             [
              0,
              "#0d0887"
             ],
             [
              0.1111111111111111,
              "#46039f"
             ],
             [
              0.2222222222222222,
              "#7201a8"
             ],
             [
              0.3333333333333333,
              "#9c179e"
             ],
             [
              0.4444444444444444,
              "#bd3786"
             ],
             [
              0.5555555555555556,
              "#d8576b"
             ],
             [
              0.6666666666666666,
              "#ed7953"
             ],
             [
              0.7777777777777778,
              "#fb9f3a"
             ],
             [
              0.8888888888888888,
              "#fdca26"
             ],
             [
              1,
              "#f0f921"
             ]
            ],
            "type": "heatmap"
           }
          ],
          "heatmapgl": [
           {
            "colorbar": {
             "outlinewidth": 0,
             "ticks": ""
            },
            "colorscale": [
             [
              0,
              "#0d0887"
             ],
             [
              0.1111111111111111,
              "#46039f"
             ],
             [
              0.2222222222222222,
              "#7201a8"
             ],
             [
              0.3333333333333333,
              "#9c179e"
             ],
             [
              0.4444444444444444,
              "#bd3786"
             ],
             [
              0.5555555555555556,
              "#d8576b"
             ],
             [
              0.6666666666666666,
              "#ed7953"
             ],
             [
              0.7777777777777778,
              "#fb9f3a"
             ],
             [
              0.8888888888888888,
              "#fdca26"
             ],
             [
              1,
              "#f0f921"
             ]
            ],
            "type": "heatmapgl"
           }
          ],
          "histogram": [
           {
            "marker": {
             "pattern": {
              "fillmode": "overlay",
              "size": 10,
              "solidity": 0.2
             }
            },
            "type": "histogram"
           }
          ],
          "histogram2d": [
           {
            "colorbar": {
             "outlinewidth": 0,
             "ticks": ""
            },
            "colorscale": [
             [
              0,
              "#0d0887"
             ],
             [
              0.1111111111111111,
              "#46039f"
             ],
             [
              0.2222222222222222,
              "#7201a8"
             ],
             [
              0.3333333333333333,
              "#9c179e"
             ],
             [
              0.4444444444444444,
              "#bd3786"
             ],
             [
              0.5555555555555556,
              "#d8576b"
             ],
             [
              0.6666666666666666,
              "#ed7953"
             ],
             [
              0.7777777777777778,
              "#fb9f3a"
             ],
             [
              0.8888888888888888,
              "#fdca26"
             ],
             [
              1,
              "#f0f921"
             ]
            ],
            "type": "histogram2d"
           }
          ],
          "histogram2dcontour": [
           {
            "colorbar": {
             "outlinewidth": 0,
             "ticks": ""
            },
            "colorscale": [
             [
              0,
              "#0d0887"
             ],
             [
              0.1111111111111111,
              "#46039f"
             ],
             [
              0.2222222222222222,
              "#7201a8"
             ],
             [
              0.3333333333333333,
              "#9c179e"
             ],
             [
              0.4444444444444444,
              "#bd3786"
             ],
             [
              0.5555555555555556,
              "#d8576b"
             ],
             [
              0.6666666666666666,
              "#ed7953"
             ],
             [
              0.7777777777777778,
              "#fb9f3a"
             ],
             [
              0.8888888888888888,
              "#fdca26"
             ],
             [
              1,
              "#f0f921"
             ]
            ],
            "type": "histogram2dcontour"
           }
          ],
          "mesh3d": [
           {
            "colorbar": {
             "outlinewidth": 0,
             "ticks": ""
            },
            "type": "mesh3d"
           }
          ],
          "parcoords": [
           {
            "line": {
             "colorbar": {
              "outlinewidth": 0,
              "ticks": ""
             }
            },
            "type": "parcoords"
           }
          ],
          "pie": [
           {
            "automargin": true,
            "type": "pie"
           }
          ],
          "scatter": [
           {
            "fillpattern": {
             "fillmode": "overlay",
             "size": 10,
             "solidity": 0.2
            },
            "type": "scatter"
           }
          ],
          "scatter3d": [
           {
            "line": {
             "colorbar": {
              "outlinewidth": 0,
              "ticks": ""
             }
            },
            "marker": {
             "colorbar": {
              "outlinewidth": 0,
              "ticks": ""
             }
            },
            "type": "scatter3d"
           }
          ],
          "scattercarpet": [
           {
            "marker": {
             "colorbar": {
              "outlinewidth": 0,
              "ticks": ""
             }
            },
            "type": "scattercarpet"
           }
          ],
          "scattergeo": [
           {
            "marker": {
             "colorbar": {
              "outlinewidth": 0,
              "ticks": ""
             }
            },
            "type": "scattergeo"
           }
          ],
          "scattergl": [
           {
            "marker": {
             "colorbar": {
              "outlinewidth": 0,
              "ticks": ""
             }
            },
            "type": "scattergl"
           }
          ],
          "scattermapbox": [
           {
            "marker": {
             "colorbar": {
              "outlinewidth": 0,
              "ticks": ""
             }
            },
            "type": "scattermapbox"
           }
          ],
          "scatterpolar": [
           {
            "marker": {
             "colorbar": {
              "outlinewidth": 0,
              "ticks": ""
             }
            },
            "type": "scatterpolar"
           }
          ],
          "scatterpolargl": [
           {
            "marker": {
             "colorbar": {
              "outlinewidth": 0,
              "ticks": ""
             }
            },
            "type": "scatterpolargl"
           }
          ],
          "scatterternary": [
           {
            "marker": {
             "colorbar": {
              "outlinewidth": 0,
              "ticks": ""
             }
            },
            "type": "scatterternary"
           }
          ],
          "surface": [
           {
            "colorbar": {
             "outlinewidth": 0,
             "ticks": ""
            },
            "colorscale": [
             [
              0,
              "#0d0887"
             ],
             [
              0.1111111111111111,
              "#46039f"
             ],
             [
              0.2222222222222222,
              "#7201a8"
             ],
             [
              0.3333333333333333,
              "#9c179e"
             ],
             [
              0.4444444444444444,
              "#bd3786"
             ],
             [
              0.5555555555555556,
              "#d8576b"
             ],
             [
              0.6666666666666666,
              "#ed7953"
             ],
             [
              0.7777777777777778,
              "#fb9f3a"
             ],
             [
              0.8888888888888888,
              "#fdca26"
             ],
             [
              1,
              "#f0f921"
             ]
            ],
            "type": "surface"
           }
          ],
          "table": [
           {
            "cells": {
             "fill": {
              "color": "#EBF0F8"
             },
             "line": {
              "color": "white"
             }
            },
            "header": {
             "fill": {
              "color": "#C8D4E3"
             },
             "line": {
              "color": "white"
             }
            },
            "type": "table"
           }
          ]
         },
         "layout": {
          "annotationdefaults": {
           "arrowcolor": "#2a3f5f",
           "arrowhead": 0,
           "arrowwidth": 1
          },
          "autotypenumbers": "strict",
          "coloraxis": {
           "colorbar": {
            "outlinewidth": 0,
            "ticks": ""
           }
          },
          "colorscale": {
           "diverging": [
            [
             0,
             "#8e0152"
            ],
            [
             0.1,
             "#c51b7d"
            ],
            [
             0.2,
             "#de77ae"
            ],
            [
             0.3,
             "#f1b6da"
            ],
            [
             0.4,
             "#fde0ef"
            ],
            [
             0.5,
             "#f7f7f7"
            ],
            [
             0.6,
             "#e6f5d0"
            ],
            [
             0.7,
             "#b8e186"
            ],
            [
             0.8,
             "#7fbc41"
            ],
            [
             0.9,
             "#4d9221"
            ],
            [
             1,
             "#276419"
            ]
           ],
           "sequential": [
            [
             0,
             "#0d0887"
            ],
            [
             0.1111111111111111,
             "#46039f"
            ],
            [
             0.2222222222222222,
             "#7201a8"
            ],
            [
             0.3333333333333333,
             "#9c179e"
            ],
            [
             0.4444444444444444,
             "#bd3786"
            ],
            [
             0.5555555555555556,
             "#d8576b"
            ],
            [
             0.6666666666666666,
             "#ed7953"
            ],
            [
             0.7777777777777778,
             "#fb9f3a"
            ],
            [
             0.8888888888888888,
             "#fdca26"
            ],
            [
             1,
             "#f0f921"
            ]
           ],
           "sequentialminus": [
            [
             0,
             "#0d0887"
            ],
            [
             0.1111111111111111,
             "#46039f"
            ],
            [
             0.2222222222222222,
             "#7201a8"
            ],
            [
             0.3333333333333333,
             "#9c179e"
            ],
            [
             0.4444444444444444,
             "#bd3786"
            ],
            [
             0.5555555555555556,
             "#d8576b"
            ],
            [
             0.6666666666666666,
             "#ed7953"
            ],
            [
             0.7777777777777778,
             "#fb9f3a"
            ],
            [
             0.8888888888888888,
             "#fdca26"
            ],
            [
             1,
             "#f0f921"
            ]
           ]
          },
          "colorway": [
           "#636efa",
           "#EF553B",
           "#00cc96",
           "#ab63fa",
           "#FFA15A",
           "#19d3f3",
           "#FF6692",
           "#B6E880",
           "#FF97FF",
           "#FECB52"
          ],
          "font": {
           "color": "#2a3f5f"
          },
          "geo": {
           "bgcolor": "white",
           "lakecolor": "white",
           "landcolor": "#E5ECF6",
           "showlakes": true,
           "showland": true,
           "subunitcolor": "white"
          },
          "hoverlabel": {
           "align": "left"
          },
          "hovermode": "closest",
          "mapbox": {
           "style": "light"
          },
          "paper_bgcolor": "white",
          "plot_bgcolor": "#E5ECF6",
          "polar": {
           "angularaxis": {
            "gridcolor": "white",
            "linecolor": "white",
            "ticks": ""
           },
           "bgcolor": "#E5ECF6",
           "radialaxis": {
            "gridcolor": "white",
            "linecolor": "white",
            "ticks": ""
           }
          },
          "scene": {
           "xaxis": {
            "backgroundcolor": "#E5ECF6",
            "gridcolor": "white",
            "gridwidth": 2,
            "linecolor": "white",
            "showbackground": true,
            "ticks": "",
            "zerolinecolor": "white"
           },
           "yaxis": {
            "backgroundcolor": "#E5ECF6",
            "gridcolor": "white",
            "gridwidth": 2,
            "linecolor": "white",
            "showbackground": true,
            "ticks": "",
            "zerolinecolor": "white"
           },
           "zaxis": {
            "backgroundcolor": "#E5ECF6",
            "gridcolor": "white",
            "gridwidth": 2,
            "linecolor": "white",
            "showbackground": true,
            "ticks": "",
            "zerolinecolor": "white"
           }
          },
          "shapedefaults": {
           "line": {
            "color": "#2a3f5f"
           }
          },
          "ternary": {
           "aaxis": {
            "gridcolor": "white",
            "linecolor": "white",
            "ticks": ""
           },
           "baxis": {
            "gridcolor": "white",
            "linecolor": "white",
            "ticks": ""
           },
           "bgcolor": "#E5ECF6",
           "caxis": {
            "gridcolor": "white",
            "linecolor": "white",
            "ticks": ""
           }
          },
          "title": {
           "x": 0.05
          },
          "xaxis": {
           "automargin": true,
           "gridcolor": "white",
           "linecolor": "white",
           "ticks": "",
           "title": {
            "standoff": 15
           },
           "zerolinecolor": "white",
           "zerolinewidth": 2
          },
          "yaxis": {
           "automargin": true,
           "gridcolor": "white",
           "linecolor": "white",
           "ticks": "",
           "title": {
            "standoff": 15
           },
           "zerolinecolor": "white",
           "zerolinewidth": 2
          }
         }
        },
        "title": {
         "text": "Africa Agricultural raw materials imports (% of merchandise imports)"
        },
        "xaxis": {
         "anchor": "y",
         "domain": [
          0,
          1
         ],
         "title": {
          "text": "date"
         }
        },
        "yaxis": {
         "anchor": "x",
         "domain": [
          0,
          1
         ],
         "title": {
          "text": "Agricultural imports"
         }
        }
       }
      },
      "text/html": [
       "<div>                            <div id=\"b4e95ab0-50c9-436d-ba1d-c892d79270e1\" class=\"plotly-graph-div\" style=\"height:525px; width:100%;\"></div>            <script type=\"text/javascript\">                require([\"plotly\"], function(Plotly) {                    window.PLOTLYENV=window.PLOTLYENV || {};                                    if (document.getElementById(\"b4e95ab0-50c9-436d-ba1d-c892d79270e1\")) {                    Plotly.newPlot(                        \"b4e95ab0-50c9-436d-ba1d-c892d79270e1\",                        [{\"hovertemplate\":\"country=Africa Eastern and Southern<br>date=%{x}<br>Agricultural imports=%{y}<extra></extra>\",\"legendgroup\":\"Africa Eastern and Southern\",\"line\":{\"color\":\"#636efa\",\"dash\":\"solid\"},\"marker\":{\"symbol\":\"circle\"},\"mode\":\"lines\",\"name\":\"Africa Eastern and Southern\",\"orientation\":\"v\",\"showlegend\":true,\"x\":[2021,2020,2019,2018,2017,2016,2015,2014,2013,2012,2011,2010,2009,2008,2007,2006,2005,2004,2003,2002,2001,2000,1999,1998,1997,1996,1995,1994,1993,1992,1991,1990,1989,1988,1987,1986,1985,1984,1983,1982,1981,1980,1979,1978,1977,1976,1975,1974,1973,1972,1971,1970,1969,1968,1967,1966,1965,1964,1963,1962,1961,1960],\"xaxis\":\"x\",\"y\":[1.09466706579862,1.13603351252793,1.10318117082861,1.10701434565109,1.10100841648755,1.07516335587974,1.00137373628642,0.932059019958612,0.903474341193543,0.880163553255381,0.913636325602022,0.945633992338125,0.908917117321241,0.931069982641957,1.045742005553,1.27119979730973,1.12649003259504,1.30456406379042,1.36505168511791,1.48525252351727,1.44457089416779,1.61250442769621,1.69894840492623,1.78165779179889,1.90876502641579,2.09264150756236,2.17527405583949,null,null,null,null,null,null,null,null,null,1.94616785568784,null,null,null,null,null,null,2.73081690992049,3.10534052937743,2.87581617341102,null,null,null,null,null,null,null,null,null,null,null,null,null,null,null,null],\"yaxis\":\"y\",\"type\":\"scatter\"},{\"hovertemplate\":\"country=Africa Western and Central<br>date=%{x}<br>Agricultural imports=%{y}<extra></extra>\",\"legendgroup\":\"Africa Western and Central\",\"line\":{\"color\":\"#EF553B\",\"dash\":\"solid\"},\"marker\":{\"symbol\":\"circle\"},\"mode\":\"lines\",\"name\":\"Africa Western and Central\",\"orientation\":\"v\",\"showlegend\":true,\"x\":[2021,2020,2019,2018,2017,2016,2015,2014,2013,2012,2011,2010,2009,2008,2007,2006,2005,2004,2003,2002,2001,2000,1999,1998,1997,1996,1995,1994,1993,1992,1991,1990,1989,1988,1987,1986,1985,1984,1983,1982,1981,1980,1979,1978,1977,1976,1975,1974,1973,1972,1971,1970,1969,1968,1967,1966,1965,1964,1963,1962,1961,1960],\"xaxis\":\"x\",\"y\":[null,0.904978270068497,1.21311321800456,0.893177295276317,0.893771913079152,0.903036068673006,0.829700527415076,0.731031833001823,1.68331342890376,0.905448855201728,2.34574069078208,0.940862782069255,1.12524314282861,1.13632771967379,1.01930163957023,1.15619084151264,null,null,1.06411515153454,1.38948310152628,1.9897157967539,1.41908321639005,1.74645510714699,1.64226892270917,1.24057553537511,1.26643079370214,null,null,null,null,null,null,null,null,null,null,null,null,1.10827569636323,null,0.754137165314466,null,0.648761613770436,0.688139514124562,0.754680593213153,0.770369672116926,1.29208526542796,1.69852565003473,1.26496683532162,1.30248359423725,1.29232821364805,1.30446178556703,1.25175275268581,1.39617946899534,1.2142334065988,1.25467891211067,1.24961597638073,1.08786321494003,1.18646775895826,1.04283616685332,null,null],\"yaxis\":\"y\",\"type\":\"scatter\"}],                        {\"template\":{\"data\":{\"histogram2dcontour\":[{\"type\":\"histogram2dcontour\",\"colorbar\":{\"outlinewidth\":0,\"ticks\":\"\"},\"colorscale\":[[0.0,\"#0d0887\"],[0.1111111111111111,\"#46039f\"],[0.2222222222222222,\"#7201a8\"],[0.3333333333333333,\"#9c179e\"],[0.4444444444444444,\"#bd3786\"],[0.5555555555555556,\"#d8576b\"],[0.6666666666666666,\"#ed7953\"],[0.7777777777777778,\"#fb9f3a\"],[0.8888888888888888,\"#fdca26\"],[1.0,\"#f0f921\"]]}],\"choropleth\":[{\"type\":\"choropleth\",\"colorbar\":{\"outlinewidth\":0,\"ticks\":\"\"}}],\"histogram2d\":[{\"type\":\"histogram2d\",\"colorbar\":{\"outlinewidth\":0,\"ticks\":\"\"},\"colorscale\":[[0.0,\"#0d0887\"],[0.1111111111111111,\"#46039f\"],[0.2222222222222222,\"#7201a8\"],[0.3333333333333333,\"#9c179e\"],[0.4444444444444444,\"#bd3786\"],[0.5555555555555556,\"#d8576b\"],[0.6666666666666666,\"#ed7953\"],[0.7777777777777778,\"#fb9f3a\"],[0.8888888888888888,\"#fdca26\"],[1.0,\"#f0f921\"]]}],\"heatmap\":[{\"type\":\"heatmap\",\"colorbar\":{\"outlinewidth\":0,\"ticks\":\"\"},\"colorscale\":[[0.0,\"#0d0887\"],[0.1111111111111111,\"#46039f\"],[0.2222222222222222,\"#7201a8\"],[0.3333333333333333,\"#9c179e\"],[0.4444444444444444,\"#bd3786\"],[0.5555555555555556,\"#d8576b\"],[0.6666666666666666,\"#ed7953\"],[0.7777777777777778,\"#fb9f3a\"],[0.8888888888888888,\"#fdca26\"],[1.0,\"#f0f921\"]]}],\"heatmapgl\":[{\"type\":\"heatmapgl\",\"colorbar\":{\"outlinewidth\":0,\"ticks\":\"\"},\"colorscale\":[[0.0,\"#0d0887\"],[0.1111111111111111,\"#46039f\"],[0.2222222222222222,\"#7201a8\"],[0.3333333333333333,\"#9c179e\"],[0.4444444444444444,\"#bd3786\"],[0.5555555555555556,\"#d8576b\"],[0.6666666666666666,\"#ed7953\"],[0.7777777777777778,\"#fb9f3a\"],[0.8888888888888888,\"#fdca26\"],[1.0,\"#f0f921\"]]}],\"contourcarpet\":[{\"type\":\"contourcarpet\",\"colorbar\":{\"outlinewidth\":0,\"ticks\":\"\"}}],\"contour\":[{\"type\":\"contour\",\"colorbar\":{\"outlinewidth\":0,\"ticks\":\"\"},\"colorscale\":[[0.0,\"#0d0887\"],[0.1111111111111111,\"#46039f\"],[0.2222222222222222,\"#7201a8\"],[0.3333333333333333,\"#9c179e\"],[0.4444444444444444,\"#bd3786\"],[0.5555555555555556,\"#d8576b\"],[0.6666666666666666,\"#ed7953\"],[0.7777777777777778,\"#fb9f3a\"],[0.8888888888888888,\"#fdca26\"],[1.0,\"#f0f921\"]]}],\"surface\":[{\"type\":\"surface\",\"colorbar\":{\"outlinewidth\":0,\"ticks\":\"\"},\"colorscale\":[[0.0,\"#0d0887\"],[0.1111111111111111,\"#46039f\"],[0.2222222222222222,\"#7201a8\"],[0.3333333333333333,\"#9c179e\"],[0.4444444444444444,\"#bd3786\"],[0.5555555555555556,\"#d8576b\"],[0.6666666666666666,\"#ed7953\"],[0.7777777777777778,\"#fb9f3a\"],[0.8888888888888888,\"#fdca26\"],[1.0,\"#f0f921\"]]}],\"mesh3d\":[{\"type\":\"mesh3d\",\"colorbar\":{\"outlinewidth\":0,\"ticks\":\"\"}}],\"scatter\":[{\"fillpattern\":{\"fillmode\":\"overlay\",\"size\":10,\"solidity\":0.2},\"type\":\"scatter\"}],\"parcoords\":[{\"type\":\"parcoords\",\"line\":{\"colorbar\":{\"outlinewidth\":0,\"ticks\":\"\"}}}],\"scatterpolargl\":[{\"type\":\"scatterpolargl\",\"marker\":{\"colorbar\":{\"outlinewidth\":0,\"ticks\":\"\"}}}],\"bar\":[{\"error_x\":{\"color\":\"#2a3f5f\"},\"error_y\":{\"color\":\"#2a3f5f\"},\"marker\":{\"line\":{\"color\":\"#E5ECF6\",\"width\":0.5},\"pattern\":{\"fillmode\":\"overlay\",\"size\":10,\"solidity\":0.2}},\"type\":\"bar\"}],\"scattergeo\":[{\"type\":\"scattergeo\",\"marker\":{\"colorbar\":{\"outlinewidth\":0,\"ticks\":\"\"}}}],\"scatterpolar\":[{\"type\":\"scatterpolar\",\"marker\":{\"colorbar\":{\"outlinewidth\":0,\"ticks\":\"\"}}}],\"histogram\":[{\"marker\":{\"pattern\":{\"fillmode\":\"overlay\",\"size\":10,\"solidity\":0.2}},\"type\":\"histogram\"}],\"scattergl\":[{\"type\":\"scattergl\",\"marker\":{\"colorbar\":{\"outlinewidth\":0,\"ticks\":\"\"}}}],\"scatter3d\":[{\"type\":\"scatter3d\",\"line\":{\"colorbar\":{\"outlinewidth\":0,\"ticks\":\"\"}},\"marker\":{\"colorbar\":{\"outlinewidth\":0,\"ticks\":\"\"}}}],\"scattermapbox\":[{\"type\":\"scattermapbox\",\"marker\":{\"colorbar\":{\"outlinewidth\":0,\"ticks\":\"\"}}}],\"scatterternary\":[{\"type\":\"scatterternary\",\"marker\":{\"colorbar\":{\"outlinewidth\":0,\"ticks\":\"\"}}}],\"scattercarpet\":[{\"type\":\"scattercarpet\",\"marker\":{\"colorbar\":{\"outlinewidth\":0,\"ticks\":\"\"}}}],\"carpet\":[{\"aaxis\":{\"endlinecolor\":\"#2a3f5f\",\"gridcolor\":\"white\",\"linecolor\":\"white\",\"minorgridcolor\":\"white\",\"startlinecolor\":\"#2a3f5f\"},\"baxis\":{\"endlinecolor\":\"#2a3f5f\",\"gridcolor\":\"white\",\"linecolor\":\"white\",\"minorgridcolor\":\"white\",\"startlinecolor\":\"#2a3f5f\"},\"type\":\"carpet\"}],\"table\":[{\"cells\":{\"fill\":{\"color\":\"#EBF0F8\"},\"line\":{\"color\":\"white\"}},\"header\":{\"fill\":{\"color\":\"#C8D4E3\"},\"line\":{\"color\":\"white\"}},\"type\":\"table\"}],\"barpolar\":[{\"marker\":{\"line\":{\"color\":\"#E5ECF6\",\"width\":0.5},\"pattern\":{\"fillmode\":\"overlay\",\"size\":10,\"solidity\":0.2}},\"type\":\"barpolar\"}],\"pie\":[{\"automargin\":true,\"type\":\"pie\"}]},\"layout\":{\"autotypenumbers\":\"strict\",\"colorway\":[\"#636efa\",\"#EF553B\",\"#00cc96\",\"#ab63fa\",\"#FFA15A\",\"#19d3f3\",\"#FF6692\",\"#B6E880\",\"#FF97FF\",\"#FECB52\"],\"font\":{\"color\":\"#2a3f5f\"},\"hovermode\":\"closest\",\"hoverlabel\":{\"align\":\"left\"},\"paper_bgcolor\":\"white\",\"plot_bgcolor\":\"#E5ECF6\",\"polar\":{\"bgcolor\":\"#E5ECF6\",\"angularaxis\":{\"gridcolor\":\"white\",\"linecolor\":\"white\",\"ticks\":\"\"},\"radialaxis\":{\"gridcolor\":\"white\",\"linecolor\":\"white\",\"ticks\":\"\"}},\"ternary\":{\"bgcolor\":\"#E5ECF6\",\"aaxis\":{\"gridcolor\":\"white\",\"linecolor\":\"white\",\"ticks\":\"\"},\"baxis\":{\"gridcolor\":\"white\",\"linecolor\":\"white\",\"ticks\":\"\"},\"caxis\":{\"gridcolor\":\"white\",\"linecolor\":\"white\",\"ticks\":\"\"}},\"coloraxis\":{\"colorbar\":{\"outlinewidth\":0,\"ticks\":\"\"}},\"colorscale\":{\"sequential\":[[0.0,\"#0d0887\"],[0.1111111111111111,\"#46039f\"],[0.2222222222222222,\"#7201a8\"],[0.3333333333333333,\"#9c179e\"],[0.4444444444444444,\"#bd3786\"],[0.5555555555555556,\"#d8576b\"],[0.6666666666666666,\"#ed7953\"],[0.7777777777777778,\"#fb9f3a\"],[0.8888888888888888,\"#fdca26\"],[1.0,\"#f0f921\"]],\"sequentialminus\":[[0.0,\"#0d0887\"],[0.1111111111111111,\"#46039f\"],[0.2222222222222222,\"#7201a8\"],[0.3333333333333333,\"#9c179e\"],[0.4444444444444444,\"#bd3786\"],[0.5555555555555556,\"#d8576b\"],[0.6666666666666666,\"#ed7953\"],[0.7777777777777778,\"#fb9f3a\"],[0.8888888888888888,\"#fdca26\"],[1.0,\"#f0f921\"]],\"diverging\":[[0,\"#8e0152\"],[0.1,\"#c51b7d\"],[0.2,\"#de77ae\"],[0.3,\"#f1b6da\"],[0.4,\"#fde0ef\"],[0.5,\"#f7f7f7\"],[0.6,\"#e6f5d0\"],[0.7,\"#b8e186\"],[0.8,\"#7fbc41\"],[0.9,\"#4d9221\"],[1,\"#276419\"]]},\"xaxis\":{\"gridcolor\":\"white\",\"linecolor\":\"white\",\"ticks\":\"\",\"title\":{\"standoff\":15},\"zerolinecolor\":\"white\",\"automargin\":true,\"zerolinewidth\":2},\"yaxis\":{\"gridcolor\":\"white\",\"linecolor\":\"white\",\"ticks\":\"\",\"title\":{\"standoff\":15},\"zerolinecolor\":\"white\",\"automargin\":true,\"zerolinewidth\":2},\"scene\":{\"xaxis\":{\"backgroundcolor\":\"#E5ECF6\",\"gridcolor\":\"white\",\"linecolor\":\"white\",\"showbackground\":true,\"ticks\":\"\",\"zerolinecolor\":\"white\",\"gridwidth\":2},\"yaxis\":{\"backgroundcolor\":\"#E5ECF6\",\"gridcolor\":\"white\",\"linecolor\":\"white\",\"showbackground\":true,\"ticks\":\"\",\"zerolinecolor\":\"white\",\"gridwidth\":2},\"zaxis\":{\"backgroundcolor\":\"#E5ECF6\",\"gridcolor\":\"white\",\"linecolor\":\"white\",\"showbackground\":true,\"ticks\":\"\",\"zerolinecolor\":\"white\",\"gridwidth\":2}},\"shapedefaults\":{\"line\":{\"color\":\"#2a3f5f\"}},\"annotationdefaults\":{\"arrowcolor\":\"#2a3f5f\",\"arrowhead\":0,\"arrowwidth\":1},\"geo\":{\"bgcolor\":\"white\",\"landcolor\":\"#E5ECF6\",\"subunitcolor\":\"white\",\"showland\":true,\"showlakes\":true,\"lakecolor\":\"white\"},\"title\":{\"x\":0.05},\"mapbox\":{\"style\":\"light\"}}},\"xaxis\":{\"anchor\":\"y\",\"domain\":[0.0,1.0],\"title\":{\"text\":\"date\"}},\"yaxis\":{\"anchor\":\"x\",\"domain\":[0.0,1.0],\"title\":{\"text\":\"Agricultural imports\"}},\"legend\":{\"title\":{\"text\":\"country\"},\"tracegroupgap\":0},\"title\":{\"text\":\"Africa Agricultural raw materials imports (% of merchandise imports)\"}},                        {\"responsive\": true}                    ).then(function(){\n",
       "                            \n",
       "var gd = document.getElementById('b4e95ab0-50c9-436d-ba1d-c892d79270e1');\n",
       "var x = new MutationObserver(function (mutations, observer) {{\n",
       "        var display = window.getComputedStyle(gd).display;\n",
       "        if (!display || display === 'none') {{\n",
       "            console.log([gd, 'removed!']);\n",
       "            Plotly.purge(gd);\n",
       "            observer.disconnect();\n",
       "        }}\n",
       "}});\n",
       "\n",
       "// Listen for the removal of the full notebook cells\n",
       "var notebookContainer = gd.closest('#notebook-container');\n",
       "if (notebookContainer) {{\n",
       "    x.observe(notebookContainer, {childList: true});\n",
       "}}\n",
       "\n",
       "// Listen for the clearing of the current output cell\n",
       "var outputEl = gd.closest('.output');\n",
       "if (outputEl) {{\n",
       "    x.observe(outputEl, {childList: true});\n",
       "}}\n",
       "\n",
       "                        })                };                });            </script>        </div>"
      ]
     },
     "metadata": {},
     "output_type": "display_data"
    }
   ],
   "source": [
    "def imp_plt(indicators, countries):\n",
    "    \"\"\" Function that takes in a list of countries/regions,\n",
    "    a population indicator, and outputs a line plot of import growth. \"\"\"\n",
    "    \n",
    "    # Get indicators and country data of interest\n",
    "    data = wbdata.get_dataframe(indicators, country = countries)\n",
    "    \n",
    "    # Query year of interest\n",
    "    data.reset_index(inplace=True)\n",
    "    data['date'] = data['date'].astype(int)\n",
    "    data.set_index(['country'],inplace=True)\n",
    "    \n",
    "    # Make scatterplot\n",
    "    plot_i = data.plot.line(\n",
    "        x= \"date\",\n",
    "        y= \"Agricultural imports\",\n",
    "        color = data.index,\n",
    "        title = \"Africa Agricultural raw materials imports (% of merchandise imports)\")\n",
    "    return plot_i\n",
    "\n",
    "imp_plt(import_export_var, regions)"
   ]
  },
  {
   "cell_type": "code",
   "execution_count": 26,
   "id": "b4115697",
   "metadata": {},
   "outputs": [
    {
     "data": {
      "application/vnd.plotly.v1+json": {
       "config": {
        "plotlyServerURL": "https://plot.ly"
       },
       "data": [
        {
         "hovertemplate": "country=Africa Eastern and Southern<br>date=%{x}<br>Agricultural exports=%{y}<extra></extra>",
         "legendgroup": "Africa Eastern and Southern",
         "line": {
          "color": "#636efa",
          "dash": "solid"
         },
         "marker": {
          "symbol": "circle"
         },
         "mode": "lines",
         "name": "Africa Eastern and Southern",
         "orientation": "v",
         "showlegend": true,
         "type": "scatter",
         "x": [
          2021,
          2020,
          2019,
          2018,
          2017,
          2016,
          2015,
          2014,
          2013,
          2012,
          2011,
          2010,
          2009,
          2008,
          2007,
          2006,
          2005,
          2004,
          2003,
          2002,
          2001,
          2000,
          1999,
          1998,
          1997,
          1996,
          1995,
          1994,
          1993,
          1992,
          1991,
          1990,
          1989,
          1988,
          1987,
          1986,
          1985,
          1984,
          1983,
          1982,
          1981,
          1980,
          1979,
          1978,
          1977,
          1976,
          1975,
          1974,
          1973,
          1972,
          1971,
          1970,
          1969,
          1968,
          1967,
          1966,
          1965,
          1964,
          1963,
          1962,
          1961,
          1960
         ],
         "xaxis": "x",
         "y": [
          1.97324543815165,
          1.99396828010605,
          2.0182407840726,
          2.03937854733491,
          2.16680684449229,
          2.16618144980779,
          2.03082928169468,
          1.65093543600169,
          2.06057700130936,
          2.31970594976337,
          2.28483444032708,
          2.16560631387904,
          2.85158288051863,
          3.51200974492518,
          2.53756347727564,
          3.64912880330653,
          4.03100479177408,
          4.62617367336545,
          4.80892507229872,
          4.63460163118841,
          4.76614743555854,
          5.03840913398303,
          5.81812948017674,
          null,
          6.59410415834136,
          null,
          null,
          null,
          null,
          null,
          null,
          null,
          null,
          null,
          null,
          null,
          null,
          null,
          null,
          null,
          3.80195233263669,
          3.89124891974645,
          5.95882029743496,
          6.38710112269983,
          null,
          null,
          null,
          7.93971161664507,
          null,
          null,
          null,
          null,
          null,
          null,
          null,
          null,
          null,
          null,
          null,
          null,
          null,
          null
         ],
         "yaxis": "y"
        },
        {
         "hovertemplate": "country=Africa Western and Central<br>date=%{x}<br>Agricultural exports=%{y}<extra></extra>",
         "legendgroup": "Africa Western and Central",
         "line": {
          "color": "#EF553B",
          "dash": "solid"
         },
         "marker": {
          "symbol": "circle"
         },
         "mode": "lines",
         "name": "Africa Western and Central",
         "orientation": "v",
         "showlegend": true,
         "type": "scatter",
         "x": [
          2021,
          2020,
          2019,
          2018,
          2017,
          2016,
          2015,
          2014,
          2013,
          2012,
          2011,
          2010,
          2009,
          2008,
          2007,
          2006,
          2005,
          2004,
          2003,
          2002,
          2001,
          2000,
          1999,
          1998,
          1997,
          1996,
          1995,
          1994,
          1993,
          1992,
          1991,
          1990,
          1989,
          1988,
          1987,
          1986,
          1985,
          1984,
          1983,
          1982,
          1981,
          1980,
          1979,
          1978,
          1977,
          1976,
          1975,
          1974,
          1973,
          1972,
          1971,
          1970,
          1969,
          1968,
          1967,
          1966,
          1965,
          1964,
          1963,
          1962,
          1961,
          1960
         ],
         "xaxis": "x",
         "y": [
          null,
          4.10248339533448,
          4.00420732453161,
          4.17805801068579,
          4.1748596391128,
          4.58631567741591,
          3.36673157872733,
          3.7222721063981,
          5.2216416811252,
          7.69351689939935,
          7.79568682047121,
          4.20338490125367,
          4.34559823045447,
          5.34612738485401,
          5.65209530853661,
          4.2224083397632,
          null,
          null,
          6.87558024552586,
          5.91599713247876,
          6.35857541228549,
          7.30537377817701,
          8.08002252183103,
          8.29128187943852,
          9.02301833364213,
          9.7046019102187,
          null,
          null,
          null,
          null,
          null,
          null,
          null,
          null,
          null,
          null,
          null,
          null,
          6.70216345027669,
          null,
          5.88868185911244,
          null,
          7.4387858524095,
          7.02311729395532,
          8.10441818854713,
          8.17164161972954,
          8.40415269261986,
          11.3122106786767,
          14.5337074483194,
          13.6466321337507,
          13.9314957405271,
          16.3514766879675,
          15.1674991026711,
          17.5334379796472,
          17.1452796828437,
          18.5843104823332,
          18.0163088159695,
          20.2906194761028,
          20.5236476044703,
          20.2033936950192,
          null,
          null
         ],
         "yaxis": "y"
        }
       ],
       "layout": {
        "legend": {
         "title": {
          "text": "country"
         },
         "tracegroupgap": 0
        },
        "template": {
         "data": {
          "bar": [
           {
            "error_x": {
             "color": "#2a3f5f"
            },
            "error_y": {
             "color": "#2a3f5f"
            },
            "marker": {
             "line": {
              "color": "#E5ECF6",
              "width": 0.5
             },
             "pattern": {
              "fillmode": "overlay",
              "size": 10,
              "solidity": 0.2
             }
            },
            "type": "bar"
           }
          ],
          "barpolar": [
           {
            "marker": {
             "line": {
              "color": "#E5ECF6",
              "width": 0.5
             },
             "pattern": {
              "fillmode": "overlay",
              "size": 10,
              "solidity": 0.2
             }
            },
            "type": "barpolar"
           }
          ],
          "carpet": [
           {
            "aaxis": {
             "endlinecolor": "#2a3f5f",
             "gridcolor": "white",
             "linecolor": "white",
             "minorgridcolor": "white",
             "startlinecolor": "#2a3f5f"
            },
            "baxis": {
             "endlinecolor": "#2a3f5f",
             "gridcolor": "white",
             "linecolor": "white",
             "minorgridcolor": "white",
             "startlinecolor": "#2a3f5f"
            },
            "type": "carpet"
           }
          ],
          "choropleth": [
           {
            "colorbar": {
             "outlinewidth": 0,
             "ticks": ""
            },
            "type": "choropleth"
           }
          ],
          "contour": [
           {
            "colorbar": {
             "outlinewidth": 0,
             "ticks": ""
            },
            "colorscale": [
             [
              0,
              "#0d0887"
             ],
             [
              0.1111111111111111,
              "#46039f"
             ],
             [
              0.2222222222222222,
              "#7201a8"
             ],
             [
              0.3333333333333333,
              "#9c179e"
             ],
             [
              0.4444444444444444,
              "#bd3786"
             ],
             [
              0.5555555555555556,
              "#d8576b"
             ],
             [
              0.6666666666666666,
              "#ed7953"
             ],
             [
              0.7777777777777778,
              "#fb9f3a"
             ],
             [
              0.8888888888888888,
              "#fdca26"
             ],
             [
              1,
              "#f0f921"
             ]
            ],
            "type": "contour"
           }
          ],
          "contourcarpet": [
           {
            "colorbar": {
             "outlinewidth": 0,
             "ticks": ""
            },
            "type": "contourcarpet"
           }
          ],
          "heatmap": [
           {
            "colorbar": {
             "outlinewidth": 0,
             "ticks": ""
            },
            "colorscale": [
             [
              0,
              "#0d0887"
             ],
             [
              0.1111111111111111,
              "#46039f"
             ],
             [
              0.2222222222222222,
              "#7201a8"
             ],
             [
              0.3333333333333333,
              "#9c179e"
             ],
             [
              0.4444444444444444,
              "#bd3786"
             ],
             [
              0.5555555555555556,
              "#d8576b"
             ],
             [
              0.6666666666666666,
              "#ed7953"
             ],
             [
              0.7777777777777778,
              "#fb9f3a"
             ],
             [
              0.8888888888888888,
              "#fdca26"
             ],
             [
              1,
              "#f0f921"
             ]
            ],
            "type": "heatmap"
           }
          ],
          "heatmapgl": [
           {
            "colorbar": {
             "outlinewidth": 0,
             "ticks": ""
            },
            "colorscale": [
             [
              0,
              "#0d0887"
             ],
             [
              0.1111111111111111,
              "#46039f"
             ],
             [
              0.2222222222222222,
              "#7201a8"
             ],
             [
              0.3333333333333333,
              "#9c179e"
             ],
             [
              0.4444444444444444,
              "#bd3786"
             ],
             [
              0.5555555555555556,
              "#d8576b"
             ],
             [
              0.6666666666666666,
              "#ed7953"
             ],
             [
              0.7777777777777778,
              "#fb9f3a"
             ],
             [
              0.8888888888888888,
              "#fdca26"
             ],
             [
              1,
              "#f0f921"
             ]
            ],
            "type": "heatmapgl"
           }
          ],
          "histogram": [
           {
            "marker": {
             "pattern": {
              "fillmode": "overlay",
              "size": 10,
              "solidity": 0.2
             }
            },
            "type": "histogram"
           }
          ],
          "histogram2d": [
           {
            "colorbar": {
             "outlinewidth": 0,
             "ticks": ""
            },
            "colorscale": [
             [
              0,
              "#0d0887"
             ],
             [
              0.1111111111111111,
              "#46039f"
             ],
             [
              0.2222222222222222,
              "#7201a8"
             ],
             [
              0.3333333333333333,
              "#9c179e"
             ],
             [
              0.4444444444444444,
              "#bd3786"
             ],
             [
              0.5555555555555556,
              "#d8576b"
             ],
             [
              0.6666666666666666,
              "#ed7953"
             ],
             [
              0.7777777777777778,
              "#fb9f3a"
             ],
             [
              0.8888888888888888,
              "#fdca26"
             ],
             [
              1,
              "#f0f921"
             ]
            ],
            "type": "histogram2d"
           }
          ],
          "histogram2dcontour": [
           {
            "colorbar": {
             "outlinewidth": 0,
             "ticks": ""
            },
            "colorscale": [
             [
              0,
              "#0d0887"
             ],
             [
              0.1111111111111111,
              "#46039f"
             ],
             [
              0.2222222222222222,
              "#7201a8"
             ],
             [
              0.3333333333333333,
              "#9c179e"
             ],
             [
              0.4444444444444444,
              "#bd3786"
             ],
             [
              0.5555555555555556,
              "#d8576b"
             ],
             [
              0.6666666666666666,
              "#ed7953"
             ],
             [
              0.7777777777777778,
              "#fb9f3a"
             ],
             [
              0.8888888888888888,
              "#fdca26"
             ],
             [
              1,
              "#f0f921"
             ]
            ],
            "type": "histogram2dcontour"
           }
          ],
          "mesh3d": [
           {
            "colorbar": {
             "outlinewidth": 0,
             "ticks": ""
            },
            "type": "mesh3d"
           }
          ],
          "parcoords": [
           {
            "line": {
             "colorbar": {
              "outlinewidth": 0,
              "ticks": ""
             }
            },
            "type": "parcoords"
           }
          ],
          "pie": [
           {
            "automargin": true,
            "type": "pie"
           }
          ],
          "scatter": [
           {
            "fillpattern": {
             "fillmode": "overlay",
             "size": 10,
             "solidity": 0.2
            },
            "type": "scatter"
           }
          ],
          "scatter3d": [
           {
            "line": {
             "colorbar": {
              "outlinewidth": 0,
              "ticks": ""
             }
            },
            "marker": {
             "colorbar": {
              "outlinewidth": 0,
              "ticks": ""
             }
            },
            "type": "scatter3d"
           }
          ],
          "scattercarpet": [
           {
            "marker": {
             "colorbar": {
              "outlinewidth": 0,
              "ticks": ""
             }
            },
            "type": "scattercarpet"
           }
          ],
          "scattergeo": [
           {
            "marker": {
             "colorbar": {
              "outlinewidth": 0,
              "ticks": ""
             }
            },
            "type": "scattergeo"
           }
          ],
          "scattergl": [
           {
            "marker": {
             "colorbar": {
              "outlinewidth": 0,
              "ticks": ""
             }
            },
            "type": "scattergl"
           }
          ],
          "scattermapbox": [
           {
            "marker": {
             "colorbar": {
              "outlinewidth": 0,
              "ticks": ""
             }
            },
            "type": "scattermapbox"
           }
          ],
          "scatterpolar": [
           {
            "marker": {
             "colorbar": {
              "outlinewidth": 0,
              "ticks": ""
             }
            },
            "type": "scatterpolar"
           }
          ],
          "scatterpolargl": [
           {
            "marker": {
             "colorbar": {
              "outlinewidth": 0,
              "ticks": ""
             }
            },
            "type": "scatterpolargl"
           }
          ],
          "scatterternary": [
           {
            "marker": {
             "colorbar": {
              "outlinewidth": 0,
              "ticks": ""
             }
            },
            "type": "scatterternary"
           }
          ],
          "surface": [
           {
            "colorbar": {
             "outlinewidth": 0,
             "ticks": ""
            },
            "colorscale": [
             [
              0,
              "#0d0887"
             ],
             [
              0.1111111111111111,
              "#46039f"
             ],
             [
              0.2222222222222222,
              "#7201a8"
             ],
             [
              0.3333333333333333,
              "#9c179e"
             ],
             [
              0.4444444444444444,
              "#bd3786"
             ],
             [
              0.5555555555555556,
              "#d8576b"
             ],
             [
              0.6666666666666666,
              "#ed7953"
             ],
             [
              0.7777777777777778,
              "#fb9f3a"
             ],
             [
              0.8888888888888888,
              "#fdca26"
             ],
             [
              1,
              "#f0f921"
             ]
            ],
            "type": "surface"
           }
          ],
          "table": [
           {
            "cells": {
             "fill": {
              "color": "#EBF0F8"
             },
             "line": {
              "color": "white"
             }
            },
            "header": {
             "fill": {
              "color": "#C8D4E3"
             },
             "line": {
              "color": "white"
             }
            },
            "type": "table"
           }
          ]
         },
         "layout": {
          "annotationdefaults": {
           "arrowcolor": "#2a3f5f",
           "arrowhead": 0,
           "arrowwidth": 1
          },
          "autotypenumbers": "strict",
          "coloraxis": {
           "colorbar": {
            "outlinewidth": 0,
            "ticks": ""
           }
          },
          "colorscale": {
           "diverging": [
            [
             0,
             "#8e0152"
            ],
            [
             0.1,
             "#c51b7d"
            ],
            [
             0.2,
             "#de77ae"
            ],
            [
             0.3,
             "#f1b6da"
            ],
            [
             0.4,
             "#fde0ef"
            ],
            [
             0.5,
             "#f7f7f7"
            ],
            [
             0.6,
             "#e6f5d0"
            ],
            [
             0.7,
             "#b8e186"
            ],
            [
             0.8,
             "#7fbc41"
            ],
            [
             0.9,
             "#4d9221"
            ],
            [
             1,
             "#276419"
            ]
           ],
           "sequential": [
            [
             0,
             "#0d0887"
            ],
            [
             0.1111111111111111,
             "#46039f"
            ],
            [
             0.2222222222222222,
             "#7201a8"
            ],
            [
             0.3333333333333333,
             "#9c179e"
            ],
            [
             0.4444444444444444,
             "#bd3786"
            ],
            [
             0.5555555555555556,
             "#d8576b"
            ],
            [
             0.6666666666666666,
             "#ed7953"
            ],
            [
             0.7777777777777778,
             "#fb9f3a"
            ],
            [
             0.8888888888888888,
             "#fdca26"
            ],
            [
             1,
             "#f0f921"
            ]
           ],
           "sequentialminus": [
            [
             0,
             "#0d0887"
            ],
            [
             0.1111111111111111,
             "#46039f"
            ],
            [
             0.2222222222222222,
             "#7201a8"
            ],
            [
             0.3333333333333333,
             "#9c179e"
            ],
            [
             0.4444444444444444,
             "#bd3786"
            ],
            [
             0.5555555555555556,
             "#d8576b"
            ],
            [
             0.6666666666666666,
             "#ed7953"
            ],
            [
             0.7777777777777778,
             "#fb9f3a"
            ],
            [
             0.8888888888888888,
             "#fdca26"
            ],
            [
             1,
             "#f0f921"
            ]
           ]
          },
          "colorway": [
           "#636efa",
           "#EF553B",
           "#00cc96",
           "#ab63fa",
           "#FFA15A",
           "#19d3f3",
           "#FF6692",
           "#B6E880",
           "#FF97FF",
           "#FECB52"
          ],
          "font": {
           "color": "#2a3f5f"
          },
          "geo": {
           "bgcolor": "white",
           "lakecolor": "white",
           "landcolor": "#E5ECF6",
           "showlakes": true,
           "showland": true,
           "subunitcolor": "white"
          },
          "hoverlabel": {
           "align": "left"
          },
          "hovermode": "closest",
          "mapbox": {
           "style": "light"
          },
          "paper_bgcolor": "white",
          "plot_bgcolor": "#E5ECF6",
          "polar": {
           "angularaxis": {
            "gridcolor": "white",
            "linecolor": "white",
            "ticks": ""
           },
           "bgcolor": "#E5ECF6",
           "radialaxis": {
            "gridcolor": "white",
            "linecolor": "white",
            "ticks": ""
           }
          },
          "scene": {
           "xaxis": {
            "backgroundcolor": "#E5ECF6",
            "gridcolor": "white",
            "gridwidth": 2,
            "linecolor": "white",
            "showbackground": true,
            "ticks": "",
            "zerolinecolor": "white"
           },
           "yaxis": {
            "backgroundcolor": "#E5ECF6",
            "gridcolor": "white",
            "gridwidth": 2,
            "linecolor": "white",
            "showbackground": true,
            "ticks": "",
            "zerolinecolor": "white"
           },
           "zaxis": {
            "backgroundcolor": "#E5ECF6",
            "gridcolor": "white",
            "gridwidth": 2,
            "linecolor": "white",
            "showbackground": true,
            "ticks": "",
            "zerolinecolor": "white"
           }
          },
          "shapedefaults": {
           "line": {
            "color": "#2a3f5f"
           }
          },
          "ternary": {
           "aaxis": {
            "gridcolor": "white",
            "linecolor": "white",
            "ticks": ""
           },
           "baxis": {
            "gridcolor": "white",
            "linecolor": "white",
            "ticks": ""
           },
           "bgcolor": "#E5ECF6",
           "caxis": {
            "gridcolor": "white",
            "linecolor": "white",
            "ticks": ""
           }
          },
          "title": {
           "x": 0.05
          },
          "xaxis": {
           "automargin": true,
           "gridcolor": "white",
           "linecolor": "white",
           "ticks": "",
           "title": {
            "standoff": 15
           },
           "zerolinecolor": "white",
           "zerolinewidth": 2
          },
          "yaxis": {
           "automargin": true,
           "gridcolor": "white",
           "linecolor": "white",
           "ticks": "",
           "title": {
            "standoff": 15
           },
           "zerolinecolor": "white",
           "zerolinewidth": 2
          }
         }
        },
        "title": {
         "text": "Africa Agricultural raw materials exportss (% of merchandise imports)"
        },
        "xaxis": {
         "anchor": "y",
         "domain": [
          0,
          1
         ],
         "title": {
          "text": "date"
         }
        },
        "yaxis": {
         "anchor": "x",
         "domain": [
          0,
          1
         ],
         "title": {
          "text": "Agricultural exports"
         }
        }
       }
      },
      "text/html": [
       "<div>                            <div id=\"425e4fc4-c238-4903-b510-d4973b58ce24\" class=\"plotly-graph-div\" style=\"height:525px; width:100%;\"></div>            <script type=\"text/javascript\">                require([\"plotly\"], function(Plotly) {                    window.PLOTLYENV=window.PLOTLYENV || {};                                    if (document.getElementById(\"425e4fc4-c238-4903-b510-d4973b58ce24\")) {                    Plotly.newPlot(                        \"425e4fc4-c238-4903-b510-d4973b58ce24\",                        [{\"hovertemplate\":\"country=Africa Eastern and Southern<br>date=%{x}<br>Agricultural exports=%{y}<extra></extra>\",\"legendgroup\":\"Africa Eastern and Southern\",\"line\":{\"color\":\"#636efa\",\"dash\":\"solid\"},\"marker\":{\"symbol\":\"circle\"},\"mode\":\"lines\",\"name\":\"Africa Eastern and Southern\",\"orientation\":\"v\",\"showlegend\":true,\"x\":[2021,2020,2019,2018,2017,2016,2015,2014,2013,2012,2011,2010,2009,2008,2007,2006,2005,2004,2003,2002,2001,2000,1999,1998,1997,1996,1995,1994,1993,1992,1991,1990,1989,1988,1987,1986,1985,1984,1983,1982,1981,1980,1979,1978,1977,1976,1975,1974,1973,1972,1971,1970,1969,1968,1967,1966,1965,1964,1963,1962,1961,1960],\"xaxis\":\"x\",\"y\":[1.97324543815165,1.99396828010605,2.0182407840726,2.03937854733491,2.16680684449229,2.16618144980779,2.03082928169468,1.65093543600169,2.06057700130936,2.31970594976337,2.28483444032708,2.16560631387904,2.85158288051863,3.51200974492518,2.53756347727564,3.64912880330653,4.03100479177408,4.62617367336545,4.80892507229872,4.63460163118841,4.76614743555854,5.03840913398303,5.81812948017674,null,6.59410415834136,null,null,null,null,null,null,null,null,null,null,null,null,null,null,null,3.80195233263669,3.89124891974645,5.95882029743496,6.38710112269983,null,null,null,7.93971161664507,null,null,null,null,null,null,null,null,null,null,null,null,null,null],\"yaxis\":\"y\",\"type\":\"scatter\"},{\"hovertemplate\":\"country=Africa Western and Central<br>date=%{x}<br>Agricultural exports=%{y}<extra></extra>\",\"legendgroup\":\"Africa Western and Central\",\"line\":{\"color\":\"#EF553B\",\"dash\":\"solid\"},\"marker\":{\"symbol\":\"circle\"},\"mode\":\"lines\",\"name\":\"Africa Western and Central\",\"orientation\":\"v\",\"showlegend\":true,\"x\":[2021,2020,2019,2018,2017,2016,2015,2014,2013,2012,2011,2010,2009,2008,2007,2006,2005,2004,2003,2002,2001,2000,1999,1998,1997,1996,1995,1994,1993,1992,1991,1990,1989,1988,1987,1986,1985,1984,1983,1982,1981,1980,1979,1978,1977,1976,1975,1974,1973,1972,1971,1970,1969,1968,1967,1966,1965,1964,1963,1962,1961,1960],\"xaxis\":\"x\",\"y\":[null,4.10248339533448,4.00420732453161,4.17805801068579,4.1748596391128,4.58631567741591,3.36673157872733,3.7222721063981,5.2216416811252,7.69351689939935,7.79568682047121,4.20338490125367,4.34559823045447,5.34612738485401,5.65209530853661,4.2224083397632,null,null,6.87558024552586,5.91599713247876,6.35857541228549,7.30537377817701,8.08002252183103,8.29128187943852,9.02301833364213,9.7046019102187,null,null,null,null,null,null,null,null,null,null,null,null,6.70216345027669,null,5.88868185911244,null,7.4387858524095,7.02311729395532,8.10441818854713,8.17164161972954,8.40415269261986,11.3122106786767,14.5337074483194,13.6466321337507,13.9314957405271,16.3514766879675,15.1674991026711,17.5334379796472,17.1452796828437,18.5843104823332,18.0163088159695,20.2906194761028,20.5236476044703,20.2033936950192,null,null],\"yaxis\":\"y\",\"type\":\"scatter\"}],                        {\"template\":{\"data\":{\"histogram2dcontour\":[{\"type\":\"histogram2dcontour\",\"colorbar\":{\"outlinewidth\":0,\"ticks\":\"\"},\"colorscale\":[[0.0,\"#0d0887\"],[0.1111111111111111,\"#46039f\"],[0.2222222222222222,\"#7201a8\"],[0.3333333333333333,\"#9c179e\"],[0.4444444444444444,\"#bd3786\"],[0.5555555555555556,\"#d8576b\"],[0.6666666666666666,\"#ed7953\"],[0.7777777777777778,\"#fb9f3a\"],[0.8888888888888888,\"#fdca26\"],[1.0,\"#f0f921\"]]}],\"choropleth\":[{\"type\":\"choropleth\",\"colorbar\":{\"outlinewidth\":0,\"ticks\":\"\"}}],\"histogram2d\":[{\"type\":\"histogram2d\",\"colorbar\":{\"outlinewidth\":0,\"ticks\":\"\"},\"colorscale\":[[0.0,\"#0d0887\"],[0.1111111111111111,\"#46039f\"],[0.2222222222222222,\"#7201a8\"],[0.3333333333333333,\"#9c179e\"],[0.4444444444444444,\"#bd3786\"],[0.5555555555555556,\"#d8576b\"],[0.6666666666666666,\"#ed7953\"],[0.7777777777777778,\"#fb9f3a\"],[0.8888888888888888,\"#fdca26\"],[1.0,\"#f0f921\"]]}],\"heatmap\":[{\"type\":\"heatmap\",\"colorbar\":{\"outlinewidth\":0,\"ticks\":\"\"},\"colorscale\":[[0.0,\"#0d0887\"],[0.1111111111111111,\"#46039f\"],[0.2222222222222222,\"#7201a8\"],[0.3333333333333333,\"#9c179e\"],[0.4444444444444444,\"#bd3786\"],[0.5555555555555556,\"#d8576b\"],[0.6666666666666666,\"#ed7953\"],[0.7777777777777778,\"#fb9f3a\"],[0.8888888888888888,\"#fdca26\"],[1.0,\"#f0f921\"]]}],\"heatmapgl\":[{\"type\":\"heatmapgl\",\"colorbar\":{\"outlinewidth\":0,\"ticks\":\"\"},\"colorscale\":[[0.0,\"#0d0887\"],[0.1111111111111111,\"#46039f\"],[0.2222222222222222,\"#7201a8\"],[0.3333333333333333,\"#9c179e\"],[0.4444444444444444,\"#bd3786\"],[0.5555555555555556,\"#d8576b\"],[0.6666666666666666,\"#ed7953\"],[0.7777777777777778,\"#fb9f3a\"],[0.8888888888888888,\"#fdca26\"],[1.0,\"#f0f921\"]]}],\"contourcarpet\":[{\"type\":\"contourcarpet\",\"colorbar\":{\"outlinewidth\":0,\"ticks\":\"\"}}],\"contour\":[{\"type\":\"contour\",\"colorbar\":{\"outlinewidth\":0,\"ticks\":\"\"},\"colorscale\":[[0.0,\"#0d0887\"],[0.1111111111111111,\"#46039f\"],[0.2222222222222222,\"#7201a8\"],[0.3333333333333333,\"#9c179e\"],[0.4444444444444444,\"#bd3786\"],[0.5555555555555556,\"#d8576b\"],[0.6666666666666666,\"#ed7953\"],[0.7777777777777778,\"#fb9f3a\"],[0.8888888888888888,\"#fdca26\"],[1.0,\"#f0f921\"]]}],\"surface\":[{\"type\":\"surface\",\"colorbar\":{\"outlinewidth\":0,\"ticks\":\"\"},\"colorscale\":[[0.0,\"#0d0887\"],[0.1111111111111111,\"#46039f\"],[0.2222222222222222,\"#7201a8\"],[0.3333333333333333,\"#9c179e\"],[0.4444444444444444,\"#bd3786\"],[0.5555555555555556,\"#d8576b\"],[0.6666666666666666,\"#ed7953\"],[0.7777777777777778,\"#fb9f3a\"],[0.8888888888888888,\"#fdca26\"],[1.0,\"#f0f921\"]]}],\"mesh3d\":[{\"type\":\"mesh3d\",\"colorbar\":{\"outlinewidth\":0,\"ticks\":\"\"}}],\"scatter\":[{\"fillpattern\":{\"fillmode\":\"overlay\",\"size\":10,\"solidity\":0.2},\"type\":\"scatter\"}],\"parcoords\":[{\"type\":\"parcoords\",\"line\":{\"colorbar\":{\"outlinewidth\":0,\"ticks\":\"\"}}}],\"scatterpolargl\":[{\"type\":\"scatterpolargl\",\"marker\":{\"colorbar\":{\"outlinewidth\":0,\"ticks\":\"\"}}}],\"bar\":[{\"error_x\":{\"color\":\"#2a3f5f\"},\"error_y\":{\"color\":\"#2a3f5f\"},\"marker\":{\"line\":{\"color\":\"#E5ECF6\",\"width\":0.5},\"pattern\":{\"fillmode\":\"overlay\",\"size\":10,\"solidity\":0.2}},\"type\":\"bar\"}],\"scattergeo\":[{\"type\":\"scattergeo\",\"marker\":{\"colorbar\":{\"outlinewidth\":0,\"ticks\":\"\"}}}],\"scatterpolar\":[{\"type\":\"scatterpolar\",\"marker\":{\"colorbar\":{\"outlinewidth\":0,\"ticks\":\"\"}}}],\"histogram\":[{\"marker\":{\"pattern\":{\"fillmode\":\"overlay\",\"size\":10,\"solidity\":0.2}},\"type\":\"histogram\"}],\"scattergl\":[{\"type\":\"scattergl\",\"marker\":{\"colorbar\":{\"outlinewidth\":0,\"ticks\":\"\"}}}],\"scatter3d\":[{\"type\":\"scatter3d\",\"line\":{\"colorbar\":{\"outlinewidth\":0,\"ticks\":\"\"}},\"marker\":{\"colorbar\":{\"outlinewidth\":0,\"ticks\":\"\"}}}],\"scattermapbox\":[{\"type\":\"scattermapbox\",\"marker\":{\"colorbar\":{\"outlinewidth\":0,\"ticks\":\"\"}}}],\"scatterternary\":[{\"type\":\"scatterternary\",\"marker\":{\"colorbar\":{\"outlinewidth\":0,\"ticks\":\"\"}}}],\"scattercarpet\":[{\"type\":\"scattercarpet\",\"marker\":{\"colorbar\":{\"outlinewidth\":0,\"ticks\":\"\"}}}],\"carpet\":[{\"aaxis\":{\"endlinecolor\":\"#2a3f5f\",\"gridcolor\":\"white\",\"linecolor\":\"white\",\"minorgridcolor\":\"white\",\"startlinecolor\":\"#2a3f5f\"},\"baxis\":{\"endlinecolor\":\"#2a3f5f\",\"gridcolor\":\"white\",\"linecolor\":\"white\",\"minorgridcolor\":\"white\",\"startlinecolor\":\"#2a3f5f\"},\"type\":\"carpet\"}],\"table\":[{\"cells\":{\"fill\":{\"color\":\"#EBF0F8\"},\"line\":{\"color\":\"white\"}},\"header\":{\"fill\":{\"color\":\"#C8D4E3\"},\"line\":{\"color\":\"white\"}},\"type\":\"table\"}],\"barpolar\":[{\"marker\":{\"line\":{\"color\":\"#E5ECF6\",\"width\":0.5},\"pattern\":{\"fillmode\":\"overlay\",\"size\":10,\"solidity\":0.2}},\"type\":\"barpolar\"}],\"pie\":[{\"automargin\":true,\"type\":\"pie\"}]},\"layout\":{\"autotypenumbers\":\"strict\",\"colorway\":[\"#636efa\",\"#EF553B\",\"#00cc96\",\"#ab63fa\",\"#FFA15A\",\"#19d3f3\",\"#FF6692\",\"#B6E880\",\"#FF97FF\",\"#FECB52\"],\"font\":{\"color\":\"#2a3f5f\"},\"hovermode\":\"closest\",\"hoverlabel\":{\"align\":\"left\"},\"paper_bgcolor\":\"white\",\"plot_bgcolor\":\"#E5ECF6\",\"polar\":{\"bgcolor\":\"#E5ECF6\",\"angularaxis\":{\"gridcolor\":\"white\",\"linecolor\":\"white\",\"ticks\":\"\"},\"radialaxis\":{\"gridcolor\":\"white\",\"linecolor\":\"white\",\"ticks\":\"\"}},\"ternary\":{\"bgcolor\":\"#E5ECF6\",\"aaxis\":{\"gridcolor\":\"white\",\"linecolor\":\"white\",\"ticks\":\"\"},\"baxis\":{\"gridcolor\":\"white\",\"linecolor\":\"white\",\"ticks\":\"\"},\"caxis\":{\"gridcolor\":\"white\",\"linecolor\":\"white\",\"ticks\":\"\"}},\"coloraxis\":{\"colorbar\":{\"outlinewidth\":0,\"ticks\":\"\"}},\"colorscale\":{\"sequential\":[[0.0,\"#0d0887\"],[0.1111111111111111,\"#46039f\"],[0.2222222222222222,\"#7201a8\"],[0.3333333333333333,\"#9c179e\"],[0.4444444444444444,\"#bd3786\"],[0.5555555555555556,\"#d8576b\"],[0.6666666666666666,\"#ed7953\"],[0.7777777777777778,\"#fb9f3a\"],[0.8888888888888888,\"#fdca26\"],[1.0,\"#f0f921\"]],\"sequentialminus\":[[0.0,\"#0d0887\"],[0.1111111111111111,\"#46039f\"],[0.2222222222222222,\"#7201a8\"],[0.3333333333333333,\"#9c179e\"],[0.4444444444444444,\"#bd3786\"],[0.5555555555555556,\"#d8576b\"],[0.6666666666666666,\"#ed7953\"],[0.7777777777777778,\"#fb9f3a\"],[0.8888888888888888,\"#fdca26\"],[1.0,\"#f0f921\"]],\"diverging\":[[0,\"#8e0152\"],[0.1,\"#c51b7d\"],[0.2,\"#de77ae\"],[0.3,\"#f1b6da\"],[0.4,\"#fde0ef\"],[0.5,\"#f7f7f7\"],[0.6,\"#e6f5d0\"],[0.7,\"#b8e186\"],[0.8,\"#7fbc41\"],[0.9,\"#4d9221\"],[1,\"#276419\"]]},\"xaxis\":{\"gridcolor\":\"white\",\"linecolor\":\"white\",\"ticks\":\"\",\"title\":{\"standoff\":15},\"zerolinecolor\":\"white\",\"automargin\":true,\"zerolinewidth\":2},\"yaxis\":{\"gridcolor\":\"white\",\"linecolor\":\"white\",\"ticks\":\"\",\"title\":{\"standoff\":15},\"zerolinecolor\":\"white\",\"automargin\":true,\"zerolinewidth\":2},\"scene\":{\"xaxis\":{\"backgroundcolor\":\"#E5ECF6\",\"gridcolor\":\"white\",\"linecolor\":\"white\",\"showbackground\":true,\"ticks\":\"\",\"zerolinecolor\":\"white\",\"gridwidth\":2},\"yaxis\":{\"backgroundcolor\":\"#E5ECF6\",\"gridcolor\":\"white\",\"linecolor\":\"white\",\"showbackground\":true,\"ticks\":\"\",\"zerolinecolor\":\"white\",\"gridwidth\":2},\"zaxis\":{\"backgroundcolor\":\"#E5ECF6\",\"gridcolor\":\"white\",\"linecolor\":\"white\",\"showbackground\":true,\"ticks\":\"\",\"zerolinecolor\":\"white\",\"gridwidth\":2}},\"shapedefaults\":{\"line\":{\"color\":\"#2a3f5f\"}},\"annotationdefaults\":{\"arrowcolor\":\"#2a3f5f\",\"arrowhead\":0,\"arrowwidth\":1},\"geo\":{\"bgcolor\":\"white\",\"landcolor\":\"#E5ECF6\",\"subunitcolor\":\"white\",\"showland\":true,\"showlakes\":true,\"lakecolor\":\"white\"},\"title\":{\"x\":0.05},\"mapbox\":{\"style\":\"light\"}}},\"xaxis\":{\"anchor\":\"y\",\"domain\":[0.0,1.0],\"title\":{\"text\":\"date\"}},\"yaxis\":{\"anchor\":\"x\",\"domain\":[0.0,1.0],\"title\":{\"text\":\"Agricultural exports\"}},\"legend\":{\"title\":{\"text\":\"country\"},\"tracegroupgap\":0},\"title\":{\"text\":\"Africa Agricultural raw materials exportss (% of merchandise imports)\"}},                        {\"responsive\": true}                    ).then(function(){\n",
       "                            \n",
       "var gd = document.getElementById('425e4fc4-c238-4903-b510-d4973b58ce24');\n",
       "var x = new MutationObserver(function (mutations, observer) {{\n",
       "        var display = window.getComputedStyle(gd).display;\n",
       "        if (!display || display === 'none') {{\n",
       "            console.log([gd, 'removed!']);\n",
       "            Plotly.purge(gd);\n",
       "            observer.disconnect();\n",
       "        }}\n",
       "}});\n",
       "\n",
       "// Listen for the removal of the full notebook cells\n",
       "var notebookContainer = gd.closest('#notebook-container');\n",
       "if (notebookContainer) {{\n",
       "    x.observe(notebookContainer, {childList: true});\n",
       "}}\n",
       "\n",
       "// Listen for the clearing of the current output cell\n",
       "var outputEl = gd.closest('.output');\n",
       "if (outputEl) {{\n",
       "    x.observe(outputEl, {childList: true});\n",
       "}}\n",
       "\n",
       "                        })                };                });            </script>        </div>"
      ]
     },
     "metadata": {},
     "output_type": "display_data"
    }
   ],
   "source": [
    "def exp_plt(indicators, countries):\n",
    "    \"\"\" Function that takes in a list of countries/regions,\n",
    "    a population indicator, and outputs a line plot of export growth. \"\"\"\n",
    "    \n",
    "    # Get indicators and country data of interest\n",
    "    data = wbdata.get_dataframe(indicators, country = countries)\n",
    "    \n",
    "    # Query year of interest\n",
    "    data.reset_index(inplace=True)\n",
    "    data['date'] = data['date'].astype(int)\n",
    "    data.set_index(['country'],inplace=True)\n",
    "    \n",
    "    # Make scatterplot\n",
    "    plot_e = data.plot.line(\n",
    "        x= \"date\",\n",
    "        y= \"Agricultural exports\",\n",
    "        color = data.index,\n",
    "        title = \"Africa Agricultural raw materials exportss (% of merchandise imports)\")\n",
    "    return plot_e\n",
    "\n",
    "exp_plt(import_export_var, regions)"
   ]
  },
  {
   "cell_type": "code",
   "execution_count": 27,
   "id": "4941b30a",
   "metadata": {},
   "outputs": [
    {
     "data": {
      "application/vnd.plotly.v1+json": {
       "config": {
        "plotlyServerURL": "https://plot.ly"
       },
       "data": [
        {
         "hovertemplate": "country=Africa Eastern and Southern<br>date=%{x}<br>GDP per capita=%{y}<extra></extra>",
         "legendgroup": "Africa Eastern and Southern",
         "line": {
          "color": "#636efa",
          "dash": "solid"
         },
         "marker": {
          "symbol": "circle"
         },
         "mode": "lines",
         "name": "Africa Eastern and Southern",
         "orientation": "v",
         "showlegend": true,
         "type": "scatter",
         "x": [
          2021,
          2020,
          2019,
          2018,
          2017,
          2016,
          2015,
          2014,
          2013,
          2012,
          2011,
          2010,
          2009,
          2008,
          2007,
          2006,
          2005,
          2004,
          2003,
          2002,
          2001,
          2000,
          1999,
          1998,
          1997,
          1996,
          1995,
          1994,
          1993,
          1992,
          1991,
          1990,
          1989,
          1988,
          1987,
          1986,
          1985,
          1984,
          1983,
          1982,
          1981,
          1980,
          1979,
          1978,
          1977,
          1976,
          1975,
          1974,
          1973,
          1972,
          1971,
          1970,
          1969,
          1968,
          1967,
          1966,
          1965,
          1964,
          1963,
          1962,
          1961,
          1960
         ],
         "xaxis": "x",
         "y": [
          1537.3360209254,
          1353.7691597287,
          1500.22927438203,
          1550.18056734463,
          1613.78855537557,
          1432.11182684485,
          1540.85035410697,
          1719.80919035642,
          1731.79597586613,
          1760.21622940618,
          1792.84742828716,
          1643.55049467824,
          1411.57515888916,
          1428.33486534173,
          1369.80942676893,
          1226.18248018982,
          1120.44678810807,
          985.530234702093,
          812.946403678434,
          626.559857118868,
          628.204190987065,
          706.992061499618,
          669.691425131614,
          696.374223795512,
          757.852239923975,
          739.468396383995,
          762.843520653108,
          697.183018306666,
          704.742867795043,
          728.765774345736,
          858.297836269341,
          817.148590996453,
          722.427496123105,
          697.217760088721,
          654.316006458531,
          552.536452041812,
          508.69498570539,
          615.411335878228,
          691.985452306824,
          681.650923427465,
          732.91885914001,
          738.873981812624,
          600.371094147825,
          530.372947888349,
          489.846966951667,
          444.075684766247,
          459.896340163853,
          444.717963926224,
          370.414638118579,
          293.075994931136,
          278.752405253723,
          260.112367933856,
          249.580769820476,
          224.232269419195,
          211.699966408401,
          209.407648251828,
          198.223725633731,
          179.381787998431,
          199.182563740135,
          171.996696524259,
          162.546236237859,
          162.907575600115
         ],
         "yaxis": "y"
        },
        {
         "hovertemplate": "country=Africa Western and Central<br>date=%{x}<br>GDP per capita=%{y}<extra></extra>",
         "legendgroup": "Africa Western and Central",
         "line": {
          "color": "#EF553B",
          "dash": "solid"
         },
         "marker": {
          "symbol": "circle"
         },
         "mode": "lines",
         "name": "Africa Western and Central",
         "orientation": "v",
         "showlegend": true,
         "type": "scatter",
         "x": [
          2021,
          2020,
          2019,
          2018,
          2017,
          2016,
          2015,
          2014,
          2013,
          2012,
          2011,
          2010,
          2009,
          2008,
          2007,
          2006,
          2005,
          2004,
          2003,
          2002,
          2001,
          2000,
          1999,
          1998,
          1997,
          1996,
          1995,
          1994,
          1993,
          1992,
          1991,
          1990,
          1989,
          1988,
          1987,
          1986,
          1985,
          1984,
          1983,
          1982,
          1981,
          1980,
          1979,
          1978,
          1977,
          1976,
          1975,
          1974,
          1973,
          1972,
          1971,
          1970,
          1969,
          1968,
          1967,
          1966,
          1965,
          1964,
          1963,
          1962,
          1961,
          1960
         ],
         "xaxis": "x",
         "y": [
          1757.03062622138,
          1683.43639098491,
          1749.30331701118,
          1731.31179201546,
          1585.91193032787,
          1645.02376743667,
          1876.62348318848,
          2243.2714641609,
          2149.29521922384,
          1953.40703302973,
          1856.68766916914,
          1675.73957223421,
          1463.39329309204,
          1681.47767951697,
          1417.60505010147,
          1241.8519002881,
          1000.86958105037,
          841.357960964114,
          697.905290822087,
          619.773282317197,
          529.584938942083,
          520.786583767401,
          524.095110345159,
          509.258402107974,
          510.885533657977,
          519.252220900353,
          458.834219691584,
          375.667585110592,
          441.605589067083,
          542.663527078269,
          553.591280313621,
          589.158848993721,
          505.326338732086,
          555.919881075057,
          578.327730569237,
          578.814350154625,
          644.336990404963,
          649.018761512478,
          805.023662801527,
          1120.58396022091,
          1299.89641106073,
          709.842397337791,
          577.535479884458,
          477.188530059106,
          450.067013003358,
          439.827935010613,
          374.011272538494,
          330.072417730672,
          239.530291094921,
          198.368024226382,
          167.552524480805,
          193.573356154294,
          142.325903856849,
          128.365494363122,
          127.303605673801,
          142.895374978871,
          137.186142289974,
          130.599962606932,
          122.278714987374,
          117.730633160077,
          112.047561307443,
          106.976474931853
         ],
         "yaxis": "y"
        }
       ],
       "layout": {
        "legend": {
         "title": {
          "text": "country"
         },
         "tracegroupgap": 0
        },
        "template": {
         "data": {
          "bar": [
           {
            "error_x": {
             "color": "#2a3f5f"
            },
            "error_y": {
             "color": "#2a3f5f"
            },
            "marker": {
             "line": {
              "color": "#E5ECF6",
              "width": 0.5
             },
             "pattern": {
              "fillmode": "overlay",
              "size": 10,
              "solidity": 0.2
             }
            },
            "type": "bar"
           }
          ],
          "barpolar": [
           {
            "marker": {
             "line": {
              "color": "#E5ECF6",
              "width": 0.5
             },
             "pattern": {
              "fillmode": "overlay",
              "size": 10,
              "solidity": 0.2
             }
            },
            "type": "barpolar"
           }
          ],
          "carpet": [
           {
            "aaxis": {
             "endlinecolor": "#2a3f5f",
             "gridcolor": "white",
             "linecolor": "white",
             "minorgridcolor": "white",
             "startlinecolor": "#2a3f5f"
            },
            "baxis": {
             "endlinecolor": "#2a3f5f",
             "gridcolor": "white",
             "linecolor": "white",
             "minorgridcolor": "white",
             "startlinecolor": "#2a3f5f"
            },
            "type": "carpet"
           }
          ],
          "choropleth": [
           {
            "colorbar": {
             "outlinewidth": 0,
             "ticks": ""
            },
            "type": "choropleth"
           }
          ],
          "contour": [
           {
            "colorbar": {
             "outlinewidth": 0,
             "ticks": ""
            },
            "colorscale": [
             [
              0,
              "#0d0887"
             ],
             [
              0.1111111111111111,
              "#46039f"
             ],
             [
              0.2222222222222222,
              "#7201a8"
             ],
             [
              0.3333333333333333,
              "#9c179e"
             ],
             [
              0.4444444444444444,
              "#bd3786"
             ],
             [
              0.5555555555555556,
              "#d8576b"
             ],
             [
              0.6666666666666666,
              "#ed7953"
             ],
             [
              0.7777777777777778,
              "#fb9f3a"
             ],
             [
              0.8888888888888888,
              "#fdca26"
             ],
             [
              1,
              "#f0f921"
             ]
            ],
            "type": "contour"
           }
          ],
          "contourcarpet": [
           {
            "colorbar": {
             "outlinewidth": 0,
             "ticks": ""
            },
            "type": "contourcarpet"
           }
          ],
          "heatmap": [
           {
            "colorbar": {
             "outlinewidth": 0,
             "ticks": ""
            },
            "colorscale": [
             [
              0,
              "#0d0887"
             ],
             [
              0.1111111111111111,
              "#46039f"
             ],
             [
              0.2222222222222222,
              "#7201a8"
             ],
             [
              0.3333333333333333,
              "#9c179e"
             ],
             [
              0.4444444444444444,
              "#bd3786"
             ],
             [
              0.5555555555555556,
              "#d8576b"
             ],
             [
              0.6666666666666666,
              "#ed7953"
             ],
             [
              0.7777777777777778,
              "#fb9f3a"
             ],
             [
              0.8888888888888888,
              "#fdca26"
             ],
             [
              1,
              "#f0f921"
             ]
            ],
            "type": "heatmap"
           }
          ],
          "heatmapgl": [
           {
            "colorbar": {
             "outlinewidth": 0,
             "ticks": ""
            },
            "colorscale": [
             [
              0,
              "#0d0887"
             ],
             [
              0.1111111111111111,
              "#46039f"
             ],
             [
              0.2222222222222222,
              "#7201a8"
             ],
             [
              0.3333333333333333,
              "#9c179e"
             ],
             [
              0.4444444444444444,
              "#bd3786"
             ],
             [
              0.5555555555555556,
              "#d8576b"
             ],
             [
              0.6666666666666666,
              "#ed7953"
             ],
             [
              0.7777777777777778,
              "#fb9f3a"
             ],
             [
              0.8888888888888888,
              "#fdca26"
             ],
             [
              1,
              "#f0f921"
             ]
            ],
            "type": "heatmapgl"
           }
          ],
          "histogram": [
           {
            "marker": {
             "pattern": {
              "fillmode": "overlay",
              "size": 10,
              "solidity": 0.2
             }
            },
            "type": "histogram"
           }
          ],
          "histogram2d": [
           {
            "colorbar": {
             "outlinewidth": 0,
             "ticks": ""
            },
            "colorscale": [
             [
              0,
              "#0d0887"
             ],
             [
              0.1111111111111111,
              "#46039f"
             ],
             [
              0.2222222222222222,
              "#7201a8"
             ],
             [
              0.3333333333333333,
              "#9c179e"
             ],
             [
              0.4444444444444444,
              "#bd3786"
             ],
             [
              0.5555555555555556,
              "#d8576b"
             ],
             [
              0.6666666666666666,
              "#ed7953"
             ],
             [
              0.7777777777777778,
              "#fb9f3a"
             ],
             [
              0.8888888888888888,
              "#fdca26"
             ],
             [
              1,
              "#f0f921"
             ]
            ],
            "type": "histogram2d"
           }
          ],
          "histogram2dcontour": [
           {
            "colorbar": {
             "outlinewidth": 0,
             "ticks": ""
            },
            "colorscale": [
             [
              0,
              "#0d0887"
             ],
             [
              0.1111111111111111,
              "#46039f"
             ],
             [
              0.2222222222222222,
              "#7201a8"
             ],
             [
              0.3333333333333333,
              "#9c179e"
             ],
             [
              0.4444444444444444,
              "#bd3786"
             ],
             [
              0.5555555555555556,
              "#d8576b"
             ],
             [
              0.6666666666666666,
              "#ed7953"
             ],
             [
              0.7777777777777778,
              "#fb9f3a"
             ],
             [
              0.8888888888888888,
              "#fdca26"
             ],
             [
              1,
              "#f0f921"
             ]
            ],
            "type": "histogram2dcontour"
           }
          ],
          "mesh3d": [
           {
            "colorbar": {
             "outlinewidth": 0,
             "ticks": ""
            },
            "type": "mesh3d"
           }
          ],
          "parcoords": [
           {
            "line": {
             "colorbar": {
              "outlinewidth": 0,
              "ticks": ""
             }
            },
            "type": "parcoords"
           }
          ],
          "pie": [
           {
            "automargin": true,
            "type": "pie"
           }
          ],
          "scatter": [
           {
            "fillpattern": {
             "fillmode": "overlay",
             "size": 10,
             "solidity": 0.2
            },
            "type": "scatter"
           }
          ],
          "scatter3d": [
           {
            "line": {
             "colorbar": {
              "outlinewidth": 0,
              "ticks": ""
             }
            },
            "marker": {
             "colorbar": {
              "outlinewidth": 0,
              "ticks": ""
             }
            },
            "type": "scatter3d"
           }
          ],
          "scattercarpet": [
           {
            "marker": {
             "colorbar": {
              "outlinewidth": 0,
              "ticks": ""
             }
            },
            "type": "scattercarpet"
           }
          ],
          "scattergeo": [
           {
            "marker": {
             "colorbar": {
              "outlinewidth": 0,
              "ticks": ""
             }
            },
            "type": "scattergeo"
           }
          ],
          "scattergl": [
           {
            "marker": {
             "colorbar": {
              "outlinewidth": 0,
              "ticks": ""
             }
            },
            "type": "scattergl"
           }
          ],
          "scattermapbox": [
           {
            "marker": {
             "colorbar": {
              "outlinewidth": 0,
              "ticks": ""
             }
            },
            "type": "scattermapbox"
           }
          ],
          "scatterpolar": [
           {
            "marker": {
             "colorbar": {
              "outlinewidth": 0,
              "ticks": ""
             }
            },
            "type": "scatterpolar"
           }
          ],
          "scatterpolargl": [
           {
            "marker": {
             "colorbar": {
              "outlinewidth": 0,
              "ticks": ""
             }
            },
            "type": "scatterpolargl"
           }
          ],
          "scatterternary": [
           {
            "marker": {
             "colorbar": {
              "outlinewidth": 0,
              "ticks": ""
             }
            },
            "type": "scatterternary"
           }
          ],
          "surface": [
           {
            "colorbar": {
             "outlinewidth": 0,
             "ticks": ""
            },
            "colorscale": [
             [
              0,
              "#0d0887"
             ],
             [
              0.1111111111111111,
              "#46039f"
             ],
             [
              0.2222222222222222,
              "#7201a8"
             ],
             [
              0.3333333333333333,
              "#9c179e"
             ],
             [
              0.4444444444444444,
              "#bd3786"
             ],
             [
              0.5555555555555556,
              "#d8576b"
             ],
             [
              0.6666666666666666,
              "#ed7953"
             ],
             [
              0.7777777777777778,
              "#fb9f3a"
             ],
             [
              0.8888888888888888,
              "#fdca26"
             ],
             [
              1,
              "#f0f921"
             ]
            ],
            "type": "surface"
           }
          ],
          "table": [
           {
            "cells": {
             "fill": {
              "color": "#EBF0F8"
             },
             "line": {
              "color": "white"
             }
            },
            "header": {
             "fill": {
              "color": "#C8D4E3"
             },
             "line": {
              "color": "white"
             }
            },
            "type": "table"
           }
          ]
         },
         "layout": {
          "annotationdefaults": {
           "arrowcolor": "#2a3f5f",
           "arrowhead": 0,
           "arrowwidth": 1
          },
          "autotypenumbers": "strict",
          "coloraxis": {
           "colorbar": {
            "outlinewidth": 0,
            "ticks": ""
           }
          },
          "colorscale": {
           "diverging": [
            [
             0,
             "#8e0152"
            ],
            [
             0.1,
             "#c51b7d"
            ],
            [
             0.2,
             "#de77ae"
            ],
            [
             0.3,
             "#f1b6da"
            ],
            [
             0.4,
             "#fde0ef"
            ],
            [
             0.5,
             "#f7f7f7"
            ],
            [
             0.6,
             "#e6f5d0"
            ],
            [
             0.7,
             "#b8e186"
            ],
            [
             0.8,
             "#7fbc41"
            ],
            [
             0.9,
             "#4d9221"
            ],
            [
             1,
             "#276419"
            ]
           ],
           "sequential": [
            [
             0,
             "#0d0887"
            ],
            [
             0.1111111111111111,
             "#46039f"
            ],
            [
             0.2222222222222222,
             "#7201a8"
            ],
            [
             0.3333333333333333,
             "#9c179e"
            ],
            [
             0.4444444444444444,
             "#bd3786"
            ],
            [
             0.5555555555555556,
             "#d8576b"
            ],
            [
             0.6666666666666666,
             "#ed7953"
            ],
            [
             0.7777777777777778,
             "#fb9f3a"
            ],
            [
             0.8888888888888888,
             "#fdca26"
            ],
            [
             1,
             "#f0f921"
            ]
           ],
           "sequentialminus": [
            [
             0,
             "#0d0887"
            ],
            [
             0.1111111111111111,
             "#46039f"
            ],
            [
             0.2222222222222222,
             "#7201a8"
            ],
            [
             0.3333333333333333,
             "#9c179e"
            ],
            [
             0.4444444444444444,
             "#bd3786"
            ],
            [
             0.5555555555555556,
             "#d8576b"
            ],
            [
             0.6666666666666666,
             "#ed7953"
            ],
            [
             0.7777777777777778,
             "#fb9f3a"
            ],
            [
             0.8888888888888888,
             "#fdca26"
            ],
            [
             1,
             "#f0f921"
            ]
           ]
          },
          "colorway": [
           "#636efa",
           "#EF553B",
           "#00cc96",
           "#ab63fa",
           "#FFA15A",
           "#19d3f3",
           "#FF6692",
           "#B6E880",
           "#FF97FF",
           "#FECB52"
          ],
          "font": {
           "color": "#2a3f5f"
          },
          "geo": {
           "bgcolor": "white",
           "lakecolor": "white",
           "landcolor": "#E5ECF6",
           "showlakes": true,
           "showland": true,
           "subunitcolor": "white"
          },
          "hoverlabel": {
           "align": "left"
          },
          "hovermode": "closest",
          "mapbox": {
           "style": "light"
          },
          "paper_bgcolor": "white",
          "plot_bgcolor": "#E5ECF6",
          "polar": {
           "angularaxis": {
            "gridcolor": "white",
            "linecolor": "white",
            "ticks": ""
           },
           "bgcolor": "#E5ECF6",
           "radialaxis": {
            "gridcolor": "white",
            "linecolor": "white",
            "ticks": ""
           }
          },
          "scene": {
           "xaxis": {
            "backgroundcolor": "#E5ECF6",
            "gridcolor": "white",
            "gridwidth": 2,
            "linecolor": "white",
            "showbackground": true,
            "ticks": "",
            "zerolinecolor": "white"
           },
           "yaxis": {
            "backgroundcolor": "#E5ECF6",
            "gridcolor": "white",
            "gridwidth": 2,
            "linecolor": "white",
            "showbackground": true,
            "ticks": "",
            "zerolinecolor": "white"
           },
           "zaxis": {
            "backgroundcolor": "#E5ECF6",
            "gridcolor": "white",
            "gridwidth": 2,
            "linecolor": "white",
            "showbackground": true,
            "ticks": "",
            "zerolinecolor": "white"
           }
          },
          "shapedefaults": {
           "line": {
            "color": "#2a3f5f"
           }
          },
          "ternary": {
           "aaxis": {
            "gridcolor": "white",
            "linecolor": "white",
            "ticks": ""
           },
           "baxis": {
            "gridcolor": "white",
            "linecolor": "white",
            "ticks": ""
           },
           "bgcolor": "#E5ECF6",
           "caxis": {
            "gridcolor": "white",
            "linecolor": "white",
            "ticks": ""
           }
          },
          "title": {
           "x": 0.05
          },
          "xaxis": {
           "automargin": true,
           "gridcolor": "white",
           "linecolor": "white",
           "ticks": "",
           "title": {
            "standoff": 15
           },
           "zerolinecolor": "white",
           "zerolinewidth": 2
          },
          "yaxis": {
           "automargin": true,
           "gridcolor": "white",
           "linecolor": "white",
           "ticks": "",
           "title": {
            "standoff": 15
           },
           "zerolinecolor": "white",
           "zerolinewidth": 2
          }
         }
        },
        "title": {
         "text": "Africa GDP per capita"
        },
        "xaxis": {
         "anchor": "y",
         "domain": [
          0,
          1
         ],
         "title": {
          "text": "date"
         }
        },
        "yaxis": {
         "anchor": "x",
         "domain": [
          0,
          1
         ],
         "title": {
          "text": "GDP per capita"
         }
        }
       }
      },
      "text/html": [
       "<div>                            <div id=\"418f4e57-3b8a-4f6d-9c80-c0871eb728bb\" class=\"plotly-graph-div\" style=\"height:525px; width:100%;\"></div>            <script type=\"text/javascript\">                require([\"plotly\"], function(Plotly) {                    window.PLOTLYENV=window.PLOTLYENV || {};                                    if (document.getElementById(\"418f4e57-3b8a-4f6d-9c80-c0871eb728bb\")) {                    Plotly.newPlot(                        \"418f4e57-3b8a-4f6d-9c80-c0871eb728bb\",                        [{\"hovertemplate\":\"country=Africa Eastern and Southern<br>date=%{x}<br>GDP per capita=%{y}<extra></extra>\",\"legendgroup\":\"Africa Eastern and Southern\",\"line\":{\"color\":\"#636efa\",\"dash\":\"solid\"},\"marker\":{\"symbol\":\"circle\"},\"mode\":\"lines\",\"name\":\"Africa Eastern and Southern\",\"orientation\":\"v\",\"showlegend\":true,\"x\":[2021,2020,2019,2018,2017,2016,2015,2014,2013,2012,2011,2010,2009,2008,2007,2006,2005,2004,2003,2002,2001,2000,1999,1998,1997,1996,1995,1994,1993,1992,1991,1990,1989,1988,1987,1986,1985,1984,1983,1982,1981,1980,1979,1978,1977,1976,1975,1974,1973,1972,1971,1970,1969,1968,1967,1966,1965,1964,1963,1962,1961,1960],\"xaxis\":\"x\",\"y\":[1537.3360209254,1353.7691597287,1500.22927438203,1550.18056734463,1613.78855537557,1432.11182684485,1540.85035410697,1719.80919035642,1731.79597586613,1760.21622940618,1792.84742828716,1643.55049467824,1411.57515888916,1428.33486534173,1369.80942676893,1226.18248018982,1120.44678810807,985.530234702093,812.946403678434,626.559857118868,628.204190987065,706.992061499618,669.691425131614,696.374223795512,757.852239923975,739.468396383995,762.843520653108,697.183018306666,704.742867795043,728.765774345736,858.297836269341,817.148590996453,722.427496123105,697.217760088721,654.316006458531,552.536452041812,508.69498570539,615.411335878228,691.985452306824,681.650923427465,732.91885914001,738.873981812624,600.371094147825,530.372947888349,489.846966951667,444.075684766247,459.896340163853,444.717963926224,370.414638118579,293.075994931136,278.752405253723,260.112367933856,249.580769820476,224.232269419195,211.699966408401,209.407648251828,198.223725633731,179.381787998431,199.182563740135,171.996696524259,162.546236237859,162.907575600115],\"yaxis\":\"y\",\"type\":\"scatter\"},{\"hovertemplate\":\"country=Africa Western and Central<br>date=%{x}<br>GDP per capita=%{y}<extra></extra>\",\"legendgroup\":\"Africa Western and Central\",\"line\":{\"color\":\"#EF553B\",\"dash\":\"solid\"},\"marker\":{\"symbol\":\"circle\"},\"mode\":\"lines\",\"name\":\"Africa Western and Central\",\"orientation\":\"v\",\"showlegend\":true,\"x\":[2021,2020,2019,2018,2017,2016,2015,2014,2013,2012,2011,2010,2009,2008,2007,2006,2005,2004,2003,2002,2001,2000,1999,1998,1997,1996,1995,1994,1993,1992,1991,1990,1989,1988,1987,1986,1985,1984,1983,1982,1981,1980,1979,1978,1977,1976,1975,1974,1973,1972,1971,1970,1969,1968,1967,1966,1965,1964,1963,1962,1961,1960],\"xaxis\":\"x\",\"y\":[1757.03062622138,1683.43639098491,1749.30331701118,1731.31179201546,1585.91193032787,1645.02376743667,1876.62348318848,2243.2714641609,2149.29521922384,1953.40703302973,1856.68766916914,1675.73957223421,1463.39329309204,1681.47767951697,1417.60505010147,1241.8519002881,1000.86958105037,841.357960964114,697.905290822087,619.773282317197,529.584938942083,520.786583767401,524.095110345159,509.258402107974,510.885533657977,519.252220900353,458.834219691584,375.667585110592,441.605589067083,542.663527078269,553.591280313621,589.158848993721,505.326338732086,555.919881075057,578.327730569237,578.814350154625,644.336990404963,649.018761512478,805.023662801527,1120.58396022091,1299.89641106073,709.842397337791,577.535479884458,477.188530059106,450.067013003358,439.827935010613,374.011272538494,330.072417730672,239.530291094921,198.368024226382,167.552524480805,193.573356154294,142.325903856849,128.365494363122,127.303605673801,142.895374978871,137.186142289974,130.599962606932,122.278714987374,117.730633160077,112.047561307443,106.976474931853],\"yaxis\":\"y\",\"type\":\"scatter\"}],                        {\"template\":{\"data\":{\"histogram2dcontour\":[{\"type\":\"histogram2dcontour\",\"colorbar\":{\"outlinewidth\":0,\"ticks\":\"\"},\"colorscale\":[[0.0,\"#0d0887\"],[0.1111111111111111,\"#46039f\"],[0.2222222222222222,\"#7201a8\"],[0.3333333333333333,\"#9c179e\"],[0.4444444444444444,\"#bd3786\"],[0.5555555555555556,\"#d8576b\"],[0.6666666666666666,\"#ed7953\"],[0.7777777777777778,\"#fb9f3a\"],[0.8888888888888888,\"#fdca26\"],[1.0,\"#f0f921\"]]}],\"choropleth\":[{\"type\":\"choropleth\",\"colorbar\":{\"outlinewidth\":0,\"ticks\":\"\"}}],\"histogram2d\":[{\"type\":\"histogram2d\",\"colorbar\":{\"outlinewidth\":0,\"ticks\":\"\"},\"colorscale\":[[0.0,\"#0d0887\"],[0.1111111111111111,\"#46039f\"],[0.2222222222222222,\"#7201a8\"],[0.3333333333333333,\"#9c179e\"],[0.4444444444444444,\"#bd3786\"],[0.5555555555555556,\"#d8576b\"],[0.6666666666666666,\"#ed7953\"],[0.7777777777777778,\"#fb9f3a\"],[0.8888888888888888,\"#fdca26\"],[1.0,\"#f0f921\"]]}],\"heatmap\":[{\"type\":\"heatmap\",\"colorbar\":{\"outlinewidth\":0,\"ticks\":\"\"},\"colorscale\":[[0.0,\"#0d0887\"],[0.1111111111111111,\"#46039f\"],[0.2222222222222222,\"#7201a8\"],[0.3333333333333333,\"#9c179e\"],[0.4444444444444444,\"#bd3786\"],[0.5555555555555556,\"#d8576b\"],[0.6666666666666666,\"#ed7953\"],[0.7777777777777778,\"#fb9f3a\"],[0.8888888888888888,\"#fdca26\"],[1.0,\"#f0f921\"]]}],\"heatmapgl\":[{\"type\":\"heatmapgl\",\"colorbar\":{\"outlinewidth\":0,\"ticks\":\"\"},\"colorscale\":[[0.0,\"#0d0887\"],[0.1111111111111111,\"#46039f\"],[0.2222222222222222,\"#7201a8\"],[0.3333333333333333,\"#9c179e\"],[0.4444444444444444,\"#bd3786\"],[0.5555555555555556,\"#d8576b\"],[0.6666666666666666,\"#ed7953\"],[0.7777777777777778,\"#fb9f3a\"],[0.8888888888888888,\"#fdca26\"],[1.0,\"#f0f921\"]]}],\"contourcarpet\":[{\"type\":\"contourcarpet\",\"colorbar\":{\"outlinewidth\":0,\"ticks\":\"\"}}],\"contour\":[{\"type\":\"contour\",\"colorbar\":{\"outlinewidth\":0,\"ticks\":\"\"},\"colorscale\":[[0.0,\"#0d0887\"],[0.1111111111111111,\"#46039f\"],[0.2222222222222222,\"#7201a8\"],[0.3333333333333333,\"#9c179e\"],[0.4444444444444444,\"#bd3786\"],[0.5555555555555556,\"#d8576b\"],[0.6666666666666666,\"#ed7953\"],[0.7777777777777778,\"#fb9f3a\"],[0.8888888888888888,\"#fdca26\"],[1.0,\"#f0f921\"]]}],\"surface\":[{\"type\":\"surface\",\"colorbar\":{\"outlinewidth\":0,\"ticks\":\"\"},\"colorscale\":[[0.0,\"#0d0887\"],[0.1111111111111111,\"#46039f\"],[0.2222222222222222,\"#7201a8\"],[0.3333333333333333,\"#9c179e\"],[0.4444444444444444,\"#bd3786\"],[0.5555555555555556,\"#d8576b\"],[0.6666666666666666,\"#ed7953\"],[0.7777777777777778,\"#fb9f3a\"],[0.8888888888888888,\"#fdca26\"],[1.0,\"#f0f921\"]]}],\"mesh3d\":[{\"type\":\"mesh3d\",\"colorbar\":{\"outlinewidth\":0,\"ticks\":\"\"}}],\"scatter\":[{\"fillpattern\":{\"fillmode\":\"overlay\",\"size\":10,\"solidity\":0.2},\"type\":\"scatter\"}],\"parcoords\":[{\"type\":\"parcoords\",\"line\":{\"colorbar\":{\"outlinewidth\":0,\"ticks\":\"\"}}}],\"scatterpolargl\":[{\"type\":\"scatterpolargl\",\"marker\":{\"colorbar\":{\"outlinewidth\":0,\"ticks\":\"\"}}}],\"bar\":[{\"error_x\":{\"color\":\"#2a3f5f\"},\"error_y\":{\"color\":\"#2a3f5f\"},\"marker\":{\"line\":{\"color\":\"#E5ECF6\",\"width\":0.5},\"pattern\":{\"fillmode\":\"overlay\",\"size\":10,\"solidity\":0.2}},\"type\":\"bar\"}],\"scattergeo\":[{\"type\":\"scattergeo\",\"marker\":{\"colorbar\":{\"outlinewidth\":0,\"ticks\":\"\"}}}],\"scatterpolar\":[{\"type\":\"scatterpolar\",\"marker\":{\"colorbar\":{\"outlinewidth\":0,\"ticks\":\"\"}}}],\"histogram\":[{\"marker\":{\"pattern\":{\"fillmode\":\"overlay\",\"size\":10,\"solidity\":0.2}},\"type\":\"histogram\"}],\"scattergl\":[{\"type\":\"scattergl\",\"marker\":{\"colorbar\":{\"outlinewidth\":0,\"ticks\":\"\"}}}],\"scatter3d\":[{\"type\":\"scatter3d\",\"line\":{\"colorbar\":{\"outlinewidth\":0,\"ticks\":\"\"}},\"marker\":{\"colorbar\":{\"outlinewidth\":0,\"ticks\":\"\"}}}],\"scattermapbox\":[{\"type\":\"scattermapbox\",\"marker\":{\"colorbar\":{\"outlinewidth\":0,\"ticks\":\"\"}}}],\"scatterternary\":[{\"type\":\"scatterternary\",\"marker\":{\"colorbar\":{\"outlinewidth\":0,\"ticks\":\"\"}}}],\"scattercarpet\":[{\"type\":\"scattercarpet\",\"marker\":{\"colorbar\":{\"outlinewidth\":0,\"ticks\":\"\"}}}],\"carpet\":[{\"aaxis\":{\"endlinecolor\":\"#2a3f5f\",\"gridcolor\":\"white\",\"linecolor\":\"white\",\"minorgridcolor\":\"white\",\"startlinecolor\":\"#2a3f5f\"},\"baxis\":{\"endlinecolor\":\"#2a3f5f\",\"gridcolor\":\"white\",\"linecolor\":\"white\",\"minorgridcolor\":\"white\",\"startlinecolor\":\"#2a3f5f\"},\"type\":\"carpet\"}],\"table\":[{\"cells\":{\"fill\":{\"color\":\"#EBF0F8\"},\"line\":{\"color\":\"white\"}},\"header\":{\"fill\":{\"color\":\"#C8D4E3\"},\"line\":{\"color\":\"white\"}},\"type\":\"table\"}],\"barpolar\":[{\"marker\":{\"line\":{\"color\":\"#E5ECF6\",\"width\":0.5},\"pattern\":{\"fillmode\":\"overlay\",\"size\":10,\"solidity\":0.2}},\"type\":\"barpolar\"}],\"pie\":[{\"automargin\":true,\"type\":\"pie\"}]},\"layout\":{\"autotypenumbers\":\"strict\",\"colorway\":[\"#636efa\",\"#EF553B\",\"#00cc96\",\"#ab63fa\",\"#FFA15A\",\"#19d3f3\",\"#FF6692\",\"#B6E880\",\"#FF97FF\",\"#FECB52\"],\"font\":{\"color\":\"#2a3f5f\"},\"hovermode\":\"closest\",\"hoverlabel\":{\"align\":\"left\"},\"paper_bgcolor\":\"white\",\"plot_bgcolor\":\"#E5ECF6\",\"polar\":{\"bgcolor\":\"#E5ECF6\",\"angularaxis\":{\"gridcolor\":\"white\",\"linecolor\":\"white\",\"ticks\":\"\"},\"radialaxis\":{\"gridcolor\":\"white\",\"linecolor\":\"white\",\"ticks\":\"\"}},\"ternary\":{\"bgcolor\":\"#E5ECF6\",\"aaxis\":{\"gridcolor\":\"white\",\"linecolor\":\"white\",\"ticks\":\"\"},\"baxis\":{\"gridcolor\":\"white\",\"linecolor\":\"white\",\"ticks\":\"\"},\"caxis\":{\"gridcolor\":\"white\",\"linecolor\":\"white\",\"ticks\":\"\"}},\"coloraxis\":{\"colorbar\":{\"outlinewidth\":0,\"ticks\":\"\"}},\"colorscale\":{\"sequential\":[[0.0,\"#0d0887\"],[0.1111111111111111,\"#46039f\"],[0.2222222222222222,\"#7201a8\"],[0.3333333333333333,\"#9c179e\"],[0.4444444444444444,\"#bd3786\"],[0.5555555555555556,\"#d8576b\"],[0.6666666666666666,\"#ed7953\"],[0.7777777777777778,\"#fb9f3a\"],[0.8888888888888888,\"#fdca26\"],[1.0,\"#f0f921\"]],\"sequentialminus\":[[0.0,\"#0d0887\"],[0.1111111111111111,\"#46039f\"],[0.2222222222222222,\"#7201a8\"],[0.3333333333333333,\"#9c179e\"],[0.4444444444444444,\"#bd3786\"],[0.5555555555555556,\"#d8576b\"],[0.6666666666666666,\"#ed7953\"],[0.7777777777777778,\"#fb9f3a\"],[0.8888888888888888,\"#fdca26\"],[1.0,\"#f0f921\"]],\"diverging\":[[0,\"#8e0152\"],[0.1,\"#c51b7d\"],[0.2,\"#de77ae\"],[0.3,\"#f1b6da\"],[0.4,\"#fde0ef\"],[0.5,\"#f7f7f7\"],[0.6,\"#e6f5d0\"],[0.7,\"#b8e186\"],[0.8,\"#7fbc41\"],[0.9,\"#4d9221\"],[1,\"#276419\"]]},\"xaxis\":{\"gridcolor\":\"white\",\"linecolor\":\"white\",\"ticks\":\"\",\"title\":{\"standoff\":15},\"zerolinecolor\":\"white\",\"automargin\":true,\"zerolinewidth\":2},\"yaxis\":{\"gridcolor\":\"white\",\"linecolor\":\"white\",\"ticks\":\"\",\"title\":{\"standoff\":15},\"zerolinecolor\":\"white\",\"automargin\":true,\"zerolinewidth\":2},\"scene\":{\"xaxis\":{\"backgroundcolor\":\"#E5ECF6\",\"gridcolor\":\"white\",\"linecolor\":\"white\",\"showbackground\":true,\"ticks\":\"\",\"zerolinecolor\":\"white\",\"gridwidth\":2},\"yaxis\":{\"backgroundcolor\":\"#E5ECF6\",\"gridcolor\":\"white\",\"linecolor\":\"white\",\"showbackground\":true,\"ticks\":\"\",\"zerolinecolor\":\"white\",\"gridwidth\":2},\"zaxis\":{\"backgroundcolor\":\"#E5ECF6\",\"gridcolor\":\"white\",\"linecolor\":\"white\",\"showbackground\":true,\"ticks\":\"\",\"zerolinecolor\":\"white\",\"gridwidth\":2}},\"shapedefaults\":{\"line\":{\"color\":\"#2a3f5f\"}},\"annotationdefaults\":{\"arrowcolor\":\"#2a3f5f\",\"arrowhead\":0,\"arrowwidth\":1},\"geo\":{\"bgcolor\":\"white\",\"landcolor\":\"#E5ECF6\",\"subunitcolor\":\"white\",\"showland\":true,\"showlakes\":true,\"lakecolor\":\"white\"},\"title\":{\"x\":0.05},\"mapbox\":{\"style\":\"light\"}}},\"xaxis\":{\"anchor\":\"y\",\"domain\":[0.0,1.0],\"title\":{\"text\":\"date\"}},\"yaxis\":{\"anchor\":\"x\",\"domain\":[0.0,1.0],\"title\":{\"text\":\"GDP per capita\"}},\"legend\":{\"title\":{\"text\":\"country\"},\"tracegroupgap\":0},\"title\":{\"text\":\"Africa GDP per capita\"}},                        {\"responsive\": true}                    ).then(function(){\n",
       "                            \n",
       "var gd = document.getElementById('418f4e57-3b8a-4f6d-9c80-c0871eb728bb');\n",
       "var x = new MutationObserver(function (mutations, observer) {{\n",
       "        var display = window.getComputedStyle(gd).display;\n",
       "        if (!display || display === 'none') {{\n",
       "            console.log([gd, 'removed!']);\n",
       "            Plotly.purge(gd);\n",
       "            observer.disconnect();\n",
       "        }}\n",
       "}});\n",
       "\n",
       "// Listen for the removal of the full notebook cells\n",
       "var notebookContainer = gd.closest('#notebook-container');\n",
       "if (notebookContainer) {{\n",
       "    x.observe(notebookContainer, {childList: true});\n",
       "}}\n",
       "\n",
       "// Listen for the clearing of the current output cell\n",
       "var outputEl = gd.closest('.output');\n",
       "if (outputEl) {{\n",
       "    x.observe(outputEl, {childList: true});\n",
       "}}\n",
       "\n",
       "                        })                };                });            </script>        </div>"
      ]
     },
     "metadata": {},
     "output_type": "display_data"
    }
   ],
   "source": [
    "gdp_vars = {\"NY.GDP.PCAP.CD\":\"GDP per capita\"}\n",
    "def gdp_plt(indicators, countries):\n",
    "    \"\"\" Function that takes in a list of countries/regions,\n",
    "    a population indicator, and outputs a line plot of GDP per capita. \"\"\"\n",
    "    \n",
    "    # Get indicators and country data of interest\n",
    "    data = wbdata.get_dataframe(indicators, country = countries)\n",
    "    \n",
    "    # Query year of interest\n",
    "    data.reset_index(inplace=True)\n",
    "    data['date'] = data['date'].astype(int)\n",
    "    data.set_index(['country'],inplace=True)\n",
    "    \n",
    "    # Make scatterplot\n",
    "    plot_g = data.plot.line(\n",
    "        x= \"date\",\n",
    "        y= \"GDP per capita\",\n",
    "        color = data.index,\n",
    "        title = \"Africa GDP per capita\")\n",
    "    return plot_g\n",
    "\n",
    "gdp_plt(gdp_vars, regions)"
   ]
  }
 ],
 "metadata": {
  "kernelspec": {
   "display_name": "Python 3 (ipykernel)",
   "language": "python",
   "name": "python3"
  },
  "language_info": {
   "codemirror_mode": {
    "name": "ipython",
    "version": 3
   },
   "file_extension": ".py",
   "mimetype": "text/x-python",
   "name": "python",
   "nbconvert_exporter": "python",
   "pygments_lexer": "ipython3",
   "version": "3.9.12"
  }
 },
 "nbformat": 4,
 "nbformat_minor": 5
}
