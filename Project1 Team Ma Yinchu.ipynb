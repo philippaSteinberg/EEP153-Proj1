{
 "cells": [
  {
   "cell_type": "markdown",
   "id": "ba6d6860",
   "metadata": {},
   "source": [
    "# EEP153 Project1 Team Ma Yinchu"
   ]
  },
  {
   "cell_type": "markdown",
   "id": "b5785045",
   "metadata": {},
   "source": [
    "Our project focused on analyzing population dynamics and differnces in Africa, drawing on inspiration from Nunn's research on the long term impacts of slavery. Our project goals include:\n",
    "- Comparing population dynamics over time and against different regions within Africa \n",
    "- Comparing economic indicators for these same regions over time"
   ]
  },
  {
   "cell_type": "code",
   "execution_count": 1,
   "id": "994e3cb5",
   "metadata": {},
   "outputs": [
    {
     "name": "stdout",
     "output_type": "stream",
     "text": [
      "Requirement already satisfied: wbdata in /Users/eddieguo/opt/anaconda3/lib/python3.9/site-packages (0.3.0)\n",
      "Requirement already satisfied: tabulate>=0.8.5 in /Users/eddieguo/opt/anaconda3/lib/python3.9/site-packages (from wbdata) (0.8.10)\n",
      "Requirement already satisfied: appdirs<2.0,>=1.4 in /Users/eddieguo/opt/anaconda3/lib/python3.9/site-packages (from wbdata) (1.4.4)\n",
      "Requirement already satisfied: requests>=2.0 in /Users/eddieguo/opt/anaconda3/lib/python3.9/site-packages (from wbdata) (2.28.1)\n",
      "Requirement already satisfied: decorator>=4.0 in /Users/eddieguo/opt/anaconda3/lib/python3.9/site-packages (from wbdata) (5.1.1)\n",
      "Requirement already satisfied: idna<4,>=2.5 in /Users/eddieguo/opt/anaconda3/lib/python3.9/site-packages (from requests>=2.0->wbdata) (3.4)\n",
      "Requirement already satisfied: charset-normalizer<3,>=2 in /Users/eddieguo/opt/anaconda3/lib/python3.9/site-packages (from requests>=2.0->wbdata) (2.0.4)\n",
      "Requirement already satisfied: urllib3<1.27,>=1.21.1 in /Users/eddieguo/opt/anaconda3/lib/python3.9/site-packages (from requests>=2.0->wbdata) (1.26.14)\n",
      "Requirement already satisfied: certifi>=2017.4.17 in /Users/eddieguo/opt/anaconda3/lib/python3.9/site-packages (from requests>=2.0->wbdata) (2022.12.7)\n",
      "Requirement already satisfied: plotly in /Users/eddieguo/opt/anaconda3/lib/python3.9/site-packages (5.9.0)\n",
      "Requirement already satisfied: tenacity>=6.2.0 in /Users/eddieguo/opt/anaconda3/lib/python3.9/site-packages (from plotly) (8.0.1)\n",
      "Requirement already satisfied: cufflinks in /Users/eddieguo/opt/anaconda3/lib/python3.9/site-packages (0.17.3)\n",
      "Requirement already satisfied: ipywidgets>=7.0.0 in /Users/eddieguo/opt/anaconda3/lib/python3.9/site-packages (from cufflinks) (7.6.5)\n",
      "Requirement already satisfied: six>=1.9.0 in /Users/eddieguo/opt/anaconda3/lib/python3.9/site-packages (from cufflinks) (1.16.0)\n",
      "Requirement already satisfied: pandas>=0.19.2 in /Users/eddieguo/opt/anaconda3/lib/python3.9/site-packages (from cufflinks) (1.4.4)\n",
      "Requirement already satisfied: numpy>=1.9.2 in /Users/eddieguo/opt/anaconda3/lib/python3.9/site-packages (from cufflinks) (1.21.5)\n",
      "Requirement already satisfied: setuptools>=34.4.1 in /Users/eddieguo/opt/anaconda3/lib/python3.9/site-packages (from cufflinks) (65.6.3)\n",
      "Requirement already satisfied: ipython>=5.3.0 in /Users/eddieguo/opt/anaconda3/lib/python3.9/site-packages (from cufflinks) (8.8.0)\n",
      "Requirement already satisfied: colorlover>=0.2.1 in /Users/eddieguo/opt/anaconda3/lib/python3.9/site-packages (from cufflinks) (0.3.0)\n",
      "Requirement already satisfied: plotly>=4.1.1 in /Users/eddieguo/opt/anaconda3/lib/python3.9/site-packages (from cufflinks) (5.9.0)\n",
      "Requirement already satisfied: pexpect>4.3 in /Users/eddieguo/opt/anaconda3/lib/python3.9/site-packages (from ipython>=5.3.0->cufflinks) (4.8.0)\n",
      "Requirement already satisfied: jedi>=0.16 in /Users/eddieguo/opt/anaconda3/lib/python3.9/site-packages (from ipython>=5.3.0->cufflinks) (0.18.1)\n",
      "Requirement already satisfied: backcall in /Users/eddieguo/opt/anaconda3/lib/python3.9/site-packages (from ipython>=5.3.0->cufflinks) (0.2.0)\n",
      "Requirement already satisfied: pickleshare in /Users/eddieguo/opt/anaconda3/lib/python3.9/site-packages (from ipython>=5.3.0->cufflinks) (0.7.5)\n",
      "Requirement already satisfied: pygments>=2.4.0 in /Users/eddieguo/opt/anaconda3/lib/python3.9/site-packages (from ipython>=5.3.0->cufflinks) (2.11.2)\n",
      "Requirement already satisfied: traitlets>=5 in /Users/eddieguo/opt/anaconda3/lib/python3.9/site-packages (from ipython>=5.3.0->cufflinks) (5.7.1)\n",
      "Requirement already satisfied: appnope in /Users/eddieguo/opt/anaconda3/lib/python3.9/site-packages (from ipython>=5.3.0->cufflinks) (0.1.2)\n",
      "Requirement already satisfied: prompt-toolkit<3.1.0,>=3.0.11 in /Users/eddieguo/opt/anaconda3/lib/python3.9/site-packages (from ipython>=5.3.0->cufflinks) (3.0.36)\n",
      "Requirement already satisfied: matplotlib-inline in /Users/eddieguo/opt/anaconda3/lib/python3.9/site-packages (from ipython>=5.3.0->cufflinks) (0.1.6)\n",
      "Requirement already satisfied: decorator in /Users/eddieguo/opt/anaconda3/lib/python3.9/site-packages (from ipython>=5.3.0->cufflinks) (5.1.1)\n",
      "Requirement already satisfied: stack-data in /Users/eddieguo/opt/anaconda3/lib/python3.9/site-packages (from ipython>=5.3.0->cufflinks) (0.2.0)\n",
      "Requirement already satisfied: widgetsnbextension~=3.5.0 in /Users/eddieguo/opt/anaconda3/lib/python3.9/site-packages (from ipywidgets>=7.0.0->cufflinks) (3.5.2)\n",
      "Requirement already satisfied: nbformat>=4.2.0 in /Users/eddieguo/opt/anaconda3/lib/python3.9/site-packages (from ipywidgets>=7.0.0->cufflinks) (5.7.0)\n",
      "Requirement already satisfied: ipykernel>=4.5.1 in /Users/eddieguo/opt/anaconda3/lib/python3.9/site-packages (from ipywidgets>=7.0.0->cufflinks) (6.19.2)\n",
      "Requirement already satisfied: ipython-genutils~=0.2.0 in /Users/eddieguo/opt/anaconda3/lib/python3.9/site-packages (from ipywidgets>=7.0.0->cufflinks) (0.2.0)\n",
      "Requirement already satisfied: jupyterlab-widgets>=1.0.0 in /Users/eddieguo/opt/anaconda3/lib/python3.9/site-packages (from ipywidgets>=7.0.0->cufflinks) (1.0.0)\n",
      "Requirement already satisfied: python-dateutil>=2.8.1 in /Users/eddieguo/opt/anaconda3/lib/python3.9/site-packages (from pandas>=0.19.2->cufflinks) (2.8.2)\n",
      "Requirement already satisfied: pytz>=2020.1 in /Users/eddieguo/opt/anaconda3/lib/python3.9/site-packages (from pandas>=0.19.2->cufflinks) (2022.7)\n",
      "Requirement already satisfied: tenacity>=6.2.0 in /Users/eddieguo/opt/anaconda3/lib/python3.9/site-packages (from plotly>=4.1.1->cufflinks) (8.0.1)\n",
      "Requirement already satisfied: tornado>=6.1 in /Users/eddieguo/opt/anaconda3/lib/python3.9/site-packages (from ipykernel>=4.5.1->ipywidgets>=7.0.0->cufflinks) (6.1)\n",
      "Requirement already satisfied: debugpy>=1.0 in /Users/eddieguo/opt/anaconda3/lib/python3.9/site-packages (from ipykernel>=4.5.1->ipywidgets>=7.0.0->cufflinks) (1.5.1)\n",
      "Requirement already satisfied: jupyter-client>=6.1.12 in /Users/eddieguo/opt/anaconda3/lib/python3.9/site-packages (from ipykernel>=4.5.1->ipywidgets>=7.0.0->cufflinks) (6.1.12)\n",
      "Requirement already satisfied: packaging in /Users/eddieguo/opt/anaconda3/lib/python3.9/site-packages (from ipykernel>=4.5.1->ipywidgets>=7.0.0->cufflinks) (22.0)\n",
      "Requirement already satisfied: pyzmq>=17 in /Users/eddieguo/opt/anaconda3/lib/python3.9/site-packages (from ipykernel>=4.5.1->ipywidgets>=7.0.0->cufflinks) (23.2.0)\n",
      "Requirement already satisfied: psutil in /Users/eddieguo/opt/anaconda3/lib/python3.9/site-packages (from ipykernel>=4.5.1->ipywidgets>=7.0.0->cufflinks) (5.9.0)\n",
      "Requirement already satisfied: comm>=0.1.1 in /Users/eddieguo/opt/anaconda3/lib/python3.9/site-packages (from ipykernel>=4.5.1->ipywidgets>=7.0.0->cufflinks) (0.1.2)\n",
      "Requirement already satisfied: nest-asyncio in /Users/eddieguo/opt/anaconda3/lib/python3.9/site-packages (from ipykernel>=4.5.1->ipywidgets>=7.0.0->cufflinks) (1.5.6)\n",
      "Requirement already satisfied: parso<0.9.0,>=0.8.0 in /Users/eddieguo/opt/anaconda3/lib/python3.9/site-packages (from jedi>=0.16->ipython>=5.3.0->cufflinks) (0.8.3)\n",
      "Requirement already satisfied: jupyter-core in /Users/eddieguo/opt/anaconda3/lib/python3.9/site-packages (from nbformat>=4.2.0->ipywidgets>=7.0.0->cufflinks) (5.1.1)\n",
      "Requirement already satisfied: jsonschema>=2.6 in /Users/eddieguo/opt/anaconda3/lib/python3.9/site-packages (from nbformat>=4.2.0->ipywidgets>=7.0.0->cufflinks) (4.16.0)\n",
      "Requirement already satisfied: fastjsonschema in /Users/eddieguo/opt/anaconda3/lib/python3.9/site-packages (from nbformat>=4.2.0->ipywidgets>=7.0.0->cufflinks) (2.16.2)\n",
      "Requirement already satisfied: ptyprocess>=0.5 in /Users/eddieguo/opt/anaconda3/lib/python3.9/site-packages (from pexpect>4.3->ipython>=5.3.0->cufflinks) (0.7.0)\n",
      "Requirement already satisfied: wcwidth in /Users/eddieguo/opt/anaconda3/lib/python3.9/site-packages (from prompt-toolkit<3.1.0,>=3.0.11->ipython>=5.3.0->cufflinks) (0.2.5)\n",
      "Requirement already satisfied: notebook>=4.4.1 in /Users/eddieguo/opt/anaconda3/lib/python3.9/site-packages (from widgetsnbextension~=3.5.0->ipywidgets>=7.0.0->cufflinks) (6.5.2)\n",
      "Requirement already satisfied: pure-eval in /Users/eddieguo/opt/anaconda3/lib/python3.9/site-packages (from stack-data->ipython>=5.3.0->cufflinks) (0.2.2)\n",
      "Requirement already satisfied: asttokens in /Users/eddieguo/opt/anaconda3/lib/python3.9/site-packages (from stack-data->ipython>=5.3.0->cufflinks) (2.0.5)\n",
      "Requirement already satisfied: executing in /Users/eddieguo/opt/anaconda3/lib/python3.9/site-packages (from stack-data->ipython>=5.3.0->cufflinks) (0.8.3)\n",
      "Requirement already satisfied: pyrsistent!=0.17.0,!=0.17.1,!=0.17.2,>=0.14.0 in /Users/eddieguo/opt/anaconda3/lib/python3.9/site-packages (from jsonschema>=2.6->nbformat>=4.2.0->ipywidgets>=7.0.0->cufflinks) (0.18.0)\n",
      "Requirement already satisfied: attrs>=17.4.0 in /Users/eddieguo/opt/anaconda3/lib/python3.9/site-packages (from jsonschema>=2.6->nbformat>=4.2.0->ipywidgets>=7.0.0->cufflinks) (22.1.0)\n"
     ]
    },
    {
     "name": "stdout",
     "output_type": "stream",
     "text": [
      "Requirement already satisfied: platformdirs>=2.5 in /Users/eddieguo/opt/anaconda3/lib/python3.9/site-packages (from jupyter-core->nbformat>=4.2.0->ipywidgets>=7.0.0->cufflinks) (2.5.2)\n",
      "Requirement already satisfied: argon2-cffi in /Users/eddieguo/opt/anaconda3/lib/python3.9/site-packages (from notebook>=4.4.1->widgetsnbextension~=3.5.0->ipywidgets>=7.0.0->cufflinks) (21.3.0)\n",
      "Requirement already satisfied: jinja2 in /Users/eddieguo/opt/anaconda3/lib/python3.9/site-packages (from notebook>=4.4.1->widgetsnbextension~=3.5.0->ipywidgets>=7.0.0->cufflinks) (2.11.3)\n",
      "Requirement already satisfied: Send2Trash>=1.8.0 in /Users/eddieguo/opt/anaconda3/lib/python3.9/site-packages (from notebook>=4.4.1->widgetsnbextension~=3.5.0->ipywidgets>=7.0.0->cufflinks) (1.8.0)\n",
      "Requirement already satisfied: nbclassic>=0.4.7 in /Users/eddieguo/opt/anaconda3/lib/python3.9/site-packages (from notebook>=4.4.1->widgetsnbextension~=3.5.0->ipywidgets>=7.0.0->cufflinks) (0.4.8)\n",
      "Requirement already satisfied: prometheus-client in /Users/eddieguo/opt/anaconda3/lib/python3.9/site-packages (from notebook>=4.4.1->widgetsnbextension~=3.5.0->ipywidgets>=7.0.0->cufflinks) (0.14.1)\n",
      "Requirement already satisfied: nbconvert>=5 in /Users/eddieguo/opt/anaconda3/lib/python3.9/site-packages (from notebook>=4.4.1->widgetsnbextension~=3.5.0->ipywidgets>=7.0.0->cufflinks) (6.4.4)\n",
      "Requirement already satisfied: terminado>=0.8.3 in /Users/eddieguo/opt/anaconda3/lib/python3.9/site-packages (from notebook>=4.4.1->widgetsnbextension~=3.5.0->ipywidgets>=7.0.0->cufflinks) (0.17.1)\n",
      "Requirement already satisfied: notebook-shim>=0.1.0 in /Users/eddieguo/opt/anaconda3/lib/python3.9/site-packages (from nbclassic>=0.4.7->notebook>=4.4.1->widgetsnbextension~=3.5.0->ipywidgets>=7.0.0->cufflinks) (0.2.2)\n",
      "Requirement already satisfied: jupyter-server>=1.8 in /Users/eddieguo/opt/anaconda3/lib/python3.9/site-packages (from nbclassic>=0.4.7->notebook>=4.4.1->widgetsnbextension~=3.5.0->ipywidgets>=7.0.0->cufflinks) (1.23.4)\n",
      "Requirement already satisfied: beautifulsoup4 in /Users/eddieguo/opt/anaconda3/lib/python3.9/site-packages (from nbconvert>=5->notebook>=4.4.1->widgetsnbextension~=3.5.0->ipywidgets>=7.0.0->cufflinks) (4.11.1)\n",
      "Requirement already satisfied: defusedxml in /Users/eddieguo/opt/anaconda3/lib/python3.9/site-packages (from nbconvert>=5->notebook>=4.4.1->widgetsnbextension~=3.5.0->ipywidgets>=7.0.0->cufflinks) (0.7.1)\n",
      "Requirement already satisfied: entrypoints>=0.2.2 in /Users/eddieguo/opt/anaconda3/lib/python3.9/site-packages (from nbconvert>=5->notebook>=4.4.1->widgetsnbextension~=3.5.0->ipywidgets>=7.0.0->cufflinks) (0.4)\n",
      "Requirement already satisfied: testpath in /Users/eddieguo/opt/anaconda3/lib/python3.9/site-packages (from nbconvert>=5->notebook>=4.4.1->widgetsnbextension~=3.5.0->ipywidgets>=7.0.0->cufflinks) (0.6.0)\n",
      "Requirement already satisfied: mistune<2,>=0.8.1 in /Users/eddieguo/opt/anaconda3/lib/python3.9/site-packages (from nbconvert>=5->notebook>=4.4.1->widgetsnbextension~=3.5.0->ipywidgets>=7.0.0->cufflinks) (0.8.4)\n",
      "Requirement already satisfied: nbclient<0.6.0,>=0.5.0 in /Users/eddieguo/opt/anaconda3/lib/python3.9/site-packages (from nbconvert>=5->notebook>=4.4.1->widgetsnbextension~=3.5.0->ipywidgets>=7.0.0->cufflinks) (0.5.13)\n",
      "Requirement already satisfied: pandocfilters>=1.4.1 in /Users/eddieguo/opt/anaconda3/lib/python3.9/site-packages (from nbconvert>=5->notebook>=4.4.1->widgetsnbextension~=3.5.0->ipywidgets>=7.0.0->cufflinks) (1.5.0)\n",
      "Requirement already satisfied: bleach in /Users/eddieguo/opt/anaconda3/lib/python3.9/site-packages (from nbconvert>=5->notebook>=4.4.1->widgetsnbextension~=3.5.0->ipywidgets>=7.0.0->cufflinks) (4.1.0)\n",
      "Requirement already satisfied: jupyterlab-pygments in /Users/eddieguo/opt/anaconda3/lib/python3.9/site-packages (from nbconvert>=5->notebook>=4.4.1->widgetsnbextension~=3.5.0->ipywidgets>=7.0.0->cufflinks) (0.1.2)\n",
      "Requirement already satisfied: MarkupSafe>=0.23 in /Users/eddieguo/opt/anaconda3/lib/python3.9/site-packages (from jinja2->notebook>=4.4.1->widgetsnbextension~=3.5.0->ipywidgets>=7.0.0->cufflinks) (2.0.1)\n",
      "Requirement already satisfied: argon2-cffi-bindings in /Users/eddieguo/opt/anaconda3/lib/python3.9/site-packages (from argon2-cffi->notebook>=4.4.1->widgetsnbextension~=3.5.0->ipywidgets>=7.0.0->cufflinks) (21.2.0)\n",
      "Requirement already satisfied: anyio<4,>=3.1.0 in /Users/eddieguo/opt/anaconda3/lib/python3.9/site-packages (from jupyter-server>=1.8->nbclassic>=0.4.7->notebook>=4.4.1->widgetsnbextension~=3.5.0->ipywidgets>=7.0.0->cufflinks) (3.5.0)\n",
      "Requirement already satisfied: websocket-client in /Users/eddieguo/opt/anaconda3/lib/python3.9/site-packages (from jupyter-server>=1.8->nbclassic>=0.4.7->notebook>=4.4.1->widgetsnbextension~=3.5.0->ipywidgets>=7.0.0->cufflinks) (0.58.0)\n",
      "Requirement already satisfied: cffi>=1.0.1 in /Users/eddieguo/opt/anaconda3/lib/python3.9/site-packages (from argon2-cffi-bindings->argon2-cffi->notebook>=4.4.1->widgetsnbextension~=3.5.0->ipywidgets>=7.0.0->cufflinks) (1.15.1)\n",
      "Requirement already satisfied: soupsieve>1.2 in /Users/eddieguo/opt/anaconda3/lib/python3.9/site-packages (from beautifulsoup4->nbconvert>=5->notebook>=4.4.1->widgetsnbextension~=3.5.0->ipywidgets>=7.0.0->cufflinks) (2.3.2.post1)\n",
      "Requirement already satisfied: webencodings in /Users/eddieguo/opt/anaconda3/lib/python3.9/site-packages (from bleach->nbconvert>=5->notebook>=4.4.1->widgetsnbextension~=3.5.0->ipywidgets>=7.0.0->cufflinks) (0.5.1)\n",
      "Requirement already satisfied: sniffio>=1.1 in /Users/eddieguo/opt/anaconda3/lib/python3.9/site-packages (from anyio<4,>=3.1.0->jupyter-server>=1.8->nbclassic>=0.4.7->notebook>=4.4.1->widgetsnbextension~=3.5.0->ipywidgets>=7.0.0->cufflinks) (1.2.0)\n",
      "Requirement already satisfied: idna>=2.8 in /Users/eddieguo/opt/anaconda3/lib/python3.9/site-packages (from anyio<4,>=3.1.0->jupyter-server>=1.8->nbclassic>=0.4.7->notebook>=4.4.1->widgetsnbextension~=3.5.0->ipywidgets>=7.0.0->cufflinks) (3.4)\n",
      "Requirement already satisfied: pycparser in /Users/eddieguo/opt/anaconda3/lib/python3.9/site-packages (from cffi>=1.0.1->argon2-cffi-bindings->argon2-cffi->notebook>=4.4.1->widgetsnbextension~=3.5.0->ipywidgets>=7.0.0->cufflinks) (2.21)\n",
      "Requirement already satisfied: geopandas in /Users/eddieguo/opt/anaconda3/lib/python3.9/site-packages (0.12.2)\n",
      "Requirement already satisfied: pyproj>=2.6.1.post1 in /Users/eddieguo/opt/anaconda3/lib/python3.9/site-packages (from geopandas) (3.4.1)\n",
      "Requirement already satisfied: packaging in /Users/eddieguo/opt/anaconda3/lib/python3.9/site-packages (from geopandas) (22.0)\n",
      "Requirement already satisfied: pandas>=1.0.0 in /Users/eddieguo/opt/anaconda3/lib/python3.9/site-packages (from geopandas) (1.4.4)\n",
      "Requirement already satisfied: shapely>=1.7 in /Users/eddieguo/opt/anaconda3/lib/python3.9/site-packages (from geopandas) (2.0.1)\n",
      "Requirement already satisfied: fiona>=1.8 in /Users/eddieguo/opt/anaconda3/lib/python3.9/site-packages (from geopandas) (1.9.0)\n",
      "Requirement already satisfied: attrs>=19.2.0 in /Users/eddieguo/opt/anaconda3/lib/python3.9/site-packages (from fiona>=1.8->geopandas) (22.1.0)\n",
      "Requirement already satisfied: certifi in /Users/eddieguo/opt/anaconda3/lib/python3.9/site-packages (from fiona>=1.8->geopandas) (2022.12.7)\n",
      "Requirement already satisfied: click~=8.0 in /Users/eddieguo/opt/anaconda3/lib/python3.9/site-packages (from fiona>=1.8->geopandas) (8.0.4)\n",
      "Requirement already satisfied: munch>=2.3.2 in /Users/eddieguo/opt/anaconda3/lib/python3.9/site-packages (from fiona>=1.8->geopandas) (2.5.0)\n",
      "Requirement already satisfied: click-plugins>=1.0 in /Users/eddieguo/opt/anaconda3/lib/python3.9/site-packages (from fiona>=1.8->geopandas) (1.1.1)\n",
      "Requirement already satisfied: cligj>=0.5 in /Users/eddieguo/opt/anaconda3/lib/python3.9/site-packages (from fiona>=1.8->geopandas) (0.7.2)\n",
      "Requirement already satisfied: python-dateutil>=2.8.1 in /Users/eddieguo/opt/anaconda3/lib/python3.9/site-packages (from pandas>=1.0.0->geopandas) (2.8.2)\n",
      "Requirement already satisfied: pytz>=2020.1 in /Users/eddieguo/opt/anaconda3/lib/python3.9/site-packages (from pandas>=1.0.0->geopandas) (2022.7)\n",
      "Requirement already satisfied: numpy>=1.18.5 in /Users/eddieguo/opt/anaconda3/lib/python3.9/site-packages (from pandas>=1.0.0->geopandas) (1.21.5)\n",
      "Requirement already satisfied: six in /Users/eddieguo/opt/anaconda3/lib/python3.9/site-packages (from munch>=2.3.2->fiona>=1.8->geopandas) (1.16.0)\n"
     ]
    },
    {
     "data": {
      "text/html": [
       "        <script type=\"text/javascript\">\n",
       "        window.PlotlyConfig = {MathJaxConfig: 'local'};\n",
       "        if (window.MathJax && window.MathJax.Hub && window.MathJax.Hub.Config) {window.MathJax.Hub.Config({SVG: {font: \"STIX-Web\"}});}\n",
       "        if (typeof require !== 'undefined') {\n",
       "        require.undef(\"plotly\");\n",
       "        requirejs.config({\n",
       "            paths: {\n",
       "                'plotly': ['https://cdn.plot.ly/plotly-2.12.1.min']\n",
       "            }\n",
       "        });\n",
       "        require(['plotly'], function(Plotly) {\n",
       "            window._Plotly = Plotly;\n",
       "        });\n",
       "        }\n",
       "        </script>\n",
       "        "
      ]
     },
     "metadata": {},
     "output_type": "display_data"
    }
   ],
   "source": [
    "## Install and Import Packages used in this project\n",
    "!pip install wbdata\n",
    "!pip install plotly\n",
    "!pip install cufflinks\n",
    "!pip install geopandas\n",
    "\n",
    "import wbdata\n",
    "import numpy as np\n",
    "import pandas as pd\n",
    "import geopandas as gpd\n",
    "import cufflinks as cf\n",
    "import plotly.offline as py\n",
    "import plotly.graph_objects as go\n",
    "import matplotlib.pyplot as plt\n",
    "cf.go_offline()"
   ]
  },
  {
   "cell_type": "markdown",
   "id": "f08694e2",
   "metadata": {},
   "source": [
    "## Project Deliverables "
   ]
  },
  {
   "cell_type": "markdown",
   "id": "8ba8a2c3",
   "metadata": {},
   "source": [
    "### [#A] Population Statistics\n",
    "A `python` function named population\n",
    "that will deliver information to\n",
    "answer the queries of the following\n",
    "form:\n",
    "> In [year] how many\n",
    "[people/males/females] aged [low] to\n",
    "[high] were living in [the\n",
    "world/region/country]?"
   ]
  },
  {
   "cell_type": "code",
   "execution_count": 2,
   "id": "8c1c89e6",
   "metadata": {},
   "outputs": [],
   "source": [
    "def population_helper(sex, age_range):\n",
    "    \"\"\"Takes\n",
    "    - sex: a string, can be Male, Female or People\n",
    "    - age_range: a tuple\n",
    "    Return a dictionary of indicators with labels\n",
    "    \"\"\"\n",
    "    \n",
    "    # construct a list of age-ranges\n",
    "    age_ranges = []\n",
    "    for i in range(0,80,5):\n",
    "        if i >= age_range[0] and i + 4 <= age_range[1]:\n",
    "            age_ranges.append(f\"{i:02d}\"+f\"{i+4:02d}\")\n",
    "        if (i <= age_range[0] <= i + 4) or (i <= age_range[1] <= i + 4):\n",
    "            age_ranges.append(f\"{i:02d}\"+f\"{i+4:02d}\")\n",
    "    if age_range[1] >= 80:\n",
    "        age_ranges.append(\"80UP\")\n",
    "    \n",
    "    # construct a dictionary of indicators, with labels, that we want to grab\n",
    "    male = {\"SP.POP.\"+age_range+\".MA\":\"Males \"+age_range for age_range in age_ranges}\n",
    "    female = {\"SP.POP.\"+age_range+\".FE\":\"Females \"+age_range for age_range in age_ranges}\n",
    "    combined = {**male, **female}\n",
    "    sex_dict = {'Male':male,'Female':female,'People':combined}\n",
    "    return age_ranges,sex_dict[sex]"
   ]
  },
  {
   "cell_type": "code",
   "execution_count": 3,
   "id": "f485280d",
   "metadata": {},
   "outputs": [],
   "source": [
    "def population(year, sex, age_range, place):\n",
    "    \"\"\" Takes\n",
    "    - year: int\n",
    "    - sex: str, Male/Female/People\n",
    "    - age_range: tuple\n",
    "    - place: str, a three letter code\n",
    "    Return population given conditions above\n",
    "    \"\"\"\n",
    "\n",
    "    # construct a dataframe, indexed by date, with population counts for each indicator, filtered by `place`\n",
    "    variables = population_helper(sex, age_range)[1]\n",
    "    df = wbdata.get_dataframe(variables, country=place)\n",
    "    \n",
    "    # sum all the desired population counts\n",
    "    population_sum = sum(df.filter(items = [str(year)], axis=0).iloc[0])\n",
    "    \n",
    "    print(f\"In {year} there were {population_sum} {sex}s aged {age_range[0]} to {age_range[1]} that were living in {place}.\")\n",
    "    \n",
    "    return population_sum"
   ]
  },
  {
   "cell_type": "markdown",
   "id": "737e9e98",
   "metadata": {},
   "source": [
    "Ex. In 2020, how many females aged 16 to 49 were living in Africa in 2020?"
   ]
  },
  {
   "cell_type": "code",
   "execution_count": 4,
   "id": "5ac8c368",
   "metadata": {},
   "outputs": [
    {
     "name": "stdout",
     "output_type": "stream",
     "text": [
      "In 2020 there were 166394541.0 Females aged 16 to 49 that were living in AFE.\n"
     ]
    }
   ],
   "source": [
    "answer = population(2020, 'Female', (16, 49), 'AFE')"
   ]
  },
  {
   "cell_type": "markdown",
   "id": "5a3adcca",
   "metadata": {},
   "source": [
    "### [#A] Population DataFrames"
   ]
  },
  {
   "cell_type": "markdown",
   "id": "bccfd5da",
   "metadata": {},
   "source": [
    "A function that returns a `pandas` DataFrame\n",
    "indexed by Region or Country and Year, with\n",
    "columns giving counts of people in different\n",
    "age-sex groups."
   ]
  },
  {
   "cell_type": "code",
   "execution_count": 5,
   "id": "808c2c7f",
   "metadata": {},
   "outputs": [],
   "source": [
    "def population_df(region):\n",
    "    \"\"\"Takes in 3 letter country code and returns a pandas DataFrame indexed by region and date, \n",
    "    with columns giving counts of people in different age-sex groups.\"\"\"\n",
    "    \n",
    "    # Get population data for region input\n",
    "    variable_labels = population_helper(sex='People',age_range=(0,100))[1]\n",
    "    df = wbdata.get_dataframe(variable_labels, country = region)\n",
    "    \n",
    "    # Format DF and indices\n",
    "    df.reset_index(inplace = True)\n",
    "    df[\"Region\"] = region\n",
    "    df[\"date\"] = df[\"date\"].astype(int)\n",
    "    df.set_index([\"Region\", \"date\"], inplace = True)\n",
    "    return df"
   ]
  },
  {
   "cell_type": "code",
   "execution_count": 6,
   "id": "efecada1",
   "metadata": {},
   "outputs": [
    {
     "data": {
      "text/html": [
       "<div>\n",
       "<style scoped>\n",
       "    .dataframe tbody tr th:only-of-type {\n",
       "        vertical-align: middle;\n",
       "    }\n",
       "\n",
       "    .dataframe tbody tr th {\n",
       "        vertical-align: top;\n",
       "    }\n",
       "\n",
       "    .dataframe thead th {\n",
       "        text-align: right;\n",
       "    }\n",
       "</style>\n",
       "<table border=\"1\" class=\"dataframe\">\n",
       "  <thead>\n",
       "    <tr style=\"text-align: right;\">\n",
       "      <th></th>\n",
       "      <th></th>\n",
       "      <th>Males 0004</th>\n",
       "      <th>Males 0509</th>\n",
       "      <th>Males 1014</th>\n",
       "      <th>Males 1519</th>\n",
       "      <th>Males 2024</th>\n",
       "      <th>Males 2529</th>\n",
       "      <th>Males 3034</th>\n",
       "      <th>Males 3539</th>\n",
       "      <th>Males 4044</th>\n",
       "      <th>Males 4549</th>\n",
       "      <th>...</th>\n",
       "      <th>Females 3539</th>\n",
       "      <th>Females 4044</th>\n",
       "      <th>Females 4549</th>\n",
       "      <th>Females 5054</th>\n",
       "      <th>Females 5559</th>\n",
       "      <th>Females 6064</th>\n",
       "      <th>Females 6569</th>\n",
       "      <th>Females 7074</th>\n",
       "      <th>Females 7579</th>\n",
       "      <th>Females 80UP</th>\n",
       "    </tr>\n",
       "    <tr>\n",
       "      <th>Region</th>\n",
       "      <th>date</th>\n",
       "      <th></th>\n",
       "      <th></th>\n",
       "      <th></th>\n",
       "      <th></th>\n",
       "      <th></th>\n",
       "      <th></th>\n",
       "      <th></th>\n",
       "      <th></th>\n",
       "      <th></th>\n",
       "      <th></th>\n",
       "      <th></th>\n",
       "      <th></th>\n",
       "      <th></th>\n",
       "      <th></th>\n",
       "      <th></th>\n",
       "      <th></th>\n",
       "      <th></th>\n",
       "      <th></th>\n",
       "      <th></th>\n",
       "      <th></th>\n",
       "      <th></th>\n",
       "    </tr>\n",
       "  </thead>\n",
       "  <tbody>\n",
       "    <tr>\n",
       "      <th rowspan=\"11\" valign=\"top\">AFE</th>\n",
       "      <th>2021</th>\n",
       "      <td>54474934.0</td>\n",
       "      <td>48590005.0</td>\n",
       "      <td>43631748.0</td>\n",
       "      <td>37645093.0</td>\n",
       "      <td>32077598.0</td>\n",
       "      <td>27554198.0</td>\n",
       "      <td>23787250.0</td>\n",
       "      <td>19836395.0</td>\n",
       "      <td>15770587.0</td>\n",
       "      <td>12307798.0</td>\n",
       "      <td>...</td>\n",
       "      <td>20373836.0</td>\n",
       "      <td>16114329.0</td>\n",
       "      <td>12840580.0</td>\n",
       "      <td>10928926.0</td>\n",
       "      <td>8791191.0</td>\n",
       "      <td>6828373.0</td>\n",
       "      <td>5147052.0</td>\n",
       "      <td>3599557.0</td>\n",
       "      <td>2207210.0</td>\n",
       "      <td>1909063.0</td>\n",
       "    </tr>\n",
       "    <tr>\n",
       "      <th>2020</th>\n",
       "      <td>53461851.0</td>\n",
       "      <td>47709312.0</td>\n",
       "      <td>42575598.0</td>\n",
       "      <td>36563052.0</td>\n",
       "      <td>31250943.0</td>\n",
       "      <td>26824252.0</td>\n",
       "      <td>23186536.0</td>\n",
       "      <td>19161081.0</td>\n",
       "      <td>15076634.0</td>\n",
       "      <td>11954285.0</td>\n",
       "      <td>...</td>\n",
       "      <td>19607075.0</td>\n",
       "      <td>15395913.0</td>\n",
       "      <td>12524773.0</td>\n",
       "      <td>10625703.0</td>\n",
       "      <td>8505650.0</td>\n",
       "      <td>6613487.0</td>\n",
       "      <td>5007885.0</td>\n",
       "      <td>3491072.0</td>\n",
       "      <td>2131769.0</td>\n",
       "      <td>1872417.0</td>\n",
       "    </tr>\n",
       "    <tr>\n",
       "      <th>2019</th>\n",
       "      <td>52445829.0</td>\n",
       "      <td>46830488.0</td>\n",
       "      <td>41476275.0</td>\n",
       "      <td>35526881.0</td>\n",
       "      <td>30439607.0</td>\n",
       "      <td>26157013.0</td>\n",
       "      <td>22540445.0</td>\n",
       "      <td>18485600.0</td>\n",
       "      <td>14415738.0</td>\n",
       "      <td>11620415.0</td>\n",
       "      <td>...</td>\n",
       "      <td>18847517.0</td>\n",
       "      <td>14730960.0</td>\n",
       "      <td>12243730.0</td>\n",
       "      <td>10298215.0</td>\n",
       "      <td>8217134.0</td>\n",
       "      <td>6396462.0</td>\n",
       "      <td>4848496.0</td>\n",
       "      <td>3362927.0</td>\n",
       "      <td>2048886.0</td>\n",
       "      <td>1814665.0</td>\n",
       "    </tr>\n",
       "    <tr>\n",
       "      <th>2018</th>\n",
       "      <td>51462324.0</td>\n",
       "      <td>45959995.0</td>\n",
       "      <td>40339961.0</td>\n",
       "      <td>34553287.0</td>\n",
       "      <td>29672727.0</td>\n",
       "      <td>25565705.0</td>\n",
       "      <td>21859093.0</td>\n",
       "      <td>17803395.0</td>\n",
       "      <td>13828439.0</td>\n",
       "      <td>11294381.0</td>\n",
       "      <td>...</td>\n",
       "      <td>18101141.0</td>\n",
       "      <td>14153659.0</td>\n",
       "      <td>11978368.0</td>\n",
       "      <td>9960406.0</td>\n",
       "      <td>7931174.0</td>\n",
       "      <td>6185332.0</td>\n",
       "      <td>4677211.0</td>\n",
       "      <td>3224304.0</td>\n",
       "      <td>1967877.0</td>\n",
       "      <td>1750682.0</td>\n",
       "    </tr>\n",
       "    <tr>\n",
       "      <th>2017</th>\n",
       "      <td>50527950.0</td>\n",
       "      <td>45048010.0</td>\n",
       "      <td>39194652.0</td>\n",
       "      <td>33610378.0</td>\n",
       "      <td>28956812.0</td>\n",
       "      <td>25005637.0</td>\n",
       "      <td>21167835.0</td>\n",
       "      <td>17103010.0</td>\n",
       "      <td>13331062.0</td>\n",
       "      <td>10961721.0</td>\n",
       "      <td>...</td>\n",
       "      <td>17350716.0</td>\n",
       "      <td>13678514.0</td>\n",
       "      <td>11705198.0</td>\n",
       "      <td>9626161.0</td>\n",
       "      <td>7652897.0</td>\n",
       "      <td>5991427.0</td>\n",
       "      <td>4509749.0</td>\n",
       "      <td>3086225.0</td>\n",
       "      <td>1894203.0</td>\n",
       "      <td>1688213.0</td>\n",
       "    </tr>\n",
       "    <tr>\n",
       "      <th>...</th>\n",
       "      <td>...</td>\n",
       "      <td>...</td>\n",
       "      <td>...</td>\n",
       "      <td>...</td>\n",
       "      <td>...</td>\n",
       "      <td>...</td>\n",
       "      <td>...</td>\n",
       "      <td>...</td>\n",
       "      <td>...</td>\n",
       "      <td>...</td>\n",
       "      <td>...</td>\n",
       "      <td>...</td>\n",
       "      <td>...</td>\n",
       "      <td>...</td>\n",
       "      <td>...</td>\n",
       "      <td>...</td>\n",
       "      <td>...</td>\n",
       "      <td>...</td>\n",
       "      <td>...</td>\n",
       "      <td>...</td>\n",
       "      <td>...</td>\n",
       "    </tr>\n",
       "    <tr>\n",
       "      <th>1964</th>\n",
       "      <td>13473056.0</td>\n",
       "      <td>10457881.0</td>\n",
       "      <td>8700624.0</td>\n",
       "      <td>7371925.0</td>\n",
       "      <td>6056915.0</td>\n",
       "      <td>5140702.0</td>\n",
       "      <td>4429617.0</td>\n",
       "      <td>3793506.0</td>\n",
       "      <td>3196747.0</td>\n",
       "      <td>2634712.0</td>\n",
       "      <td>...</td>\n",
       "      <td>3908192.0</td>\n",
       "      <td>3255916.0</td>\n",
       "      <td>2680389.0</td>\n",
       "      <td>2196325.0</td>\n",
       "      <td>1777026.0</td>\n",
       "      <td>1387855.0</td>\n",
       "      <td>1007921.0</td>\n",
       "      <td>672056.0</td>\n",
       "      <td>388984.0</td>\n",
       "      <td>268313.0</td>\n",
       "    </tr>\n",
       "    <tr>\n",
       "      <th>1963</th>\n",
       "      <td>13062183.0</td>\n",
       "      <td>10138780.0</td>\n",
       "      <td>8455835.0</td>\n",
       "      <td>7145770.0</td>\n",
       "      <td>5879098.0</td>\n",
       "      <td>5026028.0</td>\n",
       "      <td>4340514.0</td>\n",
       "      <td>3713247.0</td>\n",
       "      <td>3127933.0</td>\n",
       "      <td>2575964.0</td>\n",
       "      <td>...</td>\n",
       "      <td>3808828.0</td>\n",
       "      <td>3174922.0</td>\n",
       "      <td>2612835.0</td>\n",
       "      <td>2143589.0</td>\n",
       "      <td>1734161.0</td>\n",
       "      <td>1349018.0</td>\n",
       "      <td>983494.0</td>\n",
       "      <td>655650.0</td>\n",
       "      <td>382154.0</td>\n",
       "      <td>263206.0</td>\n",
       "    </tr>\n",
       "    <tr>\n",
       "      <th>1962</th>\n",
       "      <td>12661185.0</td>\n",
       "      <td>9837633.0</td>\n",
       "      <td>8228078.0</td>\n",
       "      <td>6916635.0</td>\n",
       "      <td>5725665.0</td>\n",
       "      <td>4918510.0</td>\n",
       "      <td>4253645.0</td>\n",
       "      <td>3635546.0</td>\n",
       "      <td>3060163.0</td>\n",
       "      <td>2520717.0</td>\n",
       "      <td>...</td>\n",
       "      <td>3714069.0</td>\n",
       "      <td>3095416.0</td>\n",
       "      <td>2550083.0</td>\n",
       "      <td>2092686.0</td>\n",
       "      <td>1693058.0</td>\n",
       "      <td>1311157.0</td>\n",
       "      <td>960546.0</td>\n",
       "      <td>640343.0</td>\n",
       "      <td>375946.0</td>\n",
       "      <td>258394.0</td>\n",
       "    </tr>\n",
       "    <tr>\n",
       "      <th>1961</th>\n",
       "      <td>12271309.0</td>\n",
       "      <td>9547953.0</td>\n",
       "      <td>8020790.0</td>\n",
       "      <td>6684830.0</td>\n",
       "      <td>5586353.0</td>\n",
       "      <td>4814153.0</td>\n",
       "      <td>4166589.0</td>\n",
       "      <td>3558274.0</td>\n",
       "      <td>2992955.0</td>\n",
       "      <td>2465607.0</td>\n",
       "      <td>...</td>\n",
       "      <td>3622726.0</td>\n",
       "      <td>3017904.0</td>\n",
       "      <td>2489122.0</td>\n",
       "      <td>2043161.0</td>\n",
       "      <td>1652159.0</td>\n",
       "      <td>1275145.0</td>\n",
       "      <td>938330.0</td>\n",
       "      <td>626362.0</td>\n",
       "      <td>369833.0</td>\n",
       "      <td>253612.0</td>\n",
       "    </tr>\n",
       "    <tr>\n",
       "      <th>1960</th>\n",
       "      <td>11903046.0</td>\n",
       "      <td>9269956.0</td>\n",
       "      <td>7827606.0</td>\n",
       "      <td>6464521.0</td>\n",
       "      <td>5452406.0</td>\n",
       "      <td>4713060.0</td>\n",
       "      <td>4079665.0</td>\n",
       "      <td>3483816.0</td>\n",
       "      <td>2929035.0</td>\n",
       "      <td>2416431.0</td>\n",
       "      <td>...</td>\n",
       "      <td>3535856.0</td>\n",
       "      <td>2944196.0</td>\n",
       "      <td>2433461.0</td>\n",
       "      <td>1997927.0</td>\n",
       "      <td>1611564.0</td>\n",
       "      <td>1242066.0</td>\n",
       "      <td>916159.0</td>\n",
       "      <td>614569.0</td>\n",
       "      <td>363808.0</td>\n",
       "      <td>248982.0</td>\n",
       "    </tr>\n",
       "  </tbody>\n",
       "</table>\n",
       "<p>62 rows × 34 columns</p>\n",
       "</div>"
      ],
      "text/plain": [
       "             Males 0004  Males 0509  Males 1014  Males 1519  Males 2024  \\\n",
       "Region date                                                               \n",
       "AFE    2021  54474934.0  48590005.0  43631748.0  37645093.0  32077598.0   \n",
       "       2020  53461851.0  47709312.0  42575598.0  36563052.0  31250943.0   \n",
       "       2019  52445829.0  46830488.0  41476275.0  35526881.0  30439607.0   \n",
       "       2018  51462324.0  45959995.0  40339961.0  34553287.0  29672727.0   \n",
       "       2017  50527950.0  45048010.0  39194652.0  33610378.0  28956812.0   \n",
       "...                 ...         ...         ...         ...         ...   \n",
       "       1964  13473056.0  10457881.0   8700624.0   7371925.0   6056915.0   \n",
       "       1963  13062183.0  10138780.0   8455835.0   7145770.0   5879098.0   \n",
       "       1962  12661185.0   9837633.0   8228078.0   6916635.0   5725665.0   \n",
       "       1961  12271309.0   9547953.0   8020790.0   6684830.0   5586353.0   \n",
       "       1960  11903046.0   9269956.0   7827606.0   6464521.0   5452406.0   \n",
       "\n",
       "             Males 2529  Males 3034  Males 3539  Males 4044  Males 4549  ...  \\\n",
       "Region date                                                              ...   \n",
       "AFE    2021  27554198.0  23787250.0  19836395.0  15770587.0  12307798.0  ...   \n",
       "       2020  26824252.0  23186536.0  19161081.0  15076634.0  11954285.0  ...   \n",
       "       2019  26157013.0  22540445.0  18485600.0  14415738.0  11620415.0  ...   \n",
       "       2018  25565705.0  21859093.0  17803395.0  13828439.0  11294381.0  ...   \n",
       "       2017  25005637.0  21167835.0  17103010.0  13331062.0  10961721.0  ...   \n",
       "...                 ...         ...         ...         ...         ...  ...   \n",
       "       1964   5140702.0   4429617.0   3793506.0   3196747.0   2634712.0  ...   \n",
       "       1963   5026028.0   4340514.0   3713247.0   3127933.0   2575964.0  ...   \n",
       "       1962   4918510.0   4253645.0   3635546.0   3060163.0   2520717.0  ...   \n",
       "       1961   4814153.0   4166589.0   3558274.0   2992955.0   2465607.0  ...   \n",
       "       1960   4713060.0   4079665.0   3483816.0   2929035.0   2416431.0  ...   \n",
       "\n",
       "             Females 3539  Females 4044  Females 4549  Females 5054  \\\n",
       "Region date                                                           \n",
       "AFE    2021    20373836.0    16114329.0    12840580.0    10928926.0   \n",
       "       2020    19607075.0    15395913.0    12524773.0    10625703.0   \n",
       "       2019    18847517.0    14730960.0    12243730.0    10298215.0   \n",
       "       2018    18101141.0    14153659.0    11978368.0     9960406.0   \n",
       "       2017    17350716.0    13678514.0    11705198.0     9626161.0   \n",
       "...                   ...           ...           ...           ...   \n",
       "       1964     3908192.0     3255916.0     2680389.0     2196325.0   \n",
       "       1963     3808828.0     3174922.0     2612835.0     2143589.0   \n",
       "       1962     3714069.0     3095416.0     2550083.0     2092686.0   \n",
       "       1961     3622726.0     3017904.0     2489122.0     2043161.0   \n",
       "       1960     3535856.0     2944196.0     2433461.0     1997927.0   \n",
       "\n",
       "             Females 5559  Females 6064  Females 6569  Females 7074  \\\n",
       "Region date                                                           \n",
       "AFE    2021     8791191.0     6828373.0     5147052.0     3599557.0   \n",
       "       2020     8505650.0     6613487.0     5007885.0     3491072.0   \n",
       "       2019     8217134.0     6396462.0     4848496.0     3362927.0   \n",
       "       2018     7931174.0     6185332.0     4677211.0     3224304.0   \n",
       "       2017     7652897.0     5991427.0     4509749.0     3086225.0   \n",
       "...                   ...           ...           ...           ...   \n",
       "       1964     1777026.0     1387855.0     1007921.0      672056.0   \n",
       "       1963     1734161.0     1349018.0      983494.0      655650.0   \n",
       "       1962     1693058.0     1311157.0      960546.0      640343.0   \n",
       "       1961     1652159.0     1275145.0      938330.0      626362.0   \n",
       "       1960     1611564.0     1242066.0      916159.0      614569.0   \n",
       "\n",
       "             Females 7579  Females 80UP  \n",
       "Region date                              \n",
       "AFE    2021     2207210.0     1909063.0  \n",
       "       2020     2131769.0     1872417.0  \n",
       "       2019     2048886.0     1814665.0  \n",
       "       2018     1967877.0     1750682.0  \n",
       "       2017     1894203.0     1688213.0  \n",
       "...                   ...           ...  \n",
       "       1964      388984.0      268313.0  \n",
       "       1963      382154.0      263206.0  \n",
       "       1962      375946.0      258394.0  \n",
       "       1961      369833.0      253612.0  \n",
       "       1960      363808.0      248982.0  \n",
       "\n",
       "[62 rows x 34 columns]"
      ]
     },
     "execution_count": 6,
     "metadata": {},
     "output_type": "execute_result"
    }
   ],
   "source": [
    "## Ex. Population dataframe for Africa\n",
    "pop_df_afe = population_df(\"AFE\")\n",
    "pop_df_afe"
   ]
  },
  {
   "cell_type": "markdown",
   "id": "b81832d9",
   "metadata": {},
   "source": [
    "### [#B] Population Pyramids"
   ]
  },
  {
   "cell_type": "markdown",
   "id": "24555c8c",
   "metadata": {},
   "source": [
    "A `python` function that takes as\n",
    "input a `pandas` DataFrame with\n",
    "columns providing counts of people by\n",
    "age-sex groups, and constructs a\n",
    "“population pyramid” graph for\n",
    "visualizing the data."
   ]
  },
  {
   "cell_type": "code",
   "execution_count": 7,
   "id": "e9ae7fc6",
   "metadata": {},
   "outputs": [],
   "source": [
    "def population_pyramid(df, year):\n",
    "    \"\"\" Takes\n",
    "    `df` a dataframe indexed by region and year, with columns''\n",
    "    `year` an int\n",
    "    \"\"\"\n",
    "    \n",
    "    py.init_notebook_mode(connected=True)\n",
    "    \n",
    "    # reset dataframe index to date/year\n",
    "    df2 = df.reset_index(level='Region', drop=True)\n",
    "    \n",
    "    age_ranges = population_helper('People',(0,100))[0]\n",
    "\n",
    "\n",
    "    layout = go.Layout(yaxis=go.layout.YAxis(range=[0, 90], title='Age'),\n",
    "                       xaxis=go.layout.XAxis(title='Number'),\n",
    "                       title=\"Population Pyramid for Africa in 2020\",\n",
    "                       barmode='overlay',\n",
    "                       bargap=0.0)\n",
    "\n",
    "    data = [go.Bar(y=[int(s[:2])+1 for s in age_ranges],\n",
    "               x=df2.loc[year,:].filter(regex=\"M\").values,\n",
    "               orientation='h',\n",
    "               name='Male',\n",
    "               hoverinfo='x',\n",
    "               marker=dict(color='powderblue')\n",
    "               ),\n",
    "        go.Bar(y=[int(s[:2])+1 for s in age_ranges],\n",
    "               x=-df2.loc[year,:].filter(regex=\"F\").values,\n",
    "               orientation='h',\n",
    "               name='Female',\n",
    "               hoverinfo='x',\n",
    "               marker=dict(color='mediumpurple')\n",
    "               )]\n",
    "    \n",
    "    py.iplot(dict(data=data, layout=layout))\n",
    "    \n",
    "    return data\n"
   ]
  },
  {
   "cell_type": "code",
   "execution_count": 8,
   "id": "1f4787d0",
   "metadata": {},
   "outputs": [
    {
     "data": {
      "text/html": [
       "        <script type=\"text/javascript\">\n",
       "        window.PlotlyConfig = {MathJaxConfig: 'local'};\n",
       "        if (window.MathJax && window.MathJax.Hub && window.MathJax.Hub.Config) {window.MathJax.Hub.Config({SVG: {font: \"STIX-Web\"}});}\n",
       "        if (typeof require !== 'undefined') {\n",
       "        require.undef(\"plotly\");\n",
       "        requirejs.config({\n",
       "            paths: {\n",
       "                'plotly': ['https://cdn.plot.ly/plotly-2.12.1.min']\n",
       "            }\n",
       "        });\n",
       "        require(['plotly'], function(Plotly) {\n",
       "            window._Plotly = Plotly;\n",
       "        });\n",
       "        }\n",
       "        </script>\n",
       "        "
      ]
     },
     "metadata": {},
     "output_type": "display_data"
    },
    {
     "data": {
      "application/vnd.plotly.v1+json": {
       "config": {
        "linkText": "Export to plot.ly",
        "plotlyServerURL": "https://plot.ly",
        "showLink": false
       },
       "data": [
        {
         "hoverinfo": "x",
         "marker": {
          "color": "powderblue"
         },
         "name": "Male",
         "orientation": "h",
         "type": "bar",
         "x": [
          53461851,
          47709312,
          42575598,
          36563052,
          31250943,
          26824252,
          23186536,
          19161081,
          15076634,
          11954285,
          9627875,
          7279339,
          5359947,
          3937852,
          2665421,
          1511511,
          1077480
         ],
         "y": [
          1,
          1,
          6,
          11,
          16,
          21,
          26,
          31,
          36,
          41,
          46,
          51,
          56,
          61,
          66,
          71,
          76,
          81
         ]
        },
        {
         "hoverinfo": "x",
         "marker": {
          "color": "mediumpurple"
         },
         "name": "Female",
         "orientation": "h",
         "type": "bar",
         "x": [
          -52265991,
          -46911818,
          -42069398,
          -36335804,
          -31355868,
          -27330572,
          -23844536,
          -19607075,
          -15395913,
          -12524773,
          -10625703,
          -8505650,
          -6613487,
          -5007885,
          -3491072,
          -2131769,
          -1872417
         ],
         "y": [
          1,
          1,
          6,
          11,
          16,
          21,
          26,
          31,
          36,
          41,
          46,
          51,
          56,
          61,
          66,
          71,
          76,
          81
         ]
        }
       ],
       "layout": {
        "bargap": 0,
        "barmode": "overlay",
        "template": {
         "data": {
          "bar": [
           {
            "error_x": {
             "color": "#2a3f5f"
            },
            "error_y": {
             "color": "#2a3f5f"
            },
            "marker": {
             "line": {
              "color": "#E5ECF6",
              "width": 0.5
             },
             "pattern": {
              "fillmode": "overlay",
              "size": 10,
              "solidity": 0.2
             }
            },
            "type": "bar"
           }
          ],
          "barpolar": [
           {
            "marker": {
             "line": {
              "color": "#E5ECF6",
              "width": 0.5
             },
             "pattern": {
              "fillmode": "overlay",
              "size": 10,
              "solidity": 0.2
             }
            },
            "type": "barpolar"
           }
          ],
          "carpet": [
           {
            "aaxis": {
             "endlinecolor": "#2a3f5f",
             "gridcolor": "white",
             "linecolor": "white",
             "minorgridcolor": "white",
             "startlinecolor": "#2a3f5f"
            },
            "baxis": {
             "endlinecolor": "#2a3f5f",
             "gridcolor": "white",
             "linecolor": "white",
             "minorgridcolor": "white",
             "startlinecolor": "#2a3f5f"
            },
            "type": "carpet"
           }
          ],
          "choropleth": [
           {
            "colorbar": {
             "outlinewidth": 0,
             "ticks": ""
            },
            "type": "choropleth"
           }
          ],
          "contour": [
           {
            "colorbar": {
             "outlinewidth": 0,
             "ticks": ""
            },
            "colorscale": [
             [
              0,
              "#0d0887"
             ],
             [
              0.1111111111111111,
              "#46039f"
             ],
             [
              0.2222222222222222,
              "#7201a8"
             ],
             [
              0.3333333333333333,
              "#9c179e"
             ],
             [
              0.4444444444444444,
              "#bd3786"
             ],
             [
              0.5555555555555556,
              "#d8576b"
             ],
             [
              0.6666666666666666,
              "#ed7953"
             ],
             [
              0.7777777777777778,
              "#fb9f3a"
             ],
             [
              0.8888888888888888,
              "#fdca26"
             ],
             [
              1,
              "#f0f921"
             ]
            ],
            "type": "contour"
           }
          ],
          "contourcarpet": [
           {
            "colorbar": {
             "outlinewidth": 0,
             "ticks": ""
            },
            "type": "contourcarpet"
           }
          ],
          "heatmap": [
           {
            "colorbar": {
             "outlinewidth": 0,
             "ticks": ""
            },
            "colorscale": [
             [
              0,
              "#0d0887"
             ],
             [
              0.1111111111111111,
              "#46039f"
             ],
             [
              0.2222222222222222,
              "#7201a8"
             ],
             [
              0.3333333333333333,
              "#9c179e"
             ],
             [
              0.4444444444444444,
              "#bd3786"
             ],
             [
              0.5555555555555556,
              "#d8576b"
             ],
             [
              0.6666666666666666,
              "#ed7953"
             ],
             [
              0.7777777777777778,
              "#fb9f3a"
             ],
             [
              0.8888888888888888,
              "#fdca26"
             ],
             [
              1,
              "#f0f921"
             ]
            ],
            "type": "heatmap"
           }
          ],
          "heatmapgl": [
           {
            "colorbar": {
             "outlinewidth": 0,
             "ticks": ""
            },
            "colorscale": [
             [
              0,
              "#0d0887"
             ],
             [
              0.1111111111111111,
              "#46039f"
             ],
             [
              0.2222222222222222,
              "#7201a8"
             ],
             [
              0.3333333333333333,
              "#9c179e"
             ],
             [
              0.4444444444444444,
              "#bd3786"
             ],
             [
              0.5555555555555556,
              "#d8576b"
             ],
             [
              0.6666666666666666,
              "#ed7953"
             ],
             [
              0.7777777777777778,
              "#fb9f3a"
             ],
             [
              0.8888888888888888,
              "#fdca26"
             ],
             [
              1,
              "#f0f921"
             ]
            ],
            "type": "heatmapgl"
           }
          ],
          "histogram": [
           {
            "marker": {
             "pattern": {
              "fillmode": "overlay",
              "size": 10,
              "solidity": 0.2
             }
            },
            "type": "histogram"
           }
          ],
          "histogram2d": [
           {
            "colorbar": {
             "outlinewidth": 0,
             "ticks": ""
            },
            "colorscale": [
             [
              0,
              "#0d0887"
             ],
             [
              0.1111111111111111,
              "#46039f"
             ],
             [
              0.2222222222222222,
              "#7201a8"
             ],
             [
              0.3333333333333333,
              "#9c179e"
             ],
             [
              0.4444444444444444,
              "#bd3786"
             ],
             [
              0.5555555555555556,
              "#d8576b"
             ],
             [
              0.6666666666666666,
              "#ed7953"
             ],
             [
              0.7777777777777778,
              "#fb9f3a"
             ],
             [
              0.8888888888888888,
              "#fdca26"
             ],
             [
              1,
              "#f0f921"
             ]
            ],
            "type": "histogram2d"
           }
          ],
          "histogram2dcontour": [
           {
            "colorbar": {
             "outlinewidth": 0,
             "ticks": ""
            },
            "colorscale": [
             [
              0,
              "#0d0887"
             ],
             [
              0.1111111111111111,
              "#46039f"
             ],
             [
              0.2222222222222222,
              "#7201a8"
             ],
             [
              0.3333333333333333,
              "#9c179e"
             ],
             [
              0.4444444444444444,
              "#bd3786"
             ],
             [
              0.5555555555555556,
              "#d8576b"
             ],
             [
              0.6666666666666666,
              "#ed7953"
             ],
             [
              0.7777777777777778,
              "#fb9f3a"
             ],
             [
              0.8888888888888888,
              "#fdca26"
             ],
             [
              1,
              "#f0f921"
             ]
            ],
            "type": "histogram2dcontour"
           }
          ],
          "mesh3d": [
           {
            "colorbar": {
             "outlinewidth": 0,
             "ticks": ""
            },
            "type": "mesh3d"
           }
          ],
          "parcoords": [
           {
            "line": {
             "colorbar": {
              "outlinewidth": 0,
              "ticks": ""
             }
            },
            "type": "parcoords"
           }
          ],
          "pie": [
           {
            "automargin": true,
            "type": "pie"
           }
          ],
          "scatter": [
           {
            "fillpattern": {
             "fillmode": "overlay",
             "size": 10,
             "solidity": 0.2
            },
            "type": "scatter"
           }
          ],
          "scatter3d": [
           {
            "line": {
             "colorbar": {
              "outlinewidth": 0,
              "ticks": ""
             }
            },
            "marker": {
             "colorbar": {
              "outlinewidth": 0,
              "ticks": ""
             }
            },
            "type": "scatter3d"
           }
          ],
          "scattercarpet": [
           {
            "marker": {
             "colorbar": {
              "outlinewidth": 0,
              "ticks": ""
             }
            },
            "type": "scattercarpet"
           }
          ],
          "scattergeo": [
           {
            "marker": {
             "colorbar": {
              "outlinewidth": 0,
              "ticks": ""
             }
            },
            "type": "scattergeo"
           }
          ],
          "scattergl": [
           {
            "marker": {
             "colorbar": {
              "outlinewidth": 0,
              "ticks": ""
             }
            },
            "type": "scattergl"
           }
          ],
          "scattermapbox": [
           {
            "marker": {
             "colorbar": {
              "outlinewidth": 0,
              "ticks": ""
             }
            },
            "type": "scattermapbox"
           }
          ],
          "scatterpolar": [
           {
            "marker": {
             "colorbar": {
              "outlinewidth": 0,
              "ticks": ""
             }
            },
            "type": "scatterpolar"
           }
          ],
          "scatterpolargl": [
           {
            "marker": {
             "colorbar": {
              "outlinewidth": 0,
              "ticks": ""
             }
            },
            "type": "scatterpolargl"
           }
          ],
          "scatterternary": [
           {
            "marker": {
             "colorbar": {
              "outlinewidth": 0,
              "ticks": ""
             }
            },
            "type": "scatterternary"
           }
          ],
          "surface": [
           {
            "colorbar": {
             "outlinewidth": 0,
             "ticks": ""
            },
            "colorscale": [
             [
              0,
              "#0d0887"
             ],
             [
              0.1111111111111111,
              "#46039f"
             ],
             [
              0.2222222222222222,
              "#7201a8"
             ],
             [
              0.3333333333333333,
              "#9c179e"
             ],
             [
              0.4444444444444444,
              "#bd3786"
             ],
             [
              0.5555555555555556,
              "#d8576b"
             ],
             [
              0.6666666666666666,
              "#ed7953"
             ],
             [
              0.7777777777777778,
              "#fb9f3a"
             ],
             [
              0.8888888888888888,
              "#fdca26"
             ],
             [
              1,
              "#f0f921"
             ]
            ],
            "type": "surface"
           }
          ],
          "table": [
           {
            "cells": {
             "fill": {
              "color": "#EBF0F8"
             },
             "line": {
              "color": "white"
             }
            },
            "header": {
             "fill": {
              "color": "#C8D4E3"
             },
             "line": {
              "color": "white"
             }
            },
            "type": "table"
           }
          ]
         },
         "layout": {
          "annotationdefaults": {
           "arrowcolor": "#2a3f5f",
           "arrowhead": 0,
           "arrowwidth": 1
          },
          "autotypenumbers": "strict",
          "coloraxis": {
           "colorbar": {
            "outlinewidth": 0,
            "ticks": ""
           }
          },
          "colorscale": {
           "diverging": [
            [
             0,
             "#8e0152"
            ],
            [
             0.1,
             "#c51b7d"
            ],
            [
             0.2,
             "#de77ae"
            ],
            [
             0.3,
             "#f1b6da"
            ],
            [
             0.4,
             "#fde0ef"
            ],
            [
             0.5,
             "#f7f7f7"
            ],
            [
             0.6,
             "#e6f5d0"
            ],
            [
             0.7,
             "#b8e186"
            ],
            [
             0.8,
             "#7fbc41"
            ],
            [
             0.9,
             "#4d9221"
            ],
            [
             1,
             "#276419"
            ]
           ],
           "sequential": [
            [
             0,
             "#0d0887"
            ],
            [
             0.1111111111111111,
             "#46039f"
            ],
            [
             0.2222222222222222,
             "#7201a8"
            ],
            [
             0.3333333333333333,
             "#9c179e"
            ],
            [
             0.4444444444444444,
             "#bd3786"
            ],
            [
             0.5555555555555556,
             "#d8576b"
            ],
            [
             0.6666666666666666,
             "#ed7953"
            ],
            [
             0.7777777777777778,
             "#fb9f3a"
            ],
            [
             0.8888888888888888,
             "#fdca26"
            ],
            [
             1,
             "#f0f921"
            ]
           ],
           "sequentialminus": [
            [
             0,
             "#0d0887"
            ],
            [
             0.1111111111111111,
             "#46039f"
            ],
            [
             0.2222222222222222,
             "#7201a8"
            ],
            [
             0.3333333333333333,
             "#9c179e"
            ],
            [
             0.4444444444444444,
             "#bd3786"
            ],
            [
             0.5555555555555556,
             "#d8576b"
            ],
            [
             0.6666666666666666,
             "#ed7953"
            ],
            [
             0.7777777777777778,
             "#fb9f3a"
            ],
            [
             0.8888888888888888,
             "#fdca26"
            ],
            [
             1,
             "#f0f921"
            ]
           ]
          },
          "colorway": [
           "#636efa",
           "#EF553B",
           "#00cc96",
           "#ab63fa",
           "#FFA15A",
           "#19d3f3",
           "#FF6692",
           "#B6E880",
           "#FF97FF",
           "#FECB52"
          ],
          "font": {
           "color": "#2a3f5f"
          },
          "geo": {
           "bgcolor": "white",
           "lakecolor": "white",
           "landcolor": "#E5ECF6",
           "showlakes": true,
           "showland": true,
           "subunitcolor": "white"
          },
          "hoverlabel": {
           "align": "left"
          },
          "hovermode": "closest",
          "mapbox": {
           "style": "light"
          },
          "paper_bgcolor": "white",
          "plot_bgcolor": "#E5ECF6",
          "polar": {
           "angularaxis": {
            "gridcolor": "white",
            "linecolor": "white",
            "ticks": ""
           },
           "bgcolor": "#E5ECF6",
           "radialaxis": {
            "gridcolor": "white",
            "linecolor": "white",
            "ticks": ""
           }
          },
          "scene": {
           "xaxis": {
            "backgroundcolor": "#E5ECF6",
            "gridcolor": "white",
            "gridwidth": 2,
            "linecolor": "white",
            "showbackground": true,
            "ticks": "",
            "zerolinecolor": "white"
           },
           "yaxis": {
            "backgroundcolor": "#E5ECF6",
            "gridcolor": "white",
            "gridwidth": 2,
            "linecolor": "white",
            "showbackground": true,
            "ticks": "",
            "zerolinecolor": "white"
           },
           "zaxis": {
            "backgroundcolor": "#E5ECF6",
            "gridcolor": "white",
            "gridwidth": 2,
            "linecolor": "white",
            "showbackground": true,
            "ticks": "",
            "zerolinecolor": "white"
           }
          },
          "shapedefaults": {
           "line": {
            "color": "#2a3f5f"
           }
          },
          "ternary": {
           "aaxis": {
            "gridcolor": "white",
            "linecolor": "white",
            "ticks": ""
           },
           "baxis": {
            "gridcolor": "white",
            "linecolor": "white",
            "ticks": ""
           },
           "bgcolor": "#E5ECF6",
           "caxis": {
            "gridcolor": "white",
            "linecolor": "white",
            "ticks": ""
           }
          },
          "title": {
           "x": 0.05
          },
          "xaxis": {
           "automargin": true,
           "gridcolor": "white",
           "linecolor": "white",
           "ticks": "",
           "title": {
            "standoff": 15
           },
           "zerolinecolor": "white",
           "zerolinewidth": 2
          },
          "yaxis": {
           "automargin": true,
           "gridcolor": "white",
           "linecolor": "white",
           "ticks": "",
           "title": {
            "standoff": 15
           },
           "zerolinecolor": "white",
           "zerolinewidth": 2
          }
         }
        },
        "title": {
         "text": "Population Pyramid for Africa in 2020"
        },
        "xaxis": {
         "title": {
          "text": "Number"
         }
        },
        "yaxis": {
         "range": [
          0,
          90
         ],
         "title": {
          "text": "Age"
         }
        }
       }
      },
      "text/html": [
       "<div>                            <div id=\"6e3acb1d-7a8b-4cdf-91a6-a8558014c119\" class=\"plotly-graph-div\" style=\"height:525px; width:100%;\"></div>            <script type=\"text/javascript\">                require([\"plotly\"], function(Plotly) {                    window.PLOTLYENV=window.PLOTLYENV || {};                                    if (document.getElementById(\"6e3acb1d-7a8b-4cdf-91a6-a8558014c119\")) {                    Plotly.newPlot(                        \"6e3acb1d-7a8b-4cdf-91a6-a8558014c119\",                        [{\"hoverinfo\":\"x\",\"marker\":{\"color\":\"powderblue\"},\"name\":\"Male\",\"orientation\":\"h\",\"x\":[53461851.0,47709312.0,42575598.0,36563052.0,31250943.0,26824252.0,23186536.0,19161081.0,15076634.0,11954285.0,9627875.0,7279339.0,5359947.0,3937852.0,2665421.0,1511511.0,1077480.0],\"y\":[1,1,6,11,16,21,26,31,36,41,46,51,56,61,66,71,76,81],\"type\":\"bar\"},{\"hoverinfo\":\"x\",\"marker\":{\"color\":\"mediumpurple\"},\"name\":\"Female\",\"orientation\":\"h\",\"x\":[-52265991.0,-46911818.0,-42069398.0,-36335804.0,-31355868.0,-27330572.0,-23844536.0,-19607075.0,-15395913.0,-12524773.0,-10625703.0,-8505650.0,-6613487.0,-5007885.0,-3491072.0,-2131769.0,-1872417.0],\"y\":[1,1,6,11,16,21,26,31,36,41,46,51,56,61,66,71,76,81],\"type\":\"bar\"}],                        {\"bargap\":0.0,\"barmode\":\"overlay\",\"template\":{\"data\":{\"barpolar\":[{\"marker\":{\"line\":{\"color\":\"#E5ECF6\",\"width\":0.5},\"pattern\":{\"fillmode\":\"overlay\",\"size\":10,\"solidity\":0.2}},\"type\":\"barpolar\"}],\"bar\":[{\"error_x\":{\"color\":\"#2a3f5f\"},\"error_y\":{\"color\":\"#2a3f5f\"},\"marker\":{\"line\":{\"color\":\"#E5ECF6\",\"width\":0.5},\"pattern\":{\"fillmode\":\"overlay\",\"size\":10,\"solidity\":0.2}},\"type\":\"bar\"}],\"carpet\":[{\"aaxis\":{\"endlinecolor\":\"#2a3f5f\",\"gridcolor\":\"white\",\"linecolor\":\"white\",\"minorgridcolor\":\"white\",\"startlinecolor\":\"#2a3f5f\"},\"baxis\":{\"endlinecolor\":\"#2a3f5f\",\"gridcolor\":\"white\",\"linecolor\":\"white\",\"minorgridcolor\":\"white\",\"startlinecolor\":\"#2a3f5f\"},\"type\":\"carpet\"}],\"choropleth\":[{\"colorbar\":{\"outlinewidth\":0,\"ticks\":\"\"},\"type\":\"choropleth\"}],\"contourcarpet\":[{\"colorbar\":{\"outlinewidth\":0,\"ticks\":\"\"},\"type\":\"contourcarpet\"}],\"contour\":[{\"colorbar\":{\"outlinewidth\":0,\"ticks\":\"\"},\"colorscale\":[[0.0,\"#0d0887\"],[0.1111111111111111,\"#46039f\"],[0.2222222222222222,\"#7201a8\"],[0.3333333333333333,\"#9c179e\"],[0.4444444444444444,\"#bd3786\"],[0.5555555555555556,\"#d8576b\"],[0.6666666666666666,\"#ed7953\"],[0.7777777777777778,\"#fb9f3a\"],[0.8888888888888888,\"#fdca26\"],[1.0,\"#f0f921\"]],\"type\":\"contour\"}],\"heatmapgl\":[{\"colorbar\":{\"outlinewidth\":0,\"ticks\":\"\"},\"colorscale\":[[0.0,\"#0d0887\"],[0.1111111111111111,\"#46039f\"],[0.2222222222222222,\"#7201a8\"],[0.3333333333333333,\"#9c179e\"],[0.4444444444444444,\"#bd3786\"],[0.5555555555555556,\"#d8576b\"],[0.6666666666666666,\"#ed7953\"],[0.7777777777777778,\"#fb9f3a\"],[0.8888888888888888,\"#fdca26\"],[1.0,\"#f0f921\"]],\"type\":\"heatmapgl\"}],\"heatmap\":[{\"colorbar\":{\"outlinewidth\":0,\"ticks\":\"\"},\"colorscale\":[[0.0,\"#0d0887\"],[0.1111111111111111,\"#46039f\"],[0.2222222222222222,\"#7201a8\"],[0.3333333333333333,\"#9c179e\"],[0.4444444444444444,\"#bd3786\"],[0.5555555555555556,\"#d8576b\"],[0.6666666666666666,\"#ed7953\"],[0.7777777777777778,\"#fb9f3a\"],[0.8888888888888888,\"#fdca26\"],[1.0,\"#f0f921\"]],\"type\":\"heatmap\"}],\"histogram2dcontour\":[{\"colorbar\":{\"outlinewidth\":0,\"ticks\":\"\"},\"colorscale\":[[0.0,\"#0d0887\"],[0.1111111111111111,\"#46039f\"],[0.2222222222222222,\"#7201a8\"],[0.3333333333333333,\"#9c179e\"],[0.4444444444444444,\"#bd3786\"],[0.5555555555555556,\"#d8576b\"],[0.6666666666666666,\"#ed7953\"],[0.7777777777777778,\"#fb9f3a\"],[0.8888888888888888,\"#fdca26\"],[1.0,\"#f0f921\"]],\"type\":\"histogram2dcontour\"}],\"histogram2d\":[{\"colorbar\":{\"outlinewidth\":0,\"ticks\":\"\"},\"colorscale\":[[0.0,\"#0d0887\"],[0.1111111111111111,\"#46039f\"],[0.2222222222222222,\"#7201a8\"],[0.3333333333333333,\"#9c179e\"],[0.4444444444444444,\"#bd3786\"],[0.5555555555555556,\"#d8576b\"],[0.6666666666666666,\"#ed7953\"],[0.7777777777777778,\"#fb9f3a\"],[0.8888888888888888,\"#fdca26\"],[1.0,\"#f0f921\"]],\"type\":\"histogram2d\"}],\"histogram\":[{\"marker\":{\"pattern\":{\"fillmode\":\"overlay\",\"size\":10,\"solidity\":0.2}},\"type\":\"histogram\"}],\"mesh3d\":[{\"colorbar\":{\"outlinewidth\":0,\"ticks\":\"\"},\"type\":\"mesh3d\"}],\"parcoords\":[{\"line\":{\"colorbar\":{\"outlinewidth\":0,\"ticks\":\"\"}},\"type\":\"parcoords\"}],\"pie\":[{\"automargin\":true,\"type\":\"pie\"}],\"scatter3d\":[{\"line\":{\"colorbar\":{\"outlinewidth\":0,\"ticks\":\"\"}},\"marker\":{\"colorbar\":{\"outlinewidth\":0,\"ticks\":\"\"}},\"type\":\"scatter3d\"}],\"scattercarpet\":[{\"marker\":{\"colorbar\":{\"outlinewidth\":0,\"ticks\":\"\"}},\"type\":\"scattercarpet\"}],\"scattergeo\":[{\"marker\":{\"colorbar\":{\"outlinewidth\":0,\"ticks\":\"\"}},\"type\":\"scattergeo\"}],\"scattergl\":[{\"marker\":{\"colorbar\":{\"outlinewidth\":0,\"ticks\":\"\"}},\"type\":\"scattergl\"}],\"scattermapbox\":[{\"marker\":{\"colorbar\":{\"outlinewidth\":0,\"ticks\":\"\"}},\"type\":\"scattermapbox\"}],\"scatterpolargl\":[{\"marker\":{\"colorbar\":{\"outlinewidth\":0,\"ticks\":\"\"}},\"type\":\"scatterpolargl\"}],\"scatterpolar\":[{\"marker\":{\"colorbar\":{\"outlinewidth\":0,\"ticks\":\"\"}},\"type\":\"scatterpolar\"}],\"scatter\":[{\"fillpattern\":{\"fillmode\":\"overlay\",\"size\":10,\"solidity\":0.2},\"type\":\"scatter\"}],\"scatterternary\":[{\"marker\":{\"colorbar\":{\"outlinewidth\":0,\"ticks\":\"\"}},\"type\":\"scatterternary\"}],\"surface\":[{\"colorbar\":{\"outlinewidth\":0,\"ticks\":\"\"},\"colorscale\":[[0.0,\"#0d0887\"],[0.1111111111111111,\"#46039f\"],[0.2222222222222222,\"#7201a8\"],[0.3333333333333333,\"#9c179e\"],[0.4444444444444444,\"#bd3786\"],[0.5555555555555556,\"#d8576b\"],[0.6666666666666666,\"#ed7953\"],[0.7777777777777778,\"#fb9f3a\"],[0.8888888888888888,\"#fdca26\"],[1.0,\"#f0f921\"]],\"type\":\"surface\"}],\"table\":[{\"cells\":{\"fill\":{\"color\":\"#EBF0F8\"},\"line\":{\"color\":\"white\"}},\"header\":{\"fill\":{\"color\":\"#C8D4E3\"},\"line\":{\"color\":\"white\"}},\"type\":\"table\"}]},\"layout\":{\"annotationdefaults\":{\"arrowcolor\":\"#2a3f5f\",\"arrowhead\":0,\"arrowwidth\":1},\"autotypenumbers\":\"strict\",\"coloraxis\":{\"colorbar\":{\"outlinewidth\":0,\"ticks\":\"\"}},\"colorscale\":{\"diverging\":[[0,\"#8e0152\"],[0.1,\"#c51b7d\"],[0.2,\"#de77ae\"],[0.3,\"#f1b6da\"],[0.4,\"#fde0ef\"],[0.5,\"#f7f7f7\"],[0.6,\"#e6f5d0\"],[0.7,\"#b8e186\"],[0.8,\"#7fbc41\"],[0.9,\"#4d9221\"],[1,\"#276419\"]],\"sequential\":[[0.0,\"#0d0887\"],[0.1111111111111111,\"#46039f\"],[0.2222222222222222,\"#7201a8\"],[0.3333333333333333,\"#9c179e\"],[0.4444444444444444,\"#bd3786\"],[0.5555555555555556,\"#d8576b\"],[0.6666666666666666,\"#ed7953\"],[0.7777777777777778,\"#fb9f3a\"],[0.8888888888888888,\"#fdca26\"],[1.0,\"#f0f921\"]],\"sequentialminus\":[[0.0,\"#0d0887\"],[0.1111111111111111,\"#46039f\"],[0.2222222222222222,\"#7201a8\"],[0.3333333333333333,\"#9c179e\"],[0.4444444444444444,\"#bd3786\"],[0.5555555555555556,\"#d8576b\"],[0.6666666666666666,\"#ed7953\"],[0.7777777777777778,\"#fb9f3a\"],[0.8888888888888888,\"#fdca26\"],[1.0,\"#f0f921\"]]},\"colorway\":[\"#636efa\",\"#EF553B\",\"#00cc96\",\"#ab63fa\",\"#FFA15A\",\"#19d3f3\",\"#FF6692\",\"#B6E880\",\"#FF97FF\",\"#FECB52\"],\"font\":{\"color\":\"#2a3f5f\"},\"geo\":{\"bgcolor\":\"white\",\"lakecolor\":\"white\",\"landcolor\":\"#E5ECF6\",\"showlakes\":true,\"showland\":true,\"subunitcolor\":\"white\"},\"hoverlabel\":{\"align\":\"left\"},\"hovermode\":\"closest\",\"mapbox\":{\"style\":\"light\"},\"paper_bgcolor\":\"white\",\"plot_bgcolor\":\"#E5ECF6\",\"polar\":{\"angularaxis\":{\"gridcolor\":\"white\",\"linecolor\":\"white\",\"ticks\":\"\"},\"bgcolor\":\"#E5ECF6\",\"radialaxis\":{\"gridcolor\":\"white\",\"linecolor\":\"white\",\"ticks\":\"\"}},\"scene\":{\"xaxis\":{\"backgroundcolor\":\"#E5ECF6\",\"gridcolor\":\"white\",\"gridwidth\":2,\"linecolor\":\"white\",\"showbackground\":true,\"ticks\":\"\",\"zerolinecolor\":\"white\"},\"yaxis\":{\"backgroundcolor\":\"#E5ECF6\",\"gridcolor\":\"white\",\"gridwidth\":2,\"linecolor\":\"white\",\"showbackground\":true,\"ticks\":\"\",\"zerolinecolor\":\"white\"},\"zaxis\":{\"backgroundcolor\":\"#E5ECF6\",\"gridcolor\":\"white\",\"gridwidth\":2,\"linecolor\":\"white\",\"showbackground\":true,\"ticks\":\"\",\"zerolinecolor\":\"white\"}},\"shapedefaults\":{\"line\":{\"color\":\"#2a3f5f\"}},\"ternary\":{\"aaxis\":{\"gridcolor\":\"white\",\"linecolor\":\"white\",\"ticks\":\"\"},\"baxis\":{\"gridcolor\":\"white\",\"linecolor\":\"white\",\"ticks\":\"\"},\"bgcolor\":\"#E5ECF6\",\"caxis\":{\"gridcolor\":\"white\",\"linecolor\":\"white\",\"ticks\":\"\"}},\"title\":{\"x\":0.05},\"xaxis\":{\"automargin\":true,\"gridcolor\":\"white\",\"linecolor\":\"white\",\"ticks\":\"\",\"title\":{\"standoff\":15},\"zerolinecolor\":\"white\",\"zerolinewidth\":2},\"yaxis\":{\"automargin\":true,\"gridcolor\":\"white\",\"linecolor\":\"white\",\"ticks\":\"\",\"title\":{\"standoff\":15},\"zerolinecolor\":\"white\",\"zerolinewidth\":2}}},\"title\":{\"text\":\"Population Pyramid for Africa in 2020\"},\"xaxis\":{\"title\":{\"text\":\"Number\"}},\"yaxis\":{\"range\":[0,90],\"title\":{\"text\":\"Age\"}}},                        {\"responsive\": true}                    ).then(function(){\n",
       "                            \n",
       "var gd = document.getElementById('6e3acb1d-7a8b-4cdf-91a6-a8558014c119');\n",
       "var x = new MutationObserver(function (mutations, observer) {{\n",
       "        var display = window.getComputedStyle(gd).display;\n",
       "        if (!display || display === 'none') {{\n",
       "            console.log([gd, 'removed!']);\n",
       "            Plotly.purge(gd);\n",
       "            observer.disconnect();\n",
       "        }}\n",
       "}});\n",
       "\n",
       "// Listen for the removal of the full notebook cells\n",
       "var notebookContainer = gd.closest('#notebook-container');\n",
       "if (notebookContainer) {{\n",
       "    x.observe(notebookContainer, {childList: true});\n",
       "}}\n",
       "\n",
       "// Listen for the clearing of the current output cell\n",
       "var outputEl = gd.closest('.output');\n",
       "if (outputEl) {{\n",
       "    x.observe(outputEl, {childList: true});\n",
       "}}\n",
       "\n",
       "                        })                };                });            </script>        </div>"
      ]
     },
     "metadata": {},
     "output_type": "display_data"
    }
   ],
   "source": [
    "## Ex. Population pyramid for Africa in 2020\n",
    "pop_pyramid_afe_data = population_pyramid(pop_df_afe, 2020)"
   ]
  },
  {
   "cell_type": "markdown",
   "id": "4580c455",
   "metadata": {},
   "source": [
    "### [#C] Animated Population Pyramids "
   ]
  },
  {
   "cell_type": "markdown",
   "id": "c88a7422",
   "metadata": {},
   "source": [
    "Expected: A `python` function that takes as\n",
    "input a `pandas` DataFrame with\n",
    "columns providing counts of people by\n",
    "age-sex groups, with rows\n",
    "corresponding to different years, and\n",
    "constructs an animated “population\n",
    "pyramid” graph for visualizing how the\n",
    "population changes over time.\n",
    "\n",
    "Actual: A demo of an animated population pyramid"
   ]
  },
  {
   "cell_type": "code",
   "execution_count": null,
   "id": "2b7c55d9",
   "metadata": {},
   "outputs": [],
   "source": [
    "# Get Afircan Population Dataframe\n",
    "age_ranges,variables = population_helper(sex='People',age_range=(0,100))\n",
    "df = wbdata.get_dataframe(variables, country=\"AFE\", cache = False)\n",
    "df"
   ]
  },
  {
   "cell_type": "code",
   "execution_count": null,
   "id": "d5d5068c",
   "metadata": {},
   "outputs": [],
   "source": [
    "# Create initial pyramid\n",
    "year = 1960\n",
    "data = [go.Bar(x = df.loc[str(year),:].filter(regex=\"Male\").values,\n",
    "           y = [int(s[:2])+1 for s in age_ranges],\n",
    "           orientation='h',\n",
    "           name='Men',\n",
    "           marker=dict(color='green'),\n",
    "           hoverinfo='skip'\n",
    "           ),\n",
    "    go.Bar(x = -df.loc[str(year),:].filter(regex=\"Female\").values,\n",
    "           y=[int(s[:2])+1 for s in age_ranges],\n",
    "           orientation='h',\n",
    "           name='Women',\n",
    "           marker=dict(color='pink'),\n",
    "           hoverinfo='skip',\n",
    "           )\n",
    "    ]\n"
   ]
  },
  {
   "cell_type": "code",
   "execution_count": null,
   "id": "134d3c36",
   "metadata": {},
   "outputs": [],
   "source": [
    "# create a layout with our title \n",
    "layout = go.Layout(barmode='overlay',\n",
    "               yaxis=go.layout.YAxis(range=[0, 90], title='Age'),\n",
    "               xaxis=go.layout.XAxis(title='Number'))"
   ]
  },
  {
   "cell_type": "code",
   "execution_count": null,
   "id": "349498c4",
   "metadata": {},
   "outputs": [],
   "source": [
    "# combine the graph_objects into a figure\n",
    "fig = go.Figure(data=data)\n",
    "fig.update_layout(\n",
    "    template='plotly_white',\n",
    "    title = 'Population Pyramid for Africa',\n",
    "    barmode = 'relative',\n",
    "    bargap = 0.0,\n",
    "    bargroupgap = 0\n",
    ")\n",
    "\n",
    "# to see what we have so far\n",
    "fig.show()"
   ]
  },
  {
   "cell_type": "code",
   "execution_count": null,
   "id": "75332280",
   "metadata": {},
   "outputs": [],
   "source": [
    "# create a list of frames\n",
    "frames = []\n",
    "\n",
    "# create a frame for every line y\n",
    "for year in df.index.sort_values():\n",
    "    bins = [go.Bar(x = df.loc[str(year),:].filter(regex=\"Male\").values,\n",
    "               y = [int(s[:2])+1 for s in age_ranges],\n",
    "               orientation='h',\n",
    "               name='Men',\n",
    "               marker=dict(color='green'),\n",
    "               hoverinfo='skip'\n",
    "               ),\n",
    "        go.Bar(x = -df.loc[str(year),:].filter(regex=\"Female\").values,\n",
    "               y=[int(s[:2])+1 for s in age_ranges],\n",
    "               orientation='h',\n",
    "               name='Women',\n",
    "               marker=dict(color='pink'),\n",
    "               hoverinfo='skip',\n",
    "               )\n",
    "        ]\n",
    "    \n",
    "    # create the button\n",
    "    button = {\n",
    "        \"type\": \"buttons\",\n",
    "        \"buttons\": [\n",
    "            {\n",
    "                \"label\": \"Play\",\n",
    "                \"method\": \"animate\",\n",
    "                \"args\": [None, {\"frame\": {\"duration\": 60}}],\n",
    "            }\n",
    "        ],\n",
    "    }\n",
    "    \n",
    "    # add the button to the layout and update the \n",
    "    # title to show the gradient descent step\n",
    "    layout = go.Layout(updatemenus=[button], \n",
    "                       title_text=f\"Population Pyramid for {year}\")\n",
    "    \n",
    "    # create a frame object\n",
    "    frame = go.Frame(\n",
    "        data= bins, \n",
    "        layout=go.Layout(title_text=f\"Population Pyramid for {year}\")\n",
    "    )\n",
    "    \n",
    "    # add the frame object to the frames list\n",
    "    frames.append(frame)"
   ]
  },
  {
   "cell_type": "code",
   "execution_count": null,
   "id": "49f3f1ee",
   "metadata": {},
   "outputs": [],
   "source": [
    "# combine the graph_objects into a figure\n",
    "fig = go.Figure(data=data,\n",
    "                frames=frames,\n",
    "                layout = layout)\n",
    "\n",
    "fig.update_layout(\n",
    "    template='plotly_white',\n",
    "    title = 'Animated Population Pyramid for Africa',\n",
    "    barmode = 'relative',\n",
    "    bargap = 0.0,\n",
    "    bargroupgap = 0\n",
    ")\n",
    "\n",
    "# show our animation!\n",
    "fig.show()"
   ]
  },
  {
   "cell_type": "markdown",
   "id": "140c7260",
   "metadata": {},
   "source": [
    "### [#C] Population Maps\n",
    "\n",
    "A Jupyter notebook which queries a population database and provides visualizations in the form of maps. An example of a library that may be useful is [geopandas](https://geopandas.org/en/stable/)."
   ]
  },
  {
   "cell_type": "code",
   "execution_count": null,
   "id": "04af9329",
   "metadata": {},
   "outputs": [],
   "source": [
    "def plot_map(variable):\n",
    "    # Read Shapefile of Africa Boundaries\n",
    "    fp = \"Africa_Boundaries/Africa_Boundaries.shp\"\n",
    "    map_df = gpd.read_file(fp)\n",
    "    \n",
    "    # Get most recent data on population or GDP per capita, and merge with geographical locations\n",
    "    variable_labels = {\"Population\":{\"SP.POP.TOTL\":\"Population\"},\n",
    "                       \"GDP Per Capita\":{\"NY.GDP.PCAP.CD\":\"GDP per capita\"}}\n",
    "    african_countries_code = list(map_df['ISO'])\n",
    "    all_countries_code = list(pd.DataFrame(wbdata.get_country())['id'])\n",
    "    intersection = list(set(african_countries_code) & set(all_countries_code))\n",
    "    africa = wbdata.get_dataframe(variable_labels[variable], country = intersection).squeeze().unstack('country')\n",
    "    africa = africa.loc[['2021']].T.reset_index()\n",
    "    africa = africa.merge(pd.DataFrame(wbdata.get_country()),how='left',left_on='country',right_on='name')\n",
    "    africa = africa[['country','2021','id']]\n",
    "    merged = map_df.merge(africa,how='left',left_on='ISO',right_on='id')\n",
    "    merged.dropna(subset=['2021'],inplace=True)\n",
    "    \n",
    "    # Plot Map\n",
    "    merged['coords'] = merged['geometry'].apply(lambda x: x.representative_point().coords[:])\n",
    "    merged['coords'] = [coords[0] for coords in merged['coords']]\n",
    "    fig, ax = plt.subplots(figsize = (30,30))\n",
    "    ax.set_title(variable+' Distribution Map', fontdict={'fontsize': '30', 'fontweight' : '3'})\n",
    "    merged.plot(column='2021', ax=ax, cmap='OrRd', legend=True)\n",
    "    for idx, row in merged.iterrows():\n",
    "        plt.annotate(text=row['id'], xy=row['coords'],horizontalalignment='center',size=15)"
   ]
  },
  {
   "cell_type": "code",
   "execution_count": null,
   "id": "b3f8ca23",
   "metadata": {},
   "outputs": [],
   "source": [
    "# Plot population distribution map\n",
    "plot_map('Population')"
   ]
  },
  {
   "cell_type": "code",
   "execution_count": null,
   "id": "edc51597",
   "metadata": {},
   "outputs": [],
   "source": [
    "# Plot population distribution map\n",
    "plot_map('GDP Per Capita')"
   ]
  },
  {
   "cell_type": "markdown",
   "id": "cb506058",
   "metadata": {},
   "source": [
    "### [#C] Agricultural Supply"
   ]
  },
  {
   "cell_type": "code",
   "execution_count": null,
   "id": "0f8b65f3",
   "metadata": {},
   "outputs": [],
   "source": [
    "pd.options.plotting.backend = \"plotly\"\n",
    "\n",
    "def pop_plt(indicators, countries):\n",
    "    \"\"\" Function that takes in a list of countries,\n",
    "    a population indicator, and outputs a line plot of population growth. \"\"\"\n",
    "    \n",
    "    # Get indicators and country data of interest\n",
    "    data = wbdata.get_dataframe(indicators, country = countries)\n",
    "    \n",
    "    # Query year of interest\n",
    "    data.reset_index(inplace=True)\n",
    "    data['date'] = data['date'].astype(int)\n",
    "    data.set_index(['country'],inplace=True)\n",
    "    \n",
    "    # Make scatterplot\n",
    "    plot = data.plot.line(\n",
    "        x= \"date\",\n",
    "        y= \"Population\",\n",
    "        color = data.index,\n",
    "        title = \"Population of African Countries 1960-2020\")\n",
    "    return plot\n",
    "\n",
    "population_var = {\"SP.POP.TOTL\":\"Population\"}\n",
    "regions = [\"GAB\", \"LBY\", \"ZAF\", \"TCD\", \"NGA\"]\n",
    "\n",
    "pop_plt(population_var,regions)"
   ]
  },
  {
   "cell_type": "code",
   "execution_count": null,
   "id": "779ea5a2",
   "metadata": {},
   "outputs": [],
   "source": [
    "import_export_var = {\n",
    "    \"TM.VAL.AGRI.ZS.UN\":\"Agricultural imports\",\n",
    "    \"TX.VAL.AGRI.ZS.UN\":\"Agricultural exports\"\n",
    "    }"
   ]
  },
  {
   "cell_type": "code",
   "execution_count": null,
   "id": "13c7d0b3",
   "metadata": {},
   "outputs": [],
   "source": [
    "def imp_plt(indicators, countries):\n",
    "    \"\"\" Function that takes in a list of countries,\n",
    "    a population indicator, and outputs a line plot of import growth. \"\"\"\n",
    "    \n",
    "    # Get indicators and country data of interest\n",
    "    data = wbdata.get_dataframe(indicators, country = countries).dropna()\n",
    "    \n",
    "    # Query year of interest\n",
    "    data.reset_index(inplace=True)\n",
    "    data['date'] = data['date'].astype(int)\n",
    "    data.set_index(['country'],inplace=True)\n",
    "    \n",
    "    # Make scatterplot\n",
    "    plot_i = data.plot.line(\n",
    "        x= \"date\",\n",
    "        y= \"Agricultural imports\",\n",
    "        color = data.index,\n",
    "        title = \"Africa Agricultural raw materials imports (% of merchandise imports)\")\n",
    "    return plot_i\n",
    "\n",
    "imp_plt(import_export_var, regions)"
   ]
  },
  {
   "cell_type": "code",
   "execution_count": null,
   "id": "b4115697",
   "metadata": {},
   "outputs": [],
   "source": [
    "def exp_plt(indicators, countries):\n",
    "    \"\"\" Function that takes in a list of regions,\n",
    "    a population indicator, and outputs a line plot of export growth. \"\"\"\n",
    "    \n",
    "    # Get indicators and country data of interest\n",
    "    data = wbdata.get_dataframe(indicators, country = countries)\n",
    "    \n",
    "    # Query year of interest\n",
    "    data.reset_index(inplace=True)\n",
    "    data['date'] = data['date'].astype(int)\n",
    "    data.set_index(['country'],inplace=True)\n",
    "    \n",
    "    # Make scatterplot\n",
    "    plot_e = data.plot.line(\n",
    "        x= \"date\",\n",
    "        y= \"Agricultural exports\",\n",
    "        color = data.index,\n",
    "        title = \"Africa Agricultural raw materials exports (% of merchandise imports)\")\n",
    "    return plot_e\n",
    "\n",
    "exp_plt(import_export_var, regions)"
   ]
  },
  {
   "cell_type": "code",
   "execution_count": null,
   "id": "4941b30a",
   "metadata": {},
   "outputs": [],
   "source": [
    "gdp_vars = {\"NY.GDP.PCAP.CD\":\"GDP per capita\"}\n",
    "def gdp_plt(indicators, countries):\n",
    "    \"\"\" Function that takes in a list of countries,\n",
    "    a population indicator, and outputs a line plot of GDP per capita. \"\"\"\n",
    "    \n",
    "    # Get indicators and country data of interest\n",
    "    data = wbdata.get_dataframe(indicators, country = countries).dropna()\n",
    "    \n",
    "    # Query year of interest\n",
    "    data.reset_index(inplace=True)\n",
    "    data['date'] = data['date'].astype(int)\n",
    "    data.set_index(['country'],inplace=True)\n",
    "    \n",
    "    # Make scatterplot\n",
    "    plot_g = data.plot.line(\n",
    "        x= \"date\",\n",
    "        y= \"GDP per capita\",\n",
    "        color = data.index,\n",
    "        title = \"African GDP per capita 1960-2020\"\n",
    "    )\n",
    "    return plot_g\n",
    "\n",
    "gdp_plt(gdp_vars, regions)"
   ]
  }
 ],
 "metadata": {
  "kernelspec": {
   "display_name": "Python 3 (ipykernel)",
   "language": "python",
   "name": "python3"
  },
  "language_info": {
   "codemirror_mode": {
    "name": "ipython",
    "version": 3
   },
   "file_extension": ".py",
   "mimetype": "text/x-python",
   "name": "python",
   "nbconvert_exporter": "python",
   "pygments_lexer": "ipython3",
   "version": "3.9.12"
  }
 },
 "nbformat": 4,
 "nbformat_minor": 5
}
